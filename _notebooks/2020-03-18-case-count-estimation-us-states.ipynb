{
 "cells": [
  {
   "cell_type": "markdown",
   "metadata": {
    "papermill": {
     "duration": 0.015431,
     "end_time": "2020-05-25T12:15:49.173306",
     "exception": false,
     "start_time": "2020-05-25T12:15:49.157875",
     "status": "completed"
    },
    "tags": []
   },
   "source": [
    "# How many cases of COVID-19 does each U.S. state really have?\n",
    "> Reported U.S. case counts are based on the number of administered tests. Since not everyone is tested, this number is biased. We use Bayesian techniques to estimate the true number of cases.\n",
    "\n",
    "- author: Joseph Richards\n",
    "- image: images/covid-state-case-estimation.png\n",
    "- hide: false\n",
    "- comments: true\n",
    "- categories: [MCMC, US, states, cases]\n",
    "- permalink: /covid-19-us-case-estimation/\n",
    "- toc: false"
   ]
  },
  {
   "cell_type": "markdown",
   "metadata": {
    "papermill": {
     "duration": 0.009001,
     "end_time": "2020-05-25T12:15:49.192739",
     "exception": false,
     "start_time": "2020-05-25T12:15:49.183738",
     "status": "completed"
    },
    "tags": []
   },
   "source": [
    "> Note: This dashboard contains the results of a predictive model. The author has tried to make it as accurate as possible. But the COVID-19 situation is changing quickly, and these models inevitably include some level of speculation."
   ]
  },
  {
   "cell_type": "code",
   "execution_count": 1,
   "metadata": {
    "execution": {
     "iopub.execute_input": "2020-05-25T12:15:49.217190Z",
     "iopub.status.busy": "2020-05-25T12:15:49.216595Z",
     "iopub.status.idle": "2020-05-25T12:15:50.732425Z",
     "shell.execute_reply": "2020-05-25T12:15:50.731915Z"
    },
    "papermill": {
     "duration": 1.531242,
     "end_time": "2020-05-25T12:15:50.732554",
     "exception": false,
     "start_time": "2020-05-25T12:15:49.201312",
     "status": "completed"
    },
    "tags": []
   },
   "outputs": [
    {
     "name": "stderr",
     "output_type": "stream",
     "text": [
      "WARNING (theano.tensor.blas): Using NumPy C-API based implementation for BLAS functions.\n"
     ]
    }
   ],
   "source": [
    "#hide\n",
    "\n",
    "# Setup and imports\n",
    "%matplotlib inline\n",
    "\n",
    "import warnings\n",
    "warnings.simplefilter('ignore')\n",
    "\n",
    "import matplotlib.pyplot as plt\n",
    "import numpy as np\n",
    "import pandas as pd\n",
    "import pymc3 as pm\n",
    "import requests\n",
    "\n",
    "from IPython.display import display, Markdown"
   ]
  },
  {
   "cell_type": "code",
   "execution_count": 2,
   "metadata": {
    "execution": {
     "iopub.execute_input": "2020-05-25T12:15:50.771169Z",
     "iopub.status.busy": "2020-05-25T12:15:50.761268Z",
     "iopub.status.idle": "2020-05-25T12:15:50.775867Z",
     "shell.execute_reply": "2020-05-25T12:15:50.775378Z"
    },
    "papermill": {
     "duration": 0.032101,
     "end_time": "2020-05-25T12:15:50.775962",
     "exception": false,
     "start_time": "2020-05-25T12:15:50.743861",
     "status": "completed"
    },
    "tags": []
   },
   "outputs": [],
   "source": [
    "#hide\n",
    "\n",
    "# Data utilities:\n",
    "\n",
    "def get_statewise_testing_data():\n",
    "    '''\n",
    "    Pull all statewise data required for model fitting and\n",
    "    prediction\n",
    "\n",
    "    Returns:\n",
    "    * df_out: DataFrame for model fitting where inclusion\n",
    "        requires testing data from 7 days ago\n",
    "    * df_pred: DataFrame for count prediction where inclusion\n",
    "        only requires testing data from today\n",
    "    '''\n",
    "\n",
    "    # Pull testing counts by state:\n",
    "    out = requests.get('https://covidtracking.com/api/states')\n",
    "    df_out = pd.DataFrame(out.json())\n",
    "    df_out.set_index('state', drop=True, inplace=True)\n",
    "\n",
    "    # Pull time-series of testing counts:\n",
    "    ts = requests.get('https://covidtracking.com/api/states/daily')\n",
    "    df_ts = pd.DataFrame(ts.json())\n",
    "\n",
    "    # Get data from last week\n",
    "    date_last_week = df_ts['date'].unique()[7]\n",
    "    df_ts_last_week = _get_test_counts(df_ts, df_out.index, date_last_week)\n",
    "    df_out['num_tests_7_days_ago'] = \\\n",
    "        (df_ts_last_week['positive'] + df_ts_last_week['negative'])\n",
    "    df_out['num_pos_7_days_ago'] = df_ts_last_week['positive']\n",
    "\n",
    "    # Get data from today:\n",
    "    df_out['num_tests_today'] = (df_out['positive'] + df_out['negative'])\n",
    "\n",
    "    # State population:\n",
    "    df_pop = pd.read_excel(('https://github.com/jwrichar/COVID19-mortality/blob/'\n",
    "                            'master/data/us_population_by_state_2019.xlsx?raw=true'),\n",
    "                           skiprows=2, skipfooter=5)\n",
    "    r = requests.get(('https://raw.githubusercontent.com/jwrichar/COVID19-mortality/'\n",
    "                      'master/data/us-state-name-abbr.json'))\n",
    "    state_name_abbr_lookup = r.json()\n",
    "    \n",
    "    df_pop.index = df_pop['Geographic Area'].apply(\n",
    "        lambda x: str(x).replace('.', '')).map(state_name_abbr_lookup)\n",
    "    df_pop = df_pop.loc[df_pop.index.dropna()]\n",
    "\n",
    "    df_out['total_population'] = df_pop['Total Resident\\nPopulation']\n",
    "\n",
    "    # Tests per million people, based on today's test coverage\n",
    "    df_out['tests_per_million'] = 1e6 * \\\n",
    "        (df_out['num_tests_today']) / df_out['total_population']\n",
    "    df_out['tests_per_million_7_days_ago'] = 1e6 * \\\n",
    "        (df_out['num_tests_7_days_ago']) / df_out['total_population']\n",
    "\n",
    "    # People per test:\n",
    "    df_out['people_per_test'] = 1e6 / df_out['tests_per_million']\n",
    "    df_out['people_per_test_7_days_ago'] = \\\n",
    "        1e6 / df_out['tests_per_million_7_days_ago']\n",
    "\n",
    "    # Drop states with messed up / missing data:\n",
    "    # Drop states with missing total pop:\n",
    "    to_drop_idx = df_out.index[df_out['total_population'].isnull()]\n",
    "    print('Dropping %i/%i states due to lack of population data: %s' %\n",
    "          (len(to_drop_idx), len(df_out), ', '.join(to_drop_idx)))\n",
    "    df_out.drop(to_drop_idx, axis=0, inplace=True)\n",
    "\n",
    "    df_pred = df_out.copy(deep=True)  # Prediction DataFrame\n",
    "\n",
    "    # Criteria for model fitting:\n",
    "    # Drop states with missing test count 7 days ago:\n",
    "    to_drop_idx = df_out.index[df_out['num_tests_7_days_ago'].isnull()]\n",
    "    print('Dropping %i/%i states due to lack of tests: %s' %\n",
    "          (len(to_drop_idx), len(df_out), ', '.join(to_drop_idx)))\n",
    "    df_out.drop(to_drop_idx, axis=0, inplace=True)\n",
    "    # Drop states with no cases 7 days ago:\n",
    "    to_drop_idx = df_out.index[df_out['num_pos_7_days_ago'] == 0]\n",
    "    print('Dropping %i/%i states due to lack of positive tests: %s' %\n",
    "          (len(to_drop_idx), len(df_out), ', '.join(to_drop_idx)))\n",
    "    df_out.drop(to_drop_idx, axis=0, inplace=True)\n",
    "\n",
    "    # Criteria for model prediction:\n",
    "    # Drop states with missing test count today:\n",
    "    to_drop_idx = df_pred.index[df_pred['num_tests_today'].isnull()]\n",
    "    print('Dropping %i/%i states in prediction data due to lack of tests: %s' %\n",
    "          (len(to_drop_idx), len(df_pred), ', '.join(to_drop_idx)))\n",
    "    df_pred.drop(to_drop_idx, axis=0, inplace=True)\n",
    "    # Cast counts to int\n",
    "    df_pred['negative'] = df_pred['negative'].astype(int)\n",
    "    df_pred['positive'] = df_pred['positive'].astype(int)\n",
    "\n",
    "    return df_out, df_pred\n",
    "\n",
    "def _get_test_counts(df_ts, state_list, date):\n",
    "\n",
    "    ts_list = []\n",
    "    for state in state_list:\n",
    "        state_ts = df_ts.loc[df_ts['state'] == state]\n",
    "        # Back-fill any gaps to avoid crap data gaps\n",
    "        state_ts.fillna(method='bfill', inplace=True)\n",
    "\n",
    "        record = state_ts.loc[df_ts['date'] == date]\n",
    "        ts_list.append(record)\n",
    "\n",
    "    df_ts = pd.concat(ts_list, ignore_index=True)\n",
    "    return df_ts.set_index('state', drop=True)\n"
   ]
  },
  {
   "cell_type": "code",
   "execution_count": 3,
   "metadata": {
    "execution": {
     "iopub.execute_input": "2020-05-25T12:15:50.811779Z",
     "iopub.status.busy": "2020-05-25T12:15:50.811177Z",
     "iopub.status.idle": "2020-05-25T12:15:50.813789Z",
     "shell.execute_reply": "2020-05-25T12:15:50.813315Z"
    },
    "papermill": {
     "duration": 0.021894,
     "end_time": "2020-05-25T12:15:50.813893",
     "exception": false,
     "start_time": "2020-05-25T12:15:50.791999",
     "status": "completed"
    },
    "tags": []
   },
   "outputs": [],
   "source": [
    "#hide\n",
    "\n",
    "# Model utilities\n",
    "\n",
    "def case_count_model_us_states(df):\n",
    "\n",
    "    # Normalize inputs in a way that is sensible:\n",
    "\n",
    "    # People per test: normalize to South Korea\n",
    "    # assuming S.K. testing is \"saturated\"\n",
    "    ppt_sk = np.log10(51500000. / 250000)\n",
    "    df['people_per_test_normalized'] = (\n",
    "        np.log10(df['people_per_test_7_days_ago']) - ppt_sk)\n",
    "\n",
    "    n = len(df)\n",
    "\n",
    "    # For each country, let:\n",
    "    # c_obs = number of observed cases\n",
    "    c_obs = df['num_pos_7_days_ago'].values\n",
    "    # c_star = number of true cases\n",
    "\n",
    "    # d_obs = number of observed deaths\n",
    "    d_obs = df[['death', 'num_pos_7_days_ago']].min(axis=1).values\n",
    "    # people per test\n",
    "    people_per_test = df['people_per_test_normalized'].values\n",
    "\n",
    "    covid_case_count_model = pm.Model()\n",
    "\n",
    "    with covid_case_count_model:\n",
    "\n",
    "        # Priors:\n",
    "        mu_0 = pm.Beta('mu_0', alpha=1, beta=100, testval=0.01)\n",
    "        # sig_0 = pm.Uniform('sig_0', lower=0.0, upper=mu_0 * (1 - mu_0))\n",
    "        alpha = pm.Bound(pm.Normal, lower=0.0)(\n",
    "            'alpha', mu=8, sigma=3, shape=1)\n",
    "        beta = pm.Bound(pm.Normal, upper=0.0)(\n",
    "            'beta', mu=-1, sigma=1, shape=1)\n",
    "        # beta = pm.Normal('beta', mu=0, sigma=1, shape=3)\n",
    "        sigma = pm.HalfNormal('sigma', sigma=0.5, testval=0.1)\n",
    "        # sigma_1 = pm.HalfNormal('sigma_1', sigma=2, testval=0.1)\n",
    "\n",
    "        # Model probability of case under-reporting as logistic regression:\n",
    "        mu_model_logit = alpha + beta * people_per_test\n",
    "        tau_logit = pm.Normal('tau_logit',\n",
    "                              mu=mu_model_logit,\n",
    "                              sigma=sigma,\n",
    "                              shape=n)\n",
    "        tau = np.exp(tau_logit) / (np.exp(tau_logit) + 1)\n",
    "\n",
    "        c_star = c_obs / tau\n",
    "\n",
    "        # Binomial likelihood:\n",
    "        d = pm.Binomial('d',\n",
    "                        n=c_star,\n",
    "                        p=mu_0,\n",
    "                        observed=d_obs)\n",
    "\n",
    "    return covid_case_count_model"
   ]
  },
  {
   "cell_type": "code",
   "execution_count": 4,
   "metadata": {
    "execution": {
     "iopub.execute_input": "2020-05-25T12:15:50.837856Z",
     "iopub.status.busy": "2020-05-25T12:15:50.837112Z",
     "iopub.status.idle": "2020-05-25T12:20:20.027601Z",
     "shell.execute_reply": "2020-05-25T12:20:20.027064Z"
    },
    "papermill": {
     "duration": 269.204413,
     "end_time": "2020-05-25T12:20:20.027706",
     "exception": false,
     "start_time": "2020-05-25T12:15:50.823293",
     "status": "completed"
    },
    "tags": []
   },
   "outputs": [
    {
     "name": "stdout",
     "output_type": "stream",
     "text": [
      "Dropping 4/56 states due to lack of population data: AS, GU, MP, VI\n",
      "Dropping 0/52 states due to lack of tests: \n",
      "Dropping 0/52 states due to lack of positive tests: \n",
      "Dropping 1/52 states in prediction data due to lack of tests: PR\n"
     ]
    },
    {
     "name": "stderr",
     "output_type": "stream",
     "text": [
      "Auto-assigning NUTS sampler...\n"
     ]
    },
    {
     "name": "stderr",
     "output_type": "stream",
     "text": [
      "Initializing NUTS using jitter+adapt_diag...\n"
     ]
    },
    {
     "name": "stderr",
     "output_type": "stream",
     "text": [
      "Sequential sampling (1 chains in 1 job)\n"
     ]
    },
    {
     "name": "stderr",
     "output_type": "stream",
     "text": [
      "NUTS: [tau_logit, sigma, beta, alpha, mu_0]\n"
     ]
    },
    {
     "name": "stderr",
     "output_type": "stream",
     "text": [
      "\r",
      "Sampling chain 0, 0 divergences:   0%|          | 0/1000 [00:00<?, ?it/s]"
     ]
    },
    {
     "name": "stderr",
     "output_type": "stream",
     "text": [
      "\r",
      "Sampling chain 0, 0 divergences:   0%|          | 1/1000 [00:01<19:51,  1.19s/it]"
     ]
    },
    {
     "name": "stderr",
     "output_type": "stream",
     "text": [
      "\r",
      "Sampling chain 0, 0 divergences:   1%|▏         | 13/1000 [00:01<13:46,  1.19it/s]"
     ]
    },
    {
     "name": "stderr",
     "output_type": "stream",
     "text": [
      "\r",
      "Sampling chain 0, 0 divergences:   2%|▏         | 17/1000 [00:01<09:55,  1.65it/s]"
     ]
    },
    {
     "name": "stderr",
     "output_type": "stream",
     "text": [
      "\r",
      "Sampling chain 0, 0 divergences:   2%|▏         | 20/1000 [00:01<07:13,  2.26it/s]"
     ]
    },
    {
     "name": "stderr",
     "output_type": "stream",
     "text": [
      "\r",
      "Sampling chain 0, 0 divergences:   2%|▏         | 23/1000 [00:01<05:21,  3.04it/s]"
     ]
    },
    {
     "name": "stderr",
     "output_type": "stream",
     "text": [
      "\r",
      "Sampling chain 0, 0 divergences:   3%|▎         | 26/1000 [00:02<04:02,  4.01it/s]"
     ]
    },
    {
     "name": "stderr",
     "output_type": "stream",
     "text": [
      "\r",
      "Sampling chain 0, 0 divergences:   3%|▎         | 28/1000 [00:02<03:07,  5.19it/s]"
     ]
    },
    {
     "name": "stderr",
     "output_type": "stream",
     "text": [
      "\r",
      "Sampling chain 0, 0 divergences:   3%|▎         | 30/1000 [00:02<02:29,  6.49it/s]"
     ]
    },
    {
     "name": "stderr",
     "output_type": "stream",
     "text": [
      "\r",
      "Sampling chain 0, 0 divergences:   3%|▎         | 32/1000 [00:02<02:02,  7.88it/s]"
     ]
    },
    {
     "name": "stderr",
     "output_type": "stream",
     "text": [
      "\r",
      "Sampling chain 0, 0 divergences:   3%|▎         | 34/1000 [00:02<01:43,  9.29it/s]"
     ]
    },
    {
     "name": "stderr",
     "output_type": "stream",
     "text": [
      "\r",
      "Sampling chain 0, 0 divergences:   4%|▎         | 36/1000 [00:02<01:31, 10.57it/s]"
     ]
    },
    {
     "name": "stderr",
     "output_type": "stream",
     "text": [
      "\r",
      "Sampling chain 0, 0 divergences:   4%|▍         | 38/1000 [00:02<01:22, 11.63it/s]"
     ]
    },
    {
     "name": "stderr",
     "output_type": "stream",
     "text": [
      "\r",
      "Sampling chain 0, 0 divergences:   4%|▍         | 40/1000 [00:03<01:16, 12.56it/s]"
     ]
    },
    {
     "name": "stderr",
     "output_type": "stream",
     "text": [
      "\r",
      "Sampling chain 0, 0 divergences:   4%|▍         | 42/1000 [00:03<01:12, 13.25it/s]"
     ]
    },
    {
     "name": "stderr",
     "output_type": "stream",
     "text": [
      "\r",
      "Sampling chain 0, 0 divergences:   4%|▍         | 44/1000 [00:03<01:08, 14.05it/s]"
     ]
    },
    {
     "name": "stderr",
     "output_type": "stream",
     "text": [
      "\r",
      "Sampling chain 0, 0 divergences:   5%|▍         | 46/1000 [00:03<01:06, 14.39it/s]"
     ]
    },
    {
     "name": "stderr",
     "output_type": "stream",
     "text": [
      "\r",
      "Sampling chain 0, 0 divergences:   5%|▍         | 48/1000 [00:03<01:04, 14.69it/s]"
     ]
    },
    {
     "name": "stderr",
     "output_type": "stream",
     "text": [
      "\r",
      "Sampling chain 0, 0 divergences:   5%|▌         | 50/1000 [00:03<01:03, 15.03it/s]"
     ]
    },
    {
     "name": "stderr",
     "output_type": "stream",
     "text": [
      "\r",
      "Sampling chain 0, 0 divergences:   5%|▌         | 52/1000 [00:03<01:01, 15.30it/s]"
     ]
    },
    {
     "name": "stderr",
     "output_type": "stream",
     "text": [
      "\r",
      "Sampling chain 0, 0 divergences:   5%|▌         | 54/1000 [00:03<01:01, 15.50it/s]"
     ]
    },
    {
     "name": "stderr",
     "output_type": "stream",
     "text": [
      "\r",
      "Sampling chain 0, 0 divergences:   6%|▌         | 56/1000 [00:04<01:00, 15.53it/s]"
     ]
    },
    {
     "name": "stderr",
     "output_type": "stream",
     "text": [
      "\r",
      "Sampling chain 0, 0 divergences:   6%|▌         | 58/1000 [00:04<01:01, 15.44it/s]"
     ]
    },
    {
     "name": "stderr",
     "output_type": "stream",
     "text": [
      "\r",
      "Sampling chain 0, 0 divergences:   6%|▌         | 60/1000 [00:04<00:59, 15.74it/s]"
     ]
    },
    {
     "name": "stderr",
     "output_type": "stream",
     "text": [
      "\r",
      "Sampling chain 0, 0 divergences:   6%|▌         | 62/1000 [00:04<01:00, 15.52it/s]"
     ]
    },
    {
     "name": "stderr",
     "output_type": "stream",
     "text": [
      "\r",
      "Sampling chain 0, 0 divergences:   6%|▋         | 64/1000 [00:04<00:59, 15.70it/s]"
     ]
    },
    {
     "name": "stderr",
     "output_type": "stream",
     "text": [
      "\r",
      "Sampling chain 0, 0 divergences:   7%|▋         | 66/1000 [00:04<00:59, 15.78it/s]"
     ]
    },
    {
     "name": "stderr",
     "output_type": "stream",
     "text": [
      "\r",
      "Sampling chain 0, 0 divergences:   7%|▋         | 68/1000 [00:04<00:59, 15.65it/s]"
     ]
    },
    {
     "name": "stderr",
     "output_type": "stream",
     "text": [
      "\r",
      "Sampling chain 0, 0 divergences:   7%|▋         | 70/1000 [00:04<00:58, 15.79it/s]"
     ]
    },
    {
     "name": "stderr",
     "output_type": "stream",
     "text": [
      "\r",
      "Sampling chain 0, 0 divergences:   7%|▋         | 72/1000 [00:05<00:59, 15.70it/s]"
     ]
    },
    {
     "name": "stderr",
     "output_type": "stream",
     "text": [
      "\r",
      "Sampling chain 0, 0 divergences:   7%|▋         | 74/1000 [00:05<00:59, 15.69it/s]"
     ]
    },
    {
     "name": "stderr",
     "output_type": "stream",
     "text": [
      "\r",
      "Sampling chain 0, 0 divergences:   8%|▊         | 76/1000 [00:05<00:58, 15.75it/s]"
     ]
    },
    {
     "name": "stderr",
     "output_type": "stream",
     "text": [
      "\r",
      "Sampling chain 0, 0 divergences:   8%|▊         | 78/1000 [00:05<01:00, 15.34it/s]"
     ]
    },
    {
     "name": "stderr",
     "output_type": "stream",
     "text": [
      "\r",
      "Sampling chain 0, 0 divergences:   8%|▊         | 80/1000 [00:05<00:59, 15.56it/s]"
     ]
    },
    {
     "name": "stderr",
     "output_type": "stream",
     "text": [
      "\r",
      "Sampling chain 0, 0 divergences:   8%|▊         | 82/1000 [00:05<00:57, 15.87it/s]"
     ]
    },
    {
     "name": "stderr",
     "output_type": "stream",
     "text": [
      "\r",
      "Sampling chain 0, 0 divergences:   8%|▊         | 84/1000 [00:05<00:57, 16.06it/s]"
     ]
    },
    {
     "name": "stderr",
     "output_type": "stream",
     "text": [
      "\r",
      "Sampling chain 0, 0 divergences:   9%|▊         | 86/1000 [00:05<00:56, 16.22it/s]"
     ]
    },
    {
     "name": "stderr",
     "output_type": "stream",
     "text": [
      "\r",
      "Sampling chain 0, 0 divergences:   9%|▉         | 88/1000 [00:06<00:57, 15.92it/s]"
     ]
    },
    {
     "name": "stderr",
     "output_type": "stream",
     "text": [
      "\r",
      "Sampling chain 0, 0 divergences:   9%|▉         | 90/1000 [00:06<00:56, 16.20it/s]"
     ]
    },
    {
     "name": "stderr",
     "output_type": "stream",
     "text": [
      "\r",
      "Sampling chain 0, 0 divergences:   9%|▉         | 92/1000 [00:06<00:55, 16.30it/s]"
     ]
    },
    {
     "name": "stderr",
     "output_type": "stream",
     "text": [
      "\r",
      "Sampling chain 0, 0 divergences:   9%|▉         | 94/1000 [00:06<00:56, 16.10it/s]"
     ]
    },
    {
     "name": "stderr",
     "output_type": "stream",
     "text": [
      "\r",
      "Sampling chain 0, 0 divergences:  10%|▉         | 96/1000 [00:06<00:56, 15.86it/s]"
     ]
    },
    {
     "name": "stderr",
     "output_type": "stream",
     "text": [
      "\r",
      "Sampling chain 0, 0 divergences:  10%|▉         | 98/1000 [00:06<00:55, 16.11it/s]"
     ]
    },
    {
     "name": "stderr",
     "output_type": "stream",
     "text": [
      "\r",
      "Sampling chain 0, 0 divergences:  10%|█         | 100/1000 [00:06<00:55, 16.24it/s]"
     ]
    },
    {
     "name": "stderr",
     "output_type": "stream",
     "text": [
      "\r",
      "Sampling chain 0, 0 divergences:  10%|█         | 102/1000 [00:06<00:54, 16.44it/s]"
     ]
    },
    {
     "name": "stderr",
     "output_type": "stream",
     "text": [
      "\r",
      "Sampling chain 0, 0 divergences:  10%|█         | 104/1000 [00:07<00:54, 16.43it/s]"
     ]
    },
    {
     "name": "stderr",
     "output_type": "stream",
     "text": [
      "\r",
      "Sampling chain 0, 0 divergences:  11%|█         | 106/1000 [00:07<00:54, 16.45it/s]"
     ]
    },
    {
     "name": "stderr",
     "output_type": "stream",
     "text": [
      "\r",
      "Sampling chain 0, 0 divergences:  11%|█         | 108/1000 [00:07<00:54, 16.46it/s]"
     ]
    },
    {
     "name": "stderr",
     "output_type": "stream",
     "text": [
      "\r",
      "Sampling chain 0, 0 divergences:  11%|█         | 110/1000 [00:07<00:54, 16.47it/s]"
     ]
    },
    {
     "name": "stderr",
     "output_type": "stream",
     "text": [
      "\r",
      "Sampling chain 0, 0 divergences:  11%|█         | 112/1000 [00:07<00:54, 16.34it/s]"
     ]
    },
    {
     "name": "stderr",
     "output_type": "stream",
     "text": [
      "\r",
      "Sampling chain 0, 0 divergences:  11%|█▏        | 114/1000 [00:07<00:53, 16.53it/s]"
     ]
    },
    {
     "name": "stderr",
     "output_type": "stream",
     "text": [
      "\r",
      "Sampling chain 0, 0 divergences:  12%|█▏        | 116/1000 [00:07<00:53, 16.60it/s]"
     ]
    },
    {
     "name": "stderr",
     "output_type": "stream",
     "text": [
      "\r",
      "Sampling chain 0, 0 divergences:  12%|█▏        | 118/1000 [00:07<00:53, 16.42it/s]"
     ]
    },
    {
     "name": "stderr",
     "output_type": "stream",
     "text": [
      "\r",
      "Sampling chain 0, 0 divergences:  12%|█▏        | 120/1000 [00:08<00:54, 16.06it/s]"
     ]
    },
    {
     "name": "stderr",
     "output_type": "stream",
     "text": [
      "\r",
      "Sampling chain 0, 0 divergences:  12%|█▏        | 122/1000 [00:08<00:55, 15.87it/s]"
     ]
    },
    {
     "name": "stderr",
     "output_type": "stream",
     "text": [
      "\r",
      "Sampling chain 0, 0 divergences:  12%|█▏        | 124/1000 [00:08<00:55, 15.70it/s]"
     ]
    },
    {
     "name": "stderr",
     "output_type": "stream",
     "text": [
      "\r",
      "Sampling chain 0, 0 divergences:  13%|█▎        | 126/1000 [00:08<00:55, 15.73it/s]"
     ]
    },
    {
     "name": "stderr",
     "output_type": "stream",
     "text": [
      "\r",
      "Sampling chain 0, 0 divergences:  13%|█▎        | 128/1000 [00:08<00:55, 15.67it/s]"
     ]
    },
    {
     "name": "stderr",
     "output_type": "stream",
     "text": [
      "\r",
      "Sampling chain 0, 0 divergences:  13%|█▎        | 130/1000 [00:08<00:54, 15.82it/s]"
     ]
    },
    {
     "name": "stderr",
     "output_type": "stream",
     "text": [
      "\r",
      "Sampling chain 0, 0 divergences:  13%|█▎        | 132/1000 [00:08<00:53, 16.22it/s]"
     ]
    },
    {
     "name": "stderr",
     "output_type": "stream",
     "text": [
      "\r",
      "Sampling chain 0, 0 divergences:  13%|█▎        | 134/1000 [00:08<00:53, 16.22it/s]"
     ]
    },
    {
     "name": "stderr",
     "output_type": "stream",
     "text": [
      "\r",
      "Sampling chain 0, 0 divergences:  14%|█▎        | 136/1000 [00:09<00:53, 16.22it/s]"
     ]
    },
    {
     "name": "stderr",
     "output_type": "stream",
     "text": [
      "\r",
      "Sampling chain 0, 0 divergences:  14%|█▍        | 138/1000 [00:09<00:52, 16.33it/s]"
     ]
    },
    {
     "name": "stderr",
     "output_type": "stream",
     "text": [
      "\r",
      "Sampling chain 0, 0 divergences:  14%|█▍        | 140/1000 [00:09<00:52, 16.32it/s]"
     ]
    },
    {
     "name": "stderr",
     "output_type": "stream",
     "text": [
      "\r",
      "Sampling chain 0, 0 divergences:  14%|█▍        | 142/1000 [00:09<00:53, 15.92it/s]"
     ]
    },
    {
     "name": "stderr",
     "output_type": "stream",
     "text": [
      "\r",
      "Sampling chain 0, 0 divergences:  14%|█▍        | 144/1000 [00:09<00:54, 15.64it/s]"
     ]
    },
    {
     "name": "stderr",
     "output_type": "stream",
     "text": [
      "\r",
      "Sampling chain 0, 0 divergences:  15%|█▍        | 146/1000 [00:09<00:54, 15.54it/s]"
     ]
    },
    {
     "name": "stderr",
     "output_type": "stream",
     "text": [
      "\r",
      "Sampling chain 0, 0 divergences:  15%|█▍        | 148/1000 [00:09<00:54, 15.52it/s]"
     ]
    },
    {
     "name": "stderr",
     "output_type": "stream",
     "text": [
      "\r",
      "Sampling chain 0, 0 divergences:  15%|█▌        | 150/1000 [00:09<00:53, 15.81it/s]"
     ]
    },
    {
     "name": "stderr",
     "output_type": "stream",
     "text": [
      "\r",
      "Sampling chain 0, 0 divergences:  15%|█▌        | 152/1000 [00:10<00:53, 15.93it/s]"
     ]
    },
    {
     "name": "stderr",
     "output_type": "stream",
     "text": [
      "\r",
      "Sampling chain 0, 0 divergences:  15%|█▌        | 154/1000 [00:10<00:52, 16.21it/s]"
     ]
    },
    {
     "name": "stderr",
     "output_type": "stream",
     "text": [
      "\r",
      "Sampling chain 0, 0 divergences:  16%|█▌        | 156/1000 [00:10<00:51, 16.24it/s]"
     ]
    },
    {
     "name": "stderr",
     "output_type": "stream",
     "text": [
      "\r",
      "Sampling chain 0, 0 divergences:  16%|█▌        | 158/1000 [00:10<00:51, 16.37it/s]"
     ]
    },
    {
     "name": "stderr",
     "output_type": "stream",
     "text": [
      "\r",
      "Sampling chain 0, 0 divergences:  16%|█▌        | 160/1000 [00:10<00:50, 16.53it/s]"
     ]
    },
    {
     "name": "stderr",
     "output_type": "stream",
     "text": [
      "\r",
      "Sampling chain 0, 0 divergences:  16%|█▌        | 162/1000 [00:10<00:52, 16.10it/s]"
     ]
    },
    {
     "name": "stderr",
     "output_type": "stream",
     "text": [
      "\r",
      "Sampling chain 0, 0 divergences:  16%|█▋        | 164/1000 [00:10<00:51, 16.11it/s]"
     ]
    },
    {
     "name": "stderr",
     "output_type": "stream",
     "text": [
      "\r",
      "Sampling chain 0, 0 divergences:  17%|█▋        | 166/1000 [00:10<00:51, 16.13it/s]"
     ]
    },
    {
     "name": "stderr",
     "output_type": "stream",
     "text": [
      "\r",
      "Sampling chain 0, 0 divergences:  17%|█▋        | 168/1000 [00:11<00:51, 16.07it/s]"
     ]
    },
    {
     "name": "stderr",
     "output_type": "stream",
     "text": [
      "\r",
      "Sampling chain 0, 0 divergences:  17%|█▋        | 170/1000 [00:11<00:51, 16.19it/s]"
     ]
    },
    {
     "name": "stderr",
     "output_type": "stream",
     "text": [
      "\r",
      "Sampling chain 0, 0 divergences:  17%|█▋        | 172/1000 [00:11<00:50, 16.33it/s]"
     ]
    },
    {
     "name": "stderr",
     "output_type": "stream",
     "text": [
      "\r",
      "Sampling chain 0, 0 divergences:  17%|█▋        | 174/1000 [00:11<00:51, 16.11it/s]"
     ]
    },
    {
     "name": "stderr",
     "output_type": "stream",
     "text": [
      "\r",
      "Sampling chain 0, 0 divergences:  18%|█▊        | 176/1000 [00:11<00:52, 15.79it/s]"
     ]
    },
    {
     "name": "stderr",
     "output_type": "stream",
     "text": [
      "\r",
      "Sampling chain 0, 0 divergences:  18%|█▊        | 178/1000 [00:11<00:52, 15.74it/s]"
     ]
    },
    {
     "name": "stderr",
     "output_type": "stream",
     "text": [
      "\r",
      "Sampling chain 0, 0 divergences:  18%|█▊        | 180/1000 [00:11<00:51, 15.93it/s]"
     ]
    },
    {
     "name": "stderr",
     "output_type": "stream",
     "text": [
      "\r",
      "Sampling chain 0, 0 divergences:  18%|█▊        | 182/1000 [00:11<00:51, 16.03it/s]"
     ]
    },
    {
     "name": "stderr",
     "output_type": "stream",
     "text": [
      "\r",
      "Sampling chain 0, 0 divergences:  18%|█▊        | 184/1000 [00:12<00:51, 15.95it/s]"
     ]
    },
    {
     "name": "stderr",
     "output_type": "stream",
     "text": [
      "\r",
      "Sampling chain 0, 0 divergences:  19%|█▊        | 186/1000 [00:12<00:51, 15.90it/s]"
     ]
    },
    {
     "name": "stderr",
     "output_type": "stream",
     "text": [
      "\r",
      "Sampling chain 0, 0 divergences:  19%|█▉        | 188/1000 [00:12<00:50, 16.06it/s]"
     ]
    },
    {
     "name": "stderr",
     "output_type": "stream",
     "text": [
      "\r",
      "Sampling chain 0, 0 divergences:  19%|█▉        | 190/1000 [00:12<00:50, 16.10it/s]"
     ]
    },
    {
     "name": "stderr",
     "output_type": "stream",
     "text": [
      "\r",
      "Sampling chain 0, 0 divergences:  19%|█▉        | 192/1000 [00:12<00:49, 16.17it/s]"
     ]
    },
    {
     "name": "stderr",
     "output_type": "stream",
     "text": [
      "\r",
      "Sampling chain 0, 0 divergences:  19%|█▉        | 194/1000 [00:12<00:51, 15.72it/s]"
     ]
    },
    {
     "name": "stderr",
     "output_type": "stream",
     "text": [
      "\r",
      "Sampling chain 0, 0 divergences:  20%|█▉        | 196/1000 [00:12<00:50, 15.80it/s]"
     ]
    },
    {
     "name": "stderr",
     "output_type": "stream",
     "text": [
      "\r",
      "Sampling chain 0, 0 divergences:  20%|█▉        | 198/1000 [00:12<00:50, 15.91it/s]"
     ]
    },
    {
     "name": "stderr",
     "output_type": "stream",
     "text": [
      "\r",
      "Sampling chain 0, 0 divergences:  20%|██        | 200/1000 [00:13<00:49, 16.06it/s]"
     ]
    },
    {
     "name": "stderr",
     "output_type": "stream",
     "text": [
      "\r",
      "Sampling chain 0, 0 divergences:  20%|██        | 202/1000 [00:13<01:33,  8.55it/s]"
     ]
    },
    {
     "name": "stderr",
     "output_type": "stream",
     "text": [
      "\r",
      "Sampling chain 0, 0 divergences:  20%|██        | 204/1000 [00:14<02:03,  6.46it/s]"
     ]
    },
    {
     "name": "stderr",
     "output_type": "stream",
     "text": [
      "\r",
      "Sampling chain 0, 0 divergences:  20%|██        | 205/1000 [00:14<02:25,  5.46it/s]"
     ]
    },
    {
     "name": "stderr",
     "output_type": "stream",
     "text": [
      "\r",
      "Sampling chain 0, 0 divergences:  21%|██        | 206/1000 [00:14<02:41,  4.91it/s]"
     ]
    },
    {
     "name": "stderr",
     "output_type": "stream",
     "text": [
      "\r",
      "Sampling chain 0, 0 divergences:  21%|██        | 207/1000 [00:14<02:55,  4.53it/s]"
     ]
    },
    {
     "name": "stderr",
     "output_type": "stream",
     "text": [
      "\r",
      "Sampling chain 0, 0 divergences:  21%|██        | 208/1000 [00:14<02:58,  4.44it/s]"
     ]
    },
    {
     "name": "stderr",
     "output_type": "stream",
     "text": [
      "\r",
      "Sampling chain 0, 0 divergences:  21%|██        | 209/1000 [00:15<03:01,  4.35it/s]"
     ]
    },
    {
     "name": "stderr",
     "output_type": "stream",
     "text": [
      "\r",
      "Sampling chain 0, 0 divergences:  21%|██        | 210/1000 [00:15<03:04,  4.29it/s]"
     ]
    },
    {
     "name": "stderr",
     "output_type": "stream",
     "text": [
      "\r",
      "Sampling chain 0, 0 divergences:  21%|██        | 211/1000 [00:15<03:11,  4.11it/s]"
     ]
    },
    {
     "name": "stderr",
     "output_type": "stream",
     "text": [
      "\r",
      "Sampling chain 0, 0 divergences:  21%|██        | 212/1000 [00:15<03:13,  4.07it/s]"
     ]
    },
    {
     "name": "stderr",
     "output_type": "stream",
     "text": [
      "\r",
      "Sampling chain 0, 0 divergences:  21%|██▏       | 213/1000 [00:16<03:11,  4.11it/s]"
     ]
    },
    {
     "name": "stderr",
     "output_type": "stream",
     "text": [
      "\r",
      "Sampling chain 0, 0 divergences:  21%|██▏       | 214/1000 [00:16<03:14,  4.04it/s]"
     ]
    },
    {
     "name": "stderr",
     "output_type": "stream",
     "text": [
      "\r",
      "Sampling chain 0, 0 divergences:  22%|██▏       | 215/1000 [00:16<03:13,  4.06it/s]"
     ]
    },
    {
     "name": "stderr",
     "output_type": "stream",
     "text": [
      "\r",
      "Sampling chain 0, 0 divergences:  22%|██▏       | 216/1000 [00:16<03:12,  4.08it/s]"
     ]
    },
    {
     "name": "stderr",
     "output_type": "stream",
     "text": [
      "\r",
      "Sampling chain 0, 0 divergences:  22%|██▏       | 217/1000 [00:17<03:11,  4.08it/s]"
     ]
    },
    {
     "name": "stderr",
     "output_type": "stream",
     "text": [
      "\r",
      "Sampling chain 0, 0 divergences:  22%|██▏       | 218/1000 [00:17<03:10,  4.10it/s]"
     ]
    },
    {
     "name": "stderr",
     "output_type": "stream",
     "text": [
      "\r",
      "Sampling chain 0, 0 divergences:  22%|██▏       | 219/1000 [00:17<03:10,  4.10it/s]"
     ]
    },
    {
     "name": "stderr",
     "output_type": "stream",
     "text": [
      "\r",
      "Sampling chain 0, 0 divergences:  22%|██▏       | 220/1000 [00:17<03:07,  4.15it/s]"
     ]
    },
    {
     "name": "stderr",
     "output_type": "stream",
     "text": [
      "\r",
      "Sampling chain 0, 0 divergences:  22%|██▏       | 221/1000 [00:18<03:10,  4.09it/s]"
     ]
    },
    {
     "name": "stderr",
     "output_type": "stream",
     "text": [
      "\r",
      "Sampling chain 0, 0 divergences:  22%|██▏       | 222/1000 [00:18<03:09,  4.11it/s]"
     ]
    },
    {
     "name": "stderr",
     "output_type": "stream",
     "text": [
      "\r",
      "Sampling chain 0, 0 divergences:  22%|██▏       | 223/1000 [00:18<03:06,  4.16it/s]"
     ]
    },
    {
     "name": "stderr",
     "output_type": "stream",
     "text": [
      "\r",
      "Sampling chain 0, 0 divergences:  22%|██▏       | 224/1000 [00:18<03:08,  4.11it/s]"
     ]
    },
    {
     "name": "stderr",
     "output_type": "stream",
     "text": [
      "\r",
      "Sampling chain 0, 0 divergences:  22%|██▎       | 225/1000 [00:19<03:05,  4.18it/s]"
     ]
    },
    {
     "name": "stderr",
     "output_type": "stream",
     "text": [
      "\r",
      "Sampling chain 0, 0 divergences:  23%|██▎       | 226/1000 [00:19<03:07,  4.13it/s]"
     ]
    },
    {
     "name": "stderr",
     "output_type": "stream",
     "text": [
      "\r",
      "Sampling chain 0, 0 divergences:  23%|██▎       | 227/1000 [00:19<03:08,  4.09it/s]"
     ]
    },
    {
     "name": "stderr",
     "output_type": "stream",
     "text": [
      "\r",
      "Sampling chain 0, 0 divergences:  23%|██▎       | 228/1000 [00:19<03:08,  4.10it/s]"
     ]
    },
    {
     "name": "stderr",
     "output_type": "stream",
     "text": [
      "\r",
      "Sampling chain 0, 0 divergences:  23%|██▎       | 229/1000 [00:20<03:05,  4.16it/s]"
     ]
    },
    {
     "name": "stderr",
     "output_type": "stream",
     "text": [
      "\r",
      "Sampling chain 0, 0 divergences:  23%|██▎       | 230/1000 [00:20<03:04,  4.16it/s]"
     ]
    },
    {
     "name": "stderr",
     "output_type": "stream",
     "text": [
      "\r",
      "Sampling chain 0, 0 divergences:  23%|██▎       | 231/1000 [00:20<03:02,  4.22it/s]"
     ]
    },
    {
     "name": "stderr",
     "output_type": "stream",
     "text": [
      "\r",
      "Sampling chain 0, 0 divergences:  23%|██▎       | 232/1000 [00:20<03:03,  4.18it/s]"
     ]
    },
    {
     "name": "stderr",
     "output_type": "stream",
     "text": [
      "\r",
      "Sampling chain 0, 0 divergences:  23%|██▎       | 233/1000 [00:21<03:06,  4.12it/s]"
     ]
    },
    {
     "name": "stderr",
     "output_type": "stream",
     "text": [
      "\r",
      "Sampling chain 0, 0 divergences:  23%|██▎       | 234/1000 [00:21<03:06,  4.10it/s]"
     ]
    },
    {
     "name": "stderr",
     "output_type": "stream",
     "text": [
      "\r",
      "Sampling chain 0, 0 divergences:  24%|██▎       | 235/1000 [00:21<03:06,  4.09it/s]"
     ]
    },
    {
     "name": "stderr",
     "output_type": "stream",
     "text": [
      "\r",
      "Sampling chain 0, 0 divergences:  24%|██▎       | 236/1000 [00:21<03:07,  4.07it/s]"
     ]
    },
    {
     "name": "stderr",
     "output_type": "stream",
     "text": [
      "\r",
      "Sampling chain 0, 0 divergences:  24%|██▎       | 237/1000 [00:22<03:07,  4.06it/s]"
     ]
    },
    {
     "name": "stderr",
     "output_type": "stream",
     "text": [
      "\r",
      "Sampling chain 0, 0 divergences:  24%|██▍       | 238/1000 [00:22<03:05,  4.10it/s]"
     ]
    },
    {
     "name": "stderr",
     "output_type": "stream",
     "text": [
      "\r",
      "Sampling chain 0, 0 divergences:  24%|██▍       | 239/1000 [00:22<03:06,  4.08it/s]"
     ]
    },
    {
     "name": "stderr",
     "output_type": "stream",
     "text": [
      "\r",
      "Sampling chain 0, 0 divergences:  24%|██▍       | 240/1000 [00:22<03:05,  4.11it/s]"
     ]
    },
    {
     "name": "stderr",
     "output_type": "stream",
     "text": [
      "\r",
      "Sampling chain 0, 0 divergences:  24%|██▍       | 241/1000 [00:23<03:04,  4.12it/s]"
     ]
    },
    {
     "name": "stderr",
     "output_type": "stream",
     "text": [
      "\r",
      "Sampling chain 0, 0 divergences:  24%|██▍       | 242/1000 [00:23<03:04,  4.11it/s]"
     ]
    },
    {
     "name": "stderr",
     "output_type": "stream",
     "text": [
      "\r",
      "Sampling chain 0, 0 divergences:  24%|██▍       | 243/1000 [00:23<03:03,  4.12it/s]"
     ]
    },
    {
     "name": "stderr",
     "output_type": "stream",
     "text": [
      "\r",
      "Sampling chain 0, 0 divergences:  24%|██▍       | 244/1000 [00:23<03:04,  4.10it/s]"
     ]
    },
    {
     "name": "stderr",
     "output_type": "stream",
     "text": [
      "\r",
      "Sampling chain 0, 0 divergences:  24%|██▍       | 245/1000 [00:24<03:03,  4.11it/s]"
     ]
    },
    {
     "name": "stderr",
     "output_type": "stream",
     "text": [
      "\r",
      "Sampling chain 0, 0 divergences:  25%|██▍       | 246/1000 [00:24<02:59,  4.20it/s]"
     ]
    },
    {
     "name": "stderr",
     "output_type": "stream",
     "text": [
      "\r",
      "Sampling chain 0, 0 divergences:  25%|██▍       | 247/1000 [00:24<02:59,  4.19it/s]"
     ]
    },
    {
     "name": "stderr",
     "output_type": "stream",
     "text": [
      "\r",
      "Sampling chain 0, 0 divergences:  25%|██▍       | 248/1000 [00:24<03:02,  4.12it/s]"
     ]
    },
    {
     "name": "stderr",
     "output_type": "stream",
     "text": [
      "\r",
      "Sampling chain 0, 0 divergences:  25%|██▍       | 249/1000 [00:24<03:04,  4.07it/s]"
     ]
    },
    {
     "name": "stderr",
     "output_type": "stream",
     "text": [
      "\r",
      "Sampling chain 0, 0 divergences:  25%|██▌       | 250/1000 [00:25<03:01,  4.12it/s]"
     ]
    },
    {
     "name": "stderr",
     "output_type": "stream",
     "text": [
      "\r",
      "Sampling chain 0, 0 divergences:  25%|██▌       | 251/1000 [00:25<03:00,  4.14it/s]"
     ]
    },
    {
     "name": "stderr",
     "output_type": "stream",
     "text": [
      "\r",
      "Sampling chain 0, 0 divergences:  25%|██▌       | 252/1000 [00:25<03:01,  4.13it/s]"
     ]
    },
    {
     "name": "stderr",
     "output_type": "stream",
     "text": [
      "\r",
      "Sampling chain 0, 0 divergences:  25%|██▌       | 253/1000 [00:25<03:02,  4.09it/s]"
     ]
    },
    {
     "name": "stderr",
     "output_type": "stream",
     "text": [
      "\r",
      "Sampling chain 0, 0 divergences:  25%|██▌       | 254/1000 [00:26<03:01,  4.12it/s]"
     ]
    },
    {
     "name": "stderr",
     "output_type": "stream",
     "text": [
      "\r",
      "Sampling chain 0, 0 divergences:  26%|██▌       | 255/1000 [00:26<03:02,  4.08it/s]"
     ]
    },
    {
     "name": "stderr",
     "output_type": "stream",
     "text": [
      "\r",
      "Sampling chain 0, 0 divergences:  26%|██▌       | 256/1000 [00:26<03:03,  4.07it/s]"
     ]
    },
    {
     "name": "stderr",
     "output_type": "stream",
     "text": [
      "\r",
      "Sampling chain 0, 0 divergences:  26%|██▌       | 257/1000 [00:26<03:01,  4.10it/s]"
     ]
    },
    {
     "name": "stderr",
     "output_type": "stream",
     "text": [
      "\r",
      "Sampling chain 0, 0 divergences:  26%|██▌       | 258/1000 [00:27<02:59,  4.14it/s]"
     ]
    },
    {
     "name": "stderr",
     "output_type": "stream",
     "text": [
      "\r",
      "Sampling chain 0, 0 divergences:  26%|██▌       | 259/1000 [00:27<02:58,  4.14it/s]"
     ]
    },
    {
     "name": "stderr",
     "output_type": "stream",
     "text": [
      "\r",
      "Sampling chain 0, 0 divergences:  26%|██▌       | 260/1000 [00:27<02:55,  4.23it/s]"
     ]
    },
    {
     "name": "stderr",
     "output_type": "stream",
     "text": [
      "\r",
      "Sampling chain 0, 0 divergences:  26%|██▌       | 261/1000 [00:27<02:52,  4.29it/s]"
     ]
    },
    {
     "name": "stderr",
     "output_type": "stream",
     "text": [
      "\r",
      "Sampling chain 0, 0 divergences:  26%|██▌       | 262/1000 [00:28<02:54,  4.23it/s]"
     ]
    },
    {
     "name": "stderr",
     "output_type": "stream",
     "text": [
      "\r",
      "Sampling chain 0, 0 divergences:  26%|██▋       | 263/1000 [00:28<02:54,  4.21it/s]"
     ]
    },
    {
     "name": "stderr",
     "output_type": "stream",
     "text": [
      "\r",
      "Sampling chain 0, 0 divergences:  26%|██▋       | 264/1000 [00:28<02:56,  4.16it/s]"
     ]
    },
    {
     "name": "stderr",
     "output_type": "stream",
     "text": [
      "\r",
      "Sampling chain 0, 0 divergences:  26%|██▋       | 265/1000 [00:28<02:57,  4.13it/s]"
     ]
    },
    {
     "name": "stderr",
     "output_type": "stream",
     "text": [
      "\r",
      "Sampling chain 0, 0 divergences:  27%|██▋       | 266/1000 [00:29<02:58,  4.12it/s]"
     ]
    },
    {
     "name": "stderr",
     "output_type": "stream",
     "text": [
      "\r",
      "Sampling chain 0, 0 divergences:  27%|██▋       | 267/1000 [00:29<02:55,  4.18it/s]"
     ]
    },
    {
     "name": "stderr",
     "output_type": "stream",
     "text": [
      "\r",
      "Sampling chain 0, 0 divergences:  27%|██▋       | 268/1000 [00:29<02:55,  4.18it/s]"
     ]
    },
    {
     "name": "stderr",
     "output_type": "stream",
     "text": [
      "\r",
      "Sampling chain 0, 0 divergences:  27%|██▋       | 269/1000 [00:29<02:57,  4.11it/s]"
     ]
    },
    {
     "name": "stderr",
     "output_type": "stream",
     "text": [
      "\r",
      "Sampling chain 0, 0 divergences:  27%|██▋       | 270/1000 [00:30<02:57,  4.11it/s]"
     ]
    },
    {
     "name": "stderr",
     "output_type": "stream",
     "text": [
      "\r",
      "Sampling chain 0, 0 divergences:  27%|██▋       | 271/1000 [00:30<02:58,  4.09it/s]"
     ]
    },
    {
     "name": "stderr",
     "output_type": "stream",
     "text": [
      "\r",
      "Sampling chain 0, 0 divergences:  27%|██▋       | 272/1000 [00:30<02:57,  4.11it/s]"
     ]
    },
    {
     "name": "stderr",
     "output_type": "stream",
     "text": [
      "\r",
      "Sampling chain 0, 0 divergences:  27%|██▋       | 273/1000 [00:30<02:56,  4.12it/s]"
     ]
    },
    {
     "name": "stderr",
     "output_type": "stream",
     "text": [
      "\r",
      "Sampling chain 0, 0 divergences:  27%|██▋       | 274/1000 [00:31<02:55,  4.13it/s]"
     ]
    },
    {
     "name": "stderr",
     "output_type": "stream",
     "text": [
      "\r",
      "Sampling chain 0, 0 divergences:  28%|██▊       | 275/1000 [00:31<02:52,  4.19it/s]"
     ]
    },
    {
     "name": "stderr",
     "output_type": "stream",
     "text": [
      "\r",
      "Sampling chain 0, 0 divergences:  28%|██▊       | 276/1000 [00:31<02:56,  4.11it/s]"
     ]
    },
    {
     "name": "stderr",
     "output_type": "stream",
     "text": [
      "\r",
      "Sampling chain 0, 0 divergences:  28%|██▊       | 277/1000 [00:31<02:53,  4.17it/s]"
     ]
    },
    {
     "name": "stderr",
     "output_type": "stream",
     "text": [
      "\r",
      "Sampling chain 0, 0 divergences:  28%|██▊       | 278/1000 [00:31<02:52,  4.18it/s]"
     ]
    },
    {
     "name": "stderr",
     "output_type": "stream",
     "text": [
      "\r",
      "Sampling chain 0, 0 divergences:  28%|██▊       | 279/1000 [00:32<02:52,  4.17it/s]"
     ]
    },
    {
     "name": "stderr",
     "output_type": "stream",
     "text": [
      "\r",
      "Sampling chain 0, 0 divergences:  28%|██▊       | 280/1000 [00:32<02:51,  4.19it/s]"
     ]
    },
    {
     "name": "stderr",
     "output_type": "stream",
     "text": [
      "\r",
      "Sampling chain 0, 0 divergences:  28%|██▊       | 281/1000 [00:32<02:52,  4.16it/s]"
     ]
    },
    {
     "name": "stderr",
     "output_type": "stream",
     "text": [
      "\r",
      "Sampling chain 0, 0 divergences:  28%|██▊       | 282/1000 [00:32<02:52,  4.16it/s]"
     ]
    },
    {
     "name": "stderr",
     "output_type": "stream",
     "text": [
      "\r",
      "Sampling chain 0, 0 divergences:  28%|██▊       | 283/1000 [00:33<02:53,  4.14it/s]"
     ]
    },
    {
     "name": "stderr",
     "output_type": "stream",
     "text": [
      "\r",
      "Sampling chain 0, 0 divergences:  28%|██▊       | 284/1000 [00:33<02:52,  4.14it/s]"
     ]
    },
    {
     "name": "stderr",
     "output_type": "stream",
     "text": [
      "\r",
      "Sampling chain 0, 0 divergences:  28%|██▊       | 285/1000 [00:33<02:52,  4.15it/s]"
     ]
    },
    {
     "name": "stderr",
     "output_type": "stream",
     "text": [
      "\r",
      "Sampling chain 0, 0 divergences:  29%|██▊       | 286/1000 [00:33<02:51,  4.16it/s]"
     ]
    },
    {
     "name": "stderr",
     "output_type": "stream",
     "text": [
      "\r",
      "Sampling chain 0, 0 divergences:  29%|██▊       | 287/1000 [00:34<02:53,  4.10it/s]"
     ]
    },
    {
     "name": "stderr",
     "output_type": "stream",
     "text": [
      "\r",
      "Sampling chain 0, 0 divergences:  29%|██▉       | 288/1000 [00:34<02:55,  4.05it/s]"
     ]
    },
    {
     "name": "stderr",
     "output_type": "stream",
     "text": [
      "\r",
      "Sampling chain 0, 0 divergences:  29%|██▉       | 289/1000 [00:34<02:56,  4.02it/s]"
     ]
    },
    {
     "name": "stderr",
     "output_type": "stream",
     "text": [
      "\r",
      "Sampling chain 0, 0 divergences:  29%|██▉       | 290/1000 [00:34<02:57,  4.01it/s]"
     ]
    },
    {
     "name": "stderr",
     "output_type": "stream",
     "text": [
      "\r",
      "Sampling chain 0, 0 divergences:  29%|██▉       | 291/1000 [00:35<02:57,  4.00it/s]"
     ]
    },
    {
     "name": "stderr",
     "output_type": "stream",
     "text": [
      "\r",
      "Sampling chain 0, 0 divergences:  29%|██▉       | 292/1000 [00:35<02:55,  4.03it/s]"
     ]
    },
    {
     "name": "stderr",
     "output_type": "stream",
     "text": [
      "\r",
      "Sampling chain 0, 0 divergences:  29%|██▉       | 293/1000 [00:35<02:54,  4.06it/s]"
     ]
    },
    {
     "name": "stderr",
     "output_type": "stream",
     "text": [
      "\r",
      "Sampling chain 0, 0 divergences:  29%|██▉       | 294/1000 [00:35<02:51,  4.11it/s]"
     ]
    },
    {
     "name": "stderr",
     "output_type": "stream",
     "text": [
      "\r",
      "Sampling chain 0, 0 divergences:  30%|██▉       | 295/1000 [00:36<02:50,  4.13it/s]"
     ]
    },
    {
     "name": "stderr",
     "output_type": "stream",
     "text": [
      "\r",
      "Sampling chain 0, 0 divergences:  30%|██▉       | 296/1000 [00:36<02:50,  4.14it/s]"
     ]
    },
    {
     "name": "stderr",
     "output_type": "stream",
     "text": [
      "\r",
      "Sampling chain 0, 0 divergences:  30%|██▉       | 297/1000 [00:36<02:52,  4.07it/s]"
     ]
    },
    {
     "name": "stderr",
     "output_type": "stream",
     "text": [
      "\r",
      "Sampling chain 0, 0 divergences:  30%|██▉       | 298/1000 [00:36<02:51,  4.10it/s]"
     ]
    },
    {
     "name": "stderr",
     "output_type": "stream",
     "text": [
      "\r",
      "Sampling chain 0, 0 divergences:  30%|██▉       | 299/1000 [00:37<02:51,  4.08it/s]"
     ]
    },
    {
     "name": "stderr",
     "output_type": "stream",
     "text": [
      "\r",
      "Sampling chain 0, 0 divergences:  30%|███       | 300/1000 [00:37<02:51,  4.09it/s]"
     ]
    },
    {
     "name": "stderr",
     "output_type": "stream",
     "text": [
      "\r",
      "Sampling chain 0, 0 divergences:  30%|███       | 301/1000 [00:37<02:51,  4.08it/s]"
     ]
    },
    {
     "name": "stderr",
     "output_type": "stream",
     "text": [
      "\r",
      "Sampling chain 0, 0 divergences:  30%|███       | 302/1000 [00:37<02:49,  4.13it/s]"
     ]
    },
    {
     "name": "stderr",
     "output_type": "stream",
     "text": [
      "\r",
      "Sampling chain 0, 0 divergences:  30%|███       | 303/1000 [00:38<02:49,  4.11it/s]"
     ]
    },
    {
     "name": "stderr",
     "output_type": "stream",
     "text": [
      "\r",
      "Sampling chain 0, 0 divergences:  30%|███       | 304/1000 [00:38<02:49,  4.11it/s]"
     ]
    },
    {
     "name": "stderr",
     "output_type": "stream",
     "text": [
      "\r",
      "Sampling chain 0, 0 divergences:  30%|███       | 305/1000 [00:38<02:47,  4.15it/s]"
     ]
    },
    {
     "name": "stderr",
     "output_type": "stream",
     "text": [
      "\r",
      "Sampling chain 0, 0 divergences:  31%|███       | 306/1000 [00:38<02:47,  4.15it/s]"
     ]
    },
    {
     "name": "stderr",
     "output_type": "stream",
     "text": [
      "\r",
      "Sampling chain 0, 0 divergences:  31%|███       | 307/1000 [00:39<02:47,  4.14it/s]"
     ]
    },
    {
     "name": "stderr",
     "output_type": "stream",
     "text": [
      "\r",
      "Sampling chain 0, 0 divergences:  31%|███       | 308/1000 [00:39<02:46,  4.15it/s]"
     ]
    },
    {
     "name": "stderr",
     "output_type": "stream",
     "text": [
      "\r",
      "Sampling chain 0, 0 divergences:  31%|███       | 309/1000 [00:39<02:47,  4.12it/s]"
     ]
    },
    {
     "name": "stderr",
     "output_type": "stream",
     "text": [
      "\r",
      "Sampling chain 0, 0 divergences:  31%|███       | 310/1000 [00:39<02:48,  4.10it/s]"
     ]
    },
    {
     "name": "stderr",
     "output_type": "stream",
     "text": [
      "\r",
      "Sampling chain 0, 0 divergences:  31%|███       | 311/1000 [00:40<02:47,  4.12it/s]"
     ]
    },
    {
     "name": "stderr",
     "output_type": "stream",
     "text": [
      "\r",
      "Sampling chain 0, 0 divergences:  31%|███       | 312/1000 [00:40<02:46,  4.12it/s]"
     ]
    },
    {
     "name": "stderr",
     "output_type": "stream",
     "text": [
      "\r",
      "Sampling chain 0, 0 divergences:  31%|███▏      | 313/1000 [00:40<02:45,  4.16it/s]"
     ]
    },
    {
     "name": "stderr",
     "output_type": "stream",
     "text": [
      "\r",
      "Sampling chain 0, 0 divergences:  31%|███▏      | 314/1000 [00:40<02:44,  4.16it/s]"
     ]
    },
    {
     "name": "stderr",
     "output_type": "stream",
     "text": [
      "\r",
      "Sampling chain 0, 0 divergences:  32%|███▏      | 315/1000 [00:40<02:45,  4.14it/s]"
     ]
    },
    {
     "name": "stderr",
     "output_type": "stream",
     "text": [
      "\r",
      "Sampling chain 0, 0 divergences:  32%|███▏      | 316/1000 [00:41<02:48,  4.07it/s]"
     ]
    },
    {
     "name": "stderr",
     "output_type": "stream",
     "text": [
      "\r",
      "Sampling chain 0, 0 divergences:  32%|███▏      | 317/1000 [00:41<02:48,  4.05it/s]"
     ]
    },
    {
     "name": "stderr",
     "output_type": "stream",
     "text": [
      "\r",
      "Sampling chain 0, 0 divergences:  32%|███▏      | 318/1000 [00:41<02:48,  4.05it/s]"
     ]
    },
    {
     "name": "stderr",
     "output_type": "stream",
     "text": [
      "\r",
      "Sampling chain 0, 0 divergences:  32%|███▏      | 319/1000 [00:41<02:47,  4.07it/s]"
     ]
    },
    {
     "name": "stderr",
     "output_type": "stream",
     "text": [
      "\r",
      "Sampling chain 0, 0 divergences:  32%|███▏      | 320/1000 [00:42<02:47,  4.06it/s]"
     ]
    },
    {
     "name": "stderr",
     "output_type": "stream",
     "text": [
      "\r",
      "Sampling chain 0, 0 divergences:  32%|███▏      | 321/1000 [00:42<02:46,  4.08it/s]"
     ]
    },
    {
     "name": "stderr",
     "output_type": "stream",
     "text": [
      "\r",
      "Sampling chain 0, 0 divergences:  32%|███▏      | 322/1000 [00:42<02:45,  4.10it/s]"
     ]
    },
    {
     "name": "stderr",
     "output_type": "stream",
     "text": [
      "\r",
      "Sampling chain 0, 0 divergences:  32%|███▏      | 323/1000 [00:42<02:44,  4.11it/s]"
     ]
    },
    {
     "name": "stderr",
     "output_type": "stream",
     "text": [
      "\r",
      "Sampling chain 0, 0 divergences:  32%|███▏      | 324/1000 [00:43<02:48,  4.02it/s]"
     ]
    },
    {
     "name": "stderr",
     "output_type": "stream",
     "text": [
      "\r",
      "Sampling chain 0, 0 divergences:  32%|███▎      | 325/1000 [00:43<02:45,  4.07it/s]"
     ]
    },
    {
     "name": "stderr",
     "output_type": "stream",
     "text": [
      "\r",
      "Sampling chain 0, 0 divergences:  33%|███▎      | 326/1000 [00:43<02:46,  4.04it/s]"
     ]
    },
    {
     "name": "stderr",
     "output_type": "stream",
     "text": [
      "\r",
      "Sampling chain 0, 0 divergences:  33%|███▎      | 327/1000 [00:43<02:43,  4.10it/s]"
     ]
    },
    {
     "name": "stderr",
     "output_type": "stream",
     "text": [
      "\r",
      "Sampling chain 0, 0 divergences:  33%|███▎      | 328/1000 [00:44<02:43,  4.11it/s]"
     ]
    },
    {
     "name": "stderr",
     "output_type": "stream",
     "text": [
      "\r",
      "Sampling chain 0, 0 divergences:  33%|███▎      | 329/1000 [00:44<02:43,  4.10it/s]"
     ]
    },
    {
     "name": "stderr",
     "output_type": "stream",
     "text": [
      "\r",
      "Sampling chain 0, 0 divergences:  33%|███▎      | 330/1000 [00:44<02:43,  4.09it/s]"
     ]
    },
    {
     "name": "stderr",
     "output_type": "stream",
     "text": [
      "\r",
      "Sampling chain 0, 0 divergences:  33%|███▎      | 331/1000 [00:44<02:45,  4.05it/s]"
     ]
    },
    {
     "name": "stderr",
     "output_type": "stream",
     "text": [
      "\r",
      "Sampling chain 0, 0 divergences:  33%|███▎      | 332/1000 [00:45<02:44,  4.06it/s]"
     ]
    },
    {
     "name": "stderr",
     "output_type": "stream",
     "text": [
      "\r",
      "Sampling chain 0, 0 divergences:  33%|███▎      | 333/1000 [00:45<02:47,  3.99it/s]"
     ]
    },
    {
     "name": "stderr",
     "output_type": "stream",
     "text": [
      "\r",
      "Sampling chain 0, 0 divergences:  33%|███▎      | 334/1000 [00:45<02:44,  4.06it/s]"
     ]
    },
    {
     "name": "stderr",
     "output_type": "stream",
     "text": [
      "\r",
      "Sampling chain 0, 0 divergences:  34%|███▎      | 335/1000 [00:45<02:42,  4.08it/s]"
     ]
    },
    {
     "name": "stderr",
     "output_type": "stream",
     "text": [
      "\r",
      "Sampling chain 0, 0 divergences:  34%|███▎      | 336/1000 [00:46<02:39,  4.17it/s]"
     ]
    },
    {
     "name": "stderr",
     "output_type": "stream",
     "text": [
      "\r",
      "Sampling chain 0, 0 divergences:  34%|███▎      | 337/1000 [00:46<02:38,  4.18it/s]"
     ]
    },
    {
     "name": "stderr",
     "output_type": "stream",
     "text": [
      "\r",
      "Sampling chain 0, 0 divergences:  34%|███▍      | 338/1000 [00:46<02:39,  4.15it/s]"
     ]
    },
    {
     "name": "stderr",
     "output_type": "stream",
     "text": [
      "\r",
      "Sampling chain 0, 0 divergences:  34%|███▍      | 339/1000 [00:46<02:37,  4.21it/s]"
     ]
    },
    {
     "name": "stderr",
     "output_type": "stream",
     "text": [
      "\r",
      "Sampling chain 0, 0 divergences:  34%|███▍      | 340/1000 [00:47<02:38,  4.17it/s]"
     ]
    },
    {
     "name": "stderr",
     "output_type": "stream",
     "text": [
      "\r",
      "Sampling chain 0, 0 divergences:  34%|███▍      | 341/1000 [00:47<02:38,  4.15it/s]"
     ]
    },
    {
     "name": "stderr",
     "output_type": "stream",
     "text": [
      "\r",
      "Sampling chain 0, 0 divergences:  34%|███▍      | 342/1000 [00:47<02:38,  4.15it/s]"
     ]
    },
    {
     "name": "stderr",
     "output_type": "stream",
     "text": [
      "\r",
      "Sampling chain 0, 0 divergences:  34%|███▍      | 343/1000 [00:47<02:39,  4.11it/s]"
     ]
    },
    {
     "name": "stderr",
     "output_type": "stream",
     "text": [
      "\r",
      "Sampling chain 0, 0 divergences:  34%|███▍      | 344/1000 [00:48<02:39,  4.11it/s]"
     ]
    },
    {
     "name": "stderr",
     "output_type": "stream",
     "text": [
      "\r",
      "Sampling chain 0, 0 divergences:  34%|███▍      | 345/1000 [00:48<02:39,  4.10it/s]"
     ]
    },
    {
     "name": "stderr",
     "output_type": "stream",
     "text": [
      "\r",
      "Sampling chain 0, 0 divergences:  35%|███▍      | 346/1000 [00:48<02:40,  4.07it/s]"
     ]
    },
    {
     "name": "stderr",
     "output_type": "stream",
     "text": [
      "\r",
      "Sampling chain 0, 0 divergences:  35%|███▍      | 347/1000 [00:48<02:40,  4.06it/s]"
     ]
    },
    {
     "name": "stderr",
     "output_type": "stream",
     "text": [
      "\r",
      "Sampling chain 0, 0 divergences:  35%|███▍      | 348/1000 [00:49<02:40,  4.07it/s]"
     ]
    },
    {
     "name": "stderr",
     "output_type": "stream",
     "text": [
      "\r",
      "Sampling chain 0, 0 divergences:  35%|███▍      | 349/1000 [00:49<02:39,  4.08it/s]"
     ]
    },
    {
     "name": "stderr",
     "output_type": "stream",
     "text": [
      "\r",
      "Sampling chain 0, 0 divergences:  35%|███▌      | 350/1000 [00:49<02:37,  4.12it/s]"
     ]
    },
    {
     "name": "stderr",
     "output_type": "stream",
     "text": [
      "\r",
      "Sampling chain 0, 0 divergences:  35%|███▌      | 351/1000 [00:49<02:38,  4.11it/s]"
     ]
    },
    {
     "name": "stderr",
     "output_type": "stream",
     "text": [
      "\r",
      "Sampling chain 0, 0 divergences:  35%|███▌      | 352/1000 [00:50<02:37,  4.11it/s]"
     ]
    },
    {
     "name": "stderr",
     "output_type": "stream",
     "text": [
      "\r",
      "Sampling chain 0, 0 divergences:  35%|███▌      | 353/1000 [00:50<02:40,  4.04it/s]"
     ]
    },
    {
     "name": "stderr",
     "output_type": "stream",
     "text": [
      "\r",
      "Sampling chain 0, 0 divergences:  35%|███▌      | 354/1000 [00:50<02:39,  4.04it/s]"
     ]
    },
    {
     "name": "stderr",
     "output_type": "stream",
     "text": [
      "\r",
      "Sampling chain 0, 0 divergences:  36%|███▌      | 355/1000 [00:50<02:40,  4.01it/s]"
     ]
    },
    {
     "name": "stderr",
     "output_type": "stream",
     "text": [
      "\r",
      "Sampling chain 0, 0 divergences:  36%|███▌      | 356/1000 [00:51<02:39,  4.04it/s]"
     ]
    },
    {
     "name": "stderr",
     "output_type": "stream",
     "text": [
      "\r",
      "Sampling chain 0, 0 divergences:  36%|███▌      | 357/1000 [00:51<02:39,  4.04it/s]"
     ]
    },
    {
     "name": "stderr",
     "output_type": "stream",
     "text": [
      "\r",
      "Sampling chain 0, 0 divergences:  36%|███▌      | 358/1000 [00:51<02:38,  4.05it/s]"
     ]
    },
    {
     "name": "stderr",
     "output_type": "stream",
     "text": [
      "\r",
      "Sampling chain 0, 0 divergences:  36%|███▌      | 359/1000 [00:51<02:37,  4.06it/s]"
     ]
    },
    {
     "name": "stderr",
     "output_type": "stream",
     "text": [
      "\r",
      "Sampling chain 0, 0 divergences:  36%|███▌      | 360/1000 [00:52<02:37,  4.06it/s]"
     ]
    },
    {
     "name": "stderr",
     "output_type": "stream",
     "text": [
      "\r",
      "Sampling chain 0, 0 divergences:  36%|███▌      | 361/1000 [00:52<02:36,  4.09it/s]"
     ]
    },
    {
     "name": "stderr",
     "output_type": "stream",
     "text": [
      "\r",
      "Sampling chain 0, 0 divergences:  36%|███▌      | 362/1000 [00:52<02:35,  4.10it/s]"
     ]
    },
    {
     "name": "stderr",
     "output_type": "stream",
     "text": [
      "\r",
      "Sampling chain 0, 0 divergences:  36%|███▋      | 363/1000 [00:52<02:35,  4.10it/s]"
     ]
    },
    {
     "name": "stderr",
     "output_type": "stream",
     "text": [
      "\r",
      "Sampling chain 0, 0 divergences:  36%|███▋      | 364/1000 [00:52<02:34,  4.13it/s]"
     ]
    },
    {
     "name": "stderr",
     "output_type": "stream",
     "text": [
      "\r",
      "Sampling chain 0, 0 divergences:  36%|███▋      | 365/1000 [00:53<02:33,  4.14it/s]"
     ]
    },
    {
     "name": "stderr",
     "output_type": "stream",
     "text": [
      "\r",
      "Sampling chain 0, 0 divergences:  37%|███▋      | 366/1000 [00:53<02:33,  4.13it/s]"
     ]
    },
    {
     "name": "stderr",
     "output_type": "stream",
     "text": [
      "\r",
      "Sampling chain 0, 0 divergences:  37%|███▋      | 367/1000 [00:53<02:33,  4.13it/s]"
     ]
    },
    {
     "name": "stderr",
     "output_type": "stream",
     "text": [
      "\r",
      "Sampling chain 0, 0 divergences:  37%|███▋      | 368/1000 [00:53<02:34,  4.09it/s]"
     ]
    },
    {
     "name": "stderr",
     "output_type": "stream",
     "text": [
      "\r",
      "Sampling chain 0, 0 divergences:  37%|███▋      | 369/1000 [00:54<02:33,  4.11it/s]"
     ]
    },
    {
     "name": "stderr",
     "output_type": "stream",
     "text": [
      "\r",
      "Sampling chain 0, 0 divergences:  37%|███▋      | 370/1000 [00:54<02:37,  3.99it/s]"
     ]
    },
    {
     "name": "stderr",
     "output_type": "stream",
     "text": [
      "\r",
      "Sampling chain 0, 0 divergences:  37%|███▋      | 371/1000 [00:54<02:37,  3.98it/s]"
     ]
    },
    {
     "name": "stderr",
     "output_type": "stream",
     "text": [
      "\r",
      "Sampling chain 0, 0 divergences:  37%|███▋      | 372/1000 [00:54<02:34,  4.05it/s]"
     ]
    },
    {
     "name": "stderr",
     "output_type": "stream",
     "text": [
      "\r",
      "Sampling chain 0, 0 divergences:  37%|███▋      | 373/1000 [00:55<02:30,  4.15it/s]"
     ]
    },
    {
     "name": "stderr",
     "output_type": "stream",
     "text": [
      "\r",
      "Sampling chain 0, 0 divergences:  37%|███▋      | 374/1000 [00:55<02:30,  4.16it/s]"
     ]
    },
    {
     "name": "stderr",
     "output_type": "stream",
     "text": [
      "\r",
      "Sampling chain 0, 0 divergences:  38%|███▊      | 375/1000 [00:55<02:29,  4.18it/s]"
     ]
    },
    {
     "name": "stderr",
     "output_type": "stream",
     "text": [
      "\r",
      "Sampling chain 0, 0 divergences:  38%|███▊      | 376/1000 [00:55<02:29,  4.18it/s]"
     ]
    },
    {
     "name": "stderr",
     "output_type": "stream",
     "text": [
      "\r",
      "Sampling chain 0, 0 divergences:  38%|███▊      | 377/1000 [00:56<02:30,  4.15it/s]"
     ]
    },
    {
     "name": "stderr",
     "output_type": "stream",
     "text": [
      "\r",
      "Sampling chain 0, 0 divergences:  38%|███▊      | 378/1000 [00:56<02:28,  4.18it/s]"
     ]
    },
    {
     "name": "stderr",
     "output_type": "stream",
     "text": [
      "\r",
      "Sampling chain 0, 0 divergences:  38%|███▊      | 379/1000 [00:56<02:27,  4.20it/s]"
     ]
    },
    {
     "name": "stderr",
     "output_type": "stream",
     "text": [
      "\r",
      "Sampling chain 0, 0 divergences:  38%|███▊      | 380/1000 [00:56<02:26,  4.24it/s]"
     ]
    },
    {
     "name": "stderr",
     "output_type": "stream",
     "text": [
      "\r",
      "Sampling chain 0, 0 divergences:  38%|███▊      | 381/1000 [00:57<02:25,  4.25it/s]"
     ]
    },
    {
     "name": "stderr",
     "output_type": "stream",
     "text": [
      "\r",
      "Sampling chain 0, 0 divergences:  38%|███▊      | 382/1000 [00:57<02:27,  4.20it/s]"
     ]
    },
    {
     "name": "stderr",
     "output_type": "stream",
     "text": [
      "\r",
      "Sampling chain 0, 0 divergences:  38%|███▊      | 383/1000 [00:57<02:25,  4.23it/s]"
     ]
    },
    {
     "name": "stderr",
     "output_type": "stream",
     "text": [
      "\r",
      "Sampling chain 0, 0 divergences:  38%|███▊      | 384/1000 [00:57<02:24,  4.26it/s]"
     ]
    },
    {
     "name": "stderr",
     "output_type": "stream",
     "text": [
      "\r",
      "Sampling chain 0, 0 divergences:  38%|███▊      | 385/1000 [00:58<02:26,  4.20it/s]"
     ]
    },
    {
     "name": "stderr",
     "output_type": "stream",
     "text": [
      "\r",
      "Sampling chain 0, 0 divergences:  39%|███▊      | 386/1000 [00:58<02:26,  4.20it/s]"
     ]
    },
    {
     "name": "stderr",
     "output_type": "stream",
     "text": [
      "\r",
      "Sampling chain 0, 0 divergences:  39%|███▊      | 387/1000 [00:58<02:26,  4.17it/s]"
     ]
    },
    {
     "name": "stderr",
     "output_type": "stream",
     "text": [
      "\r",
      "Sampling chain 0, 0 divergences:  39%|███▉      | 388/1000 [00:58<02:27,  4.16it/s]"
     ]
    },
    {
     "name": "stderr",
     "output_type": "stream",
     "text": [
      "\r",
      "Sampling chain 0, 0 divergences:  39%|███▉      | 389/1000 [00:58<02:28,  4.13it/s]"
     ]
    },
    {
     "name": "stderr",
     "output_type": "stream",
     "text": [
      "\r",
      "Sampling chain 0, 0 divergences:  39%|███▉      | 390/1000 [00:59<02:25,  4.18it/s]"
     ]
    },
    {
     "name": "stderr",
     "output_type": "stream",
     "text": [
      "\r",
      "Sampling chain 0, 0 divergences:  39%|███▉      | 391/1000 [00:59<02:25,  4.20it/s]"
     ]
    },
    {
     "name": "stderr",
     "output_type": "stream",
     "text": [
      "\r",
      "Sampling chain 0, 0 divergences:  39%|███▉      | 392/1000 [00:59<02:25,  4.17it/s]"
     ]
    },
    {
     "name": "stderr",
     "output_type": "stream",
     "text": [
      "\r",
      "Sampling chain 0, 0 divergences:  39%|███▉      | 393/1000 [00:59<02:24,  4.19it/s]"
     ]
    },
    {
     "name": "stderr",
     "output_type": "stream",
     "text": [
      "\r",
      "Sampling chain 0, 0 divergences:  39%|███▉      | 394/1000 [01:00<02:24,  4.20it/s]"
     ]
    },
    {
     "name": "stderr",
     "output_type": "stream",
     "text": [
      "\r",
      "Sampling chain 0, 0 divergences:  40%|███▉      | 395/1000 [01:00<02:24,  4.19it/s]"
     ]
    },
    {
     "name": "stderr",
     "output_type": "stream",
     "text": [
      "\r",
      "Sampling chain 0, 0 divergences:  40%|███▉      | 396/1000 [01:00<02:23,  4.21it/s]"
     ]
    },
    {
     "name": "stderr",
     "output_type": "stream",
     "text": [
      "\r",
      "Sampling chain 0, 0 divergences:  40%|███▉      | 397/1000 [01:00<02:21,  4.27it/s]"
     ]
    },
    {
     "name": "stderr",
     "output_type": "stream",
     "text": [
      "\r",
      "Sampling chain 0, 0 divergences:  40%|███▉      | 398/1000 [01:01<02:21,  4.26it/s]"
     ]
    },
    {
     "name": "stderr",
     "output_type": "stream",
     "text": [
      "\r",
      "Sampling chain 0, 0 divergences:  40%|███▉      | 399/1000 [01:01<02:20,  4.28it/s]"
     ]
    },
    {
     "name": "stderr",
     "output_type": "stream",
     "text": [
      "\r",
      "Sampling chain 0, 0 divergences:  40%|████      | 400/1000 [01:01<02:20,  4.28it/s]"
     ]
    },
    {
     "name": "stderr",
     "output_type": "stream",
     "text": [
      "\r",
      "Sampling chain 0, 0 divergences:  40%|████      | 401/1000 [01:01<02:19,  4.30it/s]"
     ]
    },
    {
     "name": "stderr",
     "output_type": "stream",
     "text": [
      "\r",
      "Sampling chain 0, 0 divergences:  40%|████      | 402/1000 [01:02<02:19,  4.30it/s]"
     ]
    },
    {
     "name": "stderr",
     "output_type": "stream",
     "text": [
      "\r",
      "Sampling chain 0, 0 divergences:  40%|████      | 403/1000 [01:02<02:19,  4.27it/s]"
     ]
    },
    {
     "name": "stderr",
     "output_type": "stream",
     "text": [
      "\r",
      "Sampling chain 0, 0 divergences:  40%|████      | 404/1000 [01:02<02:22,  4.19it/s]"
     ]
    },
    {
     "name": "stderr",
     "output_type": "stream",
     "text": [
      "\r",
      "Sampling chain 0, 0 divergences:  40%|████      | 405/1000 [01:02<02:23,  4.15it/s]"
     ]
    },
    {
     "name": "stderr",
     "output_type": "stream",
     "text": [
      "\r",
      "Sampling chain 0, 0 divergences:  41%|████      | 406/1000 [01:03<02:21,  4.19it/s]"
     ]
    },
    {
     "name": "stderr",
     "output_type": "stream",
     "text": [
      "\r",
      "Sampling chain 0, 0 divergences:  41%|████      | 407/1000 [01:03<02:21,  4.18it/s]"
     ]
    },
    {
     "name": "stderr",
     "output_type": "stream",
     "text": [
      "\r",
      "Sampling chain 0, 0 divergences:  41%|████      | 408/1000 [01:03<02:22,  4.16it/s]"
     ]
    },
    {
     "name": "stderr",
     "output_type": "stream",
     "text": [
      "\r",
      "Sampling chain 0, 0 divergences:  41%|████      | 409/1000 [01:03<02:22,  4.15it/s]"
     ]
    },
    {
     "name": "stderr",
     "output_type": "stream",
     "text": [
      "\r",
      "Sampling chain 0, 0 divergences:  41%|████      | 410/1000 [01:03<02:22,  4.15it/s]"
     ]
    },
    {
     "name": "stderr",
     "output_type": "stream",
     "text": [
      "\r",
      "Sampling chain 0, 0 divergences:  41%|████      | 411/1000 [01:04<02:23,  4.11it/s]"
     ]
    },
    {
     "name": "stderr",
     "output_type": "stream",
     "text": [
      "\r",
      "Sampling chain 0, 0 divergences:  41%|████      | 412/1000 [01:04<02:20,  4.17it/s]"
     ]
    },
    {
     "name": "stderr",
     "output_type": "stream",
     "text": [
      "\r",
      "Sampling chain 0, 0 divergences:  41%|████▏     | 413/1000 [01:04<02:21,  4.15it/s]"
     ]
    },
    {
     "name": "stderr",
     "output_type": "stream",
     "text": [
      "\r",
      "Sampling chain 0, 0 divergences:  41%|████▏     | 414/1000 [01:04<02:20,  4.16it/s]"
     ]
    },
    {
     "name": "stderr",
     "output_type": "stream",
     "text": [
      "\r",
      "Sampling chain 0, 0 divergences:  42%|████▏     | 415/1000 [01:05<02:18,  4.21it/s]"
     ]
    },
    {
     "name": "stderr",
     "output_type": "stream",
     "text": [
      "\r",
      "Sampling chain 0, 0 divergences:  42%|████▏     | 416/1000 [01:05<02:20,  4.16it/s]"
     ]
    },
    {
     "name": "stderr",
     "output_type": "stream",
     "text": [
      "\r",
      "Sampling chain 0, 0 divergences:  42%|████▏     | 417/1000 [01:05<02:19,  4.19it/s]"
     ]
    },
    {
     "name": "stderr",
     "output_type": "stream",
     "text": [
      "\r",
      "Sampling chain 0, 0 divergences:  42%|████▏     | 418/1000 [01:05<02:16,  4.25it/s]"
     ]
    },
    {
     "name": "stderr",
     "output_type": "stream",
     "text": [
      "\r",
      "Sampling chain 0, 0 divergences:  42%|████▏     | 419/1000 [01:06<02:17,  4.22it/s]"
     ]
    },
    {
     "name": "stderr",
     "output_type": "stream",
     "text": [
      "\r",
      "Sampling chain 0, 0 divergences:  42%|████▏     | 420/1000 [01:06<02:19,  4.17it/s]"
     ]
    },
    {
     "name": "stderr",
     "output_type": "stream",
     "text": [
      "\r",
      "Sampling chain 0, 0 divergences:  42%|████▏     | 421/1000 [01:06<02:20,  4.12it/s]"
     ]
    },
    {
     "name": "stderr",
     "output_type": "stream",
     "text": [
      "\r",
      "Sampling chain 0, 0 divergences:  42%|████▏     | 422/1000 [01:06<02:19,  4.14it/s]"
     ]
    },
    {
     "name": "stderr",
     "output_type": "stream",
     "text": [
      "\r",
      "Sampling chain 0, 0 divergences:  42%|████▏     | 423/1000 [01:07<02:19,  4.14it/s]"
     ]
    },
    {
     "name": "stderr",
     "output_type": "stream",
     "text": [
      "\r",
      "Sampling chain 0, 0 divergences:  42%|████▏     | 424/1000 [01:07<02:18,  4.15it/s]"
     ]
    },
    {
     "name": "stderr",
     "output_type": "stream",
     "text": [
      "\r",
      "Sampling chain 0, 0 divergences:  42%|████▎     | 425/1000 [01:07<02:19,  4.12it/s]"
     ]
    },
    {
     "name": "stderr",
     "output_type": "stream",
     "text": [
      "\r",
      "Sampling chain 0, 0 divergences:  43%|████▎     | 426/1000 [01:07<02:20,  4.10it/s]"
     ]
    },
    {
     "name": "stderr",
     "output_type": "stream",
     "text": [
      "\r",
      "Sampling chain 0, 0 divergences:  43%|████▎     | 427/1000 [01:08<02:20,  4.07it/s]"
     ]
    },
    {
     "name": "stderr",
     "output_type": "stream",
     "text": [
      "\r",
      "Sampling chain 0, 0 divergences:  43%|████▎     | 428/1000 [01:08<02:20,  4.06it/s]"
     ]
    },
    {
     "name": "stderr",
     "output_type": "stream",
     "text": [
      "\r",
      "Sampling chain 0, 0 divergences:  43%|████▎     | 429/1000 [01:08<02:20,  4.06it/s]"
     ]
    },
    {
     "name": "stderr",
     "output_type": "stream",
     "text": [
      "\r",
      "Sampling chain 0, 0 divergences:  43%|████▎     | 430/1000 [01:08<02:19,  4.09it/s]"
     ]
    },
    {
     "name": "stderr",
     "output_type": "stream",
     "text": [
      "\r",
      "Sampling chain 0, 0 divergences:  43%|████▎     | 431/1000 [01:09<02:19,  4.09it/s]"
     ]
    },
    {
     "name": "stderr",
     "output_type": "stream",
     "text": [
      "\r",
      "Sampling chain 0, 0 divergences:  43%|████▎     | 432/1000 [01:09<02:16,  4.15it/s]"
     ]
    },
    {
     "name": "stderr",
     "output_type": "stream",
     "text": [
      "\r",
      "Sampling chain 0, 0 divergences:  43%|████▎     | 433/1000 [01:09<02:16,  4.16it/s]"
     ]
    },
    {
     "name": "stderr",
     "output_type": "stream",
     "text": [
      "\r",
      "Sampling chain 0, 0 divergences:  43%|████▎     | 434/1000 [01:09<02:18,  4.08it/s]"
     ]
    },
    {
     "name": "stderr",
     "output_type": "stream",
     "text": [
      "\r",
      "Sampling chain 0, 0 divergences:  44%|████▎     | 435/1000 [01:10<02:18,  4.07it/s]"
     ]
    },
    {
     "name": "stderr",
     "output_type": "stream",
     "text": [
      "\r",
      "Sampling chain 0, 0 divergences:  44%|████▎     | 436/1000 [01:10<02:16,  4.12it/s]"
     ]
    },
    {
     "name": "stderr",
     "output_type": "stream",
     "text": [
      "\r",
      "Sampling chain 0, 0 divergences:  44%|████▎     | 437/1000 [01:10<02:17,  4.09it/s]"
     ]
    },
    {
     "name": "stderr",
     "output_type": "stream",
     "text": [
      "\r",
      "Sampling chain 0, 0 divergences:  44%|████▍     | 438/1000 [01:10<02:17,  4.09it/s]"
     ]
    },
    {
     "name": "stderr",
     "output_type": "stream",
     "text": [
      "\r",
      "Sampling chain 0, 0 divergences:  44%|████▍     | 439/1000 [01:11<02:17,  4.07it/s]"
     ]
    },
    {
     "name": "stderr",
     "output_type": "stream",
     "text": [
      "\r",
      "Sampling chain 0, 0 divergences:  44%|████▍     | 440/1000 [01:11<02:17,  4.06it/s]"
     ]
    },
    {
     "name": "stderr",
     "output_type": "stream",
     "text": [
      "\r",
      "Sampling chain 0, 0 divergences:  44%|████▍     | 441/1000 [01:11<02:18,  4.04it/s]"
     ]
    },
    {
     "name": "stderr",
     "output_type": "stream",
     "text": [
      "\r",
      "Sampling chain 0, 0 divergences:  44%|████▍     | 442/1000 [01:11<02:17,  4.05it/s]"
     ]
    },
    {
     "name": "stderr",
     "output_type": "stream",
     "text": [
      "\r",
      "Sampling chain 0, 0 divergences:  44%|████▍     | 443/1000 [01:11<02:15,  4.10it/s]"
     ]
    },
    {
     "name": "stderr",
     "output_type": "stream",
     "text": [
      "\r",
      "Sampling chain 0, 0 divergences:  44%|████▍     | 444/1000 [01:12<02:15,  4.11it/s]"
     ]
    },
    {
     "name": "stderr",
     "output_type": "stream",
     "text": [
      "\r",
      "Sampling chain 0, 0 divergences:  44%|████▍     | 445/1000 [01:12<02:14,  4.14it/s]"
     ]
    },
    {
     "name": "stderr",
     "output_type": "stream",
     "text": [
      "\r",
      "Sampling chain 0, 0 divergences:  45%|████▍     | 446/1000 [01:12<02:14,  4.11it/s]"
     ]
    },
    {
     "name": "stderr",
     "output_type": "stream",
     "text": [
      "\r",
      "Sampling chain 0, 0 divergences:  45%|████▍     | 447/1000 [01:12<02:16,  4.07it/s]"
     ]
    },
    {
     "name": "stderr",
     "output_type": "stream",
     "text": [
      "\r",
      "Sampling chain 0, 0 divergences:  45%|████▍     | 448/1000 [01:13<02:17,  4.02it/s]"
     ]
    },
    {
     "name": "stderr",
     "output_type": "stream",
     "text": [
      "\r",
      "Sampling chain 0, 0 divergences:  45%|████▍     | 449/1000 [01:13<02:15,  4.05it/s]"
     ]
    },
    {
     "name": "stderr",
     "output_type": "stream",
     "text": [
      "\r",
      "Sampling chain 0, 0 divergences:  45%|████▌     | 450/1000 [01:13<02:16,  4.04it/s]"
     ]
    },
    {
     "name": "stderr",
     "output_type": "stream",
     "text": [
      "\r",
      "Sampling chain 0, 0 divergences:  45%|████▌     | 451/1000 [01:13<02:14,  4.08it/s]"
     ]
    },
    {
     "name": "stderr",
     "output_type": "stream",
     "text": [
      "\r",
      "Sampling chain 0, 0 divergences:  45%|████▌     | 452/1000 [01:14<02:14,  4.07it/s]"
     ]
    },
    {
     "name": "stderr",
     "output_type": "stream",
     "text": [
      "\r",
      "Sampling chain 0, 0 divergences:  45%|████▌     | 453/1000 [01:14<02:13,  4.09it/s]"
     ]
    },
    {
     "name": "stderr",
     "output_type": "stream",
     "text": [
      "\r",
      "Sampling chain 0, 0 divergences:  45%|████▌     | 454/1000 [01:14<02:15,  4.04it/s]"
     ]
    },
    {
     "name": "stderr",
     "output_type": "stream",
     "text": [
      "\r",
      "Sampling chain 0, 0 divergences:  46%|████▌     | 455/1000 [01:14<02:15,  4.03it/s]"
     ]
    },
    {
     "name": "stderr",
     "output_type": "stream",
     "text": [
      "\r",
      "Sampling chain 0, 0 divergences:  46%|████▌     | 456/1000 [01:15<02:14,  4.04it/s]"
     ]
    },
    {
     "name": "stderr",
     "output_type": "stream",
     "text": [
      "\r",
      "Sampling chain 0, 0 divergences:  46%|████▌     | 457/1000 [01:15<02:12,  4.09it/s]"
     ]
    },
    {
     "name": "stderr",
     "output_type": "stream",
     "text": [
      "\r",
      "Sampling chain 0, 0 divergences:  46%|████▌     | 458/1000 [01:15<02:12,  4.09it/s]"
     ]
    },
    {
     "name": "stderr",
     "output_type": "stream",
     "text": [
      "\r",
      "Sampling chain 0, 0 divergences:  46%|████▌     | 459/1000 [01:15<02:12,  4.08it/s]"
     ]
    },
    {
     "name": "stderr",
     "output_type": "stream",
     "text": [
      "\r",
      "Sampling chain 0, 0 divergences:  46%|████▌     | 460/1000 [01:16<02:12,  4.09it/s]"
     ]
    },
    {
     "name": "stderr",
     "output_type": "stream",
     "text": [
      "\r",
      "Sampling chain 0, 0 divergences:  46%|████▌     | 461/1000 [01:16<02:11,  4.09it/s]"
     ]
    },
    {
     "name": "stderr",
     "output_type": "stream",
     "text": [
      "\r",
      "Sampling chain 0, 0 divergences:  46%|████▌     | 462/1000 [01:16<02:11,  4.08it/s]"
     ]
    },
    {
     "name": "stderr",
     "output_type": "stream",
     "text": [
      "\r",
      "Sampling chain 0, 0 divergences:  46%|████▋     | 463/1000 [01:16<02:11,  4.08it/s]"
     ]
    },
    {
     "name": "stderr",
     "output_type": "stream",
     "text": [
      "\r",
      "Sampling chain 0, 0 divergences:  46%|████▋     | 464/1000 [01:17<02:10,  4.11it/s]"
     ]
    },
    {
     "name": "stderr",
     "output_type": "stream",
     "text": [
      "\r",
      "Sampling chain 0, 0 divergences:  46%|████▋     | 465/1000 [01:17<02:09,  4.12it/s]"
     ]
    },
    {
     "name": "stderr",
     "output_type": "stream",
     "text": [
      "\r",
      "Sampling chain 0, 0 divergences:  47%|████▋     | 466/1000 [01:17<02:09,  4.12it/s]"
     ]
    },
    {
     "name": "stderr",
     "output_type": "stream",
     "text": [
      "\r",
      "Sampling chain 0, 0 divergences:  47%|████▋     | 467/1000 [01:17<02:09,  4.13it/s]"
     ]
    },
    {
     "name": "stderr",
     "output_type": "stream",
     "text": [
      "\r",
      "Sampling chain 0, 0 divergences:  47%|████▋     | 468/1000 [01:18<02:11,  4.04it/s]"
     ]
    },
    {
     "name": "stderr",
     "output_type": "stream",
     "text": [
      "\r",
      "Sampling chain 0, 0 divergences:  47%|████▋     | 469/1000 [01:18<02:10,  4.07it/s]"
     ]
    },
    {
     "name": "stderr",
     "output_type": "stream",
     "text": [
      "\r",
      "Sampling chain 0, 0 divergences:  47%|████▋     | 470/1000 [01:18<02:08,  4.13it/s]"
     ]
    },
    {
     "name": "stderr",
     "output_type": "stream",
     "text": [
      "\r",
      "Sampling chain 0, 0 divergences:  47%|████▋     | 471/1000 [01:18<02:07,  4.14it/s]"
     ]
    },
    {
     "name": "stderr",
     "output_type": "stream",
     "text": [
      "\r",
      "Sampling chain 0, 0 divergences:  47%|████▋     | 472/1000 [01:19<02:06,  4.17it/s]"
     ]
    },
    {
     "name": "stderr",
     "output_type": "stream",
     "text": [
      "\r",
      "Sampling chain 0, 0 divergences:  47%|████▋     | 473/1000 [01:19<02:07,  4.15it/s]"
     ]
    },
    {
     "name": "stderr",
     "output_type": "stream",
     "text": [
      "\r",
      "Sampling chain 0, 0 divergences:  47%|████▋     | 474/1000 [01:19<02:06,  4.14it/s]"
     ]
    },
    {
     "name": "stderr",
     "output_type": "stream",
     "text": [
      "\r",
      "Sampling chain 0, 0 divergences:  48%|████▊     | 475/1000 [01:19<02:06,  4.14it/s]"
     ]
    },
    {
     "name": "stderr",
     "output_type": "stream",
     "text": [
      "\r",
      "Sampling chain 0, 0 divergences:  48%|████▊     | 476/1000 [01:20<02:06,  4.15it/s]"
     ]
    },
    {
     "name": "stderr",
     "output_type": "stream",
     "text": [
      "\r",
      "Sampling chain 0, 0 divergences:  48%|████▊     | 477/1000 [01:20<02:06,  4.15it/s]"
     ]
    },
    {
     "name": "stderr",
     "output_type": "stream",
     "text": [
      "\r",
      "Sampling chain 0, 0 divergences:  48%|████▊     | 478/1000 [01:20<02:06,  4.14it/s]"
     ]
    },
    {
     "name": "stderr",
     "output_type": "stream",
     "text": [
      "\r",
      "Sampling chain 0, 0 divergences:  48%|████▊     | 479/1000 [01:20<02:05,  4.16it/s]"
     ]
    },
    {
     "name": "stderr",
     "output_type": "stream",
     "text": [
      "\r",
      "Sampling chain 0, 0 divergences:  48%|████▊     | 480/1000 [01:20<02:03,  4.22it/s]"
     ]
    },
    {
     "name": "stderr",
     "output_type": "stream",
     "text": [
      "\r",
      "Sampling chain 0, 0 divergences:  48%|████▊     | 481/1000 [01:21<02:02,  4.24it/s]"
     ]
    },
    {
     "name": "stderr",
     "output_type": "stream",
     "text": [
      "\r",
      "Sampling chain 0, 0 divergences:  48%|████▊     | 482/1000 [01:21<02:04,  4.16it/s]"
     ]
    },
    {
     "name": "stderr",
     "output_type": "stream",
     "text": [
      "\r",
      "Sampling chain 0, 0 divergences:  48%|████▊     | 483/1000 [01:21<02:03,  4.18it/s]"
     ]
    },
    {
     "name": "stderr",
     "output_type": "stream",
     "text": [
      "\r",
      "Sampling chain 0, 0 divergences:  48%|████▊     | 484/1000 [01:21<02:03,  4.17it/s]"
     ]
    },
    {
     "name": "stderr",
     "output_type": "stream",
     "text": [
      "\r",
      "Sampling chain 0, 0 divergences:  48%|████▊     | 485/1000 [01:22<02:03,  4.15it/s]"
     ]
    },
    {
     "name": "stderr",
     "output_type": "stream",
     "text": [
      "\r",
      "Sampling chain 0, 0 divergences:  49%|████▊     | 486/1000 [01:22<02:03,  4.16it/s]"
     ]
    },
    {
     "name": "stderr",
     "output_type": "stream",
     "text": [
      "\r",
      "Sampling chain 0, 0 divergences:  49%|████▊     | 487/1000 [01:22<02:03,  4.15it/s]"
     ]
    },
    {
     "name": "stderr",
     "output_type": "stream",
     "text": [
      "\r",
      "Sampling chain 0, 0 divergences:  49%|████▉     | 488/1000 [01:22<02:03,  4.15it/s]"
     ]
    },
    {
     "name": "stderr",
     "output_type": "stream",
     "text": [
      "\r",
      "Sampling chain 0, 0 divergences:  49%|████▉     | 489/1000 [01:23<02:04,  4.10it/s]"
     ]
    },
    {
     "name": "stderr",
     "output_type": "stream",
     "text": [
      "\r",
      "Sampling chain 0, 0 divergences:  49%|████▉     | 490/1000 [01:23<02:05,  4.06it/s]"
     ]
    },
    {
     "name": "stderr",
     "output_type": "stream",
     "text": [
      "\r",
      "Sampling chain 0, 0 divergences:  49%|████▉     | 491/1000 [01:23<02:04,  4.10it/s]"
     ]
    },
    {
     "name": "stderr",
     "output_type": "stream",
     "text": [
      "\r",
      "Sampling chain 0, 0 divergences:  49%|████▉     | 492/1000 [01:23<02:05,  4.05it/s]"
     ]
    },
    {
     "name": "stderr",
     "output_type": "stream",
     "text": [
      "\r",
      "Sampling chain 0, 0 divergences:  49%|████▉     | 493/1000 [01:24<02:04,  4.07it/s]"
     ]
    },
    {
     "name": "stderr",
     "output_type": "stream",
     "text": [
      "\r",
      "Sampling chain 0, 0 divergences:  49%|████▉     | 494/1000 [01:24<02:04,  4.07it/s]"
     ]
    },
    {
     "name": "stderr",
     "output_type": "stream",
     "text": [
      "\r",
      "Sampling chain 0, 0 divergences:  50%|████▉     | 495/1000 [01:24<02:02,  4.12it/s]"
     ]
    },
    {
     "name": "stderr",
     "output_type": "stream",
     "text": [
      "\r",
      "Sampling chain 0, 0 divergences:  50%|████▉     | 496/1000 [01:24<02:07,  3.96it/s]"
     ]
    },
    {
     "name": "stderr",
     "output_type": "stream",
     "text": [
      "\r",
      "Sampling chain 0, 0 divergences:  50%|████▉     | 497/1000 [01:25<02:07,  3.94it/s]"
     ]
    },
    {
     "name": "stderr",
     "output_type": "stream",
     "text": [
      "\r",
      "Sampling chain 0, 0 divergences:  50%|████▉     | 498/1000 [01:25<02:04,  4.02it/s]"
     ]
    },
    {
     "name": "stderr",
     "output_type": "stream",
     "text": [
      "\r",
      "Sampling chain 0, 0 divergences:  50%|████▉     | 499/1000 [01:25<02:05,  4.00it/s]"
     ]
    },
    {
     "name": "stderr",
     "output_type": "stream",
     "text": [
      "\r",
      "Sampling chain 0, 0 divergences:  50%|█████     | 500/1000 [01:25<02:04,  4.00it/s]"
     ]
    },
    {
     "name": "stderr",
     "output_type": "stream",
     "text": [
      "\r",
      "Sampling chain 0, 0 divergences:  50%|█████     | 501/1000 [01:26<02:02,  4.09it/s]"
     ]
    },
    {
     "name": "stderr",
     "output_type": "stream",
     "text": [
      "\r",
      "Sampling chain 0, 0 divergences:  50%|█████     | 502/1000 [01:26<02:02,  4.08it/s]"
     ]
    },
    {
     "name": "stderr",
     "output_type": "stream",
     "text": [
      "\r",
      "Sampling chain 0, 0 divergences:  50%|█████     | 503/1000 [01:26<02:02,  4.05it/s]"
     ]
    },
    {
     "name": "stderr",
     "output_type": "stream",
     "text": [
      "\r",
      "Sampling chain 0, 0 divergences:  50%|█████     | 504/1000 [01:26<02:01,  4.09it/s]"
     ]
    },
    {
     "name": "stderr",
     "output_type": "stream",
     "text": [
      "\r",
      "Sampling chain 0, 0 divergences:  50%|█████     | 505/1000 [01:27<02:01,  4.06it/s]"
     ]
    },
    {
     "name": "stderr",
     "output_type": "stream",
     "text": [
      "\r",
      "Sampling chain 0, 0 divergences:  51%|█████     | 506/1000 [01:27<02:01,  4.08it/s]"
     ]
    },
    {
     "name": "stderr",
     "output_type": "stream",
     "text": [
      "\r",
      "Sampling chain 0, 0 divergences:  51%|█████     | 507/1000 [01:27<02:00,  4.10it/s]"
     ]
    },
    {
     "name": "stderr",
     "output_type": "stream",
     "text": [
      "\r",
      "Sampling chain 0, 0 divergences:  51%|█████     | 508/1000 [01:27<02:01,  4.07it/s]"
     ]
    },
    {
     "name": "stderr",
     "output_type": "stream",
     "text": [
      "\r",
      "Sampling chain 0, 0 divergences:  51%|█████     | 509/1000 [01:28<02:00,  4.06it/s]"
     ]
    },
    {
     "name": "stderr",
     "output_type": "stream",
     "text": [
      "\r",
      "Sampling chain 0, 0 divergences:  51%|█████     | 510/1000 [01:28<02:02,  4.00it/s]"
     ]
    },
    {
     "name": "stderr",
     "output_type": "stream",
     "text": [
      "\r",
      "Sampling chain 0, 0 divergences:  51%|█████     | 511/1000 [01:28<02:04,  3.94it/s]"
     ]
    },
    {
     "name": "stderr",
     "output_type": "stream",
     "text": [
      "\r",
      "Sampling chain 0, 0 divergences:  51%|█████     | 512/1000 [01:28<02:01,  4.03it/s]"
     ]
    },
    {
     "name": "stderr",
     "output_type": "stream",
     "text": [
      "\r",
      "Sampling chain 0, 0 divergences:  51%|█████▏    | 513/1000 [01:29<01:59,  4.08it/s]"
     ]
    },
    {
     "name": "stderr",
     "output_type": "stream",
     "text": [
      "\r",
      "Sampling chain 0, 0 divergences:  51%|█████▏    | 514/1000 [01:29<01:57,  4.15it/s]"
     ]
    },
    {
     "name": "stderr",
     "output_type": "stream",
     "text": [
      "\r",
      "Sampling chain 0, 0 divergences:  52%|█████▏    | 515/1000 [01:29<01:56,  4.17it/s]"
     ]
    },
    {
     "name": "stderr",
     "output_type": "stream",
     "text": [
      "\r",
      "Sampling chain 0, 0 divergences:  52%|█████▏    | 516/1000 [01:29<01:55,  4.18it/s]"
     ]
    },
    {
     "name": "stderr",
     "output_type": "stream",
     "text": [
      "\r",
      "Sampling chain 0, 0 divergences:  52%|█████▏    | 517/1000 [01:30<01:55,  4.17it/s]"
     ]
    },
    {
     "name": "stderr",
     "output_type": "stream",
     "text": [
      "\r",
      "Sampling chain 0, 0 divergences:  52%|█████▏    | 518/1000 [01:30<01:55,  4.16it/s]"
     ]
    },
    {
     "name": "stderr",
     "output_type": "stream",
     "text": [
      "\r",
      "Sampling chain 0, 0 divergences:  52%|█████▏    | 519/1000 [01:30<01:55,  4.15it/s]"
     ]
    },
    {
     "name": "stderr",
     "output_type": "stream",
     "text": [
      "\r",
      "Sampling chain 0, 0 divergences:  52%|█████▏    | 520/1000 [01:30<01:55,  4.16it/s]"
     ]
    },
    {
     "name": "stderr",
     "output_type": "stream",
     "text": [
      "\r",
      "Sampling chain 0, 0 divergences:  52%|█████▏    | 521/1000 [01:31<01:55,  4.15it/s]"
     ]
    },
    {
     "name": "stderr",
     "output_type": "stream",
     "text": [
      "\r",
      "Sampling chain 0, 0 divergences:  52%|█████▏    | 522/1000 [01:31<01:54,  4.17it/s]"
     ]
    },
    {
     "name": "stderr",
     "output_type": "stream",
     "text": [
      "\r",
      "Sampling chain 0, 0 divergences:  52%|█████▏    | 523/1000 [01:31<01:55,  4.13it/s]"
     ]
    },
    {
     "name": "stderr",
     "output_type": "stream",
     "text": [
      "\r",
      "Sampling chain 0, 0 divergences:  52%|█████▏    | 524/1000 [01:31<01:55,  4.14it/s]"
     ]
    },
    {
     "name": "stderr",
     "output_type": "stream",
     "text": [
      "\r",
      "Sampling chain 0, 0 divergences:  52%|█████▎    | 525/1000 [01:31<01:53,  4.18it/s]"
     ]
    },
    {
     "name": "stderr",
     "output_type": "stream",
     "text": [
      "\r",
      "Sampling chain 0, 0 divergences:  53%|█████▎    | 526/1000 [01:32<01:54,  4.15it/s]"
     ]
    },
    {
     "name": "stderr",
     "output_type": "stream",
     "text": [
      "\r",
      "Sampling chain 0, 0 divergences:  53%|█████▎    | 527/1000 [01:32<01:53,  4.15it/s]"
     ]
    },
    {
     "name": "stderr",
     "output_type": "stream",
     "text": [
      "\r",
      "Sampling chain 0, 0 divergences:  53%|█████▎    | 528/1000 [01:32<01:53,  4.16it/s]"
     ]
    },
    {
     "name": "stderr",
     "output_type": "stream",
     "text": [
      "\r",
      "Sampling chain 0, 0 divergences:  53%|█████▎    | 529/1000 [01:32<01:52,  4.19it/s]"
     ]
    },
    {
     "name": "stderr",
     "output_type": "stream",
     "text": [
      "\r",
      "Sampling chain 0, 0 divergences:  53%|█████▎    | 530/1000 [01:33<01:54,  4.10it/s]"
     ]
    },
    {
     "name": "stderr",
     "output_type": "stream",
     "text": [
      "\r",
      "Sampling chain 0, 0 divergences:  53%|█████▎    | 531/1000 [01:33<01:53,  4.13it/s]"
     ]
    },
    {
     "name": "stderr",
     "output_type": "stream",
     "text": [
      "\r",
      "Sampling chain 0, 0 divergences:  53%|█████▎    | 532/1000 [01:33<01:53,  4.12it/s]"
     ]
    },
    {
     "name": "stderr",
     "output_type": "stream",
     "text": [
      "\r",
      "Sampling chain 0, 0 divergences:  53%|█████▎    | 533/1000 [01:33<01:50,  4.23it/s]"
     ]
    },
    {
     "name": "stderr",
     "output_type": "stream",
     "text": [
      "\r",
      "Sampling chain 0, 0 divergences:  53%|█████▎    | 534/1000 [01:34<01:49,  4.24it/s]"
     ]
    },
    {
     "name": "stderr",
     "output_type": "stream",
     "text": [
      "\r",
      "Sampling chain 0, 0 divergences:  54%|█████▎    | 535/1000 [01:34<01:51,  4.17it/s]"
     ]
    },
    {
     "name": "stderr",
     "output_type": "stream",
     "text": [
      "\r",
      "Sampling chain 0, 0 divergences:  54%|█████▎    | 536/1000 [01:34<01:52,  4.13it/s]"
     ]
    },
    {
     "name": "stderr",
     "output_type": "stream",
     "text": [
      "\r",
      "Sampling chain 0, 0 divergences:  54%|█████▎    | 537/1000 [01:34<01:53,  4.07it/s]"
     ]
    },
    {
     "name": "stderr",
     "output_type": "stream",
     "text": [
      "\r",
      "Sampling chain 0, 0 divergences:  54%|█████▍    | 538/1000 [01:35<01:53,  4.07it/s]"
     ]
    },
    {
     "name": "stderr",
     "output_type": "stream",
     "text": [
      "\r",
      "Sampling chain 0, 0 divergences:  54%|█████▍    | 539/1000 [01:35<01:52,  4.10it/s]"
     ]
    },
    {
     "name": "stderr",
     "output_type": "stream",
     "text": [
      "\r",
      "Sampling chain 0, 0 divergences:  54%|█████▍    | 540/1000 [01:35<01:53,  4.07it/s]"
     ]
    },
    {
     "name": "stderr",
     "output_type": "stream",
     "text": [
      "\r",
      "Sampling chain 0, 0 divergences:  54%|█████▍    | 541/1000 [01:35<01:52,  4.08it/s]"
     ]
    },
    {
     "name": "stderr",
     "output_type": "stream",
     "text": [
      "\r",
      "Sampling chain 0, 0 divergences:  54%|█████▍    | 542/1000 [01:36<01:52,  4.09it/s]"
     ]
    },
    {
     "name": "stderr",
     "output_type": "stream",
     "text": [
      "\r",
      "Sampling chain 0, 0 divergences:  54%|█████▍    | 543/1000 [01:36<01:51,  4.11it/s]"
     ]
    },
    {
     "name": "stderr",
     "output_type": "stream",
     "text": [
      "\r",
      "Sampling chain 0, 0 divergences:  54%|█████▍    | 544/1000 [01:36<01:54,  3.98it/s]"
     ]
    },
    {
     "name": "stderr",
     "output_type": "stream",
     "text": [
      "\r",
      "Sampling chain 0, 0 divergences:  55%|█████▍    | 545/1000 [01:36<01:54,  3.97it/s]"
     ]
    },
    {
     "name": "stderr",
     "output_type": "stream",
     "text": [
      "\r",
      "Sampling chain 0, 0 divergences:  55%|█████▍    | 546/1000 [01:37<01:52,  4.02it/s]"
     ]
    },
    {
     "name": "stderr",
     "output_type": "stream",
     "text": [
      "\r",
      "Sampling chain 0, 0 divergences:  55%|█████▍    | 547/1000 [01:37<01:51,  4.06it/s]"
     ]
    },
    {
     "name": "stderr",
     "output_type": "stream",
     "text": [
      "\r",
      "Sampling chain 0, 0 divergences:  55%|█████▍    | 548/1000 [01:37<01:52,  4.01it/s]"
     ]
    },
    {
     "name": "stderr",
     "output_type": "stream",
     "text": [
      "\r",
      "Sampling chain 0, 0 divergences:  55%|█████▍    | 549/1000 [01:37<01:51,  4.04it/s]"
     ]
    },
    {
     "name": "stderr",
     "output_type": "stream",
     "text": [
      "\r",
      "Sampling chain 0, 0 divergences:  55%|█████▌    | 550/1000 [01:38<01:51,  4.05it/s]"
     ]
    },
    {
     "name": "stderr",
     "output_type": "stream",
     "text": [
      "\r",
      "Sampling chain 0, 0 divergences:  55%|█████▌    | 551/1000 [01:38<01:51,  4.04it/s]"
     ]
    },
    {
     "name": "stderr",
     "output_type": "stream",
     "text": [
      "\r",
      "Sampling chain 0, 0 divergences:  55%|█████▌    | 552/1000 [01:38<01:50,  4.05it/s]"
     ]
    },
    {
     "name": "stderr",
     "output_type": "stream",
     "text": [
      "\r",
      "Sampling chain 0, 0 divergences:  55%|█████▌    | 553/1000 [01:38<01:51,  3.99it/s]"
     ]
    },
    {
     "name": "stderr",
     "output_type": "stream",
     "text": [
      "\r",
      "Sampling chain 0, 0 divergences:  55%|█████▌    | 554/1000 [01:39<01:51,  4.01it/s]"
     ]
    },
    {
     "name": "stderr",
     "output_type": "stream",
     "text": [
      "\r",
      "Sampling chain 0, 0 divergences:  56%|█████▌    | 555/1000 [01:39<01:51,  4.01it/s]"
     ]
    },
    {
     "name": "stderr",
     "output_type": "stream",
     "text": [
      "\r",
      "Sampling chain 0, 0 divergences:  56%|█████▌    | 556/1000 [01:39<01:50,  4.03it/s]"
     ]
    },
    {
     "name": "stderr",
     "output_type": "stream",
     "text": [
      "\r",
      "Sampling chain 0, 0 divergences:  56%|█████▌    | 557/1000 [01:39<01:50,  4.01it/s]"
     ]
    },
    {
     "name": "stderr",
     "output_type": "stream",
     "text": [
      "\r",
      "Sampling chain 0, 0 divergences:  56%|█████▌    | 558/1000 [01:40<01:49,  4.03it/s]"
     ]
    },
    {
     "name": "stderr",
     "output_type": "stream",
     "text": [
      "\r",
      "Sampling chain 0, 0 divergences:  56%|█████▌    | 559/1000 [01:40<01:46,  4.14it/s]"
     ]
    },
    {
     "name": "stderr",
     "output_type": "stream",
     "text": [
      "\r",
      "Sampling chain 0, 0 divergences:  56%|█████▌    | 560/1000 [01:40<01:45,  4.18it/s]"
     ]
    },
    {
     "name": "stderr",
     "output_type": "stream",
     "text": [
      "\r",
      "Sampling chain 0, 0 divergences:  56%|█████▌    | 561/1000 [01:40<01:46,  4.12it/s]"
     ]
    },
    {
     "name": "stderr",
     "output_type": "stream",
     "text": [
      "\r",
      "Sampling chain 0, 0 divergences:  56%|█████▌    | 562/1000 [01:41<01:46,  4.11it/s]"
     ]
    },
    {
     "name": "stderr",
     "output_type": "stream",
     "text": [
      "\r",
      "Sampling chain 0, 0 divergences:  56%|█████▋    | 563/1000 [01:41<01:46,  4.12it/s]"
     ]
    },
    {
     "name": "stderr",
     "output_type": "stream",
     "text": [
      "\r",
      "Sampling chain 0, 0 divergences:  56%|█████▋    | 564/1000 [01:41<01:46,  4.11it/s]"
     ]
    },
    {
     "name": "stderr",
     "output_type": "stream",
     "text": [
      "\r",
      "Sampling chain 0, 0 divergences:  56%|█████▋    | 565/1000 [01:41<01:45,  4.12it/s]"
     ]
    },
    {
     "name": "stderr",
     "output_type": "stream",
     "text": [
      "\r",
      "Sampling chain 0, 0 divergences:  57%|█████▋    | 566/1000 [01:42<01:45,  4.13it/s]"
     ]
    },
    {
     "name": "stderr",
     "output_type": "stream",
     "text": [
      "\r",
      "Sampling chain 0, 0 divergences:  57%|█████▋    | 567/1000 [01:42<01:44,  4.13it/s]"
     ]
    },
    {
     "name": "stderr",
     "output_type": "stream",
     "text": [
      "\r",
      "Sampling chain 0, 0 divergences:  57%|█████▋    | 568/1000 [01:42<01:43,  4.17it/s]"
     ]
    },
    {
     "name": "stderr",
     "output_type": "stream",
     "text": [
      "\r",
      "Sampling chain 0, 0 divergences:  57%|█████▋    | 569/1000 [01:42<01:42,  4.19it/s]"
     ]
    },
    {
     "name": "stderr",
     "output_type": "stream",
     "text": [
      "\r",
      "Sampling chain 0, 0 divergences:  57%|█████▋    | 570/1000 [01:42<01:42,  4.19it/s]"
     ]
    },
    {
     "name": "stderr",
     "output_type": "stream",
     "text": [
      "\r",
      "Sampling chain 0, 0 divergences:  57%|█████▋    | 571/1000 [01:43<01:43,  4.13it/s]"
     ]
    },
    {
     "name": "stderr",
     "output_type": "stream",
     "text": [
      "\r",
      "Sampling chain 0, 0 divergences:  57%|█████▋    | 572/1000 [01:43<01:42,  4.19it/s]"
     ]
    },
    {
     "name": "stderr",
     "output_type": "stream",
     "text": [
      "\r",
      "Sampling chain 0, 0 divergences:  57%|█████▋    | 573/1000 [01:43<01:42,  4.16it/s]"
     ]
    },
    {
     "name": "stderr",
     "output_type": "stream",
     "text": [
      "\r",
      "Sampling chain 0, 0 divergences:  57%|█████▋    | 574/1000 [01:43<01:43,  4.13it/s]"
     ]
    },
    {
     "name": "stderr",
     "output_type": "stream",
     "text": [
      "\r",
      "Sampling chain 0, 0 divergences:  57%|█████▊    | 575/1000 [01:44<01:43,  4.09it/s]"
     ]
    },
    {
     "name": "stderr",
     "output_type": "stream",
     "text": [
      "\r",
      "Sampling chain 0, 0 divergences:  58%|█████▊    | 576/1000 [01:44<01:43,  4.09it/s]"
     ]
    },
    {
     "name": "stderr",
     "output_type": "stream",
     "text": [
      "\r",
      "Sampling chain 0, 0 divergences:  58%|█████▊    | 577/1000 [01:44<01:44,  4.03it/s]"
     ]
    },
    {
     "name": "stderr",
     "output_type": "stream",
     "text": [
      "\r",
      "Sampling chain 0, 0 divergences:  58%|█████▊    | 578/1000 [01:44<01:45,  4.02it/s]"
     ]
    },
    {
     "name": "stderr",
     "output_type": "stream",
     "text": [
      "\r",
      "Sampling chain 0, 0 divergences:  58%|█████▊    | 579/1000 [01:45<01:45,  4.01it/s]"
     ]
    },
    {
     "name": "stderr",
     "output_type": "stream",
     "text": [
      "\r",
      "Sampling chain 0, 0 divergences:  58%|█████▊    | 580/1000 [01:45<01:43,  4.05it/s]"
     ]
    },
    {
     "name": "stderr",
     "output_type": "stream",
     "text": [
      "\r",
      "Sampling chain 0, 0 divergences:  58%|█████▊    | 581/1000 [01:45<01:42,  4.07it/s]"
     ]
    },
    {
     "name": "stderr",
     "output_type": "stream",
     "text": [
      "\r",
      "Sampling chain 0, 0 divergences:  58%|█████▊    | 582/1000 [01:45<01:41,  4.11it/s]"
     ]
    },
    {
     "name": "stderr",
     "output_type": "stream",
     "text": [
      "\r",
      "Sampling chain 0, 0 divergences:  58%|█████▊    | 583/1000 [01:46<01:41,  4.13it/s]"
     ]
    },
    {
     "name": "stderr",
     "output_type": "stream",
     "text": [
      "\r",
      "Sampling chain 0, 0 divergences:  58%|█████▊    | 584/1000 [01:46<01:41,  4.10it/s]"
     ]
    },
    {
     "name": "stderr",
     "output_type": "stream",
     "text": [
      "\r",
      "Sampling chain 0, 0 divergences:  58%|█████▊    | 585/1000 [01:46<01:39,  4.16it/s]"
     ]
    },
    {
     "name": "stderr",
     "output_type": "stream",
     "text": [
      "\r",
      "Sampling chain 0, 0 divergences:  59%|█████▊    | 586/1000 [01:46<01:39,  4.15it/s]"
     ]
    },
    {
     "name": "stderr",
     "output_type": "stream",
     "text": [
      "\r",
      "Sampling chain 0, 0 divergences:  59%|█████▊    | 587/1000 [01:47<01:40,  4.13it/s]"
     ]
    },
    {
     "name": "stderr",
     "output_type": "stream",
     "text": [
      "\r",
      "Sampling chain 0, 0 divergences:  59%|█████▉    | 588/1000 [01:47<01:39,  4.15it/s]"
     ]
    },
    {
     "name": "stderr",
     "output_type": "stream",
     "text": [
      "\r",
      "Sampling chain 0, 0 divergences:  59%|█████▉    | 589/1000 [01:47<01:37,  4.20it/s]"
     ]
    },
    {
     "name": "stderr",
     "output_type": "stream",
     "text": [
      "\r",
      "Sampling chain 0, 0 divergences:  59%|█████▉    | 590/1000 [01:47<01:38,  4.14it/s]"
     ]
    },
    {
     "name": "stderr",
     "output_type": "stream",
     "text": [
      "\r",
      "Sampling chain 0, 0 divergences:  59%|█████▉    | 591/1000 [01:48<01:39,  4.12it/s]"
     ]
    },
    {
     "name": "stderr",
     "output_type": "stream",
     "text": [
      "\r",
      "Sampling chain 0, 0 divergences:  59%|█████▉    | 592/1000 [01:48<01:39,  4.11it/s]"
     ]
    },
    {
     "name": "stderr",
     "output_type": "stream",
     "text": [
      "\r",
      "Sampling chain 0, 0 divergences:  59%|█████▉    | 593/1000 [01:48<01:37,  4.15it/s]"
     ]
    },
    {
     "name": "stderr",
     "output_type": "stream",
     "text": [
      "\r",
      "Sampling chain 0, 0 divergences:  59%|█████▉    | 594/1000 [01:48<01:37,  4.16it/s]"
     ]
    },
    {
     "name": "stderr",
     "output_type": "stream",
     "text": [
      "\r",
      "Sampling chain 0, 0 divergences:  60%|█████▉    | 595/1000 [01:49<01:38,  4.10it/s]"
     ]
    },
    {
     "name": "stderr",
     "output_type": "stream",
     "text": [
      "\r",
      "Sampling chain 0, 0 divergences:  60%|█████▉    | 596/1000 [01:49<01:40,  4.04it/s]"
     ]
    },
    {
     "name": "stderr",
     "output_type": "stream",
     "text": [
      "\r",
      "Sampling chain 0, 0 divergences:  60%|█████▉    | 597/1000 [01:49<01:39,  4.05it/s]"
     ]
    },
    {
     "name": "stderr",
     "output_type": "stream",
     "text": [
      "\r",
      "Sampling chain 0, 0 divergences:  60%|█████▉    | 598/1000 [01:49<01:39,  4.05it/s]"
     ]
    },
    {
     "name": "stderr",
     "output_type": "stream",
     "text": [
      "\r",
      "Sampling chain 0, 0 divergences:  60%|█████▉    | 599/1000 [01:50<01:38,  4.05it/s]"
     ]
    },
    {
     "name": "stderr",
     "output_type": "stream",
     "text": [
      "\r",
      "Sampling chain 0, 0 divergences:  60%|██████    | 600/1000 [01:50<01:39,  4.03it/s]"
     ]
    },
    {
     "name": "stderr",
     "output_type": "stream",
     "text": [
      "\r",
      "Sampling chain 0, 0 divergences:  60%|██████    | 601/1000 [01:50<01:38,  4.07it/s]"
     ]
    },
    {
     "name": "stderr",
     "output_type": "stream",
     "text": [
      "\r",
      "Sampling chain 0, 0 divergences:  60%|██████    | 602/1000 [01:50<01:37,  4.09it/s]"
     ]
    },
    {
     "name": "stderr",
     "output_type": "stream",
     "text": [
      "\r",
      "Sampling chain 0, 0 divergences:  60%|██████    | 603/1000 [01:51<01:36,  4.13it/s]"
     ]
    },
    {
     "name": "stderr",
     "output_type": "stream",
     "text": [
      "\r",
      "Sampling chain 0, 0 divergences:  60%|██████    | 604/1000 [01:51<01:35,  4.15it/s]"
     ]
    },
    {
     "name": "stderr",
     "output_type": "stream",
     "text": [
      "\r",
      "Sampling chain 0, 0 divergences:  60%|██████    | 605/1000 [01:51<01:36,  4.09it/s]"
     ]
    },
    {
     "name": "stderr",
     "output_type": "stream",
     "text": [
      "\r",
      "Sampling chain 0, 0 divergences:  61%|██████    | 606/1000 [01:51<01:34,  4.15it/s]"
     ]
    },
    {
     "name": "stderr",
     "output_type": "stream",
     "text": [
      "\r",
      "Sampling chain 0, 0 divergences:  61%|██████    | 607/1000 [01:51<01:34,  4.16it/s]"
     ]
    },
    {
     "name": "stderr",
     "output_type": "stream",
     "text": [
      "\r",
      "Sampling chain 0, 0 divergences:  61%|██████    | 608/1000 [01:52<01:34,  4.17it/s]"
     ]
    },
    {
     "name": "stderr",
     "output_type": "stream",
     "text": [
      "\r",
      "Sampling chain 0, 0 divergences:  61%|██████    | 609/1000 [01:52<01:33,  4.17it/s]"
     ]
    },
    {
     "name": "stderr",
     "output_type": "stream",
     "text": [
      "\r",
      "Sampling chain 0, 0 divergences:  61%|██████    | 610/1000 [01:52<01:33,  4.19it/s]"
     ]
    },
    {
     "name": "stderr",
     "output_type": "stream",
     "text": [
      "\r",
      "Sampling chain 0, 0 divergences:  61%|██████    | 611/1000 [01:52<01:33,  4.15it/s]"
     ]
    },
    {
     "name": "stderr",
     "output_type": "stream",
     "text": [
      "\r",
      "Sampling chain 0, 0 divergences:  61%|██████    | 612/1000 [01:53<01:33,  4.15it/s]"
     ]
    },
    {
     "name": "stderr",
     "output_type": "stream",
     "text": [
      "\r",
      "Sampling chain 0, 0 divergences:  61%|██████▏   | 613/1000 [01:53<01:33,  4.14it/s]"
     ]
    },
    {
     "name": "stderr",
     "output_type": "stream",
     "text": [
      "\r",
      "Sampling chain 0, 0 divergences:  61%|██████▏   | 614/1000 [01:53<01:33,  4.14it/s]"
     ]
    },
    {
     "name": "stderr",
     "output_type": "stream",
     "text": [
      "\r",
      "Sampling chain 0, 0 divergences:  62%|██████▏   | 615/1000 [01:53<01:33,  4.11it/s]"
     ]
    },
    {
     "name": "stderr",
     "output_type": "stream",
     "text": [
      "\r",
      "Sampling chain 0, 0 divergences:  62%|██████▏   | 616/1000 [01:54<01:33,  4.10it/s]"
     ]
    },
    {
     "name": "stderr",
     "output_type": "stream",
     "text": [
      "\r",
      "Sampling chain 0, 0 divergences:  62%|██████▏   | 617/1000 [01:54<01:35,  4.00it/s]"
     ]
    },
    {
     "name": "stderr",
     "output_type": "stream",
     "text": [
      "\r",
      "Sampling chain 0, 0 divergences:  62%|██████▏   | 618/1000 [01:54<01:34,  4.03it/s]"
     ]
    },
    {
     "name": "stderr",
     "output_type": "stream",
     "text": [
      "\r",
      "Sampling chain 0, 0 divergences:  62%|██████▏   | 619/1000 [01:54<01:34,  4.02it/s]"
     ]
    },
    {
     "name": "stderr",
     "output_type": "stream",
     "text": [
      "\r",
      "Sampling chain 0, 0 divergences:  62%|██████▏   | 620/1000 [01:55<01:33,  4.05it/s]"
     ]
    },
    {
     "name": "stderr",
     "output_type": "stream",
     "text": [
      "\r",
      "Sampling chain 0, 0 divergences:  62%|██████▏   | 621/1000 [01:55<01:33,  4.05it/s]"
     ]
    },
    {
     "name": "stderr",
     "output_type": "stream",
     "text": [
      "\r",
      "Sampling chain 0, 0 divergences:  62%|██████▏   | 622/1000 [01:55<01:32,  4.08it/s]"
     ]
    },
    {
     "name": "stderr",
     "output_type": "stream",
     "text": [
      "\r",
      "Sampling chain 0, 0 divergences:  62%|██████▏   | 623/1000 [01:55<01:31,  4.12it/s]"
     ]
    },
    {
     "name": "stderr",
     "output_type": "stream",
     "text": [
      "\r",
      "Sampling chain 0, 0 divergences:  62%|██████▏   | 624/1000 [01:56<01:31,  4.11it/s]"
     ]
    },
    {
     "name": "stderr",
     "output_type": "stream",
     "text": [
      "\r",
      "Sampling chain 0, 0 divergences:  62%|██████▎   | 625/1000 [01:56<01:31,  4.12it/s]"
     ]
    },
    {
     "name": "stderr",
     "output_type": "stream",
     "text": [
      "\r",
      "Sampling chain 0, 0 divergences:  63%|██████▎   | 626/1000 [01:56<01:30,  4.15it/s]"
     ]
    },
    {
     "name": "stderr",
     "output_type": "stream",
     "text": [
      "\r",
      "Sampling chain 0, 0 divergences:  63%|██████▎   | 627/1000 [01:56<01:29,  4.18it/s]"
     ]
    },
    {
     "name": "stderr",
     "output_type": "stream",
     "text": [
      "\r",
      "Sampling chain 0, 0 divergences:  63%|██████▎   | 628/1000 [01:57<01:29,  4.16it/s]"
     ]
    },
    {
     "name": "stderr",
     "output_type": "stream",
     "text": [
      "\r",
      "Sampling chain 0, 0 divergences:  63%|██████▎   | 629/1000 [01:57<01:28,  4.17it/s]"
     ]
    },
    {
     "name": "stderr",
     "output_type": "stream",
     "text": [
      "\r",
      "Sampling chain 0, 0 divergences:  63%|██████▎   | 630/1000 [01:57<01:28,  4.19it/s]"
     ]
    },
    {
     "name": "stderr",
     "output_type": "stream",
     "text": [
      "\r",
      "Sampling chain 0, 0 divergences:  63%|██████▎   | 631/1000 [01:57<01:27,  4.20it/s]"
     ]
    },
    {
     "name": "stderr",
     "output_type": "stream",
     "text": [
      "\r",
      "Sampling chain 0, 0 divergences:  63%|██████▎   | 632/1000 [01:58<01:27,  4.21it/s]"
     ]
    },
    {
     "name": "stderr",
     "output_type": "stream",
     "text": [
      "\r",
      "Sampling chain 0, 0 divergences:  63%|██████▎   | 633/1000 [01:58<01:28,  4.16it/s]"
     ]
    },
    {
     "name": "stderr",
     "output_type": "stream",
     "text": [
      "\r",
      "Sampling chain 0, 0 divergences:  63%|██████▎   | 634/1000 [01:58<01:28,  4.13it/s]"
     ]
    },
    {
     "name": "stderr",
     "output_type": "stream",
     "text": [
      "\r",
      "Sampling chain 0, 0 divergences:  64%|██████▎   | 635/1000 [01:58<01:28,  4.13it/s]"
     ]
    },
    {
     "name": "stderr",
     "output_type": "stream",
     "text": [
      "\r",
      "Sampling chain 0, 0 divergences:  64%|██████▎   | 636/1000 [01:59<01:28,  4.12it/s]"
     ]
    },
    {
     "name": "stderr",
     "output_type": "stream",
     "text": [
      "\r",
      "Sampling chain 0, 0 divergences:  64%|██████▎   | 637/1000 [01:59<01:27,  4.17it/s]"
     ]
    },
    {
     "name": "stderr",
     "output_type": "stream",
     "text": [
      "\r",
      "Sampling chain 0, 0 divergences:  64%|██████▍   | 638/1000 [01:59<01:29,  4.05it/s]"
     ]
    },
    {
     "name": "stderr",
     "output_type": "stream",
     "text": [
      "\r",
      "Sampling chain 0, 0 divergences:  64%|██████▍   | 639/1000 [01:59<01:29,  4.04it/s]"
     ]
    },
    {
     "name": "stderr",
     "output_type": "stream",
     "text": [
      "\r",
      "Sampling chain 0, 0 divergences:  64%|██████▍   | 640/1000 [01:59<01:28,  4.05it/s]"
     ]
    },
    {
     "name": "stderr",
     "output_type": "stream",
     "text": [
      "\r",
      "Sampling chain 0, 0 divergences:  64%|██████▍   | 641/1000 [02:00<01:27,  4.09it/s]"
     ]
    },
    {
     "name": "stderr",
     "output_type": "stream",
     "text": [
      "\r",
      "Sampling chain 0, 0 divergences:  64%|██████▍   | 642/1000 [02:00<01:26,  4.12it/s]"
     ]
    },
    {
     "name": "stderr",
     "output_type": "stream",
     "text": [
      "\r",
      "Sampling chain 0, 0 divergences:  64%|██████▍   | 643/1000 [02:00<01:25,  4.18it/s]"
     ]
    },
    {
     "name": "stderr",
     "output_type": "stream",
     "text": [
      "\r",
      "Sampling chain 0, 0 divergences:  64%|██████▍   | 644/1000 [02:00<01:24,  4.20it/s]"
     ]
    },
    {
     "name": "stderr",
     "output_type": "stream",
     "text": [
      "\r",
      "Sampling chain 0, 0 divergences:  64%|██████▍   | 645/1000 [02:01<01:24,  4.20it/s]"
     ]
    },
    {
     "name": "stderr",
     "output_type": "stream",
     "text": [
      "\r",
      "Sampling chain 0, 0 divergences:  65%|██████▍   | 646/1000 [02:01<01:24,  4.21it/s]"
     ]
    },
    {
     "name": "stderr",
     "output_type": "stream",
     "text": [
      "\r",
      "Sampling chain 0, 0 divergences:  65%|██████▍   | 647/1000 [02:01<01:23,  4.24it/s]"
     ]
    },
    {
     "name": "stderr",
     "output_type": "stream",
     "text": [
      "\r",
      "Sampling chain 0, 0 divergences:  65%|██████▍   | 648/1000 [02:01<01:22,  4.24it/s]"
     ]
    },
    {
     "name": "stderr",
     "output_type": "stream",
     "text": [
      "\r",
      "Sampling chain 0, 0 divergences:  65%|██████▍   | 649/1000 [02:02<01:22,  4.28it/s]"
     ]
    },
    {
     "name": "stderr",
     "output_type": "stream",
     "text": [
      "\r",
      "Sampling chain 0, 0 divergences:  65%|██████▌   | 650/1000 [02:02<01:21,  4.27it/s]"
     ]
    },
    {
     "name": "stderr",
     "output_type": "stream",
     "text": [
      "\r",
      "Sampling chain 0, 0 divergences:  65%|██████▌   | 651/1000 [02:02<01:22,  4.25it/s]"
     ]
    },
    {
     "name": "stderr",
     "output_type": "stream",
     "text": [
      "\r",
      "Sampling chain 0, 0 divergences:  65%|██████▌   | 652/1000 [02:02<01:22,  4.22it/s]"
     ]
    },
    {
     "name": "stderr",
     "output_type": "stream",
     "text": [
      "\r",
      "Sampling chain 0, 0 divergences:  65%|██████▌   | 653/1000 [02:03<01:23,  4.17it/s]"
     ]
    },
    {
     "name": "stderr",
     "output_type": "stream",
     "text": [
      "\r",
      "Sampling chain 0, 0 divergences:  65%|██████▌   | 654/1000 [02:03<01:23,  4.16it/s]"
     ]
    },
    {
     "name": "stderr",
     "output_type": "stream",
     "text": [
      "\r",
      "Sampling chain 0, 0 divergences:  66%|██████▌   | 655/1000 [02:03<01:23,  4.15it/s]"
     ]
    },
    {
     "name": "stderr",
     "output_type": "stream",
     "text": [
      "\r",
      "Sampling chain 0, 0 divergences:  66%|██████▌   | 656/1000 [02:03<01:21,  4.20it/s]"
     ]
    },
    {
     "name": "stderr",
     "output_type": "stream",
     "text": [
      "\r",
      "Sampling chain 0, 0 divergences:  66%|██████▌   | 657/1000 [02:04<01:21,  4.20it/s]"
     ]
    },
    {
     "name": "stderr",
     "output_type": "stream",
     "text": [
      "\r",
      "Sampling chain 0, 0 divergences:  66%|██████▌   | 658/1000 [02:04<01:21,  4.21it/s]"
     ]
    },
    {
     "name": "stderr",
     "output_type": "stream",
     "text": [
      "\r",
      "Sampling chain 0, 0 divergences:  66%|██████▌   | 659/1000 [02:04<01:21,  4.19it/s]"
     ]
    },
    {
     "name": "stderr",
     "output_type": "stream",
     "text": [
      "\r",
      "Sampling chain 0, 0 divergences:  66%|██████▌   | 660/1000 [02:04<01:23,  4.06it/s]"
     ]
    },
    {
     "name": "stderr",
     "output_type": "stream",
     "text": [
      "\r",
      "Sampling chain 0, 0 divergences:  66%|██████▌   | 661/1000 [02:05<01:22,  4.12it/s]"
     ]
    },
    {
     "name": "stderr",
     "output_type": "stream",
     "text": [
      "\r",
      "Sampling chain 0, 0 divergences:  66%|██████▌   | 662/1000 [02:05<01:21,  4.17it/s]"
     ]
    },
    {
     "name": "stderr",
     "output_type": "stream",
     "text": [
      "\r",
      "Sampling chain 0, 0 divergences:  66%|██████▋   | 663/1000 [02:05<01:20,  4.21it/s]"
     ]
    },
    {
     "name": "stderr",
     "output_type": "stream",
     "text": [
      "\r",
      "Sampling chain 0, 0 divergences:  66%|██████▋   | 664/1000 [02:05<01:18,  4.27it/s]"
     ]
    },
    {
     "name": "stderr",
     "output_type": "stream",
     "text": [
      "\r",
      "Sampling chain 0, 0 divergences:  66%|██████▋   | 665/1000 [02:05<01:19,  4.23it/s]"
     ]
    },
    {
     "name": "stderr",
     "output_type": "stream",
     "text": [
      "\r",
      "Sampling chain 0, 0 divergences:  67%|██████▋   | 666/1000 [02:06<01:19,  4.21it/s]"
     ]
    },
    {
     "name": "stderr",
     "output_type": "stream",
     "text": [
      "\r",
      "Sampling chain 0, 0 divergences:  67%|██████▋   | 667/1000 [02:06<01:19,  4.19it/s]"
     ]
    },
    {
     "name": "stderr",
     "output_type": "stream",
     "text": [
      "\r",
      "Sampling chain 0, 0 divergences:  67%|██████▋   | 668/1000 [02:06<01:19,  4.20it/s]"
     ]
    },
    {
     "name": "stderr",
     "output_type": "stream",
     "text": [
      "\r",
      "Sampling chain 0, 0 divergences:  67%|██████▋   | 669/1000 [02:06<01:17,  4.24it/s]"
     ]
    },
    {
     "name": "stderr",
     "output_type": "stream",
     "text": [
      "\r",
      "Sampling chain 0, 0 divergences:  67%|██████▋   | 670/1000 [02:07<01:17,  4.26it/s]"
     ]
    },
    {
     "name": "stderr",
     "output_type": "stream",
     "text": [
      "\r",
      "Sampling chain 0, 0 divergences:  67%|██████▋   | 671/1000 [02:07<01:17,  4.22it/s]"
     ]
    },
    {
     "name": "stderr",
     "output_type": "stream",
     "text": [
      "\r",
      "Sampling chain 0, 0 divergences:  67%|██████▋   | 672/1000 [02:07<01:18,  4.17it/s]"
     ]
    },
    {
     "name": "stderr",
     "output_type": "stream",
     "text": [
      "\r",
      "Sampling chain 0, 0 divergences:  67%|██████▋   | 673/1000 [02:07<01:17,  4.24it/s]"
     ]
    },
    {
     "name": "stderr",
     "output_type": "stream",
     "text": [
      "\r",
      "Sampling chain 0, 0 divergences:  67%|██████▋   | 674/1000 [02:08<01:18,  4.18it/s]"
     ]
    },
    {
     "name": "stderr",
     "output_type": "stream",
     "text": [
      "\r",
      "Sampling chain 0, 0 divergences:  68%|██████▊   | 675/1000 [02:08<01:18,  4.17it/s]"
     ]
    },
    {
     "name": "stderr",
     "output_type": "stream",
     "text": [
      "\r",
      "Sampling chain 0, 0 divergences:  68%|██████▊   | 676/1000 [02:08<01:18,  4.12it/s]"
     ]
    },
    {
     "name": "stderr",
     "output_type": "stream",
     "text": [
      "\r",
      "Sampling chain 0, 0 divergences:  68%|██████▊   | 677/1000 [02:08<01:18,  4.14it/s]"
     ]
    },
    {
     "name": "stderr",
     "output_type": "stream",
     "text": [
      "\r",
      "Sampling chain 0, 0 divergences:  68%|██████▊   | 678/1000 [02:09<01:17,  4.15it/s]"
     ]
    },
    {
     "name": "stderr",
     "output_type": "stream",
     "text": [
      "\r",
      "Sampling chain 0, 0 divergences:  68%|██████▊   | 679/1000 [02:09<01:17,  4.14it/s]"
     ]
    },
    {
     "name": "stderr",
     "output_type": "stream",
     "text": [
      "\r",
      "Sampling chain 0, 0 divergences:  68%|██████▊   | 680/1000 [02:09<01:16,  4.16it/s]"
     ]
    },
    {
     "name": "stderr",
     "output_type": "stream",
     "text": [
      "\r",
      "Sampling chain 0, 0 divergences:  68%|██████▊   | 681/1000 [02:09<01:17,  4.13it/s]"
     ]
    },
    {
     "name": "stderr",
     "output_type": "stream",
     "text": [
      "\r",
      "Sampling chain 0, 0 divergences:  68%|██████▊   | 682/1000 [02:10<01:17,  4.13it/s]"
     ]
    },
    {
     "name": "stderr",
     "output_type": "stream",
     "text": [
      "\r",
      "Sampling chain 0, 0 divergences:  68%|██████▊   | 683/1000 [02:10<01:15,  4.19it/s]"
     ]
    },
    {
     "name": "stderr",
     "output_type": "stream",
     "text": [
      "\r",
      "Sampling chain 0, 0 divergences:  68%|██████▊   | 684/1000 [02:10<01:14,  4.22it/s]"
     ]
    },
    {
     "name": "stderr",
     "output_type": "stream",
     "text": [
      "\r",
      "Sampling chain 0, 0 divergences:  68%|██████▊   | 685/1000 [02:10<01:13,  4.26it/s]"
     ]
    },
    {
     "name": "stderr",
     "output_type": "stream",
     "text": [
      "\r",
      "Sampling chain 0, 0 divergences:  69%|██████▊   | 686/1000 [02:10<01:13,  4.26it/s]"
     ]
    },
    {
     "name": "stderr",
     "output_type": "stream",
     "text": [
      "\r",
      "Sampling chain 0, 0 divergences:  69%|██████▊   | 687/1000 [02:11<01:13,  4.26it/s]"
     ]
    },
    {
     "name": "stderr",
     "output_type": "stream",
     "text": [
      "\r",
      "Sampling chain 0, 0 divergences:  69%|██████▉   | 688/1000 [02:11<01:14,  4.19it/s]"
     ]
    },
    {
     "name": "stderr",
     "output_type": "stream",
     "text": [
      "\r",
      "Sampling chain 0, 0 divergences:  69%|██████▉   | 689/1000 [02:11<01:14,  4.18it/s]"
     ]
    },
    {
     "name": "stderr",
     "output_type": "stream",
     "text": [
      "\r",
      "Sampling chain 0, 0 divergences:  69%|██████▉   | 690/1000 [02:11<01:13,  4.20it/s]"
     ]
    },
    {
     "name": "stderr",
     "output_type": "stream",
     "text": [
      "\r",
      "Sampling chain 0, 0 divergences:  69%|██████▉   | 691/1000 [02:12<01:14,  4.15it/s]"
     ]
    },
    {
     "name": "stderr",
     "output_type": "stream",
     "text": [
      "\r",
      "Sampling chain 0, 0 divergences:  69%|██████▉   | 692/1000 [02:12<01:13,  4.18it/s]"
     ]
    },
    {
     "name": "stderr",
     "output_type": "stream",
     "text": [
      "\r",
      "Sampling chain 0, 0 divergences:  69%|██████▉   | 693/1000 [02:12<01:13,  4.16it/s]"
     ]
    },
    {
     "name": "stderr",
     "output_type": "stream",
     "text": [
      "\r",
      "Sampling chain 0, 0 divergences:  69%|██████▉   | 694/1000 [02:12<01:13,  4.18it/s]"
     ]
    },
    {
     "name": "stderr",
     "output_type": "stream",
     "text": [
      "\r",
      "Sampling chain 0, 0 divergences:  70%|██████▉   | 695/1000 [02:13<01:13,  4.15it/s]"
     ]
    },
    {
     "name": "stderr",
     "output_type": "stream",
     "text": [
      "\r",
      "Sampling chain 0, 0 divergences:  70%|██████▉   | 696/1000 [02:13<01:13,  4.15it/s]"
     ]
    },
    {
     "name": "stderr",
     "output_type": "stream",
     "text": [
      "\r",
      "Sampling chain 0, 0 divergences:  70%|██████▉   | 697/1000 [02:13<01:13,  4.13it/s]"
     ]
    },
    {
     "name": "stderr",
     "output_type": "stream",
     "text": [
      "\r",
      "Sampling chain 0, 0 divergences:  70%|██████▉   | 698/1000 [02:13<01:12,  4.15it/s]"
     ]
    },
    {
     "name": "stderr",
     "output_type": "stream",
     "text": [
      "\r",
      "Sampling chain 0, 0 divergences:  70%|██████▉   | 699/1000 [02:14<01:12,  4.16it/s]"
     ]
    },
    {
     "name": "stderr",
     "output_type": "stream",
     "text": [
      "\r",
      "Sampling chain 0, 0 divergences:  70%|███████   | 700/1000 [02:14<01:12,  4.14it/s]"
     ]
    },
    {
     "name": "stderr",
     "output_type": "stream",
     "text": [
      "\r",
      "Sampling chain 0, 0 divergences:  70%|███████   | 701/1000 [02:14<01:12,  4.14it/s]"
     ]
    },
    {
     "name": "stderr",
     "output_type": "stream",
     "text": [
      "\r",
      "Sampling chain 0, 0 divergences:  70%|███████   | 702/1000 [02:14<01:14,  4.03it/s]"
     ]
    },
    {
     "name": "stderr",
     "output_type": "stream",
     "text": [
      "\r",
      "Sampling chain 0, 0 divergences:  70%|███████   | 703/1000 [02:15<01:13,  4.06it/s]"
     ]
    },
    {
     "name": "stderr",
     "output_type": "stream",
     "text": [
      "\r",
      "Sampling chain 0, 0 divergences:  70%|███████   | 704/1000 [02:15<01:12,  4.07it/s]"
     ]
    },
    {
     "name": "stderr",
     "output_type": "stream",
     "text": [
      "\r",
      "Sampling chain 0, 0 divergences:  70%|███████   | 705/1000 [02:15<01:12,  4.08it/s]"
     ]
    },
    {
     "name": "stderr",
     "output_type": "stream",
     "text": [
      "\r",
      "Sampling chain 0, 0 divergences:  71%|███████   | 706/1000 [02:15<01:11,  4.09it/s]"
     ]
    },
    {
     "name": "stderr",
     "output_type": "stream",
     "text": [
      "\r",
      "Sampling chain 0, 0 divergences:  71%|███████   | 707/1000 [02:16<01:10,  4.14it/s]"
     ]
    },
    {
     "name": "stderr",
     "output_type": "stream",
     "text": [
      "\r",
      "Sampling chain 0, 0 divergences:  71%|███████   | 708/1000 [02:16<01:11,  4.10it/s]"
     ]
    },
    {
     "name": "stderr",
     "output_type": "stream",
     "text": [
      "\r",
      "Sampling chain 0, 0 divergences:  71%|███████   | 709/1000 [02:16<01:10,  4.13it/s]"
     ]
    },
    {
     "name": "stderr",
     "output_type": "stream",
     "text": [
      "\r",
      "Sampling chain 0, 0 divergences:  71%|███████   | 710/1000 [02:16<01:09,  4.16it/s]"
     ]
    },
    {
     "name": "stderr",
     "output_type": "stream",
     "text": [
      "\r",
      "Sampling chain 0, 0 divergences:  71%|███████   | 711/1000 [02:17<01:09,  4.14it/s]"
     ]
    },
    {
     "name": "stderr",
     "output_type": "stream",
     "text": [
      "\r",
      "Sampling chain 0, 0 divergences:  71%|███████   | 712/1000 [02:17<01:09,  4.15it/s]"
     ]
    },
    {
     "name": "stderr",
     "output_type": "stream",
     "text": [
      "\r",
      "Sampling chain 0, 0 divergences:  71%|███████▏  | 713/1000 [02:17<01:08,  4.17it/s]"
     ]
    },
    {
     "name": "stderr",
     "output_type": "stream",
     "text": [
      "\r",
      "Sampling chain 0, 0 divergences:  71%|███████▏  | 714/1000 [02:17<01:09,  4.14it/s]"
     ]
    },
    {
     "name": "stderr",
     "output_type": "stream",
     "text": [
      "\r",
      "Sampling chain 0, 0 divergences:  72%|███████▏  | 715/1000 [02:17<01:08,  4.14it/s]"
     ]
    },
    {
     "name": "stderr",
     "output_type": "stream",
     "text": [
      "\r",
      "Sampling chain 0, 0 divergences:  72%|███████▏  | 716/1000 [02:18<01:08,  4.16it/s]"
     ]
    },
    {
     "name": "stderr",
     "output_type": "stream",
     "text": [
      "\r",
      "Sampling chain 0, 0 divergences:  72%|███████▏  | 717/1000 [02:18<01:07,  4.20it/s]"
     ]
    },
    {
     "name": "stderr",
     "output_type": "stream",
     "text": [
      "\r",
      "Sampling chain 0, 0 divergences:  72%|███████▏  | 718/1000 [02:18<01:06,  4.21it/s]"
     ]
    },
    {
     "name": "stderr",
     "output_type": "stream",
     "text": [
      "\r",
      "Sampling chain 0, 0 divergences:  72%|███████▏  | 719/1000 [02:18<01:06,  4.20it/s]"
     ]
    },
    {
     "name": "stderr",
     "output_type": "stream",
     "text": [
      "\r",
      "Sampling chain 0, 0 divergences:  72%|███████▏  | 720/1000 [02:19<01:07,  4.14it/s]"
     ]
    },
    {
     "name": "stderr",
     "output_type": "stream",
     "text": [
      "\r",
      "Sampling chain 0, 0 divergences:  72%|███████▏  | 721/1000 [02:19<01:08,  4.08it/s]"
     ]
    },
    {
     "name": "stderr",
     "output_type": "stream",
     "text": [
      "\r",
      "Sampling chain 0, 0 divergences:  72%|███████▏  | 722/1000 [02:19<01:09,  4.01it/s]"
     ]
    },
    {
     "name": "stderr",
     "output_type": "stream",
     "text": [
      "\r",
      "Sampling chain 0, 0 divergences:  72%|███████▏  | 723/1000 [02:19<01:08,  4.03it/s]"
     ]
    },
    {
     "name": "stderr",
     "output_type": "stream",
     "text": [
      "\r",
      "Sampling chain 0, 0 divergences:  72%|███████▏  | 724/1000 [02:20<01:08,  4.04it/s]"
     ]
    },
    {
     "name": "stderr",
     "output_type": "stream",
     "text": [
      "\r",
      "Sampling chain 0, 0 divergences:  72%|███████▎  | 725/1000 [02:20<01:07,  4.06it/s]"
     ]
    },
    {
     "name": "stderr",
     "output_type": "stream",
     "text": [
      "\r",
      "Sampling chain 0, 0 divergences:  73%|███████▎  | 726/1000 [02:20<01:07,  4.08it/s]"
     ]
    },
    {
     "name": "stderr",
     "output_type": "stream",
     "text": [
      "\r",
      "Sampling chain 0, 0 divergences:  73%|███████▎  | 727/1000 [02:20<01:06,  4.11it/s]"
     ]
    },
    {
     "name": "stderr",
     "output_type": "stream",
     "text": [
      "\r",
      "Sampling chain 0, 0 divergences:  73%|███████▎  | 728/1000 [02:21<01:06,  4.11it/s]"
     ]
    },
    {
     "name": "stderr",
     "output_type": "stream",
     "text": [
      "\r",
      "Sampling chain 0, 0 divergences:  73%|███████▎  | 729/1000 [02:21<01:05,  4.11it/s]"
     ]
    },
    {
     "name": "stderr",
     "output_type": "stream",
     "text": [
      "\r",
      "Sampling chain 0, 0 divergences:  73%|███████▎  | 730/1000 [02:21<01:05,  4.14it/s]"
     ]
    },
    {
     "name": "stderr",
     "output_type": "stream",
     "text": [
      "\r",
      "Sampling chain 0, 0 divergences:  73%|███████▎  | 731/1000 [02:21<01:04,  4.16it/s]"
     ]
    },
    {
     "name": "stderr",
     "output_type": "stream",
     "text": [
      "\r",
      "Sampling chain 0, 0 divergences:  73%|███████▎  | 732/1000 [02:22<01:05,  4.10it/s]"
     ]
    },
    {
     "name": "stderr",
     "output_type": "stream",
     "text": [
      "\r",
      "Sampling chain 0, 0 divergences:  73%|███████▎  | 733/1000 [02:22<01:05,  4.08it/s]"
     ]
    },
    {
     "name": "stderr",
     "output_type": "stream",
     "text": [
      "\r",
      "Sampling chain 0, 0 divergences:  73%|███████▎  | 734/1000 [02:22<01:05,  4.08it/s]"
     ]
    },
    {
     "name": "stderr",
     "output_type": "stream",
     "text": [
      "\r",
      "Sampling chain 0, 0 divergences:  74%|███████▎  | 735/1000 [02:22<01:05,  4.05it/s]"
     ]
    },
    {
     "name": "stderr",
     "output_type": "stream",
     "text": [
      "\r",
      "Sampling chain 0, 0 divergences:  74%|███████▎  | 736/1000 [02:23<01:05,  4.05it/s]"
     ]
    },
    {
     "name": "stderr",
     "output_type": "stream",
     "text": [
      "\r",
      "Sampling chain 0, 0 divergences:  74%|███████▎  | 737/1000 [02:23<01:04,  4.09it/s]"
     ]
    },
    {
     "name": "stderr",
     "output_type": "stream",
     "text": [
      "\r",
      "Sampling chain 0, 0 divergences:  74%|███████▍  | 738/1000 [02:23<01:03,  4.14it/s]"
     ]
    },
    {
     "name": "stderr",
     "output_type": "stream",
     "text": [
      "\r",
      "Sampling chain 0, 0 divergences:  74%|███████▍  | 739/1000 [02:23<01:04,  4.04it/s]"
     ]
    },
    {
     "name": "stderr",
     "output_type": "stream",
     "text": [
      "\r",
      "Sampling chain 0, 0 divergences:  74%|███████▍  | 740/1000 [02:24<01:03,  4.08it/s]"
     ]
    },
    {
     "name": "stderr",
     "output_type": "stream",
     "text": [
      "\r",
      "Sampling chain 0, 0 divergences:  74%|███████▍  | 741/1000 [02:24<01:02,  4.12it/s]"
     ]
    },
    {
     "name": "stderr",
     "output_type": "stream",
     "text": [
      "\r",
      "Sampling chain 0, 0 divergences:  74%|███████▍  | 742/1000 [02:24<01:03,  4.06it/s]"
     ]
    },
    {
     "name": "stderr",
     "output_type": "stream",
     "text": [
      "\r",
      "Sampling chain 0, 0 divergences:  74%|███████▍  | 743/1000 [02:24<01:03,  4.08it/s]"
     ]
    },
    {
     "name": "stderr",
     "output_type": "stream",
     "text": [
      "\r",
      "Sampling chain 0, 0 divergences:  74%|███████▍  | 744/1000 [02:25<01:02,  4.07it/s]"
     ]
    },
    {
     "name": "stderr",
     "output_type": "stream",
     "text": [
      "\r",
      "Sampling chain 0, 0 divergences:  74%|███████▍  | 745/1000 [02:25<01:01,  4.12it/s]"
     ]
    },
    {
     "name": "stderr",
     "output_type": "stream",
     "text": [
      "\r",
      "Sampling chain 0, 0 divergences:  75%|███████▍  | 746/1000 [02:25<01:02,  4.06it/s]"
     ]
    },
    {
     "name": "stderr",
     "output_type": "stream",
     "text": [
      "\r",
      "Sampling chain 0, 0 divergences:  75%|███████▍  | 747/1000 [02:25<01:02,  4.05it/s]"
     ]
    },
    {
     "name": "stderr",
     "output_type": "stream",
     "text": [
      "\r",
      "Sampling chain 0, 0 divergences:  75%|███████▍  | 748/1000 [02:26<01:01,  4.08it/s]"
     ]
    },
    {
     "name": "stderr",
     "output_type": "stream",
     "text": [
      "\r",
      "Sampling chain 0, 0 divergences:  75%|███████▍  | 749/1000 [02:26<01:01,  4.07it/s]"
     ]
    },
    {
     "name": "stderr",
     "output_type": "stream",
     "text": [
      "\r",
      "Sampling chain 0, 0 divergences:  75%|███████▌  | 750/1000 [02:26<01:00,  4.10it/s]"
     ]
    },
    {
     "name": "stderr",
     "output_type": "stream",
     "text": [
      "\r",
      "Sampling chain 0, 0 divergences:  75%|███████▌  | 751/1000 [02:26<01:00,  4.10it/s]"
     ]
    },
    {
     "name": "stderr",
     "output_type": "stream",
     "text": [
      "\r",
      "Sampling chain 0, 0 divergences:  75%|███████▌  | 752/1000 [02:27<01:00,  4.07it/s]"
     ]
    },
    {
     "name": "stderr",
     "output_type": "stream",
     "text": [
      "\r",
      "Sampling chain 0, 0 divergences:  75%|███████▌  | 753/1000 [02:27<01:00,  4.11it/s]"
     ]
    },
    {
     "name": "stderr",
     "output_type": "stream",
     "text": [
      "\r",
      "Sampling chain 0, 0 divergences:  75%|███████▌  | 754/1000 [02:27<00:59,  4.12it/s]"
     ]
    },
    {
     "name": "stderr",
     "output_type": "stream",
     "text": [
      "\r",
      "Sampling chain 0, 0 divergences:  76%|███████▌  | 755/1000 [02:27<00:59,  4.08it/s]"
     ]
    },
    {
     "name": "stderr",
     "output_type": "stream",
     "text": [
      "\r",
      "Sampling chain 0, 0 divergences:  76%|███████▌  | 756/1000 [02:27<00:59,  4.07it/s]"
     ]
    },
    {
     "name": "stderr",
     "output_type": "stream",
     "text": [
      "\r",
      "Sampling chain 0, 0 divergences:  76%|███████▌  | 757/1000 [02:28<00:58,  4.13it/s]"
     ]
    },
    {
     "name": "stderr",
     "output_type": "stream",
     "text": [
      "\r",
      "Sampling chain 0, 0 divergences:  76%|███████▌  | 758/1000 [02:28<00:57,  4.19it/s]"
     ]
    },
    {
     "name": "stderr",
     "output_type": "stream",
     "text": [
      "\r",
      "Sampling chain 0, 0 divergences:  76%|███████▌  | 759/1000 [02:28<00:57,  4.16it/s]"
     ]
    },
    {
     "name": "stderr",
     "output_type": "stream",
     "text": [
      "\r",
      "Sampling chain 0, 0 divergences:  76%|███████▌  | 760/1000 [02:28<00:58,  4.13it/s]"
     ]
    },
    {
     "name": "stderr",
     "output_type": "stream",
     "text": [
      "\r",
      "Sampling chain 0, 0 divergences:  76%|███████▌  | 761/1000 [02:29<00:58,  4.11it/s]"
     ]
    },
    {
     "name": "stderr",
     "output_type": "stream",
     "text": [
      "\r",
      "Sampling chain 0, 0 divergences:  76%|███████▌  | 762/1000 [02:29<00:57,  4.14it/s]"
     ]
    },
    {
     "name": "stderr",
     "output_type": "stream",
     "text": [
      "\r",
      "Sampling chain 0, 0 divergences:  76%|███████▋  | 763/1000 [02:29<00:56,  4.16it/s]"
     ]
    },
    {
     "name": "stderr",
     "output_type": "stream",
     "text": [
      "\r",
      "Sampling chain 0, 0 divergences:  76%|███████▋  | 764/1000 [02:29<00:56,  4.18it/s]"
     ]
    },
    {
     "name": "stderr",
     "output_type": "stream",
     "text": [
      "\r",
      "Sampling chain 0, 0 divergences:  76%|███████▋  | 765/1000 [02:30<00:56,  4.16it/s]"
     ]
    },
    {
     "name": "stderr",
     "output_type": "stream",
     "text": [
      "\r",
      "Sampling chain 0, 0 divergences:  77%|███████▋  | 766/1000 [02:30<00:55,  4.20it/s]"
     ]
    },
    {
     "name": "stderr",
     "output_type": "stream",
     "text": [
      "\r",
      "Sampling chain 0, 0 divergences:  77%|███████▋  | 767/1000 [02:30<00:56,  4.13it/s]"
     ]
    },
    {
     "name": "stderr",
     "output_type": "stream",
     "text": [
      "\r",
      "Sampling chain 0, 0 divergences:  77%|███████▋  | 768/1000 [02:30<00:55,  4.15it/s]"
     ]
    },
    {
     "name": "stderr",
     "output_type": "stream",
     "text": [
      "\r",
      "Sampling chain 0, 0 divergences:  77%|███████▋  | 769/1000 [02:31<00:56,  4.10it/s]"
     ]
    },
    {
     "name": "stderr",
     "output_type": "stream",
     "text": [
      "\r",
      "Sampling chain 0, 0 divergences:  77%|███████▋  | 770/1000 [02:31<00:55,  4.11it/s]"
     ]
    },
    {
     "name": "stderr",
     "output_type": "stream",
     "text": [
      "\r",
      "Sampling chain 0, 0 divergences:  77%|███████▋  | 771/1000 [02:31<00:55,  4.10it/s]"
     ]
    },
    {
     "name": "stderr",
     "output_type": "stream",
     "text": [
      "\r",
      "Sampling chain 0, 0 divergences:  77%|███████▋  | 772/1000 [02:31<00:55,  4.08it/s]"
     ]
    },
    {
     "name": "stderr",
     "output_type": "stream",
     "text": [
      "\r",
      "Sampling chain 0, 0 divergences:  77%|███████▋  | 773/1000 [02:32<00:55,  4.07it/s]"
     ]
    },
    {
     "name": "stderr",
     "output_type": "stream",
     "text": [
      "\r",
      "Sampling chain 0, 0 divergences:  77%|███████▋  | 774/1000 [02:32<00:54,  4.12it/s]"
     ]
    },
    {
     "name": "stderr",
     "output_type": "stream",
     "text": [
      "\r",
      "Sampling chain 0, 0 divergences:  78%|███████▊  | 775/1000 [02:32<00:55,  4.09it/s]"
     ]
    },
    {
     "name": "stderr",
     "output_type": "stream",
     "text": [
      "\r",
      "Sampling chain 0, 0 divergences:  78%|███████▊  | 776/1000 [02:32<00:54,  4.12it/s]"
     ]
    },
    {
     "name": "stderr",
     "output_type": "stream",
     "text": [
      "\r",
      "Sampling chain 0, 0 divergences:  78%|███████▊  | 777/1000 [02:33<00:54,  4.10it/s]"
     ]
    },
    {
     "name": "stderr",
     "output_type": "stream",
     "text": [
      "\r",
      "Sampling chain 0, 0 divergences:  78%|███████▊  | 778/1000 [02:33<00:54,  4.09it/s]"
     ]
    },
    {
     "name": "stderr",
     "output_type": "stream",
     "text": [
      "\r",
      "Sampling chain 0, 0 divergences:  78%|███████▊  | 779/1000 [02:33<00:53,  4.15it/s]"
     ]
    },
    {
     "name": "stderr",
     "output_type": "stream",
     "text": [
      "\r",
      "Sampling chain 0, 0 divergences:  78%|███████▊  | 780/1000 [02:33<00:52,  4.16it/s]"
     ]
    },
    {
     "name": "stderr",
     "output_type": "stream",
     "text": [
      "\r",
      "Sampling chain 0, 0 divergences:  78%|███████▊  | 781/1000 [02:34<00:52,  4.17it/s]"
     ]
    },
    {
     "name": "stderr",
     "output_type": "stream",
     "text": [
      "\r",
      "Sampling chain 0, 0 divergences:  78%|███████▊  | 782/1000 [02:34<00:52,  4.16it/s]"
     ]
    },
    {
     "name": "stderr",
     "output_type": "stream",
     "text": [
      "\r",
      "Sampling chain 0, 0 divergences:  78%|███████▊  | 783/1000 [02:34<00:52,  4.12it/s]"
     ]
    },
    {
     "name": "stderr",
     "output_type": "stream",
     "text": [
      "\r",
      "Sampling chain 0, 0 divergences:  78%|███████▊  | 784/1000 [02:34<00:52,  4.09it/s]"
     ]
    },
    {
     "name": "stderr",
     "output_type": "stream",
     "text": [
      "\r",
      "Sampling chain 0, 0 divergences:  78%|███████▊  | 785/1000 [02:35<00:52,  4.10it/s]"
     ]
    },
    {
     "name": "stderr",
     "output_type": "stream",
     "text": [
      "\r",
      "Sampling chain 0, 0 divergences:  79%|███████▊  | 786/1000 [02:35<00:52,  4.06it/s]"
     ]
    },
    {
     "name": "stderr",
     "output_type": "stream",
     "text": [
      "\r",
      "Sampling chain 0, 0 divergences:  79%|███████▊  | 787/1000 [02:35<00:51,  4.10it/s]"
     ]
    },
    {
     "name": "stderr",
     "output_type": "stream",
     "text": [
      "\r",
      "Sampling chain 0, 0 divergences:  79%|███████▉  | 788/1000 [02:35<00:51,  4.08it/s]"
     ]
    },
    {
     "name": "stderr",
     "output_type": "stream",
     "text": [
      "\r",
      "Sampling chain 0, 0 divergences:  79%|███████▉  | 789/1000 [02:35<00:51,  4.12it/s]"
     ]
    },
    {
     "name": "stderr",
     "output_type": "stream",
     "text": [
      "\r",
      "Sampling chain 0, 0 divergences:  79%|███████▉  | 790/1000 [02:36<00:50,  4.14it/s]"
     ]
    },
    {
     "name": "stderr",
     "output_type": "stream",
     "text": [
      "\r",
      "Sampling chain 0, 0 divergences:  79%|███████▉  | 791/1000 [02:36<00:50,  4.13it/s]"
     ]
    },
    {
     "name": "stderr",
     "output_type": "stream",
     "text": [
      "\r",
      "Sampling chain 0, 0 divergences:  79%|███████▉  | 792/1000 [02:36<00:50,  4.12it/s]"
     ]
    },
    {
     "name": "stderr",
     "output_type": "stream",
     "text": [
      "\r",
      "Sampling chain 0, 0 divergences:  79%|███████▉  | 793/1000 [02:36<00:50,  4.12it/s]"
     ]
    },
    {
     "name": "stderr",
     "output_type": "stream",
     "text": [
      "\r",
      "Sampling chain 0, 0 divergences:  79%|███████▉  | 794/1000 [02:37<00:50,  4.09it/s]"
     ]
    },
    {
     "name": "stderr",
     "output_type": "stream",
     "text": [
      "\r",
      "Sampling chain 0, 0 divergences:  80%|███████▉  | 795/1000 [02:37<00:49,  4.14it/s]"
     ]
    },
    {
     "name": "stderr",
     "output_type": "stream",
     "text": [
      "\r",
      "Sampling chain 0, 0 divergences:  80%|███████▉  | 796/1000 [02:37<00:49,  4.15it/s]"
     ]
    },
    {
     "name": "stderr",
     "output_type": "stream",
     "text": [
      "\r",
      "Sampling chain 0, 0 divergences:  80%|███████▉  | 797/1000 [02:37<00:49,  4.14it/s]"
     ]
    },
    {
     "name": "stderr",
     "output_type": "stream",
     "text": [
      "\r",
      "Sampling chain 0, 0 divergences:  80%|███████▉  | 798/1000 [02:38<00:48,  4.13it/s]"
     ]
    },
    {
     "name": "stderr",
     "output_type": "stream",
     "text": [
      "\r",
      "Sampling chain 0, 0 divergences:  80%|███████▉  | 799/1000 [02:38<00:48,  4.13it/s]"
     ]
    },
    {
     "name": "stderr",
     "output_type": "stream",
     "text": [
      "\r",
      "Sampling chain 0, 0 divergences:  80%|████████  | 800/1000 [02:38<00:48,  4.12it/s]"
     ]
    },
    {
     "name": "stderr",
     "output_type": "stream",
     "text": [
      "\r",
      "Sampling chain 0, 0 divergences:  80%|████████  | 801/1000 [02:38<00:48,  4.13it/s]"
     ]
    },
    {
     "name": "stderr",
     "output_type": "stream",
     "text": [
      "\r",
      "Sampling chain 0, 0 divergences:  80%|████████  | 802/1000 [02:39<00:48,  4.10it/s]"
     ]
    },
    {
     "name": "stderr",
     "output_type": "stream",
     "text": [
      "\r",
      "Sampling chain 0, 0 divergences:  80%|████████  | 803/1000 [02:39<00:47,  4.14it/s]"
     ]
    },
    {
     "name": "stderr",
     "output_type": "stream",
     "text": [
      "\r",
      "Sampling chain 0, 0 divergences:  80%|████████  | 804/1000 [02:39<00:47,  4.10it/s]"
     ]
    },
    {
     "name": "stderr",
     "output_type": "stream",
     "text": [
      "\r",
      "Sampling chain 0, 0 divergences:  80%|████████  | 805/1000 [02:39<00:48,  4.06it/s]"
     ]
    },
    {
     "name": "stderr",
     "output_type": "stream",
     "text": [
      "\r",
      "Sampling chain 0, 0 divergences:  81%|████████  | 806/1000 [02:40<00:47,  4.09it/s]"
     ]
    },
    {
     "name": "stderr",
     "output_type": "stream",
     "text": [
      "\r",
      "Sampling chain 0, 0 divergences:  81%|████████  | 807/1000 [02:40<00:46,  4.15it/s]"
     ]
    },
    {
     "name": "stderr",
     "output_type": "stream",
     "text": [
      "\r",
      "Sampling chain 0, 0 divergences:  81%|████████  | 808/1000 [02:40<00:45,  4.19it/s]"
     ]
    },
    {
     "name": "stderr",
     "output_type": "stream",
     "text": [
      "\r",
      "Sampling chain 0, 0 divergences:  81%|████████  | 809/1000 [02:40<00:45,  4.20it/s]"
     ]
    },
    {
     "name": "stderr",
     "output_type": "stream",
     "text": [
      "\r",
      "Sampling chain 0, 0 divergences:  81%|████████  | 810/1000 [02:41<00:45,  4.17it/s]"
     ]
    },
    {
     "name": "stderr",
     "output_type": "stream",
     "text": [
      "\r",
      "Sampling chain 0, 0 divergences:  81%|████████  | 811/1000 [02:41<00:45,  4.15it/s]"
     ]
    },
    {
     "name": "stderr",
     "output_type": "stream",
     "text": [
      "\r",
      "Sampling chain 0, 0 divergences:  81%|████████  | 812/1000 [02:41<00:45,  4.15it/s]"
     ]
    },
    {
     "name": "stderr",
     "output_type": "stream",
     "text": [
      "\r",
      "Sampling chain 0, 0 divergences:  81%|████████▏ | 813/1000 [02:41<00:45,  4.13it/s]"
     ]
    },
    {
     "name": "stderr",
     "output_type": "stream",
     "text": [
      "\r",
      "Sampling chain 0, 0 divergences:  81%|████████▏ | 814/1000 [02:42<00:44,  4.18it/s]"
     ]
    },
    {
     "name": "stderr",
     "output_type": "stream",
     "text": [
      "\r",
      "Sampling chain 0, 0 divergences:  82%|████████▏ | 815/1000 [02:42<00:44,  4.17it/s]"
     ]
    },
    {
     "name": "stderr",
     "output_type": "stream",
     "text": [
      "\r",
      "Sampling chain 0, 0 divergences:  82%|████████▏ | 816/1000 [02:42<00:44,  4.15it/s]"
     ]
    },
    {
     "name": "stderr",
     "output_type": "stream",
     "text": [
      "\r",
      "Sampling chain 0, 0 divergences:  82%|████████▏ | 817/1000 [02:42<00:44,  4.15it/s]"
     ]
    },
    {
     "name": "stderr",
     "output_type": "stream",
     "text": [
      "\r",
      "Sampling chain 0, 0 divergences:  82%|████████▏ | 818/1000 [02:42<00:43,  4.15it/s]"
     ]
    },
    {
     "name": "stderr",
     "output_type": "stream",
     "text": [
      "\r",
      "Sampling chain 0, 0 divergences:  82%|████████▏ | 819/1000 [02:43<00:43,  4.17it/s]"
     ]
    },
    {
     "name": "stderr",
     "output_type": "stream",
     "text": [
      "\r",
      "Sampling chain 0, 0 divergences:  82%|████████▏ | 820/1000 [02:43<00:42,  4.20it/s]"
     ]
    },
    {
     "name": "stderr",
     "output_type": "stream",
     "text": [
      "\r",
      "Sampling chain 0, 0 divergences:  82%|████████▏ | 821/1000 [02:43<00:42,  4.19it/s]"
     ]
    },
    {
     "name": "stderr",
     "output_type": "stream",
     "text": [
      "\r",
      "Sampling chain 0, 0 divergences:  82%|████████▏ | 822/1000 [02:43<00:42,  4.23it/s]"
     ]
    },
    {
     "name": "stderr",
     "output_type": "stream",
     "text": [
      "\r",
      "Sampling chain 0, 0 divergences:  82%|████████▏ | 823/1000 [02:44<00:41,  4.26it/s]"
     ]
    },
    {
     "name": "stderr",
     "output_type": "stream",
     "text": [
      "\r",
      "Sampling chain 0, 0 divergences:  82%|████████▏ | 824/1000 [02:44<00:41,  4.26it/s]"
     ]
    },
    {
     "name": "stderr",
     "output_type": "stream",
     "text": [
      "\r",
      "Sampling chain 0, 0 divergences:  82%|████████▎ | 825/1000 [02:44<00:42,  4.14it/s]"
     ]
    },
    {
     "name": "stderr",
     "output_type": "stream",
     "text": [
      "\r",
      "Sampling chain 0, 0 divergences:  83%|████████▎ | 826/1000 [02:44<00:41,  4.15it/s]"
     ]
    },
    {
     "name": "stderr",
     "output_type": "stream",
     "text": [
      "\r",
      "Sampling chain 0, 0 divergences:  83%|████████▎ | 827/1000 [02:45<00:40,  4.23it/s]"
     ]
    },
    {
     "name": "stderr",
     "output_type": "stream",
     "text": [
      "\r",
      "Sampling chain 0, 0 divergences:  83%|████████▎ | 828/1000 [02:45<00:40,  4.23it/s]"
     ]
    },
    {
     "name": "stderr",
     "output_type": "stream",
     "text": [
      "\r",
      "Sampling chain 0, 0 divergences:  83%|████████▎ | 829/1000 [02:45<00:40,  4.19it/s]"
     ]
    },
    {
     "name": "stderr",
     "output_type": "stream",
     "text": [
      "\r",
      "Sampling chain 0, 0 divergences:  83%|████████▎ | 830/1000 [02:45<00:40,  4.19it/s]"
     ]
    },
    {
     "name": "stderr",
     "output_type": "stream",
     "text": [
      "\r",
      "Sampling chain 0, 0 divergences:  83%|████████▎ | 831/1000 [02:46<00:40,  4.12it/s]"
     ]
    },
    {
     "name": "stderr",
     "output_type": "stream",
     "text": [
      "\r",
      "Sampling chain 0, 0 divergences:  83%|████████▎ | 832/1000 [02:46<00:41,  4.05it/s]"
     ]
    },
    {
     "name": "stderr",
     "output_type": "stream",
     "text": [
      "\r",
      "Sampling chain 0, 0 divergences:  83%|████████▎ | 833/1000 [02:46<00:40,  4.09it/s]"
     ]
    },
    {
     "name": "stderr",
     "output_type": "stream",
     "text": [
      "\r",
      "Sampling chain 0, 0 divergences:  83%|████████▎ | 834/1000 [02:46<00:40,  4.11it/s]"
     ]
    },
    {
     "name": "stderr",
     "output_type": "stream",
     "text": [
      "\r",
      "Sampling chain 0, 0 divergences:  84%|████████▎ | 835/1000 [02:47<00:39,  4.19it/s]"
     ]
    },
    {
     "name": "stderr",
     "output_type": "stream",
     "text": [
      "\r",
      "Sampling chain 0, 0 divergences:  84%|████████▎ | 836/1000 [02:47<00:39,  4.17it/s]"
     ]
    },
    {
     "name": "stderr",
     "output_type": "stream",
     "text": [
      "\r",
      "Sampling chain 0, 0 divergences:  84%|████████▎ | 837/1000 [02:47<00:39,  4.14it/s]"
     ]
    },
    {
     "name": "stderr",
     "output_type": "stream",
     "text": [
      "\r",
      "Sampling chain 0, 0 divergences:  84%|████████▍ | 838/1000 [02:47<00:39,  4.11it/s]"
     ]
    },
    {
     "name": "stderr",
     "output_type": "stream",
     "text": [
      "\r",
      "Sampling chain 0, 0 divergences:  84%|████████▍ | 839/1000 [02:48<00:39,  4.07it/s]"
     ]
    },
    {
     "name": "stderr",
     "output_type": "stream",
     "text": [
      "\r",
      "Sampling chain 0, 0 divergences:  84%|████████▍ | 840/1000 [02:48<00:38,  4.11it/s]"
     ]
    },
    {
     "name": "stderr",
     "output_type": "stream",
     "text": [
      "\r",
      "Sampling chain 0, 0 divergences:  84%|████████▍ | 841/1000 [02:48<00:38,  4.15it/s]"
     ]
    },
    {
     "name": "stderr",
     "output_type": "stream",
     "text": [
      "\r",
      "Sampling chain 0, 0 divergences:  84%|████████▍ | 842/1000 [02:48<00:37,  4.17it/s]"
     ]
    },
    {
     "name": "stderr",
     "output_type": "stream",
     "text": [
      "\r",
      "Sampling chain 0, 0 divergences:  84%|████████▍ | 843/1000 [02:49<00:38,  4.08it/s]"
     ]
    },
    {
     "name": "stderr",
     "output_type": "stream",
     "text": [
      "\r",
      "Sampling chain 0, 0 divergences:  84%|████████▍ | 844/1000 [02:49<00:38,  4.10it/s]"
     ]
    },
    {
     "name": "stderr",
     "output_type": "stream",
     "text": [
      "\r",
      "Sampling chain 0, 0 divergences:  84%|████████▍ | 845/1000 [02:49<00:37,  4.11it/s]"
     ]
    },
    {
     "name": "stderr",
     "output_type": "stream",
     "text": [
      "\r",
      "Sampling chain 0, 0 divergences:  85%|████████▍ | 846/1000 [02:49<00:37,  4.09it/s]"
     ]
    },
    {
     "name": "stderr",
     "output_type": "stream",
     "text": [
      "\r",
      "Sampling chain 0, 0 divergences:  85%|████████▍ | 847/1000 [02:49<00:37,  4.13it/s]"
     ]
    },
    {
     "name": "stderr",
     "output_type": "stream",
     "text": [
      "\r",
      "Sampling chain 0, 0 divergences:  85%|████████▍ | 848/1000 [02:50<00:36,  4.16it/s]"
     ]
    },
    {
     "name": "stderr",
     "output_type": "stream",
     "text": [
      "\r",
      "Sampling chain 0, 0 divergences:  85%|████████▍ | 849/1000 [02:50<00:36,  4.19it/s]"
     ]
    },
    {
     "name": "stderr",
     "output_type": "stream",
     "text": [
      "\r",
      "Sampling chain 0, 0 divergences:  85%|████████▌ | 850/1000 [02:50<00:35,  4.19it/s]"
     ]
    },
    {
     "name": "stderr",
     "output_type": "stream",
     "text": [
      "\r",
      "Sampling chain 0, 0 divergences:  85%|████████▌ | 851/1000 [02:50<00:35,  4.15it/s]"
     ]
    },
    {
     "name": "stderr",
     "output_type": "stream",
     "text": [
      "\r",
      "Sampling chain 0, 0 divergences:  85%|████████▌ | 852/1000 [02:51<00:35,  4.13it/s]"
     ]
    },
    {
     "name": "stderr",
     "output_type": "stream",
     "text": [
      "\r",
      "Sampling chain 0, 0 divergences:  85%|████████▌ | 853/1000 [02:51<00:35,  4.09it/s]"
     ]
    },
    {
     "name": "stderr",
     "output_type": "stream",
     "text": [
      "\r",
      "Sampling chain 0, 0 divergences:  85%|████████▌ | 854/1000 [02:51<00:35,  4.14it/s]"
     ]
    },
    {
     "name": "stderr",
     "output_type": "stream",
     "text": [
      "\r",
      "Sampling chain 0, 0 divergences:  86%|████████▌ | 855/1000 [02:51<00:35,  4.11it/s]"
     ]
    },
    {
     "name": "stderr",
     "output_type": "stream",
     "text": [
      "\r",
      "Sampling chain 0, 0 divergences:  86%|████████▌ | 856/1000 [02:52<00:34,  4.13it/s]"
     ]
    },
    {
     "name": "stderr",
     "output_type": "stream",
     "text": [
      "\r",
      "Sampling chain 0, 0 divergences:  86%|████████▌ | 857/1000 [02:52<00:34,  4.12it/s]"
     ]
    },
    {
     "name": "stderr",
     "output_type": "stream",
     "text": [
      "\r",
      "Sampling chain 0, 0 divergences:  86%|████████▌ | 858/1000 [02:52<00:34,  4.12it/s]"
     ]
    },
    {
     "name": "stderr",
     "output_type": "stream",
     "text": [
      "\r",
      "Sampling chain 0, 0 divergences:  86%|████████▌ | 859/1000 [02:52<00:34,  4.11it/s]"
     ]
    },
    {
     "name": "stderr",
     "output_type": "stream",
     "text": [
      "\r",
      "Sampling chain 0, 0 divergences:  86%|████████▌ | 860/1000 [02:53<00:34,  4.10it/s]"
     ]
    },
    {
     "name": "stderr",
     "output_type": "stream",
     "text": [
      "\r",
      "Sampling chain 0, 0 divergences:  86%|████████▌ | 861/1000 [02:53<00:33,  4.15it/s]"
     ]
    },
    {
     "name": "stderr",
     "output_type": "stream",
     "text": [
      "\r",
      "Sampling chain 0, 0 divergences:  86%|████████▌ | 862/1000 [02:53<00:33,  4.18it/s]"
     ]
    },
    {
     "name": "stderr",
     "output_type": "stream",
     "text": [
      "\r",
      "Sampling chain 0, 0 divergences:  86%|████████▋ | 863/1000 [02:53<00:32,  4.15it/s]"
     ]
    },
    {
     "name": "stderr",
     "output_type": "stream",
     "text": [
      "\r",
      "Sampling chain 0, 0 divergences:  86%|████████▋ | 864/1000 [02:54<00:32,  4.13it/s]"
     ]
    },
    {
     "name": "stderr",
     "output_type": "stream",
     "text": [
      "\r",
      "Sampling chain 0, 0 divergences:  86%|████████▋ | 865/1000 [02:54<00:33,  4.08it/s]"
     ]
    },
    {
     "name": "stderr",
     "output_type": "stream",
     "text": [
      "\r",
      "Sampling chain 0, 0 divergences:  87%|████████▋ | 866/1000 [02:54<00:33,  4.01it/s]"
     ]
    },
    {
     "name": "stderr",
     "output_type": "stream",
     "text": [
      "\r",
      "Sampling chain 0, 0 divergences:  87%|████████▋ | 867/1000 [02:54<00:32,  4.05it/s]"
     ]
    },
    {
     "name": "stderr",
     "output_type": "stream",
     "text": [
      "\r",
      "Sampling chain 0, 0 divergences:  87%|████████▋ | 868/1000 [02:55<00:32,  4.05it/s]"
     ]
    },
    {
     "name": "stderr",
     "output_type": "stream",
     "text": [
      "\r",
      "Sampling chain 0, 0 divergences:  87%|████████▋ | 869/1000 [02:55<00:31,  4.10it/s]"
     ]
    },
    {
     "name": "stderr",
     "output_type": "stream",
     "text": [
      "\r",
      "Sampling chain 0, 0 divergences:  87%|████████▋ | 870/1000 [02:55<00:31,  4.10it/s]"
     ]
    },
    {
     "name": "stderr",
     "output_type": "stream",
     "text": [
      "\r",
      "Sampling chain 0, 0 divergences:  87%|████████▋ | 871/1000 [02:55<00:31,  4.16it/s]"
     ]
    },
    {
     "name": "stderr",
     "output_type": "stream",
     "text": [
      "\r",
      "Sampling chain 0, 0 divergences:  87%|████████▋ | 872/1000 [02:56<00:30,  4.18it/s]"
     ]
    },
    {
     "name": "stderr",
     "output_type": "stream",
     "text": [
      "\r",
      "Sampling chain 0, 0 divergences:  87%|████████▋ | 873/1000 [02:56<00:30,  4.20it/s]"
     ]
    },
    {
     "name": "stderr",
     "output_type": "stream",
     "text": [
      "\r",
      "Sampling chain 0, 0 divergences:  87%|████████▋ | 874/1000 [02:56<00:30,  4.15it/s]"
     ]
    },
    {
     "name": "stderr",
     "output_type": "stream",
     "text": [
      "\r",
      "Sampling chain 0, 0 divergences:  88%|████████▊ | 875/1000 [02:56<00:29,  4.19it/s]"
     ]
    },
    {
     "name": "stderr",
     "output_type": "stream",
     "text": [
      "\r",
      "Sampling chain 0, 0 divergences:  88%|████████▊ | 876/1000 [02:56<00:29,  4.17it/s]"
     ]
    },
    {
     "name": "stderr",
     "output_type": "stream",
     "text": [
      "\r",
      "Sampling chain 0, 0 divergences:  88%|████████▊ | 877/1000 [02:57<00:29,  4.22it/s]"
     ]
    },
    {
     "name": "stderr",
     "output_type": "stream",
     "text": [
      "\r",
      "Sampling chain 0, 0 divergences:  88%|████████▊ | 878/1000 [02:57<00:28,  4.22it/s]"
     ]
    },
    {
     "name": "stderr",
     "output_type": "stream",
     "text": [
      "\r",
      "Sampling chain 0, 0 divergences:  88%|████████▊ | 879/1000 [02:57<00:28,  4.25it/s]"
     ]
    },
    {
     "name": "stderr",
     "output_type": "stream",
     "text": [
      "\r",
      "Sampling chain 0, 0 divergences:  88%|████████▊ | 880/1000 [02:57<00:28,  4.26it/s]"
     ]
    },
    {
     "name": "stderr",
     "output_type": "stream",
     "text": [
      "\r",
      "Sampling chain 0, 0 divergences:  88%|████████▊ | 881/1000 [02:58<00:28,  4.23it/s]"
     ]
    },
    {
     "name": "stderr",
     "output_type": "stream",
     "text": [
      "\r",
      "Sampling chain 0, 0 divergences:  88%|████████▊ | 882/1000 [02:58<00:27,  4.23it/s]"
     ]
    },
    {
     "name": "stderr",
     "output_type": "stream",
     "text": [
      "\r",
      "Sampling chain 0, 0 divergences:  88%|████████▊ | 883/1000 [02:58<00:28,  4.17it/s]"
     ]
    },
    {
     "name": "stderr",
     "output_type": "stream",
     "text": [
      "\r",
      "Sampling chain 0, 0 divergences:  88%|████████▊ | 884/1000 [02:58<00:27,  4.18it/s]"
     ]
    },
    {
     "name": "stderr",
     "output_type": "stream",
     "text": [
      "\r",
      "Sampling chain 0, 0 divergences:  88%|████████▊ | 885/1000 [02:59<00:27,  4.14it/s]"
     ]
    },
    {
     "name": "stderr",
     "output_type": "stream",
     "text": [
      "\r",
      "Sampling chain 0, 0 divergences:  89%|████████▊ | 886/1000 [02:59<00:27,  4.16it/s]"
     ]
    },
    {
     "name": "stderr",
     "output_type": "stream",
     "text": [
      "\r",
      "Sampling chain 0, 0 divergences:  89%|████████▊ | 887/1000 [02:59<00:27,  4.18it/s]"
     ]
    },
    {
     "name": "stderr",
     "output_type": "stream",
     "text": [
      "\r",
      "Sampling chain 0, 0 divergences:  89%|████████▉ | 888/1000 [02:59<00:26,  4.18it/s]"
     ]
    },
    {
     "name": "stderr",
     "output_type": "stream",
     "text": [
      "\r",
      "Sampling chain 0, 0 divergences:  89%|████████▉ | 889/1000 [03:00<00:26,  4.13it/s]"
     ]
    },
    {
     "name": "stderr",
     "output_type": "stream",
     "text": [
      "\r",
      "Sampling chain 0, 0 divergences:  89%|████████▉ | 890/1000 [03:00<00:26,  4.18it/s]"
     ]
    },
    {
     "name": "stderr",
     "output_type": "stream",
     "text": [
      "\r",
      "Sampling chain 0, 0 divergences:  89%|████████▉ | 891/1000 [03:00<00:26,  4.16it/s]"
     ]
    },
    {
     "name": "stderr",
     "output_type": "stream",
     "text": [
      "\r",
      "Sampling chain 0, 0 divergences:  89%|████████▉ | 892/1000 [03:00<00:25,  4.20it/s]"
     ]
    },
    {
     "name": "stderr",
     "output_type": "stream",
     "text": [
      "\r",
      "Sampling chain 0, 0 divergences:  89%|████████▉ | 893/1000 [03:01<00:25,  4.18it/s]"
     ]
    },
    {
     "name": "stderr",
     "output_type": "stream",
     "text": [
      "\r",
      "Sampling chain 0, 0 divergences:  89%|████████▉ | 894/1000 [03:01<00:25,  4.18it/s]"
     ]
    },
    {
     "name": "stderr",
     "output_type": "stream",
     "text": [
      "\r",
      "Sampling chain 0, 0 divergences:  90%|████████▉ | 895/1000 [03:01<00:25,  4.19it/s]"
     ]
    },
    {
     "name": "stderr",
     "output_type": "stream",
     "text": [
      "\r",
      "Sampling chain 0, 0 divergences:  90%|████████▉ | 896/1000 [03:01<00:25,  4.14it/s]"
     ]
    },
    {
     "name": "stderr",
     "output_type": "stream",
     "text": [
      "\r",
      "Sampling chain 0, 0 divergences:  90%|████████▉ | 897/1000 [03:02<00:25,  4.11it/s]"
     ]
    },
    {
     "name": "stderr",
     "output_type": "stream",
     "text": [
      "\r",
      "Sampling chain 0, 0 divergences:  90%|████████▉ | 898/1000 [03:02<00:24,  4.10it/s]"
     ]
    },
    {
     "name": "stderr",
     "output_type": "stream",
     "text": [
      "\r",
      "Sampling chain 0, 0 divergences:  90%|████████▉ | 899/1000 [03:02<00:25,  4.03it/s]"
     ]
    },
    {
     "name": "stderr",
     "output_type": "stream",
     "text": [
      "\r",
      "Sampling chain 0, 0 divergences:  90%|█████████ | 900/1000 [03:02<00:24,  4.09it/s]"
     ]
    },
    {
     "name": "stderr",
     "output_type": "stream",
     "text": [
      "\r",
      "Sampling chain 0, 0 divergences:  90%|█████████ | 901/1000 [03:02<00:23,  4.13it/s]"
     ]
    },
    {
     "name": "stderr",
     "output_type": "stream",
     "text": [
      "\r",
      "Sampling chain 0, 0 divergences:  90%|█████████ | 902/1000 [03:03<00:23,  4.15it/s]"
     ]
    },
    {
     "name": "stderr",
     "output_type": "stream",
     "text": [
      "\r",
      "Sampling chain 0, 0 divergences:  90%|█████████ | 903/1000 [03:03<00:23,  4.21it/s]"
     ]
    },
    {
     "name": "stderr",
     "output_type": "stream",
     "text": [
      "\r",
      "Sampling chain 0, 0 divergences:  90%|█████████ | 904/1000 [03:03<00:22,  4.19it/s]"
     ]
    },
    {
     "name": "stderr",
     "output_type": "stream",
     "text": [
      "\r",
      "Sampling chain 0, 0 divergences:  90%|█████████ | 905/1000 [03:03<00:22,  4.23it/s]"
     ]
    },
    {
     "name": "stderr",
     "output_type": "stream",
     "text": [
      "\r",
      "Sampling chain 0, 0 divergences:  91%|█████████ | 906/1000 [03:04<00:22,  4.24it/s]"
     ]
    },
    {
     "name": "stderr",
     "output_type": "stream",
     "text": [
      "\r",
      "Sampling chain 0, 0 divergences:  91%|█████████ | 907/1000 [03:04<00:21,  4.24it/s]"
     ]
    },
    {
     "name": "stderr",
     "output_type": "stream",
     "text": [
      "\r",
      "Sampling chain 0, 0 divergences:  91%|█████████ | 908/1000 [03:04<00:21,  4.19it/s]"
     ]
    },
    {
     "name": "stderr",
     "output_type": "stream",
     "text": [
      "\r",
      "Sampling chain 0, 0 divergences:  91%|█████████ | 909/1000 [03:04<00:21,  4.21it/s]"
     ]
    },
    {
     "name": "stderr",
     "output_type": "stream",
     "text": [
      "\r",
      "Sampling chain 0, 0 divergences:  91%|█████████ | 910/1000 [03:05<00:21,  4.20it/s]"
     ]
    },
    {
     "name": "stderr",
     "output_type": "stream",
     "text": [
      "\r",
      "Sampling chain 0, 0 divergences:  91%|█████████ | 911/1000 [03:05<00:20,  4.25it/s]"
     ]
    },
    {
     "name": "stderr",
     "output_type": "stream",
     "text": [
      "\r",
      "Sampling chain 0, 0 divergences:  91%|█████████ | 912/1000 [03:05<00:20,  4.25it/s]"
     ]
    },
    {
     "name": "stderr",
     "output_type": "stream",
     "text": [
      "\r",
      "Sampling chain 0, 0 divergences:  91%|█████████▏| 913/1000 [03:05<00:20,  4.24it/s]"
     ]
    },
    {
     "name": "stderr",
     "output_type": "stream",
     "text": [
      "\r",
      "Sampling chain 0, 0 divergences:  91%|█████████▏| 914/1000 [03:06<00:20,  4.27it/s]"
     ]
    },
    {
     "name": "stderr",
     "output_type": "stream",
     "text": [
      "\r",
      "Sampling chain 0, 0 divergences:  92%|█████████▏| 915/1000 [03:06<00:19,  4.26it/s]"
     ]
    },
    {
     "name": "stderr",
     "output_type": "stream",
     "text": [
      "\r",
      "Sampling chain 0, 0 divergences:  92%|█████████▏| 916/1000 [03:06<00:19,  4.23it/s]"
     ]
    },
    {
     "name": "stderr",
     "output_type": "stream",
     "text": [
      "\r",
      "Sampling chain 0, 0 divergences:  92%|█████████▏| 917/1000 [03:06<00:20,  4.12it/s]"
     ]
    },
    {
     "name": "stderr",
     "output_type": "stream",
     "text": [
      "\r",
      "Sampling chain 0, 0 divergences:  92%|█████████▏| 918/1000 [03:07<00:19,  4.14it/s]"
     ]
    },
    {
     "name": "stderr",
     "output_type": "stream",
     "text": [
      "\r",
      "Sampling chain 0, 0 divergences:  92%|█████████▏| 919/1000 [03:07<00:19,  4.12it/s]"
     ]
    },
    {
     "name": "stderr",
     "output_type": "stream",
     "text": [
      "\r",
      "Sampling chain 0, 0 divergences:  92%|█████████▏| 920/1000 [03:07<00:19,  4.14it/s]"
     ]
    },
    {
     "name": "stderr",
     "output_type": "stream",
     "text": [
      "\r",
      "Sampling chain 0, 0 divergences:  92%|█████████▏| 921/1000 [03:07<00:19,  4.15it/s]"
     ]
    },
    {
     "name": "stderr",
     "output_type": "stream",
     "text": [
      "\r",
      "Sampling chain 0, 0 divergences:  92%|█████████▏| 922/1000 [03:07<00:18,  4.11it/s]"
     ]
    },
    {
     "name": "stderr",
     "output_type": "stream",
     "text": [
      "\r",
      "Sampling chain 0, 0 divergences:  92%|█████████▏| 923/1000 [03:08<00:18,  4.11it/s]"
     ]
    },
    {
     "name": "stderr",
     "output_type": "stream",
     "text": [
      "\r",
      "Sampling chain 0, 0 divergences:  92%|█████████▏| 924/1000 [03:08<00:18,  4.11it/s]"
     ]
    },
    {
     "name": "stderr",
     "output_type": "stream",
     "text": [
      "\r",
      "Sampling chain 0, 0 divergences:  92%|█████████▎| 925/1000 [03:08<00:18,  4.09it/s]"
     ]
    },
    {
     "name": "stderr",
     "output_type": "stream",
     "text": [
      "\r",
      "Sampling chain 0, 0 divergences:  93%|█████████▎| 926/1000 [03:08<00:18,  4.06it/s]"
     ]
    },
    {
     "name": "stderr",
     "output_type": "stream",
     "text": [
      "\r",
      "Sampling chain 0, 0 divergences:  93%|█████████▎| 927/1000 [03:09<00:17,  4.11it/s]"
     ]
    },
    {
     "name": "stderr",
     "output_type": "stream",
     "text": [
      "\r",
      "Sampling chain 0, 0 divergences:  93%|█████████▎| 928/1000 [03:09<00:17,  4.14it/s]"
     ]
    },
    {
     "name": "stderr",
     "output_type": "stream",
     "text": [
      "\r",
      "Sampling chain 0, 0 divergences:  93%|█████████▎| 929/1000 [03:09<00:17,  4.11it/s]"
     ]
    },
    {
     "name": "stderr",
     "output_type": "stream",
     "text": [
      "\r",
      "Sampling chain 0, 0 divergences:  93%|█████████▎| 930/1000 [03:09<00:16,  4.14it/s]"
     ]
    },
    {
     "name": "stderr",
     "output_type": "stream",
     "text": [
      "\r",
      "Sampling chain 0, 0 divergences:  93%|█████████▎| 931/1000 [03:10<00:16,  4.18it/s]"
     ]
    },
    {
     "name": "stderr",
     "output_type": "stream",
     "text": [
      "\r",
      "Sampling chain 0, 0 divergences:  93%|█████████▎| 932/1000 [03:10<00:16,  4.16it/s]"
     ]
    },
    {
     "name": "stderr",
     "output_type": "stream",
     "text": [
      "\r",
      "Sampling chain 0, 0 divergences:  93%|█████████▎| 933/1000 [03:10<00:16,  4.17it/s]"
     ]
    },
    {
     "name": "stderr",
     "output_type": "stream",
     "text": [
      "\r",
      "Sampling chain 0, 0 divergences:  93%|█████████▎| 934/1000 [03:10<00:15,  4.20it/s]"
     ]
    },
    {
     "name": "stderr",
     "output_type": "stream",
     "text": [
      "\r",
      "Sampling chain 0, 0 divergences:  94%|█████████▎| 935/1000 [03:11<00:15,  4.23it/s]"
     ]
    },
    {
     "name": "stderr",
     "output_type": "stream",
     "text": [
      "\r",
      "Sampling chain 0, 0 divergences:  94%|█████████▎| 936/1000 [03:11<00:15,  4.21it/s]"
     ]
    },
    {
     "name": "stderr",
     "output_type": "stream",
     "text": [
      "\r",
      "Sampling chain 0, 0 divergences:  94%|█████████▎| 937/1000 [03:11<00:15,  4.19it/s]"
     ]
    },
    {
     "name": "stderr",
     "output_type": "stream",
     "text": [
      "\r",
      "Sampling chain 0, 0 divergences:  94%|█████████▍| 938/1000 [03:11<00:14,  4.15it/s]"
     ]
    },
    {
     "name": "stderr",
     "output_type": "stream",
     "text": [
      "\r",
      "Sampling chain 0, 0 divergences:  94%|█████████▍| 939/1000 [03:12<00:14,  4.07it/s]"
     ]
    },
    {
     "name": "stderr",
     "output_type": "stream",
     "text": [
      "\r",
      "Sampling chain 0, 0 divergences:  94%|█████████▍| 940/1000 [03:12<00:14,  4.07it/s]"
     ]
    },
    {
     "name": "stderr",
     "output_type": "stream",
     "text": [
      "\r",
      "Sampling chain 0, 0 divergences:  94%|█████████▍| 941/1000 [03:12<00:14,  4.14it/s]"
     ]
    },
    {
     "name": "stderr",
     "output_type": "stream",
     "text": [
      "\r",
      "Sampling chain 0, 0 divergences:  94%|█████████▍| 942/1000 [03:12<00:13,  4.17it/s]"
     ]
    },
    {
     "name": "stderr",
     "output_type": "stream",
     "text": [
      "\r",
      "Sampling chain 0, 0 divergences:  94%|█████████▍| 943/1000 [03:13<00:13,  4.13it/s]"
     ]
    },
    {
     "name": "stderr",
     "output_type": "stream",
     "text": [
      "\r",
      "Sampling chain 0, 0 divergences:  94%|█████████▍| 944/1000 [03:13<00:13,  4.18it/s]"
     ]
    },
    {
     "name": "stderr",
     "output_type": "stream",
     "text": [
      "\r",
      "Sampling chain 0, 0 divergences:  94%|█████████▍| 945/1000 [03:13<00:13,  4.16it/s]"
     ]
    },
    {
     "name": "stderr",
     "output_type": "stream",
     "text": [
      "\r",
      "Sampling chain 0, 0 divergences:  95%|█████████▍| 946/1000 [03:13<00:13,  4.10it/s]"
     ]
    },
    {
     "name": "stderr",
     "output_type": "stream",
     "text": [
      "\r",
      "Sampling chain 0, 0 divergences:  95%|█████████▍| 947/1000 [03:14<00:12,  4.09it/s]"
     ]
    },
    {
     "name": "stderr",
     "output_type": "stream",
     "text": [
      "\r",
      "Sampling chain 0, 0 divergences:  95%|█████████▍| 948/1000 [03:14<00:12,  4.12it/s]"
     ]
    },
    {
     "name": "stderr",
     "output_type": "stream",
     "text": [
      "\r",
      "Sampling chain 0, 0 divergences:  95%|█████████▍| 949/1000 [03:14<00:12,  4.09it/s]"
     ]
    },
    {
     "name": "stderr",
     "output_type": "stream",
     "text": [
      "\r",
      "Sampling chain 0, 0 divergences:  95%|█████████▌| 950/1000 [03:14<00:12,  4.02it/s]"
     ]
    },
    {
     "name": "stderr",
     "output_type": "stream",
     "text": [
      "\r",
      "Sampling chain 0, 0 divergences:  95%|█████████▌| 951/1000 [03:15<00:11,  4.08it/s]"
     ]
    },
    {
     "name": "stderr",
     "output_type": "stream",
     "text": [
      "\r",
      "Sampling chain 0, 0 divergences:  95%|█████████▌| 952/1000 [03:15<00:11,  4.16it/s]"
     ]
    },
    {
     "name": "stderr",
     "output_type": "stream",
     "text": [
      "\r",
      "Sampling chain 0, 0 divergences:  95%|█████████▌| 953/1000 [03:15<00:11,  4.13it/s]"
     ]
    },
    {
     "name": "stderr",
     "output_type": "stream",
     "text": [
      "\r",
      "Sampling chain 0, 0 divergences:  95%|█████████▌| 954/1000 [03:15<00:11,  4.12it/s]"
     ]
    },
    {
     "name": "stderr",
     "output_type": "stream",
     "text": [
      "\r",
      "Sampling chain 0, 0 divergences:  96%|█████████▌| 955/1000 [03:15<00:10,  4.13it/s]"
     ]
    },
    {
     "name": "stderr",
     "output_type": "stream",
     "text": [
      "\r",
      "Sampling chain 0, 0 divergences:  96%|█████████▌| 956/1000 [03:16<00:10,  4.13it/s]"
     ]
    },
    {
     "name": "stderr",
     "output_type": "stream",
     "text": [
      "\r",
      "Sampling chain 0, 0 divergences:  96%|█████████▌| 957/1000 [03:16<00:10,  4.20it/s]"
     ]
    },
    {
     "name": "stderr",
     "output_type": "stream",
     "text": [
      "\r",
      "Sampling chain 0, 0 divergences:  96%|█████████▌| 958/1000 [03:16<00:10,  4.17it/s]"
     ]
    },
    {
     "name": "stderr",
     "output_type": "stream",
     "text": [
      "\r",
      "Sampling chain 0, 0 divergences:  96%|█████████▌| 959/1000 [03:16<00:10,  4.03it/s]"
     ]
    },
    {
     "name": "stderr",
     "output_type": "stream",
     "text": [
      "\r",
      "Sampling chain 0, 0 divergences:  96%|█████████▌| 960/1000 [03:17<00:10,  3.91it/s]"
     ]
    },
    {
     "name": "stderr",
     "output_type": "stream",
     "text": [
      "\r",
      "Sampling chain 0, 0 divergences:  96%|█████████▌| 961/1000 [03:17<00:09,  4.02it/s]"
     ]
    },
    {
     "name": "stderr",
     "output_type": "stream",
     "text": [
      "\r",
      "Sampling chain 0, 0 divergences:  96%|█████████▌| 962/1000 [03:17<00:09,  4.10it/s]"
     ]
    },
    {
     "name": "stderr",
     "output_type": "stream",
     "text": [
      "\r",
      "Sampling chain 0, 0 divergences:  96%|█████████▋| 963/1000 [03:17<00:08,  4.12it/s]"
     ]
    },
    {
     "name": "stderr",
     "output_type": "stream",
     "text": [
      "\r",
      "Sampling chain 0, 0 divergences:  96%|█████████▋| 964/1000 [03:18<00:08,  4.16it/s]"
     ]
    },
    {
     "name": "stderr",
     "output_type": "stream",
     "text": [
      "\r",
      "Sampling chain 0, 0 divergences:  96%|█████████▋| 965/1000 [03:18<00:08,  4.24it/s]"
     ]
    },
    {
     "name": "stderr",
     "output_type": "stream",
     "text": [
      "\r",
      "Sampling chain 0, 0 divergences:  97%|█████████▋| 966/1000 [03:18<00:07,  4.29it/s]"
     ]
    },
    {
     "name": "stderr",
     "output_type": "stream",
     "text": [
      "\r",
      "Sampling chain 0, 0 divergences:  97%|█████████▋| 967/1000 [03:18<00:07,  4.29it/s]"
     ]
    },
    {
     "name": "stderr",
     "output_type": "stream",
     "text": [
      "\r",
      "Sampling chain 0, 0 divergences:  97%|█████████▋| 968/1000 [03:19<00:07,  4.27it/s]"
     ]
    },
    {
     "name": "stderr",
     "output_type": "stream",
     "text": [
      "\r",
      "Sampling chain 0, 0 divergences:  97%|█████████▋| 969/1000 [03:19<00:07,  4.25it/s]"
     ]
    },
    {
     "name": "stderr",
     "output_type": "stream",
     "text": [
      "\r",
      "Sampling chain 0, 0 divergences:  97%|█████████▋| 970/1000 [03:19<00:07,  4.18it/s]"
     ]
    },
    {
     "name": "stderr",
     "output_type": "stream",
     "text": [
      "\r",
      "Sampling chain 0, 0 divergences:  97%|█████████▋| 971/1000 [03:19<00:06,  4.17it/s]"
     ]
    },
    {
     "name": "stderr",
     "output_type": "stream",
     "text": [
      "\r",
      "Sampling chain 0, 0 divergences:  97%|█████████▋| 972/1000 [03:20<00:06,  4.22it/s]"
     ]
    },
    {
     "name": "stderr",
     "output_type": "stream",
     "text": [
      "\r",
      "Sampling chain 0, 0 divergences:  97%|█████████▋| 973/1000 [03:20<00:06,  4.26it/s]"
     ]
    },
    {
     "name": "stderr",
     "output_type": "stream",
     "text": [
      "\r",
      "Sampling chain 0, 0 divergences:  97%|█████████▋| 974/1000 [03:20<00:06,  4.26it/s]"
     ]
    },
    {
     "name": "stderr",
     "output_type": "stream",
     "text": [
      "\r",
      "Sampling chain 0, 0 divergences:  98%|█████████▊| 975/1000 [03:20<00:05,  4.22it/s]"
     ]
    },
    {
     "name": "stderr",
     "output_type": "stream",
     "text": [
      "\r",
      "Sampling chain 0, 0 divergences:  98%|█████████▊| 976/1000 [03:21<00:05,  4.12it/s]"
     ]
    },
    {
     "name": "stderr",
     "output_type": "stream",
     "text": [
      "\r",
      "Sampling chain 0, 0 divergences:  98%|█████████▊| 977/1000 [03:21<00:05,  4.07it/s]"
     ]
    },
    {
     "name": "stderr",
     "output_type": "stream",
     "text": [
      "\r",
      "Sampling chain 0, 0 divergences:  98%|█████████▊| 978/1000 [03:21<00:05,  4.09it/s]"
     ]
    },
    {
     "name": "stderr",
     "output_type": "stream",
     "text": [
      "\r",
      "Sampling chain 0, 0 divergences:  98%|█████████▊| 979/1000 [03:21<00:05,  4.04it/s]"
     ]
    },
    {
     "name": "stderr",
     "output_type": "stream",
     "text": [
      "\r",
      "Sampling chain 0, 0 divergences:  98%|█████████▊| 980/1000 [03:22<00:04,  4.09it/s]"
     ]
    },
    {
     "name": "stderr",
     "output_type": "stream",
     "text": [
      "\r",
      "Sampling chain 0, 0 divergences:  98%|█████████▊| 981/1000 [03:22<00:04,  4.10it/s]"
     ]
    },
    {
     "name": "stderr",
     "output_type": "stream",
     "text": [
      "\r",
      "Sampling chain 0, 0 divergences:  98%|█████████▊| 982/1000 [03:22<00:04,  4.10it/s]"
     ]
    },
    {
     "name": "stderr",
     "output_type": "stream",
     "text": [
      "\r",
      "Sampling chain 0, 0 divergences:  98%|█████████▊| 983/1000 [03:22<00:04,  4.15it/s]"
     ]
    },
    {
     "name": "stderr",
     "output_type": "stream",
     "text": [
      "\r",
      "Sampling chain 0, 0 divergences:  98%|█████████▊| 984/1000 [03:22<00:03,  4.10it/s]"
     ]
    },
    {
     "name": "stderr",
     "output_type": "stream",
     "text": [
      "\r",
      "Sampling chain 0, 0 divergences:  98%|█████████▊| 985/1000 [03:23<00:03,  4.14it/s]"
     ]
    },
    {
     "name": "stderr",
     "output_type": "stream",
     "text": [
      "\r",
      "Sampling chain 0, 0 divergences:  99%|█████████▊| 986/1000 [03:23<00:03,  4.18it/s]"
     ]
    },
    {
     "name": "stderr",
     "output_type": "stream",
     "text": [
      "\r",
      "Sampling chain 0, 0 divergences:  99%|█████████▊| 987/1000 [03:23<00:03,  4.19it/s]"
     ]
    },
    {
     "name": "stderr",
     "output_type": "stream",
     "text": [
      "\r",
      "Sampling chain 0, 0 divergences:  99%|█████████▉| 988/1000 [03:23<00:02,  4.18it/s]"
     ]
    },
    {
     "name": "stderr",
     "output_type": "stream",
     "text": [
      "\r",
      "Sampling chain 0, 0 divergences:  99%|█████████▉| 989/1000 [03:24<00:02,  4.18it/s]"
     ]
    },
    {
     "name": "stderr",
     "output_type": "stream",
     "text": [
      "\r",
      "Sampling chain 0, 0 divergences:  99%|█████████▉| 990/1000 [03:24<00:02,  4.19it/s]"
     ]
    },
    {
     "name": "stderr",
     "output_type": "stream",
     "text": [
      "\r",
      "Sampling chain 0, 0 divergences:  99%|█████████▉| 991/1000 [03:24<00:02,  4.20it/s]"
     ]
    },
    {
     "name": "stderr",
     "output_type": "stream",
     "text": [
      "\r",
      "Sampling chain 0, 0 divergences:  99%|█████████▉| 992/1000 [03:24<00:01,  4.18it/s]"
     ]
    },
    {
     "name": "stderr",
     "output_type": "stream",
     "text": [
      "\r",
      "Sampling chain 0, 0 divergences:  99%|█████████▉| 993/1000 [03:25<00:01,  4.18it/s]"
     ]
    },
    {
     "name": "stderr",
     "output_type": "stream",
     "text": [
      "\r",
      "Sampling chain 0, 0 divergences:  99%|█████████▉| 994/1000 [03:25<00:01,  4.14it/s]"
     ]
    },
    {
     "name": "stderr",
     "output_type": "stream",
     "text": [
      "\r",
      "Sampling chain 0, 0 divergences: 100%|█████████▉| 995/1000 [03:25<00:01,  4.18it/s]"
     ]
    },
    {
     "name": "stderr",
     "output_type": "stream",
     "text": [
      "\r",
      "Sampling chain 0, 0 divergences: 100%|█████████▉| 996/1000 [03:25<00:00,  4.17it/s]"
     ]
    },
    {
     "name": "stderr",
     "output_type": "stream",
     "text": [
      "\r",
      "Sampling chain 0, 0 divergences: 100%|█████████▉| 997/1000 [03:26<00:00,  4.16it/s]"
     ]
    },
    {
     "name": "stderr",
     "output_type": "stream",
     "text": [
      "\r",
      "Sampling chain 0, 0 divergences: 100%|█████████▉| 998/1000 [03:26<00:00,  4.14it/s]"
     ]
    },
    {
     "name": "stderr",
     "output_type": "stream",
     "text": [
      "\r",
      "Sampling chain 0, 0 divergences: 100%|█████████▉| 999/1000 [03:26<00:00,  4.15it/s]"
     ]
    },
    {
     "name": "stderr",
     "output_type": "stream",
     "text": [
      "\r",
      "Sampling chain 0, 0 divergences: 100%|██████████| 1000/1000 [03:26<00:00,  4.20it/s]"
     ]
    },
    {
     "name": "stderr",
     "output_type": "stream",
     "text": [
      "\r",
      "Sampling chain 0, 0 divergences: 100%|██████████| 1000/1000 [03:26<00:00,  4.84it/s]"
     ]
    },
    {
     "name": "stderr",
     "output_type": "stream",
     "text": [
      "\n",
      "The chain reached the maximum tree depth. Increase max_treedepth, increase target_accept or reparameterize.\n"
     ]
    },
    {
     "name": "stderr",
     "output_type": "stream",
     "text": [
      "Only one chain was sampled, this makes it impossible to run some convergence checks\n"
     ]
    }
   ],
   "source": [
    "#hide\n",
    "\n",
    "df, df_pred = get_statewise_testing_data()\n",
    "\n",
    "# Initialize the model:\n",
    "mod = case_count_model_us_states(df)\n",
    "\n",
    "# Run MCMC sampler\n",
    "with mod:\n",
    "    trace = pm.sample(500, tune=500, chains=1)"
   ]
  },
  {
   "cell_type": "code",
   "execution_count": 5,
   "metadata": {
    "execution": {
     "iopub.execute_input": "2020-05-25T12:20:20.664348Z",
     "iopub.status.busy": "2020-05-25T12:20:20.645033Z",
     "iopub.status.idle": "2020-05-25T12:20:21.166645Z",
     "shell.execute_reply": "2020-05-25T12:20:21.165850Z"
    },
    "papermill": {
     "duration": 0.861987,
     "end_time": "2020-05-25T12:20:21.166756",
     "exception": false,
     "start_time": "2020-05-25T12:20:20.304769",
     "status": "completed"
    },
    "scrolled": true,
    "tags": []
   },
   "outputs": [
    {
     "data": {
      "text/markdown": [
       "## Summary for the United States on 2020-05-25:"
      ],
      "text/plain": [
       "<IPython.core.display.Markdown object>"
      ]
     },
     "metadata": {},
     "output_type": "display_data"
    },
    {
     "data": {
      "text/markdown": [
       "**Reported Case Count:**  1,631,475"
      ],
      "text/plain": [
       "<IPython.core.display.Markdown object>"
      ]
     },
     "metadata": {},
     "output_type": "display_data"
    },
    {
     "data": {
      "text/markdown": [
       "**Predicted Case Count:**  1,848,950"
      ],
      "text/plain": [
       "<IPython.core.display.Markdown object>"
      ]
     },
     "metadata": {},
     "output_type": "display_data"
    },
    {
     "data": {
      "text/markdown": [
       "**Percentage Underreporting in Case Count:**  11.8%"
      ],
      "text/plain": [
       "<IPython.core.display.Markdown object>"
      ]
     },
     "metadata": {},
     "output_type": "display_data"
    }
   ],
   "source": [
    "#hide_input\n",
    "\n",
    "n = len(trace['beta'])\n",
    "\n",
    "# South Korea:\n",
    "ppt_sk = np.log10(51500000. / 250000)\n",
    "\n",
    "\n",
    "# Compute predicted case counts per state right now\n",
    "logit_now = pd.DataFrame([\n",
    "    pd.Series(np.random.normal((trace['alpha'][i] + trace['beta'][i] * (np.log10(df_pred['people_per_test']) - ppt_sk)),\n",
    "                     trace['sigma'][i]), index=df_pred.index)\n",
    "    for i in range(len(trace['beta']))])\n",
    "prob_missing_now = np.exp(logit_now) / (np.exp(logit_now) + 1) \n",
    "\n",
    "predicted_counts_now = np.round(df_pred['positive'] / prob_missing_now.mean(axis=0)).astype(int)\n",
    "\n",
    "predicted_counts_now_lower = np.round(df_pred['positive'] / prob_missing_now.quantile(0.975, axis=0)).astype(int)\n",
    "predicted_counts_now_upper = np.round(df_pred['positive'] / prob_missing_now.quantile(0.025, axis=0)).astype(int)\n",
    "\n",
    "case_increase_percent = list(map(lambda x, y: (((x - y) / float(y))),\n",
    "                                 predicted_counts_now, df_pred['positive']))\n",
    "\n",
    "df_summary = pd.DataFrame(\n",
    "    data = {\n",
    "     'Cases Reported': df_pred['positive'],\n",
    "     'Cases Estimated': predicted_counts_now,\n",
    "     'Percent Increase': case_increase_percent,\n",
    "     'Tests per Million People': df_pred['tests_per_million'].round(1),\n",
    "     'Cases Estimated (range)': list(map(lambda x, y: '(%i, %i)' % (round(x), round(y)),\n",
    "                                        predicted_counts_now_lower, predicted_counts_now_upper)),\n",
    "     'Cases per Million': ((df_pred['positive'] / df_pred['total_population']) * 1e6),\n",
    "     'Positive Test Rate': (df_pred['positive'] / (df_pred['positive'] + df_pred['negative']))\n",
    "    },\n",
    "    index=df_pred.index)\n",
    "\n",
    "from datetime import datetime\n",
    "display(Markdown(\"## Summary for the United States on %s:\" % str(datetime.today())[:10]))\n",
    "display(Markdown(f\"**Reported Case Count:**  {df_summary['Cases Reported'].sum():,}\"))\n",
    "display(Markdown(f\"**Predicted Case Count:**  {df_summary['Cases Estimated'].sum():,}\"))\n",
    "case_increase_percent = 100. * (df_summary['Cases Estimated'].sum() - df_summary['Cases Reported'].sum()) / df_summary['Cases Estimated'].sum()\n",
    "display(Markdown(\"**Percentage Underreporting in Case Count:**  %.1f%%\" % case_increase_percent))"
   ]
  },
  {
   "cell_type": "code",
   "execution_count": 6,
   "metadata": {
    "execution": {
     "iopub.execute_input": "2020-05-25T12:20:21.773882Z",
     "iopub.status.busy": "2020-05-25T12:20:21.770947Z",
     "iopub.status.idle": "2020-05-25T12:20:21.777156Z",
     "shell.execute_reply": "2020-05-25T12:20:21.776491Z"
    },
    "papermill": {
     "duration": 0.306141,
     "end_time": "2020-05-25T12:20:21.777286",
     "exception": false,
     "start_time": "2020-05-25T12:20:21.471145",
     "status": "completed"
    },
    "tags": []
   },
   "outputs": [],
   "source": [
    "#hide\n",
    "df_summary.loc[:, 'Ratio'] = df_summary['Cases Estimated'] / df_summary['Cases Reported']\n",
    "df_summary.columns = ['Reported Cases', 'Est Cases', '% Increase',\n",
    "                      'Tests per Million', 'Est Range',\n",
    "                      'Cases per Million', 'Positive Test Rate',\n",
    "                      'Ratio']\n",
    "\n",
    "df_display = df_summary[['Reported Cases', 'Est Cases', 'Est Range', 'Ratio',\n",
    "                         'Tests per Million', 'Cases per Million',\n",
    "                         'Positive Test Rate']].copy()"
   ]
  },
  {
   "cell_type": "markdown",
   "metadata": {
    "papermill": {
     "duration": 0.281966,
     "end_time": "2020-05-25T12:20:22.351540",
     "exception": false,
     "start_time": "2020-05-25T12:20:22.069574",
     "status": "completed"
    },
    "tags": []
   },
   "source": [
    "## COVID-19 Case Estimates, by State\n",
    "\n",
    "### Definition Of Fields:\n",
    "\n",
    "- **Reported Cases**:  The number of cases reported by each state, which is a function of how many tests are positive.\n",
    "- **Est Cases**: The predicted number of cases, accounting for the fact that not everyone is tested.\n",
    "- **Est Range**: The 95% confidence interval of the predicted number of cases.\n",
    "- **Ratio**: `Estimated Cases` divided by `Reported Cases`.\n",
    "- **Tests per Million**:  The number of tests administered per one million people.  The less tests administered per capita, the larger the difference between reported and estimated number of cases, generally.\n",
    "- **Cases per Million**: The number of **reported** cases per on million people.\n",
    "- **Positive Test Rate**: The **reported** percentage of positive tests."
   ]
  },
  {
   "cell_type": "code",
   "execution_count": 7,
   "metadata": {
    "execution": {
     "iopub.execute_input": "2020-05-25T12:20:22.935613Z",
     "iopub.status.busy": "2020-05-25T12:20:22.934663Z",
     "iopub.status.idle": "2020-05-25T12:20:23.171412Z",
     "shell.execute_reply": "2020-05-25T12:20:23.171952Z"
    },
    "papermill": {
     "duration": 0.531095,
     "end_time": "2020-05-25T12:20:23.172087",
     "exception": false,
     "start_time": "2020-05-25T12:20:22.640992",
     "status": "completed"
    },
    "tags": []
   },
   "outputs": [
    {
     "data": {
      "text/html": [
       "<style  type=\"text/css\" >\n",
       "    #T_1b6ed5fc_9e82_11ea_938b_000d3a8f5d7crow0_col0 {\n",
       "            background-color:  #7f2704;\n",
       "            color:  #f1f1f1;\n",
       "        }    #T_1b6ed5fc_9e82_11ea_938b_000d3a8f5d7crow0_col1 {\n",
       "            background-color:  #7f2704;\n",
       "            color:  #f1f1f1;\n",
       "        }    #T_1b6ed5fc_9e82_11ea_938b_000d3a8f5d7crow0_col3 {\n",
       "            background-color:  #feead6;\n",
       "            color:  #000000;\n",
       "        }    #T_1b6ed5fc_9e82_11ea_938b_000d3a8f5d7crow0_col4 {\n",
       "            background-color:  #f06712;\n",
       "            color:  #000000;\n",
       "        }    #T_1b6ed5fc_9e82_11ea_938b_000d3a8f5d7crow0_col5 {\n",
       "            background-color:  #7f2704;\n",
       "            color:  #f1f1f1;\n",
       "        }    #T_1b6ed5fc_9e82_11ea_938b_000d3a8f5d7crow0_col6 {\n",
       "            background-color:  #b93d02;\n",
       "            color:  #f1f1f1;\n",
       "        }    #T_1b6ed5fc_9e82_11ea_938b_000d3a8f5d7crow1_col0 {\n",
       "            background-color:  #fda159;\n",
       "            color:  #000000;\n",
       "        }    #T_1b6ed5fc_9e82_11ea_938b_000d3a8f5d7crow1_col1 {\n",
       "            background-color:  #fd9f56;\n",
       "            color:  #000000;\n",
       "        }    #T_1b6ed5fc_9e82_11ea_938b_000d3a8f5d7crow1_col3 {\n",
       "            background-color:  #fdc895;\n",
       "            color:  #000000;\n",
       "        }    #T_1b6ed5fc_9e82_11ea_938b_000d3a8f5d7crow1_col4 {\n",
       "            background-color:  #fd9d53;\n",
       "            color:  #000000;\n",
       "        }    #T_1b6ed5fc_9e82_11ea_938b_000d3a8f5d7crow1_col5 {\n",
       "            background-color:  #942f03;\n",
       "            color:  #f1f1f1;\n",
       "        }    #T_1b6ed5fc_9e82_11ea_938b_000d3a8f5d7crow1_col6 {\n",
       "            background-color:  #7f2704;\n",
       "            color:  #f1f1f1;\n",
       "        }    #T_1b6ed5fc_9e82_11ea_938b_000d3a8f5d7crow2_col0 {\n",
       "            background-color:  #fdc28b;\n",
       "            color:  #000000;\n",
       "        }    #T_1b6ed5fc_9e82_11ea_938b_000d3a8f5d7crow2_col1 {\n",
       "            background-color:  #fdc088;\n",
       "            color:  #000000;\n",
       "        }    #T_1b6ed5fc_9e82_11ea_938b_000d3a8f5d7crow2_col3 {\n",
       "            background-color:  #fdb678;\n",
       "            color:  #000000;\n",
       "        }    #T_1b6ed5fc_9e82_11ea_938b_000d3a8f5d7crow2_col4 {\n",
       "            background-color:  #fdb576;\n",
       "            color:  #000000;\n",
       "        }    #T_1b6ed5fc_9e82_11ea_938b_000d3a8f5d7crow2_col5 {\n",
       "            background-color:  #fd994d;\n",
       "            color:  #000000;\n",
       "        }    #T_1b6ed5fc_9e82_11ea_938b_000d3a8f5d7crow2_col6 {\n",
       "            background-color:  #f77b28;\n",
       "            color:  #000000;\n",
       "        }    #T_1b6ed5fc_9e82_11ea_938b_000d3a8f5d7crow3_col0 {\n",
       "            background-color:  #fdcfa0;\n",
       "            color:  #000000;\n",
       "        }    #T_1b6ed5fc_9e82_11ea_938b_000d3a8f5d7crow3_col1 {\n",
       "            background-color:  #fdcb9b;\n",
       "            color:  #000000;\n",
       "        }    #T_1b6ed5fc_9e82_11ea_938b_000d3a8f5d7crow3_col3 {\n",
       "            background-color:  #f87e2b;\n",
       "            color:  #000000;\n",
       "        }    #T_1b6ed5fc_9e82_11ea_938b_000d3a8f5d7crow3_col4 {\n",
       "            background-color:  #fedfc0;\n",
       "            color:  #000000;\n",
       "        }    #T_1b6ed5fc_9e82_11ea_938b_000d3a8f5d7crow3_col5 {\n",
       "            background-color:  #fee9d3;\n",
       "            color:  #000000;\n",
       "        }    #T_1b6ed5fc_9e82_11ea_938b_000d3a8f5d7crow3_col6 {\n",
       "            background-color:  #fdd9b4;\n",
       "            color:  #000000;\n",
       "        }    #T_1b6ed5fc_9e82_11ea_938b_000d3a8f5d7crow4_col0 {\n",
       "            background-color:  #fdcfa0;\n",
       "            color:  #000000;\n",
       "        }    #T_1b6ed5fc_9e82_11ea_938b_000d3a8f5d7crow4_col1 {\n",
       "            background-color:  #fdce9e;\n",
       "            color:  #000000;\n",
       "        }    #T_1b6ed5fc_9e82_11ea_938b_000d3a8f5d7crow4_col3 {\n",
       "            background-color:  #fdd3a7;\n",
       "            color:  #000000;\n",
       "        }    #T_1b6ed5fc_9e82_11ea_938b_000d3a8f5d7crow4_col4 {\n",
       "            background-color:  #fa8532;\n",
       "            color:  #000000;\n",
       "        }    #T_1b6ed5fc_9e82_11ea_938b_000d3a8f5d7crow4_col5 {\n",
       "            background-color:  #df5106;\n",
       "            color:  #f1f1f1;\n",
       "        }    #T_1b6ed5fc_9e82_11ea_938b_000d3a8f5d7crow4_col6 {\n",
       "            background-color:  #e85d0c;\n",
       "            color:  #000000;\n",
       "        }    #T_1b6ed5fc_9e82_11ea_938b_000d3a8f5d7crow5_col0 {\n",
       "            background-color:  #fedcb9;\n",
       "            color:  #000000;\n",
       "        }    #T_1b6ed5fc_9e82_11ea_938b_000d3a8f5d7crow5_col1 {\n",
       "            background-color:  #fdd9b5;\n",
       "            color:  #000000;\n",
       "        }    #T_1b6ed5fc_9e82_11ea_938b_000d3a8f5d7crow5_col3 {\n",
       "            background-color:  #d84801;\n",
       "            color:  #f1f1f1;\n",
       "        }    #T_1b6ed5fc_9e82_11ea_938b_000d3a8f5d7crow5_col4 {\n",
       "            background-color:  #feecda;\n",
       "            color:  #000000;\n",
       "        }    #T_1b6ed5fc_9e82_11ea_938b_000d3a8f5d7crow5_col5 {\n",
       "            background-color:  #fdcb9b;\n",
       "            color:  #000000;\n",
       "        }    #T_1b6ed5fc_9e82_11ea_938b_000d3a8f5d7crow5_col6 {\n",
       "            background-color:  #eb600e;\n",
       "            color:  #000000;\n",
       "        }    #T_1b6ed5fc_9e82_11ea_938b_000d3a8f5d7crow6_col0 {\n",
       "            background-color:  #fee2c6;\n",
       "            color:  #000000;\n",
       "        }    #T_1b6ed5fc_9e82_11ea_938b_000d3a8f5d7crow6_col1 {\n",
       "            background-color:  #fee0c3;\n",
       "            color:  #000000;\n",
       "        }    #T_1b6ed5fc_9e82_11ea_938b_000d3a8f5d7crow6_col3 {\n",
       "            background-color:  #c14002;\n",
       "            color:  #f1f1f1;\n",
       "        }    #T_1b6ed5fc_9e82_11ea_938b_000d3a8f5d7crow6_col4 {\n",
       "            background-color:  #fff2e5;\n",
       "            color:  #000000;\n",
       "        }    #T_1b6ed5fc_9e82_11ea_938b_000d3a8f5d7crow6_col5 {\n",
       "            background-color:  #feecd9;\n",
       "            color:  #000000;\n",
       "        }    #T_1b6ed5fc_9e82_11ea_938b_000d3a8f5d7crow6_col6 {\n",
       "            background-color:  #fdd0a2;\n",
       "            color:  #000000;\n",
       "        }    #T_1b6ed5fc_9e82_11ea_938b_000d3a8f5d7crow7_col0 {\n",
       "            background-color:  #fee2c6;\n",
       "            color:  #000000;\n",
       "        }    #T_1b6ed5fc_9e82_11ea_938b_000d3a8f5d7crow7_col1 {\n",
       "            background-color:  #fee1c4;\n",
       "            color:  #000000;\n",
       "        }    #T_1b6ed5fc_9e82_11ea_938b_000d3a8f5d7crow7_col3 {\n",
       "            background-color:  #fd9c51;\n",
       "            color:  #000000;\n",
       "        }    #T_1b6ed5fc_9e82_11ea_938b_000d3a8f5d7crow7_col4 {\n",
       "            background-color:  #fdd6ae;\n",
       "            color:  #000000;\n",
       "        }    #T_1b6ed5fc_9e82_11ea_938b_000d3a8f5d7crow7_col5 {\n",
       "            background-color:  #fdc997;\n",
       "            color:  #000000;\n",
       "        }    #T_1b6ed5fc_9e82_11ea_938b_000d3a8f5d7crow7_col6 {\n",
       "            background-color:  #fd994d;\n",
       "            color:  #000000;\n",
       "        }    #T_1b6ed5fc_9e82_11ea_938b_000d3a8f5d7crow8_col0 {\n",
       "            background-color:  #fee4ca;\n",
       "            color:  #000000;\n",
       "        }    #T_1b6ed5fc_9e82_11ea_938b_000d3a8f5d7crow8_col1 {\n",
       "            background-color:  #fee2c7;\n",
       "            color:  #000000;\n",
       "        }    #T_1b6ed5fc_9e82_11ea_938b_000d3a8f5d7crow8_col3 {\n",
       "            background-color:  #f87d29;\n",
       "            color:  #000000;\n",
       "        }    #T_1b6ed5fc_9e82_11ea_938b_000d3a8f5d7crow8_col4 {\n",
       "            background-color:  #fedebf;\n",
       "            color:  #000000;\n",
       "        }    #T_1b6ed5fc_9e82_11ea_938b_000d3a8f5d7crow8_col5 {\n",
       "            background-color:  #fee8d2;\n",
       "            color:  #000000;\n",
       "        }    #T_1b6ed5fc_9e82_11ea_938b_000d3a8f5d7crow8_col6 {\n",
       "            background-color:  #fdd9b4;\n",
       "            color:  #000000;\n",
       "        }    #T_1b6ed5fc_9e82_11ea_938b_000d3a8f5d7crow9_col0 {\n",
       "            background-color:  #fee6ce;\n",
       "            color:  #000000;\n",
       "        }    #T_1b6ed5fc_9e82_11ea_938b_000d3a8f5d7crow9_col1 {\n",
       "            background-color:  #fee5cc;\n",
       "            color:  #000000;\n",
       "        }    #T_1b6ed5fc_9e82_11ea_938b_000d3a8f5d7crow9_col3 {\n",
       "            background-color:  #f87e2b;\n",
       "            color:  #000000;\n",
       "        }    #T_1b6ed5fc_9e82_11ea_938b_000d3a8f5d7crow9_col4 {\n",
       "            background-color:  #fee0c1;\n",
       "            color:  #000000;\n",
       "        }    #T_1b6ed5fc_9e82_11ea_938b_000d3a8f5d7crow9_col5 {\n",
       "            background-color:  #fda863;\n",
       "            color:  #000000;\n",
       "        }    #T_1b6ed5fc_9e82_11ea_938b_000d3a8f5d7crow9_col6 {\n",
       "            background-color:  #da4902;\n",
       "            color:  #f1f1f1;\n",
       "        }    #T_1b6ed5fc_9e82_11ea_938b_000d3a8f5d7crow10_col0 {\n",
       "            background-color:  #fee7d0;\n",
       "            color:  #000000;\n",
       "        }    #T_1b6ed5fc_9e82_11ea_938b_000d3a8f5d7crow10_col1 {\n",
       "            background-color:  #fee6cf;\n",
       "            color:  #000000;\n",
       "        }    #T_1b6ed5fc_9e82_11ea_938b_000d3a8f5d7crow10_col3 {\n",
       "            background-color:  #fd8f3e;\n",
       "            color:  #000000;\n",
       "        }    #T_1b6ed5fc_9e82_11ea_938b_000d3a8f5d7crow10_col4 {\n",
       "            background-color:  #fdd6ae;\n",
       "            color:  #000000;\n",
       "        }    #T_1b6ed5fc_9e82_11ea_938b_000d3a8f5d7crow10_col5 {\n",
       "            background-color:  #fdd9b5;\n",
       "            color:  #000000;\n",
       "        }    #T_1b6ed5fc_9e82_11ea_938b_000d3a8f5d7crow10_col6 {\n",
       "            background-color:  #fdbd83;\n",
       "            color:  #000000;\n",
       "        }    #T_1b6ed5fc_9e82_11ea_938b_000d3a8f5d7crow11_col0 {\n",
       "            background-color:  #fee8d2;\n",
       "            color:  #000000;\n",
       "        }    #T_1b6ed5fc_9e82_11ea_938b_000d3a8f5d7crow11_col1 {\n",
       "            background-color:  #fee8d2;\n",
       "            color:  #000000;\n",
       "        }    #T_1b6ed5fc_9e82_11ea_938b_000d3a8f5d7crow11_col3 {\n",
       "            background-color:  #fdc692;\n",
       "            color:  #000000;\n",
       "        }    #T_1b6ed5fc_9e82_11ea_938b_000d3a8f5d7crow11_col4 {\n",
       "            background-color:  #fdb271;\n",
       "            color:  #000000;\n",
       "        }    #T_1b6ed5fc_9e82_11ea_938b_000d3a8f5d7crow11_col5 {\n",
       "            background-color:  #f3701b;\n",
       "            color:  #000000;\n",
       "        }    #T_1b6ed5fc_9e82_11ea_938b_000d3a8f5d7crow11_col6 {\n",
       "            background-color:  #dd4d04;\n",
       "            color:  #f1f1f1;\n",
       "        }    #T_1b6ed5fc_9e82_11ea_938b_000d3a8f5d7crow12_col0 {\n",
       "            background-color:  #fee9d4;\n",
       "            color:  #000000;\n",
       "        }    #T_1b6ed5fc_9e82_11ea_938b_000d3a8f5d7crow12_col1 {\n",
       "            background-color:  #fee8d2;\n",
       "            color:  #000000;\n",
       "        }    #T_1b6ed5fc_9e82_11ea_938b_000d3a8f5d7crow12_col3 {\n",
       "            background-color:  #c03f02;\n",
       "            color:  #f1f1f1;\n",
       "        }    #T_1b6ed5fc_9e82_11ea_938b_000d3a8f5d7crow12_col4 {\n",
       "            background-color:  #ffefdf;\n",
       "            color:  #000000;\n",
       "        }    #T_1b6ed5fc_9e82_11ea_938b_000d3a8f5d7crow12_col5 {\n",
       "            background-color:  #fdd7b1;\n",
       "            color:  #000000;\n",
       "        }    #T_1b6ed5fc_9e82_11ea_938b_000d3a8f5d7crow12_col6 {\n",
       "            background-color:  #f77a27;\n",
       "            color:  #000000;\n",
       "        }    #T_1b6ed5fc_9e82_11ea_938b_000d3a8f5d7crow13_col0 {\n",
       "            background-color:  #fee9d3;\n",
       "            color:  #000000;\n",
       "        }    #T_1b6ed5fc_9e82_11ea_938b_000d3a8f5d7crow13_col1 {\n",
       "            background-color:  #fee9d3;\n",
       "            color:  #000000;\n",
       "        }    #T_1b6ed5fc_9e82_11ea_938b_000d3a8f5d7crow13_col3 {\n",
       "            background-color:  #fdd0a2;\n",
       "            color:  #000000;\n",
       "        }    #T_1b6ed5fc_9e82_11ea_938b_000d3a8f5d7crow13_col4 {\n",
       "            background-color:  #fd9d53;\n",
       "            color:  #000000;\n",
       "        }    #T_1b6ed5fc_9e82_11ea_938b_000d3a8f5d7crow13_col5 {\n",
       "            background-color:  #fda35c;\n",
       "            color:  #000000;\n",
       "        }    #T_1b6ed5fc_9e82_11ea_938b_000d3a8f5d7crow13_col6 {\n",
       "            background-color:  #fd9d53;\n",
       "            color:  #000000;\n",
       "        }    #T_1b6ed5fc_9e82_11ea_938b_000d3a8f5d7crow14_col0 {\n",
       "            background-color:  #feebd7;\n",
       "            color:  #000000;\n",
       "        }    #T_1b6ed5fc_9e82_11ea_938b_000d3a8f5d7crow14_col1 {\n",
       "            background-color:  #feead6;\n",
       "            color:  #000000;\n",
       "        }    #T_1b6ed5fc_9e82_11ea_938b_000d3a8f5d7crow14_col3 {\n",
       "            background-color:  #c34002;\n",
       "            color:  #f1f1f1;\n",
       "        }    #T_1b6ed5fc_9e82_11ea_938b_000d3a8f5d7crow14_col4 {\n",
       "            background-color:  #fff0e1;\n",
       "            color:  #000000;\n",
       "        }    #T_1b6ed5fc_9e82_11ea_938b_000d3a8f5d7crow14_col5 {\n",
       "            background-color:  #fee6ce;\n",
       "            color:  #000000;\n",
       "        }    #T_1b6ed5fc_9e82_11ea_938b_000d3a8f5d7crow14_col6 {\n",
       "            background-color:  #fdb271;\n",
       "            color:  #000000;\n",
       "        }    #T_1b6ed5fc_9e82_11ea_938b_000d3a8f5d7crow15_col0 {\n",
       "            background-color:  #feebd8;\n",
       "            color:  #000000;\n",
       "        }    #T_1b6ed5fc_9e82_11ea_938b_000d3a8f5d7crow15_col1 {\n",
       "            background-color:  #feead6;\n",
       "            color:  #000000;\n",
       "        }    #T_1b6ed5fc_9e82_11ea_938b_000d3a8f5d7crow15_col3 {\n",
       "            background-color:  #ee6410;\n",
       "            color:  #000000;\n",
       "        }    #T_1b6ed5fc_9e82_11ea_938b_000d3a8f5d7crow15_col4 {\n",
       "            background-color:  #feead5;\n",
       "            color:  #000000;\n",
       "        }    #T_1b6ed5fc_9e82_11ea_938b_000d3a8f5d7crow15_col5 {\n",
       "            background-color:  #fdd3a9;\n",
       "            color:  #000000;\n",
       "        }    #T_1b6ed5fc_9e82_11ea_938b_000d3a8f5d7crow15_col6 {\n",
       "            background-color:  #f9812e;\n",
       "            color:  #000000;\n",
       "        }    #T_1b6ed5fc_9e82_11ea_938b_000d3a8f5d7crow16_col0 {\n",
       "            background-color:  #feeddc;\n",
       "            color:  #000000;\n",
       "        }    #T_1b6ed5fc_9e82_11ea_938b_000d3a8f5d7crow16_col1 {\n",
       "            background-color:  #feeddc;\n",
       "            color:  #000000;\n",
       "        }    #T_1b6ed5fc_9e82_11ea_938b_000d3a8f5d7crow16_col3 {\n",
       "            background-color:  #ad3803;\n",
       "            color:  #f1f1f1;\n",
       "        }    #T_1b6ed5fc_9e82_11ea_938b_000d3a8f5d7crow16_col4 {\n",
       "            background-color:  #fff2e5;\n",
       "            color:  #000000;\n",
       "        }    #T_1b6ed5fc_9e82_11ea_938b_000d3a8f5d7crow16_col5 {\n",
       "            background-color:  #fdd8b2;\n",
       "            color:  #000000;\n",
       "        }    #T_1b6ed5fc_9e82_11ea_938b_000d3a8f5d7crow16_col6 {\n",
       "            background-color:  #f26d17;\n",
       "            color:  #000000;\n",
       "        }    #T_1b6ed5fc_9e82_11ea_938b_000d3a8f5d7crow17_col0 {\n",
       "            background-color:  #feeddc;\n",
       "            color:  #000000;\n",
       "        }    #T_1b6ed5fc_9e82_11ea_938b_000d3a8f5d7crow17_col1 {\n",
       "            background-color:  #feeddc;\n",
       "            color:  #000000;\n",
       "        }    #T_1b6ed5fc_9e82_11ea_938b_000d3a8f5d7crow17_col3 {\n",
       "            background-color:  #df5106;\n",
       "            color:  #f1f1f1;\n",
       "        }    #T_1b6ed5fc_9e82_11ea_938b_000d3a8f5d7crow17_col4 {\n",
       "            background-color:  #feebd7;\n",
       "            color:  #000000;\n",
       "        }    #T_1b6ed5fc_9e82_11ea_938b_000d3a8f5d7crow17_col5 {\n",
       "            background-color:  #feead5;\n",
       "            color:  #000000;\n",
       "        }    #T_1b6ed5fc_9e82_11ea_938b_000d3a8f5d7crow17_col6 {\n",
       "            background-color:  #fdd1a4;\n",
       "            color:  #000000;\n",
       "        }    #T_1b6ed5fc_9e82_11ea_938b_000d3a8f5d7crow18_col0 {\n",
       "            background-color:  #ffeede;\n",
       "            color:  #000000;\n",
       "        }    #T_1b6ed5fc_9e82_11ea_938b_000d3a8f5d7crow18_col1 {\n",
       "            background-color:  #ffeedd;\n",
       "            color:  #000000;\n",
       "        }    #T_1b6ed5fc_9e82_11ea_938b_000d3a8f5d7crow18_col3 {\n",
       "            background-color:  #da4902;\n",
       "            color:  #f1f1f1;\n",
       "        }    #T_1b6ed5fc_9e82_11ea_938b_000d3a8f5d7crow18_col4 {\n",
       "            background-color:  #fee7d1;\n",
       "            color:  #000000;\n",
       "        }    #T_1b6ed5fc_9e82_11ea_938b_000d3a8f5d7crow18_col5 {\n",
       "            background-color:  #feddbc;\n",
       "            color:  #000000;\n",
       "        }    #T_1b6ed5fc_9e82_11ea_938b_000d3a8f5d7crow18_col6 {\n",
       "            background-color:  #fdac67;\n",
       "            color:  #000000;\n",
       "        }    #T_1b6ed5fc_9e82_11ea_938b_000d3a8f5d7crow19_col0 {\n",
       "            background-color:  #ffefdf;\n",
       "            color:  #000000;\n",
       "        }    #T_1b6ed5fc_9e82_11ea_938b_000d3a8f5d7crow19_col1 {\n",
       "            background-color:  #ffeede;\n",
       "            color:  #000000;\n",
       "        }    #T_1b6ed5fc_9e82_11ea_938b_000d3a8f5d7crow19_col3 {\n",
       "            background-color:  #fdb271;\n",
       "            color:  #000000;\n",
       "        }    #T_1b6ed5fc_9e82_11ea_938b_000d3a8f5d7crow19_col4 {\n",
       "            background-color:  #fdbd83;\n",
       "            color:  #000000;\n",
       "        }    #T_1b6ed5fc_9e82_11ea_938b_000d3a8f5d7crow19_col5 {\n",
       "            background-color:  #fee4ca;\n",
       "            color:  #000000;\n",
       "        }    #T_1b6ed5fc_9e82_11ea_938b_000d3a8f5d7crow19_col6 {\n",
       "            background-color:  #fedebd;\n",
       "            color:  #000000;\n",
       "        }    #T_1b6ed5fc_9e82_11ea_938b_000d3a8f5d7crow20_col0 {\n",
       "            background-color:  #ffefdf;\n",
       "            color:  #000000;\n",
       "        }    #T_1b6ed5fc_9e82_11ea_938b_000d3a8f5d7crow20_col1 {\n",
       "            background-color:  #ffeede;\n",
       "            color:  #000000;\n",
       "        }    #T_1b6ed5fc_9e82_11ea_938b_000d3a8f5d7crow20_col3 {\n",
       "            background-color:  #f9812e;\n",
       "            color:  #000000;\n",
       "        }    #T_1b6ed5fc_9e82_11ea_938b_000d3a8f5d7crow20_col4 {\n",
       "            background-color:  #fedcbb;\n",
       "            color:  #000000;\n",
       "        }    #T_1b6ed5fc_9e82_11ea_938b_000d3a8f5d7crow20_col5 {\n",
       "            background-color:  #fee7d1;\n",
       "            color:  #000000;\n",
       "        }    #T_1b6ed5fc_9e82_11ea_938b_000d3a8f5d7crow20_col6 {\n",
       "            background-color:  #fdd7af;\n",
       "            color:  #000000;\n",
       "        }    #T_1b6ed5fc_9e82_11ea_938b_000d3a8f5d7crow21_col0 {\n",
       "            background-color:  #fff0e1;\n",
       "            color:  #000000;\n",
       "        }    #T_1b6ed5fc_9e82_11ea_938b_000d3a8f5d7crow21_col1 {\n",
       "            background-color:  #ffefe0;\n",
       "            color:  #000000;\n",
       "        }    #T_1b6ed5fc_9e82_11ea_938b_000d3a8f5d7crow21_col3 {\n",
       "            background-color:  #f67723;\n",
       "            color:  #000000;\n",
       "        }    #T_1b6ed5fc_9e82_11ea_938b_000d3a8f5d7crow21_col4 {\n",
       "            background-color:  #fedebf;\n",
       "            color:  #000000;\n",
       "        }    #T_1b6ed5fc_9e82_11ea_938b_000d3a8f5d7crow21_col5 {\n",
       "            background-color:  #fdc997;\n",
       "            color:  #000000;\n",
       "        }    #T_1b6ed5fc_9e82_11ea_938b_000d3a8f5d7crow21_col6 {\n",
       "            background-color:  #fc8a39;\n",
       "            color:  #000000;\n",
       "        }    #T_1b6ed5fc_9e82_11ea_938b_000d3a8f5d7crow22_col0 {\n",
       "            background-color:  #fff0e1;\n",
       "            color:  #000000;\n",
       "        }    #T_1b6ed5fc_9e82_11ea_938b_000d3a8f5d7crow22_col1 {\n",
       "            background-color:  #ffefe0;\n",
       "            color:  #000000;\n",
       "        }    #T_1b6ed5fc_9e82_11ea_938b_000d3a8f5d7crow22_col3 {\n",
       "            background-color:  #a83703;\n",
       "            color:  #f1f1f1;\n",
       "        }    #T_1b6ed5fc_9e82_11ea_938b_000d3a8f5d7crow22_col4 {\n",
       "            background-color:  #fff3e6;\n",
       "            color:  #000000;\n",
       "        }    #T_1b6ed5fc_9e82_11ea_938b_000d3a8f5d7crow22_col5 {\n",
       "            background-color:  #fee9d4;\n",
       "            color:  #000000;\n",
       "        }    #T_1b6ed5fc_9e82_11ea_938b_000d3a8f5d7crow22_col6 {\n",
       "            background-color:  #fdbd83;\n",
       "            color:  #000000;\n",
       "        }    #T_1b6ed5fc_9e82_11ea_938b_000d3a8f5d7crow23_col0 {\n",
       "            background-color:  #fff0e2;\n",
       "            color:  #000000;\n",
       "        }    #T_1b6ed5fc_9e82_11ea_938b_000d3a8f5d7crow23_col1 {\n",
       "            background-color:  #fff0e2;\n",
       "            color:  #000000;\n",
       "        }    #T_1b6ed5fc_9e82_11ea_938b_000d3a8f5d7crow23_col3 {\n",
       "            background-color:  #f67824;\n",
       "            color:  #000000;\n",
       "        }    #T_1b6ed5fc_9e82_11ea_938b_000d3a8f5d7crow23_col4 {\n",
       "            background-color:  #fee8d2;\n",
       "            color:  #000000;\n",
       "        }    #T_1b6ed5fc_9e82_11ea_938b_000d3a8f5d7crow23_col5 {\n",
       "            background-color:  #fee7d0;\n",
       "            color:  #000000;\n",
       "        }    #T_1b6ed5fc_9e82_11ea_938b_000d3a8f5d7crow23_col6 {\n",
       "            background-color:  #fdca99;\n",
       "            color:  #000000;\n",
       "        }    #T_1b6ed5fc_9e82_11ea_938b_000d3a8f5d7crow24_col0 {\n",
       "            background-color:  #fff1e3;\n",
       "            color:  #000000;\n",
       "        }    #T_1b6ed5fc_9e82_11ea_938b_000d3a8f5d7crow24_col1 {\n",
       "            background-color:  #fff0e2;\n",
       "            color:  #000000;\n",
       "        }    #T_1b6ed5fc_9e82_11ea_938b_000d3a8f5d7crow24_col3 {\n",
       "            background-color:  #f67723;\n",
       "            color:  #000000;\n",
       "        }    #T_1b6ed5fc_9e82_11ea_938b_000d3a8f5d7crow24_col4 {\n",
       "            background-color:  #fee3c8;\n",
       "            color:  #000000;\n",
       "        }    #T_1b6ed5fc_9e82_11ea_938b_000d3a8f5d7crow24_col5 {\n",
       "            background-color:  #fee5cb;\n",
       "            color:  #000000;\n",
       "        }    #T_1b6ed5fc_9e82_11ea_938b_000d3a8f5d7crow24_col6 {\n",
       "            background-color:  #fdc997;\n",
       "            color:  #000000;\n",
       "        }    #T_1b6ed5fc_9e82_11ea_938b_000d3a8f5d7crow25_col0 {\n",
       "            background-color:  #fff1e3;\n",
       "            color:  #000000;\n",
       "        }    #T_1b6ed5fc_9e82_11ea_938b_000d3a8f5d7crow25_col1 {\n",
       "            background-color:  #fff1e3;\n",
       "            color:  #000000;\n",
       "        }    #T_1b6ed5fc_9e82_11ea_938b_000d3a8f5d7crow25_col3 {\n",
       "            background-color:  #fff5eb;\n",
       "            color:  #000000;\n",
       "        }    #T_1b6ed5fc_9e82_11ea_938b_000d3a8f5d7crow25_col4 {\n",
       "            background-color:  #7f2704;\n",
       "            color:  #f1f1f1;\n",
       "        }    #T_1b6ed5fc_9e82_11ea_938b_000d3a8f5d7crow25_col5 {\n",
       "            background-color:  #e15307;\n",
       "            color:  #000000;\n",
       "        }    #T_1b6ed5fc_9e82_11ea_938b_000d3a8f5d7crow25_col6 {\n",
       "            background-color:  #fda965;\n",
       "            color:  #000000;\n",
       "        }    #T_1b6ed5fc_9e82_11ea_938b_000d3a8f5d7crow26_col0 {\n",
       "            background-color:  #fff1e3;\n",
       "            color:  #000000;\n",
       "        }    #T_1b6ed5fc_9e82_11ea_938b_000d3a8f5d7crow26_col1 {\n",
       "            background-color:  #fff1e3;\n",
       "            color:  #000000;\n",
       "        }    #T_1b6ed5fc_9e82_11ea_938b_000d3a8f5d7crow26_col3 {\n",
       "            background-color:  #fd9e54;\n",
       "            color:  #000000;\n",
       "        }    #T_1b6ed5fc_9e82_11ea_938b_000d3a8f5d7crow26_col4 {\n",
       "            background-color:  #fdd4aa;\n",
       "            color:  #000000;\n",
       "        }    #T_1b6ed5fc_9e82_11ea_938b_000d3a8f5d7crow26_col5 {\n",
       "            background-color:  #fdd5ad;\n",
       "            color:  #000000;\n",
       "        }    #T_1b6ed5fc_9e82_11ea_938b_000d3a8f5d7crow26_col6 {\n",
       "            background-color:  #fdb475;\n",
       "            color:  #000000;\n",
       "        }    #T_1b6ed5fc_9e82_11ea_938b_000d3a8f5d7crow27_col0 {\n",
       "            background-color:  #fff1e4;\n",
       "            color:  #000000;\n",
       "        }    #T_1b6ed5fc_9e82_11ea_938b_000d3a8f5d7crow27_col1 {\n",
       "            background-color:  #fff1e4;\n",
       "            color:  #000000;\n",
       "        }    #T_1b6ed5fc_9e82_11ea_938b_000d3a8f5d7crow27_col3 {\n",
       "            background-color:  #b63c02;\n",
       "            color:  #f1f1f1;\n",
       "        }    #T_1b6ed5fc_9e82_11ea_938b_000d3a8f5d7crow27_col4 {\n",
       "            background-color:  #fff4e8;\n",
       "            color:  #000000;\n",
       "        }    #T_1b6ed5fc_9e82_11ea_938b_000d3a8f5d7crow27_col5 {\n",
       "            background-color:  #feebd8;\n",
       "            color:  #000000;\n",
       "        }    #T_1b6ed5fc_9e82_11ea_938b_000d3a8f5d7crow27_col6 {\n",
       "            background-color:  #fdc794;\n",
       "            color:  #000000;\n",
       "        }    #T_1b6ed5fc_9e82_11ea_938b_000d3a8f5d7crow28_col0 {\n",
       "            background-color:  #fff1e4;\n",
       "            color:  #000000;\n",
       "        }    #T_1b6ed5fc_9e82_11ea_938b_000d3a8f5d7crow28_col1 {\n",
       "            background-color:  #fff1e4;\n",
       "            color:  #000000;\n",
       "        }    #T_1b6ed5fc_9e82_11ea_938b_000d3a8f5d7crow28_col3 {\n",
       "            background-color:  #fd9040;\n",
       "            color:  #000000;\n",
       "        }    #T_1b6ed5fc_9e82_11ea_938b_000d3a8f5d7crow28_col4 {\n",
       "            background-color:  #fddab6;\n",
       "            color:  #000000;\n",
       "        }    #T_1b6ed5fc_9e82_11ea_938b_000d3a8f5d7crow28_col5 {\n",
       "            background-color:  #fdbe84;\n",
       "            color:  #000000;\n",
       "        }    #T_1b6ed5fc_9e82_11ea_938b_000d3a8f5d7crow28_col6 {\n",
       "            background-color:  #f87f2c;\n",
       "            color:  #000000;\n",
       "        }    #T_1b6ed5fc_9e82_11ea_938b_000d3a8f5d7crow29_col0 {\n",
       "            background-color:  #fff2e6;\n",
       "            color:  #000000;\n",
       "        }    #T_1b6ed5fc_9e82_11ea_938b_000d3a8f5d7crow29_col1 {\n",
       "            background-color:  #fff2e5;\n",
       "            color:  #000000;\n",
       "        }    #T_1b6ed5fc_9e82_11ea_938b_000d3a8f5d7crow29_col3 {\n",
       "            background-color:  #dd4d04;\n",
       "            color:  #f1f1f1;\n",
       "        }    #T_1b6ed5fc_9e82_11ea_938b_000d3a8f5d7crow29_col4 {\n",
       "            background-color:  #feebd8;\n",
       "            color:  #000000;\n",
       "        }    #T_1b6ed5fc_9e82_11ea_938b_000d3a8f5d7crow29_col5 {\n",
       "            background-color:  #feebd8;\n",
       "            color:  #000000;\n",
       "        }    #T_1b6ed5fc_9e82_11ea_938b_000d3a8f5d7crow29_col6 {\n",
       "            background-color:  #fdd7af;\n",
       "            color:  #000000;\n",
       "        }    #T_1b6ed5fc_9e82_11ea_938b_000d3a8f5d7crow30_col0 {\n",
       "            background-color:  #fff2e6;\n",
       "            color:  #000000;\n",
       "        }    #T_1b6ed5fc_9e82_11ea_938b_000d3a8f5d7crow30_col1 {\n",
       "            background-color:  #fff2e6;\n",
       "            color:  #000000;\n",
       "        }    #T_1b6ed5fc_9e82_11ea_938b_000d3a8f5d7crow30_col3 {\n",
       "            background-color:  #b93d02;\n",
       "            color:  #f1f1f1;\n",
       "        }    #T_1b6ed5fc_9e82_11ea_938b_000d3a8f5d7crow30_col4 {\n",
       "            background-color:  #fff2e5;\n",
       "            color:  #000000;\n",
       "        }    #T_1b6ed5fc_9e82_11ea_938b_000d3a8f5d7crow30_col5 {\n",
       "            background-color:  #fee2c7;\n",
       "            color:  #000000;\n",
       "        }    #T_1b6ed5fc_9e82_11ea_938b_000d3a8f5d7crow30_col6 {\n",
       "            background-color:  #fd9d53;\n",
       "            color:  #000000;\n",
       "        }    #T_1b6ed5fc_9e82_11ea_938b_000d3a8f5d7crow31_col0 {\n",
       "            background-color:  #fff3e6;\n",
       "            color:  #000000;\n",
       "        }    #T_1b6ed5fc_9e82_11ea_938b_000d3a8f5d7crow31_col1 {\n",
       "            background-color:  #fff2e6;\n",
       "            color:  #000000;\n",
       "        }    #T_1b6ed5fc_9e82_11ea_938b_000d3a8f5d7crow31_col3 {\n",
       "            background-color:  #fd9e54;\n",
       "            color:  #000000;\n",
       "        }    #T_1b6ed5fc_9e82_11ea_938b_000d3a8f5d7crow31_col4 {\n",
       "            background-color:  #fdc48f;\n",
       "            color:  #000000;\n",
       "        }    #T_1b6ed5fc_9e82_11ea_938b_000d3a8f5d7crow31_col5 {\n",
       "            background-color:  #fd9446;\n",
       "            color:  #000000;\n",
       "        }    #T_1b6ed5fc_9e82_11ea_938b_000d3a8f5d7crow31_col6 {\n",
       "            background-color:  #eb610f;\n",
       "            color:  #000000;\n",
       "        }    #T_1b6ed5fc_9e82_11ea_938b_000d3a8f5d7crow32_col0 {\n",
       "            background-color:  #fff3e6;\n",
       "            color:  #000000;\n",
       "        }    #T_1b6ed5fc_9e82_11ea_938b_000d3a8f5d7crow32_col1 {\n",
       "            background-color:  #fff2e6;\n",
       "            color:  #000000;\n",
       "        }    #T_1b6ed5fc_9e82_11ea_938b_000d3a8f5d7crow32_col3 {\n",
       "            background-color:  #f26c16;\n",
       "            color:  #000000;\n",
       "        }    #T_1b6ed5fc_9e82_11ea_938b_000d3a8f5d7crow32_col4 {\n",
       "            background-color:  #fee2c7;\n",
       "            color:  #000000;\n",
       "        }    #T_1b6ed5fc_9e82_11ea_938b_000d3a8f5d7crow32_col5 {\n",
       "            background-color:  #feecd9;\n",
       "            color:  #000000;\n",
       "        }    #T_1b6ed5fc_9e82_11ea_938b_000d3a8f5d7crow32_col6 {\n",
       "            background-color:  #fedfc0;\n",
       "            color:  #000000;\n",
       "        }    #T_1b6ed5fc_9e82_11ea_938b_000d3a8f5d7crow33_col0 {\n",
       "            background-color:  #fff3e6;\n",
       "            color:  #000000;\n",
       "        }    #T_1b6ed5fc_9e82_11ea_938b_000d3a8f5d7crow33_col1 {\n",
       "            background-color:  #fff3e6;\n",
       "            color:  #000000;\n",
       "        }    #T_1b6ed5fc_9e82_11ea_938b_000d3a8f5d7crow33_col3 {\n",
       "            background-color:  #fdb678;\n",
       "            color:  #000000;\n",
       "        }    #T_1b6ed5fc_9e82_11ea_938b_000d3a8f5d7crow33_col4 {\n",
       "            background-color:  #fdb170;\n",
       "            color:  #000000;\n",
       "        }    #T_1b6ed5fc_9e82_11ea_938b_000d3a8f5d7crow33_col5 {\n",
       "            background-color:  #fee7d0;\n",
       "            color:  #000000;\n",
       "        }    #T_1b6ed5fc_9e82_11ea_938b_000d3a8f5d7crow33_col6 {\n",
       "            background-color:  #fee4ca;\n",
       "            color:  #000000;\n",
       "        }    #T_1b6ed5fc_9e82_11ea_938b_000d3a8f5d7crow34_col0 {\n",
       "            background-color:  #fff3e6;\n",
       "            color:  #000000;\n",
       "        }    #T_1b6ed5fc_9e82_11ea_938b_000d3a8f5d7crow34_col1 {\n",
       "            background-color:  #fff3e6;\n",
       "            color:  #000000;\n",
       "        }    #T_1b6ed5fc_9e82_11ea_938b_000d3a8f5d7crow34_col3 {\n",
       "            background-color:  #ee6511;\n",
       "            color:  #000000;\n",
       "        }    #T_1b6ed5fc_9e82_11ea_938b_000d3a8f5d7crow34_col4 {\n",
       "            background-color:  #fee6cf;\n",
       "            color:  #000000;\n",
       "        }    #T_1b6ed5fc_9e82_11ea_938b_000d3a8f5d7crow34_col5 {\n",
       "            background-color:  #fee7d1;\n",
       "            color:  #000000;\n",
       "        }    #T_1b6ed5fc_9e82_11ea_938b_000d3a8f5d7crow34_col6 {\n",
       "            background-color:  #fdd1a3;\n",
       "            color:  #000000;\n",
       "        }    #T_1b6ed5fc_9e82_11ea_938b_000d3a8f5d7crow35_col0 {\n",
       "            background-color:  #fff3e6;\n",
       "            color:  #000000;\n",
       "        }    #T_1b6ed5fc_9e82_11ea_938b_000d3a8f5d7crow35_col1 {\n",
       "            background-color:  #fff3e6;\n",
       "            color:  #000000;\n",
       "        }    #T_1b6ed5fc_9e82_11ea_938b_000d3a8f5d7crow35_col3 {\n",
       "            background-color:  #fedfc0;\n",
       "            color:  #000000;\n",
       "        }    #T_1b6ed5fc_9e82_11ea_938b_000d3a8f5d7crow35_col4 {\n",
       "            background-color:  #fd8f3e;\n",
       "            color:  #000000;\n",
       "        }    #T_1b6ed5fc_9e82_11ea_938b_000d3a8f5d7crow35_col5 {\n",
       "            background-color:  #f3701b;\n",
       "            color:  #000000;\n",
       "        }    #T_1b6ed5fc_9e82_11ea_938b_000d3a8f5d7crow35_col6 {\n",
       "            background-color:  #f57520;\n",
       "            color:  #000000;\n",
       "        }    #T_1b6ed5fc_9e82_11ea_938b_000d3a8f5d7crow36_col0 {\n",
       "            background-color:  #fff3e7;\n",
       "            color:  #000000;\n",
       "        }    #T_1b6ed5fc_9e82_11ea_938b_000d3a8f5d7crow36_col1 {\n",
       "            background-color:  #fff3e7;\n",
       "            color:  #000000;\n",
       "        }    #T_1b6ed5fc_9e82_11ea_938b_000d3a8f5d7crow36_col3 {\n",
       "            background-color:  #fedfc0;\n",
       "            color:  #000000;\n",
       "        }    #T_1b6ed5fc_9e82_11ea_938b_000d3a8f5d7crow36_col4 {\n",
       "            background-color:  #f77a27;\n",
       "            color:  #000000;\n",
       "        }    #T_1b6ed5fc_9e82_11ea_938b_000d3a8f5d7crow36_col5 {\n",
       "            background-color:  #fee1c4;\n",
       "            color:  #000000;\n",
       "        }    #T_1b6ed5fc_9e82_11ea_938b_000d3a8f5d7crow36_col6 {\n",
       "            background-color:  #fee6ce;\n",
       "            color:  #000000;\n",
       "        }    #T_1b6ed5fc_9e82_11ea_938b_000d3a8f5d7crow37_col0 {\n",
       "            background-color:  #fff4e8;\n",
       "            color:  #000000;\n",
       "        }    #T_1b6ed5fc_9e82_11ea_938b_000d3a8f5d7crow37_col1 {\n",
       "            background-color:  #fff3e7;\n",
       "            color:  #000000;\n",
       "        }    #T_1b6ed5fc_9e82_11ea_938b_000d3a8f5d7crow37_col3 {\n",
       "            background-color:  #fb8836;\n",
       "            color:  #000000;\n",
       "        }    #T_1b6ed5fc_9e82_11ea_938b_000d3a8f5d7crow37_col4 {\n",
       "            background-color:  #fedebf;\n",
       "            color:  #000000;\n",
       "        }    #T_1b6ed5fc_9e82_11ea_938b_000d3a8f5d7crow37_col5 {\n",
       "            background-color:  #ffeedd;\n",
       "            color:  #000000;\n",
       "        }    #T_1b6ed5fc_9e82_11ea_938b_000d3a8f5d7crow37_col6 {\n",
       "            background-color:  #fee7d1;\n",
       "            color:  #000000;\n",
       "        }    #T_1b6ed5fc_9e82_11ea_938b_000d3a8f5d7crow38_col0 {\n",
       "            background-color:  #fff4e8;\n",
       "            color:  #000000;\n",
       "        }    #T_1b6ed5fc_9e82_11ea_938b_000d3a8f5d7crow38_col1 {\n",
       "            background-color:  #fff3e7;\n",
       "            color:  #000000;\n",
       "        }    #T_1b6ed5fc_9e82_11ea_938b_000d3a8f5d7crow38_col3 {\n",
       "            background-color:  #eb600e;\n",
       "            color:  #000000;\n",
       "        }    #T_1b6ed5fc_9e82_11ea_938b_000d3a8f5d7crow38_col4 {\n",
       "            background-color:  #fee6ce;\n",
       "            color:  #000000;\n",
       "        }    #T_1b6ed5fc_9e82_11ea_938b_000d3a8f5d7crow38_col5 {\n",
       "            background-color:  #feebd8;\n",
       "            color:  #000000;\n",
       "        }    #T_1b6ed5fc_9e82_11ea_938b_000d3a8f5d7crow38_col6 {\n",
       "            background-color:  #fedcb9;\n",
       "            color:  #000000;\n",
       "        }    #T_1b6ed5fc_9e82_11ea_938b_000d3a8f5d7crow39_col0 {\n",
       "            background-color:  #fff4e9;\n",
       "            color:  #000000;\n",
       "        }    #T_1b6ed5fc_9e82_11ea_938b_000d3a8f5d7crow39_col1 {\n",
       "            background-color:  #fff4e8;\n",
       "            color:  #000000;\n",
       "        }    #T_1b6ed5fc_9e82_11ea_938b_000d3a8f5d7crow39_col3 {\n",
       "            background-color:  #f98230;\n",
       "            color:  #000000;\n",
       "        }    #T_1b6ed5fc_9e82_11ea_938b_000d3a8f5d7crow39_col4 {\n",
       "            background-color:  #fee0c3;\n",
       "            color:  #000000;\n",
       "        }    #T_1b6ed5fc_9e82_11ea_938b_000d3a8f5d7crow39_col5 {\n",
       "            background-color:  #fdce9e;\n",
       "            color:  #000000;\n",
       "        }    #T_1b6ed5fc_9e82_11ea_938b_000d3a8f5d7crow39_col6 {\n",
       "            background-color:  #fd8f3e;\n",
       "            color:  #000000;\n",
       "        }    #T_1b6ed5fc_9e82_11ea_938b_000d3a8f5d7crow40_col0 {\n",
       "            background-color:  #fff4e9;\n",
       "            color:  #000000;\n",
       "        }    #T_1b6ed5fc_9e82_11ea_938b_000d3a8f5d7crow40_col1 {\n",
       "            background-color:  #fff4e9;\n",
       "            color:  #000000;\n",
       "        }    #T_1b6ed5fc_9e82_11ea_938b_000d3a8f5d7crow40_col3 {\n",
       "            background-color:  #fd974a;\n",
       "            color:  #000000;\n",
       "        }    #T_1b6ed5fc_9e82_11ea_938b_000d3a8f5d7crow40_col4 {\n",
       "            background-color:  #fdd9b4;\n",
       "            color:  #000000;\n",
       "        }    #T_1b6ed5fc_9e82_11ea_938b_000d3a8f5d7crow40_col5 {\n",
       "            background-color:  #fee3c8;\n",
       "            color:  #000000;\n",
       "        }    #T_1b6ed5fc_9e82_11ea_938b_000d3a8f5d7crow40_col6 {\n",
       "            background-color:  #fdd2a6;\n",
       "            color:  #000000;\n",
       "        }    #T_1b6ed5fc_9e82_11ea_938b_000d3a8f5d7crow41_col0 {\n",
       "            background-color:  #fff4e9;\n",
       "            color:  #000000;\n",
       "        }    #T_1b6ed5fc_9e82_11ea_938b_000d3a8f5d7crow41_col1 {\n",
       "            background-color:  #fff4e9;\n",
       "            color:  #000000;\n",
       "        }    #T_1b6ed5fc_9e82_11ea_938b_000d3a8f5d7crow41_col3 {\n",
       "            background-color:  #ad3803;\n",
       "            color:  #f1f1f1;\n",
       "        }    #T_1b6ed5fc_9e82_11ea_938b_000d3a8f5d7crow41_col4 {\n",
       "            background-color:  #fff1e4;\n",
       "            color:  #000000;\n",
       "        }    #T_1b6ed5fc_9e82_11ea_938b_000d3a8f5d7crow41_col5 {\n",
       "            background-color:  #fff2e6;\n",
       "            color:  #000000;\n",
       "        }    #T_1b6ed5fc_9e82_11ea_938b_000d3a8f5d7crow41_col6 {\n",
       "            background-color:  #fee9d3;\n",
       "            color:  #000000;\n",
       "        }    #T_1b6ed5fc_9e82_11ea_938b_000d3a8f5d7crow42_col0 {\n",
       "            background-color:  #fff5ea;\n",
       "            color:  #000000;\n",
       "        }    #T_1b6ed5fc_9e82_11ea_938b_000d3a8f5d7crow42_col1 {\n",
       "            background-color:  #fff5ea;\n",
       "            color:  #000000;\n",
       "        }    #T_1b6ed5fc_9e82_11ea_938b_000d3a8f5d7crow42_col3 {\n",
       "            background-color:  #7f2704;\n",
       "            color:  #f1f1f1;\n",
       "        }    #T_1b6ed5fc_9e82_11ea_938b_000d3a8f5d7crow42_col4 {\n",
       "            background-color:  #fff5eb;\n",
       "            color:  #000000;\n",
       "        }    #T_1b6ed5fc_9e82_11ea_938b_000d3a8f5d7crow42_col5 {\n",
       "            background-color:  #ffeede;\n",
       "            color:  #000000;\n",
       "        }    #T_1b6ed5fc_9e82_11ea_938b_000d3a8f5d7crow42_col6 {\n",
       "            background-color:  #fdd5ad;\n",
       "            color:  #000000;\n",
       "        }    #T_1b6ed5fc_9e82_11ea_938b_000d3a8f5d7crow43_col0 {\n",
       "            background-color:  #fff5ea;\n",
       "            color:  #000000;\n",
       "        }    #T_1b6ed5fc_9e82_11ea_938b_000d3a8f5d7crow43_col1 {\n",
       "            background-color:  #fff5ea;\n",
       "            color:  #000000;\n",
       "        }    #T_1b6ed5fc_9e82_11ea_938b_000d3a8f5d7crow43_col3 {\n",
       "            background-color:  #fee7d1;\n",
       "            color:  #000000;\n",
       "        }    #T_1b6ed5fc_9e82_11ea_938b_000d3a8f5d7crow43_col4 {\n",
       "            background-color:  #f26c16;\n",
       "            color:  #000000;\n",
       "        }    #T_1b6ed5fc_9e82_11ea_938b_000d3a8f5d7crow43_col5 {\n",
       "            background-color:  #fee2c6;\n",
       "            color:  #000000;\n",
       "        }    #T_1b6ed5fc_9e82_11ea_938b_000d3a8f5d7crow43_col6 {\n",
       "            background-color:  #fee8d2;\n",
       "            color:  #000000;\n",
       "        }    #T_1b6ed5fc_9e82_11ea_938b_000d3a8f5d7crow44_col0 {\n",
       "            background-color:  #fff5ea;\n",
       "            color:  #000000;\n",
       "        }    #T_1b6ed5fc_9e82_11ea_938b_000d3a8f5d7crow44_col1 {\n",
       "            background-color:  #fff5ea;\n",
       "            color:  #000000;\n",
       "        }    #T_1b6ed5fc_9e82_11ea_938b_000d3a8f5d7crow44_col3 {\n",
       "            background-color:  #c54102;\n",
       "            color:  #f1f1f1;\n",
       "        }    #T_1b6ed5fc_9e82_11ea_938b_000d3a8f5d7crow44_col4 {\n",
       "            background-color:  #fff0e1;\n",
       "            color:  #000000;\n",
       "        }    #T_1b6ed5fc_9e82_11ea_938b_000d3a8f5d7crow44_col5 {\n",
       "            background-color:  #ffeedd;\n",
       "            color:  #000000;\n",
       "        }    #T_1b6ed5fc_9e82_11ea_938b_000d3a8f5d7crow44_col6 {\n",
       "            background-color:  #fedcb9;\n",
       "            color:  #000000;\n",
       "        }    #T_1b6ed5fc_9e82_11ea_938b_000d3a8f5d7crow45_col0 {\n",
       "            background-color:  #fff5eb;\n",
       "            color:  #000000;\n",
       "        }    #T_1b6ed5fc_9e82_11ea_938b_000d3a8f5d7crow45_col1 {\n",
       "            background-color:  #fff5eb;\n",
       "            color:  #000000;\n",
       "        }    #T_1b6ed5fc_9e82_11ea_938b_000d3a8f5d7crow45_col3 {\n",
       "            background-color:  #fd994d;\n",
       "            color:  #000000;\n",
       "        }    #T_1b6ed5fc_9e82_11ea_938b_000d3a8f5d7crow45_col4 {\n",
       "            background-color:  #fdd2a6;\n",
       "            color:  #000000;\n",
       "        }    #T_1b6ed5fc_9e82_11ea_938b_000d3a8f5d7crow45_col5 {\n",
       "            background-color:  #fff2e5;\n",
       "            color:  #000000;\n",
       "        }    #T_1b6ed5fc_9e82_11ea_938b_000d3a8f5d7crow45_col6 {\n",
       "            background-color:  #fff0e1;\n",
       "            color:  #000000;\n",
       "        }    #T_1b6ed5fc_9e82_11ea_938b_000d3a8f5d7crow46_col0 {\n",
       "            background-color:  #fff5eb;\n",
       "            color:  #000000;\n",
       "        }    #T_1b6ed5fc_9e82_11ea_938b_000d3a8f5d7crow46_col1 {\n",
       "            background-color:  #fff5eb;\n",
       "            color:  #000000;\n",
       "        }    #T_1b6ed5fc_9e82_11ea_938b_000d3a8f5d7crow46_col3 {\n",
       "            background-color:  #fc8937;\n",
       "            color:  #000000;\n",
       "        }    #T_1b6ed5fc_9e82_11ea_938b_000d3a8f5d7crow46_col4 {\n",
       "            background-color:  #fdd5ad;\n",
       "            color:  #000000;\n",
       "        }    #T_1b6ed5fc_9e82_11ea_938b_000d3a8f5d7crow46_col5 {\n",
       "            background-color:  #ffeedd;\n",
       "            color:  #000000;\n",
       "        }    #T_1b6ed5fc_9e82_11ea_938b_000d3a8f5d7crow46_col6 {\n",
       "            background-color:  #fee9d4;\n",
       "            color:  #000000;\n",
       "        }    #T_1b6ed5fc_9e82_11ea_938b_000d3a8f5d7crow47_col0 {\n",
       "            background-color:  #fff5eb;\n",
       "            color:  #000000;\n",
       "        }    #T_1b6ed5fc_9e82_11ea_938b_000d3a8f5d7crow47_col1 {\n",
       "            background-color:  #fff5eb;\n",
       "            color:  #000000;\n",
       "        }    #T_1b6ed5fc_9e82_11ea_938b_000d3a8f5d7crow47_col3 {\n",
       "            background-color:  #f26d17;\n",
       "            color:  #000000;\n",
       "        }    #T_1b6ed5fc_9e82_11ea_938b_000d3a8f5d7crow47_col4 {\n",
       "            background-color:  #fee8d2;\n",
       "            color:  #000000;\n",
       "        }    #T_1b6ed5fc_9e82_11ea_938b_000d3a8f5d7crow47_col5 {\n",
       "            background-color:  #ffefdf;\n",
       "            color:  #000000;\n",
       "        }    #T_1b6ed5fc_9e82_11ea_938b_000d3a8f5d7crow47_col6 {\n",
       "            background-color:  #fee6ce;\n",
       "            color:  #000000;\n",
       "        }    #T_1b6ed5fc_9e82_11ea_938b_000d3a8f5d7crow48_col0 {\n",
       "            background-color:  #fff5eb;\n",
       "            color:  #000000;\n",
       "        }    #T_1b6ed5fc_9e82_11ea_938b_000d3a8f5d7crow48_col1 {\n",
       "            background-color:  #fff5eb;\n",
       "            color:  #000000;\n",
       "        }    #T_1b6ed5fc_9e82_11ea_938b_000d3a8f5d7crow48_col3 {\n",
       "            background-color:  #e75c0c;\n",
       "            color:  #000000;\n",
       "        }    #T_1b6ed5fc_9e82_11ea_938b_000d3a8f5d7crow48_col4 {\n",
       "            background-color:  #fee7d1;\n",
       "            color:  #000000;\n",
       "        }    #T_1b6ed5fc_9e82_11ea_938b_000d3a8f5d7crow48_col5 {\n",
       "            background-color:  #fff5eb;\n",
       "            color:  #000000;\n",
       "        }    #T_1b6ed5fc_9e82_11ea_938b_000d3a8f5d7crow48_col6 {\n",
       "            background-color:  #fff4e8;\n",
       "            color:  #000000;\n",
       "        }    #T_1b6ed5fc_9e82_11ea_938b_000d3a8f5d7crow49_col0 {\n",
       "            background-color:  #fff5eb;\n",
       "            color:  #000000;\n",
       "        }    #T_1b6ed5fc_9e82_11ea_938b_000d3a8f5d7crow49_col1 {\n",
       "            background-color:  #fff5eb;\n",
       "            color:  #000000;\n",
       "        }    #T_1b6ed5fc_9e82_11ea_938b_000d3a8f5d7crow49_col3 {\n",
       "            background-color:  #e45709;\n",
       "            color:  #000000;\n",
       "        }    #T_1b6ed5fc_9e82_11ea_938b_000d3a8f5d7crow49_col4 {\n",
       "            background-color:  #feecd9;\n",
       "            color:  #000000;\n",
       "        }    #T_1b6ed5fc_9e82_11ea_938b_000d3a8f5d7crow49_col5 {\n",
       "            background-color:  #fff5eb;\n",
       "            color:  #000000;\n",
       "        }    #T_1b6ed5fc_9e82_11ea_938b_000d3a8f5d7crow49_col6 {\n",
       "            background-color:  #fff3e6;\n",
       "            color:  #000000;\n",
       "        }    #T_1b6ed5fc_9e82_11ea_938b_000d3a8f5d7crow50_col0 {\n",
       "            background-color:  #fff5eb;\n",
       "            color:  #000000;\n",
       "        }    #T_1b6ed5fc_9e82_11ea_938b_000d3a8f5d7crow50_col1 {\n",
       "            background-color:  #fff5eb;\n",
       "            color:  #000000;\n",
       "        }    #T_1b6ed5fc_9e82_11ea_938b_000d3a8f5d7crow50_col3 {\n",
       "            background-color:  #fdbd83;\n",
       "            color:  #000000;\n",
       "        }    #T_1b6ed5fc_9e82_11ea_938b_000d3a8f5d7crow50_col4 {\n",
       "            background-color:  #fdb373;\n",
       "            color:  #000000;\n",
       "        }    #T_1b6ed5fc_9e82_11ea_938b_000d3a8f5d7crow50_col5 {\n",
       "            background-color:  #fff5ea;\n",
       "            color:  #000000;\n",
       "        }    #T_1b6ed5fc_9e82_11ea_938b_000d3a8f5d7crow50_col6 {\n",
       "            background-color:  #fff5eb;\n",
       "            color:  #000000;\n",
       "        }</style><table id=\"T_1b6ed5fc_9e82_11ea_938b_000d3a8f5d7c\" ><thead>    <tr>        <th class=\"blank level0\" ></th>        <th class=\"col_heading level0 col0\" >Reported Cases</th>        <th class=\"col_heading level0 col1\" >Est Cases</th>        <th class=\"col_heading level0 col2\" >Est Range</th>        <th class=\"col_heading level0 col3\" >Ratio</th>        <th class=\"col_heading level0 col4\" >Tests per Million</th>        <th class=\"col_heading level0 col5\" >Cases per Million</th>        <th class=\"col_heading level0 col6\" >Positive Test Rate</th>    </tr>    <tr>        <th class=\"index_name level0\" >state</th>        <th class=\"blank\" ></th>        <th class=\"blank\" ></th>        <th class=\"blank\" ></th>        <th class=\"blank\" ></th>        <th class=\"blank\" ></th>        <th class=\"blank\" ></th>        <th class=\"blank\" ></th>    </tr></thead><tbody>\n",
       "                <tr>\n",
       "                        <th id=\"T_1b6ed5fc_9e82_11ea_938b_000d3a8f5d7clevel0_row0\" class=\"row_heading level0 row0\" >NY</th>\n",
       "                        <td id=\"T_1b6ed5fc_9e82_11ea_938b_000d3a8f5d7crow0_col0\" class=\"data row0 col0\" >361515</td>\n",
       "                        <td id=\"T_1b6ed5fc_9e82_11ea_938b_000d3a8f5d7crow0_col1\" class=\"data row0 col1\" >398722</td>\n",
       "                        <td id=\"T_1b6ed5fc_9e82_11ea_938b_000d3a8f5d7crow0_col2\" class=\"data row0 col2\" >(374689, 442951)</td>\n",
       "                        <td id=\"T_1b6ed5fc_9e82_11ea_938b_000d3a8f5d7crow0_col3\" class=\"data row0 col3\" >1.1</td>\n",
       "                        <td id=\"T_1b6ed5fc_9e82_11ea_938b_000d3a8f5d7crow0_col4\" class=\"data row0 col4\" >87378.7</td>\n",
       "                        <td id=\"T_1b6ed5fc_9e82_11ea_938b_000d3a8f5d7crow0_col5\" class=\"data row0 col5\" >18583.5</td>\n",
       "                        <td id=\"T_1b6ed5fc_9e82_11ea_938b_000d3a8f5d7crow0_col6\" class=\"data row0 col6\" >21%</td>\n",
       "            </tr>\n",
       "            <tr>\n",
       "                        <th id=\"T_1b6ed5fc_9e82_11ea_938b_000d3a8f5d7clevel0_row1\" class=\"row_heading level0 row1\" >NJ</th>\n",
       "                        <td id=\"T_1b6ed5fc_9e82_11ea_938b_000d3a8f5d7crow1_col0\" class=\"data row1 col0\" >154154</td>\n",
       "                        <td id=\"T_1b6ed5fc_9e82_11ea_938b_000d3a8f5d7crow1_col1\" class=\"data row1 col1\" >172767</td>\n",
       "                        <td id=\"T_1b6ed5fc_9e82_11ea_938b_000d3a8f5d7crow1_col2\" class=\"data row1 col2\" >(161093, 201013)</td>\n",
       "                        <td id=\"T_1b6ed5fc_9e82_11ea_938b_000d3a8f5d7crow1_col3\" class=\"data row1 col3\" >1.1</td>\n",
       "                        <td id=\"T_1b6ed5fc_9e82_11ea_938b_000d3a8f5d7crow1_col4\" class=\"data row1 col4\" >67979.5</td>\n",
       "                        <td id=\"T_1b6ed5fc_9e82_11ea_938b_000d3a8f5d7crow1_col5\" class=\"data row1 col5\" >17355.4</td>\n",
       "                        <td id=\"T_1b6ed5fc_9e82_11ea_938b_000d3a8f5d7crow1_col6\" class=\"data row1 col6\" >26%</td>\n",
       "            </tr>\n",
       "            <tr>\n",
       "                        <th id=\"T_1b6ed5fc_9e82_11ea_938b_000d3a8f5d7clevel0_row2\" class=\"row_heading level0 row2\" >IL</th>\n",
       "                        <td id=\"T_1b6ed5fc_9e82_11ea_938b_000d3a8f5d7crow2_col0\" class=\"data row2 col0\" >110304</td>\n",
       "                        <td id=\"T_1b6ed5fc_9e82_11ea_938b_000d3a8f5d7crow2_col1\" class=\"data row2 col1\" >124348</td>\n",
       "                        <td id=\"T_1b6ed5fc_9e82_11ea_938b_000d3a8f5d7crow2_col2\" class=\"data row2 col2\" >(115707, 142022)</td>\n",
       "                        <td id=\"T_1b6ed5fc_9e82_11ea_938b_000d3a8f5d7crow2_col3\" class=\"data row2 col3\" >1.1</td>\n",
       "                        <td id=\"T_1b6ed5fc_9e82_11ea_938b_000d3a8f5d7crow2_col4\" class=\"data row2 col4\" >59022.4</td>\n",
       "                        <td id=\"T_1b6ed5fc_9e82_11ea_938b_000d3a8f5d7crow2_col5\" class=\"data row2 col5\" >8704.7</td>\n",
       "                        <td id=\"T_1b6ed5fc_9e82_11ea_938b_000d3a8f5d7crow2_col6\" class=\"data row2 col6\" >15%</td>\n",
       "            </tr>\n",
       "            <tr>\n",
       "                        <th id=\"T_1b6ed5fc_9e82_11ea_938b_000d3a8f5d7clevel0_row3\" class=\"row_heading level0 row3\" >CA</th>\n",
       "                        <td id=\"T_1b6ed5fc_9e82_11ea_938b_000d3a8f5d7crow3_col0\" class=\"data row3 col0\" >92710</td>\n",
       "                        <td id=\"T_1b6ed5fc_9e82_11ea_938b_000d3a8f5d7crow3_col1\" class=\"data row3 col1\" >106360</td>\n",
       "                        <td id=\"T_1b6ed5fc_9e82_11ea_938b_000d3a8f5d7crow3_col2\" class=\"data row3 col2\" >(97777, 123652)</td>\n",
       "                        <td id=\"T_1b6ed5fc_9e82_11ea_938b_000d3a8f5d7crow3_col3\" class=\"data row3 col3\" >1.1</td>\n",
       "                        <td id=\"T_1b6ed5fc_9e82_11ea_938b_000d3a8f5d7crow3_col4\" class=\"data row3 col4\" >40057.1</td>\n",
       "                        <td id=\"T_1b6ed5fc_9e82_11ea_938b_000d3a8f5d7crow3_col5\" class=\"data row3 col5\" >2346.4</td>\n",
       "                        <td id=\"T_1b6ed5fc_9e82_11ea_938b_000d3a8f5d7crow3_col6\" class=\"data row3 col6\" >6%</td>\n",
       "            </tr>\n",
       "            <tr>\n",
       "                        <th id=\"T_1b6ed5fc_9e82_11ea_938b_000d3a8f5d7clevel0_row4\" class=\"row_heading level0 row4\" >MA</th>\n",
       "                        <td id=\"T_1b6ed5fc_9e82_11ea_938b_000d3a8f5d7crow4_col0\" class=\"data row4 col0\" >92675</td>\n",
       "                        <td id=\"T_1b6ed5fc_9e82_11ea_938b_000d3a8f5d7crow4_col1\" class=\"data row4 col1\" >103473</td>\n",
       "                        <td id=\"T_1b6ed5fc_9e82_11ea_938b_000d3a8f5d7crow4_col2\" class=\"data row4 col2\" >(96613, 116336)</td>\n",
       "                        <td id=\"T_1b6ed5fc_9e82_11ea_938b_000d3a8f5d7crow4_col3\" class=\"data row4 col3\" >1.1</td>\n",
       "                        <td id=\"T_1b6ed5fc_9e82_11ea_938b_000d3a8f5d7crow4_col4\" class=\"data row4 col4\" >77239.4</td>\n",
       "                        <td id=\"T_1b6ed5fc_9e82_11ea_938b_000d3a8f5d7crow4_col5\" class=\"data row4 col5\" >13445.8</td>\n",
       "                        <td id=\"T_1b6ed5fc_9e82_11ea_938b_000d3a8f5d7crow4_col6\" class=\"data row4 col6\" >17%</td>\n",
       "            </tr>\n",
       "            <tr>\n",
       "                        <th id=\"T_1b6ed5fc_9e82_11ea_938b_000d3a8f5d7clevel0_row5\" class=\"row_heading level0 row5\" >PA</th>\n",
       "                        <td id=\"T_1b6ed5fc_9e82_11ea_938b_000d3a8f5d7crow5_col0\" class=\"data row5 col0\" >67713</td>\n",
       "                        <td id=\"T_1b6ed5fc_9e82_11ea_938b_000d3a8f5d7crow5_col1\" class=\"data row5 col1\" >78970</td>\n",
       "                        <td id=\"T_1b6ed5fc_9e82_11ea_938b_000d3a8f5d7crow5_col2\" class=\"data row5 col2\" >(71710, 94550)</td>\n",
       "                        <td id=\"T_1b6ed5fc_9e82_11ea_938b_000d3a8f5d7crow5_col3\" class=\"data row5 col3\" >1.2</td>\n",
       "                        <td id=\"T_1b6ed5fc_9e82_11ea_938b_000d3a8f5d7crow5_col4\" class=\"data row5 col4\" >30940.1</td>\n",
       "                        <td id=\"T_1b6ed5fc_9e82_11ea_938b_000d3a8f5d7crow5_col5\" class=\"data row5 col5\" >5289.3</td>\n",
       "                        <td id=\"T_1b6ed5fc_9e82_11ea_938b_000d3a8f5d7crow5_col6\" class=\"data row5 col6\" >17%</td>\n",
       "            </tr>\n",
       "            <tr>\n",
       "                        <th id=\"T_1b6ed5fc_9e82_11ea_938b_000d3a8f5d7clevel0_row6\" class=\"row_heading level0 row6\" >TX</th>\n",
       "                        <td id=\"T_1b6ed5fc_9e82_11ea_938b_000d3a8f5d7crow6_col0\" class=\"data row6 col0\" >54509</td>\n",
       "                        <td id=\"T_1b6ed5fc_9e82_11ea_938b_000d3a8f5d7crow6_col1\" class=\"data row6 col1\" >63859</td>\n",
       "                        <td id=\"T_1b6ed5fc_9e82_11ea_938b_000d3a8f5d7crow6_col2\" class=\"data row6 col2\" >(57756, 75711)</td>\n",
       "                        <td id=\"T_1b6ed5fc_9e82_11ea_938b_000d3a8f5d7crow6_col3\" class=\"data row6 col3\" >1.2</td>\n",
       "                        <td id=\"T_1b6ed5fc_9e82_11ea_938b_000d3a8f5d7crow6_col4\" class=\"data row6 col4\" >26340.5</td>\n",
       "                        <td id=\"T_1b6ed5fc_9e82_11ea_938b_000d3a8f5d7crow6_col5\" class=\"data row6 col5\" >1879.9</td>\n",
       "                        <td id=\"T_1b6ed5fc_9e82_11ea_938b_000d3a8f5d7crow6_col6\" class=\"data row6 col6\" >7%</td>\n",
       "            </tr>\n",
       "            <tr>\n",
       "                        <th id=\"T_1b6ed5fc_9e82_11ea_938b_000d3a8f5d7clevel0_row7\" class=\"row_heading level0 row7\" >MI</th>\n",
       "                        <td id=\"T_1b6ed5fc_9e82_11ea_938b_000d3a8f5d7crow7_col0\" class=\"data row7 col0\" >54679</td>\n",
       "                        <td id=\"T_1b6ed5fc_9e82_11ea_938b_000d3a8f5d7crow7_col1\" class=\"data row7 col1\" >62147</td>\n",
       "                        <td id=\"T_1b6ed5fc_9e82_11ea_938b_000d3a8f5d7crow7_col2\" class=\"data row7 col2\" >(57298, 71661)</td>\n",
       "                        <td id=\"T_1b6ed5fc_9e82_11ea_938b_000d3a8f5d7crow7_col3\" class=\"data row7 col3\" >1.1</td>\n",
       "                        <td id=\"T_1b6ed5fc_9e82_11ea_938b_000d3a8f5d7crow7_col4\" class=\"data row7 col4\" >45182.6</td>\n",
       "                        <td id=\"T_1b6ed5fc_9e82_11ea_938b_000d3a8f5d7crow7_col5\" class=\"data row7 col5\" >5475.1</td>\n",
       "                        <td id=\"T_1b6ed5fc_9e82_11ea_938b_000d3a8f5d7crow7_col6\" class=\"data row7 col6\" >12%</td>\n",
       "            </tr>\n",
       "            <tr>\n",
       "                        <th id=\"T_1b6ed5fc_9e82_11ea_938b_000d3a8f5d7clevel0_row8\" class=\"row_heading level0 row8\" >FL</th>\n",
       "                        <td id=\"T_1b6ed5fc_9e82_11ea_938b_000d3a8f5d7crow8_col0\" class=\"data row8 col0\" >50867</td>\n",
       "                        <td id=\"T_1b6ed5fc_9e82_11ea_938b_000d3a8f5d7crow8_col1\" class=\"data row8 col1\" >58375</td>\n",
       "                        <td id=\"T_1b6ed5fc_9e82_11ea_938b_000d3a8f5d7crow8_col2\" class=\"data row8 col2\" >(53823, 68879)</td>\n",
       "                        <td id=\"T_1b6ed5fc_9e82_11ea_938b_000d3a8f5d7crow8_col3\" class=\"data row8 col3\" >1.1</td>\n",
       "                        <td id=\"T_1b6ed5fc_9e82_11ea_938b_000d3a8f5d7crow8_col4\" class=\"data row8 col4\" >40564.6</td>\n",
       "                        <td id=\"T_1b6ed5fc_9e82_11ea_938b_000d3a8f5d7crow8_col5\" class=\"data row8 col5\" >2368.4</td>\n",
       "                        <td id=\"T_1b6ed5fc_9e82_11ea_938b_000d3a8f5d7crow8_col6\" class=\"data row8 col6\" >6%</td>\n",
       "            </tr>\n",
       "            <tr>\n",
       "                        <th id=\"T_1b6ed5fc_9e82_11ea_938b_000d3a8f5d7clevel0_row9\" class=\"row_heading level0 row9\" >MD</th>\n",
       "                        <td id=\"T_1b6ed5fc_9e82_11ea_938b_000d3a8f5d7crow9_col0\" class=\"data row9 col0\" >46313</td>\n",
       "                        <td id=\"T_1b6ed5fc_9e82_11ea_938b_000d3a8f5d7crow9_col1\" class=\"data row9 col1\" >53122</td>\n",
       "                        <td id=\"T_1b6ed5fc_9e82_11ea_938b_000d3a8f5d7crow9_col2\" class=\"data row9 col2\" >(48890, 61303)</td>\n",
       "                        <td id=\"T_1b6ed5fc_9e82_11ea_938b_000d3a8f5d7crow9_col3\" class=\"data row9 col3\" >1.1</td>\n",
       "                        <td id=\"T_1b6ed5fc_9e82_11ea_938b_000d3a8f5d7crow9_col4\" class=\"data row9 col4\" >39757.6</td>\n",
       "                        <td id=\"T_1b6ed5fc_9e82_11ea_938b_000d3a8f5d7crow9_col5\" class=\"data row9 col5\" >7660.5</td>\n",
       "                        <td id=\"T_1b6ed5fc_9e82_11ea_938b_000d3a8f5d7crow9_col6\" class=\"data row9 col6\" >19%</td>\n",
       "            </tr>\n",
       "            <tr>\n",
       "                        <th id=\"T_1b6ed5fc_9e82_11ea_938b_000d3a8f5d7clevel0_row10\" class=\"row_heading level0 row10\" >GA</th>\n",
       "                        <td id=\"T_1b6ed5fc_9e82_11ea_938b_000d3a8f5d7crow10_col0\" class=\"data row10 col0\" >42838</td>\n",
       "                        <td id=\"T_1b6ed5fc_9e82_11ea_938b_000d3a8f5d7crow10_col1\" class=\"data row10 col1\" >48892</td>\n",
       "                        <td id=\"T_1b6ed5fc_9e82_11ea_938b_000d3a8f5d7crow10_col2\" class=\"data row10 col2\" >(45235, 56783)</td>\n",
       "                        <td id=\"T_1b6ed5fc_9e82_11ea_938b_000d3a8f5d7crow10_col3\" class=\"data row10 col3\" >1.1</td>\n",
       "                        <td id=\"T_1b6ed5fc_9e82_11ea_938b_000d3a8f5d7crow10_col4\" class=\"data row10 col4\" >45392.7</td>\n",
       "                        <td id=\"T_1b6ed5fc_9e82_11ea_938b_000d3a8f5d7crow10_col5\" class=\"data row10 col5\" >4034.7</td>\n",
       "                        <td id=\"T_1b6ed5fc_9e82_11ea_938b_000d3a8f5d7crow10_col6\" class=\"data row10 col6\" >9%</td>\n",
       "            </tr>\n",
       "            <tr>\n",
       "                        <th id=\"T_1b6ed5fc_9e82_11ea_938b_000d3a8f5d7clevel0_row11\" class=\"row_heading level0 row11\" >CT</th>\n",
       "                        <td id=\"T_1b6ed5fc_9e82_11ea_938b_000d3a8f5d7crow11_col0\" class=\"data row11 col0\" >40468</td>\n",
       "                        <td id=\"T_1b6ed5fc_9e82_11ea_938b_000d3a8f5d7crow11_col1\" class=\"data row11 col1\" >45388</td>\n",
       "                        <td id=\"T_1b6ed5fc_9e82_11ea_938b_000d3a8f5d7crow11_col2\" class=\"data row11 col2\" >(42260, 51319)</td>\n",
       "                        <td id=\"T_1b6ed5fc_9e82_11ea_938b_000d3a8f5d7crow11_col3\" class=\"data row11 col3\" >1.1</td>\n",
       "                        <td id=\"T_1b6ed5fc_9e82_11ea_938b_000d3a8f5d7crow11_col4\" class=\"data row11 col4\" >60061.4</td>\n",
       "                        <td id=\"T_1b6ed5fc_9e82_11ea_938b_000d3a8f5d7crow11_col5\" class=\"data row11 col5\" >11350.6</td>\n",
       "                        <td id=\"T_1b6ed5fc_9e82_11ea_938b_000d3a8f5d7crow11_col6\" class=\"data row11 col6\" >19%</td>\n",
       "            </tr>\n",
       "            <tr>\n",
       "                        <th id=\"T_1b6ed5fc_9e82_11ea_938b_000d3a8f5d7clevel0_row12\" class=\"row_heading level0 row12\" >VA</th>\n",
       "                        <td id=\"T_1b6ed5fc_9e82_11ea_938b_000d3a8f5d7crow12_col0\" class=\"data row12 col0\" >36244</td>\n",
       "                        <td id=\"T_1b6ed5fc_9e82_11ea_938b_000d3a8f5d7crow12_col1\" class=\"data row12 col1\" >42468</td>\n",
       "                        <td id=\"T_1b6ed5fc_9e82_11ea_938b_000d3a8f5d7crow12_col2\" class=\"data row12 col2\" >(38516, 51471)</td>\n",
       "                        <td id=\"T_1b6ed5fc_9e82_11ea_938b_000d3a8f5d7crow12_col3\" class=\"data row12 col3\" >1.2</td>\n",
       "                        <td id=\"T_1b6ed5fc_9e82_11ea_938b_000d3a8f5d7crow12_col4\" class=\"data row12 col4\" >28596.4</td>\n",
       "                        <td id=\"T_1b6ed5fc_9e82_11ea_938b_000d3a8f5d7crow12_col5\" class=\"data row12 col5\" >4246.3</td>\n",
       "                        <td id=\"T_1b6ed5fc_9e82_11ea_938b_000d3a8f5d7crow12_col6\" class=\"data row12 col6\" >15%</td>\n",
       "            </tr>\n",
       "            <tr>\n",
       "                        <th id=\"T_1b6ed5fc_9e82_11ea_938b_000d3a8f5d7clevel0_row13\" class=\"row_heading level0 row13\" >LA</th>\n",
       "                        <td id=\"T_1b6ed5fc_9e82_11ea_938b_000d3a8f5d7crow13_col0\" class=\"data row13 col0\" >37169</td>\n",
       "                        <td id=\"T_1b6ed5fc_9e82_11ea_938b_000d3a8f5d7crow13_col1\" class=\"data row13 col1\" >41564</td>\n",
       "                        <td id=\"T_1b6ed5fc_9e82_11ea_938b_000d3a8f5d7crow13_col2\" class=\"data row13 col2\" >(38732, 47589)</td>\n",
       "                        <td id=\"T_1b6ed5fc_9e82_11ea_938b_000d3a8f5d7crow13_col3\" class=\"data row13 col3\" >1.1</td>\n",
       "                        <td id=\"T_1b6ed5fc_9e82_11ea_938b_000d3a8f5d7crow13_col4\" class=\"data row13 col4\" >67982.4</td>\n",
       "                        <td id=\"T_1b6ed5fc_9e82_11ea_938b_000d3a8f5d7crow13_col5\" class=\"data row13 col5\" >7995.4</td>\n",
       "                        <td id=\"T_1b6ed5fc_9e82_11ea_938b_000d3a8f5d7crow13_col6\" class=\"data row13 col6\" >12%</td>\n",
       "            </tr>\n",
       "            <tr>\n",
       "                        <th id=\"T_1b6ed5fc_9e82_11ea_938b_000d3a8f5d7clevel0_row14\" class=\"row_heading level0 row14\" >OH</th>\n",
       "                        <td id=\"T_1b6ed5fc_9e82_11ea_938b_000d3a8f5d7crow14_col0\" class=\"data row14 col0\" >31911</td>\n",
       "                        <td id=\"T_1b6ed5fc_9e82_11ea_938b_000d3a8f5d7crow14_col1\" class=\"data row14 col1\" >37370</td>\n",
       "                        <td id=\"T_1b6ed5fc_9e82_11ea_938b_000d3a8f5d7crow14_col2\" class=\"data row14 col2\" >(34039, 43850)</td>\n",
       "                        <td id=\"T_1b6ed5fc_9e82_11ea_938b_000d3a8f5d7crow14_col3\" class=\"data row14 col3\" >1.2</td>\n",
       "                        <td id=\"T_1b6ed5fc_9e82_11ea_938b_000d3a8f5d7crow14_col4\" class=\"data row14 col4\" >27765.4</td>\n",
       "                        <td id=\"T_1b6ed5fc_9e82_11ea_938b_000d3a8f5d7crow14_col5\" class=\"data row14 col5\" >2730.0</td>\n",
       "                        <td id=\"T_1b6ed5fc_9e82_11ea_938b_000d3a8f5d7crow14_col6\" class=\"data row14 col6\" >10%</td>\n",
       "            </tr>\n",
       "            <tr>\n",
       "                        <th id=\"T_1b6ed5fc_9e82_11ea_938b_000d3a8f5d7clevel0_row15\" class=\"row_heading level0 row15\" >IN</th>\n",
       "                        <td id=\"T_1b6ed5fc_9e82_11ea_938b_000d3a8f5d7crow15_col0\" class=\"data row15 col0\" >31376</td>\n",
       "                        <td id=\"T_1b6ed5fc_9e82_11ea_938b_000d3a8f5d7crow15_col1\" class=\"data row15 col1\" >36266</td>\n",
       "                        <td id=\"T_1b6ed5fc_9e82_11ea_938b_000d3a8f5d7crow15_col2\" class=\"data row15 col2\" >(33220, 42302)</td>\n",
       "                        <td id=\"T_1b6ed5fc_9e82_11ea_938b_000d3a8f5d7crow15_col3\" class=\"data row15 col3\" >1.2</td>\n",
       "                        <td id=\"T_1b6ed5fc_9e82_11ea_938b_000d3a8f5d7crow15_col4\" class=\"data row15 col4\" >32797.7</td>\n",
       "                        <td id=\"T_1b6ed5fc_9e82_11ea_938b_000d3a8f5d7crow15_col5\" class=\"data row15 col5\" >4660.6</td>\n",
       "                        <td id=\"T_1b6ed5fc_9e82_11ea_938b_000d3a8f5d7crow15_col6\" class=\"data row15 col6\" >14%</td>\n",
       "            </tr>\n",
       "            <tr>\n",
       "                        <th id=\"T_1b6ed5fc_9e82_11ea_938b_000d3a8f5d7clevel0_row16\" class=\"row_heading level0 row16\" >CO</th>\n",
       "                        <td id=\"T_1b6ed5fc_9e82_11ea_938b_000d3a8f5d7crow16_col0\" class=\"data row16 col0\" >23964</td>\n",
       "                        <td id=\"T_1b6ed5fc_9e82_11ea_938b_000d3a8f5d7crow16_col1\" class=\"data row16 col1\" >28188</td>\n",
       "                        <td id=\"T_1b6ed5fc_9e82_11ea_938b_000d3a8f5d7crow16_col2\" class=\"data row16 col2\" >(25574, 33272)</td>\n",
       "                        <td id=\"T_1b6ed5fc_9e82_11ea_938b_000d3a8f5d7crow16_col3\" class=\"data row16 col3\" >1.2</td>\n",
       "                        <td id=\"T_1b6ed5fc_9e82_11ea_938b_000d3a8f5d7crow16_col4\" class=\"data row16 col4\" >26056.2</td>\n",
       "                        <td id=\"T_1b6ed5fc_9e82_11ea_938b_000d3a8f5d7crow16_col5\" class=\"data row16 col5\" >4161.3</td>\n",
       "                        <td id=\"T_1b6ed5fc_9e82_11ea_938b_000d3a8f5d7crow16_col6\" class=\"data row16 col6\" >16%</td>\n",
       "            </tr>\n",
       "            <tr>\n",
       "                        <th id=\"T_1b6ed5fc_9e82_11ea_938b_000d3a8f5d7clevel0_row17\" class=\"row_heading level0 row17\" >NC</th>\n",
       "                        <td id=\"T_1b6ed5fc_9e82_11ea_938b_000d3a8f5d7crow17_col0\" class=\"data row17 col0\" >23222</td>\n",
       "                        <td id=\"T_1b6ed5fc_9e82_11ea_938b_000d3a8f5d7crow17_col1\" class=\"data row17 col1\" >27007</td>\n",
       "                        <td id=\"T_1b6ed5fc_9e82_11ea_938b_000d3a8f5d7crow17_col2\" class=\"data row17 col2\" >(24631, 31829)</td>\n",
       "                        <td id=\"T_1b6ed5fc_9e82_11ea_938b_000d3a8f5d7crow17_col3\" class=\"data row17 col3\" >1.2</td>\n",
       "                        <td id=\"T_1b6ed5fc_9e82_11ea_938b_000d3a8f5d7crow17_col4\" class=\"data row17 col4\" >32098.9</td>\n",
       "                        <td id=\"T_1b6ed5fc_9e82_11ea_938b_000d3a8f5d7crow17_col5\" class=\"data row17 col5\" >2214.1</td>\n",
       "                        <td id=\"T_1b6ed5fc_9e82_11ea_938b_000d3a8f5d7crow17_col6\" class=\"data row17 col6\" >7%</td>\n",
       "            </tr>\n",
       "            <tr>\n",
       "                        <th id=\"T_1b6ed5fc_9e82_11ea_938b_000d3a8f5d7clevel0_row18\" class=\"row_heading level0 row18\" >MN</th>\n",
       "                        <td id=\"T_1b6ed5fc_9e82_11ea_938b_000d3a8f5d7crow18_col0\" class=\"data row18 col0\" >20573</td>\n",
       "                        <td id=\"T_1b6ed5fc_9e82_11ea_938b_000d3a8f5d7crow18_col1\" class=\"data row18 col1\" >23977</td>\n",
       "                        <td id=\"T_1b6ed5fc_9e82_11ea_938b_000d3a8f5d7crow18_col2\" class=\"data row18 col2\" >(21765, 28546)</td>\n",
       "                        <td id=\"T_1b6ed5fc_9e82_11ea_938b_000d3a8f5d7crow18_col3\" class=\"data row18 col3\" >1.2</td>\n",
       "                        <td id=\"T_1b6ed5fc_9e82_11ea_938b_000d3a8f5d7crow18_col4\" class=\"data row18 col4\" >35102.3</td>\n",
       "                        <td id=\"T_1b6ed5fc_9e82_11ea_938b_000d3a8f5d7crow18_col5\" class=\"data row18 col5\" >3647.9</td>\n",
       "                        <td id=\"T_1b6ed5fc_9e82_11ea_938b_000d3a8f5d7crow18_col6\" class=\"data row18 col6\" >10%</td>\n",
       "            </tr>\n",
       "            <tr>\n",
       "                        <th id=\"T_1b6ed5fc_9e82_11ea_938b_000d3a8f5d7clevel0_row19\" class=\"row_heading level0 row19\" >TN</th>\n",
       "                        <td id=\"T_1b6ed5fc_9e82_11ea_938b_000d3a8f5d7crow19_col0\" class=\"data row19 col0\" >20145</td>\n",
       "                        <td id=\"T_1b6ed5fc_9e82_11ea_938b_000d3a8f5d7crow19_col1\" class=\"data row19 col1\" >22734</td>\n",
       "                        <td id=\"T_1b6ed5fc_9e82_11ea_938b_000d3a8f5d7crow19_col2\" class=\"data row19 col2\" >(21128, 26449)</td>\n",
       "                        <td id=\"T_1b6ed5fc_9e82_11ea_938b_000d3a8f5d7crow19_col3\" class=\"data row19 col3\" >1.1</td>\n",
       "                        <td id=\"T_1b6ed5fc_9e82_11ea_938b_000d3a8f5d7crow19_col4\" class=\"data row19 col4\" >56167.3</td>\n",
       "                        <td id=\"T_1b6ed5fc_9e82_11ea_938b_000d3a8f5d7crow19_col5\" class=\"data row19 col5\" >2949.8</td>\n",
       "                        <td id=\"T_1b6ed5fc_9e82_11ea_938b_000d3a8f5d7crow19_col6\" class=\"data row19 col6\" >5%</td>\n",
       "            </tr>\n",
       "            <tr>\n",
       "                        <th id=\"T_1b6ed5fc_9e82_11ea_938b_000d3a8f5d7clevel0_row20\" class=\"row_heading level0 row20\" >WA</th>\n",
       "                        <td id=\"T_1b6ed5fc_9e82_11ea_938b_000d3a8f5d7crow20_col0\" class=\"data row20 col0\" >19585</td>\n",
       "                        <td id=\"T_1b6ed5fc_9e82_11ea_938b_000d3a8f5d7crow20_col1\" class=\"data row20 col1\" >22444</td>\n",
       "                        <td id=\"T_1b6ed5fc_9e82_11ea_938b_000d3a8f5d7crow20_col2\" class=\"data row20 col2\" >(20512, 26241)</td>\n",
       "                        <td id=\"T_1b6ed5fc_9e82_11ea_938b_000d3a8f5d7crow20_col3\" class=\"data row20 col3\" >1.1</td>\n",
       "                        <td id=\"T_1b6ed5fc_9e82_11ea_938b_000d3a8f5d7crow20_col4\" class=\"data row20 col4\" >41533.9</td>\n",
       "                        <td id=\"T_1b6ed5fc_9e82_11ea_938b_000d3a8f5d7crow20_col5\" class=\"data row20 col5\" >2571.9</td>\n",
       "                        <td id=\"T_1b6ed5fc_9e82_11ea_938b_000d3a8f5d7crow20_col6\" class=\"data row20 col6\" >6%</td>\n",
       "            </tr>\n",
       "            <tr>\n",
       "                        <th id=\"T_1b6ed5fc_9e82_11ea_938b_000d3a8f5d7clevel0_row21\" class=\"row_heading level0 row21\" >IA</th>\n",
       "                        <td id=\"T_1b6ed5fc_9e82_11ea_938b_000d3a8f5d7crow21_col0\" class=\"data row21 col0\" >17252</td>\n",
       "                        <td id=\"T_1b6ed5fc_9e82_11ea_938b_000d3a8f5d7crow21_col1\" class=\"data row21 col1\" >19826</td>\n",
       "                        <td id=\"T_1b6ed5fc_9e82_11ea_938b_000d3a8f5d7crow21_col2\" class=\"data row21 col2\" >(18152, 22992)</td>\n",
       "                        <td id=\"T_1b6ed5fc_9e82_11ea_938b_000d3a8f5d7crow21_col3\" class=\"data row21 col3\" >1.1</td>\n",
       "                        <td id=\"T_1b6ed5fc_9e82_11ea_938b_000d3a8f5d7crow21_col4\" class=\"data row21 col4\" >40492.3</td>\n",
       "                        <td id=\"T_1b6ed5fc_9e82_11ea_938b_000d3a8f5d7crow21_col5\" class=\"data row21 col5\" >5468.0</td>\n",
       "                        <td id=\"T_1b6ed5fc_9e82_11ea_938b_000d3a8f5d7crow21_col6\" class=\"data row21 col6\" >14%</td>\n",
       "            </tr>\n",
       "            <tr>\n",
       "                        <th id=\"T_1b6ed5fc_9e82_11ea_938b_000d3a8f5d7clevel0_row22\" class=\"row_heading level0 row22\" >AZ</th>\n",
       "                        <td id=\"T_1b6ed5fc_9e82_11ea_938b_000d3a8f5d7crow22_col0\" class=\"data row22 col0\" >16339</td>\n",
       "                        <td id=\"T_1b6ed5fc_9e82_11ea_938b_000d3a8f5d7crow22_col1\" class=\"data row22 col1\" >19239</td>\n",
       "                        <td id=\"T_1b6ed5fc_9e82_11ea_938b_000d3a8f5d7crow22_col2\" class=\"data row22 col2\" >(17478, 22649)</td>\n",
       "                        <td id=\"T_1b6ed5fc_9e82_11ea_938b_000d3a8f5d7crow22_col3\" class=\"data row22 col3\" >1.2</td>\n",
       "                        <td id=\"T_1b6ed5fc_9e82_11ea_938b_000d3a8f5d7crow22_col4\" class=\"data row22 col4\" >25229.9</td>\n",
       "                        <td id=\"T_1b6ed5fc_9e82_11ea_938b_000d3a8f5d7crow22_col5\" class=\"data row22 col5\" >2244.8</td>\n",
       "                        <td id=\"T_1b6ed5fc_9e82_11ea_938b_000d3a8f5d7crow22_col6\" class=\"data row22 col6\" >9%</td>\n",
       "            </tr>\n",
       "            <tr>\n",
       "                        <th id=\"T_1b6ed5fc_9e82_11ea_938b_000d3a8f5d7clevel0_row23\" class=\"row_heading level0 row23\" >WI</th>\n",
       "                        <td id=\"T_1b6ed5fc_9e82_11ea_938b_000d3a8f5d7crow23_col0\" class=\"data row23 col0\" >15277</td>\n",
       "                        <td id=\"T_1b6ed5fc_9e82_11ea_938b_000d3a8f5d7crow23_col1\" class=\"data row23 col1\" >17552</td>\n",
       "                        <td id=\"T_1b6ed5fc_9e82_11ea_938b_000d3a8f5d7crow23_col2\" class=\"data row23 col2\" >(16171, 20455)</td>\n",
       "                        <td id=\"T_1b6ed5fc_9e82_11ea_938b_000d3a8f5d7crow23_col3\" class=\"data row23 col3\" >1.1</td>\n",
       "                        <td id=\"T_1b6ed5fc_9e82_11ea_938b_000d3a8f5d7crow23_col4\" class=\"data row23 col4\" >34604.6</td>\n",
       "                        <td id=\"T_1b6ed5fc_9e82_11ea_938b_000d3a8f5d7crow23_col5\" class=\"data row23 col5\" >2623.8</td>\n",
       "                        <td id=\"T_1b6ed5fc_9e82_11ea_938b_000d3a8f5d7crow23_col6\" class=\"data row23 col6\" >8%</td>\n",
       "            </tr>\n",
       "            <tr>\n",
       "                        <th id=\"T_1b6ed5fc_9e82_11ea_938b_000d3a8f5d7clevel0_row24\" class=\"row_heading level0 row24\" >AL</th>\n",
       "                        <td id=\"T_1b6ed5fc_9e82_11ea_938b_000d3a8f5d7crow24_col0\" class=\"data row24 col0\" >14327</td>\n",
       "                        <td id=\"T_1b6ed5fc_9e82_11ea_938b_000d3a8f5d7crow24_col1\" class=\"data row24 col1\" >16469</td>\n",
       "                        <td id=\"T_1b6ed5fc_9e82_11ea_938b_000d3a8f5d7crow24_col2\" class=\"data row24 col2\" >(15185, 19434)</td>\n",
       "                        <td id=\"T_1b6ed5fc_9e82_11ea_938b_000d3a8f5d7crow24_col3\" class=\"data row24 col3\" >1.1</td>\n",
       "                        <td id=\"T_1b6ed5fc_9e82_11ea_938b_000d3a8f5d7crow24_col4\" class=\"data row24 col4\" >37893.5</td>\n",
       "                        <td id=\"T_1b6ed5fc_9e82_11ea_938b_000d3a8f5d7crow24_col5\" class=\"data row24 col5\" >2922.0</td>\n",
       "                        <td id=\"T_1b6ed5fc_9e82_11ea_938b_000d3a8f5d7crow24_col6\" class=\"data row24 col6\" >8%</td>\n",
       "            </tr>\n",
       "            <tr>\n",
       "                        <th id=\"T_1b6ed5fc_9e82_11ea_938b_000d3a8f5d7clevel0_row25\" class=\"row_heading level0 row25\" >RI</th>\n",
       "                        <td id=\"T_1b6ed5fc_9e82_11ea_938b_000d3a8f5d7crow25_col0\" class=\"data row25 col0\" >14065</td>\n",
       "                        <td id=\"T_1b6ed5fc_9e82_11ea_938b_000d3a8f5d7crow25_col1\" class=\"data row25 col1\" >15387</td>\n",
       "                        <td id=\"T_1b6ed5fc_9e82_11ea_938b_000d3a8f5d7crow25_col2\" class=\"data row25 col2\" >(14520, 17383)</td>\n",
       "                        <td id=\"T_1b6ed5fc_9e82_11ea_938b_000d3a8f5d7crow25_col3\" class=\"data row25 col3\" >1.1</td>\n",
       "                        <td id=\"T_1b6ed5fc_9e82_11ea_938b_000d3a8f5d7crow25_col4\" class=\"data row25 col4\" >125265.1</td>\n",
       "                        <td id=\"T_1b6ed5fc_9e82_11ea_938b_000d3a8f5d7crow25_col5\" class=\"data row25 col5\" >13276.9</td>\n",
       "                        <td id=\"T_1b6ed5fc_9e82_11ea_938b_000d3a8f5d7crow25_col6\" class=\"data row25 col6\" >11%</td>\n",
       "            </tr>\n",
       "            <tr>\n",
       "                        <th id=\"T_1b6ed5fc_9e82_11ea_938b_000d3a8f5d7clevel0_row26\" class=\"row_heading level0 row26\" >MS</th>\n",
       "                        <td id=\"T_1b6ed5fc_9e82_11ea_938b_000d3a8f5d7crow26_col0\" class=\"data row26 col0\" >13252</td>\n",
       "                        <td id=\"T_1b6ed5fc_9e82_11ea_938b_000d3a8f5d7crow26_col1\" class=\"data row26 col1\" >15053</td>\n",
       "                        <td id=\"T_1b6ed5fc_9e82_11ea_938b_000d3a8f5d7crow26_col2\" class=\"data row26 col2\" >(13941, 17088)</td>\n",
       "                        <td id=\"T_1b6ed5fc_9e82_11ea_938b_000d3a8f5d7crow26_col3\" class=\"data row26 col3\" >1.1</td>\n",
       "                        <td id=\"T_1b6ed5fc_9e82_11ea_938b_000d3a8f5d7crow26_col4\" class=\"data row26 col4\" >46335.7</td>\n",
       "                        <td id=\"T_1b6ed5fc_9e82_11ea_938b_000d3a8f5d7crow26_col5\" class=\"data row26 col5\" >4452.7</td>\n",
       "                        <td id=\"T_1b6ed5fc_9e82_11ea_938b_000d3a8f5d7crow26_col6\" class=\"data row26 col6\" >10%</td>\n",
       "            </tr>\n",
       "            <tr>\n",
       "                        <th id=\"T_1b6ed5fc_9e82_11ea_938b_000d3a8f5d7clevel0_row27\" class=\"row_heading level0 row27\" >MO</th>\n",
       "                        <td id=\"T_1b6ed5fc_9e82_11ea_938b_000d3a8f5d7crow27_col0\" class=\"data row27 col0\" >11988</td>\n",
       "                        <td id=\"T_1b6ed5fc_9e82_11ea_938b_000d3a8f5d7crow27_col1\" class=\"data row27 col1\" >14076</td>\n",
       "                        <td id=\"T_1b6ed5fc_9e82_11ea_938b_000d3a8f5d7crow27_col2\" class=\"data row27 col2\" >(12845, 16951)</td>\n",
       "                        <td id=\"T_1b6ed5fc_9e82_11ea_938b_000d3a8f5d7crow27_col3\" class=\"data row27 col3\" >1.2</td>\n",
       "                        <td id=\"T_1b6ed5fc_9e82_11ea_938b_000d3a8f5d7crow27_col4\" class=\"data row27 col4\" >24704.0</td>\n",
       "                        <td id=\"T_1b6ed5fc_9e82_11ea_938b_000d3a8f5d7crow27_col5\" class=\"data row27 col5\" >1953.3</td>\n",
       "                        <td id=\"T_1b6ed5fc_9e82_11ea_938b_000d3a8f5d7crow27_col6\" class=\"data row27 col6\" >8%</td>\n",
       "            </tr>\n",
       "            <tr>\n",
       "                        <th id=\"T_1b6ed5fc_9e82_11ea_938b_000d3a8f5d7clevel0_row28\" class=\"row_heading level0 row28\" >NE</th>\n",
       "                        <td id=\"T_1b6ed5fc_9e82_11ea_938b_000d3a8f5d7crow28_col0\" class=\"data row28 col0\" >11989</td>\n",
       "                        <td id=\"T_1b6ed5fc_9e82_11ea_938b_000d3a8f5d7crow28_col1\" class=\"data row28 col1\" >13681</td>\n",
       "                        <td id=\"T_1b6ed5fc_9e82_11ea_938b_000d3a8f5d7crow28_col2\" class=\"data row28 col2\" >(12587, 16058)</td>\n",
       "                        <td id=\"T_1b6ed5fc_9e82_11ea_938b_000d3a8f5d7crow28_col3\" class=\"data row28 col3\" >1.1</td>\n",
       "                        <td id=\"T_1b6ed5fc_9e82_11ea_938b_000d3a8f5d7crow28_col4\" class=\"data row28 col4\" >43013.2</td>\n",
       "                        <td id=\"T_1b6ed5fc_9e82_11ea_938b_000d3a8f5d7crow28_col5\" class=\"data row28 col5\" >6197.8</td>\n",
       "                        <td id=\"T_1b6ed5fc_9e82_11ea_938b_000d3a8f5d7crow28_col6\" class=\"data row28 col6\" >14%</td>\n",
       "            </tr>\n",
       "            <tr>\n",
       "                        <th id=\"T_1b6ed5fc_9e82_11ea_938b_000d3a8f5d7clevel0_row29\" class=\"row_heading level0 row29\" >SC</th>\n",
       "                        <td id=\"T_1b6ed5fc_9e82_11ea_938b_000d3a8f5d7crow29_col0\" class=\"data row29 col0\" >10096</td>\n",
       "                        <td id=\"T_1b6ed5fc_9e82_11ea_938b_000d3a8f5d7crow29_col1\" class=\"data row29 col1\" >11752</td>\n",
       "                        <td id=\"T_1b6ed5fc_9e82_11ea_938b_000d3a8f5d7crow29_col2\" class=\"data row29 col2\" >(10719, 14100)</td>\n",
       "                        <td id=\"T_1b6ed5fc_9e82_11ea_938b_000d3a8f5d7crow29_col3\" class=\"data row29 col3\" >1.2</td>\n",
       "                        <td id=\"T_1b6ed5fc_9e82_11ea_938b_000d3a8f5d7crow29_col4\" class=\"data row29 col4\" >31842.3</td>\n",
       "                        <td id=\"T_1b6ed5fc_9e82_11ea_938b_000d3a8f5d7crow29_col5\" class=\"data row29 col5\" >1960.9</td>\n",
       "                        <td id=\"T_1b6ed5fc_9e82_11ea_938b_000d3a8f5d7crow29_col6\" class=\"data row29 col6\" >6%</td>\n",
       "            </tr>\n",
       "            <tr>\n",
       "                        <th id=\"T_1b6ed5fc_9e82_11ea_938b_000d3a8f5d7clevel0_row30\" class=\"row_heading level0 row30\" >KS</th>\n",
       "                        <td id=\"T_1b6ed5fc_9e82_11ea_938b_000d3a8f5d7crow30_col0\" class=\"data row30 col0\" >8958</td>\n",
       "                        <td id=\"T_1b6ed5fc_9e82_11ea_938b_000d3a8f5d7crow30_col1\" class=\"data row30 col1\" >10511</td>\n",
       "                        <td id=\"T_1b6ed5fc_9e82_11ea_938b_000d3a8f5d7crow30_col2\" class=\"data row30 col2\" >(9582, 12316)</td>\n",
       "                        <td id=\"T_1b6ed5fc_9e82_11ea_938b_000d3a8f5d7crow30_col3\" class=\"data row30 col3\" >1.2</td>\n",
       "                        <td id=\"T_1b6ed5fc_9e82_11ea_938b_000d3a8f5d7crow30_col4\" class=\"data row30 col4\" >26236.1</td>\n",
       "                        <td id=\"T_1b6ed5fc_9e82_11ea_938b_000d3a8f5d7crow30_col5\" class=\"data row30 col5\" >3074.8</td>\n",
       "                        <td id=\"T_1b6ed5fc_9e82_11ea_938b_000d3a8f5d7crow30_col6\" class=\"data row30 col6\" >12%</td>\n",
       "            </tr>\n",
       "            <tr>\n",
       "                        <th id=\"T_1b6ed5fc_9e82_11ea_938b_000d3a8f5d7clevel0_row31\" class=\"row_heading level0 row31\" >DE</th>\n",
       "                        <td id=\"T_1b6ed5fc_9e82_11ea_938b_000d3a8f5d7crow31_col0\" class=\"data row31 col0\" >8809</td>\n",
       "                        <td id=\"T_1b6ed5fc_9e82_11ea_938b_000d3a8f5d7crow31_col1\" class=\"data row31 col1\" >10004</td>\n",
       "                        <td id=\"T_1b6ed5fc_9e82_11ea_938b_000d3a8f5d7crow31_col2\" class=\"data row31 col2\" >(9250, 11888)</td>\n",
       "                        <td id=\"T_1b6ed5fc_9e82_11ea_938b_000d3a8f5d7crow31_col3\" class=\"data row31 col3\" >1.1</td>\n",
       "                        <td id=\"T_1b6ed5fc_9e82_11ea_938b_000d3a8f5d7crow31_col4\" class=\"data row31 col4\" >53267.5</td>\n",
       "                        <td id=\"T_1b6ed5fc_9e82_11ea_938b_000d3a8f5d7crow31_col5\" class=\"data row31 col5\" >9046.3</td>\n",
       "                        <td id=\"T_1b6ed5fc_9e82_11ea_938b_000d3a8f5d7crow31_col6\" class=\"data row31 col6\" >17%</td>\n",
       "            </tr>\n",
       "            <tr>\n",
       "                        <th id=\"T_1b6ed5fc_9e82_11ea_938b_000d3a8f5d7clevel0_row32\" class=\"row_heading level0 row32\" >KY</th>\n",
       "                        <td id=\"T_1b6ed5fc_9e82_11ea_938b_000d3a8f5d7crow32_col0\" class=\"data row32 col0\" >8571</td>\n",
       "                        <td id=\"T_1b6ed5fc_9e82_11ea_938b_000d3a8f5d7crow32_col1\" class=\"data row32 col1\" >9882</td>\n",
       "                        <td id=\"T_1b6ed5fc_9e82_11ea_938b_000d3a8f5d7crow32_col2\" class=\"data row32 col2\" >(9069, 11342)</td>\n",
       "                        <td id=\"T_1b6ed5fc_9e82_11ea_938b_000d3a8f5d7crow32_col3\" class=\"data row32 col3\" >1.2</td>\n",
       "                        <td id=\"T_1b6ed5fc_9e82_11ea_938b_000d3a8f5d7crow32_col4\" class=\"data row32 col4\" >38018.9</td>\n",
       "                        <td id=\"T_1b6ed5fc_9e82_11ea_938b_000d3a8f5d7crow32_col5\" class=\"data row32 col5\" >1918.4</td>\n",
       "                        <td id=\"T_1b6ed5fc_9e82_11ea_938b_000d3a8f5d7crow32_col6\" class=\"data row32 col6\" >5%</td>\n",
       "            </tr>\n",
       "            <tr>\n",
       "                        <th id=\"T_1b6ed5fc_9e82_11ea_938b_000d3a8f5d7clevel0_row33\" class=\"row_heading level0 row33\" >UT</th>\n",
       "                        <td id=\"T_1b6ed5fc_9e82_11ea_938b_000d3a8f5d7crow33_col0\" class=\"data row33 col0\" >8392</td>\n",
       "                        <td id=\"T_1b6ed5fc_9e82_11ea_938b_000d3a8f5d7crow33_col1\" class=\"data row33 col1\" >9460</td>\n",
       "                        <td id=\"T_1b6ed5fc_9e82_11ea_938b_000d3a8f5d7crow33_col2\" class=\"data row33 col2\" >(8775, 11093)</td>\n",
       "                        <td id=\"T_1b6ed5fc_9e82_11ea_938b_000d3a8f5d7crow33_col3\" class=\"data row33 col3\" >1.1</td>\n",
       "                        <td id=\"T_1b6ed5fc_9e82_11ea_938b_000d3a8f5d7crow33_col4\" class=\"data row33 col4\" >60647.4</td>\n",
       "                        <td id=\"T_1b6ed5fc_9e82_11ea_938b_000d3a8f5d7crow33_col5\" class=\"data row33 col5\" >2617.6</td>\n",
       "                        <td id=\"T_1b6ed5fc_9e82_11ea_938b_000d3a8f5d7crow33_col6\" class=\"data row33 col6\" >4%</td>\n",
       "            </tr>\n",
       "            <tr>\n",
       "                        <th id=\"T_1b6ed5fc_9e82_11ea_938b_000d3a8f5d7clevel0_row34\" class=\"row_heading level0 row34\" >NV</th>\n",
       "                        <td id=\"T_1b6ed5fc_9e82_11ea_938b_000d3a8f5d7crow34_col0\" class=\"data row34 col0\" >7770</td>\n",
       "                        <td id=\"T_1b6ed5fc_9e82_11ea_938b_000d3a8f5d7crow34_col1\" class=\"data row34 col1\" >8977</td>\n",
       "                        <td id=\"T_1b6ed5fc_9e82_11ea_938b_000d3a8f5d7crow34_col2\" class=\"data row34 col2\" >(8222, 10561)</td>\n",
       "                        <td id=\"T_1b6ed5fc_9e82_11ea_938b_000d3a8f5d7crow34_col3\" class=\"data row34 col3\" >1.2</td>\n",
       "                        <td id=\"T_1b6ed5fc_9e82_11ea_938b_000d3a8f5d7crow34_col4\" class=\"data row34 col4\" >35803.7</td>\n",
       "                        <td id=\"T_1b6ed5fc_9e82_11ea_938b_000d3a8f5d7crow34_col5\" class=\"data row34 col5\" >2522.6</td>\n",
       "                        <td id=\"T_1b6ed5fc_9e82_11ea_938b_000d3a8f5d7crow34_col6\" class=\"data row34 col6\" >7%</td>\n",
       "            </tr>\n",
       "            <tr>\n",
       "                        <th id=\"T_1b6ed5fc_9e82_11ea_938b_000d3a8f5d7clevel0_row35\" class=\"row_heading level0 row35\" >DC</th>\n",
       "                        <td id=\"T_1b6ed5fc_9e82_11ea_938b_000d3a8f5d7crow35_col0\" class=\"data row35 col0\" >7966</td>\n",
       "                        <td id=\"T_1b6ed5fc_9e82_11ea_938b_000d3a8f5d7crow35_col1\" class=\"data row35 col1\" >8843</td>\n",
       "                        <td id=\"T_1b6ed5fc_9e82_11ea_938b_000d3a8f5d7crow35_col2\" class=\"data row35 col2\" >(8279, 10062)</td>\n",
       "                        <td id=\"T_1b6ed5fc_9e82_11ea_938b_000d3a8f5d7crow35_col3\" class=\"data row35 col3\" >1.1</td>\n",
       "                        <td id=\"T_1b6ed5fc_9e82_11ea_938b_000d3a8f5d7crow35_col4\" class=\"data row35 col4\" >73667.8</td>\n",
       "                        <td id=\"T_1b6ed5fc_9e82_11ea_938b_000d3a8f5d7crow35_col5\" class=\"data row35 col5\" >11287.3</td>\n",
       "                        <td id=\"T_1b6ed5fc_9e82_11ea_938b_000d3a8f5d7crow35_col6\" class=\"data row35 col6\" >15%</td>\n",
       "            </tr>\n",
       "            <tr>\n",
       "                        <th id=\"T_1b6ed5fc_9e82_11ea_938b_000d3a8f5d7clevel0_row36\" class=\"row_heading level0 row36\" >NM</th>\n",
       "                        <td id=\"T_1b6ed5fc_9e82_11ea_938b_000d3a8f5d7crow36_col0\" class=\"data row36 col0\" >6795</td>\n",
       "                        <td id=\"T_1b6ed5fc_9e82_11ea_938b_000d3a8f5d7crow36_col1\" class=\"data row36 col1\" >7543</td>\n",
       "                        <td id=\"T_1b6ed5fc_9e82_11ea_938b_000d3a8f5d7crow36_col2\" class=\"data row36 col2\" >(7066, 8381)</td>\n",
       "                        <td id=\"T_1b6ed5fc_9e82_11ea_938b_000d3a8f5d7crow36_col3\" class=\"data row36 col3\" >1.1</td>\n",
       "                        <td id=\"T_1b6ed5fc_9e82_11ea_938b_000d3a8f5d7crow36_col4\" class=\"data row36 col4\" >80654.6</td>\n",
       "                        <td id=\"T_1b6ed5fc_9e82_11ea_938b_000d3a8f5d7crow36_col5\" class=\"data row36 col5\" >3240.6</td>\n",
       "                        <td id=\"T_1b6ed5fc_9e82_11ea_938b_000d3a8f5d7crow36_col6\" class=\"data row36 col6\" >4%</td>\n",
       "            </tr>\n",
       "            <tr>\n",
       "                        <th id=\"T_1b6ed5fc_9e82_11ea_938b_000d3a8f5d7clevel0_row37\" class=\"row_heading level0 row37\" >OK</th>\n",
       "                        <td id=\"T_1b6ed5fc_9e82_11ea_938b_000d3a8f5d7crow37_col0\" class=\"data row37 col0\" >6037</td>\n",
       "                        <td id=\"T_1b6ed5fc_9e82_11ea_938b_000d3a8f5d7crow37_col1\" class=\"data row37 col1\" >6904</td>\n",
       "                        <td id=\"T_1b6ed5fc_9e82_11ea_938b_000d3a8f5d7crow37_col2\" class=\"data row37 col2\" >(6358, 8079)</td>\n",
       "                        <td id=\"T_1b6ed5fc_9e82_11ea_938b_000d3a8f5d7crow37_col3\" class=\"data row37 col3\" >1.1</td>\n",
       "                        <td id=\"T_1b6ed5fc_9e82_11ea_938b_000d3a8f5d7crow37_col4\" class=\"data row37 col4\" >40682.6</td>\n",
       "                        <td id=\"T_1b6ed5fc_9e82_11ea_938b_000d3a8f5d7crow37_col5\" class=\"data row37 col5\" >1525.7</td>\n",
       "                        <td id=\"T_1b6ed5fc_9e82_11ea_938b_000d3a8f5d7crow37_col6\" class=\"data row37 col6\" >4%</td>\n",
       "            </tr>\n",
       "            <tr>\n",
       "                        <th id=\"T_1b6ed5fc_9e82_11ea_938b_000d3a8f5d7clevel0_row38\" class=\"row_heading level0 row38\" >AR</th>\n",
       "                        <td id=\"T_1b6ed5fc_9e82_11ea_938b_000d3a8f5d7crow38_col0\" class=\"data row38 col0\" >5922</td>\n",
       "                        <td id=\"T_1b6ed5fc_9e82_11ea_938b_000d3a8f5d7crow38_col1\" class=\"data row38 col1\" >6853</td>\n",
       "                        <td id=\"T_1b6ed5fc_9e82_11ea_938b_000d3a8f5d7crow38_col2\" class=\"data row38 col2\" >(6261, 7993)</td>\n",
       "                        <td id=\"T_1b6ed5fc_9e82_11ea_938b_000d3a8f5d7crow38_col3\" class=\"data row38 col3\" >1.2</td>\n",
       "                        <td id=\"T_1b6ed5fc_9e82_11ea_938b_000d3a8f5d7crow38_col4\" class=\"data row38 col4\" >35980.1</td>\n",
       "                        <td id=\"T_1b6ed5fc_9e82_11ea_938b_000d3a8f5d7crow38_col5\" class=\"data row38 col5\" >1962.4</td>\n",
       "                        <td id=\"T_1b6ed5fc_9e82_11ea_938b_000d3a8f5d7crow38_col6\" class=\"data row38 col6\" >5%</td>\n",
       "            </tr>\n",
       "            <tr>\n",
       "                        <th id=\"T_1b6ed5fc_9e82_11ea_938b_000d3a8f5d7clevel0_row39\" class=\"row_heading level0 row39\" >SD</th>\n",
       "                        <td id=\"T_1b6ed5fc_9e82_11ea_938b_000d3a8f5d7crow39_col0\" class=\"data row39 col0\" >4563</td>\n",
       "                        <td id=\"T_1b6ed5fc_9e82_11ea_938b_000d3a8f5d7crow39_col1\" class=\"data row39 col1\" >5228</td>\n",
       "                        <td id=\"T_1b6ed5fc_9e82_11ea_938b_000d3a8f5d7crow39_col2\" class=\"data row39 col2\" >(4807, 6202)</td>\n",
       "                        <td id=\"T_1b6ed5fc_9e82_11ea_938b_000d3a8f5d7crow39_col3\" class=\"data row39 col3\" >1.1</td>\n",
       "                        <td id=\"T_1b6ed5fc_9e82_11ea_938b_000d3a8f5d7crow39_col4\" class=\"data row39 col4\" >39455.9</td>\n",
       "                        <td id=\"T_1b6ed5fc_9e82_11ea_938b_000d3a8f5d7crow39_col5\" class=\"data row39 col5\" >5157.9</td>\n",
       "                        <td id=\"T_1b6ed5fc_9e82_11ea_938b_000d3a8f5d7crow39_col6\" class=\"data row39 col6\" >13%</td>\n",
       "            </tr>\n",
       "            <tr>\n",
       "                        <th id=\"T_1b6ed5fc_9e82_11ea_938b_000d3a8f5d7clevel0_row40\" class=\"row_heading level0 row40\" >NH</th>\n",
       "                        <td id=\"T_1b6ed5fc_9e82_11ea_938b_000d3a8f5d7crow40_col0\" class=\"data row40 col0\" >4089</td>\n",
       "                        <td id=\"T_1b6ed5fc_9e82_11ea_938b_000d3a8f5d7crow40_col1\" class=\"data row40 col1\" >4655</td>\n",
       "                        <td id=\"T_1b6ed5fc_9e82_11ea_938b_000d3a8f5d7crow40_col2\" class=\"data row40 col2\" >(4300, 5377)</td>\n",
       "                        <td id=\"T_1b6ed5fc_9e82_11ea_938b_000d3a8f5d7crow40_col3\" class=\"data row40 col3\" >1.1</td>\n",
       "                        <td id=\"T_1b6ed5fc_9e82_11ea_938b_000d3a8f5d7crow40_col4\" class=\"data row40 col4\" >43788.0</td>\n",
       "                        <td id=\"T_1b6ed5fc_9e82_11ea_938b_000d3a8f5d7crow40_col5\" class=\"data row40 col5\" >3007.3</td>\n",
       "                        <td id=\"T_1b6ed5fc_9e82_11ea_938b_000d3a8f5d7crow40_col6\" class=\"data row40 col6\" >7%</td>\n",
       "            </tr>\n",
       "            <tr>\n",
       "                        <th id=\"T_1b6ed5fc_9e82_11ea_938b_000d3a8f5d7clevel0_row41\" class=\"row_heading level0 row41\" >OR</th>\n",
       "                        <td id=\"T_1b6ed5fc_9e82_11ea_938b_000d3a8f5d7crow41_col0\" class=\"data row41 col0\" >3927</td>\n",
       "                        <td id=\"T_1b6ed5fc_9e82_11ea_938b_000d3a8f5d7crow41_col1\" class=\"data row41 col1\" >4620</td>\n",
       "                        <td id=\"T_1b6ed5fc_9e82_11ea_938b_000d3a8f5d7crow41_col2\" class=\"data row41 col2\" >(4182, 5459)</td>\n",
       "                        <td id=\"T_1b6ed5fc_9e82_11ea_938b_000d3a8f5d7crow41_col3\" class=\"data row41 col3\" >1.2</td>\n",
       "                        <td id=\"T_1b6ed5fc_9e82_11ea_938b_000d3a8f5d7crow41_col4\" class=\"data row41 col4\" >26600.8</td>\n",
       "                        <td id=\"T_1b6ed5fc_9e82_11ea_938b_000d3a8f5d7crow41_col5\" class=\"data row41 col5\" >931.1</td>\n",
       "                        <td id=\"T_1b6ed5fc_9e82_11ea_938b_000d3a8f5d7crow41_col6\" class=\"data row41 col6\" >4%</td>\n",
       "            </tr>\n",
       "            <tr>\n",
       "                        <th id=\"T_1b6ed5fc_9e82_11ea_938b_000d3a8f5d7clevel0_row42\" class=\"row_heading level0 row42\" >ID</th>\n",
       "                        <td id=\"T_1b6ed5fc_9e82_11ea_938b_000d3a8f5d7crow42_col0\" class=\"data row42 col0\" >2626</td>\n",
       "                        <td id=\"T_1b6ed5fc_9e82_11ea_938b_000d3a8f5d7crow42_col1\" class=\"data row42 col1\" >3125</td>\n",
       "                        <td id=\"T_1b6ed5fc_9e82_11ea_938b_000d3a8f5d7crow42_col2\" class=\"data row42 col2\" >(2800, 3726)</td>\n",
       "                        <td id=\"T_1b6ed5fc_9e82_11ea_938b_000d3a8f5d7crow42_col3\" class=\"data row42 col3\" >1.2</td>\n",
       "                        <td id=\"T_1b6ed5fc_9e82_11ea_938b_000d3a8f5d7crow42_col4\" class=\"data row42 col4\" >23169.8</td>\n",
       "                        <td id=\"T_1b6ed5fc_9e82_11ea_938b_000d3a8f5d7crow42_col5\" class=\"data row42 col5\" >1469.4</td>\n",
       "                        <td id=\"T_1b6ed5fc_9e82_11ea_938b_000d3a8f5d7crow42_col6\" class=\"data row42 col6\" >6%</td>\n",
       "            </tr>\n",
       "            <tr>\n",
       "                        <th id=\"T_1b6ed5fc_9e82_11ea_938b_000d3a8f5d7clevel0_row43\" class=\"row_heading level0 row43\" >ND</th>\n",
       "                        <td id=\"T_1b6ed5fc_9e82_11ea_938b_000d3a8f5d7crow43_col0\" class=\"data row43 col0\" >2418</td>\n",
       "                        <td id=\"T_1b6ed5fc_9e82_11ea_938b_000d3a8f5d7crow43_col1\" class=\"data row43 col1\" >2672</td>\n",
       "                        <td id=\"T_1b6ed5fc_9e82_11ea_938b_000d3a8f5d7crow43_col2\" class=\"data row43 col2\" >(2515, 2995)</td>\n",
       "                        <td id=\"T_1b6ed5fc_9e82_11ea_938b_000d3a8f5d7crow43_col3\" class=\"data row43 col3\" >1.1</td>\n",
       "                        <td id=\"T_1b6ed5fc_9e82_11ea_938b_000d3a8f5d7crow43_col4\" class=\"data row43 col4\" >85935.3</td>\n",
       "                        <td id=\"T_1b6ed5fc_9e82_11ea_938b_000d3a8f5d7crow43_col5\" class=\"data row43 col5\" >3173.0</td>\n",
       "                        <td id=\"T_1b6ed5fc_9e82_11ea_938b_000d3a8f5d7crow43_col6\" class=\"data row43 col6\" >4%</td>\n",
       "            </tr>\n",
       "            <tr>\n",
       "                        <th id=\"T_1b6ed5fc_9e82_11ea_938b_000d3a8f5d7clevel0_row44\" class=\"row_heading level0 row44\" >ME</th>\n",
       "                        <td id=\"T_1b6ed5fc_9e82_11ea_938b_000d3a8f5d7crow44_col0\" class=\"data row44 col0\" >2055</td>\n",
       "                        <td id=\"T_1b6ed5fc_9e82_11ea_938b_000d3a8f5d7crow44_col1\" class=\"data row44 col1\" >2406</td>\n",
       "                        <td id=\"T_1b6ed5fc_9e82_11ea_938b_000d3a8f5d7crow44_col2\" class=\"data row44 col2\" >(2187, 2860)</td>\n",
       "                        <td id=\"T_1b6ed5fc_9e82_11ea_938b_000d3a8f5d7crow44_col3\" class=\"data row44 col3\" >1.2</td>\n",
       "                        <td id=\"T_1b6ed5fc_9e82_11ea_938b_000d3a8f5d7crow44_col4\" class=\"data row44 col4\" >27901.1</td>\n",
       "                        <td id=\"T_1b6ed5fc_9e82_11ea_938b_000d3a8f5d7crow44_col5\" class=\"data row44 col5\" >1528.8</td>\n",
       "                        <td id=\"T_1b6ed5fc_9e82_11ea_938b_000d3a8f5d7crow44_col6\" class=\"data row44 col6\" >5%</td>\n",
       "            </tr>\n",
       "            <tr>\n",
       "                        <th id=\"T_1b6ed5fc_9e82_11ea_938b_000d3a8f5d7clevel0_row45\" class=\"row_heading level0 row45\" >WV</th>\n",
       "                        <td id=\"T_1b6ed5fc_9e82_11ea_938b_000d3a8f5d7crow45_col0\" class=\"data row45 col0\" >1759</td>\n",
       "                        <td id=\"T_1b6ed5fc_9e82_11ea_938b_000d3a8f5d7crow45_col1\" class=\"data row45 col1\" >2001</td>\n",
       "                        <td id=\"T_1b6ed5fc_9e82_11ea_938b_000d3a8f5d7crow45_col2\" class=\"data row45 col2\" >(1851, 2326)</td>\n",
       "                        <td id=\"T_1b6ed5fc_9e82_11ea_938b_000d3a8f5d7crow45_col3\" class=\"data row45 col3\" >1.1</td>\n",
       "                        <td id=\"T_1b6ed5fc_9e82_11ea_938b_000d3a8f5d7crow45_col4\" class=\"data row45 col4\" >47816.4</td>\n",
       "                        <td id=\"T_1b6ed5fc_9e82_11ea_938b_000d3a8f5d7crow45_col5\" class=\"data row45 col5\" >981.5</td>\n",
       "                        <td id=\"T_1b6ed5fc_9e82_11ea_938b_000d3a8f5d7crow45_col6\" class=\"data row45 col6\" >2%</td>\n",
       "            </tr>\n",
       "            <tr>\n",
       "                        <th id=\"T_1b6ed5fc_9e82_11ea_938b_000d3a8f5d7clevel0_row46\" class=\"row_heading level0 row46\" >VT</th>\n",
       "                        <td id=\"T_1b6ed5fc_9e82_11ea_938b_000d3a8f5d7crow46_col0\" class=\"data row46 col0\" >956</td>\n",
       "                        <td id=\"T_1b6ed5fc_9e82_11ea_938b_000d3a8f5d7crow46_col1\" class=\"data row46 col1\" >1093</td>\n",
       "                        <td id=\"T_1b6ed5fc_9e82_11ea_938b_000d3a8f5d7crow46_col2\" class=\"data row46 col2\" >(1008, 1256)</td>\n",
       "                        <td id=\"T_1b6ed5fc_9e82_11ea_938b_000d3a8f5d7crow46_col3\" class=\"data row46 col3\" >1.1</td>\n",
       "                        <td id=\"T_1b6ed5fc_9e82_11ea_938b_000d3a8f5d7crow46_col4\" class=\"data row46 col4\" >45818.1</td>\n",
       "                        <td id=\"T_1b6ed5fc_9e82_11ea_938b_000d3a8f5d7crow46_col5\" class=\"data row46 col5\" >1532.1</td>\n",
       "                        <td id=\"T_1b6ed5fc_9e82_11ea_938b_000d3a8f5d7crow46_col6\" class=\"data row46 col6\" >3%</td>\n",
       "            </tr>\n",
       "            <tr>\n",
       "                        <th id=\"T_1b6ed5fc_9e82_11ea_938b_000d3a8f5d7clevel0_row47\" class=\"row_heading level0 row47\" >WY</th>\n",
       "                        <td id=\"T_1b6ed5fc_9e82_11ea_938b_000d3a8f5d7crow47_col0\" class=\"data row47 col0\" >813</td>\n",
       "                        <td id=\"T_1b6ed5fc_9e82_11ea_938b_000d3a8f5d7crow47_col1\" class=\"data row47 col1\" >937</td>\n",
       "                        <td id=\"T_1b6ed5fc_9e82_11ea_938b_000d3a8f5d7crow47_col2\" class=\"data row47 col2\" >(863, 1096)</td>\n",
       "                        <td id=\"T_1b6ed5fc_9e82_11ea_938b_000d3a8f5d7crow47_col3\" class=\"data row47 col3\" >1.2</td>\n",
       "                        <td id=\"T_1b6ed5fc_9e82_11ea_938b_000d3a8f5d7crow47_col4\" class=\"data row47 col4\" >34615.4</td>\n",
       "                        <td id=\"T_1b6ed5fc_9e82_11ea_938b_000d3a8f5d7crow47_col5\" class=\"data row47 col5\" >1404.7</td>\n",
       "                        <td id=\"T_1b6ed5fc_9e82_11ea_938b_000d3a8f5d7crow47_col6\" class=\"data row47 col6\" >4%</td>\n",
       "            </tr>\n",
       "            <tr>\n",
       "                        <th id=\"T_1b6ed5fc_9e82_11ea_938b_000d3a8f5d7clevel0_row48\" class=\"row_heading level0 row48\" >HI</th>\n",
       "                        <td id=\"T_1b6ed5fc_9e82_11ea_938b_000d3a8f5d7crow48_col0\" class=\"data row48 col0\" >643</td>\n",
       "                        <td id=\"T_1b6ed5fc_9e82_11ea_938b_000d3a8f5d7crow48_col1\" class=\"data row48 col1\" >745</td>\n",
       "                        <td id=\"T_1b6ed5fc_9e82_11ea_938b_000d3a8f5d7crow48_col2\" class=\"data row48 col2\" >(678, 884)</td>\n",
       "                        <td id=\"T_1b6ed5fc_9e82_11ea_938b_000d3a8f5d7crow48_col3\" class=\"data row48 col3\" >1.2</td>\n",
       "                        <td id=\"T_1b6ed5fc_9e82_11ea_938b_000d3a8f5d7crow48_col4\" class=\"data row48 col4\" >35011.6</td>\n",
       "                        <td id=\"T_1b6ed5fc_9e82_11ea_938b_000d3a8f5d7crow48_col5\" class=\"data row48 col5\" >454.1</td>\n",
       "                        <td id=\"T_1b6ed5fc_9e82_11ea_938b_000d3a8f5d7crow48_col6\" class=\"data row48 col6\" >1%</td>\n",
       "            </tr>\n",
       "            <tr>\n",
       "                        <th id=\"T_1b6ed5fc_9e82_11ea_938b_000d3a8f5d7clevel0_row49\" class=\"row_heading level0 row49\" >MT</th>\n",
       "                        <td id=\"T_1b6ed5fc_9e82_11ea_938b_000d3a8f5d7crow49_col0\" class=\"data row49 col0\" >479</td>\n",
       "                        <td id=\"T_1b6ed5fc_9e82_11ea_938b_000d3a8f5d7crow49_col1\" class=\"data row49 col1\" >556</td>\n",
       "                        <td id=\"T_1b6ed5fc_9e82_11ea_938b_000d3a8f5d7crow49_col2\" class=\"data row49 col2\" >(508, 666)</td>\n",
       "                        <td id=\"T_1b6ed5fc_9e82_11ea_938b_000d3a8f5d7crow49_col3\" class=\"data row49 col3\" >1.2</td>\n",
       "                        <td id=\"T_1b6ed5fc_9e82_11ea_938b_000d3a8f5d7crow49_col4\" class=\"data row49 col4\" >31232.9</td>\n",
       "                        <td id=\"T_1b6ed5fc_9e82_11ea_938b_000d3a8f5d7crow49_col5\" class=\"data row49 col5\" >448.2</td>\n",
       "                        <td id=\"T_1b6ed5fc_9e82_11ea_938b_000d3a8f5d7crow49_col6\" class=\"data row49 col6\" >1%</td>\n",
       "            </tr>\n",
       "            <tr>\n",
       "                        <th id=\"T_1b6ed5fc_9e82_11ea_938b_000d3a8f5d7clevel0_row50\" class=\"row_heading level0 row50\" >AK</th>\n",
       "                        <td id=\"T_1b6ed5fc_9e82_11ea_938b_000d3a8f5d7crow50_col0\" class=\"data row50 col0\" >408</td>\n",
       "                        <td id=\"T_1b6ed5fc_9e82_11ea_938b_000d3a8f5d7crow50_col1\" class=\"data row50 col1\" >459</td>\n",
       "                        <td id=\"T_1b6ed5fc_9e82_11ea_938b_000d3a8f5d7crow50_col2\" class=\"data row50 col2\" >(426, 525)</td>\n",
       "                        <td id=\"T_1b6ed5fc_9e82_11ea_938b_000d3a8f5d7crow50_col3\" class=\"data row50 col3\" >1.1</td>\n",
       "                        <td id=\"T_1b6ed5fc_9e82_11ea_938b_000d3a8f5d7crow50_col4\" class=\"data row50 col4\" >59472.8</td>\n",
       "                        <td id=\"T_1b6ed5fc_9e82_11ea_938b_000d3a8f5d7crow50_col5\" class=\"data row50 col5\" >557.7</td>\n",
       "                        <td id=\"T_1b6ed5fc_9e82_11ea_938b_000d3a8f5d7crow50_col6\" class=\"data row50 col6\" >1%</td>\n",
       "            </tr>\n",
       "    </tbody></table>"
      ],
      "text/plain": [
       "<pandas.io.formats.style.Styler at 0x7fabd17706a0>"
      ]
     },
     "execution_count": 7,
     "metadata": {},
     "output_type": "execute_result"
    }
   ],
   "source": [
    "#hide_input\n",
    "df_display.sort_values(\n",
    "    by='Est Cases', ascending=False).style.background_gradient(\n",
    "    cmap='Oranges').format(\n",
    "    {'Ratio': \"{:.1f}\"}).format(\n",
    "    {'Tests per Million': \"{:.1f}\"}).format(\n",
    "    {'Cases per Million': \"{:.1f}\"}).format(\n",
    "    {'Positive Test Rate': \"{:.0%}\"})"
   ]
  },
  {
   "cell_type": "code",
   "execution_count": 8,
   "metadata": {
    "execution": {
     "iopub.execute_input": "2020-05-25T12:20:23.761598Z",
     "iopub.status.busy": "2020-05-25T12:20:23.760995Z",
     "iopub.status.idle": "2020-05-25T12:20:24.409286Z",
     "shell.execute_reply": "2020-05-25T12:20:24.409779Z"
    },
    "papermill": {
     "duration": 0.956499,
     "end_time": "2020-05-25T12:20:24.409915",
     "exception": false,
     "start_time": "2020-05-25T12:20:23.453416",
     "status": "completed"
    },
    "tags": []
   },
   "outputs": [
    {
     "data": {
      "image/png": "[encoded data removed]",
      "text/plain": [
       "<Figure size 1080x1080 with 1 Axes>"
      ]
     },
     "metadata": {
      "needs_background": "light"
     },
     "output_type": "display_data"
    }
   ],
   "source": [
    "#hide_input\n",
    "\n",
    "df_plot = df_summary.copy(deep=True)\n",
    "\n",
    "# Compute predicted cases per million\n",
    "df_plot['predicted_counts_now_pm'] =  1e6 * (\n",
    "    df_pred['positive'] / prob_missing_now.mean(axis=0)) / df_pred['total_population']\n",
    "\n",
    "df_plot['predicted_counts_now_lower_pm'] = 1e6 * (\n",
    "    df_pred['positive'] / prob_missing_now.quantile(0.975, axis=0))/ df_pred['total_population']\n",
    "df_plot['predicted_counts_now_upper_pm'] = 1e6 * (\n",
    "    df_pred['positive'] / prob_missing_now.quantile(0.025, axis=0))/ df_pred['total_population']\n",
    "\n",
    "df_plot.sort_values('predicted_counts_now_pm', ascending=False, inplace=True)\n",
    "\n",
    "xerr = [\n",
    "    df_plot['predicted_counts_now_pm'] - df_plot['predicted_counts_now_lower_pm'], \n",
    "    df_plot['predicted_counts_now_upper_pm'] - df_plot['predicted_counts_now_pm']]\n",
    "\n",
    "fig, axs = plt.subplots(1, 1, figsize=(15, 15))\n",
    "ax = plt.errorbar(df_plot['predicted_counts_now_pm'], range(len(df_plot)-1, -1, -1),\n",
    "                  xerr=xerr, fmt='o', elinewidth=1, label='Estimate')\n",
    "ax = plt.yticks(range(len(df_plot)), df_plot.index[::-1])\n",
    "ax = plt.errorbar(df_plot['Cases per Million'], range(len(df_plot)-1, -1, -1),\n",
    "                  xerr=None, fmt='.', color='k', label='Reported')\n",
    "ax = plt.xlabel('COVID-19 Case Counts Per Million People', size=20)\n",
    "ax = plt.legend(fontsize='xx-large', loc=4)\n",
    "ax = plt.grid(linestyle='--', color='grey', axis='x')"
   ]
  },
  {
   "cell_type": "markdown",
   "metadata": {
    "papermill": {
     "duration": 0.287325,
     "end_time": "2020-05-25T12:20:25.003825",
     "exception": false,
     "start_time": "2020-05-25T12:20:24.716500",
     "status": "completed"
    },
    "tags": []
   },
   "source": [
    "## Appendix: Model Diagnostics \n",
    "\n",
    "### Derived relationship between Test Capacity and Case Under-reporting\n",
    "\n",
    "Plotted is the estimated relationship between test capacity (in terms of people per test -- larger = less testing) and the likelihood a COVID-19 case is reported (lower = more under-reporting of cases).\n",
    "\n",
    "The lines represent the posterior samples from our MCMC run (note the x-axis is plotted on a log scale).  The rug plot shows the current test capacity for each state (black '|') and the capacity one week ago (cyan '+').  For comparison, South Korea's testing capacity is currently at the very left of the graph (200 people per test)."
   ]
  },
  {
   "cell_type": "code",
   "execution_count": 9,
   "metadata": {
    "execution": {
     "iopub.execute_input": "2020-05-25T12:20:25.626073Z",
     "iopub.status.busy": "2020-05-25T12:20:25.624257Z",
     "iopub.status.idle": "2020-05-25T12:20:28.321141Z",
     "shell.execute_reply": "2020-05-25T12:20:28.320215Z"
    },
    "papermill": {
     "duration": 3.009765,
     "end_time": "2020-05-25T12:20:28.321266",
     "exception": false,
     "start_time": "2020-05-25T12:20:25.311501",
     "status": "completed"
    },
    "tags": []
   },
   "outputs": [
    {
     "data": {
      "image/png": "[encoded data removed]",
      "text/plain": [
       "<Figure size 1008x648 with 1 Axes>"
      ]
     },
     "metadata": {
      "needs_background": "light"
     },
     "output_type": "display_data"
    }
   ],
   "source": [
    "#hide_input\n",
    "\n",
    "# Plot pop/test vs. Prob of case detection for all posterior samples:\n",
    "x = np.linspace(0.0, 4.0, 101)\n",
    "logit_pcase = pd.DataFrame([\n",
    "    trace['alpha'][i] + trace['beta'][i] * x\n",
    "    for i in range(n)])\n",
    "pcase = np.exp(logit_pcase) / (np.exp(logit_pcase) + 1)\n",
    "\n",
    "fig, ax = plt.subplots(1, 1, figsize=(14, 9))\n",
    "for i in range(n):\n",
    "    ax = plt.plot(10**(ppt_sk + x), pcase.iloc[i], color='grey', lw=.1, alpha=.5)\n",
    "    plt.xscale('log')\n",
    "    plt.xlabel('State-wise population per test', size=14)\n",
    "    plt.ylabel('Probability a true case is detected', size=14)\n",
    "\n",
    "# rug plots:\n",
    "ax=plt.plot(df_pred['people_per_test'], np.zeros(len(df_pred)),\n",
    "            marker='|', color='k', ls='', ms=20,\n",
    "           label='U.S. State-wise Test Capacity Now')\n",
    "ax=plt.plot(df['people_per_test_7_days_ago'], np.zeros(len(df)),\n",
    "            marker='+', color='c', ls='', ms=10,\n",
    "           label='U.S. State-wise Test Capacity 7 Days Ago')\n",
    "ax = plt.legend(fontsize='x-large')"
   ]
  },
  {
   "cell_type": "markdown",
   "metadata": {
    "papermill": {
     "duration": 0.289951,
     "end_time": "2020-05-25T12:20:28.893724",
     "exception": false,
     "start_time": "2020-05-25T12:20:28.603773",
     "status": "completed"
    },
    "tags": []
   },
   "source": [
    "## About this Analysis\n",
    "\n",
    "This analysis was done by [Joseph Richards](https://twitter.com/joeyrichar).\n",
    "\n",
    "This project[^1] uses the testing rates per state from [https://covidtracking.com/](https://covidtracking.com/), which reports case counts and mortality by state.  This is used to **estimate the number of unreported (untested) COVID-19 cases in each U.S. state.**\n",
    "\n",
    "The analysis makes a few assumptions:\n",
    "\n",
    "1. The probability that a case is reported by a state is a function of the number of tests run per person in that state.  Hence the degree of under-reported cases is a function of tests run per capita.\n",
    "2. The underlying mortality rate is the same across every state.\n",
    "3. Patients take time to succumb to COVID-19, so the mortality counts *today* reflect the case counts *7 days ago*.  E.g., mortality rate = (cumulative deaths today) / (cumulative cases 7 days ago).\n",
    "\n",
    "The model attempts to find the most likely relationship between state-wise test volume (per capita) and under-reporting, such that the true underlying mortality rates between the individual states are as similar as possible.  The model simultaneously finds the most likely posterior distribution of mortality rates, the most likely *true* case count per state, and the test volume vs. case underreporting relationship.\n",
    "\n",
    "[^1]: Full details about the model are available at:  https://github.com/jwrichar/COVID19-mortality"
   ]
  }
 ],
 "metadata": {
  "kernelspec": {
   "display_name": "visualization-curriculum-gF8wUgMm",
   "language": "python",
   "name": "visualization-curriculum-gf8wugmm"
  },
  "language_info": {
   "codemirror_mode": {
    "name": "ipython",
    "version": 3
   },
   "file_extension": ".py",
   "mimetype": "text/x-python",
   "name": "python",
   "nbconvert_exporter": "python",
   "pygments_lexer": "ipython3",
   "version": "3.6.10"
  },
  "papermill": {
   "duration": 280.951063,
   "end_time": "2020-05-25T12:20:29.282415",
   "environment_variables": {},
   "exception": null,
   "input_path": "2020-03-18-case-count-estimation-us-states.ipynb",
   "output_path": "2020-03-18-case-count-estimation-us-states.ipynb",
   "parameters": {},
   "start_time": "2020-05-25T12:15:48.331352",
   "version": "2.0.0"
  }
 },
 "nbformat": 4,
 "nbformat_minor": 4
}