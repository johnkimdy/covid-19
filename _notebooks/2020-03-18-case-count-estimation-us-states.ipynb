{
 "cells": [
  {
   "cell_type": "markdown",
   "metadata": {
    "papermill": {
     "duration": 0.012076,
     "end_time": "2020-05-30T12:15:08.155852",
     "exception": false,
     "start_time": "2020-05-30T12:15:08.143776",
     "status": "completed"
    },
    "tags": []
   },
   "source": [
    "# How many cases of COVID-19 does each U.S. state really have?\n",
    "> Reported U.S. case counts are based on the number of administered tests. Since not everyone is tested, this number is biased. We use Bayesian techniques to estimate the true number of cases.\n",
    "\n",
    "- author: Joseph Richards\n",
    "- image: images/covid-state-case-estimation.png\n",
    "- hide: false\n",
    "- comments: true\n",
    "- categories: [MCMC, US, states, cases]\n",
    "- permalink: /covid-19-us-case-estimation/\n",
    "- toc: false"
   ]
  },
  {
   "cell_type": "markdown",
   "metadata": {
    "papermill": {
     "duration": 0.008282,
     "end_time": "2020-05-30T12:15:08.172943",
     "exception": false,
     "start_time": "2020-05-30T12:15:08.164661",
     "status": "completed"
    },
    "tags": []
   },
   "source": [
    "> Note: This dashboard contains the results of a predictive model. The author has tried to make it as accurate as possible. But the COVID-19 situation is changing quickly, and these models inevitably include some level of speculation."
   ]
  },
  {
   "cell_type": "code",
   "execution_count": 1,
   "metadata": {
    "execution": {
     "iopub.execute_input": "2020-05-30T12:15:08.198642Z",
     "iopub.status.busy": "2020-05-30T12:15:08.198087Z",
     "iopub.status.idle": "2020-05-30T12:15:09.676194Z",
     "shell.execute_reply": "2020-05-30T12:15:09.675645Z"
    },
    "papermill": {
     "duration": 1.494673,
     "end_time": "2020-05-30T12:15:09.676294",
     "exception": false,
     "start_time": "2020-05-30T12:15:08.181621",
     "status": "completed"
    },
    "tags": []
   },
   "outputs": [
    {
     "name": "stderr",
     "output_type": "stream",
     "text": [
      "WARNING (theano.tensor.blas): Using NumPy C-API based implementation for BLAS functions.\n"
     ]
    }
   ],
   "source": [
    "#hide\n",
    "\n",
    "# Setup and imports\n",
    "%matplotlib inline\n",
    "\n",
    "import warnings\n",
    "warnings.simplefilter('ignore')\n",
    "\n",
    "import matplotlib.pyplot as plt\n",
    "import numpy as np\n",
    "import pandas as pd\n",
    "import pymc3 as pm\n",
    "import requests\n",
    "\n",
    "from IPython.display import display, Markdown"
   ]
  },
  {
   "cell_type": "code",
   "execution_count": 2,
   "metadata": {
    "execution": {
     "iopub.execute_input": "2020-05-30T12:15:09.699732Z",
     "iopub.status.busy": "2020-05-30T12:15:09.694402Z",
     "iopub.status.idle": "2020-05-30T12:15:09.710799Z",
     "shell.execute_reply": "2020-05-30T12:15:09.710424Z"
    },
    "papermill": {
     "duration": 0.026867,
     "end_time": "2020-05-30T12:15:09.710881",
     "exception": false,
     "start_time": "2020-05-30T12:15:09.684014",
     "status": "completed"
    },
    "tags": []
   },
   "outputs": [],
   "source": [
    "#hide\n",
    "\n",
    "# Data utilities:\n",
    "\n",
    "def get_statewise_testing_data():\n",
    "    '''\n",
    "    Pull all statewise data required for model fitting and\n",
    "    prediction\n",
    "\n",
    "    Returns:\n",
    "    * df_out: DataFrame for model fitting where inclusion\n",
    "        requires testing data from 7 days ago\n",
    "    * df_pred: DataFrame for count prediction where inclusion\n",
    "        only requires testing data from today\n",
    "    '''\n",
    "\n",
    "    # Pull testing counts by state:\n",
    "    out = requests.get('https://covidtracking.com/api/states')\n",
    "    df_out = pd.DataFrame(out.json())\n",
    "    df_out.set_index('state', drop=True, inplace=True)\n",
    "\n",
    "    # Pull time-series of testing counts:\n",
    "    ts = requests.get('https://covidtracking.com/api/states/daily')\n",
    "    df_ts = pd.DataFrame(ts.json())\n",
    "\n",
    "    # Get data from last week\n",
    "    date_last_week = df_ts['date'].unique()[7]\n",
    "    df_ts_last_week = _get_test_counts(df_ts, df_out.index, date_last_week)\n",
    "    df_out['num_tests_7_days_ago'] = \\\n",
    "        (df_ts_last_week['positive'] + df_ts_last_week['negative'])\n",
    "    df_out['num_pos_7_days_ago'] = df_ts_last_week['positive']\n",
    "\n",
    "    # Get data from today:\n",
    "    df_out['num_tests_today'] = (df_out['positive'] + df_out['negative'])\n",
    "\n",
    "    # State population:\n",
    "    df_pop = pd.read_excel(('https://github.com/jwrichar/COVID19-mortality/blob/'\n",
    "                            'master/data/us_population_by_state_2019.xlsx?raw=true'),\n",
    "                           skiprows=2, skipfooter=5)\n",
    "    r = requests.get(('https://raw.githubusercontent.com/jwrichar/COVID19-mortality/'\n",
    "                      'master/data/us-state-name-abbr.json'))\n",
    "    state_name_abbr_lookup = r.json()\n",
    "    \n",
    "    df_pop.index = df_pop['Geographic Area'].apply(\n",
    "        lambda x: str(x).replace('.', '')).map(state_name_abbr_lookup)\n",
    "    df_pop = df_pop.loc[df_pop.index.dropna()]\n",
    "\n",
    "    df_out['total_population'] = df_pop['Total Resident\\nPopulation']\n",
    "\n",
    "    # Tests per million people, based on today's test coverage\n",
    "    df_out['tests_per_million'] = 1e6 * \\\n",
    "        (df_out['num_tests_today']) / df_out['total_population']\n",
    "    df_out['tests_per_million_7_days_ago'] = 1e6 * \\\n",
    "        (df_out['num_tests_7_days_ago']) / df_out['total_population']\n",
    "\n",
    "    # People per test:\n",
    "    df_out['people_per_test'] = 1e6 / df_out['tests_per_million']\n",
    "    df_out['people_per_test_7_days_ago'] = \\\n",
    "        1e6 / df_out['tests_per_million_7_days_ago']\n",
    "\n",
    "    # Drop states with messed up / missing data:\n",
    "    # Drop states with missing total pop:\n",
    "    to_drop_idx = df_out.index[df_out['total_population'].isnull()]\n",
    "    print('Dropping %i/%i states due to lack of population data: %s' %\n",
    "          (len(to_drop_idx), len(df_out), ', '.join(to_drop_idx)))\n",
    "    df_out.drop(to_drop_idx, axis=0, inplace=True)\n",
    "\n",
    "    df_pred = df_out.copy(deep=True)  # Prediction DataFrame\n",
    "\n",
    "    # Criteria for model fitting:\n",
    "    # Drop states with missing test count 7 days ago:\n",
    "    to_drop_idx = df_out.index[df_out['num_tests_7_days_ago'].isnull()]\n",
    "    print('Dropping %i/%i states due to lack of tests: %s' %\n",
    "          (len(to_drop_idx), len(df_out), ', '.join(to_drop_idx)))\n",
    "    df_out.drop(to_drop_idx, axis=0, inplace=True)\n",
    "    # Drop states with no cases 7 days ago:\n",
    "    to_drop_idx = df_out.index[df_out['num_pos_7_days_ago'] == 0]\n",
    "    print('Dropping %i/%i states due to lack of positive tests: %s' %\n",
    "          (len(to_drop_idx), len(df_out), ', '.join(to_drop_idx)))\n",
    "    df_out.drop(to_drop_idx, axis=0, inplace=True)\n",
    "\n",
    "    # Criteria for model prediction:\n",
    "    # Drop states with missing test count today:\n",
    "    to_drop_idx = df_pred.index[df_pred['num_tests_today'].isnull()]\n",
    "    print('Dropping %i/%i states in prediction data due to lack of tests: %s' %\n",
    "          (len(to_drop_idx), len(df_pred), ', '.join(to_drop_idx)))\n",
    "    df_pred.drop(to_drop_idx, axis=0, inplace=True)\n",
    "    # Cast counts to int\n",
    "    df_pred['negative'] = df_pred['negative'].astype(int)\n",
    "    df_pred['positive'] = df_pred['positive'].astype(int)\n",
    "\n",
    "    return df_out, df_pred\n",
    "\n",
    "def _get_test_counts(df_ts, state_list, date):\n",
    "\n",
    "    ts_list = []\n",
    "    for state in state_list:\n",
    "        state_ts = df_ts.loc[df_ts['state'] == state]\n",
    "        # Back-fill any gaps to avoid crap data gaps\n",
    "        state_ts.fillna(method='bfill', inplace=True)\n",
    "\n",
    "        record = state_ts.loc[df_ts['date'] == date]\n",
    "        ts_list.append(record)\n",
    "\n",
    "    df_ts = pd.concat(ts_list, ignore_index=True)\n",
    "    return df_ts.set_index('state', drop=True)\n"
   ]
  },
  {
   "cell_type": "code",
   "execution_count": 3,
   "metadata": {
    "execution": {
     "iopub.execute_input": "2020-05-30T12:15:09.739126Z",
     "iopub.status.busy": "2020-05-30T12:15:09.738528Z",
     "iopub.status.idle": "2020-05-30T12:15:09.740684Z",
     "shell.execute_reply": "2020-05-30T12:15:09.740309Z"
    },
    "papermill": {
     "duration": 0.020268,
     "end_time": "2020-05-30T12:15:09.740767",
     "exception": false,
     "start_time": "2020-05-30T12:15:09.720499",
     "status": "completed"
    },
    "tags": []
   },
   "outputs": [],
   "source": [
    "#hide\n",
    "\n",
    "# Model utilities\n",
    "\n",
    "def case_count_model_us_states(df):\n",
    "\n",
    "    # Normalize inputs in a way that is sensible:\n",
    "\n",
    "    # People per test: normalize to South Korea\n",
    "    # assuming S.K. testing is \"saturated\"\n",
    "    ppt_sk = np.log10(51500000. / 250000)\n",
    "    df['people_per_test_normalized'] = (\n",
    "        np.log10(df['people_per_test_7_days_ago']) - ppt_sk)\n",
    "\n",
    "    n = len(df)\n",
    "\n",
    "    # For each country, let:\n",
    "    # c_obs = number of observed cases\n",
    "    c_obs = df['num_pos_7_days_ago'].values\n",
    "    # c_star = number of true cases\n",
    "\n",
    "    # d_obs = number of observed deaths\n",
    "    d_obs = df[['death', 'num_pos_7_days_ago']].min(axis=1).values\n",
    "    # people per test\n",
    "    people_per_test = df['people_per_test_normalized'].values\n",
    "\n",
    "    covid_case_count_model = pm.Model()\n",
    "\n",
    "    with covid_case_count_model:\n",
    "\n",
    "        # Priors:\n",
    "        mu_0 = pm.Beta('mu_0', alpha=1, beta=100, testval=0.01)\n",
    "        # sig_0 = pm.Uniform('sig_0', lower=0.0, upper=mu_0 * (1 - mu_0))\n",
    "        alpha = pm.Bound(pm.Normal, lower=0.0)(\n",
    "            'alpha', mu=8, sigma=3, shape=1)\n",
    "        beta = pm.Bound(pm.Normal, upper=0.0)(\n",
    "            'beta', mu=-1, sigma=1, shape=1)\n",
    "        # beta = pm.Normal('beta', mu=0, sigma=1, shape=3)\n",
    "        sigma = pm.HalfNormal('sigma', sigma=0.5, testval=0.1)\n",
    "        # sigma_1 = pm.HalfNormal('sigma_1', sigma=2, testval=0.1)\n",
    "\n",
    "        # Model probability of case under-reporting as logistic regression:\n",
    "        mu_model_logit = alpha + beta * people_per_test\n",
    "        tau_logit = pm.Normal('tau_logit',\n",
    "                              mu=mu_model_logit,\n",
    "                              sigma=sigma,\n",
    "                              shape=n)\n",
    "        tau = np.exp(tau_logit) / (np.exp(tau_logit) + 1)\n",
    "\n",
    "        c_star = c_obs / tau\n",
    "\n",
    "        # Binomial likelihood:\n",
    "        d = pm.Binomial('d',\n",
    "                        n=c_star,\n",
    "                        p=mu_0,\n",
    "                        observed=d_obs)\n",
    "\n",
    "    return covid_case_count_model"
   ]
  },
  {
   "cell_type": "code",
   "execution_count": 4,
   "metadata": {
    "execution": {
     "iopub.execute_input": "2020-05-30T12:15:09.761789Z",
     "iopub.status.busy": "2020-05-30T12:15:09.761266Z",
     "iopub.status.idle": "2020-05-30T12:18:09.509540Z",
     "shell.execute_reply": "2020-05-30T12:18:09.509096Z"
    },
    "papermill": {
     "duration": 179.759796,
     "end_time": "2020-05-30T12:18:09.509645",
     "exception": false,
     "start_time": "2020-05-30T12:15:09.749849",
     "status": "completed"
    },
    "tags": []
   },
   "outputs": [
    {
     "name": "stdout",
     "output_type": "stream",
     "text": [
      "Dropping 4/56 states due to lack of population data: AS, GU, MP, VI\n",
      "Dropping 0/52 states due to lack of tests: \n",
      "Dropping 0/52 states due to lack of positive tests: \n",
      "Dropping 1/52 states in prediction data due to lack of tests: PR\n"
     ]
    },
    {
     "name": "stderr",
     "output_type": "stream",
     "text": [
      "Auto-assigning NUTS sampler...\n"
     ]
    },
    {
     "name": "stderr",
     "output_type": "stream",
     "text": [
      "Initializing NUTS using jitter+adapt_diag...\n"
     ]
    },
    {
     "name": "stderr",
     "output_type": "stream",
     "text": [
      "Sequential sampling (1 chains in 1 job)\n"
     ]
    },
    {
     "name": "stderr",
     "output_type": "stream",
     "text": [
      "NUTS: [tau_logit, sigma, beta, alpha, mu_0]\n"
     ]
    },
    {
     "name": "stderr",
     "output_type": "stream",
     "text": [
      "\r",
      "Sampling chain 0, 0 divergences:   0%|          | 0/1000 [00:00<?, ?it/s]"
     ]
    },
    {
     "name": "stderr",
     "output_type": "stream",
     "text": [
      "\r",
      "Sampling chain 0, 0 divergences:   0%|          | 1/1000 [00:00<15:52,  1.05it/s]"
     ]
    },
    {
     "name": "stderr",
     "output_type": "stream",
     "text": [
      "\r",
      "Sampling chain 0, 0 divergences:   1%|          | 12/1000 [00:01<11:03,  1.49it/s]"
     ]
    },
    {
     "name": "stderr",
     "output_type": "stream",
     "text": [
      "\r",
      "Sampling chain 0, 0 divergences:   2%|▏         | 15/1000 [00:01<07:53,  2.08it/s]"
     ]
    },
    {
     "name": "stderr",
     "output_type": "stream",
     "text": [
      "\r",
      "Sampling chain 0, 0 divergences:   2%|▏         | 18/1000 [00:01<05:40,  2.88it/s]"
     ]
    },
    {
     "name": "stderr",
     "output_type": "stream",
     "text": [
      "\r",
      "Sampling chain 0, 0 divergences:   2%|▏         | 21/1000 [00:01<04:08,  3.93it/s]"
     ]
    },
    {
     "name": "stderr",
     "output_type": "stream",
     "text": [
      "\r",
      "Sampling chain 0, 0 divergences:   2%|▏         | 24/1000 [00:01<03:03,  5.31it/s]"
     ]
    },
    {
     "name": "stderr",
     "output_type": "stream",
     "text": [
      "\r",
      "Sampling chain 0, 0 divergences:   3%|▎         | 27/1000 [00:01<02:18,  7.04it/s]"
     ]
    },
    {
     "name": "stderr",
     "output_type": "stream",
     "text": [
      "\r",
      "Sampling chain 0, 0 divergences:   3%|▎         | 30/1000 [00:01<01:46,  9.07it/s]"
     ]
    },
    {
     "name": "stderr",
     "output_type": "stream",
     "text": [
      "\r",
      "Sampling chain 0, 0 divergences:   3%|▎         | 33/1000 [00:01<01:27, 11.11it/s]"
     ]
    },
    {
     "name": "stderr",
     "output_type": "stream",
     "text": [
      "\r",
      "Sampling chain 0, 0 divergences:   4%|▎         | 36/1000 [00:01<01:13, 13.20it/s]"
     ]
    },
    {
     "name": "stderr",
     "output_type": "stream",
     "text": [
      "\r",
      "Sampling chain 0, 0 divergences:   4%|▍         | 39/1000 [00:02<01:01, 15.54it/s]"
     ]
    },
    {
     "name": "stderr",
     "output_type": "stream",
     "text": [
      "\r",
      "Sampling chain 0, 0 divergences:   4%|▍         | 42/1000 [00:02<00:52, 18.08it/s]"
     ]
    },
    {
     "name": "stderr",
     "output_type": "stream",
     "text": [
      "\r",
      "Sampling chain 0, 0 divergences:   4%|▍         | 45/1000 [00:02<00:46, 20.40it/s]"
     ]
    },
    {
     "name": "stderr",
     "output_type": "stream",
     "text": [
      "\r",
      "Sampling chain 0, 0 divergences:   5%|▍         | 48/1000 [00:02<00:43, 22.08it/s]"
     ]
    },
    {
     "name": "stderr",
     "output_type": "stream",
     "text": [
      "\r",
      "Sampling chain 0, 0 divergences:   5%|▌         | 51/1000 [00:02<00:40, 23.61it/s]"
     ]
    },
    {
     "name": "stderr",
     "output_type": "stream",
     "text": [
      "\r",
      "Sampling chain 0, 0 divergences:   5%|▌         | 54/1000 [00:02<00:38, 24.34it/s]"
     ]
    },
    {
     "name": "stderr",
     "output_type": "stream",
     "text": [
      "\r",
      "Sampling chain 0, 0 divergences:   6%|▌         | 57/1000 [00:02<00:37, 25.23it/s]"
     ]
    },
    {
     "name": "stderr",
     "output_type": "stream",
     "text": [
      "\r",
      "Sampling chain 0, 0 divergences:   6%|▌         | 60/1000 [00:02<00:37, 25.39it/s]"
     ]
    },
    {
     "name": "stderr",
     "output_type": "stream",
     "text": [
      "\r",
      "Sampling chain 0, 0 divergences:   6%|▋         | 63/1000 [00:02<00:36, 25.94it/s]"
     ]
    },
    {
     "name": "stderr",
     "output_type": "stream",
     "text": [
      "\r",
      "Sampling chain 0, 0 divergences:   7%|▋         | 66/1000 [00:03<00:35, 26.66it/s]"
     ]
    },
    {
     "name": "stderr",
     "output_type": "stream",
     "text": [
      "\r",
      "Sampling chain 0, 0 divergences:   7%|▋         | 69/1000 [00:03<00:34, 27.03it/s]"
     ]
    },
    {
     "name": "stderr",
     "output_type": "stream",
     "text": [
      "\r",
      "Sampling chain 0, 0 divergences:   7%|▋         | 72/1000 [00:03<00:33, 27.31it/s]"
     ]
    },
    {
     "name": "stderr",
     "output_type": "stream",
     "text": [
      "\r",
      "Sampling chain 0, 0 divergences:   8%|▊         | 75/1000 [00:03<00:34, 26.96it/s]"
     ]
    },
    {
     "name": "stderr",
     "output_type": "stream",
     "text": [
      "\r",
      "Sampling chain 0, 0 divergences:   8%|▊         | 78/1000 [00:03<00:34, 26.93it/s]"
     ]
    },
    {
     "name": "stderr",
     "output_type": "stream",
     "text": [
      "\r",
      "Sampling chain 0, 0 divergences:   8%|▊         | 81/1000 [00:03<00:34, 26.69it/s]"
     ]
    },
    {
     "name": "stderr",
     "output_type": "stream",
     "text": [
      "\r",
      "Sampling chain 0, 0 divergences:   8%|▊         | 84/1000 [00:03<00:34, 26.89it/s]"
     ]
    },
    {
     "name": "stderr",
     "output_type": "stream",
     "text": [
      "\r",
      "Sampling chain 0, 0 divergences:   9%|▊         | 87/1000 [00:03<00:33, 27.34it/s]"
     ]
    },
    {
     "name": "stderr",
     "output_type": "stream",
     "text": [
      "\r",
      "Sampling chain 0, 0 divergences:   9%|▉         | 90/1000 [00:03<00:33, 27.56it/s]"
     ]
    },
    {
     "name": "stderr",
     "output_type": "stream",
     "text": [
      "\r",
      "Sampling chain 0, 0 divergences:   9%|▉         | 93/1000 [00:04<00:33, 27.47it/s]"
     ]
    },
    {
     "name": "stderr",
     "output_type": "stream",
     "text": [
      "\r",
      "Sampling chain 0, 0 divergences:  10%|▉         | 96/1000 [00:04<00:32, 27.81it/s]"
     ]
    },
    {
     "name": "stderr",
     "output_type": "stream",
     "text": [
      "\r",
      "Sampling chain 0, 0 divergences:  10%|▉         | 99/1000 [00:04<00:32, 28.14it/s]"
     ]
    },
    {
     "name": "stderr",
     "output_type": "stream",
     "text": [
      "\r",
      "Sampling chain 0, 0 divergences:  10%|█         | 102/1000 [00:04<00:32, 27.76it/s]"
     ]
    },
    {
     "name": "stderr",
     "output_type": "stream",
     "text": [
      "\r",
      "Sampling chain 0, 0 divergences:  10%|█         | 105/1000 [00:04<00:31, 28.32it/s]"
     ]
    },
    {
     "name": "stderr",
     "output_type": "stream",
     "text": [
      "\r",
      "Sampling chain 0, 0 divergences:  11%|█         | 108/1000 [00:04<00:31, 28.24it/s]"
     ]
    },
    {
     "name": "stderr",
     "output_type": "stream",
     "text": [
      "\r",
      "Sampling chain 0, 0 divergences:  11%|█         | 111/1000 [00:04<00:31, 28.65it/s]"
     ]
    },
    {
     "name": "stderr",
     "output_type": "stream",
     "text": [
      "\r",
      "Sampling chain 0, 0 divergences:  11%|█▏        | 114/1000 [00:04<00:31, 28.32it/s]"
     ]
    },
    {
     "name": "stderr",
     "output_type": "stream",
     "text": [
      "\r",
      "Sampling chain 0, 0 divergences:  12%|█▏        | 117/1000 [00:04<00:32, 27.57it/s]"
     ]
    },
    {
     "name": "stderr",
     "output_type": "stream",
     "text": [
      "\r",
      "Sampling chain 0, 0 divergences:  12%|█▏        | 120/1000 [00:05<00:31, 27.55it/s]"
     ]
    },
    {
     "name": "stderr",
     "output_type": "stream",
     "text": [
      "\r",
      "Sampling chain 0, 0 divergences:  12%|█▏        | 123/1000 [00:05<00:31, 27.67it/s]"
     ]
    },
    {
     "name": "stderr",
     "output_type": "stream",
     "text": [
      "\r",
      "Sampling chain 0, 0 divergences:  13%|█▎        | 126/1000 [00:05<00:31, 27.71it/s]"
     ]
    },
    {
     "name": "stderr",
     "output_type": "stream",
     "text": [
      "\r",
      "Sampling chain 0, 0 divergences:  13%|█▎        | 129/1000 [00:05<00:31, 27.55it/s]"
     ]
    },
    {
     "name": "stderr",
     "output_type": "stream",
     "text": [
      "\r",
      "Sampling chain 0, 0 divergences:  13%|█▎        | 132/1000 [00:05<00:32, 26.72it/s]"
     ]
    },
    {
     "name": "stderr",
     "output_type": "stream",
     "text": [
      "\r",
      "Sampling chain 0, 0 divergences:  14%|█▎        | 135/1000 [00:05<00:31, 27.27it/s]"
     ]
    },
    {
     "name": "stderr",
     "output_type": "stream",
     "text": [
      "\r",
      "Sampling chain 0, 0 divergences:  14%|█▍        | 138/1000 [00:05<00:30, 27.92it/s]"
     ]
    },
    {
     "name": "stderr",
     "output_type": "stream",
     "text": [
      "\r",
      "Sampling chain 0, 0 divergences:  14%|█▍        | 141/1000 [00:05<00:30, 28.21it/s]"
     ]
    },
    {
     "name": "stderr",
     "output_type": "stream",
     "text": [
      "\r",
      "Sampling chain 0, 0 divergences:  14%|█▍        | 144/1000 [00:05<00:30, 27.90it/s]"
     ]
    },
    {
     "name": "stderr",
     "output_type": "stream",
     "text": [
      "\r",
      "Sampling chain 0, 0 divergences:  15%|█▍        | 147/1000 [00:05<00:30, 28.12it/s]"
     ]
    },
    {
     "name": "stderr",
     "output_type": "stream",
     "text": [
      "\r",
      "Sampling chain 0, 0 divergences:  15%|█▌        | 150/1000 [00:06<00:29, 28.51it/s]"
     ]
    },
    {
     "name": "stderr",
     "output_type": "stream",
     "text": [
      "\r",
      "Sampling chain 0, 0 divergences:  15%|█▌        | 153/1000 [00:06<00:29, 28.44it/s]"
     ]
    },
    {
     "name": "stderr",
     "output_type": "stream",
     "text": [
      "\r",
      "Sampling chain 0, 0 divergences:  16%|█▌        | 156/1000 [00:06<00:29, 28.23it/s]"
     ]
    },
    {
     "name": "stderr",
     "output_type": "stream",
     "text": [
      "\r",
      "Sampling chain 0, 0 divergences:  16%|█▌        | 159/1000 [00:06<00:30, 27.83it/s]"
     ]
    },
    {
     "name": "stderr",
     "output_type": "stream",
     "text": [
      "\r",
      "Sampling chain 0, 0 divergences:  16%|█▌        | 162/1000 [00:06<00:29, 28.34it/s]"
     ]
    },
    {
     "name": "stderr",
     "output_type": "stream",
     "text": [
      "\r",
      "Sampling chain 0, 0 divergences:  16%|█▋        | 165/1000 [00:06<00:29, 28.49it/s]"
     ]
    },
    {
     "name": "stderr",
     "output_type": "stream",
     "text": [
      "\r",
      "Sampling chain 0, 0 divergences:  17%|█▋        | 168/1000 [00:06<00:28, 28.83it/s]"
     ]
    },
    {
     "name": "stderr",
     "output_type": "stream",
     "text": [
      "\r",
      "Sampling chain 0, 0 divergences:  17%|█▋        | 171/1000 [00:06<00:29, 28.55it/s]"
     ]
    },
    {
     "name": "stderr",
     "output_type": "stream",
     "text": [
      "\r",
      "Sampling chain 0, 0 divergences:  17%|█▋        | 174/1000 [00:06<00:29, 28.10it/s]"
     ]
    },
    {
     "name": "stderr",
     "output_type": "stream",
     "text": [
      "\r",
      "Sampling chain 0, 0 divergences:  18%|█▊        | 177/1000 [00:07<00:30, 26.86it/s]"
     ]
    },
    {
     "name": "stderr",
     "output_type": "stream",
     "text": [
      "\r",
      "Sampling chain 0, 0 divergences:  18%|█▊        | 180/1000 [00:07<00:31, 26.15it/s]"
     ]
    },
    {
     "name": "stderr",
     "output_type": "stream",
     "text": [
      "\r",
      "Sampling chain 0, 0 divergences:  18%|█▊        | 183/1000 [00:07<00:31, 26.21it/s]"
     ]
    },
    {
     "name": "stderr",
     "output_type": "stream",
     "text": [
      "\r",
      "Sampling chain 0, 0 divergences:  19%|█▊        | 186/1000 [00:07<00:30, 26.33it/s]"
     ]
    },
    {
     "name": "stderr",
     "output_type": "stream",
     "text": [
      "\r",
      "Sampling chain 0, 0 divergences:  19%|█▉        | 189/1000 [00:07<00:30, 26.65it/s]"
     ]
    },
    {
     "name": "stderr",
     "output_type": "stream",
     "text": [
      "\r",
      "Sampling chain 0, 0 divergences:  19%|█▉        | 192/1000 [00:07<00:30, 26.62it/s]"
     ]
    },
    {
     "name": "stderr",
     "output_type": "stream",
     "text": [
      "\r",
      "Sampling chain 0, 0 divergences:  20%|█▉        | 195/1000 [00:07<00:29, 27.08it/s]"
     ]
    },
    {
     "name": "stderr",
     "output_type": "stream",
     "text": [
      "\r",
      "Sampling chain 0, 0 divergences:  20%|█▉        | 198/1000 [00:07<00:30, 26.60it/s]"
     ]
    },
    {
     "name": "stderr",
     "output_type": "stream",
     "text": [
      "\r",
      "Sampling chain 0, 0 divergences:  20%|██        | 201/1000 [00:08<00:38, 20.99it/s]"
     ]
    },
    {
     "name": "stderr",
     "output_type": "stream",
     "text": [
      "\r",
      "Sampling chain 0, 0 divergences:  20%|██        | 204/1000 [00:08<00:58, 13.54it/s]"
     ]
    },
    {
     "name": "stderr",
     "output_type": "stream",
     "text": [
      "\r",
      "Sampling chain 0, 0 divergences:  21%|██        | 206/1000 [00:08<01:17, 10.22it/s]"
     ]
    },
    {
     "name": "stderr",
     "output_type": "stream",
     "text": [
      "\r",
      "Sampling chain 0, 0 divergences:  21%|██        | 208/1000 [00:09<01:28,  8.97it/s]"
     ]
    },
    {
     "name": "stderr",
     "output_type": "stream",
     "text": [
      "\r",
      "Sampling chain 0, 0 divergences:  21%|██        | 210/1000 [00:09<01:33,  8.45it/s]"
     ]
    },
    {
     "name": "stderr",
     "output_type": "stream",
     "text": [
      "\r",
      "Sampling chain 0, 0 divergences:  21%|██        | 212/1000 [00:09<01:40,  7.86it/s]"
     ]
    },
    {
     "name": "stderr",
     "output_type": "stream",
     "text": [
      "\r",
      "Sampling chain 0, 0 divergences:  21%|██▏       | 213/1000 [00:09<01:43,  7.60it/s]"
     ]
    },
    {
     "name": "stderr",
     "output_type": "stream",
     "text": [
      "\r",
      "Sampling chain 0, 0 divergences:  21%|██▏       | 214/1000 [00:09<01:44,  7.55it/s]"
     ]
    },
    {
     "name": "stderr",
     "output_type": "stream",
     "text": [
      "\r",
      "Sampling chain 0, 0 divergences:  22%|██▏       | 215/1000 [00:10<01:48,  7.21it/s]"
     ]
    },
    {
     "name": "stderr",
     "output_type": "stream",
     "text": [
      "\r",
      "Sampling chain 0, 0 divergences:  22%|██▏       | 216/1000 [00:10<01:51,  7.03it/s]"
     ]
    },
    {
     "name": "stderr",
     "output_type": "stream",
     "text": [
      "\r",
      "Sampling chain 0, 0 divergences:  22%|██▏       | 217/1000 [00:10<01:52,  6.99it/s]"
     ]
    },
    {
     "name": "stderr",
     "output_type": "stream",
     "text": [
      "\r",
      "Sampling chain 0, 0 divergences:  22%|██▏       | 218/1000 [00:10<01:53,  6.91it/s]"
     ]
    },
    {
     "name": "stderr",
     "output_type": "stream",
     "text": [
      "\r",
      "Sampling chain 0, 0 divergences:  22%|██▏       | 219/1000 [00:10<01:49,  7.14it/s]"
     ]
    },
    {
     "name": "stderr",
     "output_type": "stream",
     "text": [
      "\r",
      "Sampling chain 0, 0 divergences:  22%|██▏       | 220/1000 [00:10<01:48,  7.22it/s]"
     ]
    },
    {
     "name": "stderr",
     "output_type": "stream",
     "text": [
      "\r",
      "Sampling chain 0, 0 divergences:  22%|██▏       | 221/1000 [00:10<01:49,  7.09it/s]"
     ]
    },
    {
     "name": "stderr",
     "output_type": "stream",
     "text": [
      "\r",
      "Sampling chain 0, 0 divergences:  22%|██▏       | 222/1000 [00:11<01:50,  7.01it/s]"
     ]
    },
    {
     "name": "stderr",
     "output_type": "stream",
     "text": [
      "\r",
      "Sampling chain 0, 0 divergences:  22%|██▏       | 223/1000 [00:11<01:49,  7.08it/s]"
     ]
    },
    {
     "name": "stderr",
     "output_type": "stream",
     "text": [
      "\r",
      "Sampling chain 0, 0 divergences:  22%|██▏       | 224/1000 [00:11<01:47,  7.23it/s]"
     ]
    },
    {
     "name": "stderr",
     "output_type": "stream",
     "text": [
      "\r",
      "Sampling chain 0, 0 divergences:  22%|██▎       | 225/1000 [00:11<01:48,  7.17it/s]"
     ]
    },
    {
     "name": "stderr",
     "output_type": "stream",
     "text": [
      "\r",
      "Sampling chain 0, 0 divergences:  23%|██▎       | 226/1000 [00:11<01:47,  7.20it/s]"
     ]
    },
    {
     "name": "stderr",
     "output_type": "stream",
     "text": [
      "\r",
      "Sampling chain 0, 0 divergences:  23%|██▎       | 227/1000 [00:11<01:45,  7.36it/s]"
     ]
    },
    {
     "name": "stderr",
     "output_type": "stream",
     "text": [
      "\r",
      "Sampling chain 0, 0 divergences:  23%|██▎       | 228/1000 [00:11<01:46,  7.26it/s]"
     ]
    },
    {
     "name": "stderr",
     "output_type": "stream",
     "text": [
      "\r",
      "Sampling chain 0, 0 divergences:  23%|██▎       | 229/1000 [00:12<01:50,  6.96it/s]"
     ]
    },
    {
     "name": "stderr",
     "output_type": "stream",
     "text": [
      "\r",
      "Sampling chain 0, 0 divergences:  23%|██▎       | 230/1000 [00:12<01:51,  6.93it/s]"
     ]
    },
    {
     "name": "stderr",
     "output_type": "stream",
     "text": [
      "\r",
      "Sampling chain 0, 0 divergences:  23%|██▎       | 231/1000 [00:12<01:48,  7.09it/s]"
     ]
    },
    {
     "name": "stderr",
     "output_type": "stream",
     "text": [
      "\r",
      "Sampling chain 0, 0 divergences:  23%|██▎       | 232/1000 [00:12<01:46,  7.20it/s]"
     ]
    },
    {
     "name": "stderr",
     "output_type": "stream",
     "text": [
      "\r",
      "Sampling chain 0, 0 divergences:  23%|██▎       | 233/1000 [00:12<01:44,  7.36it/s]"
     ]
    },
    {
     "name": "stderr",
     "output_type": "stream",
     "text": [
      "\r",
      "Sampling chain 0, 0 divergences:  23%|██▎       | 234/1000 [00:12<01:41,  7.56it/s]"
     ]
    },
    {
     "name": "stderr",
     "output_type": "stream",
     "text": [
      "\r",
      "Sampling chain 0, 0 divergences:  24%|██▎       | 235/1000 [00:12<01:42,  7.49it/s]"
     ]
    },
    {
     "name": "stderr",
     "output_type": "stream",
     "text": [
      "\r",
      "Sampling chain 0, 0 divergences:  24%|██▎       | 236/1000 [00:13<01:45,  7.25it/s]"
     ]
    },
    {
     "name": "stderr",
     "output_type": "stream",
     "text": [
      "\r",
      "Sampling chain 0, 0 divergences:  24%|██▎       | 237/1000 [00:13<01:42,  7.41it/s]"
     ]
    },
    {
     "name": "stderr",
     "output_type": "stream",
     "text": [
      "\r",
      "Sampling chain 0, 0 divergences:  24%|██▍       | 238/1000 [00:13<01:44,  7.27it/s]"
     ]
    },
    {
     "name": "stderr",
     "output_type": "stream",
     "text": [
      "\r",
      "Sampling chain 0, 0 divergences:  24%|██▍       | 239/1000 [00:13<01:42,  7.39it/s]"
     ]
    },
    {
     "name": "stderr",
     "output_type": "stream",
     "text": [
      "\r",
      "Sampling chain 0, 0 divergences:  24%|██▍       | 240/1000 [00:13<01:43,  7.36it/s]"
     ]
    },
    {
     "name": "stderr",
     "output_type": "stream",
     "text": [
      "\r",
      "Sampling chain 0, 0 divergences:  24%|██▍       | 241/1000 [00:13<01:41,  7.47it/s]"
     ]
    },
    {
     "name": "stderr",
     "output_type": "stream",
     "text": [
      "\r",
      "Sampling chain 0, 0 divergences:  24%|██▍       | 242/1000 [00:13<01:44,  7.25it/s]"
     ]
    },
    {
     "name": "stderr",
     "output_type": "stream",
     "text": [
      "\r",
      "Sampling chain 0, 0 divergences:  24%|██▍       | 243/1000 [00:13<01:44,  7.21it/s]"
     ]
    },
    {
     "name": "stderr",
     "output_type": "stream",
     "text": [
      "\r",
      "Sampling chain 0, 0 divergences:  24%|██▍       | 244/1000 [00:14<01:46,  7.08it/s]"
     ]
    },
    {
     "name": "stderr",
     "output_type": "stream",
     "text": [
      "\r",
      "Sampling chain 0, 0 divergences:  24%|██▍       | 245/1000 [00:14<01:46,  7.09it/s]"
     ]
    },
    {
     "name": "stderr",
     "output_type": "stream",
     "text": [
      "\r",
      "Sampling chain 0, 0 divergences:  25%|██▍       | 246/1000 [00:14<01:46,  7.08it/s]"
     ]
    },
    {
     "name": "stderr",
     "output_type": "stream",
     "text": [
      "\r",
      "Sampling chain 0, 0 divergences:  25%|██▍       | 247/1000 [00:14<01:46,  7.08it/s]"
     ]
    },
    {
     "name": "stderr",
     "output_type": "stream",
     "text": [
      "\r",
      "Sampling chain 0, 0 divergences:  25%|██▍       | 248/1000 [00:14<01:47,  7.01it/s]"
     ]
    },
    {
     "name": "stderr",
     "output_type": "stream",
     "text": [
      "\r",
      "Sampling chain 0, 0 divergences:  25%|██▍       | 249/1000 [00:14<01:48,  6.94it/s]"
     ]
    },
    {
     "name": "stderr",
     "output_type": "stream",
     "text": [
      "\r",
      "Sampling chain 0, 0 divergences:  25%|██▌       | 250/1000 [00:14<01:50,  6.79it/s]"
     ]
    },
    {
     "name": "stderr",
     "output_type": "stream",
     "text": [
      "\r",
      "Sampling chain 0, 0 divergences:  25%|██▌       | 251/1000 [00:15<01:48,  6.89it/s]"
     ]
    },
    {
     "name": "stderr",
     "output_type": "stream",
     "text": [
      "\r",
      "Sampling chain 0, 0 divergences:  25%|██▌       | 252/1000 [00:15<01:51,  6.71it/s]"
     ]
    },
    {
     "name": "stderr",
     "output_type": "stream",
     "text": [
      "\r",
      "Sampling chain 0, 0 divergences:  25%|██▌       | 253/1000 [00:15<01:49,  6.83it/s]"
     ]
    },
    {
     "name": "stderr",
     "output_type": "stream",
     "text": [
      "\r",
      "Sampling chain 0, 0 divergences:  25%|██▌       | 254/1000 [00:15<01:46,  7.01it/s]"
     ]
    },
    {
     "name": "stderr",
     "output_type": "stream",
     "text": [
      "\r",
      "Sampling chain 0, 0 divergences:  26%|██▌       | 255/1000 [00:15<01:42,  7.30it/s]"
     ]
    },
    {
     "name": "stderr",
     "output_type": "stream",
     "text": [
      "\r",
      "Sampling chain 0, 0 divergences:  26%|██▌       | 256/1000 [00:15<01:43,  7.16it/s]"
     ]
    },
    {
     "name": "stderr",
     "output_type": "stream",
     "text": [
      "\r",
      "Sampling chain 0, 0 divergences:  26%|██▌       | 257/1000 [00:15<01:43,  7.15it/s]"
     ]
    },
    {
     "name": "stderr",
     "output_type": "stream",
     "text": [
      "\r",
      "Sampling chain 0, 0 divergences:  26%|██▌       | 258/1000 [00:16<01:44,  7.10it/s]"
     ]
    },
    {
     "name": "stderr",
     "output_type": "stream",
     "text": [
      "\r",
      "Sampling chain 0, 0 divergences:  26%|██▌       | 259/1000 [00:16<01:41,  7.29it/s]"
     ]
    },
    {
     "name": "stderr",
     "output_type": "stream",
     "text": [
      "\r",
      "Sampling chain 0, 0 divergences:  26%|██▌       | 260/1000 [00:16<01:38,  7.48it/s]"
     ]
    },
    {
     "name": "stderr",
     "output_type": "stream",
     "text": [
      "\r",
      "Sampling chain 0, 0 divergences:  26%|██▌       | 261/1000 [00:16<01:39,  7.41it/s]"
     ]
    },
    {
     "name": "stderr",
     "output_type": "stream",
     "text": [
      "\r",
      "Sampling chain 0, 0 divergences:  26%|██▌       | 262/1000 [00:16<01:41,  7.24it/s]"
     ]
    },
    {
     "name": "stderr",
     "output_type": "stream",
     "text": [
      "\r",
      "Sampling chain 0, 0 divergences:  26%|██▋       | 263/1000 [00:16<01:42,  7.16it/s]"
     ]
    },
    {
     "name": "stderr",
     "output_type": "stream",
     "text": [
      "\r",
      "Sampling chain 0, 0 divergences:  26%|██▋       | 264/1000 [00:16<01:44,  7.06it/s]"
     ]
    },
    {
     "name": "stderr",
     "output_type": "stream",
     "text": [
      "\r",
      "Sampling chain 0, 0 divergences:  26%|██▋       | 265/1000 [00:17<01:46,  6.90it/s]"
     ]
    },
    {
     "name": "stderr",
     "output_type": "stream",
     "text": [
      "\r",
      "Sampling chain 0, 0 divergences:  27%|██▋       | 266/1000 [00:17<01:48,  6.77it/s]"
     ]
    },
    {
     "name": "stderr",
     "output_type": "stream",
     "text": [
      "\r",
      "Sampling chain 0, 0 divergences:  27%|██▋       | 267/1000 [00:17<01:49,  6.70it/s]"
     ]
    },
    {
     "name": "stderr",
     "output_type": "stream",
     "text": [
      "\r",
      "Sampling chain 0, 0 divergences:  27%|██▋       | 268/1000 [00:17<01:51,  6.58it/s]"
     ]
    },
    {
     "name": "stderr",
     "output_type": "stream",
     "text": [
      "\r",
      "Sampling chain 0, 0 divergences:  27%|██▋       | 269/1000 [00:17<01:53,  6.45it/s]"
     ]
    },
    {
     "name": "stderr",
     "output_type": "stream",
     "text": [
      "\r",
      "Sampling chain 0, 0 divergences:  27%|██▋       | 270/1000 [00:17<01:53,  6.40it/s]"
     ]
    },
    {
     "name": "stderr",
     "output_type": "stream",
     "text": [
      "\r",
      "Sampling chain 0, 0 divergences:  27%|██▋       | 271/1000 [00:18<01:58,  6.14it/s]"
     ]
    },
    {
     "name": "stderr",
     "output_type": "stream",
     "text": [
      "\r",
      "Sampling chain 0, 0 divergences:  27%|██▋       | 272/1000 [00:18<01:57,  6.19it/s]"
     ]
    },
    {
     "name": "stderr",
     "output_type": "stream",
     "text": [
      "\r",
      "Sampling chain 0, 0 divergences:  27%|██▋       | 273/1000 [00:18<01:56,  6.24it/s]"
     ]
    },
    {
     "name": "stderr",
     "output_type": "stream",
     "text": [
      "\r",
      "Sampling chain 0, 0 divergences:  27%|██▋       | 274/1000 [00:18<01:55,  6.30it/s]"
     ]
    },
    {
     "name": "stderr",
     "output_type": "stream",
     "text": [
      "\r",
      "Sampling chain 0, 0 divergences:  28%|██▊       | 275/1000 [00:18<01:53,  6.38it/s]"
     ]
    },
    {
     "name": "stderr",
     "output_type": "stream",
     "text": [
      "\r",
      "Sampling chain 0, 0 divergences:  28%|██▊       | 276/1000 [00:18<01:53,  6.40it/s]"
     ]
    },
    {
     "name": "stderr",
     "output_type": "stream",
     "text": [
      "\r",
      "Sampling chain 0, 0 divergences:  28%|██▊       | 277/1000 [00:18<01:50,  6.56it/s]"
     ]
    },
    {
     "name": "stderr",
     "output_type": "stream",
     "text": [
      "\r",
      "Sampling chain 0, 0 divergences:  28%|██▊       | 278/1000 [00:19<01:46,  6.77it/s]"
     ]
    },
    {
     "name": "stderr",
     "output_type": "stream",
     "text": [
      "\r",
      "Sampling chain 0, 0 divergences:  28%|██▊       | 279/1000 [00:19<01:45,  6.80it/s]"
     ]
    },
    {
     "name": "stderr",
     "output_type": "stream",
     "text": [
      "\r",
      "Sampling chain 0, 0 divergences:  28%|██▊       | 280/1000 [00:19<01:43,  6.94it/s]"
     ]
    },
    {
     "name": "stderr",
     "output_type": "stream",
     "text": [
      "\r",
      "Sampling chain 0, 0 divergences:  28%|██▊       | 281/1000 [00:19<01:43,  6.96it/s]"
     ]
    },
    {
     "name": "stderr",
     "output_type": "stream",
     "text": [
      "\r",
      "Sampling chain 0, 0 divergences:  28%|██▊       | 282/1000 [00:19<01:45,  6.84it/s]"
     ]
    },
    {
     "name": "stderr",
     "output_type": "stream",
     "text": [
      "\r",
      "Sampling chain 0, 0 divergences:  28%|██▊       | 283/1000 [00:19<01:46,  6.76it/s]"
     ]
    },
    {
     "name": "stderr",
     "output_type": "stream",
     "text": [
      "\r",
      "Sampling chain 0, 0 divergences:  28%|██▊       | 284/1000 [00:19<01:46,  6.73it/s]"
     ]
    },
    {
     "name": "stderr",
     "output_type": "stream",
     "text": [
      "\r",
      "Sampling chain 0, 0 divergences:  28%|██▊       | 285/1000 [00:20<01:45,  6.78it/s]"
     ]
    },
    {
     "name": "stderr",
     "output_type": "stream",
     "text": [
      "\r",
      "Sampling chain 0, 0 divergences:  29%|██▊       | 286/1000 [00:20<01:43,  6.91it/s]"
     ]
    },
    {
     "name": "stderr",
     "output_type": "stream",
     "text": [
      "\r",
      "Sampling chain 0, 0 divergences:  29%|██▊       | 287/1000 [00:20<01:42,  6.95it/s]"
     ]
    },
    {
     "name": "stderr",
     "output_type": "stream",
     "text": [
      "\r",
      "Sampling chain 0, 0 divergences:  29%|██▉       | 288/1000 [00:20<01:43,  6.88it/s]"
     ]
    },
    {
     "name": "stderr",
     "output_type": "stream",
     "text": [
      "\r",
      "Sampling chain 0, 0 divergences:  29%|██▉       | 289/1000 [00:20<01:41,  6.97it/s]"
     ]
    },
    {
     "name": "stderr",
     "output_type": "stream",
     "text": [
      "\r",
      "Sampling chain 0, 0 divergences:  29%|██▉       | 290/1000 [00:20<01:45,  6.72it/s]"
     ]
    },
    {
     "name": "stderr",
     "output_type": "stream",
     "text": [
      "\r",
      "Sampling chain 0, 0 divergences:  29%|██▉       | 291/1000 [00:21<01:46,  6.68it/s]"
     ]
    },
    {
     "name": "stderr",
     "output_type": "stream",
     "text": [
      "\r",
      "Sampling chain 0, 0 divergences:  29%|██▉       | 292/1000 [00:21<01:45,  6.74it/s]"
     ]
    },
    {
     "name": "stderr",
     "output_type": "stream",
     "text": [
      "\r",
      "Sampling chain 0, 0 divergences:  29%|██▉       | 293/1000 [00:21<01:42,  6.88it/s]"
     ]
    },
    {
     "name": "stderr",
     "output_type": "stream",
     "text": [
      "\r",
      "Sampling chain 0, 0 divergences:  29%|██▉       | 294/1000 [00:21<01:41,  6.92it/s]"
     ]
    },
    {
     "name": "stderr",
     "output_type": "stream",
     "text": [
      "\r",
      "Sampling chain 0, 0 divergences:  30%|██▉       | 295/1000 [00:21<01:41,  6.98it/s]"
     ]
    },
    {
     "name": "stderr",
     "output_type": "stream",
     "text": [
      "\r",
      "Sampling chain 0, 0 divergences:  30%|██▉       | 296/1000 [00:21<01:38,  7.13it/s]"
     ]
    },
    {
     "name": "stderr",
     "output_type": "stream",
     "text": [
      "\r",
      "Sampling chain 0, 0 divergences:  30%|██▉       | 297/1000 [00:21<01:38,  7.12it/s]"
     ]
    },
    {
     "name": "stderr",
     "output_type": "stream",
     "text": [
      "\r",
      "Sampling chain 0, 0 divergences:  30%|██▉       | 298/1000 [00:21<01:39,  7.08it/s]"
     ]
    },
    {
     "name": "stderr",
     "output_type": "stream",
     "text": [
      "\r",
      "Sampling chain 0, 0 divergences:  30%|██▉       | 299/1000 [00:22<01:38,  7.13it/s]"
     ]
    },
    {
     "name": "stderr",
     "output_type": "stream",
     "text": [
      "\r",
      "Sampling chain 0, 0 divergences:  30%|███       | 300/1000 [00:22<01:39,  7.04it/s]"
     ]
    },
    {
     "name": "stderr",
     "output_type": "stream",
     "text": [
      "\r",
      "Sampling chain 0, 0 divergences:  30%|███       | 301/1000 [00:22<01:40,  6.94it/s]"
     ]
    },
    {
     "name": "stderr",
     "output_type": "stream",
     "text": [
      "\r",
      "Sampling chain 0, 0 divergences:  30%|███       | 302/1000 [00:22<01:40,  6.95it/s]"
     ]
    },
    {
     "name": "stderr",
     "output_type": "stream",
     "text": [
      "\r",
      "Sampling chain 0, 0 divergences:  30%|███       | 303/1000 [00:22<01:42,  6.80it/s]"
     ]
    },
    {
     "name": "stderr",
     "output_type": "stream",
     "text": [
      "\r",
      "Sampling chain 0, 0 divergences:  30%|███       | 304/1000 [00:22<01:42,  6.76it/s]"
     ]
    },
    {
     "name": "stderr",
     "output_type": "stream",
     "text": [
      "\r",
      "Sampling chain 0, 0 divergences:  30%|███       | 305/1000 [00:23<01:46,  6.53it/s]"
     ]
    },
    {
     "name": "stderr",
     "output_type": "stream",
     "text": [
      "\r",
      "Sampling chain 0, 0 divergences:  31%|███       | 306/1000 [00:23<01:45,  6.59it/s]"
     ]
    },
    {
     "name": "stderr",
     "output_type": "stream",
     "text": [
      "\r",
      "Sampling chain 0, 0 divergences:  31%|███       | 307/1000 [00:23<01:43,  6.72it/s]"
     ]
    },
    {
     "name": "stderr",
     "output_type": "stream",
     "text": [
      "\r",
      "Sampling chain 0, 0 divergences:  31%|███       | 308/1000 [00:23<01:42,  6.76it/s]"
     ]
    },
    {
     "name": "stderr",
     "output_type": "stream",
     "text": [
      "\r",
      "Sampling chain 0, 0 divergences:  31%|███       | 309/1000 [00:23<01:41,  6.80it/s]"
     ]
    },
    {
     "name": "stderr",
     "output_type": "stream",
     "text": [
      "\r",
      "Sampling chain 0, 0 divergences:  31%|███       | 310/1000 [00:23<01:39,  6.93it/s]"
     ]
    },
    {
     "name": "stderr",
     "output_type": "stream",
     "text": [
      "\r",
      "Sampling chain 0, 0 divergences:  31%|███       | 311/1000 [00:23<01:41,  6.78it/s]"
     ]
    },
    {
     "name": "stderr",
     "output_type": "stream",
     "text": [
      "\r",
      "Sampling chain 0, 0 divergences:  31%|███       | 312/1000 [00:24<01:40,  6.84it/s]"
     ]
    },
    {
     "name": "stderr",
     "output_type": "stream",
     "text": [
      "\r",
      "Sampling chain 0, 0 divergences:  31%|███▏      | 313/1000 [00:24<01:40,  6.83it/s]"
     ]
    },
    {
     "name": "stderr",
     "output_type": "stream",
     "text": [
      "\r",
      "Sampling chain 0, 0 divergences:  31%|███▏      | 314/1000 [00:24<01:38,  6.93it/s]"
     ]
    },
    {
     "name": "stderr",
     "output_type": "stream",
     "text": [
      "\r",
      "Sampling chain 0, 0 divergences:  32%|███▏      | 315/1000 [00:24<01:36,  7.11it/s]"
     ]
    },
    {
     "name": "stderr",
     "output_type": "stream",
     "text": [
      "\r",
      "Sampling chain 0, 0 divergences:  32%|███▏      | 316/1000 [00:24<01:36,  7.08it/s]"
     ]
    },
    {
     "name": "stderr",
     "output_type": "stream",
     "text": [
      "\r",
      "Sampling chain 0, 0 divergences:  32%|███▏      | 317/1000 [00:24<01:38,  6.90it/s]"
     ]
    },
    {
     "name": "stderr",
     "output_type": "stream",
     "text": [
      "\r",
      "Sampling chain 0, 0 divergences:  32%|███▏      | 318/1000 [00:24<01:38,  6.91it/s]"
     ]
    },
    {
     "name": "stderr",
     "output_type": "stream",
     "text": [
      "\r",
      "Sampling chain 0, 0 divergences:  32%|███▏      | 319/1000 [00:25<01:35,  7.11it/s]"
     ]
    },
    {
     "name": "stderr",
     "output_type": "stream",
     "text": [
      "\r",
      "Sampling chain 0, 0 divergences:  32%|███▏      | 320/1000 [00:25<01:34,  7.20it/s]"
     ]
    },
    {
     "name": "stderr",
     "output_type": "stream",
     "text": [
      "\r",
      "Sampling chain 0, 0 divergences:  32%|███▏      | 321/1000 [00:25<01:34,  7.20it/s]"
     ]
    },
    {
     "name": "stderr",
     "output_type": "stream",
     "text": [
      "\r",
      "Sampling chain 0, 0 divergences:  32%|███▏      | 322/1000 [00:25<01:33,  7.24it/s]"
     ]
    },
    {
     "name": "stderr",
     "output_type": "stream",
     "text": [
      "\r",
      "Sampling chain 0, 0 divergences:  32%|███▏      | 323/1000 [00:25<01:33,  7.26it/s]"
     ]
    },
    {
     "name": "stderr",
     "output_type": "stream",
     "text": [
      "\r",
      "Sampling chain 0, 0 divergences:  32%|███▏      | 324/1000 [00:25<01:34,  7.13it/s]"
     ]
    },
    {
     "name": "stderr",
     "output_type": "stream",
     "text": [
      "\r",
      "Sampling chain 0, 0 divergences:  32%|███▎      | 325/1000 [00:25<01:36,  7.00it/s]"
     ]
    },
    {
     "name": "stderr",
     "output_type": "stream",
     "text": [
      "\r",
      "Sampling chain 0, 0 divergences:  33%|███▎      | 326/1000 [00:26<01:37,  6.90it/s]"
     ]
    },
    {
     "name": "stderr",
     "output_type": "stream",
     "text": [
      "\r",
      "Sampling chain 0, 0 divergences:  33%|███▎      | 327/1000 [00:26<01:38,  6.86it/s]"
     ]
    },
    {
     "name": "stderr",
     "output_type": "stream",
     "text": [
      "\r",
      "Sampling chain 0, 0 divergences:  33%|███▎      | 328/1000 [00:26<01:37,  6.92it/s]"
     ]
    },
    {
     "name": "stderr",
     "output_type": "stream",
     "text": [
      "\r",
      "Sampling chain 0, 0 divergences:  33%|███▎      | 329/1000 [00:26<01:39,  6.73it/s]"
     ]
    },
    {
     "name": "stderr",
     "output_type": "stream",
     "text": [
      "\r",
      "Sampling chain 0, 0 divergences:  33%|███▎      | 330/1000 [00:26<01:42,  6.55it/s]"
     ]
    },
    {
     "name": "stderr",
     "output_type": "stream",
     "text": [
      "\r",
      "Sampling chain 0, 0 divergences:  33%|███▎      | 331/1000 [00:26<01:42,  6.53it/s]"
     ]
    },
    {
     "name": "stderr",
     "output_type": "stream",
     "text": [
      "\r",
      "Sampling chain 0, 0 divergences:  33%|███▎      | 332/1000 [00:26<01:42,  6.53it/s]"
     ]
    },
    {
     "name": "stderr",
     "output_type": "stream",
     "text": [
      "\r",
      "Sampling chain 0, 0 divergences:  33%|███▎      | 333/1000 [00:27<01:42,  6.48it/s]"
     ]
    },
    {
     "name": "stderr",
     "output_type": "stream",
     "text": [
      "\r",
      "Sampling chain 0, 0 divergences:  33%|███▎      | 334/1000 [00:27<01:44,  6.37it/s]"
     ]
    },
    {
     "name": "stderr",
     "output_type": "stream",
     "text": [
      "\r",
      "Sampling chain 0, 0 divergences:  34%|███▎      | 335/1000 [00:27<01:41,  6.53it/s]"
     ]
    },
    {
     "name": "stderr",
     "output_type": "stream",
     "text": [
      "\r",
      "Sampling chain 0, 0 divergences:  34%|███▎      | 336/1000 [00:27<01:40,  6.63it/s]"
     ]
    },
    {
     "name": "stderr",
     "output_type": "stream",
     "text": [
      "\r",
      "Sampling chain 0, 0 divergences:  34%|███▎      | 337/1000 [00:27<01:39,  6.67it/s]"
     ]
    },
    {
     "name": "stderr",
     "output_type": "stream",
     "text": [
      "\r",
      "Sampling chain 0, 0 divergences:  34%|███▍      | 338/1000 [00:27<01:40,  6.57it/s]"
     ]
    },
    {
     "name": "stderr",
     "output_type": "stream",
     "text": [
      "\r",
      "Sampling chain 0, 0 divergences:  34%|███▍      | 339/1000 [00:28<01:40,  6.55it/s]"
     ]
    },
    {
     "name": "stderr",
     "output_type": "stream",
     "text": [
      "\r",
      "Sampling chain 0, 0 divergences:  34%|███▍      | 340/1000 [00:28<01:39,  6.61it/s]"
     ]
    },
    {
     "name": "stderr",
     "output_type": "stream",
     "text": [
      "\r",
      "Sampling chain 0, 0 divergences:  34%|███▍      | 341/1000 [00:28<01:40,  6.59it/s]"
     ]
    },
    {
     "name": "stderr",
     "output_type": "stream",
     "text": [
      "\r",
      "Sampling chain 0, 0 divergences:  34%|███▍      | 342/1000 [00:28<01:39,  6.62it/s]"
     ]
    },
    {
     "name": "stderr",
     "output_type": "stream",
     "text": [
      "\r",
      "Sampling chain 0, 0 divergences:  34%|███▍      | 343/1000 [00:28<01:38,  6.65it/s]"
     ]
    },
    {
     "name": "stderr",
     "output_type": "stream",
     "text": [
      "\r",
      "Sampling chain 0, 0 divergences:  34%|███▍      | 344/1000 [00:28<01:39,  6.56it/s]"
     ]
    },
    {
     "name": "stderr",
     "output_type": "stream",
     "text": [
      "\r",
      "Sampling chain 0, 0 divergences:  34%|███▍      | 345/1000 [00:28<01:39,  6.58it/s]"
     ]
    },
    {
     "name": "stderr",
     "output_type": "stream",
     "text": [
      "\r",
      "Sampling chain 0, 0 divergences:  35%|███▍      | 346/1000 [00:29<01:40,  6.48it/s]"
     ]
    },
    {
     "name": "stderr",
     "output_type": "stream",
     "text": [
      "\r",
      "Sampling chain 0, 0 divergences:  35%|███▍      | 347/1000 [00:29<01:41,  6.45it/s]"
     ]
    },
    {
     "name": "stderr",
     "output_type": "stream",
     "text": [
      "\r",
      "Sampling chain 0, 0 divergences:  35%|███▍      | 348/1000 [00:29<01:37,  6.66it/s]"
     ]
    },
    {
     "name": "stderr",
     "output_type": "stream",
     "text": [
      "\r",
      "Sampling chain 0, 0 divergences:  35%|███▍      | 349/1000 [00:29<01:40,  6.49it/s]"
     ]
    },
    {
     "name": "stderr",
     "output_type": "stream",
     "text": [
      "\r",
      "Sampling chain 0, 0 divergences:  35%|███▌      | 350/1000 [00:29<01:38,  6.62it/s]"
     ]
    },
    {
     "name": "stderr",
     "output_type": "stream",
     "text": [
      "\r",
      "Sampling chain 0, 0 divergences:  35%|███▌      | 351/1000 [00:29<01:37,  6.66it/s]"
     ]
    },
    {
     "name": "stderr",
     "output_type": "stream",
     "text": [
      "\r",
      "Sampling chain 0, 0 divergences:  35%|███▌      | 352/1000 [00:30<01:40,  6.47it/s]"
     ]
    },
    {
     "name": "stderr",
     "output_type": "stream",
     "text": [
      "\r",
      "Sampling chain 0, 0 divergences:  35%|███▌      | 353/1000 [00:30<01:37,  6.61it/s]"
     ]
    },
    {
     "name": "stderr",
     "output_type": "stream",
     "text": [
      "\r",
      "Sampling chain 0, 0 divergences:  35%|███▌      | 354/1000 [00:30<01:38,  6.58it/s]"
     ]
    },
    {
     "name": "stderr",
     "output_type": "stream",
     "text": [
      "\r",
      "Sampling chain 0, 0 divergences:  36%|███▌      | 355/1000 [00:30<01:37,  6.63it/s]"
     ]
    },
    {
     "name": "stderr",
     "output_type": "stream",
     "text": [
      "\r",
      "Sampling chain 0, 0 divergences:  36%|███▌      | 356/1000 [00:30<01:36,  6.69it/s]"
     ]
    },
    {
     "name": "stderr",
     "output_type": "stream",
     "text": [
      "\r",
      "Sampling chain 0, 0 divergences:  36%|███▌      | 357/1000 [00:30<01:35,  6.74it/s]"
     ]
    },
    {
     "name": "stderr",
     "output_type": "stream",
     "text": [
      "\r",
      "Sampling chain 0, 0 divergences:  36%|███▌      | 358/1000 [00:30<01:34,  6.81it/s]"
     ]
    },
    {
     "name": "stderr",
     "output_type": "stream",
     "text": [
      "\r",
      "Sampling chain 0, 0 divergences:  36%|███▌      | 359/1000 [00:31<01:36,  6.62it/s]"
     ]
    },
    {
     "name": "stderr",
     "output_type": "stream",
     "text": [
      "\r",
      "Sampling chain 0, 0 divergences:  36%|███▌      | 360/1000 [00:31<01:38,  6.49it/s]"
     ]
    },
    {
     "name": "stderr",
     "output_type": "stream",
     "text": [
      "\r",
      "Sampling chain 0, 0 divergences:  36%|███▌      | 361/1000 [00:31<01:38,  6.46it/s]"
     ]
    },
    {
     "name": "stderr",
     "output_type": "stream",
     "text": [
      "\r",
      "Sampling chain 0, 0 divergences:  36%|███▌      | 362/1000 [00:31<01:37,  6.57it/s]"
     ]
    },
    {
     "name": "stderr",
     "output_type": "stream",
     "text": [
      "\r",
      "Sampling chain 0, 0 divergences:  36%|███▋      | 363/1000 [00:31<01:38,  6.44it/s]"
     ]
    },
    {
     "name": "stderr",
     "output_type": "stream",
     "text": [
      "\r",
      "Sampling chain 0, 0 divergences:  36%|███▋      | 364/1000 [00:31<01:37,  6.51it/s]"
     ]
    },
    {
     "name": "stderr",
     "output_type": "stream",
     "text": [
      "\r",
      "Sampling chain 0, 0 divergences:  36%|███▋      | 365/1000 [00:31<01:36,  6.57it/s]"
     ]
    },
    {
     "name": "stderr",
     "output_type": "stream",
     "text": [
      "\r",
      "Sampling chain 0, 0 divergences:  37%|███▋      | 366/1000 [00:32<01:36,  6.58it/s]"
     ]
    },
    {
     "name": "stderr",
     "output_type": "stream",
     "text": [
      "\r",
      "Sampling chain 0, 0 divergences:  37%|███▋      | 367/1000 [00:32<01:38,  6.46it/s]"
     ]
    },
    {
     "name": "stderr",
     "output_type": "stream",
     "text": [
      "\r",
      "Sampling chain 0, 0 divergences:  37%|███▋      | 368/1000 [00:32<01:36,  6.56it/s]"
     ]
    },
    {
     "name": "stderr",
     "output_type": "stream",
     "text": [
      "\r",
      "Sampling chain 0, 0 divergences:  37%|███▋      | 369/1000 [00:32<01:36,  6.54it/s]"
     ]
    },
    {
     "name": "stderr",
     "output_type": "stream",
     "text": [
      "\r",
      "Sampling chain 0, 0 divergences:  37%|███▋      | 370/1000 [00:32<01:35,  6.63it/s]"
     ]
    },
    {
     "name": "stderr",
     "output_type": "stream",
     "text": [
      "\r",
      "Sampling chain 0, 0 divergences:  37%|███▋      | 371/1000 [00:32<01:35,  6.59it/s]"
     ]
    },
    {
     "name": "stderr",
     "output_type": "stream",
     "text": [
      "\r",
      "Sampling chain 0, 0 divergences:  37%|███▋      | 372/1000 [00:33<01:36,  6.49it/s]"
     ]
    },
    {
     "name": "stderr",
     "output_type": "stream",
     "text": [
      "\r",
      "Sampling chain 0, 0 divergences:  37%|███▋      | 373/1000 [00:33<01:37,  6.45it/s]"
     ]
    },
    {
     "name": "stderr",
     "output_type": "stream",
     "text": [
      "\r",
      "Sampling chain 0, 0 divergences:  37%|███▋      | 374/1000 [00:33<01:36,  6.52it/s]"
     ]
    },
    {
     "name": "stderr",
     "output_type": "stream",
     "text": [
      "\r",
      "Sampling chain 0, 0 divergences:  38%|███▊      | 375/1000 [00:33<01:36,  6.45it/s]"
     ]
    },
    {
     "name": "stderr",
     "output_type": "stream",
     "text": [
      "\r",
      "Sampling chain 0, 0 divergences:  38%|███▊      | 376/1000 [00:33<01:34,  6.60it/s]"
     ]
    },
    {
     "name": "stderr",
     "output_type": "stream",
     "text": [
      "\r",
      "Sampling chain 0, 0 divergences:  38%|███▊      | 377/1000 [00:33<01:34,  6.60it/s]"
     ]
    },
    {
     "name": "stderr",
     "output_type": "stream",
     "text": [
      "\r",
      "Sampling chain 0, 0 divergences:  38%|███▊      | 378/1000 [00:33<01:34,  6.57it/s]"
     ]
    },
    {
     "name": "stderr",
     "output_type": "stream",
     "text": [
      "\r",
      "Sampling chain 0, 0 divergences:  38%|███▊      | 379/1000 [00:34<01:35,  6.52it/s]"
     ]
    },
    {
     "name": "stderr",
     "output_type": "stream",
     "text": [
      "\r",
      "Sampling chain 0, 0 divergences:  38%|███▊      | 380/1000 [00:34<01:34,  6.60it/s]"
     ]
    },
    {
     "name": "stderr",
     "output_type": "stream",
     "text": [
      "\r",
      "Sampling chain 0, 0 divergences:  38%|███▊      | 381/1000 [00:34<01:33,  6.61it/s]"
     ]
    },
    {
     "name": "stderr",
     "output_type": "stream",
     "text": [
      "\r",
      "Sampling chain 0, 0 divergences:  38%|███▊      | 382/1000 [00:34<01:33,  6.58it/s]"
     ]
    },
    {
     "name": "stderr",
     "output_type": "stream",
     "text": [
      "\r",
      "Sampling chain 0, 0 divergences:  38%|███▊      | 383/1000 [00:34<01:33,  6.62it/s]"
     ]
    },
    {
     "name": "stderr",
     "output_type": "stream",
     "text": [
      "\r",
      "Sampling chain 0, 0 divergences:  38%|███▊      | 384/1000 [00:34<01:32,  6.65it/s]"
     ]
    },
    {
     "name": "stderr",
     "output_type": "stream",
     "text": [
      "\r",
      "Sampling chain 0, 0 divergences:  38%|███▊      | 385/1000 [00:35<01:31,  6.71it/s]"
     ]
    },
    {
     "name": "stderr",
     "output_type": "stream",
     "text": [
      "\r",
      "Sampling chain 0, 0 divergences:  39%|███▊      | 386/1000 [00:35<01:30,  6.75it/s]"
     ]
    },
    {
     "name": "stderr",
     "output_type": "stream",
     "text": [
      "\r",
      "Sampling chain 0, 0 divergences:  39%|███▊      | 387/1000 [00:35<01:30,  6.75it/s]"
     ]
    },
    {
     "name": "stderr",
     "output_type": "stream",
     "text": [
      "\r",
      "Sampling chain 0, 0 divergences:  39%|███▉      | 388/1000 [00:35<01:29,  6.85it/s]"
     ]
    },
    {
     "name": "stderr",
     "output_type": "stream",
     "text": [
      "\r",
      "Sampling chain 0, 0 divergences:  39%|███▉      | 389/1000 [00:35<01:29,  6.84it/s]"
     ]
    },
    {
     "name": "stderr",
     "output_type": "stream",
     "text": [
      "\r",
      "Sampling chain 0, 0 divergences:  39%|███▉      | 390/1000 [00:35<01:28,  6.87it/s]"
     ]
    },
    {
     "name": "stderr",
     "output_type": "stream",
     "text": [
      "\r",
      "Sampling chain 0, 0 divergences:  39%|███▉      | 391/1000 [00:35<01:28,  6.84it/s]"
     ]
    },
    {
     "name": "stderr",
     "output_type": "stream",
     "text": [
      "\r",
      "Sampling chain 0, 0 divergences:  39%|███▉      | 392/1000 [00:36<01:26,  7.04it/s]"
     ]
    },
    {
     "name": "stderr",
     "output_type": "stream",
     "text": [
      "\r",
      "Sampling chain 0, 0 divergences:  39%|███▉      | 393/1000 [00:36<01:27,  6.96it/s]"
     ]
    },
    {
     "name": "stderr",
     "output_type": "stream",
     "text": [
      "\r",
      "Sampling chain 0, 0 divergences:  39%|███▉      | 394/1000 [00:36<01:25,  7.09it/s]"
     ]
    },
    {
     "name": "stderr",
     "output_type": "stream",
     "text": [
      "\r",
      "Sampling chain 0, 0 divergences:  40%|███▉      | 395/1000 [00:36<01:25,  7.09it/s]"
     ]
    },
    {
     "name": "stderr",
     "output_type": "stream",
     "text": [
      "\r",
      "Sampling chain 0, 0 divergences:  40%|███▉      | 396/1000 [00:36<01:26,  6.96it/s]"
     ]
    },
    {
     "name": "stderr",
     "output_type": "stream",
     "text": [
      "\r",
      "Sampling chain 0, 0 divergences:  40%|███▉      | 397/1000 [00:36<01:26,  6.98it/s]"
     ]
    },
    {
     "name": "stderr",
     "output_type": "stream",
     "text": [
      "\r",
      "Sampling chain 0, 0 divergences:  40%|███▉      | 398/1000 [00:36<01:25,  7.01it/s]"
     ]
    },
    {
     "name": "stderr",
     "output_type": "stream",
     "text": [
      "\r",
      "Sampling chain 0, 0 divergences:  40%|███▉      | 399/1000 [00:37<01:24,  7.08it/s]"
     ]
    },
    {
     "name": "stderr",
     "output_type": "stream",
     "text": [
      "\r",
      "Sampling chain 0, 0 divergences:  40%|████      | 400/1000 [00:37<01:23,  7.19it/s]"
     ]
    },
    {
     "name": "stderr",
     "output_type": "stream",
     "text": [
      "\r",
      "Sampling chain 0, 0 divergences:  40%|████      | 401/1000 [00:37<01:21,  7.32it/s]"
     ]
    },
    {
     "name": "stderr",
     "output_type": "stream",
     "text": [
      "\r",
      "Sampling chain 0, 0 divergences:  40%|████      | 402/1000 [00:37<01:21,  7.33it/s]"
     ]
    },
    {
     "name": "stderr",
     "output_type": "stream",
     "text": [
      "\r",
      "Sampling chain 0, 0 divergences:  40%|████      | 403/1000 [00:37<01:22,  7.22it/s]"
     ]
    },
    {
     "name": "stderr",
     "output_type": "stream",
     "text": [
      "\r",
      "Sampling chain 0, 0 divergences:  40%|████      | 404/1000 [00:37<01:24,  7.07it/s]"
     ]
    },
    {
     "name": "stderr",
     "output_type": "stream",
     "text": [
      "\r",
      "Sampling chain 0, 0 divergences:  40%|████      | 405/1000 [00:37<01:27,  6.84it/s]"
     ]
    },
    {
     "name": "stderr",
     "output_type": "stream",
     "text": [
      "\r",
      "Sampling chain 0, 0 divergences:  41%|████      | 406/1000 [00:38<01:26,  6.90it/s]"
     ]
    },
    {
     "name": "stderr",
     "output_type": "stream",
     "text": [
      "\r",
      "Sampling chain 0, 0 divergences:  41%|████      | 407/1000 [00:38<01:25,  6.98it/s]"
     ]
    },
    {
     "name": "stderr",
     "output_type": "stream",
     "text": [
      "\r",
      "Sampling chain 0, 0 divergences:  41%|████      | 408/1000 [00:38<01:26,  6.86it/s]"
     ]
    },
    {
     "name": "stderr",
     "output_type": "stream",
     "text": [
      "\r",
      "Sampling chain 0, 0 divergences:  41%|████      | 409/1000 [00:38<01:27,  6.76it/s]"
     ]
    },
    {
     "name": "stderr",
     "output_type": "stream",
     "text": [
      "\r",
      "Sampling chain 0, 0 divergences:  41%|████      | 410/1000 [00:38<01:24,  6.99it/s]"
     ]
    },
    {
     "name": "stderr",
     "output_type": "stream",
     "text": [
      "\r",
      "Sampling chain 0, 0 divergences:  41%|████      | 411/1000 [00:38<01:23,  7.05it/s]"
     ]
    },
    {
     "name": "stderr",
     "output_type": "stream",
     "text": [
      "\r",
      "Sampling chain 0, 0 divergences:  41%|████      | 412/1000 [00:38<01:22,  7.16it/s]"
     ]
    },
    {
     "name": "stderr",
     "output_type": "stream",
     "text": [
      "\r",
      "Sampling chain 0, 0 divergences:  41%|████▏     | 413/1000 [00:38<01:21,  7.24it/s]"
     ]
    },
    {
     "name": "stderr",
     "output_type": "stream",
     "text": [
      "\r",
      "Sampling chain 0, 0 divergences:  41%|████▏     | 414/1000 [00:39<01:21,  7.18it/s]"
     ]
    },
    {
     "name": "stderr",
     "output_type": "stream",
     "text": [
      "\r",
      "Sampling chain 0, 0 divergences:  42%|████▏     | 415/1000 [00:39<01:21,  7.19it/s]"
     ]
    },
    {
     "name": "stderr",
     "output_type": "stream",
     "text": [
      "\r",
      "Sampling chain 0, 0 divergences:  42%|████▏     | 416/1000 [00:39<01:20,  7.28it/s]"
     ]
    },
    {
     "name": "stderr",
     "output_type": "stream",
     "text": [
      "\r",
      "Sampling chain 0, 0 divergences:  42%|████▏     | 417/1000 [00:39<01:22,  7.06it/s]"
     ]
    },
    {
     "name": "stderr",
     "output_type": "stream",
     "text": [
      "\r",
      "Sampling chain 0, 0 divergences:  42%|████▏     | 418/1000 [00:39<01:21,  7.14it/s]"
     ]
    },
    {
     "name": "stderr",
     "output_type": "stream",
     "text": [
      "\r",
      "Sampling chain 0, 0 divergences:  42%|████▏     | 419/1000 [00:39<01:21,  7.14it/s]"
     ]
    },
    {
     "name": "stderr",
     "output_type": "stream",
     "text": [
      "\r",
      "Sampling chain 0, 0 divergences:  42%|████▏     | 420/1000 [00:39<01:22,  7.05it/s]"
     ]
    },
    {
     "name": "stderr",
     "output_type": "stream",
     "text": [
      "\r",
      "Sampling chain 0, 0 divergences:  42%|████▏     | 421/1000 [00:40<01:21,  7.09it/s]"
     ]
    },
    {
     "name": "stderr",
     "output_type": "stream",
     "text": [
      "\r",
      "Sampling chain 0, 0 divergences:  42%|████▏     | 422/1000 [00:40<01:20,  7.19it/s]"
     ]
    },
    {
     "name": "stderr",
     "output_type": "stream",
     "text": [
      "\r",
      "Sampling chain 0, 0 divergences:  42%|████▏     | 423/1000 [00:40<01:20,  7.15it/s]"
     ]
    },
    {
     "name": "stderr",
     "output_type": "stream",
     "text": [
      "\r",
      "Sampling chain 0, 0 divergences:  42%|████▏     | 424/1000 [00:40<01:19,  7.25it/s]"
     ]
    },
    {
     "name": "stderr",
     "output_type": "stream",
     "text": [
      "\r",
      "Sampling chain 0, 0 divergences:  42%|████▎     | 425/1000 [00:40<01:17,  7.39it/s]"
     ]
    },
    {
     "name": "stderr",
     "output_type": "stream",
     "text": [
      "\r",
      "Sampling chain 0, 0 divergences:  43%|████▎     | 426/1000 [00:40<01:17,  7.45it/s]"
     ]
    },
    {
     "name": "stderr",
     "output_type": "stream",
     "text": [
      "\r",
      "Sampling chain 0, 0 divergences:  43%|████▎     | 427/1000 [00:40<01:17,  7.41it/s]"
     ]
    },
    {
     "name": "stderr",
     "output_type": "stream",
     "text": [
      "\r",
      "Sampling chain 0, 0 divergences:  43%|████▎     | 428/1000 [00:41<01:17,  7.43it/s]"
     ]
    },
    {
     "name": "stderr",
     "output_type": "stream",
     "text": [
      "\r",
      "Sampling chain 0, 0 divergences:  43%|████▎     | 429/1000 [00:41<01:18,  7.25it/s]"
     ]
    },
    {
     "name": "stderr",
     "output_type": "stream",
     "text": [
      "\r",
      "Sampling chain 0, 0 divergences:  43%|████▎     | 430/1000 [00:41<01:20,  7.12it/s]"
     ]
    },
    {
     "name": "stderr",
     "output_type": "stream",
     "text": [
      "\r",
      "Sampling chain 0, 0 divergences:  43%|████▎     | 431/1000 [00:41<01:18,  7.21it/s]"
     ]
    },
    {
     "name": "stderr",
     "output_type": "stream",
     "text": [
      "\r",
      "Sampling chain 0, 0 divergences:  43%|████▎     | 432/1000 [00:41<01:18,  7.21it/s]"
     ]
    },
    {
     "name": "stderr",
     "output_type": "stream",
     "text": [
      "\r",
      "Sampling chain 0, 0 divergences:  43%|████▎     | 433/1000 [00:41<01:18,  7.19it/s]"
     ]
    },
    {
     "name": "stderr",
     "output_type": "stream",
     "text": [
      "\r",
      "Sampling chain 0, 0 divergences:  43%|████▎     | 434/1000 [00:41<01:17,  7.27it/s]"
     ]
    },
    {
     "name": "stderr",
     "output_type": "stream",
     "text": [
      "\r",
      "Sampling chain 0, 0 divergences:  44%|████▎     | 435/1000 [00:42<01:18,  7.18it/s]"
     ]
    },
    {
     "name": "stderr",
     "output_type": "stream",
     "text": [
      "\r",
      "Sampling chain 0, 0 divergences:  44%|████▎     | 436/1000 [00:42<01:18,  7.21it/s]"
     ]
    },
    {
     "name": "stderr",
     "output_type": "stream",
     "text": [
      "\r",
      "Sampling chain 0, 0 divergences:  44%|████▎     | 437/1000 [00:42<01:17,  7.28it/s]"
     ]
    },
    {
     "name": "stderr",
     "output_type": "stream",
     "text": [
      "\r",
      "Sampling chain 0, 0 divergences:  44%|████▍     | 438/1000 [00:42<01:15,  7.43it/s]"
     ]
    },
    {
     "name": "stderr",
     "output_type": "stream",
     "text": [
      "\r",
      "Sampling chain 0, 0 divergences:  44%|████▍     | 439/1000 [00:42<01:15,  7.44it/s]"
     ]
    },
    {
     "name": "stderr",
     "output_type": "stream",
     "text": [
      "\r",
      "Sampling chain 0, 0 divergences:  44%|████▍     | 440/1000 [00:42<01:18,  7.18it/s]"
     ]
    },
    {
     "name": "stderr",
     "output_type": "stream",
     "text": [
      "\r",
      "Sampling chain 0, 0 divergences:  44%|████▍     | 441/1000 [00:42<01:18,  7.14it/s]"
     ]
    },
    {
     "name": "stderr",
     "output_type": "stream",
     "text": [
      "\r",
      "Sampling chain 0, 0 divergences:  44%|████▍     | 442/1000 [00:43<01:19,  7.01it/s]"
     ]
    },
    {
     "name": "stderr",
     "output_type": "stream",
     "text": [
      "\r",
      "Sampling chain 0, 0 divergences:  44%|████▍     | 443/1000 [00:43<01:17,  7.18it/s]"
     ]
    },
    {
     "name": "stderr",
     "output_type": "stream",
     "text": [
      "\r",
      "Sampling chain 0, 0 divergences:  44%|████▍     | 444/1000 [00:43<01:16,  7.27it/s]"
     ]
    },
    {
     "name": "stderr",
     "output_type": "stream",
     "text": [
      "\r",
      "Sampling chain 0, 0 divergences:  44%|████▍     | 445/1000 [00:43<01:16,  7.24it/s]"
     ]
    },
    {
     "name": "stderr",
     "output_type": "stream",
     "text": [
      "\r",
      "Sampling chain 0, 0 divergences:  45%|████▍     | 446/1000 [00:43<01:17,  7.15it/s]"
     ]
    },
    {
     "name": "stderr",
     "output_type": "stream",
     "text": [
      "\r",
      "Sampling chain 0, 0 divergences:  45%|████▍     | 447/1000 [00:43<01:15,  7.33it/s]"
     ]
    },
    {
     "name": "stderr",
     "output_type": "stream",
     "text": [
      "\r",
      "Sampling chain 0, 0 divergences:  45%|████▍     | 448/1000 [00:43<01:15,  7.29it/s]"
     ]
    },
    {
     "name": "stderr",
     "output_type": "stream",
     "text": [
      "\r",
      "Sampling chain 0, 0 divergences:  45%|████▍     | 449/1000 [00:43<01:16,  7.24it/s]"
     ]
    },
    {
     "name": "stderr",
     "output_type": "stream",
     "text": [
      "\r",
      "Sampling chain 0, 0 divergences:  45%|████▌     | 450/1000 [00:44<01:17,  7.08it/s]"
     ]
    },
    {
     "name": "stderr",
     "output_type": "stream",
     "text": [
      "\r",
      "Sampling chain 0, 0 divergences:  45%|████▌     | 451/1000 [00:44<01:19,  6.87it/s]"
     ]
    },
    {
     "name": "stderr",
     "output_type": "stream",
     "text": [
      "\r",
      "Sampling chain 0, 0 divergences:  45%|████▌     | 452/1000 [00:44<01:21,  6.71it/s]"
     ]
    },
    {
     "name": "stderr",
     "output_type": "stream",
     "text": [
      "\r",
      "Sampling chain 0, 0 divergences:  45%|████▌     | 453/1000 [00:44<01:22,  6.65it/s]"
     ]
    },
    {
     "name": "stderr",
     "output_type": "stream",
     "text": [
      "\r",
      "Sampling chain 0, 0 divergences:  45%|████▌     | 454/1000 [00:44<01:22,  6.64it/s]"
     ]
    },
    {
     "name": "stderr",
     "output_type": "stream",
     "text": [
      "\r",
      "Sampling chain 0, 0 divergences:  46%|████▌     | 455/1000 [00:44<01:21,  6.67it/s]"
     ]
    },
    {
     "name": "stderr",
     "output_type": "stream",
     "text": [
      "\r",
      "Sampling chain 0, 0 divergences:  46%|████▌     | 456/1000 [00:45<01:22,  6.56it/s]"
     ]
    },
    {
     "name": "stderr",
     "output_type": "stream",
     "text": [
      "\r",
      "Sampling chain 0, 0 divergences:  46%|████▌     | 457/1000 [00:45<01:24,  6.43it/s]"
     ]
    },
    {
     "name": "stderr",
     "output_type": "stream",
     "text": [
      "\r",
      "Sampling chain 0, 0 divergences:  46%|████▌     | 458/1000 [00:45<01:24,  6.41it/s]"
     ]
    },
    {
     "name": "stderr",
     "output_type": "stream",
     "text": [
      "\r",
      "Sampling chain 0, 0 divergences:  46%|████▌     | 459/1000 [00:45<01:29,  6.01it/s]"
     ]
    },
    {
     "name": "stderr",
     "output_type": "stream",
     "text": [
      "\r",
      "Sampling chain 0, 0 divergences:  46%|████▌     | 460/1000 [00:45<01:29,  6.04it/s]"
     ]
    },
    {
     "name": "stderr",
     "output_type": "stream",
     "text": [
      "\r",
      "Sampling chain 0, 0 divergences:  46%|████▌     | 461/1000 [00:45<01:26,  6.20it/s]"
     ]
    },
    {
     "name": "stderr",
     "output_type": "stream",
     "text": [
      "\r",
      "Sampling chain 0, 0 divergences:  46%|████▌     | 462/1000 [00:46<01:24,  6.37it/s]"
     ]
    },
    {
     "name": "stderr",
     "output_type": "stream",
     "text": [
      "\r",
      "Sampling chain 0, 0 divergences:  46%|████▋     | 463/1000 [00:46<01:22,  6.53it/s]"
     ]
    },
    {
     "name": "stderr",
     "output_type": "stream",
     "text": [
      "\r",
      "Sampling chain 0, 0 divergences:  46%|████▋     | 464/1000 [00:46<01:20,  6.63it/s]"
     ]
    },
    {
     "name": "stderr",
     "output_type": "stream",
     "text": [
      "\r",
      "Sampling chain 0, 0 divergences:  46%|████▋     | 465/1000 [00:46<01:19,  6.74it/s]"
     ]
    },
    {
     "name": "stderr",
     "output_type": "stream",
     "text": [
      "\r",
      "Sampling chain 0, 0 divergences:  47%|████▋     | 466/1000 [00:46<01:19,  6.72it/s]"
     ]
    },
    {
     "name": "stderr",
     "output_type": "stream",
     "text": [
      "\r",
      "Sampling chain 0, 0 divergences:  47%|████▋     | 467/1000 [00:46<01:19,  6.72it/s]"
     ]
    },
    {
     "name": "stderr",
     "output_type": "stream",
     "text": [
      "\r",
      "Sampling chain 0, 0 divergences:  47%|████▋     | 468/1000 [00:46<01:18,  6.77it/s]"
     ]
    },
    {
     "name": "stderr",
     "output_type": "stream",
     "text": [
      "\r",
      "Sampling chain 0, 0 divergences:  47%|████▋     | 469/1000 [00:47<01:19,  6.65it/s]"
     ]
    },
    {
     "name": "stderr",
     "output_type": "stream",
     "text": [
      "\r",
      "Sampling chain 0, 0 divergences:  47%|████▋     | 470/1000 [00:47<01:19,  6.65it/s]"
     ]
    },
    {
     "name": "stderr",
     "output_type": "stream",
     "text": [
      "\r",
      "Sampling chain 0, 0 divergences:  47%|████▋     | 471/1000 [00:47<01:18,  6.72it/s]"
     ]
    },
    {
     "name": "stderr",
     "output_type": "stream",
     "text": [
      "\r",
      "Sampling chain 0, 0 divergences:  47%|████▋     | 472/1000 [00:47<01:16,  6.89it/s]"
     ]
    },
    {
     "name": "stderr",
     "output_type": "stream",
     "text": [
      "\r",
      "Sampling chain 0, 0 divergences:  47%|████▋     | 473/1000 [00:47<01:15,  6.99it/s]"
     ]
    },
    {
     "name": "stderr",
     "output_type": "stream",
     "text": [
      "\r",
      "Sampling chain 0, 0 divergences:  47%|████▋     | 474/1000 [00:47<01:13,  7.14it/s]"
     ]
    },
    {
     "name": "stderr",
     "output_type": "stream",
     "text": [
      "\r",
      "Sampling chain 0, 0 divergences:  48%|████▊     | 475/1000 [00:47<01:14,  7.06it/s]"
     ]
    },
    {
     "name": "stderr",
     "output_type": "stream",
     "text": [
      "\r",
      "Sampling chain 0, 0 divergences:  48%|████▊     | 476/1000 [00:48<01:17,  6.74it/s]"
     ]
    },
    {
     "name": "stderr",
     "output_type": "stream",
     "text": [
      "\r",
      "Sampling chain 0, 0 divergences:  48%|████▊     | 477/1000 [00:48<01:15,  6.92it/s]"
     ]
    },
    {
     "name": "stderr",
     "output_type": "stream",
     "text": [
      "\r",
      "Sampling chain 0, 0 divergences:  48%|████▊     | 478/1000 [00:48<01:15,  6.89it/s]"
     ]
    },
    {
     "name": "stderr",
     "output_type": "stream",
     "text": [
      "\r",
      "Sampling chain 0, 0 divergences:  48%|████▊     | 479/1000 [00:48<01:17,  6.75it/s]"
     ]
    },
    {
     "name": "stderr",
     "output_type": "stream",
     "text": [
      "\r",
      "Sampling chain 0, 0 divergences:  48%|████▊     | 480/1000 [00:48<01:18,  6.64it/s]"
     ]
    },
    {
     "name": "stderr",
     "output_type": "stream",
     "text": [
      "\r",
      "Sampling chain 0, 0 divergences:  48%|████▊     | 481/1000 [00:48<01:20,  6.45it/s]"
     ]
    },
    {
     "name": "stderr",
     "output_type": "stream",
     "text": [
      "\r",
      "Sampling chain 0, 0 divergences:  48%|████▊     | 482/1000 [00:48<01:19,  6.55it/s]"
     ]
    },
    {
     "name": "stderr",
     "output_type": "stream",
     "text": [
      "\r",
      "Sampling chain 0, 0 divergences:  48%|████▊     | 483/1000 [00:49<01:17,  6.67it/s]"
     ]
    },
    {
     "name": "stderr",
     "output_type": "stream",
     "text": [
      "\r",
      "Sampling chain 0, 0 divergences:  48%|████▊     | 484/1000 [00:49<01:15,  6.82it/s]"
     ]
    },
    {
     "name": "stderr",
     "output_type": "stream",
     "text": [
      "\r",
      "Sampling chain 0, 0 divergences:  48%|████▊     | 485/1000 [00:49<01:14,  6.92it/s]"
     ]
    },
    {
     "name": "stderr",
     "output_type": "stream",
     "text": [
      "\r",
      "Sampling chain 0, 0 divergences:  49%|████▊     | 486/1000 [00:49<01:14,  6.85it/s]"
     ]
    },
    {
     "name": "stderr",
     "output_type": "stream",
     "text": [
      "\r",
      "Sampling chain 0, 0 divergences:  49%|████▊     | 487/1000 [00:49<01:16,  6.70it/s]"
     ]
    },
    {
     "name": "stderr",
     "output_type": "stream",
     "text": [
      "\r",
      "Sampling chain 0, 0 divergences:  49%|████▉     | 488/1000 [00:49<01:17,  6.63it/s]"
     ]
    },
    {
     "name": "stderr",
     "output_type": "stream",
     "text": [
      "\r",
      "Sampling chain 0, 0 divergences:  49%|████▉     | 489/1000 [00:50<01:18,  6.54it/s]"
     ]
    },
    {
     "name": "stderr",
     "output_type": "stream",
     "text": [
      "\r",
      "Sampling chain 0, 0 divergences:  49%|████▉     | 490/1000 [00:50<01:18,  6.52it/s]"
     ]
    },
    {
     "name": "stderr",
     "output_type": "stream",
     "text": [
      "\r",
      "Sampling chain 0, 0 divergences:  49%|████▉     | 491/1000 [00:50<01:16,  6.65it/s]"
     ]
    },
    {
     "name": "stderr",
     "output_type": "stream",
     "text": [
      "\r",
      "Sampling chain 0, 0 divergences:  49%|████▉     | 492/1000 [00:50<01:14,  6.81it/s]"
     ]
    },
    {
     "name": "stderr",
     "output_type": "stream",
     "text": [
      "\r",
      "Sampling chain 0, 0 divergences:  49%|████▉     | 493/1000 [00:50<01:13,  6.86it/s]"
     ]
    },
    {
     "name": "stderr",
     "output_type": "stream",
     "text": [
      "\r",
      "Sampling chain 0, 0 divergences:  49%|████▉     | 494/1000 [00:50<01:10,  7.13it/s]"
     ]
    },
    {
     "name": "stderr",
     "output_type": "stream",
     "text": [
      "\r",
      "Sampling chain 0, 0 divergences:  50%|████▉     | 495/1000 [00:50<01:09,  7.24it/s]"
     ]
    },
    {
     "name": "stderr",
     "output_type": "stream",
     "text": [
      "\r",
      "Sampling chain 0, 0 divergences:  50%|████▉     | 496/1000 [00:51<01:12,  6.99it/s]"
     ]
    },
    {
     "name": "stderr",
     "output_type": "stream",
     "text": [
      "\r",
      "Sampling chain 0, 0 divergences:  50%|████▉     | 497/1000 [00:51<01:14,  6.72it/s]"
     ]
    },
    {
     "name": "stderr",
     "output_type": "stream",
     "text": [
      "\r",
      "Sampling chain 0, 0 divergences:  50%|████▉     | 498/1000 [00:51<01:16,  6.57it/s]"
     ]
    },
    {
     "name": "stderr",
     "output_type": "stream",
     "text": [
      "\r",
      "Sampling chain 0, 0 divergences:  50%|████▉     | 499/1000 [00:51<01:17,  6.46it/s]"
     ]
    },
    {
     "name": "stderr",
     "output_type": "stream",
     "text": [
      "\r",
      "Sampling chain 0, 0 divergences:  50%|█████     | 500/1000 [00:51<01:15,  6.60it/s]"
     ]
    },
    {
     "name": "stderr",
     "output_type": "stream",
     "text": [
      "\r",
      "Sampling chain 0, 0 divergences:  50%|█████     | 501/1000 [00:51<01:13,  6.78it/s]"
     ]
    },
    {
     "name": "stderr",
     "output_type": "stream",
     "text": [
      "\r",
      "Sampling chain 0, 0 divergences:  50%|█████     | 502/1000 [00:51<01:13,  6.81it/s]"
     ]
    },
    {
     "name": "stderr",
     "output_type": "stream",
     "text": [
      "\r",
      "Sampling chain 0, 0 divergences:  50%|█████     | 503/1000 [00:52<01:12,  6.83it/s]"
     ]
    },
    {
     "name": "stderr",
     "output_type": "stream",
     "text": [
      "\r",
      "Sampling chain 0, 0 divergences:  50%|█████     | 504/1000 [00:52<01:12,  6.84it/s]"
     ]
    },
    {
     "name": "stderr",
     "output_type": "stream",
     "text": [
      "\r",
      "Sampling chain 0, 0 divergences:  50%|█████     | 505/1000 [00:52<01:11,  6.89it/s]"
     ]
    },
    {
     "name": "stderr",
     "output_type": "stream",
     "text": [
      "\r",
      "Sampling chain 0, 0 divergences:  51%|█████     | 506/1000 [00:52<01:10,  6.96it/s]"
     ]
    },
    {
     "name": "stderr",
     "output_type": "stream",
     "text": [
      "\r",
      "Sampling chain 0, 0 divergences:  51%|█████     | 507/1000 [00:52<01:11,  6.94it/s]"
     ]
    },
    {
     "name": "stderr",
     "output_type": "stream",
     "text": [
      "\r",
      "Sampling chain 0, 0 divergences:  51%|█████     | 508/1000 [00:52<01:10,  6.95it/s]"
     ]
    },
    {
     "name": "stderr",
     "output_type": "stream",
     "text": [
      "\r",
      "Sampling chain 0, 0 divergences:  51%|█████     | 509/1000 [00:52<01:11,  6.85it/s]"
     ]
    },
    {
     "name": "stderr",
     "output_type": "stream",
     "text": [
      "\r",
      "Sampling chain 0, 0 divergences:  51%|█████     | 510/1000 [00:53<01:13,  6.64it/s]"
     ]
    },
    {
     "name": "stderr",
     "output_type": "stream",
     "text": [
      "\r",
      "Sampling chain 0, 0 divergences:  51%|█████     | 511/1000 [00:53<01:14,  6.58it/s]"
     ]
    },
    {
     "name": "stderr",
     "output_type": "stream",
     "text": [
      "\r",
      "Sampling chain 0, 0 divergences:  51%|█████     | 512/1000 [00:53<01:13,  6.68it/s]"
     ]
    },
    {
     "name": "stderr",
     "output_type": "stream",
     "text": [
      "\r",
      "Sampling chain 0, 0 divergences:  51%|█████▏    | 513/1000 [00:53<01:12,  6.75it/s]"
     ]
    },
    {
     "name": "stderr",
     "output_type": "stream",
     "text": [
      "\r",
      "Sampling chain 0, 0 divergences:  51%|█████▏    | 514/1000 [00:53<01:12,  6.71it/s]"
     ]
    },
    {
     "name": "stderr",
     "output_type": "stream",
     "text": [
      "\r",
      "Sampling chain 0, 0 divergences:  52%|█████▏    | 515/1000 [00:53<01:12,  6.70it/s]"
     ]
    },
    {
     "name": "stderr",
     "output_type": "stream",
     "text": [
      "\r",
      "Sampling chain 0, 0 divergences:  52%|█████▏    | 516/1000 [00:53<01:12,  6.69it/s]"
     ]
    },
    {
     "name": "stderr",
     "output_type": "stream",
     "text": [
      "\r",
      "Sampling chain 0, 0 divergences:  52%|█████▏    | 517/1000 [00:54<01:09,  6.99it/s]"
     ]
    },
    {
     "name": "stderr",
     "output_type": "stream",
     "text": [
      "\r",
      "Sampling chain 0, 0 divergences:  52%|█████▏    | 518/1000 [00:54<01:10,  6.87it/s]"
     ]
    },
    {
     "name": "stderr",
     "output_type": "stream",
     "text": [
      "\r",
      "Sampling chain 0, 0 divergences:  52%|█████▏    | 519/1000 [00:54<01:09,  6.89it/s]"
     ]
    },
    {
     "name": "stderr",
     "output_type": "stream",
     "text": [
      "\r",
      "Sampling chain 0, 0 divergences:  52%|█████▏    | 520/1000 [00:54<01:10,  6.79it/s]"
     ]
    },
    {
     "name": "stderr",
     "output_type": "stream",
     "text": [
      "\r",
      "Sampling chain 0, 0 divergences:  52%|█████▏    | 521/1000 [00:54<01:10,  6.81it/s]"
     ]
    },
    {
     "name": "stderr",
     "output_type": "stream",
     "text": [
      "\r",
      "Sampling chain 0, 0 divergences:  52%|█████▏    | 522/1000 [00:54<01:10,  6.82it/s]"
     ]
    },
    {
     "name": "stderr",
     "output_type": "stream",
     "text": [
      "\r",
      "Sampling chain 0, 0 divergences:  52%|█████▏    | 523/1000 [00:55<01:10,  6.76it/s]"
     ]
    },
    {
     "name": "stderr",
     "output_type": "stream",
     "text": [
      "\r",
      "Sampling chain 0, 0 divergences:  52%|█████▏    | 524/1000 [00:55<01:12,  6.61it/s]"
     ]
    },
    {
     "name": "stderr",
     "output_type": "stream",
     "text": [
      "\r",
      "Sampling chain 0, 0 divergences:  52%|█████▎    | 525/1000 [00:55<01:10,  6.78it/s]"
     ]
    },
    {
     "name": "stderr",
     "output_type": "stream",
     "text": [
      "\r",
      "Sampling chain 0, 0 divergences:  53%|█████▎    | 526/1000 [00:55<01:07,  7.00it/s]"
     ]
    },
    {
     "name": "stderr",
     "output_type": "stream",
     "text": [
      "\r",
      "Sampling chain 0, 0 divergences:  53%|█████▎    | 527/1000 [00:55<01:07,  6.99it/s]"
     ]
    },
    {
     "name": "stderr",
     "output_type": "stream",
     "text": [
      "\r",
      "Sampling chain 0, 0 divergences:  53%|█████▎    | 528/1000 [00:55<01:08,  6.93it/s]"
     ]
    },
    {
     "name": "stderr",
     "output_type": "stream",
     "text": [
      "\r",
      "Sampling chain 0, 0 divergences:  53%|█████▎    | 529/1000 [00:55<01:07,  6.96it/s]"
     ]
    },
    {
     "name": "stderr",
     "output_type": "stream",
     "text": [
      "\r",
      "Sampling chain 0, 0 divergences:  53%|█████▎    | 530/1000 [00:56<01:07,  7.01it/s]"
     ]
    },
    {
     "name": "stderr",
     "output_type": "stream",
     "text": [
      "\r",
      "Sampling chain 0, 0 divergences:  53%|█████▎    | 531/1000 [00:56<01:06,  7.06it/s]"
     ]
    },
    {
     "name": "stderr",
     "output_type": "stream",
     "text": [
      "\r",
      "Sampling chain 0, 0 divergences:  53%|█████▎    | 532/1000 [00:56<01:07,  6.97it/s]"
     ]
    },
    {
     "name": "stderr",
     "output_type": "stream",
     "text": [
      "\r",
      "Sampling chain 0, 0 divergences:  53%|█████▎    | 533/1000 [00:56<01:10,  6.67it/s]"
     ]
    },
    {
     "name": "stderr",
     "output_type": "stream",
     "text": [
      "\r",
      "Sampling chain 0, 0 divergences:  53%|█████▎    | 534/1000 [00:56<01:11,  6.51it/s]"
     ]
    },
    {
     "name": "stderr",
     "output_type": "stream",
     "text": [
      "\r",
      "Sampling chain 0, 0 divergences:  54%|█████▎    | 535/1000 [00:56<01:11,  6.49it/s]"
     ]
    },
    {
     "name": "stderr",
     "output_type": "stream",
     "text": [
      "\r",
      "Sampling chain 0, 0 divergences:  54%|█████▎    | 536/1000 [00:56<01:10,  6.55it/s]"
     ]
    },
    {
     "name": "stderr",
     "output_type": "stream",
     "text": [
      "\r",
      "Sampling chain 0, 0 divergences:  54%|█████▎    | 537/1000 [00:57<01:12,  6.42it/s]"
     ]
    },
    {
     "name": "stderr",
     "output_type": "stream",
     "text": [
      "\r",
      "Sampling chain 0, 0 divergences:  54%|█████▍    | 538/1000 [00:57<01:11,  6.43it/s]"
     ]
    },
    {
     "name": "stderr",
     "output_type": "stream",
     "text": [
      "\r",
      "Sampling chain 0, 0 divergences:  54%|█████▍    | 539/1000 [00:57<01:11,  6.42it/s]"
     ]
    },
    {
     "name": "stderr",
     "output_type": "stream",
     "text": [
      "\r",
      "Sampling chain 0, 0 divergences:  54%|█████▍    | 540/1000 [00:57<01:11,  6.42it/s]"
     ]
    },
    {
     "name": "stderr",
     "output_type": "stream",
     "text": [
      "\r",
      "Sampling chain 0, 0 divergences:  54%|█████▍    | 541/1000 [00:57<01:12,  6.29it/s]"
     ]
    },
    {
     "name": "stderr",
     "output_type": "stream",
     "text": [
      "\r",
      "Sampling chain 0, 0 divergences:  54%|█████▍    | 542/1000 [00:57<01:12,  6.31it/s]"
     ]
    },
    {
     "name": "stderr",
     "output_type": "stream",
     "text": [
      "\r",
      "Sampling chain 0, 0 divergences:  54%|█████▍    | 543/1000 [00:58<01:10,  6.47it/s]"
     ]
    },
    {
     "name": "stderr",
     "output_type": "stream",
     "text": [
      "\r",
      "Sampling chain 0, 0 divergences:  54%|█████▍    | 544/1000 [00:58<01:10,  6.47it/s]"
     ]
    },
    {
     "name": "stderr",
     "output_type": "stream",
     "text": [
      "\r",
      "Sampling chain 0, 0 divergences:  55%|█████▍    | 545/1000 [00:58<01:11,  6.36it/s]"
     ]
    },
    {
     "name": "stderr",
     "output_type": "stream",
     "text": [
      "\r",
      "Sampling chain 0, 0 divergences:  55%|█████▍    | 546/1000 [00:58<01:11,  6.37it/s]"
     ]
    },
    {
     "name": "stderr",
     "output_type": "stream",
     "text": [
      "\r",
      "Sampling chain 0, 0 divergences:  55%|█████▍    | 547/1000 [00:58<01:10,  6.41it/s]"
     ]
    },
    {
     "name": "stderr",
     "output_type": "stream",
     "text": [
      "\r",
      "Sampling chain 0, 0 divergences:  55%|█████▍    | 548/1000 [00:58<01:07,  6.71it/s]"
     ]
    },
    {
     "name": "stderr",
     "output_type": "stream",
     "text": [
      "\r",
      "Sampling chain 0, 0 divergences:  55%|█████▍    | 549/1000 [00:58<01:04,  6.97it/s]"
     ]
    },
    {
     "name": "stderr",
     "output_type": "stream",
     "text": [
      "\r",
      "Sampling chain 0, 0 divergences:  55%|█████▌    | 550/1000 [00:59<01:05,  6.92it/s]"
     ]
    },
    {
     "name": "stderr",
     "output_type": "stream",
     "text": [
      "\r",
      "Sampling chain 0, 0 divergences:  55%|█████▌    | 551/1000 [00:59<01:02,  7.18it/s]"
     ]
    },
    {
     "name": "stderr",
     "output_type": "stream",
     "text": [
      "\r",
      "Sampling chain 0, 0 divergences:  55%|█████▌    | 552/1000 [00:59<01:02,  7.16it/s]"
     ]
    },
    {
     "name": "stderr",
     "output_type": "stream",
     "text": [
      "\r",
      "Sampling chain 0, 0 divergences:  55%|█████▌    | 553/1000 [00:59<01:00,  7.34it/s]"
     ]
    },
    {
     "name": "stderr",
     "output_type": "stream",
     "text": [
      "\r",
      "Sampling chain 0, 0 divergences:  55%|█████▌    | 554/1000 [00:59<01:00,  7.40it/s]"
     ]
    },
    {
     "name": "stderr",
     "output_type": "stream",
     "text": [
      "\r",
      "Sampling chain 0, 0 divergences:  56%|█████▌    | 555/1000 [00:59<01:02,  7.08it/s]"
     ]
    },
    {
     "name": "stderr",
     "output_type": "stream",
     "text": [
      "\r",
      "Sampling chain 0, 0 divergences:  56%|█████▌    | 556/1000 [00:59<01:02,  7.15it/s]"
     ]
    },
    {
     "name": "stderr",
     "output_type": "stream",
     "text": [
      "\r",
      "Sampling chain 0, 0 divergences:  56%|█████▌    | 557/1000 [01:00<01:00,  7.35it/s]"
     ]
    },
    {
     "name": "stderr",
     "output_type": "stream",
     "text": [
      "\r",
      "Sampling chain 0, 0 divergences:  56%|█████▌    | 558/1000 [01:00<00:58,  7.50it/s]"
     ]
    },
    {
     "name": "stderr",
     "output_type": "stream",
     "text": [
      "\r",
      "Sampling chain 0, 0 divergences:  56%|█████▌    | 559/1000 [01:00<00:58,  7.53it/s]"
     ]
    },
    {
     "name": "stderr",
     "output_type": "stream",
     "text": [
      "\r",
      "Sampling chain 0, 0 divergences:  56%|█████▌    | 560/1000 [01:00<00:59,  7.34it/s]"
     ]
    },
    {
     "name": "stderr",
     "output_type": "stream",
     "text": [
      "\r",
      "Sampling chain 0, 0 divergences:  56%|█████▌    | 561/1000 [01:00<01:00,  7.26it/s]"
     ]
    },
    {
     "name": "stderr",
     "output_type": "stream",
     "text": [
      "\r",
      "Sampling chain 0, 0 divergences:  56%|█████▌    | 562/1000 [01:00<01:01,  7.14it/s]"
     ]
    },
    {
     "name": "stderr",
     "output_type": "stream",
     "text": [
      "\r",
      "Sampling chain 0, 0 divergences:  56%|█████▋    | 563/1000 [01:00<01:00,  7.18it/s]"
     ]
    },
    {
     "name": "stderr",
     "output_type": "stream",
     "text": [
      "\r",
      "Sampling chain 0, 0 divergences:  56%|█████▋    | 564/1000 [01:00<01:00,  7.25it/s]"
     ]
    },
    {
     "name": "stderr",
     "output_type": "stream",
     "text": [
      "\r",
      "Sampling chain 0, 0 divergences:  56%|█████▋    | 565/1000 [01:01<01:00,  7.16it/s]"
     ]
    },
    {
     "name": "stderr",
     "output_type": "stream",
     "text": [
      "\r",
      "Sampling chain 0, 0 divergences:  57%|█████▋    | 566/1000 [01:01<01:00,  7.13it/s]"
     ]
    },
    {
     "name": "stderr",
     "output_type": "stream",
     "text": [
      "\r",
      "Sampling chain 0, 0 divergences:  57%|█████▋    | 567/1000 [01:01<01:01,  7.05it/s]"
     ]
    },
    {
     "name": "stderr",
     "output_type": "stream",
     "text": [
      "\r",
      "Sampling chain 0, 0 divergences:  57%|█████▋    | 568/1000 [01:01<01:01,  7.06it/s]"
     ]
    },
    {
     "name": "stderr",
     "output_type": "stream",
     "text": [
      "\r",
      "Sampling chain 0, 0 divergences:  57%|█████▋    | 569/1000 [01:01<01:00,  7.18it/s]"
     ]
    },
    {
     "name": "stderr",
     "output_type": "stream",
     "text": [
      "\r",
      "Sampling chain 0, 0 divergences:  57%|█████▋    | 570/1000 [01:01<01:00,  7.09it/s]"
     ]
    },
    {
     "name": "stderr",
     "output_type": "stream",
     "text": [
      "\r",
      "Sampling chain 0, 0 divergences:  57%|█████▋    | 571/1000 [01:01<01:00,  7.11it/s]"
     ]
    },
    {
     "name": "stderr",
     "output_type": "stream",
     "text": [
      "\r",
      "Sampling chain 0, 0 divergences:  57%|█████▋    | 572/1000 [01:02<00:59,  7.14it/s]"
     ]
    },
    {
     "name": "stderr",
     "output_type": "stream",
     "text": [
      "\r",
      "Sampling chain 0, 0 divergences:  57%|█████▋    | 573/1000 [01:02<00:59,  7.24it/s]"
     ]
    },
    {
     "name": "stderr",
     "output_type": "stream",
     "text": [
      "\r",
      "Sampling chain 0, 0 divergences:  57%|█████▋    | 574/1000 [01:02<00:58,  7.26it/s]"
     ]
    },
    {
     "name": "stderr",
     "output_type": "stream",
     "text": [
      "\r",
      "Sampling chain 0, 0 divergences:  57%|█████▊    | 575/1000 [01:02<00:57,  7.42it/s]"
     ]
    },
    {
     "name": "stderr",
     "output_type": "stream",
     "text": [
      "\r",
      "Sampling chain 0, 0 divergences:  58%|█████▊    | 576/1000 [01:02<00:56,  7.46it/s]"
     ]
    },
    {
     "name": "stderr",
     "output_type": "stream",
     "text": [
      "\r",
      "Sampling chain 0, 0 divergences:  58%|█████▊    | 577/1000 [01:02<00:58,  7.21it/s]"
     ]
    },
    {
     "name": "stderr",
     "output_type": "stream",
     "text": [
      "\r",
      "Sampling chain 0, 0 divergences:  58%|█████▊    | 578/1000 [01:02<00:59,  7.13it/s]"
     ]
    },
    {
     "name": "stderr",
     "output_type": "stream",
     "text": [
      "\r",
      "Sampling chain 0, 0 divergences:  58%|█████▊    | 579/1000 [01:03<01:01,  6.86it/s]"
     ]
    },
    {
     "name": "stderr",
     "output_type": "stream",
     "text": [
      "\r",
      "Sampling chain 0, 0 divergences:  58%|█████▊    | 580/1000 [01:03<01:01,  6.79it/s]"
     ]
    },
    {
     "name": "stderr",
     "output_type": "stream",
     "text": [
      "\r",
      "Sampling chain 0, 0 divergences:  58%|█████▊    | 581/1000 [01:03<01:02,  6.74it/s]"
     ]
    },
    {
     "name": "stderr",
     "output_type": "stream",
     "text": [
      "\r",
      "Sampling chain 0, 0 divergences:  58%|█████▊    | 582/1000 [01:03<01:01,  6.76it/s]"
     ]
    },
    {
     "name": "stderr",
     "output_type": "stream",
     "text": [
      "\r",
      "Sampling chain 0, 0 divergences:  58%|█████▊    | 583/1000 [01:03<01:01,  6.75it/s]"
     ]
    },
    {
     "name": "stderr",
     "output_type": "stream",
     "text": [
      "\r",
      "Sampling chain 0, 0 divergences:  58%|█████▊    | 584/1000 [01:03<01:01,  6.77it/s]"
     ]
    },
    {
     "name": "stderr",
     "output_type": "stream",
     "text": [
      "\r",
      "Sampling chain 0, 0 divergences:  58%|█████▊    | 585/1000 [01:03<01:00,  6.82it/s]"
     ]
    },
    {
     "name": "stderr",
     "output_type": "stream",
     "text": [
      "\r",
      "Sampling chain 0, 0 divergences:  59%|█████▊    | 586/1000 [01:04<00:58,  7.03it/s]"
     ]
    },
    {
     "name": "stderr",
     "output_type": "stream",
     "text": [
      "\r",
      "Sampling chain 0, 0 divergences:  59%|█████▊    | 587/1000 [01:04<01:00,  6.79it/s]"
     ]
    },
    {
     "name": "stderr",
     "output_type": "stream",
     "text": [
      "\r",
      "Sampling chain 0, 0 divergences:  59%|█████▉    | 588/1000 [01:04<01:00,  6.85it/s]"
     ]
    },
    {
     "name": "stderr",
     "output_type": "stream",
     "text": [
      "\r",
      "Sampling chain 0, 0 divergences:  59%|█████▉    | 589/1000 [01:04<01:00,  6.83it/s]"
     ]
    },
    {
     "name": "stderr",
     "output_type": "stream",
     "text": [
      "\r",
      "Sampling chain 0, 0 divergences:  59%|█████▉    | 590/1000 [01:04<00:59,  6.83it/s]"
     ]
    },
    {
     "name": "stderr",
     "output_type": "stream",
     "text": [
      "\r",
      "Sampling chain 0, 0 divergences:  59%|█████▉    | 591/1000 [01:04<00:59,  6.92it/s]"
     ]
    },
    {
     "name": "stderr",
     "output_type": "stream",
     "text": [
      "\r",
      "Sampling chain 0, 0 divergences:  59%|█████▉    | 592/1000 [01:05<01:00,  6.74it/s]"
     ]
    },
    {
     "name": "stderr",
     "output_type": "stream",
     "text": [
      "\r",
      "Sampling chain 0, 0 divergences:  59%|█████▉    | 593/1000 [01:05<01:00,  6.77it/s]"
     ]
    },
    {
     "name": "stderr",
     "output_type": "stream",
     "text": [
      "\r",
      "Sampling chain 0, 0 divergences:  59%|█████▉    | 594/1000 [01:05<01:00,  6.76it/s]"
     ]
    },
    {
     "name": "stderr",
     "output_type": "stream",
     "text": [
      "\r",
      "Sampling chain 0, 0 divergences:  60%|█████▉    | 595/1000 [01:05<00:59,  6.76it/s]"
     ]
    },
    {
     "name": "stderr",
     "output_type": "stream",
     "text": [
      "\r",
      "Sampling chain 0, 0 divergences:  60%|█████▉    | 596/1000 [01:05<01:01,  6.61it/s]"
     ]
    },
    {
     "name": "stderr",
     "output_type": "stream",
     "text": [
      "\r",
      "Sampling chain 0, 0 divergences:  60%|█████▉    | 597/1000 [01:05<01:01,  6.58it/s]"
     ]
    },
    {
     "name": "stderr",
     "output_type": "stream",
     "text": [
      "\r",
      "Sampling chain 0, 0 divergences:  60%|█████▉    | 598/1000 [01:05<01:02,  6.48it/s]"
     ]
    },
    {
     "name": "stderr",
     "output_type": "stream",
     "text": [
      "\r",
      "Sampling chain 0, 0 divergences:  60%|█████▉    | 599/1000 [01:06<01:01,  6.51it/s]"
     ]
    },
    {
     "name": "stderr",
     "output_type": "stream",
     "text": [
      "\r",
      "Sampling chain 0, 0 divergences:  60%|██████    | 600/1000 [01:06<01:00,  6.62it/s]"
     ]
    },
    {
     "name": "stderr",
     "output_type": "stream",
     "text": [
      "\r",
      "Sampling chain 0, 0 divergences:  60%|██████    | 601/1000 [01:06<01:00,  6.57it/s]"
     ]
    },
    {
     "name": "stderr",
     "output_type": "stream",
     "text": [
      "\r",
      "Sampling chain 0, 0 divergences:  60%|██████    | 602/1000 [01:06<01:00,  6.61it/s]"
     ]
    },
    {
     "name": "stderr",
     "output_type": "stream",
     "text": [
      "\r",
      "Sampling chain 0, 0 divergences:  60%|██████    | 603/1000 [01:06<00:58,  6.76it/s]"
     ]
    },
    {
     "name": "stderr",
     "output_type": "stream",
     "text": [
      "\r",
      "Sampling chain 0, 0 divergences:  60%|██████    | 604/1000 [01:06<00:58,  6.73it/s]"
     ]
    },
    {
     "name": "stderr",
     "output_type": "stream",
     "text": [
      "\r",
      "Sampling chain 0, 0 divergences:  60%|██████    | 605/1000 [01:06<00:59,  6.68it/s]"
     ]
    },
    {
     "name": "stderr",
     "output_type": "stream",
     "text": [
      "\r",
      "Sampling chain 0, 0 divergences:  61%|██████    | 606/1000 [01:07<00:58,  6.74it/s]"
     ]
    },
    {
     "name": "stderr",
     "output_type": "stream",
     "text": [
      "\r",
      "Sampling chain 0, 0 divergences:  61%|██████    | 607/1000 [01:07<00:59,  6.57it/s]"
     ]
    },
    {
     "name": "stderr",
     "output_type": "stream",
     "text": [
      "\r",
      "Sampling chain 0, 0 divergences:  61%|██████    | 608/1000 [01:07<00:59,  6.56it/s]"
     ]
    },
    {
     "name": "stderr",
     "output_type": "stream",
     "text": [
      "\r",
      "Sampling chain 0, 0 divergences:  61%|██████    | 609/1000 [01:07<01:00,  6.45it/s]"
     ]
    },
    {
     "name": "stderr",
     "output_type": "stream",
     "text": [
      "\r",
      "Sampling chain 0, 0 divergences:  61%|██████    | 610/1000 [01:07<01:00,  6.48it/s]"
     ]
    },
    {
     "name": "stderr",
     "output_type": "stream",
     "text": [
      "\r",
      "Sampling chain 0, 0 divergences:  61%|██████    | 611/1000 [01:07<01:00,  6.41it/s]"
     ]
    },
    {
     "name": "stderr",
     "output_type": "stream",
     "text": [
      "\r",
      "Sampling chain 0, 0 divergences:  61%|██████    | 612/1000 [01:08<01:00,  6.44it/s]"
     ]
    },
    {
     "name": "stderr",
     "output_type": "stream",
     "text": [
      "\r",
      "Sampling chain 0, 0 divergences:  61%|██████▏   | 613/1000 [01:08<01:00,  6.44it/s]"
     ]
    },
    {
     "name": "stderr",
     "output_type": "stream",
     "text": [
      "\r",
      "Sampling chain 0, 0 divergences:  61%|██████▏   | 614/1000 [01:08<01:00,  6.39it/s]"
     ]
    },
    {
     "name": "stderr",
     "output_type": "stream",
     "text": [
      "\r",
      "Sampling chain 0, 0 divergences:  62%|██████▏   | 615/1000 [01:08<01:00,  6.41it/s]"
     ]
    },
    {
     "name": "stderr",
     "output_type": "stream",
     "text": [
      "\r",
      "Sampling chain 0, 0 divergences:  62%|██████▏   | 616/1000 [01:08<00:59,  6.41it/s]"
     ]
    },
    {
     "name": "stderr",
     "output_type": "stream",
     "text": [
      "\r",
      "Sampling chain 0, 0 divergences:  62%|██████▏   | 617/1000 [01:08<01:00,  6.34it/s]"
     ]
    },
    {
     "name": "stderr",
     "output_type": "stream",
     "text": [
      "\r",
      "Sampling chain 0, 0 divergences:  62%|██████▏   | 618/1000 [01:08<00:59,  6.39it/s]"
     ]
    },
    {
     "name": "stderr",
     "output_type": "stream",
     "text": [
      "\r",
      "Sampling chain 0, 0 divergences:  62%|██████▏   | 619/1000 [01:09<00:58,  6.53it/s]"
     ]
    },
    {
     "name": "stderr",
     "output_type": "stream",
     "text": [
      "\r",
      "Sampling chain 0, 0 divergences:  62%|██████▏   | 620/1000 [01:09<00:56,  6.71it/s]"
     ]
    },
    {
     "name": "stderr",
     "output_type": "stream",
     "text": [
      "\r",
      "Sampling chain 0, 0 divergences:  62%|██████▏   | 621/1000 [01:09<00:58,  6.47it/s]"
     ]
    },
    {
     "name": "stderr",
     "output_type": "stream",
     "text": [
      "\r",
      "Sampling chain 0, 0 divergences:  62%|██████▏   | 622/1000 [01:09<00:57,  6.58it/s]"
     ]
    },
    {
     "name": "stderr",
     "output_type": "stream",
     "text": [
      "\r",
      "Sampling chain 0, 0 divergences:  62%|██████▏   | 623/1000 [01:09<00:56,  6.68it/s]"
     ]
    },
    {
     "name": "stderr",
     "output_type": "stream",
     "text": [
      "\r",
      "Sampling chain 0, 0 divergences:  62%|██████▏   | 624/1000 [01:09<00:56,  6.61it/s]"
     ]
    },
    {
     "name": "stderr",
     "output_type": "stream",
     "text": [
      "\r",
      "Sampling chain 0, 0 divergences:  62%|██████▎   | 625/1000 [01:10<00:56,  6.69it/s]"
     ]
    },
    {
     "name": "stderr",
     "output_type": "stream",
     "text": [
      "\r",
      "Sampling chain 0, 0 divergences:  63%|██████▎   | 626/1000 [01:10<00:54,  6.86it/s]"
     ]
    },
    {
     "name": "stderr",
     "output_type": "stream",
     "text": [
      "\r",
      "Sampling chain 0, 0 divergences:  63%|██████▎   | 627/1000 [01:10<00:53,  7.01it/s]"
     ]
    },
    {
     "name": "stderr",
     "output_type": "stream",
     "text": [
      "\r",
      "Sampling chain 0, 0 divergences:  63%|██████▎   | 628/1000 [01:10<00:53,  6.99it/s]"
     ]
    },
    {
     "name": "stderr",
     "output_type": "stream",
     "text": [
      "\r",
      "Sampling chain 0, 0 divergences:  63%|██████▎   | 629/1000 [01:10<00:54,  6.82it/s]"
     ]
    },
    {
     "name": "stderr",
     "output_type": "stream",
     "text": [
      "\r",
      "Sampling chain 0, 0 divergences:  63%|██████▎   | 630/1000 [01:10<00:52,  7.08it/s]"
     ]
    },
    {
     "name": "stderr",
     "output_type": "stream",
     "text": [
      "\r",
      "Sampling chain 0, 0 divergences:  63%|██████▎   | 631/1000 [01:10<00:52,  7.05it/s]"
     ]
    },
    {
     "name": "stderr",
     "output_type": "stream",
     "text": [
      "\r",
      "Sampling chain 0, 0 divergences:  63%|██████▎   | 632/1000 [01:11<00:52,  6.95it/s]"
     ]
    },
    {
     "name": "stderr",
     "output_type": "stream",
     "text": [
      "\r",
      "Sampling chain 0, 0 divergences:  63%|██████▎   | 633/1000 [01:11<00:51,  7.13it/s]"
     ]
    },
    {
     "name": "stderr",
     "output_type": "stream",
     "text": [
      "\r",
      "Sampling chain 0, 0 divergences:  63%|██████▎   | 634/1000 [01:11<00:50,  7.20it/s]"
     ]
    },
    {
     "name": "stderr",
     "output_type": "stream",
     "text": [
      "\r",
      "Sampling chain 0, 0 divergences:  64%|██████▎   | 635/1000 [01:11<00:52,  6.93it/s]"
     ]
    },
    {
     "name": "stderr",
     "output_type": "stream",
     "text": [
      "\r",
      "Sampling chain 0, 0 divergences:  64%|██████▎   | 636/1000 [01:11<00:53,  6.84it/s]"
     ]
    },
    {
     "name": "stderr",
     "output_type": "stream",
     "text": [
      "\r",
      "Sampling chain 0, 0 divergences:  64%|██████▎   | 637/1000 [01:11<00:51,  7.02it/s]"
     ]
    },
    {
     "name": "stderr",
     "output_type": "stream",
     "text": [
      "\r",
      "Sampling chain 0, 0 divergences:  64%|██████▍   | 638/1000 [01:11<00:50,  7.19it/s]"
     ]
    },
    {
     "name": "stderr",
     "output_type": "stream",
     "text": [
      "\r",
      "Sampling chain 0, 0 divergences:  64%|██████▍   | 639/1000 [01:12<00:50,  7.17it/s]"
     ]
    },
    {
     "name": "stderr",
     "output_type": "stream",
     "text": [
      "\r",
      "Sampling chain 0, 0 divergences:  64%|██████▍   | 640/1000 [01:12<00:48,  7.35it/s]"
     ]
    },
    {
     "name": "stderr",
     "output_type": "stream",
     "text": [
      "\r",
      "Sampling chain 0, 0 divergences:  64%|██████▍   | 641/1000 [01:12<00:47,  7.49it/s]"
     ]
    },
    {
     "name": "stderr",
     "output_type": "stream",
     "text": [
      "\r",
      "Sampling chain 0, 0 divergences:  64%|██████▍   | 642/1000 [01:12<00:47,  7.50it/s]"
     ]
    },
    {
     "name": "stderr",
     "output_type": "stream",
     "text": [
      "\r",
      "Sampling chain 0, 0 divergences:  64%|██████▍   | 643/1000 [01:12<00:48,  7.39it/s]"
     ]
    },
    {
     "name": "stderr",
     "output_type": "stream",
     "text": [
      "\r",
      "Sampling chain 0, 0 divergences:  64%|██████▍   | 644/1000 [01:12<00:48,  7.41it/s]"
     ]
    },
    {
     "name": "stderr",
     "output_type": "stream",
     "text": [
      "\r",
      "Sampling chain 0, 0 divergences:  64%|██████▍   | 645/1000 [01:12<00:47,  7.53it/s]"
     ]
    },
    {
     "name": "stderr",
     "output_type": "stream",
     "text": [
      "\r",
      "Sampling chain 0, 0 divergences:  65%|██████▍   | 646/1000 [01:12<00:47,  7.45it/s]"
     ]
    },
    {
     "name": "stderr",
     "output_type": "stream",
     "text": [
      "\r",
      "Sampling chain 0, 0 divergences:  65%|██████▍   | 647/1000 [01:13<00:49,  7.12it/s]"
     ]
    },
    {
     "name": "stderr",
     "output_type": "stream",
     "text": [
      "\r",
      "Sampling chain 0, 0 divergences:  65%|██████▍   | 648/1000 [01:13<00:49,  7.17it/s]"
     ]
    },
    {
     "name": "stderr",
     "output_type": "stream",
     "text": [
      "\r",
      "Sampling chain 0, 0 divergences:  65%|██████▍   | 649/1000 [01:13<00:48,  7.22it/s]"
     ]
    },
    {
     "name": "stderr",
     "output_type": "stream",
     "text": [
      "\r",
      "Sampling chain 0, 0 divergences:  65%|██████▌   | 650/1000 [01:13<00:49,  7.13it/s]"
     ]
    },
    {
     "name": "stderr",
     "output_type": "stream",
     "text": [
      "\r",
      "Sampling chain 0, 0 divergences:  65%|██████▌   | 651/1000 [01:13<00:50,  6.91it/s]"
     ]
    },
    {
     "name": "stderr",
     "output_type": "stream",
     "text": [
      "\r",
      "Sampling chain 0, 0 divergences:  65%|██████▌   | 652/1000 [01:13<00:49,  6.99it/s]"
     ]
    },
    {
     "name": "stderr",
     "output_type": "stream",
     "text": [
      "\r",
      "Sampling chain 0, 0 divergences:  65%|██████▌   | 653/1000 [01:13<00:49,  7.05it/s]"
     ]
    },
    {
     "name": "stderr",
     "output_type": "stream",
     "text": [
      "\r",
      "Sampling chain 0, 0 divergences:  65%|██████▌   | 654/1000 [01:14<00:49,  7.00it/s]"
     ]
    },
    {
     "name": "stderr",
     "output_type": "stream",
     "text": [
      "\r",
      "Sampling chain 0, 0 divergences:  66%|██████▌   | 655/1000 [01:14<00:48,  7.08it/s]"
     ]
    },
    {
     "name": "stderr",
     "output_type": "stream",
     "text": [
      "\r",
      "Sampling chain 0, 0 divergences:  66%|██████▌   | 656/1000 [01:14<00:48,  7.15it/s]"
     ]
    },
    {
     "name": "stderr",
     "output_type": "stream",
     "text": [
      "\r",
      "Sampling chain 0, 0 divergences:  66%|██████▌   | 657/1000 [01:14<00:47,  7.17it/s]"
     ]
    },
    {
     "name": "stderr",
     "output_type": "stream",
     "text": [
      "\r",
      "Sampling chain 0, 0 divergences:  66%|██████▌   | 658/1000 [01:14<00:48,  7.09it/s]"
     ]
    },
    {
     "name": "stderr",
     "output_type": "stream",
     "text": [
      "\r",
      "Sampling chain 0, 0 divergences:  66%|██████▌   | 659/1000 [01:14<00:48,  7.02it/s]"
     ]
    },
    {
     "name": "stderr",
     "output_type": "stream",
     "text": [
      "\r",
      "Sampling chain 0, 0 divergences:  66%|██████▌   | 660/1000 [01:14<00:48,  7.00it/s]"
     ]
    },
    {
     "name": "stderr",
     "output_type": "stream",
     "text": [
      "\r",
      "Sampling chain 0, 0 divergences:  66%|██████▌   | 661/1000 [01:15<00:47,  7.07it/s]"
     ]
    },
    {
     "name": "stderr",
     "output_type": "stream",
     "text": [
      "\r",
      "Sampling chain 0, 0 divergences:  66%|██████▌   | 662/1000 [01:15<00:47,  7.18it/s]"
     ]
    },
    {
     "name": "stderr",
     "output_type": "stream",
     "text": [
      "\r",
      "Sampling chain 0, 0 divergences:  66%|██████▋   | 663/1000 [01:15<00:46,  7.24it/s]"
     ]
    },
    {
     "name": "stderr",
     "output_type": "stream",
     "text": [
      "\r",
      "Sampling chain 0, 0 divergences:  66%|██████▋   | 664/1000 [01:15<00:47,  7.11it/s]"
     ]
    },
    {
     "name": "stderr",
     "output_type": "stream",
     "text": [
      "\r",
      "Sampling chain 0, 0 divergences:  66%|██████▋   | 665/1000 [01:15<00:47,  7.08it/s]"
     ]
    },
    {
     "name": "stderr",
     "output_type": "stream",
     "text": [
      "\r",
      "Sampling chain 0, 0 divergences:  67%|██████▋   | 666/1000 [01:15<00:48,  6.92it/s]"
     ]
    },
    {
     "name": "stderr",
     "output_type": "stream",
     "text": [
      "\r",
      "Sampling chain 0, 0 divergences:  67%|██████▋   | 667/1000 [01:15<00:47,  7.08it/s]"
     ]
    },
    {
     "name": "stderr",
     "output_type": "stream",
     "text": [
      "\r",
      "Sampling chain 0, 0 divergences:  67%|██████▋   | 668/1000 [01:16<00:47,  7.00it/s]"
     ]
    },
    {
     "name": "stderr",
     "output_type": "stream",
     "text": [
      "\r",
      "Sampling chain 0, 0 divergences:  67%|██████▋   | 669/1000 [01:16<00:46,  7.09it/s]"
     ]
    },
    {
     "name": "stderr",
     "output_type": "stream",
     "text": [
      "\r",
      "Sampling chain 0, 0 divergences:  67%|██████▋   | 670/1000 [01:16<00:46,  7.17it/s]"
     ]
    },
    {
     "name": "stderr",
     "output_type": "stream",
     "text": [
      "\r",
      "Sampling chain 0, 0 divergences:  67%|██████▋   | 671/1000 [01:16<00:46,  7.10it/s]"
     ]
    },
    {
     "name": "stderr",
     "output_type": "stream",
     "text": [
      "\r",
      "Sampling chain 0, 0 divergences:  67%|██████▋   | 672/1000 [01:16<00:46,  7.04it/s]"
     ]
    },
    {
     "name": "stderr",
     "output_type": "stream",
     "text": [
      "\r",
      "Sampling chain 0, 0 divergences:  67%|██████▋   | 673/1000 [01:16<00:46,  7.08it/s]"
     ]
    },
    {
     "name": "stderr",
     "output_type": "stream",
     "text": [
      "\r",
      "Sampling chain 0, 0 divergences:  67%|██████▋   | 674/1000 [01:16<00:44,  7.31it/s]"
     ]
    },
    {
     "name": "stderr",
     "output_type": "stream",
     "text": [
      "\r",
      "Sampling chain 0, 0 divergences:  68%|██████▊   | 675/1000 [01:17<00:44,  7.25it/s]"
     ]
    },
    {
     "name": "stderr",
     "output_type": "stream",
     "text": [
      "\r",
      "Sampling chain 0, 0 divergences:  68%|██████▊   | 676/1000 [01:17<00:44,  7.24it/s]"
     ]
    },
    {
     "name": "stderr",
     "output_type": "stream",
     "text": [
      "\r",
      "Sampling chain 0, 0 divergences:  68%|██████▊   | 677/1000 [01:17<00:44,  7.28it/s]"
     ]
    },
    {
     "name": "stderr",
     "output_type": "stream",
     "text": [
      "\r",
      "Sampling chain 0, 0 divergences:  68%|██████▊   | 678/1000 [01:17<00:44,  7.27it/s]"
     ]
    },
    {
     "name": "stderr",
     "output_type": "stream",
     "text": [
      "\r",
      "Sampling chain 0, 0 divergences:  68%|██████▊   | 679/1000 [01:17<00:44,  7.15it/s]"
     ]
    },
    {
     "name": "stderr",
     "output_type": "stream",
     "text": [
      "\r",
      "Sampling chain 0, 0 divergences:  68%|██████▊   | 680/1000 [01:17<00:45,  6.96it/s]"
     ]
    },
    {
     "name": "stderr",
     "output_type": "stream",
     "text": [
      "\r",
      "Sampling chain 0, 0 divergences:  68%|██████▊   | 681/1000 [01:17<00:46,  6.88it/s]"
     ]
    },
    {
     "name": "stderr",
     "output_type": "stream",
     "text": [
      "\r",
      "Sampling chain 0, 0 divergences:  68%|██████▊   | 682/1000 [01:18<00:48,  6.62it/s]"
     ]
    },
    {
     "name": "stderr",
     "output_type": "stream",
     "text": [
      "\r",
      "Sampling chain 0, 0 divergences:  68%|██████▊   | 683/1000 [01:18<00:48,  6.54it/s]"
     ]
    },
    {
     "name": "stderr",
     "output_type": "stream",
     "text": [
      "\r",
      "Sampling chain 0, 0 divergences:  68%|██████▊   | 684/1000 [01:18<00:47,  6.66it/s]"
     ]
    },
    {
     "name": "stderr",
     "output_type": "stream",
     "text": [
      "\r",
      "Sampling chain 0, 0 divergences:  68%|██████▊   | 685/1000 [01:18<00:47,  6.65it/s]"
     ]
    },
    {
     "name": "stderr",
     "output_type": "stream",
     "text": [
      "\r",
      "Sampling chain 0, 0 divergences:  69%|██████▊   | 686/1000 [01:18<00:47,  6.67it/s]"
     ]
    },
    {
     "name": "stderr",
     "output_type": "stream",
     "text": [
      "\r",
      "Sampling chain 0, 0 divergences:  69%|██████▊   | 687/1000 [01:18<00:48,  6.48it/s]"
     ]
    },
    {
     "name": "stderr",
     "output_type": "stream",
     "text": [
      "\r",
      "Sampling chain 0, 0 divergences:  69%|██████▉   | 688/1000 [01:18<00:48,  6.50it/s]"
     ]
    },
    {
     "name": "stderr",
     "output_type": "stream",
     "text": [
      "\r",
      "Sampling chain 0, 0 divergences:  69%|██████▉   | 689/1000 [01:19<00:48,  6.44it/s]"
     ]
    },
    {
     "name": "stderr",
     "output_type": "stream",
     "text": [
      "\r",
      "Sampling chain 0, 0 divergences:  69%|██████▉   | 690/1000 [01:19<00:47,  6.48it/s]"
     ]
    },
    {
     "name": "stderr",
     "output_type": "stream",
     "text": [
      "\r",
      "Sampling chain 0, 0 divergences:  69%|██████▉   | 691/1000 [01:19<00:47,  6.56it/s]"
     ]
    },
    {
     "name": "stderr",
     "output_type": "stream",
     "text": [
      "\r",
      "Sampling chain 0, 0 divergences:  69%|██████▉   | 692/1000 [01:19<00:47,  6.50it/s]"
     ]
    },
    {
     "name": "stderr",
     "output_type": "stream",
     "text": [
      "\r",
      "Sampling chain 0, 0 divergences:  69%|██████▉   | 693/1000 [01:19<00:46,  6.54it/s]"
     ]
    },
    {
     "name": "stderr",
     "output_type": "stream",
     "text": [
      "\r",
      "Sampling chain 0, 0 divergences:  69%|██████▉   | 694/1000 [01:19<00:47,  6.49it/s]"
     ]
    },
    {
     "name": "stderr",
     "output_type": "stream",
     "text": [
      "\r",
      "Sampling chain 0, 0 divergences:  70%|██████▉   | 695/1000 [01:20<00:46,  6.56it/s]"
     ]
    },
    {
     "name": "stderr",
     "output_type": "stream",
     "text": [
      "\r",
      "Sampling chain 0, 0 divergences:  70%|██████▉   | 696/1000 [01:20<00:45,  6.62it/s]"
     ]
    },
    {
     "name": "stderr",
     "output_type": "stream",
     "text": [
      "\r",
      "Sampling chain 0, 0 divergences:  70%|██████▉   | 697/1000 [01:20<00:44,  6.74it/s]"
     ]
    },
    {
     "name": "stderr",
     "output_type": "stream",
     "text": [
      "\r",
      "Sampling chain 0, 0 divergences:  70%|██████▉   | 698/1000 [01:20<00:44,  6.84it/s]"
     ]
    },
    {
     "name": "stderr",
     "output_type": "stream",
     "text": [
      "\r",
      "Sampling chain 0, 0 divergences:  70%|██████▉   | 699/1000 [01:20<00:44,  6.80it/s]"
     ]
    },
    {
     "name": "stderr",
     "output_type": "stream",
     "text": [
      "\r",
      "Sampling chain 0, 0 divergences:  70%|███████   | 700/1000 [01:20<00:44,  6.72it/s]"
     ]
    },
    {
     "name": "stderr",
     "output_type": "stream",
     "text": [
      "\r",
      "Sampling chain 0, 0 divergences:  70%|███████   | 701/1000 [01:20<00:45,  6.64it/s]"
     ]
    },
    {
     "name": "stderr",
     "output_type": "stream",
     "text": [
      "\r",
      "Sampling chain 0, 0 divergences:  70%|███████   | 702/1000 [01:21<00:44,  6.69it/s]"
     ]
    },
    {
     "name": "stderr",
     "output_type": "stream",
     "text": [
      "\r",
      "Sampling chain 0, 0 divergences:  70%|███████   | 703/1000 [01:21<00:44,  6.74it/s]"
     ]
    },
    {
     "name": "stderr",
     "output_type": "stream",
     "text": [
      "\r",
      "Sampling chain 0, 0 divergences:  70%|███████   | 704/1000 [01:21<00:45,  6.57it/s]"
     ]
    },
    {
     "name": "stderr",
     "output_type": "stream",
     "text": [
      "\r",
      "Sampling chain 0, 0 divergences:  70%|███████   | 705/1000 [01:21<00:45,  6.55it/s]"
     ]
    },
    {
     "name": "stderr",
     "output_type": "stream",
     "text": [
      "\r",
      "Sampling chain 0, 0 divergences:  71%|███████   | 706/1000 [01:21<00:45,  6.51it/s]"
     ]
    },
    {
     "name": "stderr",
     "output_type": "stream",
     "text": [
      "\r",
      "Sampling chain 0, 0 divergences:  71%|███████   | 707/1000 [01:21<00:44,  6.57it/s]"
     ]
    },
    {
     "name": "stderr",
     "output_type": "stream",
     "text": [
      "\r",
      "Sampling chain 0, 0 divergences:  71%|███████   | 708/1000 [01:21<00:44,  6.59it/s]"
     ]
    },
    {
     "name": "stderr",
     "output_type": "stream",
     "text": [
      "\r",
      "Sampling chain 0, 0 divergences:  71%|███████   | 709/1000 [01:22<00:43,  6.64it/s]"
     ]
    },
    {
     "name": "stderr",
     "output_type": "stream",
     "text": [
      "\r",
      "Sampling chain 0, 0 divergences:  71%|███████   | 710/1000 [01:22<00:42,  6.82it/s]"
     ]
    },
    {
     "name": "stderr",
     "output_type": "stream",
     "text": [
      "\r",
      "Sampling chain 0, 0 divergences:  71%|███████   | 711/1000 [01:22<00:41,  6.94it/s]"
     ]
    },
    {
     "name": "stderr",
     "output_type": "stream",
     "text": [
      "\r",
      "Sampling chain 0, 0 divergences:  71%|███████   | 712/1000 [01:22<00:40,  7.05it/s]"
     ]
    },
    {
     "name": "stderr",
     "output_type": "stream",
     "text": [
      "\r",
      "Sampling chain 0, 0 divergences:  71%|███████▏  | 713/1000 [01:22<00:40,  7.05it/s]"
     ]
    },
    {
     "name": "stderr",
     "output_type": "stream",
     "text": [
      "\r",
      "Sampling chain 0, 0 divergences:  71%|███████▏  | 714/1000 [01:22<00:39,  7.15it/s]"
     ]
    },
    {
     "name": "stderr",
     "output_type": "stream",
     "text": [
      "\r",
      "Sampling chain 0, 0 divergences:  72%|███████▏  | 715/1000 [01:22<00:39,  7.18it/s]"
     ]
    },
    {
     "name": "stderr",
     "output_type": "stream",
     "text": [
      "\r",
      "Sampling chain 0, 0 divergences:  72%|███████▏  | 716/1000 [01:23<00:40,  6.98it/s]"
     ]
    },
    {
     "name": "stderr",
     "output_type": "stream",
     "text": [
      "\r",
      "Sampling chain 0, 0 divergences:  72%|███████▏  | 717/1000 [01:23<00:41,  6.81it/s]"
     ]
    },
    {
     "name": "stderr",
     "output_type": "stream",
     "text": [
      "\r",
      "Sampling chain 0, 0 divergences:  72%|███████▏  | 718/1000 [01:23<00:41,  6.75it/s]"
     ]
    },
    {
     "name": "stderr",
     "output_type": "stream",
     "text": [
      "\r",
      "Sampling chain 0, 0 divergences:  72%|███████▏  | 719/1000 [01:23<00:41,  6.78it/s]"
     ]
    },
    {
     "name": "stderr",
     "output_type": "stream",
     "text": [
      "\r",
      "Sampling chain 0, 0 divergences:  72%|███████▏  | 720/1000 [01:23<00:42,  6.66it/s]"
     ]
    },
    {
     "name": "stderr",
     "output_type": "stream",
     "text": [
      "\r",
      "Sampling chain 0, 0 divergences:  72%|███████▏  | 721/1000 [01:23<00:41,  6.67it/s]"
     ]
    },
    {
     "name": "stderr",
     "output_type": "stream",
     "text": [
      "\r",
      "Sampling chain 0, 0 divergences:  72%|███████▏  | 722/1000 [01:24<00:40,  6.85it/s]"
     ]
    },
    {
     "name": "stderr",
     "output_type": "stream",
     "text": [
      "\r",
      "Sampling chain 0, 0 divergences:  72%|███████▏  | 723/1000 [01:24<00:39,  7.07it/s]"
     ]
    },
    {
     "name": "stderr",
     "output_type": "stream",
     "text": [
      "\r",
      "Sampling chain 0, 0 divergences:  72%|███████▏  | 724/1000 [01:24<00:38,  7.21it/s]"
     ]
    },
    {
     "name": "stderr",
     "output_type": "stream",
     "text": [
      "\r",
      "Sampling chain 0, 0 divergences:  72%|███████▎  | 725/1000 [01:24<00:38,  7.23it/s]"
     ]
    },
    {
     "name": "stderr",
     "output_type": "stream",
     "text": [
      "\r",
      "Sampling chain 0, 0 divergences:  73%|███████▎  | 726/1000 [01:24<00:39,  6.96it/s]"
     ]
    },
    {
     "name": "stderr",
     "output_type": "stream",
     "text": [
      "\r",
      "Sampling chain 0, 0 divergences:  73%|███████▎  | 727/1000 [01:24<00:40,  6.75it/s]"
     ]
    },
    {
     "name": "stderr",
     "output_type": "stream",
     "text": [
      "\r",
      "Sampling chain 0, 0 divergences:  73%|███████▎  | 728/1000 [01:24<00:40,  6.74it/s]"
     ]
    },
    {
     "name": "stderr",
     "output_type": "stream",
     "text": [
      "\r",
      "Sampling chain 0, 0 divergences:  73%|███████▎  | 729/1000 [01:25<00:39,  6.88it/s]"
     ]
    },
    {
     "name": "stderr",
     "output_type": "stream",
     "text": [
      "\r",
      "Sampling chain 0, 0 divergences:  73%|███████▎  | 730/1000 [01:25<00:38,  7.04it/s]"
     ]
    },
    {
     "name": "stderr",
     "output_type": "stream",
     "text": [
      "\r",
      "Sampling chain 0, 0 divergences:  73%|███████▎  | 731/1000 [01:25<00:39,  6.88it/s]"
     ]
    },
    {
     "name": "stderr",
     "output_type": "stream",
     "text": [
      "\r",
      "Sampling chain 0, 0 divergences:  73%|███████▎  | 732/1000 [01:25<00:39,  6.81it/s]"
     ]
    },
    {
     "name": "stderr",
     "output_type": "stream",
     "text": [
      "\r",
      "Sampling chain 0, 0 divergences:  73%|███████▎  | 733/1000 [01:25<00:39,  6.69it/s]"
     ]
    },
    {
     "name": "stderr",
     "output_type": "stream",
     "text": [
      "\r",
      "Sampling chain 0, 0 divergences:  73%|███████▎  | 734/1000 [01:25<00:40,  6.57it/s]"
     ]
    },
    {
     "name": "stderr",
     "output_type": "stream",
     "text": [
      "\r",
      "Sampling chain 0, 0 divergences:  74%|███████▎  | 735/1000 [01:25<00:40,  6.52it/s]"
     ]
    },
    {
     "name": "stderr",
     "output_type": "stream",
     "text": [
      "\r",
      "Sampling chain 0, 0 divergences:  74%|███████▎  | 736/1000 [01:26<00:40,  6.47it/s]"
     ]
    },
    {
     "name": "stderr",
     "output_type": "stream",
     "text": [
      "\r",
      "Sampling chain 0, 0 divergences:  74%|███████▎  | 737/1000 [01:26<00:41,  6.29it/s]"
     ]
    },
    {
     "name": "stderr",
     "output_type": "stream",
     "text": [
      "\r",
      "Sampling chain 0, 0 divergences:  74%|███████▍  | 738/1000 [01:26<00:42,  6.20it/s]"
     ]
    },
    {
     "name": "stderr",
     "output_type": "stream",
     "text": [
      "\r",
      "Sampling chain 0, 0 divergences:  74%|███████▍  | 739/1000 [01:26<00:42,  6.13it/s]"
     ]
    },
    {
     "name": "stderr",
     "output_type": "stream",
     "text": [
      "\r",
      "Sampling chain 0, 0 divergences:  74%|███████▍  | 740/1000 [01:26<00:41,  6.20it/s]"
     ]
    },
    {
     "name": "stderr",
     "output_type": "stream",
     "text": [
      "\r",
      "Sampling chain 0, 0 divergences:  74%|███████▍  | 741/1000 [01:26<00:41,  6.30it/s]"
     ]
    },
    {
     "name": "stderr",
     "output_type": "stream",
     "text": [
      "\r",
      "Sampling chain 0, 0 divergences:  74%|███████▍  | 742/1000 [01:27<00:40,  6.34it/s]"
     ]
    },
    {
     "name": "stderr",
     "output_type": "stream",
     "text": [
      "\r",
      "Sampling chain 0, 0 divergences:  74%|███████▍  | 743/1000 [01:27<00:40,  6.35it/s]"
     ]
    },
    {
     "name": "stderr",
     "output_type": "stream",
     "text": [
      "\r",
      "Sampling chain 0, 0 divergences:  74%|███████▍  | 744/1000 [01:27<00:39,  6.51it/s]"
     ]
    },
    {
     "name": "stderr",
     "output_type": "stream",
     "text": [
      "\r",
      "Sampling chain 0, 0 divergences:  74%|███████▍  | 745/1000 [01:27<00:38,  6.68it/s]"
     ]
    },
    {
     "name": "stderr",
     "output_type": "stream",
     "text": [
      "\r",
      "Sampling chain 0, 0 divergences:  75%|███████▍  | 746/1000 [01:27<00:36,  6.96it/s]"
     ]
    },
    {
     "name": "stderr",
     "output_type": "stream",
     "text": [
      "\r",
      "Sampling chain 0, 0 divergences:  75%|███████▍  | 747/1000 [01:27<00:36,  7.02it/s]"
     ]
    },
    {
     "name": "stderr",
     "output_type": "stream",
     "text": [
      "\r",
      "Sampling chain 0, 0 divergences:  75%|███████▍  | 748/1000 [01:27<00:35,  7.19it/s]"
     ]
    },
    {
     "name": "stderr",
     "output_type": "stream",
     "text": [
      "\r",
      "Sampling chain 0, 0 divergences:  75%|███████▍  | 749/1000 [01:28<00:35,  7.14it/s]"
     ]
    },
    {
     "name": "stderr",
     "output_type": "stream",
     "text": [
      "\r",
      "Sampling chain 0, 0 divergences:  75%|███████▌  | 750/1000 [01:28<00:36,  6.91it/s]"
     ]
    },
    {
     "name": "stderr",
     "output_type": "stream",
     "text": [
      "\r",
      "Sampling chain 0, 0 divergences:  75%|███████▌  | 751/1000 [01:28<00:36,  6.88it/s]"
     ]
    },
    {
     "name": "stderr",
     "output_type": "stream",
     "text": [
      "\r",
      "Sampling chain 0, 0 divergences:  75%|███████▌  | 752/1000 [01:28<00:35,  6.93it/s]"
     ]
    },
    {
     "name": "stderr",
     "output_type": "stream",
     "text": [
      "\r",
      "Sampling chain 0, 0 divergences:  75%|███████▌  | 753/1000 [01:28<00:35,  6.94it/s]"
     ]
    },
    {
     "name": "stderr",
     "output_type": "stream",
     "text": [
      "\r",
      "Sampling chain 0, 0 divergences:  75%|███████▌  | 754/1000 [01:28<00:35,  6.93it/s]"
     ]
    },
    {
     "name": "stderr",
     "output_type": "stream",
     "text": [
      "\r",
      "Sampling chain 0, 0 divergences:  76%|███████▌  | 755/1000 [01:28<00:33,  7.24it/s]"
     ]
    },
    {
     "name": "stderr",
     "output_type": "stream",
     "text": [
      "\r",
      "Sampling chain 0, 0 divergences:  76%|███████▌  | 756/1000 [01:29<00:33,  7.22it/s]"
     ]
    },
    {
     "name": "stderr",
     "output_type": "stream",
     "text": [
      "\r",
      "Sampling chain 0, 0 divergences:  76%|███████▌  | 757/1000 [01:29<00:32,  7.40it/s]"
     ]
    },
    {
     "name": "stderr",
     "output_type": "stream",
     "text": [
      "\r",
      "Sampling chain 0, 0 divergences:  76%|███████▌  | 758/1000 [01:29<00:33,  7.22it/s]"
     ]
    },
    {
     "name": "stderr",
     "output_type": "stream",
     "text": [
      "\r",
      "Sampling chain 0, 0 divergences:  76%|███████▌  | 759/1000 [01:29<00:34,  7.03it/s]"
     ]
    },
    {
     "name": "stderr",
     "output_type": "stream",
     "text": [
      "\r",
      "Sampling chain 0, 0 divergences:  76%|███████▌  | 760/1000 [01:29<00:34,  7.00it/s]"
     ]
    },
    {
     "name": "stderr",
     "output_type": "stream",
     "text": [
      "\r",
      "Sampling chain 0, 0 divergences:  76%|███████▌  | 761/1000 [01:29<00:34,  6.95it/s]"
     ]
    },
    {
     "name": "stderr",
     "output_type": "stream",
     "text": [
      "\r",
      "Sampling chain 0, 0 divergences:  76%|███████▌  | 762/1000 [01:29<00:34,  6.92it/s]"
     ]
    },
    {
     "name": "stderr",
     "output_type": "stream",
     "text": [
      "\r",
      "Sampling chain 0, 0 divergences:  76%|███████▋  | 763/1000 [01:30<00:33,  7.17it/s]"
     ]
    },
    {
     "name": "stderr",
     "output_type": "stream",
     "text": [
      "\r",
      "Sampling chain 0, 0 divergences:  76%|███████▋  | 764/1000 [01:30<00:32,  7.27it/s]"
     ]
    },
    {
     "name": "stderr",
     "output_type": "stream",
     "text": [
      "\r",
      "Sampling chain 0, 0 divergences:  76%|███████▋  | 765/1000 [01:30<00:32,  7.22it/s]"
     ]
    },
    {
     "name": "stderr",
     "output_type": "stream",
     "text": [
      "\r",
      "Sampling chain 0, 0 divergences:  77%|███████▋  | 766/1000 [01:30<00:32,  7.29it/s]"
     ]
    },
    {
     "name": "stderr",
     "output_type": "stream",
     "text": [
      "\r",
      "Sampling chain 0, 0 divergences:  77%|███████▋  | 767/1000 [01:30<00:32,  7.26it/s]"
     ]
    },
    {
     "name": "stderr",
     "output_type": "stream",
     "text": [
      "\r",
      "Sampling chain 0, 0 divergences:  77%|███████▋  | 768/1000 [01:30<00:32,  7.14it/s]"
     ]
    },
    {
     "name": "stderr",
     "output_type": "stream",
     "text": [
      "\r",
      "Sampling chain 0, 0 divergences:  77%|███████▋  | 769/1000 [01:30<00:32,  7.01it/s]"
     ]
    },
    {
     "name": "stderr",
     "output_type": "stream",
     "text": [
      "\r",
      "Sampling chain 0, 0 divergences:  77%|███████▋  | 770/1000 [01:30<00:32,  7.05it/s]"
     ]
    },
    {
     "name": "stderr",
     "output_type": "stream",
     "text": [
      "\r",
      "Sampling chain 0, 0 divergences:  77%|███████▋  | 771/1000 [01:31<00:32,  7.15it/s]"
     ]
    },
    {
     "name": "stderr",
     "output_type": "stream",
     "text": [
      "\r",
      "Sampling chain 0, 0 divergences:  77%|███████▋  | 772/1000 [01:31<00:32,  7.09it/s]"
     ]
    },
    {
     "name": "stderr",
     "output_type": "stream",
     "text": [
      "\r",
      "Sampling chain 0, 0 divergences:  77%|███████▋  | 773/1000 [01:31<00:32,  6.95it/s]"
     ]
    },
    {
     "name": "stderr",
     "output_type": "stream",
     "text": [
      "\r",
      "Sampling chain 0, 0 divergences:  77%|███████▋  | 774/1000 [01:31<00:32,  7.04it/s]"
     ]
    },
    {
     "name": "stderr",
     "output_type": "stream",
     "text": [
      "\r",
      "Sampling chain 0, 0 divergences:  78%|███████▊  | 775/1000 [01:31<00:31,  7.23it/s]"
     ]
    },
    {
     "name": "stderr",
     "output_type": "stream",
     "text": [
      "\r",
      "Sampling chain 0, 0 divergences:  78%|███████▊  | 776/1000 [01:31<00:30,  7.29it/s]"
     ]
    },
    {
     "name": "stderr",
     "output_type": "stream",
     "text": [
      "\r",
      "Sampling chain 0, 0 divergences:  78%|███████▊  | 777/1000 [01:31<00:30,  7.32it/s]"
     ]
    },
    {
     "name": "stderr",
     "output_type": "stream",
     "text": [
      "\r",
      "Sampling chain 0, 0 divergences:  78%|███████▊  | 778/1000 [01:32<00:29,  7.41it/s]"
     ]
    },
    {
     "name": "stderr",
     "output_type": "stream",
     "text": [
      "\r",
      "Sampling chain 0, 0 divergences:  78%|███████▊  | 779/1000 [01:32<00:29,  7.55it/s]"
     ]
    },
    {
     "name": "stderr",
     "output_type": "stream",
     "text": [
      "\r",
      "Sampling chain 0, 0 divergences:  78%|███████▊  | 780/1000 [01:32<00:29,  7.48it/s]"
     ]
    },
    {
     "name": "stderr",
     "output_type": "stream",
     "text": [
      "\r",
      "Sampling chain 0, 0 divergences:  78%|███████▊  | 781/1000 [01:32<00:29,  7.51it/s]"
     ]
    },
    {
     "name": "stderr",
     "output_type": "stream",
     "text": [
      "\r",
      "Sampling chain 0, 0 divergences:  78%|███████▊  | 782/1000 [01:32<00:29,  7.42it/s]"
     ]
    },
    {
     "name": "stderr",
     "output_type": "stream",
     "text": [
      "\r",
      "Sampling chain 0, 0 divergences:  78%|███████▊  | 783/1000 [01:32<00:29,  7.41it/s]"
     ]
    },
    {
     "name": "stderr",
     "output_type": "stream",
     "text": [
      "\r",
      "Sampling chain 0, 0 divergences:  78%|███████▊  | 784/1000 [01:32<00:28,  7.45it/s]"
     ]
    },
    {
     "name": "stderr",
     "output_type": "stream",
     "text": [
      "\r",
      "Sampling chain 0, 0 divergences:  78%|███████▊  | 785/1000 [01:33<00:28,  7.46it/s]"
     ]
    },
    {
     "name": "stderr",
     "output_type": "stream",
     "text": [
      "\r",
      "Sampling chain 0, 0 divergences:  79%|███████▊  | 786/1000 [01:33<00:29,  7.21it/s]"
     ]
    },
    {
     "name": "stderr",
     "output_type": "stream",
     "text": [
      "\r",
      "Sampling chain 0, 0 divergences:  79%|███████▊  | 787/1000 [01:33<00:29,  7.19it/s]"
     ]
    },
    {
     "name": "stderr",
     "output_type": "stream",
     "text": [
      "\r",
      "Sampling chain 0, 0 divergences:  79%|███████▉  | 788/1000 [01:33<00:29,  7.19it/s]"
     ]
    },
    {
     "name": "stderr",
     "output_type": "stream",
     "text": [
      "\r",
      "Sampling chain 0, 0 divergences:  79%|███████▉  | 789/1000 [01:33<00:29,  7.08it/s]"
     ]
    },
    {
     "name": "stderr",
     "output_type": "stream",
     "text": [
      "\r",
      "Sampling chain 0, 0 divergences:  79%|███████▉  | 790/1000 [01:33<00:29,  7.13it/s]"
     ]
    },
    {
     "name": "stderr",
     "output_type": "stream",
     "text": [
      "\r",
      "Sampling chain 0, 0 divergences:  79%|███████▉  | 791/1000 [01:33<00:29,  6.97it/s]"
     ]
    },
    {
     "name": "stderr",
     "output_type": "stream",
     "text": [
      "\r",
      "Sampling chain 0, 0 divergences:  79%|███████▉  | 792/1000 [01:34<00:29,  6.99it/s]"
     ]
    },
    {
     "name": "stderr",
     "output_type": "stream",
     "text": [
      "\r",
      "Sampling chain 0, 0 divergences:  79%|███████▉  | 793/1000 [01:34<00:30,  6.87it/s]"
     ]
    },
    {
     "name": "stderr",
     "output_type": "stream",
     "text": [
      "\r",
      "Sampling chain 0, 0 divergences:  79%|███████▉  | 794/1000 [01:34<00:30,  6.71it/s]"
     ]
    },
    {
     "name": "stderr",
     "output_type": "stream",
     "text": [
      "\r",
      "Sampling chain 0, 0 divergences:  80%|███████▉  | 795/1000 [01:34<00:30,  6.75it/s]"
     ]
    },
    {
     "name": "stderr",
     "output_type": "stream",
     "text": [
      "\r",
      "Sampling chain 0, 0 divergences:  80%|███████▉  | 796/1000 [01:34<00:30,  6.79it/s]"
     ]
    },
    {
     "name": "stderr",
     "output_type": "stream",
     "text": [
      "\r",
      "Sampling chain 0, 0 divergences:  80%|███████▉  | 797/1000 [01:34<00:30,  6.68it/s]"
     ]
    },
    {
     "name": "stderr",
     "output_type": "stream",
     "text": [
      "\r",
      "Sampling chain 0, 0 divergences:  80%|███████▉  | 798/1000 [01:34<00:31,  6.38it/s]"
     ]
    },
    {
     "name": "stderr",
     "output_type": "stream",
     "text": [
      "\r",
      "Sampling chain 0, 0 divergences:  80%|███████▉  | 799/1000 [01:35<00:31,  6.35it/s]"
     ]
    },
    {
     "name": "stderr",
     "output_type": "stream",
     "text": [
      "\r",
      "Sampling chain 0, 0 divergences:  80%|████████  | 800/1000 [01:35<00:31,  6.30it/s]"
     ]
    },
    {
     "name": "stderr",
     "output_type": "stream",
     "text": [
      "\r",
      "Sampling chain 0, 0 divergences:  80%|████████  | 801/1000 [01:35<00:31,  6.33it/s]"
     ]
    },
    {
     "name": "stderr",
     "output_type": "stream",
     "text": [
      "\r",
      "Sampling chain 0, 0 divergences:  80%|████████  | 802/1000 [01:35<00:30,  6.42it/s]"
     ]
    },
    {
     "name": "stderr",
     "output_type": "stream",
     "text": [
      "\r",
      "Sampling chain 0, 0 divergences:  80%|████████  | 803/1000 [01:35<00:29,  6.60it/s]"
     ]
    },
    {
     "name": "stderr",
     "output_type": "stream",
     "text": [
      "\r",
      "Sampling chain 0, 0 divergences:  80%|████████  | 804/1000 [01:35<00:30,  6.52it/s]"
     ]
    },
    {
     "name": "stderr",
     "output_type": "stream",
     "text": [
      "\r",
      "Sampling chain 0, 0 divergences:  80%|████████  | 805/1000 [01:36<00:29,  6.59it/s]"
     ]
    },
    {
     "name": "stderr",
     "output_type": "stream",
     "text": [
      "\r",
      "Sampling chain 0, 0 divergences:  81%|████████  | 806/1000 [01:36<00:29,  6.67it/s]"
     ]
    },
    {
     "name": "stderr",
     "output_type": "stream",
     "text": [
      "\r",
      "Sampling chain 0, 0 divergences:  81%|████████  | 807/1000 [01:36<00:28,  6.76it/s]"
     ]
    },
    {
     "name": "stderr",
     "output_type": "stream",
     "text": [
      "\r",
      "Sampling chain 0, 0 divergences:  81%|████████  | 808/1000 [01:36<00:28,  6.62it/s]"
     ]
    },
    {
     "name": "stderr",
     "output_type": "stream",
     "text": [
      "\r",
      "Sampling chain 0, 0 divergences:  81%|████████  | 809/1000 [01:36<00:28,  6.63it/s]"
     ]
    },
    {
     "name": "stderr",
     "output_type": "stream",
     "text": [
      "\r",
      "Sampling chain 0, 0 divergences:  81%|████████  | 810/1000 [01:36<00:28,  6.67it/s]"
     ]
    },
    {
     "name": "stderr",
     "output_type": "stream",
     "text": [
      "\r",
      "Sampling chain 0, 0 divergences:  81%|████████  | 811/1000 [01:36<00:28,  6.52it/s]"
     ]
    },
    {
     "name": "stderr",
     "output_type": "stream",
     "text": [
      "\r",
      "Sampling chain 0, 0 divergences:  81%|████████  | 812/1000 [01:37<00:28,  6.53it/s]"
     ]
    },
    {
     "name": "stderr",
     "output_type": "stream",
     "text": [
      "\r",
      "Sampling chain 0, 0 divergences:  81%|████████▏ | 813/1000 [01:37<00:28,  6.53it/s]"
     ]
    },
    {
     "name": "stderr",
     "output_type": "stream",
     "text": [
      "\r",
      "Sampling chain 0, 0 divergences:  81%|████████▏ | 814/1000 [01:37<00:28,  6.43it/s]"
     ]
    },
    {
     "name": "stderr",
     "output_type": "stream",
     "text": [
      "\r",
      "Sampling chain 0, 0 divergences:  82%|████████▏ | 815/1000 [01:37<00:28,  6.47it/s]"
     ]
    },
    {
     "name": "stderr",
     "output_type": "stream",
     "text": [
      "\r",
      "Sampling chain 0, 0 divergences:  82%|████████▏ | 816/1000 [01:37<00:28,  6.46it/s]"
     ]
    },
    {
     "name": "stderr",
     "output_type": "stream",
     "text": [
      "\r",
      "Sampling chain 0, 0 divergences:  82%|████████▏ | 817/1000 [01:37<00:28,  6.45it/s]"
     ]
    },
    {
     "name": "stderr",
     "output_type": "stream",
     "text": [
      "\r",
      "Sampling chain 0, 0 divergences:  82%|████████▏ | 818/1000 [01:38<00:28,  6.48it/s]"
     ]
    },
    {
     "name": "stderr",
     "output_type": "stream",
     "text": [
      "\r",
      "Sampling chain 0, 0 divergences:  82%|████████▏ | 819/1000 [01:38<00:28,  6.46it/s]"
     ]
    },
    {
     "name": "stderr",
     "output_type": "stream",
     "text": [
      "\r",
      "Sampling chain 0, 0 divergences:  82%|████████▏ | 820/1000 [01:38<00:27,  6.54it/s]"
     ]
    },
    {
     "name": "stderr",
     "output_type": "stream",
     "text": [
      "\r",
      "Sampling chain 0, 0 divergences:  82%|████████▏ | 821/1000 [01:38<00:27,  6.56it/s]"
     ]
    },
    {
     "name": "stderr",
     "output_type": "stream",
     "text": [
      "\r",
      "Sampling chain 0, 0 divergences:  82%|████████▏ | 822/1000 [01:38<00:27,  6.58it/s]"
     ]
    },
    {
     "name": "stderr",
     "output_type": "stream",
     "text": [
      "\r",
      "Sampling chain 0, 0 divergences:  82%|████████▏ | 823/1000 [01:38<00:26,  6.61it/s]"
     ]
    },
    {
     "name": "stderr",
     "output_type": "stream",
     "text": [
      "\r",
      "Sampling chain 0, 0 divergences:  82%|████████▏ | 824/1000 [01:38<00:26,  6.60it/s]"
     ]
    },
    {
     "name": "stderr",
     "output_type": "stream",
     "text": [
      "\r",
      "Sampling chain 0, 0 divergences:  82%|████████▎ | 825/1000 [01:39<00:26,  6.61it/s]"
     ]
    },
    {
     "name": "stderr",
     "output_type": "stream",
     "text": [
      "\r",
      "Sampling chain 0, 0 divergences:  83%|████████▎ | 826/1000 [01:39<00:26,  6.62it/s]"
     ]
    },
    {
     "name": "stderr",
     "output_type": "stream",
     "text": [
      "\r",
      "Sampling chain 0, 0 divergences:  83%|████████▎ | 827/1000 [01:39<00:26,  6.61it/s]"
     ]
    },
    {
     "name": "stderr",
     "output_type": "stream",
     "text": [
      "\r",
      "Sampling chain 0, 0 divergences:  83%|████████▎ | 828/1000 [01:39<00:25,  6.64it/s]"
     ]
    },
    {
     "name": "stderr",
     "output_type": "stream",
     "text": [
      "\r",
      "Sampling chain 0, 0 divergences:  83%|████████▎ | 829/1000 [01:39<00:26,  6.53it/s]"
     ]
    },
    {
     "name": "stderr",
     "output_type": "stream",
     "text": [
      "\r",
      "Sampling chain 0, 0 divergences:  83%|████████▎ | 830/1000 [01:39<00:26,  6.41it/s]"
     ]
    },
    {
     "name": "stderr",
     "output_type": "stream",
     "text": [
      "\r",
      "Sampling chain 0, 0 divergences:  83%|████████▎ | 831/1000 [01:40<00:26,  6.37it/s]"
     ]
    },
    {
     "name": "stderr",
     "output_type": "stream",
     "text": [
      "\r",
      "Sampling chain 0, 0 divergences:  83%|████████▎ | 832/1000 [01:40<00:25,  6.55it/s]"
     ]
    },
    {
     "name": "stderr",
     "output_type": "stream",
     "text": [
      "\r",
      "Sampling chain 0, 0 divergences:  83%|████████▎ | 833/1000 [01:40<00:25,  6.63it/s]"
     ]
    },
    {
     "name": "stderr",
     "output_type": "stream",
     "text": [
      "\r",
      "Sampling chain 0, 0 divergences:  83%|████████▎ | 834/1000 [01:40<00:25,  6.57it/s]"
     ]
    },
    {
     "name": "stderr",
     "output_type": "stream",
     "text": [
      "\r",
      "Sampling chain 0, 0 divergences:  84%|████████▎ | 835/1000 [01:40<00:25,  6.47it/s]"
     ]
    },
    {
     "name": "stderr",
     "output_type": "stream",
     "text": [
      "\r",
      "Sampling chain 0, 0 divergences:  84%|████████▎ | 836/1000 [01:40<00:24,  6.68it/s]"
     ]
    },
    {
     "name": "stderr",
     "output_type": "stream",
     "text": [
      "\r",
      "Sampling chain 0, 0 divergences:  84%|████████▎ | 837/1000 [01:40<00:24,  6.77it/s]"
     ]
    },
    {
     "name": "stderr",
     "output_type": "stream",
     "text": [
      "\r",
      "Sampling chain 0, 0 divergences:  84%|████████▍ | 838/1000 [01:41<00:23,  6.79it/s]"
     ]
    },
    {
     "name": "stderr",
     "output_type": "stream",
     "text": [
      "\r",
      "Sampling chain 0, 0 divergences:  84%|████████▍ | 839/1000 [01:41<00:23,  6.87it/s]"
     ]
    },
    {
     "name": "stderr",
     "output_type": "stream",
     "text": [
      "\r",
      "Sampling chain 0, 0 divergences:  84%|████████▍ | 840/1000 [01:41<00:23,  6.94it/s]"
     ]
    },
    {
     "name": "stderr",
     "output_type": "stream",
     "text": [
      "\r",
      "Sampling chain 0, 0 divergences:  84%|████████▍ | 841/1000 [01:41<00:23,  6.91it/s]"
     ]
    },
    {
     "name": "stderr",
     "output_type": "stream",
     "text": [
      "\r",
      "Sampling chain 0, 0 divergences:  84%|████████▍ | 842/1000 [01:41<00:22,  7.08it/s]"
     ]
    },
    {
     "name": "stderr",
     "output_type": "stream",
     "text": [
      "\r",
      "Sampling chain 0, 0 divergences:  84%|████████▍ | 843/1000 [01:41<00:21,  7.18it/s]"
     ]
    },
    {
     "name": "stderr",
     "output_type": "stream",
     "text": [
      "\r",
      "Sampling chain 0, 0 divergences:  84%|████████▍ | 844/1000 [01:41<00:21,  7.41it/s]"
     ]
    },
    {
     "name": "stderr",
     "output_type": "stream",
     "text": [
      "\r",
      "Sampling chain 0, 0 divergences:  84%|████████▍ | 845/1000 [01:42<00:20,  7.44it/s]"
     ]
    },
    {
     "name": "stderr",
     "output_type": "stream",
     "text": [
      "\r",
      "Sampling chain 0, 0 divergences:  85%|████████▍ | 846/1000 [01:42<00:20,  7.41it/s]"
     ]
    },
    {
     "name": "stderr",
     "output_type": "stream",
     "text": [
      "\r",
      "Sampling chain 0, 0 divergences:  85%|████████▍ | 847/1000 [01:42<00:20,  7.51it/s]"
     ]
    },
    {
     "name": "stderr",
     "output_type": "stream",
     "text": [
      "\r",
      "Sampling chain 0, 0 divergences:  85%|████████▍ | 848/1000 [01:42<00:19,  7.61it/s]"
     ]
    },
    {
     "name": "stderr",
     "output_type": "stream",
     "text": [
      "\r",
      "Sampling chain 0, 0 divergences:  85%|████████▍ | 849/1000 [01:42<00:20,  7.52it/s]"
     ]
    },
    {
     "name": "stderr",
     "output_type": "stream",
     "text": [
      "\r",
      "Sampling chain 0, 0 divergences:  85%|████████▌ | 850/1000 [01:42<00:20,  7.49it/s]"
     ]
    },
    {
     "name": "stderr",
     "output_type": "stream",
     "text": [
      "\r",
      "Sampling chain 0, 0 divergences:  85%|████████▌ | 851/1000 [01:42<00:20,  7.19it/s]"
     ]
    },
    {
     "name": "stderr",
     "output_type": "stream",
     "text": [
      "\r",
      "Sampling chain 0, 0 divergences:  85%|████████▌ | 852/1000 [01:42<00:21,  6.95it/s]"
     ]
    },
    {
     "name": "stderr",
     "output_type": "stream",
     "text": [
      "\r",
      "Sampling chain 0, 0 divergences:  85%|████████▌ | 853/1000 [01:43<00:21,  6.91it/s]"
     ]
    },
    {
     "name": "stderr",
     "output_type": "stream",
     "text": [
      "\r",
      "Sampling chain 0, 0 divergences:  85%|████████▌ | 854/1000 [01:43<00:21,  6.80it/s]"
     ]
    },
    {
     "name": "stderr",
     "output_type": "stream",
     "text": [
      "\r",
      "Sampling chain 0, 0 divergences:  86%|████████▌ | 855/1000 [01:43<00:21,  6.64it/s]"
     ]
    },
    {
     "name": "stderr",
     "output_type": "stream",
     "text": [
      "\r",
      "Sampling chain 0, 0 divergences:  86%|████████▌ | 856/1000 [01:43<00:21,  6.60it/s]"
     ]
    },
    {
     "name": "stderr",
     "output_type": "stream",
     "text": [
      "\r",
      "Sampling chain 0, 0 divergences:  86%|████████▌ | 857/1000 [01:43<00:21,  6.78it/s]"
     ]
    },
    {
     "name": "stderr",
     "output_type": "stream",
     "text": [
      "\r",
      "Sampling chain 0, 0 divergences:  86%|████████▌ | 858/1000 [01:43<00:20,  6.82it/s]"
     ]
    },
    {
     "name": "stderr",
     "output_type": "stream",
     "text": [
      "\r",
      "Sampling chain 0, 0 divergences:  86%|████████▌ | 859/1000 [01:44<00:20,  6.79it/s]"
     ]
    },
    {
     "name": "stderr",
     "output_type": "stream",
     "text": [
      "\r",
      "Sampling chain 0, 0 divergences:  86%|████████▌ | 860/1000 [01:44<00:20,  6.93it/s]"
     ]
    },
    {
     "name": "stderr",
     "output_type": "stream",
     "text": [
      "\r",
      "Sampling chain 0, 0 divergences:  86%|████████▌ | 861/1000 [01:44<00:19,  6.99it/s]"
     ]
    },
    {
     "name": "stderr",
     "output_type": "stream",
     "text": [
      "\r",
      "Sampling chain 0, 0 divergences:  86%|████████▌ | 862/1000 [01:44<00:19,  7.03it/s]"
     ]
    },
    {
     "name": "stderr",
     "output_type": "stream",
     "text": [
      "\r",
      "Sampling chain 0, 0 divergences:  86%|████████▋ | 863/1000 [01:44<00:20,  6.79it/s]"
     ]
    },
    {
     "name": "stderr",
     "output_type": "stream",
     "text": [
      "\r",
      "Sampling chain 0, 0 divergences:  86%|████████▋ | 864/1000 [01:44<00:19,  7.04it/s]"
     ]
    },
    {
     "name": "stderr",
     "output_type": "stream",
     "text": [
      "\r",
      "Sampling chain 0, 0 divergences:  86%|████████▋ | 865/1000 [01:44<00:19,  7.09it/s]"
     ]
    },
    {
     "name": "stderr",
     "output_type": "stream",
     "text": [
      "\r",
      "Sampling chain 0, 0 divergences:  87%|████████▋ | 866/1000 [01:45<00:18,  7.05it/s]"
     ]
    },
    {
     "name": "stderr",
     "output_type": "stream",
     "text": [
      "\r",
      "Sampling chain 0, 0 divergences:  87%|████████▋ | 867/1000 [01:45<00:18,  7.22it/s]"
     ]
    },
    {
     "name": "stderr",
     "output_type": "stream",
     "text": [
      "\r",
      "Sampling chain 0, 0 divergences:  87%|████████▋ | 868/1000 [01:45<00:18,  7.28it/s]"
     ]
    },
    {
     "name": "stderr",
     "output_type": "stream",
     "text": [
      "\r",
      "Sampling chain 0, 0 divergences:  87%|████████▋ | 869/1000 [01:45<00:18,  7.01it/s]"
     ]
    },
    {
     "name": "stderr",
     "output_type": "stream",
     "text": [
      "\r",
      "Sampling chain 0, 0 divergences:  87%|████████▋ | 870/1000 [01:45<00:18,  6.98it/s]"
     ]
    },
    {
     "name": "stderr",
     "output_type": "stream",
     "text": [
      "\r",
      "Sampling chain 0, 0 divergences:  87%|████████▋ | 871/1000 [01:45<00:19,  6.76it/s]"
     ]
    },
    {
     "name": "stderr",
     "output_type": "stream",
     "text": [
      "\r",
      "Sampling chain 0, 0 divergences:  87%|████████▋ | 872/1000 [01:45<00:19,  6.63it/s]"
     ]
    },
    {
     "name": "stderr",
     "output_type": "stream",
     "text": [
      "\r",
      "Sampling chain 0, 0 divergences:  87%|████████▋ | 873/1000 [01:46<00:18,  6.74it/s]"
     ]
    },
    {
     "name": "stderr",
     "output_type": "stream",
     "text": [
      "\r",
      "Sampling chain 0, 0 divergences:  87%|████████▋ | 874/1000 [01:46<00:18,  6.88it/s]"
     ]
    },
    {
     "name": "stderr",
     "output_type": "stream",
     "text": [
      "\r",
      "Sampling chain 0, 0 divergences:  88%|████████▊ | 875/1000 [01:46<00:18,  6.94it/s]"
     ]
    },
    {
     "name": "stderr",
     "output_type": "stream",
     "text": [
      "\r",
      "Sampling chain 0, 0 divergences:  88%|████████▊ | 876/1000 [01:46<00:17,  6.93it/s]"
     ]
    },
    {
     "name": "stderr",
     "output_type": "stream",
     "text": [
      "\r",
      "Sampling chain 0, 0 divergences:  88%|████████▊ | 877/1000 [01:46<00:17,  6.99it/s]"
     ]
    },
    {
     "name": "stderr",
     "output_type": "stream",
     "text": [
      "\r",
      "Sampling chain 0, 0 divergences:  88%|████████▊ | 878/1000 [01:46<00:17,  7.00it/s]"
     ]
    },
    {
     "name": "stderr",
     "output_type": "stream",
     "text": [
      "\r",
      "Sampling chain 0, 0 divergences:  88%|████████▊ | 879/1000 [01:46<00:17,  7.02it/s]"
     ]
    },
    {
     "name": "stderr",
     "output_type": "stream",
     "text": [
      "\r",
      "Sampling chain 0, 0 divergences:  88%|████████▊ | 880/1000 [01:47<00:17,  6.87it/s]"
     ]
    },
    {
     "name": "stderr",
     "output_type": "stream",
     "text": [
      "\r",
      "Sampling chain 0, 0 divergences:  88%|████████▊ | 881/1000 [01:47<00:17,  6.85it/s]"
     ]
    },
    {
     "name": "stderr",
     "output_type": "stream",
     "text": [
      "\r",
      "Sampling chain 0, 0 divergences:  88%|████████▊ | 882/1000 [01:47<00:17,  6.63it/s]"
     ]
    },
    {
     "name": "stderr",
     "output_type": "stream",
     "text": [
      "\r",
      "Sampling chain 0, 0 divergences:  88%|████████▊ | 883/1000 [01:47<00:17,  6.65it/s]"
     ]
    },
    {
     "name": "stderr",
     "output_type": "stream",
     "text": [
      "\r",
      "Sampling chain 0, 0 divergences:  88%|████████▊ | 884/1000 [01:47<00:17,  6.64it/s]"
     ]
    },
    {
     "name": "stderr",
     "output_type": "stream",
     "text": [
      "\r",
      "Sampling chain 0, 0 divergences:  88%|████████▊ | 885/1000 [01:47<00:17,  6.68it/s]"
     ]
    },
    {
     "name": "stderr",
     "output_type": "stream",
     "text": [
      "\r",
      "Sampling chain 0, 0 divergences:  89%|████████▊ | 886/1000 [01:47<00:17,  6.52it/s]"
     ]
    },
    {
     "name": "stderr",
     "output_type": "stream",
     "text": [
      "\r",
      "Sampling chain 0, 0 divergences:  89%|████████▊ | 887/1000 [01:48<00:17,  6.36it/s]"
     ]
    },
    {
     "name": "stderr",
     "output_type": "stream",
     "text": [
      "\r",
      "Sampling chain 0, 0 divergences:  89%|████████▉ | 888/1000 [01:48<00:17,  6.27it/s]"
     ]
    },
    {
     "name": "stderr",
     "output_type": "stream",
     "text": [
      "\r",
      "Sampling chain 0, 0 divergences:  89%|████████▉ | 889/1000 [01:48<00:17,  6.37it/s]"
     ]
    },
    {
     "name": "stderr",
     "output_type": "stream",
     "text": [
      "\r",
      "Sampling chain 0, 0 divergences:  89%|████████▉ | 890/1000 [01:48<00:17,  6.38it/s]"
     ]
    },
    {
     "name": "stderr",
     "output_type": "stream",
     "text": [
      "\r",
      "Sampling chain 0, 0 divergences:  89%|████████▉ | 891/1000 [01:48<00:16,  6.48it/s]"
     ]
    },
    {
     "name": "stderr",
     "output_type": "stream",
     "text": [
      "\r",
      "Sampling chain 0, 0 divergences:  89%|████████▉ | 892/1000 [01:48<00:16,  6.66it/s]"
     ]
    },
    {
     "name": "stderr",
     "output_type": "stream",
     "text": [
      "\r",
      "Sampling chain 0, 0 divergences:  89%|████████▉ | 893/1000 [01:49<00:15,  6.80it/s]"
     ]
    },
    {
     "name": "stderr",
     "output_type": "stream",
     "text": [
      "\r",
      "Sampling chain 0, 0 divergences:  89%|████████▉ | 894/1000 [01:49<00:15,  6.93it/s]"
     ]
    },
    {
     "name": "stderr",
     "output_type": "stream",
     "text": [
      "\r",
      "Sampling chain 0, 0 divergences:  90%|████████▉ | 895/1000 [01:49<00:14,  7.19it/s]"
     ]
    },
    {
     "name": "stderr",
     "output_type": "stream",
     "text": [
      "\r",
      "Sampling chain 0, 0 divergences:  90%|████████▉ | 896/1000 [01:49<00:14,  7.32it/s]"
     ]
    },
    {
     "name": "stderr",
     "output_type": "stream",
     "text": [
      "\r",
      "Sampling chain 0, 0 divergences:  90%|████████▉ | 897/1000 [01:49<00:14,  7.23it/s]"
     ]
    },
    {
     "name": "stderr",
     "output_type": "stream",
     "text": [
      "\r",
      "Sampling chain 0, 0 divergences:  90%|████████▉ | 898/1000 [01:49<00:13,  7.34it/s]"
     ]
    },
    {
     "name": "stderr",
     "output_type": "stream",
     "text": [
      "\r",
      "Sampling chain 0, 0 divergences:  90%|████████▉ | 899/1000 [01:49<00:13,  7.36it/s]"
     ]
    },
    {
     "name": "stderr",
     "output_type": "stream",
     "text": [
      "\r",
      "Sampling chain 0, 0 divergences:  90%|█████████ | 900/1000 [01:49<00:14,  7.08it/s]"
     ]
    },
    {
     "name": "stderr",
     "output_type": "stream",
     "text": [
      "\r",
      "Sampling chain 0, 0 divergences:  90%|█████████ | 901/1000 [01:50<00:13,  7.09it/s]"
     ]
    },
    {
     "name": "stderr",
     "output_type": "stream",
     "text": [
      "\r",
      "Sampling chain 0, 0 divergences:  90%|█████████ | 902/1000 [01:50<00:13,  7.16it/s]"
     ]
    },
    {
     "name": "stderr",
     "output_type": "stream",
     "text": [
      "\r",
      "Sampling chain 0, 0 divergences:  90%|█████████ | 903/1000 [01:50<00:13,  7.13it/s]"
     ]
    },
    {
     "name": "stderr",
     "output_type": "stream",
     "text": [
      "\r",
      "Sampling chain 0, 0 divergences:  90%|█████████ | 904/1000 [01:50<00:13,  7.05it/s]"
     ]
    },
    {
     "name": "stderr",
     "output_type": "stream",
     "text": [
      "\r",
      "Sampling chain 0, 0 divergences:  90%|█████████ | 905/1000 [01:50<00:13,  6.98it/s]"
     ]
    },
    {
     "name": "stderr",
     "output_type": "stream",
     "text": [
      "\r",
      "Sampling chain 0, 0 divergences:  91%|█████████ | 906/1000 [01:50<00:13,  7.09it/s]"
     ]
    },
    {
     "name": "stderr",
     "output_type": "stream",
     "text": [
      "\r",
      "Sampling chain 0, 0 divergences:  91%|█████████ | 907/1000 [01:50<00:13,  6.88it/s]"
     ]
    },
    {
     "name": "stderr",
     "output_type": "stream",
     "text": [
      "\r",
      "Sampling chain 0, 0 divergences:  91%|█████████ | 908/1000 [01:51<00:13,  6.79it/s]"
     ]
    },
    {
     "name": "stderr",
     "output_type": "stream",
     "text": [
      "\r",
      "Sampling chain 0, 0 divergences:  91%|█████████ | 909/1000 [01:51<00:13,  6.86it/s]"
     ]
    },
    {
     "name": "stderr",
     "output_type": "stream",
     "text": [
      "\r",
      "Sampling chain 0, 0 divergences:  91%|█████████ | 910/1000 [01:51<00:12,  6.98it/s]"
     ]
    },
    {
     "name": "stderr",
     "output_type": "stream",
     "text": [
      "\r",
      "Sampling chain 0, 0 divergences:  91%|█████████ | 911/1000 [01:51<00:12,  6.95it/s]"
     ]
    },
    {
     "name": "stderr",
     "output_type": "stream",
     "text": [
      "\r",
      "Sampling chain 0, 0 divergences:  91%|█████████ | 912/1000 [01:51<00:12,  6.78it/s]"
     ]
    },
    {
     "name": "stderr",
     "output_type": "stream",
     "text": [
      "\r",
      "Sampling chain 0, 0 divergences:  91%|█████████▏| 913/1000 [01:51<00:12,  6.76it/s]"
     ]
    },
    {
     "name": "stderr",
     "output_type": "stream",
     "text": [
      "\r",
      "Sampling chain 0, 0 divergences:  91%|█████████▏| 914/1000 [01:52<00:12,  6.78it/s]"
     ]
    },
    {
     "name": "stderr",
     "output_type": "stream",
     "text": [
      "\r",
      "Sampling chain 0, 0 divergences:  92%|█████████▏| 915/1000 [01:52<00:12,  6.81it/s]"
     ]
    },
    {
     "name": "stderr",
     "output_type": "stream",
     "text": [
      "\r",
      "Sampling chain 0, 0 divergences:  92%|█████████▏| 916/1000 [01:52<00:12,  6.95it/s]"
     ]
    },
    {
     "name": "stderr",
     "output_type": "stream",
     "text": [
      "\r",
      "Sampling chain 0, 0 divergences:  92%|█████████▏| 917/1000 [01:52<00:11,  7.20it/s]"
     ]
    },
    {
     "name": "stderr",
     "output_type": "stream",
     "text": [
      "\r",
      "Sampling chain 0, 0 divergences:  92%|█████████▏| 918/1000 [01:52<00:11,  7.28it/s]"
     ]
    },
    {
     "name": "stderr",
     "output_type": "stream",
     "text": [
      "\r",
      "Sampling chain 0, 0 divergences:  92%|█████████▏| 919/1000 [01:52<00:11,  7.35it/s]"
     ]
    },
    {
     "name": "stderr",
     "output_type": "stream",
     "text": [
      "\r",
      "Sampling chain 0, 0 divergences:  92%|█████████▏| 920/1000 [01:52<00:10,  7.40it/s]"
     ]
    },
    {
     "name": "stderr",
     "output_type": "stream",
     "text": [
      "\r",
      "Sampling chain 0, 0 divergences:  92%|█████████▏| 921/1000 [01:52<00:10,  7.53it/s]"
     ]
    },
    {
     "name": "stderr",
     "output_type": "stream",
     "text": [
      "\r",
      "Sampling chain 0, 0 divergences:  92%|█████████▏| 922/1000 [01:53<00:10,  7.62it/s]"
     ]
    },
    {
     "name": "stderr",
     "output_type": "stream",
     "text": [
      "\r",
      "Sampling chain 0, 0 divergences:  92%|█████████▏| 923/1000 [01:53<00:10,  7.34it/s]"
     ]
    },
    {
     "name": "stderr",
     "output_type": "stream",
     "text": [
      "\r",
      "Sampling chain 0, 0 divergences:  92%|█████████▏| 924/1000 [01:53<00:10,  7.26it/s]"
     ]
    },
    {
     "name": "stderr",
     "output_type": "stream",
     "text": [
      "\r",
      "Sampling chain 0, 0 divergences:  92%|█████████▎| 925/1000 [01:53<00:10,  7.26it/s]"
     ]
    },
    {
     "name": "stderr",
     "output_type": "stream",
     "text": [
      "\r",
      "Sampling chain 0, 0 divergences:  93%|█████████▎| 926/1000 [01:53<00:10,  7.22it/s]"
     ]
    },
    {
     "name": "stderr",
     "output_type": "stream",
     "text": [
      "\r",
      "Sampling chain 0, 0 divergences:  93%|█████████▎| 927/1000 [01:53<00:10,  7.27it/s]"
     ]
    },
    {
     "name": "stderr",
     "output_type": "stream",
     "text": [
      "\r",
      "Sampling chain 0, 0 divergences:  93%|█████████▎| 928/1000 [01:53<00:09,  7.36it/s]"
     ]
    },
    {
     "name": "stderr",
     "output_type": "stream",
     "text": [
      "\r",
      "Sampling chain 0, 0 divergences:  93%|█████████▎| 929/1000 [01:54<00:09,  7.44it/s]"
     ]
    },
    {
     "name": "stderr",
     "output_type": "stream",
     "text": [
      "\r",
      "Sampling chain 0, 0 divergences:  93%|█████████▎| 930/1000 [01:54<00:09,  7.47it/s]"
     ]
    },
    {
     "name": "stderr",
     "output_type": "stream",
     "text": [
      "\r",
      "Sampling chain 0, 0 divergences:  93%|█████████▎| 931/1000 [01:54<00:09,  7.56it/s]"
     ]
    },
    {
     "name": "stderr",
     "output_type": "stream",
     "text": [
      "\r",
      "Sampling chain 0, 0 divergences:  93%|█████████▎| 932/1000 [01:54<00:09,  7.51it/s]"
     ]
    },
    {
     "name": "stderr",
     "output_type": "stream",
     "text": [
      "\r",
      "Sampling chain 0, 0 divergences:  93%|█████████▎| 933/1000 [01:54<00:08,  7.57it/s]"
     ]
    },
    {
     "name": "stderr",
     "output_type": "stream",
     "text": [
      "\r",
      "Sampling chain 0, 0 divergences:  93%|█████████▎| 934/1000 [01:54<00:08,  7.60it/s]"
     ]
    },
    {
     "name": "stderr",
     "output_type": "stream",
     "text": [
      "\r",
      "Sampling chain 0, 0 divergences:  94%|█████████▎| 935/1000 [01:54<00:08,  7.41it/s]"
     ]
    },
    {
     "name": "stderr",
     "output_type": "stream",
     "text": [
      "\r",
      "Sampling chain 0, 0 divergences:  94%|█████████▎| 936/1000 [01:55<00:09,  6.93it/s]"
     ]
    },
    {
     "name": "stderr",
     "output_type": "stream",
     "text": [
      "\r",
      "Sampling chain 0, 0 divergences:  94%|█████████▎| 937/1000 [01:55<00:09,  6.97it/s]"
     ]
    },
    {
     "name": "stderr",
     "output_type": "stream",
     "text": [
      "\r",
      "Sampling chain 0, 0 divergences:  94%|█████████▍| 938/1000 [01:55<00:08,  7.00it/s]"
     ]
    },
    {
     "name": "stderr",
     "output_type": "stream",
     "text": [
      "\r",
      "Sampling chain 0, 0 divergences:  94%|█████████▍| 939/1000 [01:55<00:08,  7.24it/s]"
     ]
    },
    {
     "name": "stderr",
     "output_type": "stream",
     "text": [
      "\r",
      "Sampling chain 0, 0 divergences:  94%|█████████▍| 940/1000 [01:55<00:08,  7.31it/s]"
     ]
    },
    {
     "name": "stderr",
     "output_type": "stream",
     "text": [
      "\r",
      "Sampling chain 0, 0 divergences:  94%|█████████▍| 941/1000 [01:55<00:08,  7.19it/s]"
     ]
    },
    {
     "name": "stderr",
     "output_type": "stream",
     "text": [
      "\r",
      "Sampling chain 0, 0 divergences:  94%|█████████▍| 942/1000 [01:55<00:08,  7.00it/s]"
     ]
    },
    {
     "name": "stderr",
     "output_type": "stream",
     "text": [
      "\r",
      "Sampling chain 0, 0 divergences:  94%|█████████▍| 943/1000 [01:55<00:08,  6.90it/s]"
     ]
    },
    {
     "name": "stderr",
     "output_type": "stream",
     "text": [
      "\r",
      "Sampling chain 0, 0 divergences:  94%|█████████▍| 944/1000 [01:56<00:08,  6.55it/s]"
     ]
    },
    {
     "name": "stderr",
     "output_type": "stream",
     "text": [
      "\r",
      "Sampling chain 0, 0 divergences:  94%|█████████▍| 945/1000 [01:56<00:08,  6.58it/s]"
     ]
    },
    {
     "name": "stderr",
     "output_type": "stream",
     "text": [
      "\r",
      "Sampling chain 0, 0 divergences:  95%|█████████▍| 946/1000 [01:56<00:08,  6.49it/s]"
     ]
    },
    {
     "name": "stderr",
     "output_type": "stream",
     "text": [
      "\r",
      "Sampling chain 0, 0 divergences:  95%|█████████▍| 947/1000 [01:56<00:08,  6.47it/s]"
     ]
    },
    {
     "name": "stderr",
     "output_type": "stream",
     "text": [
      "\r",
      "Sampling chain 0, 0 divergences:  95%|█████████▍| 948/1000 [01:56<00:08,  6.34it/s]"
     ]
    },
    {
     "name": "stderr",
     "output_type": "stream",
     "text": [
      "\r",
      "Sampling chain 0, 0 divergences:  95%|█████████▍| 949/1000 [01:56<00:07,  6.43it/s]"
     ]
    },
    {
     "name": "stderr",
     "output_type": "stream",
     "text": [
      "\r",
      "Sampling chain 0, 0 divergences:  95%|█████████▌| 950/1000 [01:57<00:07,  6.47it/s]"
     ]
    },
    {
     "name": "stderr",
     "output_type": "stream",
     "text": [
      "\r",
      "Sampling chain 0, 0 divergences:  95%|█████████▌| 951/1000 [01:57<00:07,  6.70it/s]"
     ]
    },
    {
     "name": "stderr",
     "output_type": "stream",
     "text": [
      "\r",
      "Sampling chain 0, 0 divergences:  95%|█████████▌| 952/1000 [01:57<00:06,  6.95it/s]"
     ]
    },
    {
     "name": "stderr",
     "output_type": "stream",
     "text": [
      "\r",
      "Sampling chain 0, 0 divergences:  95%|█████████▌| 953/1000 [01:57<00:06,  7.02it/s]"
     ]
    },
    {
     "name": "stderr",
     "output_type": "stream",
     "text": [
      "\r",
      "Sampling chain 0, 0 divergences:  95%|█████████▌| 954/1000 [01:57<00:06,  7.12it/s]"
     ]
    },
    {
     "name": "stderr",
     "output_type": "stream",
     "text": [
      "\r",
      "Sampling chain 0, 0 divergences:  96%|█████████▌| 955/1000 [01:57<00:06,  7.01it/s]"
     ]
    },
    {
     "name": "stderr",
     "output_type": "stream",
     "text": [
      "\r",
      "Sampling chain 0, 0 divergences:  96%|█████████▌| 956/1000 [01:57<00:06,  6.94it/s]"
     ]
    },
    {
     "name": "stderr",
     "output_type": "stream",
     "text": [
      "\r",
      "Sampling chain 0, 0 divergences:  96%|█████████▌| 957/1000 [01:58<00:06,  6.81it/s]"
     ]
    },
    {
     "name": "stderr",
     "output_type": "stream",
     "text": [
      "\r",
      "Sampling chain 0, 0 divergences:  96%|█████████▌| 958/1000 [01:58<00:06,  6.84it/s]"
     ]
    },
    {
     "name": "stderr",
     "output_type": "stream",
     "text": [
      "\r",
      "Sampling chain 0, 0 divergences:  96%|█████████▌| 959/1000 [01:58<00:06,  6.76it/s]"
     ]
    },
    {
     "name": "stderr",
     "output_type": "stream",
     "text": [
      "\r",
      "Sampling chain 0, 0 divergences:  96%|█████████▌| 960/1000 [01:58<00:05,  6.74it/s]"
     ]
    },
    {
     "name": "stderr",
     "output_type": "stream",
     "text": [
      "\r",
      "Sampling chain 0, 0 divergences:  96%|█████████▌| 961/1000 [01:58<00:05,  6.86it/s]"
     ]
    },
    {
     "name": "stderr",
     "output_type": "stream",
     "text": [
      "\r",
      "Sampling chain 0, 0 divergences:  96%|█████████▌| 962/1000 [01:58<00:05,  6.90it/s]"
     ]
    },
    {
     "name": "stderr",
     "output_type": "stream",
     "text": [
      "\r",
      "Sampling chain 0, 0 divergences:  96%|█████████▋| 963/1000 [01:58<00:05,  6.80it/s]"
     ]
    },
    {
     "name": "stderr",
     "output_type": "stream",
     "text": [
      "\r",
      "Sampling chain 0, 0 divergences:  96%|█████████▋| 964/1000 [01:59<00:05,  6.98it/s]"
     ]
    },
    {
     "name": "stderr",
     "output_type": "stream",
     "text": [
      "\r",
      "Sampling chain 0, 0 divergences:  96%|█████████▋| 965/1000 [01:59<00:05,  6.95it/s]"
     ]
    },
    {
     "name": "stderr",
     "output_type": "stream",
     "text": [
      "\r",
      "Sampling chain 0, 0 divergences:  97%|█████████▋| 966/1000 [01:59<00:04,  7.06it/s]"
     ]
    },
    {
     "name": "stderr",
     "output_type": "stream",
     "text": [
      "\r",
      "Sampling chain 0, 0 divergences:  97%|█████████▋| 967/1000 [01:59<00:04,  7.17it/s]"
     ]
    },
    {
     "name": "stderr",
     "output_type": "stream",
     "text": [
      "\r",
      "Sampling chain 0, 0 divergences:  97%|█████████▋| 968/1000 [01:59<00:04,  7.17it/s]"
     ]
    },
    {
     "name": "stderr",
     "output_type": "stream",
     "text": [
      "\r",
      "Sampling chain 0, 0 divergences:  97%|█████████▋| 969/1000 [01:59<00:04,  7.12it/s]"
     ]
    },
    {
     "name": "stderr",
     "output_type": "stream",
     "text": [
      "\r",
      "Sampling chain 0, 0 divergences:  97%|█████████▋| 970/1000 [01:59<00:04,  6.88it/s]"
     ]
    },
    {
     "name": "stderr",
     "output_type": "stream",
     "text": [
      "\r",
      "Sampling chain 0, 0 divergences:  97%|█████████▋| 971/1000 [02:00<00:04,  6.76it/s]"
     ]
    },
    {
     "name": "stderr",
     "output_type": "stream",
     "text": [
      "\r",
      "Sampling chain 0, 0 divergences:  97%|█████████▋| 972/1000 [02:00<00:04,  6.89it/s]"
     ]
    },
    {
     "name": "stderr",
     "output_type": "stream",
     "text": [
      "\r",
      "Sampling chain 0, 0 divergences:  97%|█████████▋| 973/1000 [02:00<00:03,  7.00it/s]"
     ]
    },
    {
     "name": "stderr",
     "output_type": "stream",
     "text": [
      "\r",
      "Sampling chain 0, 0 divergences:  97%|█████████▋| 974/1000 [02:00<00:03,  7.04it/s]"
     ]
    },
    {
     "name": "stderr",
     "output_type": "stream",
     "text": [
      "\r",
      "Sampling chain 0, 0 divergences:  98%|█████████▊| 975/1000 [02:00<00:03,  7.04it/s]"
     ]
    },
    {
     "name": "stderr",
     "output_type": "stream",
     "text": [
      "\r",
      "Sampling chain 0, 0 divergences:  98%|█████████▊| 976/1000 [02:00<00:03,  6.86it/s]"
     ]
    },
    {
     "name": "stderr",
     "output_type": "stream",
     "text": [
      "\r",
      "Sampling chain 0, 0 divergences:  98%|█████████▊| 977/1000 [02:00<00:03,  6.82it/s]"
     ]
    },
    {
     "name": "stderr",
     "output_type": "stream",
     "text": [
      "\r",
      "Sampling chain 0, 0 divergences:  98%|█████████▊| 978/1000 [02:01<00:03,  6.84it/s]"
     ]
    },
    {
     "name": "stderr",
     "output_type": "stream",
     "text": [
      "\r",
      "Sampling chain 0, 0 divergences:  98%|█████████▊| 979/1000 [02:01<00:03,  6.65it/s]"
     ]
    },
    {
     "name": "stderr",
     "output_type": "stream",
     "text": [
      "\r",
      "Sampling chain 0, 0 divergences:  98%|█████████▊| 980/1000 [02:01<00:02,  6.72it/s]"
     ]
    },
    {
     "name": "stderr",
     "output_type": "stream",
     "text": [
      "\r",
      "Sampling chain 0, 0 divergences:  98%|█████████▊| 981/1000 [02:01<00:02,  6.77it/s]"
     ]
    },
    {
     "name": "stderr",
     "output_type": "stream",
     "text": [
      "\r",
      "Sampling chain 0, 0 divergences:  98%|█████████▊| 982/1000 [02:01<00:02,  6.62it/s]"
     ]
    },
    {
     "name": "stderr",
     "output_type": "stream",
     "text": [
      "\r",
      "Sampling chain 0, 0 divergences:  98%|█████████▊| 983/1000 [02:01<00:02,  6.72it/s]"
     ]
    },
    {
     "name": "stderr",
     "output_type": "stream",
     "text": [
      "\r",
      "Sampling chain 0, 0 divergences:  98%|█████████▊| 984/1000 [02:02<00:02,  6.70it/s]"
     ]
    },
    {
     "name": "stderr",
     "output_type": "stream",
     "text": [
      "\r",
      "Sampling chain 0, 0 divergences:  98%|█████████▊| 985/1000 [02:02<00:02,  6.86it/s]"
     ]
    },
    {
     "name": "stderr",
     "output_type": "stream",
     "text": [
      "\r",
      "Sampling chain 0, 0 divergences:  99%|█████████▊| 986/1000 [02:02<00:02,  6.98it/s]"
     ]
    },
    {
     "name": "stderr",
     "output_type": "stream",
     "text": [
      "\r",
      "Sampling chain 0, 0 divergences:  99%|█████████▊| 987/1000 [02:02<00:01,  7.08it/s]"
     ]
    },
    {
     "name": "stderr",
     "output_type": "stream",
     "text": [
      "\r",
      "Sampling chain 0, 0 divergences:  99%|█████████▉| 988/1000 [02:02<00:01,  7.01it/s]"
     ]
    },
    {
     "name": "stderr",
     "output_type": "stream",
     "text": [
      "\r",
      "Sampling chain 0, 0 divergences:  99%|█████████▉| 989/1000 [02:02<00:01,  6.95it/s]"
     ]
    },
    {
     "name": "stderr",
     "output_type": "stream",
     "text": [
      "\r",
      "Sampling chain 0, 0 divergences:  99%|█████████▉| 990/1000 [02:02<00:01,  6.94it/s]"
     ]
    },
    {
     "name": "stderr",
     "output_type": "stream",
     "text": [
      "\r",
      "Sampling chain 0, 0 divergences:  99%|█████████▉| 991/1000 [02:03<00:01,  7.03it/s]"
     ]
    },
    {
     "name": "stderr",
     "output_type": "stream",
     "text": [
      "\r",
      "Sampling chain 0, 0 divergences:  99%|█████████▉| 992/1000 [02:03<00:01,  6.97it/s]"
     ]
    },
    {
     "name": "stderr",
     "output_type": "stream",
     "text": [
      "\r",
      "Sampling chain 0, 0 divergences:  99%|█████████▉| 993/1000 [02:03<00:01,  6.93it/s]"
     ]
    },
    {
     "name": "stderr",
     "output_type": "stream",
     "text": [
      "\r",
      "Sampling chain 0, 0 divergences:  99%|█████████▉| 994/1000 [02:03<00:00,  7.04it/s]"
     ]
    },
    {
     "name": "stderr",
     "output_type": "stream",
     "text": [
      "\r",
      "Sampling chain 0, 0 divergences: 100%|█████████▉| 995/1000 [02:03<00:00,  6.96it/s]"
     ]
    },
    {
     "name": "stderr",
     "output_type": "stream",
     "text": [
      "\r",
      "Sampling chain 0, 0 divergences: 100%|█████████▉| 996/1000 [02:03<00:00,  6.92it/s]"
     ]
    },
    {
     "name": "stderr",
     "output_type": "stream",
     "text": [
      "\r",
      "Sampling chain 0, 0 divergences: 100%|█████████▉| 997/1000 [02:03<00:00,  6.90it/s]"
     ]
    },
    {
     "name": "stderr",
     "output_type": "stream",
     "text": [
      "\r",
      "Sampling chain 0, 0 divergences: 100%|█████████▉| 998/1000 [02:04<00:00,  6.89it/s]"
     ]
    },
    {
     "name": "stderr",
     "output_type": "stream",
     "text": [
      "\r",
      "Sampling chain 0, 0 divergences: 100%|█████████▉| 999/1000 [02:04<00:00,  7.03it/s]"
     ]
    },
    {
     "name": "stderr",
     "output_type": "stream",
     "text": [
      "\r",
      "Sampling chain 0, 0 divergences: 100%|██████████| 1000/1000 [02:04<00:00,  6.99it/s]"
     ]
    },
    {
     "name": "stderr",
     "output_type": "stream",
     "text": [
      "\r",
      "Sampling chain 0, 0 divergences: 100%|██████████| 1000/1000 [02:04<00:00,  8.04it/s]"
     ]
    },
    {
     "name": "stderr",
     "output_type": "stream",
     "text": [
      "\n",
      "The chain reached the maximum tree depth. Increase max_treedepth, increase target_accept or reparameterize.\n"
     ]
    },
    {
     "name": "stderr",
     "output_type": "stream",
     "text": [
      "Only one chain was sampled, this makes it impossible to run some convergence checks\n"
     ]
    }
   ],
   "source": [
    "#hide\n",
    "\n",
    "df, df_pred = get_statewise_testing_data()\n",
    "\n",
    "# Initialize the model:\n",
    "mod = case_count_model_us_states(df)\n",
    "\n",
    "# Run MCMC sampler\n",
    "with mod:\n",
    "    trace = pm.sample(500, tune=500, chains=1)"
   ]
  },
  {
   "cell_type": "code",
   "execution_count": 5,
   "metadata": {
    "execution": {
     "iopub.execute_input": "2020-05-30T12:18:10.129161Z",
     "iopub.status.busy": "2020-05-30T12:18:10.095706Z",
     "iopub.status.idle": "2020-05-30T12:18:10.431250Z",
     "shell.execute_reply": "2020-05-30T12:18:10.430751Z"
    },
    "papermill": {
     "duration": 0.681376,
     "end_time": "2020-05-30T12:18:10.431357",
     "exception": false,
     "start_time": "2020-05-30T12:18:09.749981",
     "status": "completed"
    },
    "scrolled": true,
    "tags": []
   },
   "outputs": [
    {
     "data": {
      "text/markdown": [
       "## Summary for the United States on 2020-05-30:"
      ],
      "text/plain": [
       "<IPython.core.display.Markdown object>"
      ]
     },
     "metadata": {},
     "output_type": "display_data"
    },
    {
     "data": {
      "text/markdown": [
       "**Reported Case Count:**  1,732,661"
      ],
      "text/plain": [
       "<IPython.core.display.Markdown object>"
      ]
     },
     "metadata": {},
     "output_type": "display_data"
    },
    {
     "data": {
      "text/markdown": [
       "**Predicted Case Count:**  1,944,260"
      ],
      "text/plain": [
       "<IPython.core.display.Markdown object>"
      ]
     },
     "metadata": {},
     "output_type": "display_data"
    },
    {
     "data": {
      "text/markdown": [
       "**Percentage Underreporting in Case Count:**  10.9%"
      ],
      "text/plain": [
       "<IPython.core.display.Markdown object>"
      ]
     },
     "metadata": {},
     "output_type": "display_data"
    }
   ],
   "source": [
    "#hide_input\n",
    "\n",
    "n = len(trace['beta'])\n",
    "\n",
    "# South Korea:\n",
    "ppt_sk = np.log10(51500000. / 250000)\n",
    "\n",
    "\n",
    "# Compute predicted case counts per state right now\n",
    "logit_now = pd.DataFrame([\n",
    "    pd.Series(np.random.normal((trace['alpha'][i] + trace['beta'][i] * (np.log10(df_pred['people_per_test']) - ppt_sk)),\n",
    "                     trace['sigma'][i]), index=df_pred.index)\n",
    "    for i in range(len(trace['beta']))])\n",
    "prob_missing_now = np.exp(logit_now) / (np.exp(logit_now) + 1) \n",
    "\n",
    "predicted_counts_now = np.round(df_pred['positive'] / prob_missing_now.mean(axis=0)).astype(int)\n",
    "\n",
    "predicted_counts_now_lower = np.round(df_pred['positive'] / prob_missing_now.quantile(0.975, axis=0)).astype(int)\n",
    "predicted_counts_now_upper = np.round(df_pred['positive'] / prob_missing_now.quantile(0.025, axis=0)).astype(int)\n",
    "\n",
    "case_increase_percent = list(map(lambda x, y: (((x - y) / float(y))),\n",
    "                                 predicted_counts_now, df_pred['positive']))\n",
    "\n",
    "df_summary = pd.DataFrame(\n",
    "    data = {\n",
    "     'Cases Reported': df_pred['positive'],\n",
    "     'Cases Estimated': predicted_counts_now,\n",
    "     'Percent Increase': case_increase_percent,\n",
    "     'Tests per Million People': df_pred['tests_per_million'].round(1),\n",
    "     'Cases Estimated (range)': list(map(lambda x, y: '(%i, %i)' % (round(x), round(y)),\n",
    "                                        predicted_counts_now_lower, predicted_counts_now_upper)),\n",
    "     'Cases per Million': ((df_pred['positive'] / df_pred['total_population']) * 1e6),\n",
    "     'Positive Test Rate': (df_pred['positive'] / (df_pred['positive'] + df_pred['negative']))\n",
    "    },\n",
    "    index=df_pred.index)\n",
    "\n",
    "from datetime import datetime\n",
    "display(Markdown(\"## Summary for the United States on %s:\" % str(datetime.today())[:10]))\n",
    "display(Markdown(f\"**Reported Case Count:**  {df_summary['Cases Reported'].sum():,}\"))\n",
    "display(Markdown(f\"**Predicted Case Count:**  {df_summary['Cases Estimated'].sum():,}\"))\n",
    "case_increase_percent = 100. * (df_summary['Cases Estimated'].sum() - df_summary['Cases Reported'].sum()) / df_summary['Cases Estimated'].sum()\n",
    "display(Markdown(\"**Percentage Underreporting in Case Count:**  %.1f%%\" % case_increase_percent))"
   ]
  },
  {
   "cell_type": "code",
   "execution_count": 6,
   "metadata": {
    "execution": {
     "iopub.execute_input": "2020-05-30T12:18:10.905873Z",
     "iopub.status.busy": "2020-05-30T12:18:10.905392Z",
     "iopub.status.idle": "2020-05-30T12:18:10.908558Z",
     "shell.execute_reply": "2020-05-30T12:18:10.908160Z"
    },
    "papermill": {
     "duration": 0.244702,
     "end_time": "2020-05-30T12:18:10.908643",
     "exception": false,
     "start_time": "2020-05-30T12:18:10.663941",
     "status": "completed"
    },
    "tags": []
   },
   "outputs": [],
   "source": [
    "#hide\n",
    "df_summary.loc[:, 'Ratio'] = df_summary['Cases Estimated'] / df_summary['Cases Reported']\n",
    "df_summary.columns = ['Reported Cases', 'Est Cases', '% Increase',\n",
    "                      'Tests per Million', 'Est Range',\n",
    "                      'Cases per Million', 'Positive Test Rate',\n",
    "                      'Ratio']\n",
    "\n",
    "df_display = df_summary[['Reported Cases', 'Est Cases', 'Est Range', 'Ratio',\n",
    "                         'Tests per Million', 'Cases per Million',\n",
    "                         'Positive Test Rate']].copy()"
   ]
  },
  {
   "cell_type": "markdown",
   "metadata": {
    "papermill": {
     "duration": 0.229944,
     "end_time": "2020-05-30T12:18:11.394142",
     "exception": false,
     "start_time": "2020-05-30T12:18:11.164198",
     "status": "completed"
    },
    "tags": []
   },
   "source": [
    "## COVID-19 Case Estimates, by State\n",
    "\n",
    "### Definition Of Fields:\n",
    "\n",
    "- **Reported Cases**:  The number of cases reported by each state, which is a function of how many tests are positive.\n",
    "- **Est Cases**: The predicted number of cases, accounting for the fact that not everyone is tested.\n",
    "- **Est Range**: The 95% confidence interval of the predicted number of cases.\n",
    "- **Ratio**: `Estimated Cases` divided by `Reported Cases`.\n",
    "- **Tests per Million**:  The number of tests administered per one million people.  The less tests administered per capita, the larger the difference between reported and estimated number of cases, generally.\n",
    "- **Cases per Million**: The number of **reported** cases per on million people.\n",
    "- **Positive Test Rate**: The **reported** percentage of positive tests."
   ]
  },
  {
   "cell_type": "code",
   "execution_count": 7,
   "metadata": {
    "execution": {
     "iopub.execute_input": "2020-05-30T12:18:11.862347Z",
     "iopub.status.busy": "2020-05-30T12:18:11.861774Z",
     "iopub.status.idle": "2020-05-30T12:18:12.073086Z",
     "shell.execute_reply": "2020-05-30T12:18:12.073557Z"
    },
    "papermill": {
     "duration": 0.442575,
     "end_time": "2020-05-30T12:18:12.073685",
     "exception": false,
     "start_time": "2020-05-30T12:18:11.631110",
     "status": "completed"
    },
    "tags": []
   },
   "outputs": [
    {
     "data": {
      "text/html": [
       "<style  type=\"text/css\" >\n",
       "    #T_a15b4e7a_a26f_11ea_aa38_000d3a8e2bc1row0_col0 {\n",
       "            background-color:  #7f2704;\n",
       "            color:  #f1f1f1;\n",
       "        }    #T_a15b4e7a_a26f_11ea_aa38_000d3a8e2bc1row0_col1 {\n",
       "            background-color:  #7f2704;\n",
       "            color:  #f1f1f1;\n",
       "        }    #T_a15b4e7a_a26f_11ea_aa38_000d3a8e2bc1row0_col3 {\n",
       "            background-color:  #fee5cb;\n",
       "            color:  #000000;\n",
       "        }    #T_a15b4e7a_a26f_11ea_aa38_000d3a8e2bc1row0_col4 {\n",
       "            background-color:  #ea5f0e;\n",
       "            color:  #000000;\n",
       "        }    #T_a15b4e7a_a26f_11ea_aa38_000d3a8e2bc1row0_col5 {\n",
       "            background-color:  #7f2704;\n",
       "            color:  #f1f1f1;\n",
       "        }    #T_a15b4e7a_a26f_11ea_aa38_000d3a8e2bc1row0_col6 {\n",
       "            background-color:  #b03903;\n",
       "            color:  #f1f1f1;\n",
       "        }    #T_a15b4e7a_a26f_11ea_aa38_000d3a8e2bc1row1_col0 {\n",
       "            background-color:  #fd9f56;\n",
       "            color:  #000000;\n",
       "        }    #T_a15b4e7a_a26f_11ea_aa38_000d3a8e2bc1row1_col1 {\n",
       "            background-color:  #fd9e54;\n",
       "            color:  #000000;\n",
       "        }    #T_a15b4e7a_a26f_11ea_aa38_000d3a8e2bc1row1_col3 {\n",
       "            background-color:  #fdcfa0;\n",
       "            color:  #000000;\n",
       "        }    #T_a15b4e7a_a26f_11ea_aa38_000d3a8e2bc1row1_col4 {\n",
       "            background-color:  #fd9040;\n",
       "            color:  #000000;\n",
       "        }    #T_a15b4e7a_a26f_11ea_aa38_000d3a8e2bc1row1_col5 {\n",
       "            background-color:  #902e04;\n",
       "            color:  #f1f1f1;\n",
       "        }    #T_a15b4e7a_a26f_11ea_aa38_000d3a8e2bc1row1_col6 {\n",
       "            background-color:  #7f2704;\n",
       "            color:  #f1f1f1;\n",
       "        }    #T_a15b4e7a_a26f_11ea_aa38_000d3a8e2bc1row2_col0 {\n",
       "            background-color:  #fdbe84;\n",
       "            color:  #000000;\n",
       "        }    #T_a15b4e7a_a26f_11ea_aa38_000d3a8e2bc1row2_col1 {\n",
       "            background-color:  #fdbd83;\n",
       "            color:  #000000;\n",
       "        }    #T_a15b4e7a_a26f_11ea_aa38_000d3a8e2bc1row2_col3 {\n",
       "            background-color:  #fdbe84;\n",
       "            color:  #000000;\n",
       "        }    #T_a15b4e7a_a26f_11ea_aa38_000d3a8e2bc1row2_col4 {\n",
       "            background-color:  #fdaf6c;\n",
       "            color:  #000000;\n",
       "        }    #T_a15b4e7a_a26f_11ea_aa38_000d3a8e2bc1row2_col5 {\n",
       "            background-color:  #fd9344;\n",
       "            color:  #000000;\n",
       "        }    #T_a15b4e7a_a26f_11ea_aa38_000d3a8e2bc1row2_col6 {\n",
       "            background-color:  #f36e19;\n",
       "            color:  #000000;\n",
       "        }    #T_a15b4e7a_a26f_11ea_aa38_000d3a8e2bc1row3_col0 {\n",
       "            background-color:  #fdc895;\n",
       "            color:  #000000;\n",
       "        }    #T_a15b4e7a_a26f_11ea_aa38_000d3a8e2bc1row3_col1 {\n",
       "            background-color:  #fdc590;\n",
       "            color:  #000000;\n",
       "        }    #T_a15b4e7a_a26f_11ea_aa38_000d3a8e2bc1row3_col3 {\n",
       "            background-color:  #fd9c51;\n",
       "            color:  #000000;\n",
       "        }    #T_a15b4e7a_a26f_11ea_aa38_000d3a8e2bc1row3_col4 {\n",
       "            background-color:  #fddbb8;\n",
       "            color:  #000000;\n",
       "        }    #T_a15b4e7a_a26f_11ea_aa38_000d3a8e2bc1row3_col5 {\n",
       "            background-color:  #fee7d0;\n",
       "            color:  #000000;\n",
       "        }    #T_a15b4e7a_a26f_11ea_aa38_000d3a8e2bc1row3_col6 {\n",
       "            background-color:  #fdd5ab;\n",
       "            color:  #000000;\n",
       "        }    #T_a15b4e7a_a26f_11ea_aa38_000d3a8e2bc1row4_col0 {\n",
       "            background-color:  #fdce9e;\n",
       "            color:  #000000;\n",
       "        }    #T_a15b4e7a_a26f_11ea_aa38_000d3a8e2bc1row4_col1 {\n",
       "            background-color:  #fdce9e;\n",
       "            color:  #000000;\n",
       "        }    #T_a15b4e7a_a26f_11ea_aa38_000d3a8e2bc1row4_col3 {\n",
       "            background-color:  #fddab6;\n",
       "            color:  #000000;\n",
       "        }    #T_a15b4e7a_a26f_11ea_aa38_000d3a8e2bc1row4_col4 {\n",
       "            background-color:  #fc8937;\n",
       "            color:  #000000;\n",
       "        }    #T_a15b4e7a_a26f_11ea_aa38_000d3a8e2bc1row4_col5 {\n",
       "            background-color:  #de4e05;\n",
       "            color:  #f1f1f1;\n",
       "        }    #T_a15b4e7a_a26f_11ea_aa38_000d3a8e2bc1row4_col6 {\n",
       "            background-color:  #da4902;\n",
       "            color:  #f1f1f1;\n",
       "        }    #T_a15b4e7a_a26f_11ea_aa38_000d3a8e2bc1row5_col0 {\n",
       "            background-color:  #fddab6;\n",
       "            color:  #000000;\n",
       "        }    #T_a15b4e7a_a26f_11ea_aa38_000d3a8e2bc1row5_col1 {\n",
       "            background-color:  #fdd9b4;\n",
       "            color:  #000000;\n",
       "        }    #T_a15b4e7a_a26f_11ea_aa38_000d3a8e2bc1row5_col3 {\n",
       "            background-color:  #e25508;\n",
       "            color:  #000000;\n",
       "        }    #T_a15b4e7a_a26f_11ea_aa38_000d3a8e2bc1row5_col4 {\n",
       "            background-color:  #feecd9;\n",
       "            color:  #000000;\n",
       "        }    #T_a15b4e7a_a26f_11ea_aa38_000d3a8e2bc1row5_col5 {\n",
       "            background-color:  #fdc997;\n",
       "            color:  #000000;\n",
       "        }    #T_a15b4e7a_a26f_11ea_aa38_000d3a8e2bc1row5_col6 {\n",
       "            background-color:  #de4e05;\n",
       "            color:  #f1f1f1;\n",
       "        }    #T_a15b4e7a_a26f_11ea_aa38_000d3a8e2bc1row6_col0 {\n",
       "            background-color:  #fedfc0;\n",
       "            color:  #000000;\n",
       "        }    #T_a15b4e7a_a26f_11ea_aa38_000d3a8e2bc1row6_col1 {\n",
       "            background-color:  #fedebd;\n",
       "            color:  #000000;\n",
       "        }    #T_a15b4e7a_a26f_11ea_aa38_000d3a8e2bc1row6_col3 {\n",
       "            background-color:  #db4a02;\n",
       "            color:  #f1f1f1;\n",
       "        }    #T_a15b4e7a_a26f_11ea_aa38_000d3a8e2bc1row6_col4 {\n",
       "            background-color:  #ffefdf;\n",
       "            color:  #000000;\n",
       "        }    #T_a15b4e7a_a26f_11ea_aa38_000d3a8e2bc1row6_col5 {\n",
       "            background-color:  #feebd7;\n",
       "            color:  #000000;\n",
       "        }    #T_a15b4e7a_a26f_11ea_aa38_000d3a8e2bc1row6_col6 {\n",
       "            background-color:  #fdc895;\n",
       "            color:  #000000;\n",
       "        }    #T_a15b4e7a_a26f_11ea_aa38_000d3a8e2bc1row7_col0 {\n",
       "            background-color:  #fee1c4;\n",
       "            color:  #000000;\n",
       "        }    #T_a15b4e7a_a26f_11ea_aa38_000d3a8e2bc1row7_col1 {\n",
       "            background-color:  #fee0c3;\n",
       "            color:  #000000;\n",
       "        }    #T_a15b4e7a_a26f_11ea_aa38_000d3a8e2bc1row7_col3 {\n",
       "            background-color:  #fd9a4e;\n",
       "            color:  #000000;\n",
       "        }    #T_a15b4e7a_a26f_11ea_aa38_000d3a8e2bc1row7_col4 {\n",
       "            background-color:  #fdd2a6;\n",
       "            color:  #000000;\n",
       "        }    #T_a15b4e7a_a26f_11ea_aa38_000d3a8e2bc1row7_col5 {\n",
       "            background-color:  #fdc794;\n",
       "            color:  #000000;\n",
       "        }    #T_a15b4e7a_a26f_11ea_aa38_000d3a8e2bc1row7_col6 {\n",
       "            background-color:  #fd9649;\n",
       "            color:  #000000;\n",
       "        }    #T_a15b4e7a_a26f_11ea_aa38_000d3a8e2bc1row8_col0 {\n",
       "            background-color:  #fee2c7;\n",
       "            color:  #000000;\n",
       "        }    #T_a15b4e7a_a26f_11ea_aa38_000d3a8e2bc1row8_col1 {\n",
       "            background-color:  #fee1c4;\n",
       "            color:  #000000;\n",
       "        }    #T_a15b4e7a_a26f_11ea_aa38_000d3a8e2bc1row8_col3 {\n",
       "            background-color:  #f9812e;\n",
       "            color:  #000000;\n",
       "        }    #T_a15b4e7a_a26f_11ea_aa38_000d3a8e2bc1row8_col4 {\n",
       "            background-color:  #fedcbb;\n",
       "            color:  #000000;\n",
       "        }    #T_a15b4e7a_a26f_11ea_aa38_000d3a8e2bc1row8_col5 {\n",
       "            background-color:  #fee8d2;\n",
       "            color:  #000000;\n",
       "        }    #T_a15b4e7a_a26f_11ea_aa38_000d3a8e2bc1row8_col6 {\n",
       "            background-color:  #fdd5ad;\n",
       "            color:  #000000;\n",
       "        }    #T_a15b4e7a_a26f_11ea_aa38_000d3a8e2bc1row9_col0 {\n",
       "            background-color:  #fee4ca;\n",
       "            color:  #000000;\n",
       "        }    #T_a15b4e7a_a26f_11ea_aa38_000d3a8e2bc1row9_col1 {\n",
       "            background-color:  #fee3c8;\n",
       "            color:  #000000;\n",
       "        }    #T_a15b4e7a_a26f_11ea_aa38_000d3a8e2bc1row9_col3 {\n",
       "            background-color:  #fc8b3a;\n",
       "            color:  #000000;\n",
       "        }    #T_a15b4e7a_a26f_11ea_aa38_000d3a8e2bc1row9_col4 {\n",
       "            background-color:  #fddab6;\n",
       "            color:  #000000;\n",
       "        }    #T_a15b4e7a_a26f_11ea_aa38_000d3a8e2bc1row9_col5 {\n",
       "            background-color:  #fd9f56;\n",
       "            color:  #000000;\n",
       "        }    #T_a15b4e7a_a26f_11ea_aa38_000d3a8e2bc1row9_col6 {\n",
       "            background-color:  #c54102;\n",
       "            color:  #f1f1f1;\n",
       "        }    #T_a15b4e7a_a26f_11ea_aa38_000d3a8e2bc1row10_col0 {\n",
       "            background-color:  #fee6cf;\n",
       "            color:  #000000;\n",
       "        }    #T_a15b4e7a_a26f_11ea_aa38_000d3a8e2bc1row10_col1 {\n",
       "            background-color:  #fee6ce;\n",
       "            color:  #000000;\n",
       "        }    #T_a15b4e7a_a26f_11ea_aa38_000d3a8e2bc1row10_col3 {\n",
       "            background-color:  #f77b28;\n",
       "            color:  #000000;\n",
       "        }    #T_a15b4e7a_a26f_11ea_aa38_000d3a8e2bc1row10_col4 {\n",
       "            background-color:  #fee1c4;\n",
       "            color:  #000000;\n",
       "        }    #T_a15b4e7a_a26f_11ea_aa38_000d3a8e2bc1row10_col5 {\n",
       "            background-color:  #fdd7b1;\n",
       "            color:  #000000;\n",
       "        }    #T_a15b4e7a_a26f_11ea_aa38_000d3a8e2bc1row10_col6 {\n",
       "            background-color:  #fd9e54;\n",
       "            color:  #000000;\n",
       "        }    #T_a15b4e7a_a26f_11ea_aa38_000d3a8e2bc1row11_col0 {\n",
       "            background-color:  #fee7d1;\n",
       "            color:  #000000;\n",
       "        }    #T_a15b4e7a_a26f_11ea_aa38_000d3a8e2bc1row11_col1 {\n",
       "            background-color:  #fee7d0;\n",
       "            color:  #000000;\n",
       "        }    #T_a15b4e7a_a26f_11ea_aa38_000d3a8e2bc1row11_col3 {\n",
       "            background-color:  #e75b0b;\n",
       "            color:  #000000;\n",
       "        }    #T_a15b4e7a_a26f_11ea_aa38_000d3a8e2bc1row11_col4 {\n",
       "            background-color:  #feebd7;\n",
       "            color:  #000000;\n",
       "        }    #T_a15b4e7a_a26f_11ea_aa38_000d3a8e2bc1row11_col5 {\n",
       "            background-color:  #fdd1a4;\n",
       "            color:  #000000;\n",
       "        }    #T_a15b4e7a_a26f_11ea_aa38_000d3a8e2bc1row11_col6 {\n",
       "            background-color:  #f16813;\n",
       "            color:  #000000;\n",
       "        }    #T_a15b4e7a_a26f_11ea_aa38_000d3a8e2bc1row12_col0 {\n",
       "            background-color:  #fee8d2;\n",
       "            color:  #000000;\n",
       "        }    #T_a15b4e7a_a26f_11ea_aa38_000d3a8e2bc1row12_col1 {\n",
       "            background-color:  #fee7d1;\n",
       "            color:  #000000;\n",
       "        }    #T_a15b4e7a_a26f_11ea_aa38_000d3a8e2bc1row12_col3 {\n",
       "            background-color:  #fdbf86;\n",
       "            color:  #000000;\n",
       "        }    #T_a15b4e7a_a26f_11ea_aa38_000d3a8e2bc1row12_col4 {\n",
       "            background-color:  #fdae6a;\n",
       "            color:  #000000;\n",
       "        }    #T_a15b4e7a_a26f_11ea_aa38_000d3a8e2bc1row12_col5 {\n",
       "            background-color:  #f36e19;\n",
       "            color:  #000000;\n",
       "        }    #T_a15b4e7a_a26f_11ea_aa38_000d3a8e2bc1row12_col6 {\n",
       "            background-color:  #d04501;\n",
       "            color:  #f1f1f1;\n",
       "        }    #T_a15b4e7a_a26f_11ea_aa38_000d3a8e2bc1row13_col0 {\n",
       "            background-color:  #fee9d3;\n",
       "            color:  #000000;\n",
       "        }    #T_a15b4e7a_a26f_11ea_aa38_000d3a8e2bc1row13_col1 {\n",
       "            background-color:  #fee8d2;\n",
       "            color:  #000000;\n",
       "        }    #T_a15b4e7a_a26f_11ea_aa38_000d3a8e2bc1row13_col3 {\n",
       "            background-color:  #fdcb9b;\n",
       "            color:  #000000;\n",
       "        }    #T_a15b4e7a_a26f_11ea_aa38_000d3a8e2bc1row13_col4 {\n",
       "            background-color:  #fd994d;\n",
       "            color:  #000000;\n",
       "        }    #T_a15b4e7a_a26f_11ea_aa38_000d3a8e2bc1row13_col5 {\n",
       "            background-color:  #fda057;\n",
       "            color:  #000000;\n",
       "        }    #T_a15b4e7a_a26f_11ea_aa38_000d3a8e2bc1row13_col6 {\n",
       "            background-color:  #fd9547;\n",
       "            color:  #000000;\n",
       "        }    #T_a15b4e7a_a26f_11ea_aa38_000d3a8e2bc1row14_col0 {\n",
       "            background-color:  #feead6;\n",
       "            color:  #000000;\n",
       "        }    #T_a15b4e7a_a26f_11ea_aa38_000d3a8e2bc1row14_col1 {\n",
       "            background-color:  #fee9d4;\n",
       "            color:  #000000;\n",
       "        }    #T_a15b4e7a_a26f_11ea_aa38_000d3a8e2bc1row14_col3 {\n",
       "            background-color:  #c34002;\n",
       "            color:  #f1f1f1;\n",
       "        }    #T_a15b4e7a_a26f_11ea_aa38_000d3a8e2bc1row14_col4 {\n",
       "            background-color:  #ffeede;\n",
       "            color:  #000000;\n",
       "        }    #T_a15b4e7a_a26f_11ea_aa38_000d3a8e2bc1row14_col5 {\n",
       "            background-color:  #fee5cb;\n",
       "            color:  #000000;\n",
       "        }    #T_a15b4e7a_a26f_11ea_aa38_000d3a8e2bc1row14_col6 {\n",
       "            background-color:  #fda863;\n",
       "            color:  #000000;\n",
       "        }    #T_a15b4e7a_a26f_11ea_aa38_000d3a8e2bc1row15_col0 {\n",
       "            background-color:  #feead6;\n",
       "            color:  #000000;\n",
       "        }    #T_a15b4e7a_a26f_11ea_aa38_000d3a8e2bc1row15_col1 {\n",
       "            background-color:  #feead5;\n",
       "            color:  #000000;\n",
       "        }    #T_a15b4e7a_a26f_11ea_aa38_000d3a8e2bc1row15_col3 {\n",
       "            background-color:  #ea5f0e;\n",
       "            color:  #000000;\n",
       "        }    #T_a15b4e7a_a26f_11ea_aa38_000d3a8e2bc1row15_col4 {\n",
       "            background-color:  #fee9d3;\n",
       "            color:  #000000;\n",
       "        }    #T_a15b4e7a_a26f_11ea_aa38_000d3a8e2bc1row15_col5 {\n",
       "            background-color:  #fdd1a4;\n",
       "            color:  #000000;\n",
       "        }    #T_a15b4e7a_a26f_11ea_aa38_000d3a8e2bc1row15_col6 {\n",
       "            background-color:  #f4721e;\n",
       "            color:  #000000;\n",
       "        }    #T_a15b4e7a_a26f_11ea_aa38_000d3a8e2bc1row16_col0 {\n",
       "            background-color:  #feeddb;\n",
       "            color:  #000000;\n",
       "        }    #T_a15b4e7a_a26f_11ea_aa38_000d3a8e2bc1row16_col1 {\n",
       "            background-color:  #feecda;\n",
       "            color:  #000000;\n",
       "        }    #T_a15b4e7a_a26f_11ea_aa38_000d3a8e2bc1row16_col3 {\n",
       "            background-color:  #e75c0c;\n",
       "            color:  #000000;\n",
       "        }    #T_a15b4e7a_a26f_11ea_aa38_000d3a8e2bc1row16_col4 {\n",
       "            background-color:  #fee8d2;\n",
       "            color:  #000000;\n",
       "        }    #T_a15b4e7a_a26f_11ea_aa38_000d3a8e2bc1row16_col5 {\n",
       "            background-color:  #fee8d2;\n",
       "            color:  #000000;\n",
       "        }    #T_a15b4e7a_a26f_11ea_aa38_000d3a8e2bc1row16_col6 {\n",
       "            background-color:  #fdc997;\n",
       "            color:  #000000;\n",
       "        }    #T_a15b4e7a_a26f_11ea_aa38_000d3a8e2bc1row17_col0 {\n",
       "            background-color:  #feeddc;\n",
       "            color:  #000000;\n",
       "        }    #T_a15b4e7a_a26f_11ea_aa38_000d3a8e2bc1row17_col1 {\n",
       "            background-color:  #feeddb;\n",
       "            color:  #000000;\n",
       "        }    #T_a15b4e7a_a26f_11ea_aa38_000d3a8e2bc1row17_col3 {\n",
       "            background-color:  #b33b02;\n",
       "            color:  #f1f1f1;\n",
       "        }    #T_a15b4e7a_a26f_11ea_aa38_000d3a8e2bc1row17_col4 {\n",
       "            background-color:  #fff1e3;\n",
       "            color:  #000000;\n",
       "        }    #T_a15b4e7a_a26f_11ea_aa38_000d3a8e2bc1row17_col5 {\n",
       "            background-color:  #fdd7af;\n",
       "            color:  #000000;\n",
       "        }    #T_a15b4e7a_a26f_11ea_aa38_000d3a8e2bc1row17_col6 {\n",
       "            background-color:  #eb600e;\n",
       "            color:  #000000;\n",
       "        }    #T_a15b4e7a_a26f_11ea_aa38_000d3a8e2bc1row18_col0 {\n",
       "            background-color:  #feeddc;\n",
       "            color:  #000000;\n",
       "        }    #T_a15b4e7a_a26f_11ea_aa38_000d3a8e2bc1row18_col1 {\n",
       "            background-color:  #feeddc;\n",
       "            color:  #000000;\n",
       "        }    #T_a15b4e7a_a26f_11ea_aa38_000d3a8e2bc1row18_col3 {\n",
       "            background-color:  #f36e19;\n",
       "            color:  #000000;\n",
       "        }    #T_a15b4e7a_a26f_11ea_aa38_000d3a8e2bc1row18_col4 {\n",
       "            background-color:  #fee2c7;\n",
       "            color:  #000000;\n",
       "        }    #T_a15b4e7a_a26f_11ea_aa38_000d3a8e2bc1row18_col5 {\n",
       "            background-color:  #fdd9b4;\n",
       "            color:  #000000;\n",
       "        }    #T_a15b4e7a_a26f_11ea_aa38_000d3a8e2bc1row18_col6 {\n",
       "            background-color:  #fd9f56;\n",
       "            color:  #000000;\n",
       "        }    #T_a15b4e7a_a26f_11ea_aa38_000d3a8e2bc1row19_col0 {\n",
       "            background-color:  #ffeedd;\n",
       "            color:  #000000;\n",
       "        }    #T_a15b4e7a_a26f_11ea_aa38_000d3a8e2bc1row19_col1 {\n",
       "            background-color:  #ffeedd;\n",
       "            color:  #000000;\n",
       "        }    #T_a15b4e7a_a26f_11ea_aa38_000d3a8e2bc1row19_col3 {\n",
       "            background-color:  #fdb475;\n",
       "            color:  #000000;\n",
       "        }    #T_a15b4e7a_a26f_11ea_aa38_000d3a8e2bc1row19_col4 {\n",
       "            background-color:  #fdbb81;\n",
       "            color:  #000000;\n",
       "        }    #T_a15b4e7a_a26f_11ea_aa38_000d3a8e2bc1row19_col5 {\n",
       "            background-color:  #fee2c6;\n",
       "            color:  #000000;\n",
       "        }    #T_a15b4e7a_a26f_11ea_aa38_000d3a8e2bc1row19_col6 {\n",
       "            background-color:  #fdd8b2;\n",
       "            color:  #000000;\n",
       "        }    #T_a15b4e7a_a26f_11ea_aa38_000d3a8e2bc1row20_col0 {\n",
       "            background-color:  #ffeede;\n",
       "            color:  #000000;\n",
       "        }    #T_a15b4e7a_a26f_11ea_aa38_000d3a8e2bc1row20_col1 {\n",
       "            background-color:  #ffeede;\n",
       "            color:  #000000;\n",
       "        }    #T_a15b4e7a_a26f_11ea_aa38_000d3a8e2bc1row20_col3 {\n",
       "            background-color:  #f3701b;\n",
       "            color:  #000000;\n",
       "        }    #T_a15b4e7a_a26f_11ea_aa38_000d3a8e2bc1row20_col4 {\n",
       "            background-color:  #feddbc;\n",
       "            color:  #000000;\n",
       "        }    #T_a15b4e7a_a26f_11ea_aa38_000d3a8e2bc1row20_col5 {\n",
       "            background-color:  #fee6cf;\n",
       "            color:  #000000;\n",
       "        }    #T_a15b4e7a_a26f_11ea_aa38_000d3a8e2bc1row20_col6 {\n",
       "            background-color:  #fdd1a4;\n",
       "            color:  #000000;\n",
       "        }    #T_a15b4e7a_a26f_11ea_aa38_000d3a8e2bc1row21_col0 {\n",
       "            background-color:  #ffefe0;\n",
       "            color:  #000000;\n",
       "        }    #T_a15b4e7a_a26f_11ea_aa38_000d3a8e2bc1row21_col1 {\n",
       "            background-color:  #ffefdf;\n",
       "            color:  #000000;\n",
       "        }    #T_a15b4e7a_a26f_11ea_aa38_000d3a8e2bc1row21_col3 {\n",
       "            background-color:  #b13a03;\n",
       "            color:  #f1f1f1;\n",
       "        }    #T_a15b4e7a_a26f_11ea_aa38_000d3a8e2bc1row21_col4 {\n",
       "            background-color:  #fff1e4;\n",
       "            color:  #000000;\n",
       "        }    #T_a15b4e7a_a26f_11ea_aa38_000d3a8e2bc1row21_col5 {\n",
       "            background-color:  #fee8d2;\n",
       "            color:  #000000;\n",
       "        }    #T_a15b4e7a_a26f_11ea_aa38_000d3a8e2bc1row21_col6 {\n",
       "            background-color:  #fdaf6c;\n",
       "            color:  #000000;\n",
       "        }    #T_a15b4e7a_a26f_11ea_aa38_000d3a8e2bc1row22_col0 {\n",
       "            background-color:  #ffefe0;\n",
       "            color:  #000000;\n",
       "        }    #T_a15b4e7a_a26f_11ea_aa38_000d3a8e2bc1row22_col1 {\n",
       "            background-color:  #ffefdf;\n",
       "            color:  #000000;\n",
       "        }    #T_a15b4e7a_a26f_11ea_aa38_000d3a8e2bc1row22_col3 {\n",
       "            background-color:  #f9802d;\n",
       "            color:  #000000;\n",
       "        }    #T_a15b4e7a_a26f_11ea_aa38_000d3a8e2bc1row22_col4 {\n",
       "            background-color:  #fddbb8;\n",
       "            color:  #000000;\n",
       "        }    #T_a15b4e7a_a26f_11ea_aa38_000d3a8e2bc1row22_col5 {\n",
       "            background-color:  #fdc38d;\n",
       "            color:  #000000;\n",
       "        }    #T_a15b4e7a_a26f_11ea_aa38_000d3a8e2bc1row22_col6 {\n",
       "            background-color:  #f77b28;\n",
       "            color:  #000000;\n",
       "        }    #T_a15b4e7a_a26f_11ea_aa38_000d3a8e2bc1row23_col0 {\n",
       "            background-color:  #ffefe0;\n",
       "            color:  #000000;\n",
       "        }    #T_a15b4e7a_a26f_11ea_aa38_000d3a8e2bc1row23_col1 {\n",
       "            background-color:  #ffefe0;\n",
       "            color:  #000000;\n",
       "        }    #T_a15b4e7a_a26f_11ea_aa38_000d3a8e2bc1row23_col3 {\n",
       "            background-color:  #f57622;\n",
       "            color:  #000000;\n",
       "        }    #T_a15b4e7a_a26f_11ea_aa38_000d3a8e2bc1row23_col4 {\n",
       "            background-color:  #fee0c3;\n",
       "            color:  #000000;\n",
       "        }    #T_a15b4e7a_a26f_11ea_aa38_000d3a8e2bc1row23_col5 {\n",
       "            background-color:  #fee4ca;\n",
       "            color:  #000000;\n",
       "        }    #T_a15b4e7a_a26f_11ea_aa38_000d3a8e2bc1row23_col6 {\n",
       "            background-color:  #fdc590;\n",
       "            color:  #000000;\n",
       "        }    #T_a15b4e7a_a26f_11ea_aa38_000d3a8e2bc1row24_col0 {\n",
       "            background-color:  #fff0e1;\n",
       "            color:  #000000;\n",
       "        }    #T_a15b4e7a_a26f_11ea_aa38_000d3a8e2bc1row24_col1 {\n",
       "            background-color:  #fff0e1;\n",
       "            color:  #000000;\n",
       "        }    #T_a15b4e7a_a26f_11ea_aa38_000d3a8e2bc1row24_col3 {\n",
       "            background-color:  #f67824;\n",
       "            color:  #000000;\n",
       "        }    #T_a15b4e7a_a26f_11ea_aa38_000d3a8e2bc1row24_col4 {\n",
       "            background-color:  #fee1c4;\n",
       "            color:  #000000;\n",
       "        }    #T_a15b4e7a_a26f_11ea_aa38_000d3a8e2bc1row24_col5 {\n",
       "            background-color:  #fee0c1;\n",
       "            color:  #000000;\n",
       "        }    #T_a15b4e7a_a26f_11ea_aa38_000d3a8e2bc1row24_col6 {\n",
       "            background-color:  #fdb87c;\n",
       "            color:  #000000;\n",
       "        }    #T_a15b4e7a_a26f_11ea_aa38_000d3a8e2bc1row25_col0 {\n",
       "            background-color:  #fff1e3;\n",
       "            color:  #000000;\n",
       "        }    #T_a15b4e7a_a26f_11ea_aa38_000d3a8e2bc1row25_col1 {\n",
       "            background-color:  #fff0e2;\n",
       "            color:  #000000;\n",
       "        }    #T_a15b4e7a_a26f_11ea_aa38_000d3a8e2bc1row25_col3 {\n",
       "            background-color:  #fd994d;\n",
       "            color:  #000000;\n",
       "        }    #T_a15b4e7a_a26f_11ea_aa38_000d3a8e2bc1row25_col4 {\n",
       "            background-color:  #fdca99;\n",
       "            color:  #000000;\n",
       "        }    #T_a15b4e7a_a26f_11ea_aa38_000d3a8e2bc1row25_col5 {\n",
       "            background-color:  #fdd1a4;\n",
       "            color:  #000000;\n",
       "        }    #T_a15b4e7a_a26f_11ea_aa38_000d3a8e2bc1row25_col6 {\n",
       "            background-color:  #fdae6a;\n",
       "            color:  #000000;\n",
       "        }    #T_a15b4e7a_a26f_11ea_aa38_000d3a8e2bc1row26_col0 {\n",
       "            background-color:  #fff1e3;\n",
       "            color:  #000000;\n",
       "        }    #T_a15b4e7a_a26f_11ea_aa38_000d3a8e2bc1row26_col1 {\n",
       "            background-color:  #fff1e3;\n",
       "            color:  #000000;\n",
       "        }    #T_a15b4e7a_a26f_11ea_aa38_000d3a8e2bc1row26_col3 {\n",
       "            background-color:  #fff5eb;\n",
       "            color:  #000000;\n",
       "        }    #T_a15b4e7a_a26f_11ea_aa38_000d3a8e2bc1row26_col4 {\n",
       "            background-color:  #7f2704;\n",
       "            color:  #f1f1f1;\n",
       "        }    #T_a15b4e7a_a26f_11ea_aa38_000d3a8e2bc1row26_col5 {\n",
       "            background-color:  #de4e05;\n",
       "            color:  #f1f1f1;\n",
       "        }    #T_a15b4e7a_a26f_11ea_aa38_000d3a8e2bc1row26_col6 {\n",
       "            background-color:  #fda057;\n",
       "            color:  #000000;\n",
       "        }    #T_a15b4e7a_a26f_11ea_aa38_000d3a8e2bc1row27_col0 {\n",
       "            background-color:  #fff1e4;\n",
       "            color:  #000000;\n",
       "        }    #T_a15b4e7a_a26f_11ea_aa38_000d3a8e2bc1row27_col1 {\n",
       "            background-color:  #fff1e3;\n",
       "            color:  #000000;\n",
       "        }    #T_a15b4e7a_a26f_11ea_aa38_000d3a8e2bc1row27_col3 {\n",
       "            background-color:  #a93703;\n",
       "            color:  #f1f1f1;\n",
       "        }    #T_a15b4e7a_a26f_11ea_aa38_000d3a8e2bc1row27_col4 {\n",
       "            background-color:  #fff1e4;\n",
       "            color:  #000000;\n",
       "        }    #T_a15b4e7a_a26f_11ea_aa38_000d3a8e2bc1row27_col5 {\n",
       "            background-color:  #feebd7;\n",
       "            color:  #000000;\n",
       "        }    #T_a15b4e7a_a26f_11ea_aa38_000d3a8e2bc1row27_col6 {\n",
       "            background-color:  #fdc38d;\n",
       "            color:  #000000;\n",
       "        }    #T_a15b4e7a_a26f_11ea_aa38_000d3a8e2bc1row28_col0 {\n",
       "            background-color:  #fff1e4;\n",
       "            color:  #000000;\n",
       "        }    #T_a15b4e7a_a26f_11ea_aa38_000d3a8e2bc1row28_col1 {\n",
       "            background-color:  #fff1e3;\n",
       "            color:  #000000;\n",
       "        }    #T_a15b4e7a_a26f_11ea_aa38_000d3a8e2bc1row28_col3 {\n",
       "            background-color:  #fd9a4e;\n",
       "            color:  #000000;\n",
       "        }    #T_a15b4e7a_a26f_11ea_aa38_000d3a8e2bc1row28_col4 {\n",
       "            background-color:  #fdd7af;\n",
       "            color:  #000000;\n",
       "        }    #T_a15b4e7a_a26f_11ea_aa38_000d3a8e2bc1row28_col5 {\n",
       "            background-color:  #fdb678;\n",
       "            color:  #000000;\n",
       "        }    #T_a15b4e7a_a26f_11ea_aa38_000d3a8e2bc1row28_col6 {\n",
       "            background-color:  #f26c16;\n",
       "            color:  #000000;\n",
       "        }    #T_a15b4e7a_a26f_11ea_aa38_000d3a8e2bc1row29_col0 {\n",
       "            background-color:  #fff2e5;\n",
       "            color:  #000000;\n",
       "        }    #T_a15b4e7a_a26f_11ea_aa38_000d3a8e2bc1row29_col1 {\n",
       "            background-color:  #fff2e5;\n",
       "            color:  #000000;\n",
       "        }    #T_a15b4e7a_a26f_11ea_aa38_000d3a8e2bc1row29_col3 {\n",
       "            background-color:  #ed6310;\n",
       "            color:  #000000;\n",
       "        }    #T_a15b4e7a_a26f_11ea_aa38_000d3a8e2bc1row29_col4 {\n",
       "            background-color:  #fee9d3;\n",
       "            color:  #000000;\n",
       "        }    #T_a15b4e7a_a26f_11ea_aa38_000d3a8e2bc1row29_col5 {\n",
       "            background-color:  #feead6;\n",
       "            color:  #000000;\n",
       "        }    #T_a15b4e7a_a26f_11ea_aa38_000d3a8e2bc1row29_col6 {\n",
       "            background-color:  #fdd3a7;\n",
       "            color:  #000000;\n",
       "        }    #T_a15b4e7a_a26f_11ea_aa38_000d3a8e2bc1row30_col0 {\n",
       "            background-color:  #fff2e6;\n",
       "            color:  #000000;\n",
       "        }    #T_a15b4e7a_a26f_11ea_aa38_000d3a8e2bc1row30_col1 {\n",
       "            background-color:  #fff2e6;\n",
       "            color:  #000000;\n",
       "        }    #T_a15b4e7a_a26f_11ea_aa38_000d3a8e2bc1row30_col3 {\n",
       "            background-color:  #db4b03;\n",
       "            color:  #f1f1f1;\n",
       "        }    #T_a15b4e7a_a26f_11ea_aa38_000d3a8e2bc1row30_col4 {\n",
       "            background-color:  #feeddc;\n",
       "            color:  #000000;\n",
       "        }    #T_a15b4e7a_a26f_11ea_aa38_000d3a8e2bc1row30_col5 {\n",
       "            background-color:  #fee1c4;\n",
       "            color:  #000000;\n",
       "        }    #T_a15b4e7a_a26f_11ea_aa38_000d3a8e2bc1row30_col6 {\n",
       "            background-color:  #fd9d53;\n",
       "            color:  #000000;\n",
       "        }    #T_a15b4e7a_a26f_11ea_aa38_000d3a8e2bc1row31_col0 {\n",
       "            background-color:  #fff2e6;\n",
       "            color:  #000000;\n",
       "        }    #T_a15b4e7a_a26f_11ea_aa38_000d3a8e2bc1row31_col1 {\n",
       "            background-color:  #fff2e6;\n",
       "            color:  #000000;\n",
       "        }    #T_a15b4e7a_a26f_11ea_aa38_000d3a8e2bc1row31_col3 {\n",
       "            background-color:  #fd9243;\n",
       "            color:  #000000;\n",
       "        }    #T_a15b4e7a_a26f_11ea_aa38_000d3a8e2bc1row31_col4 {\n",
       "            background-color:  #fdd6ae;\n",
       "            color:  #000000;\n",
       "        }    #T_a15b4e7a_a26f_11ea_aa38_000d3a8e2bc1row31_col5 {\n",
       "            background-color:  #feebd7;\n",
       "            color:  #000000;\n",
       "        }    #T_a15b4e7a_a26f_11ea_aa38_000d3a8e2bc1row31_col6 {\n",
       "            background-color:  #fee1c4;\n",
       "            color:  #000000;\n",
       "        }    #T_a15b4e7a_a26f_11ea_aa38_000d3a8e2bc1row32_col0 {\n",
       "            background-color:  #fff2e6;\n",
       "            color:  #000000;\n",
       "        }    #T_a15b4e7a_a26f_11ea_aa38_000d3a8e2bc1row32_col1 {\n",
       "            background-color:  #fff2e6;\n",
       "            color:  #000000;\n",
       "        }    #T_a15b4e7a_a26f_11ea_aa38_000d3a8e2bc1row32_col3 {\n",
       "            background-color:  #fdb576;\n",
       "            color:  #000000;\n",
       "        }    #T_a15b4e7a_a26f_11ea_aa38_000d3a8e2bc1row32_col4 {\n",
       "            background-color:  #fdc28b;\n",
       "            color:  #000000;\n",
       "        }    #T_a15b4e7a_a26f_11ea_aa38_000d3a8e2bc1row32_col5 {\n",
       "            background-color:  #fd9040;\n",
       "            color:  #000000;\n",
       "        }    #T_a15b4e7a_a26f_11ea_aa38_000d3a8e2bc1row32_col6 {\n",
       "            background-color:  #e05206;\n",
       "            color:  #000000;\n",
       "        }    #T_a15b4e7a_a26f_11ea_aa38_000d3a8e2bc1row33_col0 {\n",
       "            background-color:  #fff2e6;\n",
       "            color:  #000000;\n",
       "        }    #T_a15b4e7a_a26f_11ea_aa38_000d3a8e2bc1row33_col1 {\n",
       "            background-color:  #fff2e6;\n",
       "            color:  #000000;\n",
       "        }    #T_a15b4e7a_a26f_11ea_aa38_000d3a8e2bc1row33_col3 {\n",
       "            background-color:  #fdc38d;\n",
       "            color:  #000000;\n",
       "        }    #T_a15b4e7a_a26f_11ea_aa38_000d3a8e2bc1row33_col4 {\n",
       "            background-color:  #fdb678;\n",
       "            color:  #000000;\n",
       "        }    #T_a15b4e7a_a26f_11ea_aa38_000d3a8e2bc1row33_col5 {\n",
       "            background-color:  #fee5cc;\n",
       "            color:  #000000;\n",
       "        }    #T_a15b4e7a_a26f_11ea_aa38_000d3a8e2bc1row33_col6 {\n",
       "            background-color:  #fedebf;\n",
       "            color:  #000000;\n",
       "        }    #T_a15b4e7a_a26f_11ea_aa38_000d3a8e2bc1row34_col0 {\n",
       "            background-color:  #fff3e6;\n",
       "            color:  #000000;\n",
       "        }    #T_a15b4e7a_a26f_11ea_aa38_000d3a8e2bc1row34_col1 {\n",
       "            background-color:  #fff3e6;\n",
       "            color:  #000000;\n",
       "        }    #T_a15b4e7a_a26f_11ea_aa38_000d3a8e2bc1row34_col3 {\n",
       "            background-color:  #fdbb81;\n",
       "            color:  #000000;\n",
       "        }    #T_a15b4e7a_a26f_11ea_aa38_000d3a8e2bc1row34_col4 {\n",
       "            background-color:  #fdbb81;\n",
       "            color:  #000000;\n",
       "        }    #T_a15b4e7a_a26f_11ea_aa38_000d3a8e2bc1row34_col5 {\n",
       "            background-color:  #f06712;\n",
       "            color:  #000000;\n",
       "        }    #T_a15b4e7a_a26f_11ea_aa38_000d3a8e2bc1row34_col6 {\n",
       "            background-color:  #a63603;\n",
       "            color:  #f1f1f1;\n",
       "        }    #T_a15b4e7a_a26f_11ea_aa38_000d3a8e2bc1row35_col0 {\n",
       "            background-color:  #fff3e6;\n",
       "            color:  #000000;\n",
       "        }    #T_a15b4e7a_a26f_11ea_aa38_000d3a8e2bc1row35_col1 {\n",
       "            background-color:  #fff3e6;\n",
       "            color:  #000000;\n",
       "        }    #T_a15b4e7a_a26f_11ea_aa38_000d3a8e2bc1row35_col3 {\n",
       "            background-color:  #f67723;\n",
       "            color:  #000000;\n",
       "        }    #T_a15b4e7a_a26f_11ea_aa38_000d3a8e2bc1row35_col4 {\n",
       "            background-color:  #fedfc0;\n",
       "            color:  #000000;\n",
       "        }    #T_a15b4e7a_a26f_11ea_aa38_000d3a8e2bc1row35_col5 {\n",
       "            background-color:  #fee6cf;\n",
       "            color:  #000000;\n",
       "        }    #T_a15b4e7a_a26f_11ea_aa38_000d3a8e2bc1row35_col6 {\n",
       "            background-color:  #fdd0a2;\n",
       "            color:  #000000;\n",
       "        }    #T_a15b4e7a_a26f_11ea_aa38_000d3a8e2bc1row36_col0 {\n",
       "            background-color:  #fff3e7;\n",
       "            color:  #000000;\n",
       "        }    #T_a15b4e7a_a26f_11ea_aa38_000d3a8e2bc1row36_col1 {\n",
       "            background-color:  #fff3e7;\n",
       "            color:  #000000;\n",
       "        }    #T_a15b4e7a_a26f_11ea_aa38_000d3a8e2bc1row36_col3 {\n",
       "            background-color:  #fee0c3;\n",
       "            color:  #000000;\n",
       "        }    #T_a15b4e7a_a26f_11ea_aa38_000d3a8e2bc1row36_col4 {\n",
       "            background-color:  #f87e2b;\n",
       "            color:  #000000;\n",
       "        }    #T_a15b4e7a_a26f_11ea_aa38_000d3a8e2bc1row36_col5 {\n",
       "            background-color:  #fedfc0;\n",
       "            color:  #000000;\n",
       "        }    #T_a15b4e7a_a26f_11ea_aa38_000d3a8e2bc1row36_col6 {\n",
       "            background-color:  #fee2c7;\n",
       "            color:  #000000;\n",
       "        }    #T_a15b4e7a_a26f_11ea_aa38_000d3a8e2bc1row37_col0 {\n",
       "            background-color:  #fff3e7;\n",
       "            color:  #000000;\n",
       "        }    #T_a15b4e7a_a26f_11ea_aa38_000d3a8e2bc1row37_col1 {\n",
       "            background-color:  #fff3e7;\n",
       "            color:  #000000;\n",
       "        }    #T_a15b4e7a_a26f_11ea_aa38_000d3a8e2bc1row37_col3 {\n",
       "            background-color:  #f4721e;\n",
       "            color:  #000000;\n",
       "        }    #T_a15b4e7a_a26f_11ea_aa38_000d3a8e2bc1row37_col4 {\n",
       "            background-color:  #fee5cc;\n",
       "            color:  #000000;\n",
       "        }    #T_a15b4e7a_a26f_11ea_aa38_000d3a8e2bc1row37_col5 {\n",
       "            background-color:  #feead6;\n",
       "            color:  #000000;\n",
       "        }    #T_a15b4e7a_a26f_11ea_aa38_000d3a8e2bc1row37_col6 {\n",
       "            background-color:  #fdd6ae;\n",
       "            color:  #000000;\n",
       "        }    #T_a15b4e7a_a26f_11ea_aa38_000d3a8e2bc1row38_col0 {\n",
       "            background-color:  #fff3e7;\n",
       "            color:  #000000;\n",
       "        }    #T_a15b4e7a_a26f_11ea_aa38_000d3a8e2bc1row38_col1 {\n",
       "            background-color:  #fff3e7;\n",
       "            color:  #000000;\n",
       "        }    #T_a15b4e7a_a26f_11ea_aa38_000d3a8e2bc1row38_col3 {\n",
       "            background-color:  #fb8735;\n",
       "            color:  #000000;\n",
       "        }    #T_a15b4e7a_a26f_11ea_aa38_000d3a8e2bc1row38_col4 {\n",
       "            background-color:  #fdd9b5;\n",
       "            color:  #000000;\n",
       "        }    #T_a15b4e7a_a26f_11ea_aa38_000d3a8e2bc1row38_col5 {\n",
       "            background-color:  #ffeedd;\n",
       "            color:  #000000;\n",
       "        }    #T_a15b4e7a_a26f_11ea_aa38_000d3a8e2bc1row38_col6 {\n",
       "            background-color:  #fee7d0;\n",
       "            color:  #000000;\n",
       "        }    #T_a15b4e7a_a26f_11ea_aa38_000d3a8e2bc1row39_col0 {\n",
       "            background-color:  #fff4e8;\n",
       "            color:  #000000;\n",
       "        }    #T_a15b4e7a_a26f_11ea_aa38_000d3a8e2bc1row39_col1 {\n",
       "            background-color:  #fff4e8;\n",
       "            color:  #000000;\n",
       "        }    #T_a15b4e7a_a26f_11ea_aa38_000d3a8e2bc1row39_col3 {\n",
       "            background-color:  #fc8a39;\n",
       "            color:  #000000;\n",
       "        }    #T_a15b4e7a_a26f_11ea_aa38_000d3a8e2bc1row39_col4 {\n",
       "            background-color:  #fedcb9;\n",
       "            color:  #000000;\n",
       "        }    #T_a15b4e7a_a26f_11ea_aa38_000d3a8e2bc1row39_col5 {\n",
       "            background-color:  #fdca99;\n",
       "            color:  #000000;\n",
       "        }    #T_a15b4e7a_a26f_11ea_aa38_000d3a8e2bc1row39_col6 {\n",
       "            background-color:  #fb8735;\n",
       "            color:  #000000;\n",
       "        }    #T_a15b4e7a_a26f_11ea_aa38_000d3a8e2bc1row40_col0 {\n",
       "            background-color:  #fff4e9;\n",
       "            color:  #000000;\n",
       "        }    #T_a15b4e7a_a26f_11ea_aa38_000d3a8e2bc1row40_col1 {\n",
       "            background-color:  #fff4e9;\n",
       "            color:  #000000;\n",
       "        }    #T_a15b4e7a_a26f_11ea_aa38_000d3a8e2bc1row40_col3 {\n",
       "            background-color:  #fd8c3b;\n",
       "            color:  #000000;\n",
       "        }    #T_a15b4e7a_a26f_11ea_aa38_000d3a8e2bc1row40_col4 {\n",
       "            background-color:  #fdd7af;\n",
       "            color:  #000000;\n",
       "        }    #T_a15b4e7a_a26f_11ea_aa38_000d3a8e2bc1row40_col5 {\n",
       "            background-color:  #fee2c6;\n",
       "            color:  #000000;\n",
       "        }    #T_a15b4e7a_a26f_11ea_aa38_000d3a8e2bc1row40_col6 {\n",
       "            background-color:  #fdcb9b;\n",
       "            color:  #000000;\n",
       "        }    #T_a15b4e7a_a26f_11ea_aa38_000d3a8e2bc1row41_col0 {\n",
       "            background-color:  #fff4e9;\n",
       "            color:  #000000;\n",
       "        }    #T_a15b4e7a_a26f_11ea_aa38_000d3a8e2bc1row41_col1 {\n",
       "            background-color:  #fff4e9;\n",
       "            color:  #000000;\n",
       "        }    #T_a15b4e7a_a26f_11ea_aa38_000d3a8e2bc1row41_col3 {\n",
       "            background-color:  #ab3803;\n",
       "            color:  #f1f1f1;\n",
       "        }    #T_a15b4e7a_a26f_11ea_aa38_000d3a8e2bc1row41_col4 {\n",
       "            background-color:  #fff1e3;\n",
       "            color:  #000000;\n",
       "        }    #T_a15b4e7a_a26f_11ea_aa38_000d3a8e2bc1row41_col5 {\n",
       "            background-color:  #fff2e5;\n",
       "            color:  #000000;\n",
       "        }    #T_a15b4e7a_a26f_11ea_aa38_000d3a8e2bc1row41_col6 {\n",
       "            background-color:  #fee7d0;\n",
       "            color:  #000000;\n",
       "        }    #T_a15b4e7a_a26f_11ea_aa38_000d3a8e2bc1row42_col0 {\n",
       "            background-color:  #fff5ea;\n",
       "            color:  #000000;\n",
       "        }    #T_a15b4e7a_a26f_11ea_aa38_000d3a8e2bc1row42_col1 {\n",
       "            background-color:  #fff5ea;\n",
       "            color:  #000000;\n",
       "        }    #T_a15b4e7a_a26f_11ea_aa38_000d3a8e2bc1row42_col3 {\n",
       "            background-color:  #7f2704;\n",
       "            color:  #f1f1f1;\n",
       "        }    #T_a15b4e7a_a26f_11ea_aa38_000d3a8e2bc1row42_col4 {\n",
       "            background-color:  #fff5eb;\n",
       "            color:  #000000;\n",
       "        }    #T_a15b4e7a_a26f_11ea_aa38_000d3a8e2bc1row42_col5 {\n",
       "            background-color:  #ffeedd;\n",
       "            color:  #000000;\n",
       "        }    #T_a15b4e7a_a26f_11ea_aa38_000d3a8e2bc1row42_col6 {\n",
       "            background-color:  #fdd1a3;\n",
       "            color:  #000000;\n",
       "        }    #T_a15b4e7a_a26f_11ea_aa38_000d3a8e2bc1row43_col0 {\n",
       "            background-color:  #fff5ea;\n",
       "            color:  #000000;\n",
       "        }    #T_a15b4e7a_a26f_11ea_aa38_000d3a8e2bc1row43_col1 {\n",
       "            background-color:  #fff5ea;\n",
       "            color:  #000000;\n",
       "        }    #T_a15b4e7a_a26f_11ea_aa38_000d3a8e2bc1row43_col3 {\n",
       "            background-color:  #fee6cf;\n",
       "            color:  #000000;\n",
       "        }    #T_a15b4e7a_a26f_11ea_aa38_000d3a8e2bc1row43_col4 {\n",
       "            background-color:  #f57520;\n",
       "            color:  #000000;\n",
       "        }    #T_a15b4e7a_a26f_11ea_aa38_000d3a8e2bc1row43_col5 {\n",
       "            background-color:  #fee1c4;\n",
       "            color:  #000000;\n",
       "        }    #T_a15b4e7a_a26f_11ea_aa38_000d3a8e2bc1row43_col6 {\n",
       "            background-color:  #fee5cc;\n",
       "            color:  #000000;\n",
       "        }    #T_a15b4e7a_a26f_11ea_aa38_000d3a8e2bc1row44_col0 {\n",
       "            background-color:  #fff5ea;\n",
       "            color:  #000000;\n",
       "        }    #T_a15b4e7a_a26f_11ea_aa38_000d3a8e2bc1row44_col1 {\n",
       "            background-color:  #fff5ea;\n",
       "            color:  #000000;\n",
       "        }    #T_a15b4e7a_a26f_11ea_aa38_000d3a8e2bc1row44_col3 {\n",
       "            background-color:  #d64701;\n",
       "            color:  #f1f1f1;\n",
       "        }    #T_a15b4e7a_a26f_11ea_aa38_000d3a8e2bc1row44_col4 {\n",
       "            background-color:  #feecd9;\n",
       "            color:  #000000;\n",
       "        }    #T_a15b4e7a_a26f_11ea_aa38_000d3a8e2bc1row44_col5 {\n",
       "            background-color:  #feeddc;\n",
       "            color:  #000000;\n",
       "        }    #T_a15b4e7a_a26f_11ea_aa38_000d3a8e2bc1row44_col6 {\n",
       "            background-color:  #fddbb8;\n",
       "            color:  #000000;\n",
       "        }    #T_a15b4e7a_a26f_11ea_aa38_000d3a8e2bc1row45_col0 {\n",
       "            background-color:  #fff5ea;\n",
       "            color:  #000000;\n",
       "        }    #T_a15b4e7a_a26f_11ea_aa38_000d3a8e2bc1row45_col1 {\n",
       "            background-color:  #fff5ea;\n",
       "            color:  #000000;\n",
       "        }    #T_a15b4e7a_a26f_11ea_aa38_000d3a8e2bc1row45_col3 {\n",
       "            background-color:  #fd9a4e;\n",
       "            color:  #000000;\n",
       "        }    #T_a15b4e7a_a26f_11ea_aa38_000d3a8e2bc1row45_col4 {\n",
       "            background-color:  #fdd2a6;\n",
       "            color:  #000000;\n",
       "        }    #T_a15b4e7a_a26f_11ea_aa38_000d3a8e2bc1row45_col5 {\n",
       "            background-color:  #fff1e4;\n",
       "            color:  #000000;\n",
       "        }    #T_a15b4e7a_a26f_11ea_aa38_000d3a8e2bc1row45_col6 {\n",
       "            background-color:  #ffeede;\n",
       "            color:  #000000;\n",
       "        }    #T_a15b4e7a_a26f_11ea_aa38_000d3a8e2bc1row46_col0 {\n",
       "            background-color:  #fff5eb;\n",
       "            color:  #000000;\n",
       "        }    #T_a15b4e7a_a26f_11ea_aa38_000d3a8e2bc1row46_col1 {\n",
       "            background-color:  #fff5eb;\n",
       "            color:  #000000;\n",
       "        }    #T_a15b4e7a_a26f_11ea_aa38_000d3a8e2bc1row46_col3 {\n",
       "            background-color:  #fda25a;\n",
       "            color:  #000000;\n",
       "        }    #T_a15b4e7a_a26f_11ea_aa38_000d3a8e2bc1row46_col4 {\n",
       "            background-color:  #fdd4aa;\n",
       "            color:  #000000;\n",
       "        }    #T_a15b4e7a_a26f_11ea_aa38_000d3a8e2bc1row46_col5 {\n",
       "            background-color:  #ffeedd;\n",
       "            color:  #000000;\n",
       "        }    #T_a15b4e7a_a26f_11ea_aa38_000d3a8e2bc1row46_col6 {\n",
       "            background-color:  #fee9d3;\n",
       "            color:  #000000;\n",
       "        }    #T_a15b4e7a_a26f_11ea_aa38_000d3a8e2bc1row47_col0 {\n",
       "            background-color:  #fff5eb;\n",
       "            color:  #000000;\n",
       "        }    #T_a15b4e7a_a26f_11ea_aa38_000d3a8e2bc1row47_col1 {\n",
       "            background-color:  #fff5eb;\n",
       "            color:  #000000;\n",
       "        }    #T_a15b4e7a_a26f_11ea_aa38_000d3a8e2bc1row47_col3 {\n",
       "            background-color:  #ee6511;\n",
       "            color:  #000000;\n",
       "        }    #T_a15b4e7a_a26f_11ea_aa38_000d3a8e2bc1row47_col4 {\n",
       "            background-color:  #fee5cb;\n",
       "            color:  #000000;\n",
       "        }    #T_a15b4e7a_a26f_11ea_aa38_000d3a8e2bc1row47_col5 {\n",
       "            background-color:  #ffeedd;\n",
       "            color:  #000000;\n",
       "        }    #T_a15b4e7a_a26f_11ea_aa38_000d3a8e2bc1row47_col6 {\n",
       "            background-color:  #fee4ca;\n",
       "            color:  #000000;\n",
       "        }    #T_a15b4e7a_a26f_11ea_aa38_000d3a8e2bc1row48_col0 {\n",
       "            background-color:  #fff5eb;\n",
       "            color:  #000000;\n",
       "        }    #T_a15b4e7a_a26f_11ea_aa38_000d3a8e2bc1row48_col1 {\n",
       "            background-color:  #fff5eb;\n",
       "            color:  #000000;\n",
       "        }    #T_a15b4e7a_a26f_11ea_aa38_000d3a8e2bc1row48_col3 {\n",
       "            background-color:  #e75b0b;\n",
       "            color:  #000000;\n",
       "        }    #T_a15b4e7a_a26f_11ea_aa38_000d3a8e2bc1row48_col4 {\n",
       "            background-color:  #fee8d2;\n",
       "            color:  #000000;\n",
       "        }    #T_a15b4e7a_a26f_11ea_aa38_000d3a8e2bc1row48_col5 {\n",
       "            background-color:  #fff5eb;\n",
       "            color:  #000000;\n",
       "        }    #T_a15b4e7a_a26f_11ea_aa38_000d3a8e2bc1row48_col6 {\n",
       "            background-color:  #fff3e7;\n",
       "            color:  #000000;\n",
       "        }    #T_a15b4e7a_a26f_11ea_aa38_000d3a8e2bc1row49_col0 {\n",
       "            background-color:  #fff5eb;\n",
       "            color:  #000000;\n",
       "        }    #T_a15b4e7a_a26f_11ea_aa38_000d3a8e2bc1row49_col1 {\n",
       "            background-color:  #fff5eb;\n",
       "            color:  #000000;\n",
       "        }    #T_a15b4e7a_a26f_11ea_aa38_000d3a8e2bc1row49_col3 {\n",
       "            background-color:  #db4a02;\n",
       "            color:  #f1f1f1;\n",
       "        }    #T_a15b4e7a_a26f_11ea_aa38_000d3a8e2bc1row49_col4 {\n",
       "            background-color:  #feead5;\n",
       "            color:  #000000;\n",
       "        }    #T_a15b4e7a_a26f_11ea_aa38_000d3a8e2bc1row49_col5 {\n",
       "            background-color:  #fff5eb;\n",
       "            color:  #000000;\n",
       "        }    #T_a15b4e7a_a26f_11ea_aa38_000d3a8e2bc1row49_col6 {\n",
       "            background-color:  #fff3e7;\n",
       "            color:  #000000;\n",
       "        }    #T_a15b4e7a_a26f_11ea_aa38_000d3a8e2bc1row50_col0 {\n",
       "            background-color:  #fff5eb;\n",
       "            color:  #000000;\n",
       "        }    #T_a15b4e7a_a26f_11ea_aa38_000d3a8e2bc1row50_col1 {\n",
       "            background-color:  #fff5eb;\n",
       "            color:  #000000;\n",
       "        }    #T_a15b4e7a_a26f_11ea_aa38_000d3a8e2bc1row50_col3 {\n",
       "            background-color:  #fdc38d;\n",
       "            color:  #000000;\n",
       "        }    #T_a15b4e7a_a26f_11ea_aa38_000d3a8e2bc1row50_col4 {\n",
       "            background-color:  #fdae6a;\n",
       "            color:  #000000;\n",
       "        }    #T_a15b4e7a_a26f_11ea_aa38_000d3a8e2bc1row50_col5 {\n",
       "            background-color:  #fff5ea;\n",
       "            color:  #000000;\n",
       "        }    #T_a15b4e7a_a26f_11ea_aa38_000d3a8e2bc1row50_col6 {\n",
       "            background-color:  #fff5eb;\n",
       "            color:  #000000;\n",
       "        }</style><table id=\"T_a15b4e7a_a26f_11ea_aa38_000d3a8e2bc1\" ><thead>    <tr>        <th class=\"blank level0\" ></th>        <th class=\"col_heading level0 col0\" >Reported Cases</th>        <th class=\"col_heading level0 col1\" >Est Cases</th>        <th class=\"col_heading level0 col2\" >Est Range</th>        <th class=\"col_heading level0 col3\" >Ratio</th>        <th class=\"col_heading level0 col4\" >Tests per Million</th>        <th class=\"col_heading level0 col5\" >Cases per Million</th>        <th class=\"col_heading level0 col6\" >Positive Test Rate</th>    </tr>    <tr>        <th class=\"index_name level0\" >state</th>        <th class=\"blank\" ></th>        <th class=\"blank\" ></th>        <th class=\"blank\" ></th>        <th class=\"blank\" ></th>        <th class=\"blank\" ></th>        <th class=\"blank\" ></th>        <th class=\"blank\" ></th>    </tr></thead><tbody>\n",
       "                <tr>\n",
       "                        <th id=\"T_a15b4e7a_a26f_11ea_aa38_000d3a8e2bc1level0_row0\" class=\"row_heading level0 row0\" >NY</th>\n",
       "                        <td id=\"T_a15b4e7a_a26f_11ea_aa38_000d3a8e2bc1row0_col0\" class=\"data row0 col0\" >368284</td>\n",
       "                        <td id=\"T_a15b4e7a_a26f_11ea_aa38_000d3a8e2bc1row0_col1\" class=\"data row0 col1\" >403393</td>\n",
       "                        <td id=\"T_a15b4e7a_a26f_11ea_aa38_000d3a8e2bc1row0_col2\" class=\"data row0 col2\" >(381579, 445350)</td>\n",
       "                        <td id=\"T_a15b4e7a_a26f_11ea_aa38_000d3a8e2bc1row0_col3\" class=\"data row0 col3\" >1.1</td>\n",
       "                        <td id=\"T_a15b4e7a_a26f_11ea_aa38_000d3a8e2bc1row0_col4\" class=\"data row0 col4\" >99937.0</td>\n",
       "                        <td id=\"T_a15b4e7a_a26f_11ea_aa38_000d3a8e2bc1row0_col5\" class=\"data row0 col5\" >18931.4</td>\n",
       "                        <td id=\"T_a15b4e7a_a26f_11ea_aa38_000d3a8e2bc1row0_col6\" class=\"data row0 col6\" >19%</td>\n",
       "            </tr>\n",
       "            <tr>\n",
       "                        <th id=\"T_a15b4e7a_a26f_11ea_aa38_000d3a8e2bc1level0_row1\" class=\"row_heading level0 row1\" >NJ</th>\n",
       "                        <td id=\"T_a15b4e7a_a26f_11ea_aa38_000d3a8e2bc1row1_col0\" class=\"data row1 col0\" >158844</td>\n",
       "                        <td id=\"T_a15b4e7a_a26f_11ea_aa38_000d3a8e2bc1row1_col1\" class=\"data row1 col1\" >175916</td>\n",
       "                        <td id=\"T_a15b4e7a_a26f_11ea_aa38_000d3a8e2bc1row1_col2\" class=\"data row1 col2\" >(165161, 199262)</td>\n",
       "                        <td id=\"T_a15b4e7a_a26f_11ea_aa38_000d3a8e2bc1row1_col3\" class=\"data row1 col3\" >1.1</td>\n",
       "                        <td id=\"T_a15b4e7a_a26f_11ea_aa38_000d3a8e2bc1row1_col4\" class=\"data row1 col4\" >80657.0</td>\n",
       "                        <td id=\"T_a15b4e7a_a26f_11ea_aa38_000d3a8e2bc1row1_col5\" class=\"data row1 col5\" >17883.4</td>\n",
       "                        <td id=\"T_a15b4e7a_a26f_11ea_aa38_000d3a8e2bc1row1_col6\" class=\"data row1 col6\" >22%</td>\n",
       "            </tr>\n",
       "            <tr>\n",
       "                        <th id=\"T_a15b4e7a_a26f_11ea_aa38_000d3a8e2bc1level0_row2\" class=\"row_heading level0 row2\" >IL</th>\n",
       "                        <td id=\"T_a15b4e7a_a26f_11ea_aa38_000d3a8e2bc1row2_col0\" class=\"data row2 col0\" >117455</td>\n",
       "                        <td id=\"T_a15b4e7a_a26f_11ea_aa38_000d3a8e2bc1row2_col1\" class=\"data row2 col1\" >130824</td>\n",
       "                        <td id=\"T_a15b4e7a_a26f_11ea_aa38_000d3a8e2bc1row2_col2\" class=\"data row2 col2\" >(122384, 148317)</td>\n",
       "                        <td id=\"T_a15b4e7a_a26f_11ea_aa38_000d3a8e2bc1row2_col3\" class=\"data row2 col3\" >1.1</td>\n",
       "                        <td id=\"T_a15b4e7a_a26f_11ea_aa38_000d3a8e2bc1row2_col4\" class=\"data row2 col4\" >67217.0</td>\n",
       "                        <td id=\"T_a15b4e7a_a26f_11ea_aa38_000d3a8e2bc1row2_col5\" class=\"data row2 col5\" >9269.0</td>\n",
       "                        <td id=\"T_a15b4e7a_a26f_11ea_aa38_000d3a8e2bc1row2_col6\" class=\"data row2 col6\" >14%</td>\n",
       "            </tr>\n",
       "            <tr>\n",
       "                        <th id=\"T_a15b4e7a_a26f_11ea_aa38_000d3a8e2bc1level0_row3\" class=\"row_heading level0 row3\" >CA</th>\n",
       "                        <td id=\"T_a15b4e7a_a26f_11ea_aa38_000d3a8e2bc1row3_col0\" class=\"data row3 col0\" >103886</td>\n",
       "                        <td id=\"T_a15b4e7a_a26f_11ea_aa38_000d3a8e2bc1row3_col1\" class=\"data row3 col1\" >117025</td>\n",
       "                        <td id=\"T_a15b4e7a_a26f_11ea_aa38_000d3a8e2bc1row3_col2\" class=\"data row3 col2\" >(108942, 135078)</td>\n",
       "                        <td id=\"T_a15b4e7a_a26f_11ea_aa38_000d3a8e2bc1row3_col3\" class=\"data row3 col3\" >1.1</td>\n",
       "                        <td id=\"T_a15b4e7a_a26f_11ea_aa38_000d3a8e2bc1row3_col4\" class=\"data row3 col4\" >46453.4</td>\n",
       "                        <td id=\"T_a15b4e7a_a26f_11ea_aa38_000d3a8e2bc1row3_col5\" class=\"data row3 col5\" >2629.2</td>\n",
       "                        <td id=\"T_a15b4e7a_a26f_11ea_aa38_000d3a8e2bc1row3_col6\" class=\"data row3 col6\" >6%</td>\n",
       "            </tr>\n",
       "            <tr>\n",
       "                        <th id=\"T_a15b4e7a_a26f_11ea_aa38_000d3a8e2bc1level0_row4\" class=\"row_heading level0 row4\" >MA</th>\n",
       "                        <td id=\"T_a15b4e7a_a26f_11ea_aa38_000d3a8e2bc1row4_col0\" class=\"data row4 col0\" >95512</td>\n",
       "                        <td id=\"T_a15b4e7a_a26f_11ea_aa38_000d3a8e2bc1row4_col1\" class=\"data row4 col1\" >105161</td>\n",
       "                        <td id=\"T_a15b4e7a_a26f_11ea_aa38_000d3a8e2bc1row4_col2\" class=\"data row4 col2\" >(98542, 117338)</td>\n",
       "                        <td id=\"T_a15b4e7a_a26f_11ea_aa38_000d3a8e2bc1row4_col3\" class=\"data row4 col3\" >1.1</td>\n",
       "                        <td id=\"T_a15b4e7a_a26f_11ea_aa38_000d3a8e2bc1row4_col4\" class=\"data row4 col4\" >82951.7</td>\n",
       "                        <td id=\"T_a15b4e7a_a26f_11ea_aa38_000d3a8e2bc1row4_col5\" class=\"data row4 col5\" >13857.4</td>\n",
       "                        <td id=\"T_a15b4e7a_a26f_11ea_aa38_000d3a8e2bc1row4_col6\" class=\"data row4 col6\" >17%</td>\n",
       "            </tr>\n",
       "            <tr>\n",
       "                        <th id=\"T_a15b4e7a_a26f_11ea_aa38_000d3a8e2bc1level0_row5\" class=\"row_heading level0 row5\" >PA</th>\n",
       "                        <td id=\"T_a15b4e7a_a26f_11ea_aa38_000d3a8e2bc1row5_col0\" class=\"data row5 col0\" >71339</td>\n",
       "                        <td id=\"T_a15b4e7a_a26f_11ea_aa38_000d3a8e2bc1row5_col1\" class=\"data row5 col1\" >82203</td>\n",
       "                        <td id=\"T_a15b4e7a_a26f_11ea_aa38_000d3a8e2bc1row5_col2\" class=\"data row5 col2\" >(75105, 98051)</td>\n",
       "                        <td id=\"T_a15b4e7a_a26f_11ea_aa38_000d3a8e2bc1row5_col3\" class=\"data row5 col3\" >1.2</td>\n",
       "                        <td id=\"T_a15b4e7a_a26f_11ea_aa38_000d3a8e2bc1row5_col4\" class=\"data row5 col4\" >34237.6</td>\n",
       "                        <td id=\"T_a15b4e7a_a26f_11ea_aa38_000d3a8e2bc1row5_col5\" class=\"data row5 col5\" >5572.5</td>\n",
       "                        <td id=\"T_a15b4e7a_a26f_11ea_aa38_000d3a8e2bc1row5_col6\" class=\"data row5 col6\" >16%</td>\n",
       "            </tr>\n",
       "            <tr>\n",
       "                        <th id=\"T_a15b4e7a_a26f_11ea_aa38_000d3a8e2bc1level0_row6\" class=\"row_heading level0 row6\" >TX</th>\n",
       "                        <td id=\"T_a15b4e7a_a26f_11ea_aa38_000d3a8e2bc1row6_col0\" class=\"data row6 col0\" >61006</td>\n",
       "                        <td id=\"T_a15b4e7a_a26f_11ea_aa38_000d3a8e2bc1row6_col1\" class=\"data row6 col1\" >70532</td>\n",
       "                        <td id=\"T_a15b4e7a_a26f_11ea_aa38_000d3a8e2bc1row6_col2\" class=\"data row6 col2\" >(64704, 83154)</td>\n",
       "                        <td id=\"T_a15b4e7a_a26f_11ea_aa38_000d3a8e2bc1row6_col3\" class=\"data row6 col3\" >1.2</td>\n",
       "                        <td id=\"T_a15b4e7a_a26f_11ea_aa38_000d3a8e2bc1row6_col4\" class=\"data row6 col4\" >30807.0</td>\n",
       "                        <td id=\"T_a15b4e7a_a26f_11ea_aa38_000d3a8e2bc1row6_col5\" class=\"data row6 col5\" >2104.0</td>\n",
       "                        <td id=\"T_a15b4e7a_a26f_11ea_aa38_000d3a8e2bc1row6_col6\" class=\"data row6 col6\" >7%</td>\n",
       "            </tr>\n",
       "            <tr>\n",
       "                        <th id=\"T_a15b4e7a_a26f_11ea_aa38_000d3a8e2bc1level0_row7\" class=\"row_heading level0 row7\" >MI</th>\n",
       "                        <td id=\"T_a15b4e7a_a26f_11ea_aa38_000d3a8e2bc1row7_col0\" class=\"data row7 col0\" >56621</td>\n",
       "                        <td id=\"T_a15b4e7a_a26f_11ea_aa38_000d3a8e2bc1row7_col1\" class=\"data row7 col1\" >63808</td>\n",
       "                        <td id=\"T_a15b4e7a_a26f_11ea_aa38_000d3a8e2bc1row7_col2\" class=\"data row7 col2\" >(59333, 72353)</td>\n",
       "                        <td id=\"T_a15b4e7a_a26f_11ea_aa38_000d3a8e2bc1row7_col3\" class=\"data row7 col3\" >1.1</td>\n",
       "                        <td id=\"T_a15b4e7a_a26f_11ea_aa38_000d3a8e2bc1row7_col4\" class=\"data row7 col4\" >52229.3</td>\n",
       "                        <td id=\"T_a15b4e7a_a26f_11ea_aa38_000d3a8e2bc1row7_col5\" class=\"data row7 col5\" >5669.6</td>\n",
       "                        <td id=\"T_a15b4e7a_a26f_11ea_aa38_000d3a8e2bc1row7_col6\" class=\"data row7 col6\" >11%</td>\n",
       "            </tr>\n",
       "            <tr>\n",
       "                        <th id=\"T_a15b4e7a_a26f_11ea_aa38_000d3a8e2bc1level0_row8\" class=\"row_heading level0 row8\" >FL</th>\n",
       "                        <td id=\"T_a15b4e7a_a26f_11ea_aa38_000d3a8e2bc1row8_col0\" class=\"data row8 col0\" >54497</td>\n",
       "                        <td id=\"T_a15b4e7a_a26f_11ea_aa38_000d3a8e2bc1row8_col1\" class=\"data row8 col1\" >61911</td>\n",
       "                        <td id=\"T_a15b4e7a_a26f_11ea_aa38_000d3a8e2bc1row8_col2\" class=\"data row8 col2\" >(57207, 70616)</td>\n",
       "                        <td id=\"T_a15b4e7a_a26f_11ea_aa38_000d3a8e2bc1row8_col3\" class=\"data row8 col3\" >1.1</td>\n",
       "                        <td id=\"T_a15b4e7a_a26f_11ea_aa38_000d3a8e2bc1row8_col4\" class=\"data row8 col4\" >45779.5</td>\n",
       "                        <td id=\"T_a15b4e7a_a26f_11ea_aa38_000d3a8e2bc1row8_col5\" class=\"data row8 col5\" >2537.4</td>\n",
       "                        <td id=\"T_a15b4e7a_a26f_11ea_aa38_000d3a8e2bc1row8_col6\" class=\"data row8 col6\" >6%</td>\n",
       "            </tr>\n",
       "            <tr>\n",
       "                        <th id=\"T_a15b4e7a_a26f_11ea_aa38_000d3a8e2bc1level0_row9\" class=\"row_heading level0 row9\" >MD</th>\n",
       "                        <td id=\"T_a15b4e7a_a26f_11ea_aa38_000d3a8e2bc1row9_col0\" class=\"data row9 col0\" >50988</td>\n",
       "                        <td id=\"T_a15b4e7a_a26f_11ea_aa38_000d3a8e2bc1row9_col1\" class=\"data row9 col1\" >57744</td>\n",
       "                        <td id=\"T_a15b4e7a_a26f_11ea_aa38_000d3a8e2bc1row9_col2\" class=\"data row9 col2\" >(53266, 67110)</td>\n",
       "                        <td id=\"T_a15b4e7a_a26f_11ea_aa38_000d3a8e2bc1row9_col3\" class=\"data row9 col3\" >1.1</td>\n",
       "                        <td id=\"T_a15b4e7a_a26f_11ea_aa38_000d3a8e2bc1row9_col4\" class=\"data row9 col4\" >47061.4</td>\n",
       "                        <td id=\"T_a15b4e7a_a26f_11ea_aa38_000d3a8e2bc1row9_col5\" class=\"data row9 col5\" >8433.8</td>\n",
       "                        <td id=\"T_a15b4e7a_a26f_11ea_aa38_000d3a8e2bc1row9_col6\" class=\"data row9 col6\" >18%</td>\n",
       "            </tr>\n",
       "            <tr>\n",
       "                        <th id=\"T_a15b4e7a_a26f_11ea_aa38_000d3a8e2bc1level0_row10\" class=\"row_heading level0 row10\" >GA</th>\n",
       "                        <td id=\"T_a15b4e7a_a26f_11ea_aa38_000d3a8e2bc1row10_col0\" class=\"data row10 col0\" >45670</td>\n",
       "                        <td id=\"T_a15b4e7a_a26f_11ea_aa38_000d3a8e2bc1row10_col1\" class=\"data row10 col1\" >51976</td>\n",
       "                        <td id=\"T_a15b4e7a_a26f_11ea_aa38_000d3a8e2bc1row10_col2\" class=\"data row10 col2\" >(48167, 58757)</td>\n",
       "                        <td id=\"T_a15b4e7a_a26f_11ea_aa38_000d3a8e2bc1row10_col3\" class=\"data row10 col3\" >1.1</td>\n",
       "                        <td id=\"T_a15b4e7a_a26f_11ea_aa38_000d3a8e2bc1row10_col4\" class=\"data row10 col4\" >42408.7</td>\n",
       "                        <td id=\"T_a15b4e7a_a26f_11ea_aa38_000d3a8e2bc1row10_col5\" class=\"data row10 col5\" >4301.4</td>\n",
       "                        <td id=\"T_a15b4e7a_a26f_11ea_aa38_000d3a8e2bc1row10_col6\" class=\"data row10 col6\" >10%</td>\n",
       "            </tr>\n",
       "            <tr>\n",
       "                        <th id=\"T_a15b4e7a_a26f_11ea_aa38_000d3a8e2bc1level0_row11\" class=\"row_heading level0 row11\" >VA</th>\n",
       "                        <td id=\"T_a15b4e7a_a26f_11ea_aa38_000d3a8e2bc1row11_col0\" class=\"data row11 col0\" >42533</td>\n",
       "                        <td id=\"T_a15b4e7a_a26f_11ea_aa38_000d3a8e2bc1row11_col1\" class=\"data row11 col1\" >48907</td>\n",
       "                        <td id=\"T_a15b4e7a_a26f_11ea_aa38_000d3a8e2bc1row11_col2\" class=\"data row11 col2\" >(45036, 57016)</td>\n",
       "                        <td id=\"T_a15b4e7a_a26f_11ea_aa38_000d3a8e2bc1row11_col3\" class=\"data row11 col3\" >1.1</td>\n",
       "                        <td id=\"T_a15b4e7a_a26f_11ea_aa38_000d3a8e2bc1row11_col4\" class=\"data row11 col4\" >34957.1</td>\n",
       "                        <td id=\"T_a15b4e7a_a26f_11ea_aa38_000d3a8e2bc1row11_col5\" class=\"data row11 col5\" >4983.1</td>\n",
       "                        <td id=\"T_a15b4e7a_a26f_11ea_aa38_000d3a8e2bc1row11_col6\" class=\"data row11 col6\" >14%</td>\n",
       "            </tr>\n",
       "            <tr>\n",
       "                        <th id=\"T_a15b4e7a_a26f_11ea_aa38_000d3a8e2bc1level0_row12\" class=\"row_heading level0 row12\" >CT</th>\n",
       "                        <td id=\"T_a15b4e7a_a26f_11ea_aa38_000d3a8e2bc1row12_col0\" class=\"data row12 col0\" >41762</td>\n",
       "                        <td id=\"T_a15b4e7a_a26f_11ea_aa38_000d3a8e2bc1row12_col1\" class=\"data row12 col1\" >46494</td>\n",
       "                        <td id=\"T_a15b4e7a_a26f_11ea_aa38_000d3a8e2bc1row12_col2\" class=\"data row12 col2\" >(43539, 52954)</td>\n",
       "                        <td id=\"T_a15b4e7a_a26f_11ea_aa38_000d3a8e2bc1row12_col3\" class=\"data row12 col3\" >1.1</td>\n",
       "                        <td id=\"T_a15b4e7a_a26f_11ea_aa38_000d3a8e2bc1row12_col4\" class=\"data row12 col4\" >67706.5</td>\n",
       "                        <td id=\"T_a15b4e7a_a26f_11ea_aa38_000d3a8e2bc1row12_col5\" class=\"data row12 col5\" >11713.5</td>\n",
       "                        <td id=\"T_a15b4e7a_a26f_11ea_aa38_000d3a8e2bc1row12_col6\" class=\"data row12 col6\" >17%</td>\n",
       "            </tr>\n",
       "            <tr>\n",
       "                        <th id=\"T_a15b4e7a_a26f_11ea_aa38_000d3a8e2bc1level0_row13\" class=\"row_heading level0 row13\" >LA</th>\n",
       "                        <td id=\"T_a15b4e7a_a26f_11ea_aa38_000d3a8e2bc1row13_col0\" class=\"data row13 col0\" >38802</td>\n",
       "                        <td id=\"T_a15b4e7a_a26f_11ea_aa38_000d3a8e2bc1row13_col1\" class=\"data row13 col1\" >43015</td>\n",
       "                        <td id=\"T_a15b4e7a_a26f_11ea_aa38_000d3a8e2bc1row13_col2\" class=\"data row13 col2\" >(40369, 48585)</td>\n",
       "                        <td id=\"T_a15b4e7a_a26f_11ea_aa38_000d3a8e2bc1row13_col3\" class=\"data row13 col3\" >1.1</td>\n",
       "                        <td id=\"T_a15b4e7a_a26f_11ea_aa38_000d3a8e2bc1row13_col4\" class=\"data row13 col4\" >76369.7</td>\n",
       "                        <td id=\"T_a15b4e7a_a26f_11ea_aa38_000d3a8e2bc1row13_col5\" class=\"data row13 col5\" >8346.7</td>\n",
       "                        <td id=\"T_a15b4e7a_a26f_11ea_aa38_000d3a8e2bc1row13_col6\" class=\"data row13 col6\" >11%</td>\n",
       "            </tr>\n",
       "            <tr>\n",
       "                        <th id=\"T_a15b4e7a_a26f_11ea_aa38_000d3a8e2bc1level0_row14\" class=\"row_heading level0 row14\" >OH</th>\n",
       "                        <td id=\"T_a15b4e7a_a26f_11ea_aa38_000d3a8e2bc1row14_col0\" class=\"data row14 col0\" >34566</td>\n",
       "                        <td id=\"T_a15b4e7a_a26f_11ea_aa38_000d3a8e2bc1row14_col1\" class=\"data row14 col1\" >40182</td>\n",
       "                        <td id=\"T_a15b4e7a_a26f_11ea_aa38_000d3a8e2bc1row14_col2\" class=\"data row14 col2\" >(36560, 47305)</td>\n",
       "                        <td id=\"T_a15b4e7a_a26f_11ea_aa38_000d3a8e2bc1row14_col3\" class=\"data row14 col3\" >1.2</td>\n",
       "                        <td id=\"T_a15b4e7a_a26f_11ea_aa38_000d3a8e2bc1row14_col4\" class=\"data row14 col4\" >31644.0</td>\n",
       "                        <td id=\"T_a15b4e7a_a26f_11ea_aa38_000d3a8e2bc1row14_col5\" class=\"data row14 col5\" >2957.1</td>\n",
       "                        <td id=\"T_a15b4e7a_a26f_11ea_aa38_000d3a8e2bc1row14_col6\" class=\"data row14 col6\" >9%</td>\n",
       "            </tr>\n",
       "            <tr>\n",
       "                        <th id=\"T_a15b4e7a_a26f_11ea_aa38_000d3a8e2bc1level0_row15\" class=\"row_heading level0 row15\" >IN</th>\n",
       "                        <td id=\"T_a15b4e7a_a26f_11ea_aa38_000d3a8e2bc1row15_col0\" class=\"data row15 col0\" >33558</td>\n",
       "                        <td id=\"T_a15b4e7a_a26f_11ea_aa38_000d3a8e2bc1row15_col1\" class=\"data row15 col1\" >38537</td>\n",
       "                        <td id=\"T_a15b4e7a_a26f_11ea_aa38_000d3a8e2bc1row15_col2\" class=\"data row15 col2\" >(35471, 45125)</td>\n",
       "                        <td id=\"T_a15b4e7a_a26f_11ea_aa38_000d3a8e2bc1row15_col3\" class=\"data row15 col3\" >1.1</td>\n",
       "                        <td id=\"T_a15b4e7a_a26f_11ea_aa38_000d3a8e2bc1row15_col4\" class=\"data row15 col4\" >36943.7</td>\n",
       "                        <td id=\"T_a15b4e7a_a26f_11ea_aa38_000d3a8e2bc1row15_col5\" class=\"data row15 col5\" >4984.7</td>\n",
       "                        <td id=\"T_a15b4e7a_a26f_11ea_aa38_000d3a8e2bc1row15_col6\" class=\"data row15 col6\" >13%</td>\n",
       "            </tr>\n",
       "            <tr>\n",
       "                        <th id=\"T_a15b4e7a_a26f_11ea_aa38_000d3a8e2bc1level0_row16\" class=\"row_heading level0 row16\" >NC</th>\n",
       "                        <td id=\"T_a15b4e7a_a26f_11ea_aa38_000d3a8e2bc1row16_col0\" class=\"data row16 col0\" >26488</td>\n",
       "                        <td id=\"T_a15b4e7a_a26f_11ea_aa38_000d3a8e2bc1row16_col1\" class=\"data row16 col1\" >30444</td>\n",
       "                        <td id=\"T_a15b4e7a_a26f_11ea_aa38_000d3a8e2bc1row16_col2\" class=\"data row16 col2\" >(28015, 35073)</td>\n",
       "                        <td id=\"T_a15b4e7a_a26f_11ea_aa38_000d3a8e2bc1row16_col3\" class=\"data row16 col3\" >1.1</td>\n",
       "                        <td id=\"T_a15b4e7a_a26f_11ea_aa38_000d3a8e2bc1row16_col4\" class=\"data row16 col4\" >37302.4</td>\n",
       "                        <td id=\"T_a15b4e7a_a26f_11ea_aa38_000d3a8e2bc1row16_col5\" class=\"data row16 col5\" >2525.5</td>\n",
       "                        <td id=\"T_a15b4e7a_a26f_11ea_aa38_000d3a8e2bc1row16_col6\" class=\"data row16 col6\" >7%</td>\n",
       "            </tr>\n",
       "            <tr>\n",
       "                        <th id=\"T_a15b4e7a_a26f_11ea_aa38_000d3a8e2bc1level0_row17\" class=\"row_heading level0 row17\" >CO</th>\n",
       "                        <td id=\"T_a15b4e7a_a26f_11ea_aa38_000d3a8e2bc1row17_col0\" class=\"data row17 col0\" >25121</td>\n",
       "                        <td id=\"T_a15b4e7a_a26f_11ea_aa38_000d3a8e2bc1row17_col1\" class=\"data row17 col1\" >29307</td>\n",
       "                        <td id=\"T_a15b4e7a_a26f_11ea_aa38_000d3a8e2bc1row17_col2\" class=\"data row17 col2\" >(26727, 34439)</td>\n",
       "                        <td id=\"T_a15b4e7a_a26f_11ea_aa38_000d3a8e2bc1row17_col3\" class=\"data row17 col3\" >1.2</td>\n",
       "                        <td id=\"T_a15b4e7a_a26f_11ea_aa38_000d3a8e2bc1row17_col4\" class=\"data row17 col4\" >29339.6</td>\n",
       "                        <td id=\"T_a15b4e7a_a26f_11ea_aa38_000d3a8e2bc1row17_col5\" class=\"data row17 col5\" >4362.2</td>\n",
       "                        <td id=\"T_a15b4e7a_a26f_11ea_aa38_000d3a8e2bc1row17_col6\" class=\"data row17 col6\" >15%</td>\n",
       "            </tr>\n",
       "            <tr>\n",
       "                        <th id=\"T_a15b4e7a_a26f_11ea_aa38_000d3a8e2bc1level0_row18\" class=\"row_heading level0 row18\" >MN</th>\n",
       "                        <td id=\"T_a15b4e7a_a26f_11ea_aa38_000d3a8e2bc1row18_col0\" class=\"data row18 col0\" >23531</td>\n",
       "                        <td id=\"T_a15b4e7a_a26f_11ea_aa38_000d3a8e2bc1row18_col1\" class=\"data row18 col1\" >26888</td>\n",
       "                        <td id=\"T_a15b4e7a_a26f_11ea_aa38_000d3a8e2bc1row18_col2\" class=\"data row18 col2\" >(24754, 31473)</td>\n",
       "                        <td id=\"T_a15b4e7a_a26f_11ea_aa38_000d3a8e2bc1row18_col3\" class=\"data row18 col3\" >1.1</td>\n",
       "                        <td id=\"T_a15b4e7a_a26f_11ea_aa38_000d3a8e2bc1row18_col4\" class=\"data row18 col4\" >41469.5</td>\n",
       "                        <td id=\"T_a15b4e7a_a26f_11ea_aa38_000d3a8e2bc1row18_col5\" class=\"data row18 col5\" >4172.4</td>\n",
       "                        <td id=\"T_a15b4e7a_a26f_11ea_aa38_000d3a8e2bc1row18_col6\" class=\"data row18 col6\" >10%</td>\n",
       "            </tr>\n",
       "            <tr>\n",
       "                        <th id=\"T_a15b4e7a_a26f_11ea_aa38_000d3a8e2bc1level0_row19\" class=\"row_heading level0 row19\" >TN</th>\n",
       "                        <td id=\"T_a15b4e7a_a26f_11ea_aa38_000d3a8e2bc1row19_col0\" class=\"data row19 col0\" >22085</td>\n",
       "                        <td id=\"T_a15b4e7a_a26f_11ea_aa38_000d3a8e2bc1row19_col1\" class=\"data row19 col1\" >24672</td>\n",
       "                        <td id=\"T_a15b4e7a_a26f_11ea_aa38_000d3a8e2bc1row19_col2\" class=\"data row19 col2\" >(23063, 28086)</td>\n",
       "                        <td id=\"T_a15b4e7a_a26f_11ea_aa38_000d3a8e2bc1row19_col3\" class=\"data row19 col3\" >1.1</td>\n",
       "                        <td id=\"T_a15b4e7a_a26f_11ea_aa38_000d3a8e2bc1row19_col4\" class=\"data row19 col4\" >61788.9</td>\n",
       "                        <td id=\"T_a15b4e7a_a26f_11ea_aa38_000d3a8e2bc1row19_col5\" class=\"data row19 col5\" >3233.9</td>\n",
       "                        <td id=\"T_a15b4e7a_a26f_11ea_aa38_000d3a8e2bc1row19_col6\" class=\"data row19 col6\" >5%</td>\n",
       "            </tr>\n",
       "            <tr>\n",
       "                        <th id=\"T_a15b4e7a_a26f_11ea_aa38_000d3a8e2bc1level0_row20\" class=\"row_heading level0 row20\" >WA</th>\n",
       "                        <td id=\"T_a15b4e7a_a26f_11ea_aa38_000d3a8e2bc1row20_col0\" class=\"data row20 col0\" >20764</td>\n",
       "                        <td id=\"T_a15b4e7a_a26f_11ea_aa38_000d3a8e2bc1row20_col1\" class=\"data row20 col1\" >23717</td>\n",
       "                        <td id=\"T_a15b4e7a_a26f_11ea_aa38_000d3a8e2bc1row20_col2\" class=\"data row20 col2\" >(21885, 27230)</td>\n",
       "                        <td id=\"T_a15b4e7a_a26f_11ea_aa38_000d3a8e2bc1row20_col3\" class=\"data row20 col3\" >1.1</td>\n",
       "                        <td id=\"T_a15b4e7a_a26f_11ea_aa38_000d3a8e2bc1row20_col4\" class=\"data row20 col4\" >45055.3</td>\n",
       "                        <td id=\"T_a15b4e7a_a26f_11ea_aa38_000d3a8e2bc1row20_col5\" class=\"data row20 col5\" >2726.8</td>\n",
       "                        <td id=\"T_a15b4e7a_a26f_11ea_aa38_000d3a8e2bc1row20_col6\" class=\"data row20 col6\" >6%</td>\n",
       "            </tr>\n",
       "            <tr>\n",
       "                        <th id=\"T_a15b4e7a_a26f_11ea_aa38_000d3a8e2bc1level0_row21\" class=\"row_heading level0 row21\" >AZ</th>\n",
       "                        <td id=\"T_a15b4e7a_a26f_11ea_aa38_000d3a8e2bc1row21_col0\" class=\"data row21 col0\" >18465</td>\n",
       "                        <td id=\"T_a15b4e7a_a26f_11ea_aa38_000d3a8e2bc1row21_col1\" class=\"data row21 col1\" >21545</td>\n",
       "                        <td id=\"T_a15b4e7a_a26f_11ea_aa38_000d3a8e2bc1row21_col2\" class=\"data row21 col2\" >(19541, 25791)</td>\n",
       "                        <td id=\"T_a15b4e7a_a26f_11ea_aa38_000d3a8e2bc1row21_col3\" class=\"data row21 col3\" >1.2</td>\n",
       "                        <td id=\"T_a15b4e7a_a26f_11ea_aa38_000d3a8e2bc1row21_col4\" class=\"data row21 col4\" >28825.5</td>\n",
       "                        <td id=\"T_a15b4e7a_a26f_11ea_aa38_000d3a8e2bc1row21_col5\" class=\"data row21 col5\" >2536.8</td>\n",
       "                        <td id=\"T_a15b4e7a_a26f_11ea_aa38_000d3a8e2bc1row21_col6\" class=\"data row21 col6\" >9%</td>\n",
       "            </tr>\n",
       "            <tr>\n",
       "                        <th id=\"T_a15b4e7a_a26f_11ea_aa38_000d3a8e2bc1level0_row22\" class=\"row_heading level0 row22\" >IA</th>\n",
       "                        <td id=\"T_a15b4e7a_a26f_11ea_aa38_000d3a8e2bc1row22_col0\" class=\"data row22 col0\" >18926</td>\n",
       "                        <td id=\"T_a15b4e7a_a26f_11ea_aa38_000d3a8e2bc1row22_col1\" class=\"data row22 col1\" >21512</td>\n",
       "                        <td id=\"T_a15b4e7a_a26f_11ea_aa38_000d3a8e2bc1row22_col2\" class=\"data row22 col2\" >(19842, 24845)</td>\n",
       "                        <td id=\"T_a15b4e7a_a26f_11ea_aa38_000d3a8e2bc1row22_col3\" class=\"data row22 col3\" >1.1</td>\n",
       "                        <td id=\"T_a15b4e7a_a26f_11ea_aa38_000d3a8e2bc1row22_col4\" class=\"data row22 col4\" >46693.1</td>\n",
       "                        <td id=\"T_a15b4e7a_a26f_11ea_aa38_000d3a8e2bc1row22_col5\" class=\"data row22 col5\" >5998.6</td>\n",
       "                        <td id=\"T_a15b4e7a_a26f_11ea_aa38_000d3a8e2bc1row22_col6\" class=\"data row22 col6\" >13%</td>\n",
       "            </tr>\n",
       "            <tr>\n",
       "                        <th id=\"T_a15b4e7a_a26f_11ea_aa38_000d3a8e2bc1level0_row23\" class=\"row_heading level0 row23\" >WI</th>\n",
       "                        <td id=\"T_a15b4e7a_a26f_11ea_aa38_000d3a8e2bc1row23_col0\" class=\"data row23 col0\" >17707</td>\n",
       "                        <td id=\"T_a15b4e7a_a26f_11ea_aa38_000d3a8e2bc1row23_col1\" class=\"data row23 col1\" >20188</td>\n",
       "                        <td id=\"T_a15b4e7a_a26f_11ea_aa38_000d3a8e2bc1row23_col2\" class=\"data row23 col2\" >(18725, 22931)</td>\n",
       "                        <td id=\"T_a15b4e7a_a26f_11ea_aa38_000d3a8e2bc1row23_col3\" class=\"data row23 col3\" >1.1</td>\n",
       "                        <td id=\"T_a15b4e7a_a26f_11ea_aa38_000d3a8e2bc1row23_col4\" class=\"data row23 col4\" >43159.8</td>\n",
       "                        <td id=\"T_a15b4e7a_a26f_11ea_aa38_000d3a8e2bc1row23_col5\" class=\"data row23 col5\" >3041.2</td>\n",
       "                        <td id=\"T_a15b4e7a_a26f_11ea_aa38_000d3a8e2bc1row23_col6\" class=\"data row23 col6\" >7%</td>\n",
       "            </tr>\n",
       "            <tr>\n",
       "                        <th id=\"T_a15b4e7a_a26f_11ea_aa38_000d3a8e2bc1level0_row24\" class=\"row_heading level0 row24\" >AL</th>\n",
       "                        <td id=\"T_a15b4e7a_a26f_11ea_aa38_000d3a8e2bc1row24_col0\" class=\"data row24 col0\" >16823</td>\n",
       "                        <td id=\"T_a15b4e7a_a26f_11ea_aa38_000d3a8e2bc1row24_col1\" class=\"data row24 col1\" >19168</td>\n",
       "                        <td id=\"T_a15b4e7a_a26f_11ea_aa38_000d3a8e2bc1row24_col2\" class=\"data row24 col2\" >(17667, 22407)</td>\n",
       "                        <td id=\"T_a15b4e7a_a26f_11ea_aa38_000d3a8e2bc1row24_col3\" class=\"data row24 col3\" >1.1</td>\n",
       "                        <td id=\"T_a15b4e7a_a26f_11ea_aa38_000d3a8e2bc1row24_col4\" class=\"data row24 col4\" >42601.5</td>\n",
       "                        <td id=\"T_a15b4e7a_a26f_11ea_aa38_000d3a8e2bc1row24_col5\" class=\"data row24 col5\" >3431.0</td>\n",
       "                        <td id=\"T_a15b4e7a_a26f_11ea_aa38_000d3a8e2bc1row24_col6\" class=\"data row24 col6\" >8%</td>\n",
       "            </tr>\n",
       "            <tr>\n",
       "                        <th id=\"T_a15b4e7a_a26f_11ea_aa38_000d3a8e2bc1level0_row25\" class=\"row_heading level0 row25\" >MS</th>\n",
       "                        <td id=\"T_a15b4e7a_a26f_11ea_aa38_000d3a8e2bc1row25_col0\" class=\"data row25 col0\" >14790</td>\n",
       "                        <td id=\"T_a15b4e7a_a26f_11ea_aa38_000d3a8e2bc1row25_col1\" class=\"data row25 col1\" >16676</td>\n",
       "                        <td id=\"T_a15b4e7a_a26f_11ea_aa38_000d3a8e2bc1row25_col2\" class=\"data row25 col2\" >(15512, 19050)</td>\n",
       "                        <td id=\"T_a15b4e7a_a26f_11ea_aa38_000d3a8e2bc1row25_col3\" class=\"data row25 col3\" >1.1</td>\n",
       "                        <td id=\"T_a15b4e7a_a26f_11ea_aa38_000d3a8e2bc1row25_col4\" class=\"data row25 col4\" >55880.3</td>\n",
       "                        <td id=\"T_a15b4e7a_a26f_11ea_aa38_000d3a8e2bc1row25_col5\" class=\"data row25 col5\" >4969.5</td>\n",
       "                        <td id=\"T_a15b4e7a_a26f_11ea_aa38_000d3a8e2bc1row25_col6\" class=\"data row25 col6\" >9%</td>\n",
       "            </tr>\n",
       "            <tr>\n",
       "                        <th id=\"T_a15b4e7a_a26f_11ea_aa38_000d3a8e2bc1level0_row26\" class=\"row_heading level0 row26\" >RI</th>\n",
       "                        <td id=\"T_a15b4e7a_a26f_11ea_aa38_000d3a8e2bc1row26_col0\" class=\"data row26 col0\" >14635</td>\n",
       "                        <td id=\"T_a15b4e7a_a26f_11ea_aa38_000d3a8e2bc1row26_col1\" class=\"data row26 col1\" >15830</td>\n",
       "                        <td id=\"T_a15b4e7a_a26f_11ea_aa38_000d3a8e2bc1row26_col2\" class=\"data row26 col2\" >(15082, 17130)</td>\n",
       "                        <td id=\"T_a15b4e7a_a26f_11ea_aa38_000d3a8e2bc1row26_col3\" class=\"data row26 col3\" >1.1</td>\n",
       "                        <td id=\"T_a15b4e7a_a26f_11ea_aa38_000d3a8e2bc1row26_col4\" class=\"data row26 col4\" >138154.0</td>\n",
       "                        <td id=\"T_a15b4e7a_a26f_11ea_aa38_000d3a8e2bc1row26_col5\" class=\"data row26 col5\" >13814.9</td>\n",
       "                        <td id=\"T_a15b4e7a_a26f_11ea_aa38_000d3a8e2bc1row26_col6\" class=\"data row26 col6\" >10%</td>\n",
       "            </tr>\n",
       "            <tr>\n",
       "                        <th id=\"T_a15b4e7a_a26f_11ea_aa38_000d3a8e2bc1level0_row27\" class=\"row_heading level0 row27\" >MO</th>\n",
       "                        <td id=\"T_a15b4e7a_a26f_11ea_aa38_000d3a8e2bc1row27_col0\" class=\"data row27 col0\" >12795</td>\n",
       "                        <td id=\"T_a15b4e7a_a26f_11ea_aa38_000d3a8e2bc1row27_col1\" class=\"data row27 col1\" >14955</td>\n",
       "                        <td id=\"T_a15b4e7a_a26f_11ea_aa38_000d3a8e2bc1row27_col2\" class=\"data row27 col2\" >(13625, 17825)</td>\n",
       "                        <td id=\"T_a15b4e7a_a26f_11ea_aa38_000d3a8e2bc1row27_col3\" class=\"data row27 col3\" >1.2</td>\n",
       "                        <td id=\"T_a15b4e7a_a26f_11ea_aa38_000d3a8e2bc1row27_col4\" class=\"data row27 col4\" >28977.9</td>\n",
       "                        <td id=\"T_a15b4e7a_a26f_11ea_aa38_000d3a8e2bc1row27_col5\" class=\"data row27 col5\" >2084.7</td>\n",
       "                        <td id=\"T_a15b4e7a_a26f_11ea_aa38_000d3a8e2bc1row27_col6\" class=\"data row27 col6\" >7%</td>\n",
       "            </tr>\n",
       "            <tr>\n",
       "                        <th id=\"T_a15b4e7a_a26f_11ea_aa38_000d3a8e2bc1level0_row28\" class=\"row_heading level0 row28\" >NE</th>\n",
       "                        <td id=\"T_a15b4e7a_a26f_11ea_aa38_000d3a8e2bc1row28_col0\" class=\"data row28 col0\" >13261</td>\n",
       "                        <td id=\"T_a15b4e7a_a26f_11ea_aa38_000d3a8e2bc1row28_col1\" class=\"data row28 col1\" >14949</td>\n",
       "                        <td id=\"T_a15b4e7a_a26f_11ea_aa38_000d3a8e2bc1row28_col2\" class=\"data row28 col2\" >(13901, 17011)</td>\n",
       "                        <td id=\"T_a15b4e7a_a26f_11ea_aa38_000d3a8e2bc1row28_col3\" class=\"data row28 col3\" >1.1</td>\n",
       "                        <td id=\"T_a15b4e7a_a26f_11ea_aa38_000d3a8e2bc1row28_col4\" class=\"data row28 col4\" >49008.8</td>\n",
       "                        <td id=\"T_a15b4e7a_a26f_11ea_aa38_000d3a8e2bc1row28_col5\" class=\"data row28 col5\" >6855.3</td>\n",
       "                        <td id=\"T_a15b4e7a_a26f_11ea_aa38_000d3a8e2bc1row28_col6\" class=\"data row28 col6\" >14%</td>\n",
       "            </tr>\n",
       "            <tr>\n",
       "                        <th id=\"T_a15b4e7a_a26f_11ea_aa38_000d3a8e2bc1level0_row29\" class=\"row_heading level0 row29\" >SC</th>\n",
       "                        <td id=\"T_a15b4e7a_a26f_11ea_aa38_000d3a8e2bc1row29_col0\" class=\"data row29 col0\" >11131</td>\n",
       "                        <td id=\"T_a15b4e7a_a26f_11ea_aa38_000d3a8e2bc1row29_col1\" class=\"data row29 col1\" >12766</td>\n",
       "                        <td id=\"T_a15b4e7a_a26f_11ea_aa38_000d3a8e2bc1row29_col2\" class=\"data row29 col2\" >(11780, 14964)</td>\n",
       "                        <td id=\"T_a15b4e7a_a26f_11ea_aa38_000d3a8e2bc1row29_col3\" class=\"data row29 col3\" >1.1</td>\n",
       "                        <td id=\"T_a15b4e7a_a26f_11ea_aa38_000d3a8e2bc1row29_col4\" class=\"data row29 col4\" >36563.9</td>\n",
       "                        <td id=\"T_a15b4e7a_a26f_11ea_aa38_000d3a8e2bc1row29_col5\" class=\"data row29 col5\" >2161.9</td>\n",
       "                        <td id=\"T_a15b4e7a_a26f_11ea_aa38_000d3a8e2bc1row29_col6\" class=\"data row29 col6\" >6%</td>\n",
       "            </tr>\n",
       "            <tr>\n",
       "                        <th id=\"T_a15b4e7a_a26f_11ea_aa38_000d3a8e2bc1level0_row30\" class=\"row_heading level0 row30\" >KS</th>\n",
       "                        <td id=\"T_a15b4e7a_a26f_11ea_aa38_000d3a8e2bc1row30_col0\" class=\"data row30 col0\" >9719</td>\n",
       "                        <td id=\"T_a15b4e7a_a26f_11ea_aa38_000d3a8e2bc1row30_col1\" class=\"data row30 col1\" >11235</td>\n",
       "                        <td id=\"T_a15b4e7a_a26f_11ea_aa38_000d3a8e2bc1row30_col2\" class=\"data row30 col2\" >(10263, 13271)</td>\n",
       "                        <td id=\"T_a15b4e7a_a26f_11ea_aa38_000d3a8e2bc1row30_col3\" class=\"data row30 col3\" >1.2</td>\n",
       "                        <td id=\"T_a15b4e7a_a26f_11ea_aa38_000d3a8e2bc1row30_col4\" class=\"data row30 col4\" >32591.4</td>\n",
       "                        <td id=\"T_a15b4e7a_a26f_11ea_aa38_000d3a8e2bc1row30_col5\" class=\"data row30 col5\" >3336.1</td>\n",
       "                        <td id=\"T_a15b4e7a_a26f_11ea_aa38_000d3a8e2bc1row30_col6\" class=\"data row30 col6\" >10%</td>\n",
       "            </tr>\n",
       "            <tr>\n",
       "                        <th id=\"T_a15b4e7a_a26f_11ea_aa38_000d3a8e2bc1level0_row31\" class=\"row_heading level0 row31\" >KY</th>\n",
       "                        <td id=\"T_a15b4e7a_a26f_11ea_aa38_000d3a8e2bc1row31_col0\" class=\"data row31 col0\" >9184</td>\n",
       "                        <td id=\"T_a15b4e7a_a26f_11ea_aa38_000d3a8e2bc1row31_col1\" class=\"data row31 col1\" >10381</td>\n",
       "                        <td id=\"T_a15b4e7a_a26f_11ea_aa38_000d3a8e2bc1row31_col2\" class=\"data row31 col2\" >(9642, 11742)</td>\n",
       "                        <td id=\"T_a15b4e7a_a26f_11ea_aa38_000d3a8e2bc1row31_col3\" class=\"data row31 col3\" >1.1</td>\n",
       "                        <td id=\"T_a15b4e7a_a26f_11ea_aa38_000d3a8e2bc1row31_col4\" class=\"data row31 col4\" >49527.8</td>\n",
       "                        <td id=\"T_a15b4e7a_a26f_11ea_aa38_000d3a8e2bc1row31_col5\" class=\"data row31 col5\" >2055.7</td>\n",
       "                        <td id=\"T_a15b4e7a_a26f_11ea_aa38_000d3a8e2bc1row31_col6\" class=\"data row31 col6\" >4%</td>\n",
       "            </tr>\n",
       "            <tr>\n",
       "                        <th id=\"T_a15b4e7a_a26f_11ea_aa38_000d3a8e2bc1level0_row32\" class=\"row_heading level0 row32\" >DE</th>\n",
       "                        <td id=\"T_a15b4e7a_a26f_11ea_aa38_000d3a8e2bc1row32_col0\" class=\"data row32 col0\" >9236</td>\n",
       "                        <td id=\"T_a15b4e7a_a26f_11ea_aa38_000d3a8e2bc1row32_col1\" class=\"data row32 col1\" >10314</td>\n",
       "                        <td id=\"T_a15b4e7a_a26f_11ea_aa38_000d3a8e2bc1row32_col2\" class=\"data row32 col2\" >(9622, 11778)</td>\n",
       "                        <td id=\"T_a15b4e7a_a26f_11ea_aa38_000d3a8e2bc1row32_col3\" class=\"data row32 col3\" >1.1</td>\n",
       "                        <td id=\"T_a15b4e7a_a26f_11ea_aa38_000d3a8e2bc1row32_col4\" class=\"data row32 col4\" >59083.1</td>\n",
       "                        <td id=\"T_a15b4e7a_a26f_11ea_aa38_000d3a8e2bc1row32_col5\" class=\"data row32 col5\" >9484.8</td>\n",
       "                        <td id=\"T_a15b4e7a_a26f_11ea_aa38_000d3a8e2bc1row32_col6\" class=\"data row32 col6\" >16%</td>\n",
       "            </tr>\n",
       "            <tr>\n",
       "                        <th id=\"T_a15b4e7a_a26f_11ea_aa38_000d3a8e2bc1level0_row33\" class=\"row_heading level0 row33\" >UT</th>\n",
       "                        <td id=\"T_a15b4e7a_a26f_11ea_aa38_000d3a8e2bc1row33_col0\" class=\"data row33 col0\" >9264</td>\n",
       "                        <td id=\"T_a15b4e7a_a26f_11ea_aa38_000d3a8e2bc1row33_col1\" class=\"data row33 col1\" >10298</td>\n",
       "                        <td id=\"T_a15b4e7a_a26f_11ea_aa38_000d3a8e2bc1row33_col2\" class=\"data row33 col2\" >(9621, 11666)</td>\n",
       "                        <td id=\"T_a15b4e7a_a26f_11ea_aa38_000d3a8e2bc1row33_col3\" class=\"data row33 col3\" >1.1</td>\n",
       "                        <td id=\"T_a15b4e7a_a26f_11ea_aa38_000d3a8e2bc1row33_col4\" class=\"data row33 col4\" >64210.1</td>\n",
       "                        <td id=\"T_a15b4e7a_a26f_11ea_aa38_000d3a8e2bc1row33_col5\" class=\"data row33 col5\" >2889.6</td>\n",
       "                        <td id=\"T_a15b4e7a_a26f_11ea_aa38_000d3a8e2bc1row33_col6\" class=\"data row33 col6\" >5%</td>\n",
       "            </tr>\n",
       "            <tr>\n",
       "                        <th id=\"T_a15b4e7a_a26f_11ea_aa38_000d3a8e2bc1level0_row34\" class=\"row_heading level0 row34\" >DC</th>\n",
       "                        <td id=\"T_a15b4e7a_a26f_11ea_aa38_000d3a8e2bc1row34_col0\" class=\"data row34 col0\" >8538</td>\n",
       "                        <td id=\"T_a15b4e7a_a26f_11ea_aa38_000d3a8e2bc1row34_col1\" class=\"data row34 col1\" >9517</td>\n",
       "                        <td id=\"T_a15b4e7a_a26f_11ea_aa38_000d3a8e2bc1row34_col2\" class=\"data row34 col2\" >(8910, 10694)</td>\n",
       "                        <td id=\"T_a15b4e7a_a26f_11ea_aa38_000d3a8e2bc1row34_col3\" class=\"data row34 col3\" >1.1</td>\n",
       "                        <td id=\"T_a15b4e7a_a26f_11ea_aa38_000d3a8e2bc1row34_col4\" class=\"data row34 col4\" >62143.9</td>\n",
       "                        <td id=\"T_a15b4e7a_a26f_11ea_aa38_000d3a8e2bc1row34_col5\" class=\"data row34 col5\" >12097.8</td>\n",
       "                        <td id=\"T_a15b4e7a_a26f_11ea_aa38_000d3a8e2bc1row34_col6\" class=\"data row34 col6\" >19%</td>\n",
       "            </tr>\n",
       "            <tr>\n",
       "                        <th id=\"T_a15b4e7a_a26f_11ea_aa38_000d3a8e2bc1level0_row35\" class=\"row_heading level0 row35\" >NV</th>\n",
       "                        <td id=\"T_a15b4e7a_a26f_11ea_aa38_000d3a8e2bc1row35_col0\" class=\"data row35 col0\" >8350</td>\n",
       "                        <td id=\"T_a15b4e7a_a26f_11ea_aa38_000d3a8e2bc1row35_col1\" class=\"data row35 col1\" >9515</td>\n",
       "                        <td id=\"T_a15b4e7a_a26f_11ea_aa38_000d3a8e2bc1row35_col2\" class=\"data row35 col2\" >(8766, 11090)</td>\n",
       "                        <td id=\"T_a15b4e7a_a26f_11ea_aa38_000d3a8e2bc1row35_col3\" class=\"data row35 col3\" >1.1</td>\n",
       "                        <td id=\"T_a15b4e7a_a26f_11ea_aa38_000d3a8e2bc1row35_col4\" class=\"data row35 col4\" >43639.3</td>\n",
       "                        <td id=\"T_a15b4e7a_a26f_11ea_aa38_000d3a8e2bc1row35_col5\" class=\"data row35 col5\" >2710.9</td>\n",
       "                        <td id=\"T_a15b4e7a_a26f_11ea_aa38_000d3a8e2bc1row35_col6\" class=\"data row35 col6\" >6%</td>\n",
       "            </tr>\n",
       "            <tr>\n",
       "                        <th id=\"T_a15b4e7a_a26f_11ea_aa38_000d3a8e2bc1level0_row36\" class=\"row_heading level0 row36\" >NM</th>\n",
       "                        <td id=\"T_a15b4e7a_a26f_11ea_aa38_000d3a8e2bc1row36_col0\" class=\"data row36 col0\" >7364</td>\n",
       "                        <td id=\"T_a15b4e7a_a26f_11ea_aa38_000d3a8e2bc1row36_col1\" class=\"data row36 col1\" >8083</td>\n",
       "                        <td id=\"T_a15b4e7a_a26f_11ea_aa38_000d3a8e2bc1row36_col2\" class=\"data row36 col2\" >(7629, 9090)</td>\n",
       "                        <td id=\"T_a15b4e7a_a26f_11ea_aa38_000d3a8e2bc1row36_col3\" class=\"data row36 col3\" >1.1</td>\n",
       "                        <td id=\"T_a15b4e7a_a26f_11ea_aa38_000d3a8e2bc1row36_col4\" class=\"data row36 col4\" >87534.1</td>\n",
       "                        <td id=\"T_a15b4e7a_a26f_11ea_aa38_000d3a8e2bc1row36_col5\" class=\"data row36 col5\" >3512.0</td>\n",
       "                        <td id=\"T_a15b4e7a_a26f_11ea_aa38_000d3a8e2bc1row36_col6\" class=\"data row36 col6\" >4%</td>\n",
       "            </tr>\n",
       "            <tr>\n",
       "                        <th id=\"T_a15b4e7a_a26f_11ea_aa38_000d3a8e2bc1level0_row37\" class=\"row_heading level0 row37\" >AR</th>\n",
       "                        <td id=\"T_a15b4e7a_a26f_11ea_aa38_000d3a8e2bc1row37_col0\" class=\"data row37 col0\" >6538</td>\n",
       "                        <td id=\"T_a15b4e7a_a26f_11ea_aa38_000d3a8e2bc1row37_col1\" class=\"data row37 col1\" >7461</td>\n",
       "                        <td id=\"T_a15b4e7a_a26f_11ea_aa38_000d3a8e2bc1row37_col2\" class=\"data row37 col2\" >(6884, 8825)</td>\n",
       "                        <td id=\"T_a15b4e7a_a26f_11ea_aa38_000d3a8e2bc1row37_col3\" class=\"data row37 col3\" >1.1</td>\n",
       "                        <td id=\"T_a15b4e7a_a26f_11ea_aa38_000d3a8e2bc1row37_col4\" class=\"data row37 col4\" >39687.1</td>\n",
       "                        <td id=\"T_a15b4e7a_a26f_11ea_aa38_000d3a8e2bc1row37_col5\" class=\"data row37 col5\" >2166.5</td>\n",
       "                        <td id=\"T_a15b4e7a_a26f_11ea_aa38_000d3a8e2bc1row37_col6\" class=\"data row37 col6\" >5%</td>\n",
       "            </tr>\n",
       "            <tr>\n",
       "                        <th id=\"T_a15b4e7a_a26f_11ea_aa38_000d3a8e2bc1level0_row38\" class=\"row_heading level0 row38\" >OK</th>\n",
       "                        <td id=\"T_a15b4e7a_a26f_11ea_aa38_000d3a8e2bc1row38_col0\" class=\"data row38 col0\" >6338</td>\n",
       "                        <td id=\"T_a15b4e7a_a26f_11ea_aa38_000d3a8e2bc1row38_col1\" class=\"data row38 col1\" >7189</td>\n",
       "                        <td id=\"T_a15b4e7a_a26f_11ea_aa38_000d3a8e2bc1row38_col2\" class=\"data row38 col2\" >(6636, 8430)</td>\n",
       "                        <td id=\"T_a15b4e7a_a26f_11ea_aa38_000d3a8e2bc1row38_col3\" class=\"data row38 col3\" >1.1</td>\n",
       "                        <td id=\"T_a15b4e7a_a26f_11ea_aa38_000d3a8e2bc1row38_col4\" class=\"data row38 col4\" >47359.0</td>\n",
       "                        <td id=\"T_a15b4e7a_a26f_11ea_aa38_000d3a8e2bc1row38_col5\" class=\"data row38 col5\" >1601.7</td>\n",
       "                        <td id=\"T_a15b4e7a_a26f_11ea_aa38_000d3a8e2bc1row38_col6\" class=\"data row38 col6\" >3%</td>\n",
       "            </tr>\n",
       "            <tr>\n",
       "                        <th id=\"T_a15b4e7a_a26f_11ea_aa38_000d3a8e2bc1level0_row39\" class=\"row_heading level0 row39\" >SD</th>\n",
       "                        <td id=\"T_a15b4e7a_a26f_11ea_aa38_000d3a8e2bc1row39_col0\" class=\"data row39 col0\" >4866</td>\n",
       "                        <td id=\"T_a15b4e7a_a26f_11ea_aa38_000d3a8e2bc1row39_col1\" class=\"data row39 col1\" >5514</td>\n",
       "                        <td id=\"T_a15b4e7a_a26f_11ea_aa38_000d3a8e2bc1row39_col2\" class=\"data row39 col2\" >(5111, 6333)</td>\n",
       "                        <td id=\"T_a15b4e7a_a26f_11ea_aa38_000d3a8e2bc1row39_col3\" class=\"data row39 col3\" >1.1</td>\n",
       "                        <td id=\"T_a15b4e7a_a26f_11ea_aa38_000d3a8e2bc1row39_col4\" class=\"data row39 col4\" >45986.1</td>\n",
       "                        <td id=\"T_a15b4e7a_a26f_11ea_aa38_000d3a8e2bc1row39_col5\" class=\"data row39 col5\" >5500.4</td>\n",
       "                        <td id=\"T_a15b4e7a_a26f_11ea_aa38_000d3a8e2bc1row39_col6\" class=\"data row39 col6\" >12%</td>\n",
       "            </tr>\n",
       "            <tr>\n",
       "                        <th id=\"T_a15b4e7a_a26f_11ea_aa38_000d3a8e2bc1level0_row40\" class=\"row_heading level0 row40\" >NH</th>\n",
       "                        <td id=\"T_a15b4e7a_a26f_11ea_aa38_000d3a8e2bc1row40_col0\" class=\"data row40 col0\" >4386</td>\n",
       "                        <td id=\"T_a15b4e7a_a26f_11ea_aa38_000d3a8e2bc1row40_col1\" class=\"data row40 col1\" >4966</td>\n",
       "                        <td id=\"T_a15b4e7a_a26f_11ea_aa38_000d3a8e2bc1row40_col2\" class=\"data row40 col2\" >(4585, 5715)</td>\n",
       "                        <td id=\"T_a15b4e7a_a26f_11ea_aa38_000d3a8e2bc1row40_col3\" class=\"data row40 col3\" >1.1</td>\n",
       "                        <td id=\"T_a15b4e7a_a26f_11ea_aa38_000d3a8e2bc1row40_col4\" class=\"data row40 col4\" >49173.7</td>\n",
       "                        <td id=\"T_a15b4e7a_a26f_11ea_aa38_000d3a8e2bc1row40_col5\" class=\"data row40 col5\" >3225.7</td>\n",
       "                        <td id=\"T_a15b4e7a_a26f_11ea_aa38_000d3a8e2bc1row40_col6\" class=\"data row40 col6\" >7%</td>\n",
       "            </tr>\n",
       "            <tr>\n",
       "                        <th id=\"T_a15b4e7a_a26f_11ea_aa38_000d3a8e2bc1level0_row41\" class=\"row_heading level0 row41\" >OR</th>\n",
       "                        <td id=\"T_a15b4e7a_a26f_11ea_aa38_000d3a8e2bc1row41_col0\" class=\"data row41 col0\" >4131</td>\n",
       "                        <td id=\"T_a15b4e7a_a26f_11ea_aa38_000d3a8e2bc1row41_col1\" class=\"data row41 col1\" >4826</td>\n",
       "                        <td id=\"T_a15b4e7a_a26f_11ea_aa38_000d3a8e2bc1row41_col2\" class=\"data row41 col2\" >(4411, 5699)</td>\n",
       "                        <td id=\"T_a15b4e7a_a26f_11ea_aa38_000d3a8e2bc1row41_col3\" class=\"data row41 col3\" >1.2</td>\n",
       "                        <td id=\"T_a15b4e7a_a26f_11ea_aa38_000d3a8e2bc1row41_col4\" class=\"data row41 col4\" >29086.9</td>\n",
       "                        <td id=\"T_a15b4e7a_a26f_11ea_aa38_000d3a8e2bc1row41_col5\" class=\"data row41 col5\" >979.4</td>\n",
       "                        <td id=\"T_a15b4e7a_a26f_11ea_aa38_000d3a8e2bc1row41_col6\" class=\"data row41 col6\" >3%</td>\n",
       "            </tr>\n",
       "            <tr>\n",
       "                        <th id=\"T_a15b4e7a_a26f_11ea_aa38_000d3a8e2bc1level0_row42\" class=\"row_heading level0 row42\" >ID</th>\n",
       "                        <td id=\"T_a15b4e7a_a26f_11ea_aa38_000d3a8e2bc1row42_col0\" class=\"data row42 col0\" >2769</td>\n",
       "                        <td id=\"T_a15b4e7a_a26f_11ea_aa38_000d3a8e2bc1row42_col1\" class=\"data row42 col1\" >3274</td>\n",
       "                        <td id=\"T_a15b4e7a_a26f_11ea_aa38_000d3a8e2bc1row42_col2\" class=\"data row42 col2\" >(2964, 3994)</td>\n",
       "                        <td id=\"T_a15b4e7a_a26f_11ea_aa38_000d3a8e2bc1row42_col3\" class=\"data row42 col3\" >1.2</td>\n",
       "                        <td id=\"T_a15b4e7a_a26f_11ea_aa38_000d3a8e2bc1row42_col4\" class=\"data row42 col4\" >25047.2</td>\n",
       "                        <td id=\"T_a15b4e7a_a26f_11ea_aa38_000d3a8e2bc1row42_col5\" class=\"data row42 col5\" >1549.5</td>\n",
       "                        <td id=\"T_a15b4e7a_a26f_11ea_aa38_000d3a8e2bc1row42_col6\" class=\"data row42 col6\" >6%</td>\n",
       "            </tr>\n",
       "            <tr>\n",
       "                        <th id=\"T_a15b4e7a_a26f_11ea_aa38_000d3a8e2bc1level0_row43\" class=\"row_heading level0 row43\" >ND</th>\n",
       "                        <td id=\"T_a15b4e7a_a26f_11ea_aa38_000d3a8e2bc1row43_col0\" class=\"data row43 col0\" >2520</td>\n",
       "                        <td id=\"T_a15b4e7a_a26f_11ea_aa38_000d3a8e2bc1row43_col1\" class=\"data row43 col1\" >2757</td>\n",
       "                        <td id=\"T_a15b4e7a_a26f_11ea_aa38_000d3a8e2bc1row43_col2\" class=\"data row43 col2\" >(2606, 3031)</td>\n",
       "                        <td id=\"T_a15b4e7a_a26f_11ea_aa38_000d3a8e2bc1row43_col3\" class=\"data row43 col3\" >1.1</td>\n",
       "                        <td id=\"T_a15b4e7a_a26f_11ea_aa38_000d3a8e2bc1row43_col4\" class=\"data row43 col4\" >91138.3</td>\n",
       "                        <td id=\"T_a15b4e7a_a26f_11ea_aa38_000d3a8e2bc1row43_col5\" class=\"data row43 col5\" >3306.8</td>\n",
       "                        <td id=\"T_a15b4e7a_a26f_11ea_aa38_000d3a8e2bc1row43_col6\" class=\"data row43 col6\" >4%</td>\n",
       "            </tr>\n",
       "            <tr>\n",
       "                        <th id=\"T_a15b4e7a_a26f_11ea_aa38_000d3a8e2bc1level0_row44\" class=\"row_heading level0 row44\" >ME</th>\n",
       "                        <td id=\"T_a15b4e7a_a26f_11ea_aa38_000d3a8e2bc1row44_col0\" class=\"data row44 col0\" >2226</td>\n",
       "                        <td id=\"T_a15b4e7a_a26f_11ea_aa38_000d3a8e2bc1row44_col1\" class=\"data row44 col1\" >2577</td>\n",
       "                        <td id=\"T_a15b4e7a_a26f_11ea_aa38_000d3a8e2bc1row44_col2\" class=\"data row44 col2\" >(2357, 3051)</td>\n",
       "                        <td id=\"T_a15b4e7a_a26f_11ea_aa38_000d3a8e2bc1row44_col3\" class=\"data row44 col3\" >1.2</td>\n",
       "                        <td id=\"T_a15b4e7a_a26f_11ea_aa38_000d3a8e2bc1row44_col4\" class=\"data row44 col4\" >34002.1</td>\n",
       "                        <td id=\"T_a15b4e7a_a26f_11ea_aa38_000d3a8e2bc1row44_col5\" class=\"data row44 col5\" >1656.0</td>\n",
       "                        <td id=\"T_a15b4e7a_a26f_11ea_aa38_000d3a8e2bc1row44_col6\" class=\"data row44 col6\" >5%</td>\n",
       "            </tr>\n",
       "            <tr>\n",
       "                        <th id=\"T_a15b4e7a_a26f_11ea_aa38_000d3a8e2bc1level0_row45\" class=\"row_heading level0 row45\" >WV</th>\n",
       "                        <td id=\"T_a15b4e7a_a26f_11ea_aa38_000d3a8e2bc1row45_col0\" class=\"data row45 col0\" >1951</td>\n",
       "                        <td id=\"T_a15b4e7a_a26f_11ea_aa38_000d3a8e2bc1row45_col1\" class=\"data row45 col1\" >2199</td>\n",
       "                        <td id=\"T_a15b4e7a_a26f_11ea_aa38_000d3a8e2bc1row45_col2\" class=\"data row45 col2\" >(2043, 2519)</td>\n",
       "                        <td id=\"T_a15b4e7a_a26f_11ea_aa38_000d3a8e2bc1row45_col3\" class=\"data row45 col3\" >1.1</td>\n",
       "                        <td id=\"T_a15b4e7a_a26f_11ea_aa38_000d3a8e2bc1row45_col4\" class=\"data row45 col4\" >52103.4</td>\n",
       "                        <td id=\"T_a15b4e7a_a26f_11ea_aa38_000d3a8e2bc1row45_col5\" class=\"data row45 col5\" >1088.6</td>\n",
       "                        <td id=\"T_a15b4e7a_a26f_11ea_aa38_000d3a8e2bc1row45_col6\" class=\"data row45 col6\" >2%</td>\n",
       "            </tr>\n",
       "            <tr>\n",
       "                        <th id=\"T_a15b4e7a_a26f_11ea_aa38_000d3a8e2bc1level0_row46\" class=\"row_heading level0 row46\" >VT</th>\n",
       "                        <td id=\"T_a15b4e7a_a26f_11ea_aa38_000d3a8e2bc1row46_col0\" class=\"data row46 col0\" >975</td>\n",
       "                        <td id=\"T_a15b4e7a_a26f_11ea_aa38_000d3a8e2bc1row46_col1\" class=\"data row46 col1\" >1096</td>\n",
       "                        <td id=\"T_a15b4e7a_a26f_11ea_aa38_000d3a8e2bc1row46_col2\" class=\"data row46 col2\" >(1019, 1248)</td>\n",
       "                        <td id=\"T_a15b4e7a_a26f_11ea_aa38_000d3a8e2bc1row46_col3\" class=\"data row46 col3\" >1.1</td>\n",
       "                        <td id=\"T_a15b4e7a_a26f_11ea_aa38_000d3a8e2bc1row46_col4\" class=\"data row46 col4\" >51098.7</td>\n",
       "                        <td id=\"T_a15b4e7a_a26f_11ea_aa38_000d3a8e2bc1row46_col5\" class=\"data row46 col5\" >1562.5</td>\n",
       "                        <td id=\"T_a15b4e7a_a26f_11ea_aa38_000d3a8e2bc1row46_col6\" class=\"data row46 col6\" >3%</td>\n",
       "            </tr>\n",
       "            <tr>\n",
       "                        <th id=\"T_a15b4e7a_a26f_11ea_aa38_000d3a8e2bc1level0_row47\" class=\"row_heading level0 row47\" >WY</th>\n",
       "                        <td id=\"T_a15b4e7a_a26f_11ea_aa38_000d3a8e2bc1row47_col0\" class=\"data row47 col0\" >891</td>\n",
       "                        <td id=\"T_a15b4e7a_a26f_11ea_aa38_000d3a8e2bc1row47_col1\" class=\"data row47 col1\" >1021</td>\n",
       "                        <td id=\"T_a15b4e7a_a26f_11ea_aa38_000d3a8e2bc1row47_col2\" class=\"data row47 col2\" >(940, 1167)</td>\n",
       "                        <td id=\"T_a15b4e7a_a26f_11ea_aa38_000d3a8e2bc1row47_col3\" class=\"data row47 col3\" >1.1</td>\n",
       "                        <td id=\"T_a15b4e7a_a26f_11ea_aa38_000d3a8e2bc1row47_col4\" class=\"data row47 col4\" >40205.0</td>\n",
       "                        <td id=\"T_a15b4e7a_a26f_11ea_aa38_000d3a8e2bc1row47_col5\" class=\"data row47 col5\" >1539.5</td>\n",
       "                        <td id=\"T_a15b4e7a_a26f_11ea_aa38_000d3a8e2bc1row47_col6\" class=\"data row47 col6\" >4%</td>\n",
       "            </tr>\n",
       "            <tr>\n",
       "                        <th id=\"T_a15b4e7a_a26f_11ea_aa38_000d3a8e2bc1level0_row48\" class=\"row_heading level0 row48\" >HI</th>\n",
       "                        <td id=\"T_a15b4e7a_a26f_11ea_aa38_000d3a8e2bc1row48_col0\" class=\"data row48 col0\" >647</td>\n",
       "                        <td id=\"T_a15b4e7a_a26f_11ea_aa38_000d3a8e2bc1row48_col1\" class=\"data row48 col1\" >744</td>\n",
       "                        <td id=\"T_a15b4e7a_a26f_11ea_aa38_000d3a8e2bc1row48_col2\" class=\"data row48 col2\" >(683, 867)</td>\n",
       "                        <td id=\"T_a15b4e7a_a26f_11ea_aa38_000d3a8e2bc1row48_col3\" class=\"data row48 col3\" >1.1</td>\n",
       "                        <td id=\"T_a15b4e7a_a26f_11ea_aa38_000d3a8e2bc1row48_col4\" class=\"data row48 col4\" >37308.5</td>\n",
       "                        <td id=\"T_a15b4e7a_a26f_11ea_aa38_000d3a8e2bc1row48_col5\" class=\"data row48 col5\" >457.0</td>\n",
       "                        <td id=\"T_a15b4e7a_a26f_11ea_aa38_000d3a8e2bc1row48_col6\" class=\"data row48 col6\" >1%</td>\n",
       "            </tr>\n",
       "            <tr>\n",
       "                        <th id=\"T_a15b4e7a_a26f_11ea_aa38_000d3a8e2bc1level0_row49\" class=\"row_heading level0 row49\" >MT</th>\n",
       "                        <td id=\"T_a15b4e7a_a26f_11ea_aa38_000d3a8e2bc1row49_col0\" class=\"data row49 col0\" >493</td>\n",
       "                        <td id=\"T_a15b4e7a_a26f_11ea_aa38_000d3a8e2bc1row49_col1\" class=\"data row49 col1\" >570</td>\n",
       "                        <td id=\"T_a15b4e7a_a26f_11ea_aa38_000d3a8e2bc1row49_col2\" class=\"data row49 col2\" >(521, 675)</td>\n",
       "                        <td id=\"T_a15b4e7a_a26f_11ea_aa38_000d3a8e2bc1row49_col3\" class=\"data row49 col3\" >1.2</td>\n",
       "                        <td id=\"T_a15b4e7a_a26f_11ea_aa38_000d3a8e2bc1row49_col4\" class=\"data row49 col4\" >36049.6</td>\n",
       "                        <td id=\"T_a15b4e7a_a26f_11ea_aa38_000d3a8e2bc1row49_col5\" class=\"data row49 col5\" >461.3</td>\n",
       "                        <td id=\"T_a15b4e7a_a26f_11ea_aa38_000d3a8e2bc1row49_col6\" class=\"data row49 col6\" >1%</td>\n",
       "            </tr>\n",
       "            <tr>\n",
       "                        <th id=\"T_a15b4e7a_a26f_11ea_aa38_000d3a8e2bc1level0_row50\" class=\"row_heading level0 row50\" >AK</th>\n",
       "                        <td id=\"T_a15b4e7a_a26f_11ea_aa38_000d3a8e2bc1row50_col0\" class=\"data row50 col0\" >430</td>\n",
       "                        <td id=\"T_a15b4e7a_a26f_11ea_aa38_000d3a8e2bc1row50_col1\" class=\"data row50 col1\" >478</td>\n",
       "                        <td id=\"T_a15b4e7a_a26f_11ea_aa38_000d3a8e2bc1row50_col2\" class=\"data row50 col2\" >(448, 539)</td>\n",
       "                        <td id=\"T_a15b4e7a_a26f_11ea_aa38_000d3a8e2bc1row50_col3\" class=\"data row50 col3\" >1.1</td>\n",
       "                        <td id=\"T_a15b4e7a_a26f_11ea_aa38_000d3a8e2bc1row50_col4\" class=\"data row50 col4\" >67581.6</td>\n",
       "                        <td id=\"T_a15b4e7a_a26f_11ea_aa38_000d3a8e2bc1row50_col5\" class=\"data row50 col5\" >587.8</td>\n",
       "                        <td id=\"T_a15b4e7a_a26f_11ea_aa38_000d3a8e2bc1row50_col6\" class=\"data row50 col6\" >1%</td>\n",
       "            </tr>\n",
       "    </tbody></table>"
      ],
      "text/plain": [
       "<pandas.io.formats.style.Styler at 0x7f4c95f08860>"
      ]
     },
     "execution_count": 7,
     "metadata": {},
     "output_type": "execute_result"
    }
   ],
   "source": [
    "#hide_input\n",
    "df_display.sort_values(\n",
    "    by='Est Cases', ascending=False).style.background_gradient(\n",
    "    cmap='Oranges').format(\n",
    "    {'Ratio': \"{:.1f}\"}).format(\n",
    "    {'Tests per Million': \"{:.1f}\"}).format(\n",
    "    {'Cases per Million': \"{:.1f}\"}).format(\n",
    "    {'Positive Test Rate': \"{:.0%}\"})"
   ]
  },
  {
   "cell_type": "code",
   "execution_count": 8,
   "metadata": {
    "execution": {
     "iopub.execute_input": "2020-05-30T12:18:12.543924Z",
     "iopub.status.busy": "2020-05-30T12:18:12.543351Z",
     "iopub.status.idle": "2020-05-30T12:18:13.024158Z",
     "shell.execute_reply": "2020-05-30T12:18:13.023698Z"
    },
    "papermill": {
     "duration": 0.728644,
     "end_time": "2020-05-30T12:18:13.024264",
     "exception": false,
     "start_time": "2020-05-30T12:18:12.295620",
     "status": "completed"
    },
    "tags": []
   },
   "outputs": [
    {
     "data": {
      "image/png": "[encoded data removed]",
      "text/plain": [
       "<Figure size 1080x1080 with 1 Axes>"
      ]
     },
     "metadata": {
      "needs_background": "light"
     },
     "output_type": "display_data"
    }
   ],
   "source": [
    "#hide_input\n",
    "\n",
    "df_plot = df_summary.copy(deep=True)\n",
    "\n",
    "# Compute predicted cases per million\n",
    "df_plot['predicted_counts_now_pm'] =  1e6 * (\n",
    "    df_pred['positive'] / prob_missing_now.mean(axis=0)) / df_pred['total_population']\n",
    "\n",
    "df_plot['predicted_counts_now_lower_pm'] = 1e6 * (\n",
    "    df_pred['positive'] / prob_missing_now.quantile(0.975, axis=0))/ df_pred['total_population']\n",
    "df_plot['predicted_counts_now_upper_pm'] = 1e6 * (\n",
    "    df_pred['positive'] / prob_missing_now.quantile(0.025, axis=0))/ df_pred['total_population']\n",
    "\n",
    "df_plot.sort_values('predicted_counts_now_pm', ascending=False, inplace=True)\n",
    "\n",
    "xerr = [\n",
    "    df_plot['predicted_counts_now_pm'] - df_plot['predicted_counts_now_lower_pm'], \n",
    "    df_plot['predicted_counts_now_upper_pm'] - df_plot['predicted_counts_now_pm']]\n",
    "\n",
    "fig, axs = plt.subplots(1, 1, figsize=(15, 15))\n",
    "ax = plt.errorbar(df_plot['predicted_counts_now_pm'], range(len(df_plot)-1, -1, -1),\n",
    "                  xerr=xerr, fmt='o', elinewidth=1, label='Estimate')\n",
    "ax = plt.yticks(range(len(df_plot)), df_plot.index[::-1])\n",
    "ax = plt.errorbar(df_plot['Cases per Million'], range(len(df_plot)-1, -1, -1),\n",
    "                  xerr=None, fmt='.', color='k', label='Reported')\n",
    "ax = plt.xlabel('COVID-19 Case Counts Per Million People', size=20)\n",
    "ax = plt.legend(fontsize='xx-large', loc=4)\n",
    "ax = plt.grid(linestyle='--', color='grey', axis='x')"
   ]
  },
  {
   "cell_type": "markdown",
   "metadata": {
    "papermill": {
     "duration": 0.229835,
     "end_time": "2020-05-30T12:18:13.497696",
     "exception": false,
     "start_time": "2020-05-30T12:18:13.267861",
     "status": "completed"
    },
    "tags": []
   },
   "source": [
    "## Appendix: Model Diagnostics \n",
    "\n",
    "### Derived relationship between Test Capacity and Case Under-reporting\n",
    "\n",
    "Plotted is the estimated relationship between test capacity (in terms of people per test -- larger = less testing) and the likelihood a COVID-19 case is reported (lower = more under-reporting of cases).\n",
    "\n",
    "The lines represent the posterior samples from our MCMC run (note the x-axis is plotted on a log scale).  The rug plot shows the current test capacity for each state (black '|') and the capacity one week ago (cyan '+').  For comparison, South Korea's testing capacity is currently at the very left of the graph (200 people per test)."
   ]
  },
  {
   "cell_type": "code",
   "execution_count": 9,
   "metadata": {
    "execution": {
     "iopub.execute_input": "2020-05-30T12:18:13.972925Z",
     "iopub.status.busy": "2020-05-30T12:18:13.972364Z",
     "iopub.status.idle": "2020-05-30T12:18:15.940911Z",
     "shell.execute_reply": "2020-05-30T12:18:15.941292Z"
    },
    "papermill": {
     "duration": 2.21831,
     "end_time": "2020-05-30T12:18:15.941403",
     "exception": false,
     "start_time": "2020-05-30T12:18:13.723093",
     "status": "completed"
    },
    "tags": []
   },
   "outputs": [
    {
     "data": {
      "image/png": "[encoded data removed]",
      "text/plain": [
       "<Figure size 1008x648 with 1 Axes>"
      ]
     },
     "metadata": {
      "needs_background": "light"
     },
     "output_type": "display_data"
    }
   ],
   "source": [
    "#hide_input\n",
    "\n",
    "# Plot pop/test vs. Prob of case detection for all posterior samples:\n",
    "x = np.linspace(0.0, 4.0, 101)\n",
    "logit_pcase = pd.DataFrame([\n",
    "    trace['alpha'][i] + trace['beta'][i] * x\n",
    "    for i in range(n)])\n",
    "pcase = np.exp(logit_pcase) / (np.exp(logit_pcase) + 1)\n",
    "\n",
    "fig, ax = plt.subplots(1, 1, figsize=(14, 9))\n",
    "for i in range(n):\n",
    "    ax = plt.plot(10**(ppt_sk + x), pcase.iloc[i], color='grey', lw=.1, alpha=.5)\n",
    "    plt.xscale('log')\n",
    "    plt.xlabel('State-wise population per test', size=14)\n",
    "    plt.ylabel('Probability a true case is detected', size=14)\n",
    "\n",
    "# rug plots:\n",
    "ax=plt.plot(df_pred['people_per_test'], np.zeros(len(df_pred)),\n",
    "            marker='|', color='k', ls='', ms=20,\n",
    "           label='U.S. State-wise Test Capacity Now')\n",
    "ax=plt.plot(df['people_per_test_7_days_ago'], np.zeros(len(df)),\n",
    "            marker='+', color='c', ls='', ms=10,\n",
    "           label='U.S. State-wise Test Capacity 7 Days Ago')\n",
    "ax = plt.legend(fontsize='x-large')"
   ]
  },
  {
   "cell_type": "markdown",
   "metadata": {
    "papermill": {
     "duration": 0.232643,
     "end_time": "2020-05-30T12:18:16.408340",
     "exception": false,
     "start_time": "2020-05-30T12:18:16.175697",
     "status": "completed"
    },
    "tags": []
   },
   "source": [
    "## About this Analysis\n",
    "\n",
    "This analysis was done by [Joseph Richards](https://twitter.com/joeyrichar).\n",
    "\n",
    "This project[^1] uses the testing rates per state from [https://covidtracking.com/](https://covidtracking.com/), which reports case counts and mortality by state.  This is used to **estimate the number of unreported (untested) COVID-19 cases in each U.S. state.**\n",
    "\n",
    "The analysis makes a few assumptions:\n",
    "\n",
    "1. The probability that a case is reported by a state is a function of the number of tests run per person in that state.  Hence the degree of under-reported cases is a function of tests run per capita.\n",
    "2. The underlying mortality rate is the same across every state.\n",
    "3. Patients take time to succumb to COVID-19, so the mortality counts *today* reflect the case counts *7 days ago*.  E.g., mortality rate = (cumulative deaths today) / (cumulative cases 7 days ago).\n",
    "\n",
    "The model attempts to find the most likely relationship between state-wise test volume (per capita) and under-reporting, such that the true underlying mortality rates between the individual states are as similar as possible.  The model simultaneously finds the most likely posterior distribution of mortality rates, the most likely *true* case count per state, and the test volume vs. case underreporting relationship.\n",
    "\n",
    "[^1]: Full details about the model are available at:  https://github.com/jwrichar/COVID19-mortality"
   ]
  }
 ],
 "metadata": {
  "kernelspec": {
   "display_name": "visualization-curriculum-gF8wUgMm",
   "language": "python",
   "name": "visualization-curriculum-gf8wugmm"
  },
  "language_info": {
   "codemirror_mode": {
    "name": "ipython",
    "version": 3
   },
   "file_extension": ".py",
   "mimetype": "text/x-python",
   "name": "python",
   "nbconvert_exporter": "python",
   "pygments_lexer": "ipython3",
   "version": "3.6.10"
  },
  "papermill": {
   "duration": 189.427927,
   "end_time": "2020-05-30T12:18:16.748722",
   "environment_variables": {},
   "exception": null,
   "input_path": "2020-03-18-case-count-estimation-us-states.ipynb",
   "output_path": "2020-03-18-case-count-estimation-us-states.ipynb",
   "parameters": {},
   "start_time": "2020-05-30T12:15:07.320795",
   "version": "2.0.0"
  }
 },
 "nbformat": 4,
 "nbformat_minor": 4
}