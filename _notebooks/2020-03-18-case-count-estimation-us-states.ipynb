{
 "cells": [
  {
   "cell_type": "markdown",
   "metadata": {
    "papermill": {
     "duration": 0.012445,
     "end_time": "2020-05-22T12:16:18.748749",
     "exception": false,
     "start_time": "2020-05-22T12:16:18.736304",
     "status": "completed"
    },
    "tags": []
   },
   "source": [
    "# How many cases of COVID-19 does each U.S. state really have?\n",
    "> Reported U.S. case counts are based on the number of administered tests. Since not everyone is tested, this number is biased. We use Bayesian techniques to estimate the true number of cases.\n",
    "\n",
    "- author: Joseph Richards\n",
    "- image: images/covid-state-case-estimation.png\n",
    "- hide: false\n",
    "- comments: true\n",
    "- categories: [MCMC, US, states, cases]\n",
    "- permalink: /covid-19-us-case-estimation/\n",
    "- toc: false"
   ]
  },
  {
   "cell_type": "markdown",
   "metadata": {
    "papermill": {
     "duration": 0.008841,
     "end_time": "2020-05-22T12:16:18.767589",
     "exception": false,
     "start_time": "2020-05-22T12:16:18.758748",
     "status": "completed"
    },
    "tags": []
   },
   "source": [
    "> Note: This dashboard contains the results of a predictive model. The author has tried to make it as accurate as possible. But the COVID-19 situation is changing quickly, and these models inevitably include some level of speculation."
   ]
  },
  {
   "cell_type": "code",
   "execution_count": 1,
   "metadata": {
    "execution": {
     "iopub.execute_input": "2020-05-22T12:16:18.792526Z",
     "iopub.status.busy": "2020-05-22T12:16:18.791943Z",
     "iopub.status.idle": "2020-05-22T12:16:20.431327Z",
     "shell.execute_reply": "2020-05-22T12:16:20.429932Z"
    },
    "papermill": {
     "duration": 1.654731,
     "end_time": "2020-05-22T12:16:20.431471",
     "exception": false,
     "start_time": "2020-05-22T12:16:18.776740",
     "status": "completed"
    },
    "tags": []
   },
   "outputs": [
    {
     "name": "stderr",
     "output_type": "stream",
     "text": [
      "WARNING (theano.tensor.blas): Using NumPy C-API based implementation for BLAS functions.\n"
     ]
    }
   ],
   "source": [
    "#hide\n",
    "\n",
    "# Setup and imports\n",
    "%matplotlib inline\n",
    "\n",
    "import warnings\n",
    "warnings.simplefilter('ignore')\n",
    "\n",
    "import matplotlib.pyplot as plt\n",
    "import numpy as np\n",
    "import pandas as pd\n",
    "import pymc3 as pm\n",
    "import requests\n",
    "\n",
    "from IPython.display import display, Markdown"
   ]
  },
  {
   "cell_type": "code",
   "execution_count": 2,
   "metadata": {
    "execution": {
     "iopub.execute_input": "2020-05-22T12:16:20.464245Z",
     "iopub.status.busy": "2020-05-22T12:16:20.453365Z",
     "iopub.status.idle": "2020-05-22T12:16:20.472464Z",
     "shell.execute_reply": "2020-05-22T12:16:20.471982Z"
    },
    "papermill": {
     "duration": 0.031348,
     "end_time": "2020-05-22T12:16:20.472573",
     "exception": false,
     "start_time": "2020-05-22T12:16:20.441225",
     "status": "completed"
    },
    "tags": []
   },
   "outputs": [],
   "source": [
    "#hide\n",
    "\n",
    "# Data utilities:\n",
    "\n",
    "def get_statewise_testing_data():\n",
    "    '''\n",
    "    Pull all statewise data required for model fitting and\n",
    "    prediction\n",
    "\n",
    "    Returns:\n",
    "    * df_out: DataFrame for model fitting where inclusion\n",
    "        requires testing data from 7 days ago\n",
    "    * df_pred: DataFrame for count prediction where inclusion\n",
    "        only requires testing data from today\n",
    "    '''\n",
    "\n",
    "    # Pull testing counts by state:\n",
    "    out = requests.get('https://covidtracking.com/api/states')\n",
    "    df_out = pd.DataFrame(out.json())\n",
    "    df_out.set_index('state', drop=True, inplace=True)\n",
    "\n",
    "    # Pull time-series of testing counts:\n",
    "    ts = requests.get('https://covidtracking.com/api/states/daily')\n",
    "    df_ts = pd.DataFrame(ts.json())\n",
    "\n",
    "    # Get data from last week\n",
    "    date_last_week = df_ts['date'].unique()[7]\n",
    "    df_ts_last_week = _get_test_counts(df_ts, df_out.index, date_last_week)\n",
    "    df_out['num_tests_7_days_ago'] = \\\n",
    "        (df_ts_last_week['positive'] + df_ts_last_week['negative'])\n",
    "    df_out['num_pos_7_days_ago'] = df_ts_last_week['positive']\n",
    "\n",
    "    # Get data from today:\n",
    "    df_out['num_tests_today'] = (df_out['positive'] + df_out['negative'])\n",
    "\n",
    "    # State population:\n",
    "    df_pop = pd.read_excel(('https://github.com/jwrichar/COVID19-mortality/blob/'\n",
    "                            'master/data/us_population_by_state_2019.xlsx?raw=true'),\n",
    "                           skiprows=2, skipfooter=5)\n",
    "    r = requests.get(('https://raw.githubusercontent.com/jwrichar/COVID19-mortality/'\n",
    "                      'master/data/us-state-name-abbr.json'))\n",
    "    state_name_abbr_lookup = r.json()\n",
    "    \n",
    "    df_pop.index = df_pop['Geographic Area'].apply(\n",
    "        lambda x: str(x).replace('.', '')).map(state_name_abbr_lookup)\n",
    "    df_pop = df_pop.loc[df_pop.index.dropna()]\n",
    "\n",
    "    df_out['total_population'] = df_pop['Total Resident\\nPopulation']\n",
    "\n",
    "    # Tests per million people, based on today's test coverage\n",
    "    df_out['tests_per_million'] = 1e6 * \\\n",
    "        (df_out['num_tests_today']) / df_out['total_population']\n",
    "    df_out['tests_per_million_7_days_ago'] = 1e6 * \\\n",
    "        (df_out['num_tests_7_days_ago']) / df_out['total_population']\n",
    "\n",
    "    # People per test:\n",
    "    df_out['people_per_test'] = 1e6 / df_out['tests_per_million']\n",
    "    df_out['people_per_test_7_days_ago'] = \\\n",
    "        1e6 / df_out['tests_per_million_7_days_ago']\n",
    "\n",
    "    # Drop states with messed up / missing data:\n",
    "    # Drop states with missing total pop:\n",
    "    to_drop_idx = df_out.index[df_out['total_population'].isnull()]\n",
    "    print('Dropping %i/%i states due to lack of population data: %s' %\n",
    "          (len(to_drop_idx), len(df_out), ', '.join(to_drop_idx)))\n",
    "    df_out.drop(to_drop_idx, axis=0, inplace=True)\n",
    "\n",
    "    df_pred = df_out.copy(deep=True)  # Prediction DataFrame\n",
    "\n",
    "    # Criteria for model fitting:\n",
    "    # Drop states with missing test count 7 days ago:\n",
    "    to_drop_idx = df_out.index[df_out['num_tests_7_days_ago'].isnull()]\n",
    "    print('Dropping %i/%i states due to lack of tests: %s' %\n",
    "          (len(to_drop_idx), len(df_out), ', '.join(to_drop_idx)))\n",
    "    df_out.drop(to_drop_idx, axis=0, inplace=True)\n",
    "    # Drop states with no cases 7 days ago:\n",
    "    to_drop_idx = df_out.index[df_out['num_pos_7_days_ago'] == 0]\n",
    "    print('Dropping %i/%i states due to lack of positive tests: %s' %\n",
    "          (len(to_drop_idx), len(df_out), ', '.join(to_drop_idx)))\n",
    "    df_out.drop(to_drop_idx, axis=0, inplace=True)\n",
    "\n",
    "    # Criteria for model prediction:\n",
    "    # Drop states with missing test count today:\n",
    "    to_drop_idx = df_pred.index[df_pred['num_tests_today'].isnull()]\n",
    "    print('Dropping %i/%i states in prediction data due to lack of tests: %s' %\n",
    "          (len(to_drop_idx), len(df_pred), ', '.join(to_drop_idx)))\n",
    "    df_pred.drop(to_drop_idx, axis=0, inplace=True)\n",
    "    # Cast counts to int\n",
    "    df_pred['negative'] = df_pred['negative'].astype(int)\n",
    "    df_pred['positive'] = df_pred['positive'].astype(int)\n",
    "\n",
    "    return df_out, df_pred\n",
    "\n",
    "def _get_test_counts(df_ts, state_list, date):\n",
    "\n",
    "    ts_list = []\n",
    "    for state in state_list:\n",
    "        state_ts = df_ts.loc[df_ts['state'] == state]\n",
    "        # Back-fill any gaps to avoid crap data gaps\n",
    "        state_ts.fillna(method='bfill', inplace=True)\n",
    "\n",
    "        record = state_ts.loc[df_ts['date'] == date]\n",
    "        ts_list.append(record)\n",
    "\n",
    "    df_ts = pd.concat(ts_list, ignore_index=True)\n",
    "    return df_ts.set_index('state', drop=True)\n"
   ]
  },
  {
   "cell_type": "code",
   "execution_count": 3,
   "metadata": {
    "execution": {
     "iopub.execute_input": "2020-05-22T12:16:20.504400Z",
     "iopub.status.busy": "2020-05-22T12:16:20.501337Z",
     "iopub.status.idle": "2020-05-22T12:16:20.506884Z",
     "shell.execute_reply": "2020-05-22T12:16:20.506241Z"
    },
    "papermill": {
     "duration": 0.022881,
     "end_time": "2020-05-22T12:16:20.506989",
     "exception": false,
     "start_time": "2020-05-22T12:16:20.484108",
     "status": "completed"
    },
    "tags": []
   },
   "outputs": [],
   "source": [
    "#hide\n",
    "\n",
    "# Model utilities\n",
    "\n",
    "def case_count_model_us_states(df):\n",
    "\n",
    "    # Normalize inputs in a way that is sensible:\n",
    "\n",
    "    # People per test: normalize to South Korea\n",
    "    # assuming S.K. testing is \"saturated\"\n",
    "    ppt_sk = np.log10(51500000. / 250000)\n",
    "    df['people_per_test_normalized'] = (\n",
    "        np.log10(df['people_per_test_7_days_ago']) - ppt_sk)\n",
    "\n",
    "    n = len(df)\n",
    "\n",
    "    # For each country, let:\n",
    "    # c_obs = number of observed cases\n",
    "    c_obs = df['num_pos_7_days_ago'].values\n",
    "    # c_star = number of true cases\n",
    "\n",
    "    # d_obs = number of observed deaths\n",
    "    d_obs = df[['death', 'num_pos_7_days_ago']].min(axis=1).values\n",
    "    # people per test\n",
    "    people_per_test = df['people_per_test_normalized'].values\n",
    "\n",
    "    covid_case_count_model = pm.Model()\n",
    "\n",
    "    with covid_case_count_model:\n",
    "\n",
    "        # Priors:\n",
    "        mu_0 = pm.Beta('mu_0', alpha=1, beta=100, testval=0.01)\n",
    "        # sig_0 = pm.Uniform('sig_0', lower=0.0, upper=mu_0 * (1 - mu_0))\n",
    "        alpha = pm.Bound(pm.Normal, lower=0.0)(\n",
    "            'alpha', mu=8, sigma=3, shape=1)\n",
    "        beta = pm.Bound(pm.Normal, upper=0.0)(\n",
    "            'beta', mu=-1, sigma=1, shape=1)\n",
    "        # beta = pm.Normal('beta', mu=0, sigma=1, shape=3)\n",
    "        sigma = pm.HalfNormal('sigma', sigma=0.5, testval=0.1)\n",
    "        # sigma_1 = pm.HalfNormal('sigma_1', sigma=2, testval=0.1)\n",
    "\n",
    "        # Model probability of case under-reporting as logistic regression:\n",
    "        mu_model_logit = alpha + beta * people_per_test\n",
    "        tau_logit = pm.Normal('tau_logit',\n",
    "                              mu=mu_model_logit,\n",
    "                              sigma=sigma,\n",
    "                              shape=n)\n",
    "        tau = np.exp(tau_logit) / (np.exp(tau_logit) + 1)\n",
    "\n",
    "        c_star = c_obs / tau\n",
    "\n",
    "        # Binomial likelihood:\n",
    "        d = pm.Binomial('d',\n",
    "                        n=c_star,\n",
    "                        p=mu_0,\n",
    "                        observed=d_obs)\n",
    "\n",
    "    return covid_case_count_model"
   ]
  },
  {
   "cell_type": "code",
   "execution_count": 4,
   "metadata": {
    "execution": {
     "iopub.execute_input": "2020-05-22T12:16:20.531258Z",
     "iopub.status.busy": "2020-05-22T12:16:20.530681Z",
     "iopub.status.idle": "2020-05-22T12:19:43.614041Z",
     "shell.execute_reply": "2020-05-22T12:19:43.613531Z"
    },
    "papermill": {
     "duration": 203.097135,
     "end_time": "2020-05-22T12:19:43.614154",
     "exception": false,
     "start_time": "2020-05-22T12:16:20.517019",
     "status": "completed"
    },
    "tags": []
   },
   "outputs": [
    {
     "name": "stdout",
     "output_type": "stream",
     "text": [
      "Dropping 4/56 states due to lack of population data: AS, GU, MP, VI\n",
      "Dropping 0/52 states due to lack of tests: \n",
      "Dropping 0/52 states due to lack of positive tests: \n",
      "Dropping 1/52 states in prediction data due to lack of tests: PR\n"
     ]
    },
    {
     "name": "stderr",
     "output_type": "stream",
     "text": [
      "Auto-assigning NUTS sampler...\n"
     ]
    },
    {
     "name": "stderr",
     "output_type": "stream",
     "text": [
      "Initializing NUTS using jitter+adapt_diag...\n"
     ]
    },
    {
     "name": "stderr",
     "output_type": "stream",
     "text": [
      "Sequential sampling (1 chains in 1 job)\n"
     ]
    },
    {
     "name": "stderr",
     "output_type": "stream",
     "text": [
      "NUTS: [tau_logit, sigma, beta, alpha, mu_0]\n"
     ]
    },
    {
     "name": "stderr",
     "output_type": "stream",
     "text": [
      "\r",
      "Sampling chain 0, 0 divergences:   0%|          | 0/1000 [00:00<?, ?it/s]"
     ]
    },
    {
     "name": "stderr",
     "output_type": "stream",
     "text": [
      "\r",
      "Sampling chain 0, 0 divergences:   0%|          | 1/1000 [00:01<19:33,  1.17s/it]"
     ]
    },
    {
     "name": "stderr",
     "output_type": "stream",
     "text": [
      "\r",
      "Sampling chain 0, 0 divergences:   2%|▏         | 16/1000 [00:01<13:31,  1.21it/s]"
     ]
    },
    {
     "name": "stderr",
     "output_type": "stream",
     "text": [
      "\r",
      "Sampling chain 0, 0 divergences:   2%|▏         | 20/1000 [00:01<09:39,  1.69it/s]"
     ]
    },
    {
     "name": "stderr",
     "output_type": "stream",
     "text": [
      "\r",
      "Sampling chain 0, 0 divergences:   2%|▏         | 23/1000 [00:01<06:56,  2.34it/s]"
     ]
    },
    {
     "name": "stderr",
     "output_type": "stream",
     "text": [
      "\r",
      "Sampling chain 0, 0 divergences:   3%|▎         | 26/1000 [00:01<05:03,  3.21it/s]"
     ]
    },
    {
     "name": "stderr",
     "output_type": "stream",
     "text": [
      "\r",
      "Sampling chain 0, 0 divergences:   3%|▎         | 29/1000 [00:01<03:44,  4.33it/s]"
     ]
    },
    {
     "name": "stderr",
     "output_type": "stream",
     "text": [
      "\r",
      "Sampling chain 0, 0 divergences:   3%|▎         | 32/1000 [00:02<02:49,  5.73it/s]"
     ]
    },
    {
     "name": "stderr",
     "output_type": "stream",
     "text": [
      "\r",
      "Sampling chain 0, 0 divergences:   4%|▎         | 35/1000 [00:02<02:10,  7.41it/s]"
     ]
    },
    {
     "name": "stderr",
     "output_type": "stream",
     "text": [
      "\r",
      "Sampling chain 0, 0 divergences:   4%|▍         | 38/1000 [00:02<01:43,  9.32it/s]"
     ]
    },
    {
     "name": "stderr",
     "output_type": "stream",
     "text": [
      "\r",
      "Sampling chain 0, 0 divergences:   4%|▍         | 41/1000 [00:02<01:25, 11.20it/s]"
     ]
    },
    {
     "name": "stderr",
     "output_type": "stream",
     "text": [
      "\r",
      "Sampling chain 0, 0 divergences:   4%|▍         | 44/1000 [00:02<01:12, 13.20it/s]"
     ]
    },
    {
     "name": "stderr",
     "output_type": "stream",
     "text": [
      "\r",
      "Sampling chain 0, 0 divergences:   5%|▍         | 47/1000 [00:02<01:02, 15.20it/s]"
     ]
    },
    {
     "name": "stderr",
     "output_type": "stream",
     "text": [
      "\r",
      "Sampling chain 0, 0 divergences:   5%|▌         | 50/1000 [00:02<00:55, 16.97it/s]"
     ]
    },
    {
     "name": "stderr",
     "output_type": "stream",
     "text": [
      "\r",
      "Sampling chain 0, 0 divergences:   5%|▌         | 53/1000 [00:02<00:51, 18.24it/s]"
     ]
    },
    {
     "name": "stderr",
     "output_type": "stream",
     "text": [
      "\r",
      "Sampling chain 0, 0 divergences:   6%|▌         | 56/1000 [00:03<00:49, 19.13it/s]"
     ]
    },
    {
     "name": "stderr",
     "output_type": "stream",
     "text": [
      "\r",
      "Sampling chain 0, 0 divergences:   6%|▌         | 59/1000 [00:03<00:46, 20.16it/s]"
     ]
    },
    {
     "name": "stderr",
     "output_type": "stream",
     "text": [
      "\r",
      "Sampling chain 0, 0 divergences:   6%|▌         | 62/1000 [00:03<00:44, 21.15it/s]"
     ]
    },
    {
     "name": "stderr",
     "output_type": "stream",
     "text": [
      "\r",
      "Sampling chain 0, 0 divergences:   6%|▋         | 65/1000 [00:03<00:43, 21.49it/s]"
     ]
    },
    {
     "name": "stderr",
     "output_type": "stream",
     "text": [
      "\r",
      "Sampling chain 0, 0 divergences:   7%|▋         | 68/1000 [00:03<00:42, 22.06it/s]"
     ]
    },
    {
     "name": "stderr",
     "output_type": "stream",
     "text": [
      "\r",
      "Sampling chain 0, 0 divergences:   7%|▋         | 71/1000 [00:03<00:41, 22.57it/s]"
     ]
    },
    {
     "name": "stderr",
     "output_type": "stream",
     "text": [
      "\r",
      "Sampling chain 0, 0 divergences:   7%|▋         | 74/1000 [00:03<00:40, 22.65it/s]"
     ]
    },
    {
     "name": "stderr",
     "output_type": "stream",
     "text": [
      "\r",
      "Sampling chain 0, 0 divergences:   8%|▊         | 77/1000 [00:03<00:40, 22.53it/s]"
     ]
    },
    {
     "name": "stderr",
     "output_type": "stream",
     "text": [
      "\r",
      "Sampling chain 0, 0 divergences:   8%|▊         | 80/1000 [00:04<00:40, 22.76it/s]"
     ]
    },
    {
     "name": "stderr",
     "output_type": "stream",
     "text": [
      "\r",
      "Sampling chain 0, 0 divergences:   8%|▊         | 83/1000 [00:04<00:40, 22.86it/s]"
     ]
    },
    {
     "name": "stderr",
     "output_type": "stream",
     "text": [
      "\r",
      "Sampling chain 0, 0 divergences:   9%|▊         | 86/1000 [00:04<00:40, 22.81it/s]"
     ]
    },
    {
     "name": "stderr",
     "output_type": "stream",
     "text": [
      "\r",
      "Sampling chain 0, 0 divergences:   9%|▉         | 89/1000 [00:04<00:40, 22.73it/s]"
     ]
    },
    {
     "name": "stderr",
     "output_type": "stream",
     "text": [
      "\r",
      "Sampling chain 0, 0 divergences:   9%|▉         | 92/1000 [00:04<00:39, 22.89it/s]"
     ]
    },
    {
     "name": "stderr",
     "output_type": "stream",
     "text": [
      "\r",
      "Sampling chain 0, 0 divergences:  10%|▉         | 95/1000 [00:04<00:39, 22.87it/s]"
     ]
    },
    {
     "name": "stderr",
     "output_type": "stream",
     "text": [
      "\r",
      "Sampling chain 0, 0 divergences:  10%|▉         | 98/1000 [00:04<00:39, 22.97it/s]"
     ]
    },
    {
     "name": "stderr",
     "output_type": "stream",
     "text": [
      "\r",
      "Sampling chain 0, 0 divergences:  10%|█         | 101/1000 [00:05<00:39, 22.83it/s]"
     ]
    },
    {
     "name": "stderr",
     "output_type": "stream",
     "text": [
      "\r",
      "Sampling chain 0, 0 divergences:  10%|█         | 104/1000 [00:05<00:39, 22.95it/s]"
     ]
    },
    {
     "name": "stderr",
     "output_type": "stream",
     "text": [
      "\r",
      "Sampling chain 0, 0 divergences:  11%|█         | 107/1000 [00:05<00:38, 23.07it/s]"
     ]
    },
    {
     "name": "stderr",
     "output_type": "stream",
     "text": [
      "\r",
      "Sampling chain 0, 0 divergences:  11%|█         | 110/1000 [00:05<00:39, 22.79it/s]"
     ]
    },
    {
     "name": "stderr",
     "output_type": "stream",
     "text": [
      "\r",
      "Sampling chain 0, 0 divergences:  11%|█▏        | 113/1000 [00:05<00:38, 22.97it/s]"
     ]
    },
    {
     "name": "stderr",
     "output_type": "stream",
     "text": [
      "\r",
      "Sampling chain 0, 0 divergences:  12%|█▏        | 116/1000 [00:05<00:38, 22.98it/s]"
     ]
    },
    {
     "name": "stderr",
     "output_type": "stream",
     "text": [
      "\r",
      "Sampling chain 0, 0 divergences:  12%|█▏        | 119/1000 [00:05<00:38, 23.10it/s]"
     ]
    },
    {
     "name": "stderr",
     "output_type": "stream",
     "text": [
      "\r",
      "Sampling chain 0, 0 divergences:  12%|█▏        | 122/1000 [00:05<00:37, 23.13it/s]"
     ]
    },
    {
     "name": "stderr",
     "output_type": "stream",
     "text": [
      "\r",
      "Sampling chain 0, 0 divergences:  12%|█▎        | 125/1000 [00:06<00:37, 23.26it/s]"
     ]
    },
    {
     "name": "stderr",
     "output_type": "stream",
     "text": [
      "\r",
      "Sampling chain 0, 0 divergences:  13%|█▎        | 128/1000 [00:06<00:37, 23.38it/s]"
     ]
    },
    {
     "name": "stderr",
     "output_type": "stream",
     "text": [
      "\r",
      "Sampling chain 0, 0 divergences:  13%|█▎        | 131/1000 [00:06<00:37, 23.33it/s]"
     ]
    },
    {
     "name": "stderr",
     "output_type": "stream",
     "text": [
      "\r",
      "Sampling chain 0, 0 divergences:  13%|█▎        | 134/1000 [00:06<00:38, 22.70it/s]"
     ]
    },
    {
     "name": "stderr",
     "output_type": "stream",
     "text": [
      "\r",
      "Sampling chain 0, 0 divergences:  14%|█▎        | 137/1000 [00:06<00:37, 22.87it/s]"
     ]
    },
    {
     "name": "stderr",
     "output_type": "stream",
     "text": [
      "\r",
      "Sampling chain 0, 0 divergences:  14%|█▍        | 140/1000 [00:06<00:37, 23.05it/s]"
     ]
    },
    {
     "name": "stderr",
     "output_type": "stream",
     "text": [
      "\r",
      "Sampling chain 0, 0 divergences:  14%|█▍        | 143/1000 [00:06<00:36, 23.27it/s]"
     ]
    },
    {
     "name": "stderr",
     "output_type": "stream",
     "text": [
      "\r",
      "Sampling chain 0, 0 divergences:  15%|█▍        | 146/1000 [00:06<00:37, 23.02it/s]"
     ]
    },
    {
     "name": "stderr",
     "output_type": "stream",
     "text": [
      "\r",
      "Sampling chain 0, 0 divergences:  15%|█▍        | 149/1000 [00:07<00:37, 22.92it/s]"
     ]
    },
    {
     "name": "stderr",
     "output_type": "stream",
     "text": [
      "\r",
      "Sampling chain 0, 0 divergences:  15%|█▌        | 152/1000 [00:07<00:36, 23.13it/s]"
     ]
    },
    {
     "name": "stderr",
     "output_type": "stream",
     "text": [
      "\r",
      "Sampling chain 0, 0 divergences:  16%|█▌        | 155/1000 [00:07<00:36, 23.16it/s]"
     ]
    },
    {
     "name": "stderr",
     "output_type": "stream",
     "text": [
      "\r",
      "Sampling chain 0, 0 divergences:  16%|█▌        | 158/1000 [00:07<00:36, 23.06it/s]"
     ]
    },
    {
     "name": "stderr",
     "output_type": "stream",
     "text": [
      "\r",
      "Sampling chain 0, 0 divergences:  16%|█▌        | 161/1000 [00:07<00:36, 23.25it/s]"
     ]
    },
    {
     "name": "stderr",
     "output_type": "stream",
     "text": [
      "\r",
      "Sampling chain 0, 0 divergences:  16%|█▋        | 164/1000 [00:07<00:36, 22.76it/s]"
     ]
    },
    {
     "name": "stderr",
     "output_type": "stream",
     "text": [
      "\r",
      "Sampling chain 0, 0 divergences:  17%|█▋        | 167/1000 [00:07<00:37, 22.40it/s]"
     ]
    },
    {
     "name": "stderr",
     "output_type": "stream",
     "text": [
      "\r",
      "Sampling chain 0, 0 divergences:  17%|█▋        | 170/1000 [00:08<00:37, 22.29it/s]"
     ]
    },
    {
     "name": "stderr",
     "output_type": "stream",
     "text": [
      "\r",
      "Sampling chain 0, 0 divergences:  17%|█▋        | 173/1000 [00:08<00:36, 22.52it/s]"
     ]
    },
    {
     "name": "stderr",
     "output_type": "stream",
     "text": [
      "\r",
      "Sampling chain 0, 0 divergences:  18%|█▊        | 176/1000 [00:08<00:36, 22.79it/s]"
     ]
    },
    {
     "name": "stderr",
     "output_type": "stream",
     "text": [
      "\r",
      "Sampling chain 0, 0 divergences:  18%|█▊        | 179/1000 [00:08<00:36, 22.63it/s]"
     ]
    },
    {
     "name": "stderr",
     "output_type": "stream",
     "text": [
      "\r",
      "Sampling chain 0, 0 divergences:  18%|█▊        | 182/1000 [00:08<00:36, 22.15it/s]"
     ]
    },
    {
     "name": "stderr",
     "output_type": "stream",
     "text": [
      "\r",
      "Sampling chain 0, 0 divergences:  18%|█▊        | 185/1000 [00:08<00:36, 22.53it/s]"
     ]
    },
    {
     "name": "stderr",
     "output_type": "stream",
     "text": [
      "\r",
      "Sampling chain 0, 0 divergences:  19%|█▉        | 188/1000 [00:08<00:35, 22.74it/s]"
     ]
    },
    {
     "name": "stderr",
     "output_type": "stream",
     "text": [
      "\r",
      "Sampling chain 0, 0 divergences:  19%|█▉        | 191/1000 [00:08<00:37, 21.31it/s]"
     ]
    },
    {
     "name": "stderr",
     "output_type": "stream",
     "text": [
      "\r",
      "Sampling chain 0, 0 divergences:  19%|█▉        | 194/1000 [00:09<00:38, 21.07it/s]"
     ]
    },
    {
     "name": "stderr",
     "output_type": "stream",
     "text": [
      "\r",
      "Sampling chain 0, 0 divergences:  20%|█▉        | 197/1000 [00:09<00:37, 21.70it/s]"
     ]
    },
    {
     "name": "stderr",
     "output_type": "stream",
     "text": [
      "\r",
      "Sampling chain 0, 0 divergences:  20%|██        | 200/1000 [00:09<00:36, 21.93it/s]"
     ]
    },
    {
     "name": "stderr",
     "output_type": "stream",
     "text": [
      "\r",
      "Sampling chain 0, 0 divergences:  20%|██        | 203/1000 [00:09<01:05, 12.13it/s]"
     ]
    },
    {
     "name": "stderr",
     "output_type": "stream",
     "text": [
      "\r",
      "Sampling chain 0, 0 divergences:  20%|██        | 205/1000 [00:10<01:25,  9.34it/s]"
     ]
    },
    {
     "name": "stderr",
     "output_type": "stream",
     "text": [
      "\r",
      "Sampling chain 0, 0 divergences:  21%|██        | 207/1000 [00:10<01:40,  7.92it/s]"
     ]
    },
    {
     "name": "stderr",
     "output_type": "stream",
     "text": [
      "\r",
      "Sampling chain 0, 0 divergences:  21%|██        | 209/1000 [00:10<01:53,  7.00it/s]"
     ]
    },
    {
     "name": "stderr",
     "output_type": "stream",
     "text": [
      "\r",
      "Sampling chain 0, 0 divergences:  21%|██        | 210/1000 [00:11<01:58,  6.67it/s]"
     ]
    },
    {
     "name": "stderr",
     "output_type": "stream",
     "text": [
      "\r",
      "Sampling chain 0, 0 divergences:  21%|██        | 211/1000 [00:11<02:02,  6.43it/s]"
     ]
    },
    {
     "name": "stderr",
     "output_type": "stream",
     "text": [
      "\r",
      "Sampling chain 0, 0 divergences:  21%|██        | 212/1000 [00:11<02:08,  6.14it/s]"
     ]
    },
    {
     "name": "stderr",
     "output_type": "stream",
     "text": [
      "\r",
      "Sampling chain 0, 0 divergences:  21%|██▏       | 213/1000 [00:11<02:09,  6.06it/s]"
     ]
    },
    {
     "name": "stderr",
     "output_type": "stream",
     "text": [
      "\r",
      "Sampling chain 0, 0 divergences:  21%|██▏       | 214/1000 [00:11<02:11,  5.99it/s]"
     ]
    },
    {
     "name": "stderr",
     "output_type": "stream",
     "text": [
      "\r",
      "Sampling chain 0, 0 divergences:  22%|██▏       | 215/1000 [00:11<02:10,  6.00it/s]"
     ]
    },
    {
     "name": "stderr",
     "output_type": "stream",
     "text": [
      "\r",
      "Sampling chain 0, 0 divergences:  22%|██▏       | 216/1000 [00:12<02:10,  5.99it/s]"
     ]
    },
    {
     "name": "stderr",
     "output_type": "stream",
     "text": [
      "\r",
      "Sampling chain 0, 0 divergences:  22%|██▏       | 217/1000 [00:12<02:10,  5.99it/s]"
     ]
    },
    {
     "name": "stderr",
     "output_type": "stream",
     "text": [
      "\r",
      "Sampling chain 0, 0 divergences:  22%|██▏       | 218/1000 [00:12<02:11,  5.96it/s]"
     ]
    },
    {
     "name": "stderr",
     "output_type": "stream",
     "text": [
      "\r",
      "Sampling chain 0, 0 divergences:  22%|██▏       | 219/1000 [00:12<02:13,  5.86it/s]"
     ]
    },
    {
     "name": "stderr",
     "output_type": "stream",
     "text": [
      "\r",
      "Sampling chain 0, 0 divergences:  22%|██▏       | 220/1000 [00:12<02:12,  5.90it/s]"
     ]
    },
    {
     "name": "stderr",
     "output_type": "stream",
     "text": [
      "\r",
      "Sampling chain 0, 0 divergences:  22%|██▏       | 221/1000 [00:12<02:11,  5.90it/s]"
     ]
    },
    {
     "name": "stderr",
     "output_type": "stream",
     "text": [
      "\r",
      "Sampling chain 0, 0 divergences:  22%|██▏       | 222/1000 [00:13<02:11,  5.91it/s]"
     ]
    },
    {
     "name": "stderr",
     "output_type": "stream",
     "text": [
      "\r",
      "Sampling chain 0, 0 divergences:  22%|██▏       | 223/1000 [00:13<02:11,  5.90it/s]"
     ]
    },
    {
     "name": "stderr",
     "output_type": "stream",
     "text": [
      "\r",
      "Sampling chain 0, 0 divergences:  22%|██▏       | 224/1000 [00:13<02:10,  5.94it/s]"
     ]
    },
    {
     "name": "stderr",
     "output_type": "stream",
     "text": [
      "\r",
      "Sampling chain 0, 0 divergences:  22%|██▎       | 225/1000 [00:13<02:09,  6.00it/s]"
     ]
    },
    {
     "name": "stderr",
     "output_type": "stream",
     "text": [
      "\r",
      "Sampling chain 0, 0 divergences:  23%|██▎       | 226/1000 [00:13<02:09,  5.99it/s]"
     ]
    },
    {
     "name": "stderr",
     "output_type": "stream",
     "text": [
      "\r",
      "Sampling chain 0, 0 divergences:  23%|██▎       | 227/1000 [00:13<02:10,  5.93it/s]"
     ]
    },
    {
     "name": "stderr",
     "output_type": "stream",
     "text": [
      "\r",
      "Sampling chain 0, 0 divergences:  23%|██▎       | 228/1000 [00:14<02:10,  5.92it/s]"
     ]
    },
    {
     "name": "stderr",
     "output_type": "stream",
     "text": [
      "\r",
      "Sampling chain 0, 0 divergences:  23%|██▎       | 229/1000 [00:14<02:09,  5.93it/s]"
     ]
    },
    {
     "name": "stderr",
     "output_type": "stream",
     "text": [
      "\r",
      "Sampling chain 0, 0 divergences:  23%|██▎       | 230/1000 [00:14<02:09,  5.94it/s]"
     ]
    },
    {
     "name": "stderr",
     "output_type": "stream",
     "text": [
      "\r",
      "Sampling chain 0, 0 divergences:  23%|██▎       | 231/1000 [00:14<02:09,  5.92it/s]"
     ]
    },
    {
     "name": "stderr",
     "output_type": "stream",
     "text": [
      "\r",
      "Sampling chain 0, 0 divergences:  23%|██▎       | 232/1000 [00:14<02:11,  5.85it/s]"
     ]
    },
    {
     "name": "stderr",
     "output_type": "stream",
     "text": [
      "\r",
      "Sampling chain 0, 0 divergences:  23%|██▎       | 233/1000 [00:15<02:10,  5.87it/s]"
     ]
    },
    {
     "name": "stderr",
     "output_type": "stream",
     "text": [
      "\r",
      "Sampling chain 0, 0 divergences:  23%|██▎       | 234/1000 [00:15<02:09,  5.93it/s]"
     ]
    },
    {
     "name": "stderr",
     "output_type": "stream",
     "text": [
      "\r",
      "Sampling chain 0, 0 divergences:  24%|██▎       | 235/1000 [00:15<02:08,  5.93it/s]"
     ]
    },
    {
     "name": "stderr",
     "output_type": "stream",
     "text": [
      "\r",
      "Sampling chain 0, 0 divergences:  24%|██▎       | 236/1000 [00:15<02:09,  5.91it/s]"
     ]
    },
    {
     "name": "stderr",
     "output_type": "stream",
     "text": [
      "\r",
      "Sampling chain 0, 0 divergences:  24%|██▎       | 237/1000 [00:15<02:08,  5.93it/s]"
     ]
    },
    {
     "name": "stderr",
     "output_type": "stream",
     "text": [
      "\r",
      "Sampling chain 0, 0 divergences:  24%|██▍       | 238/1000 [00:15<02:08,  5.95it/s]"
     ]
    },
    {
     "name": "stderr",
     "output_type": "stream",
     "text": [
      "\r",
      "Sampling chain 0, 0 divergences:  24%|██▍       | 239/1000 [00:16<02:07,  5.95it/s]"
     ]
    },
    {
     "name": "stderr",
     "output_type": "stream",
     "text": [
      "\r",
      "Sampling chain 0, 0 divergences:  24%|██▍       | 240/1000 [00:16<02:09,  5.87it/s]"
     ]
    },
    {
     "name": "stderr",
     "output_type": "stream",
     "text": [
      "\r",
      "Sampling chain 0, 0 divergences:  24%|██▍       | 241/1000 [00:16<02:08,  5.89it/s]"
     ]
    },
    {
     "name": "stderr",
     "output_type": "stream",
     "text": [
      "\r",
      "Sampling chain 0, 0 divergences:  24%|██▍       | 242/1000 [00:16<02:08,  5.88it/s]"
     ]
    },
    {
     "name": "stderr",
     "output_type": "stream",
     "text": [
      "\r",
      "Sampling chain 0, 0 divergences:  24%|██▍       | 243/1000 [00:16<02:08,  5.90it/s]"
     ]
    },
    {
     "name": "stderr",
     "output_type": "stream",
     "text": [
      "\r",
      "Sampling chain 0, 0 divergences:  24%|██▍       | 244/1000 [00:16<02:08,  5.86it/s]"
     ]
    },
    {
     "name": "stderr",
     "output_type": "stream",
     "text": [
      "\r",
      "Sampling chain 0, 0 divergences:  24%|██▍       | 245/1000 [00:17<02:08,  5.89it/s]"
     ]
    },
    {
     "name": "stderr",
     "output_type": "stream",
     "text": [
      "\r",
      "Sampling chain 0, 0 divergences:  25%|██▍       | 246/1000 [00:17<02:09,  5.84it/s]"
     ]
    },
    {
     "name": "stderr",
     "output_type": "stream",
     "text": [
      "\r",
      "Sampling chain 0, 0 divergences:  25%|██▍       | 247/1000 [00:17<02:09,  5.84it/s]"
     ]
    },
    {
     "name": "stderr",
     "output_type": "stream",
     "text": [
      "\r",
      "Sampling chain 0, 0 divergences:  25%|██▍       | 248/1000 [00:17<02:07,  5.89it/s]"
     ]
    },
    {
     "name": "stderr",
     "output_type": "stream",
     "text": [
      "\r",
      "Sampling chain 0, 0 divergences:  25%|██▍       | 249/1000 [00:17<02:09,  5.80it/s]"
     ]
    },
    {
     "name": "stderr",
     "output_type": "stream",
     "text": [
      "\r",
      "Sampling chain 0, 0 divergences:  25%|██▌       | 250/1000 [00:17<02:08,  5.86it/s]"
     ]
    },
    {
     "name": "stderr",
     "output_type": "stream",
     "text": [
      "\r",
      "Sampling chain 0, 0 divergences:  25%|██▌       | 251/1000 [00:18<02:06,  5.90it/s]"
     ]
    },
    {
     "name": "stderr",
     "output_type": "stream",
     "text": [
      "\r",
      "Sampling chain 0, 0 divergences:  25%|██▌       | 252/1000 [00:18<02:06,  5.89it/s]"
     ]
    },
    {
     "name": "stderr",
     "output_type": "stream",
     "text": [
      "\r",
      "Sampling chain 0, 0 divergences:  25%|██▌       | 253/1000 [00:18<02:07,  5.88it/s]"
     ]
    },
    {
     "name": "stderr",
     "output_type": "stream",
     "text": [
      "\r",
      "Sampling chain 0, 0 divergences:  25%|██▌       | 254/1000 [00:18<02:06,  5.90it/s]"
     ]
    },
    {
     "name": "stderr",
     "output_type": "stream",
     "text": [
      "\r",
      "Sampling chain 0, 0 divergences:  26%|██▌       | 255/1000 [00:18<02:06,  5.89it/s]"
     ]
    },
    {
     "name": "stderr",
     "output_type": "stream",
     "text": [
      "\r",
      "Sampling chain 0, 0 divergences:  26%|██▌       | 256/1000 [00:18<02:06,  5.89it/s]"
     ]
    },
    {
     "name": "stderr",
     "output_type": "stream",
     "text": [
      "\r",
      "Sampling chain 0, 0 divergences:  26%|██▌       | 257/1000 [00:19<02:09,  5.72it/s]"
     ]
    },
    {
     "name": "stderr",
     "output_type": "stream",
     "text": [
      "\r",
      "Sampling chain 0, 0 divergences:  26%|██▌       | 258/1000 [00:19<02:08,  5.78it/s]"
     ]
    },
    {
     "name": "stderr",
     "output_type": "stream",
     "text": [
      "\r",
      "Sampling chain 0, 0 divergences:  26%|██▌       | 259/1000 [00:19<02:08,  5.79it/s]"
     ]
    },
    {
     "name": "stderr",
     "output_type": "stream",
     "text": [
      "\r",
      "Sampling chain 0, 0 divergences:  26%|██▌       | 260/1000 [00:19<02:06,  5.85it/s]"
     ]
    },
    {
     "name": "stderr",
     "output_type": "stream",
     "text": [
      "\r",
      "Sampling chain 0, 0 divergences:  26%|██▌       | 261/1000 [00:19<02:07,  5.81it/s]"
     ]
    },
    {
     "name": "stderr",
     "output_type": "stream",
     "text": [
      "\r",
      "Sampling chain 0, 0 divergences:  26%|██▌       | 262/1000 [00:19<02:09,  5.71it/s]"
     ]
    },
    {
     "name": "stderr",
     "output_type": "stream",
     "text": [
      "\r",
      "Sampling chain 0, 0 divergences:  26%|██▋       | 263/1000 [00:20<02:08,  5.75it/s]"
     ]
    },
    {
     "name": "stderr",
     "output_type": "stream",
     "text": [
      "\r",
      "Sampling chain 0, 0 divergences:  26%|██▋       | 264/1000 [00:20<02:07,  5.79it/s]"
     ]
    },
    {
     "name": "stderr",
     "output_type": "stream",
     "text": [
      "\r",
      "Sampling chain 0, 0 divergences:  26%|██▋       | 265/1000 [00:20<02:06,  5.79it/s]"
     ]
    },
    {
     "name": "stderr",
     "output_type": "stream",
     "text": [
      "\r",
      "Sampling chain 0, 0 divergences:  27%|██▋       | 266/1000 [00:20<02:06,  5.80it/s]"
     ]
    },
    {
     "name": "stderr",
     "output_type": "stream",
     "text": [
      "\r",
      "Sampling chain 0, 0 divergences:  27%|██▋       | 267/1000 [00:20<02:06,  5.81it/s]"
     ]
    },
    {
     "name": "stderr",
     "output_type": "stream",
     "text": [
      "\r",
      "Sampling chain 0, 0 divergences:  27%|██▋       | 268/1000 [00:20<02:05,  5.85it/s]"
     ]
    },
    {
     "name": "stderr",
     "output_type": "stream",
     "text": [
      "\r",
      "Sampling chain 0, 0 divergences:  27%|██▋       | 269/1000 [00:21<02:04,  5.89it/s]"
     ]
    },
    {
     "name": "stderr",
     "output_type": "stream",
     "text": [
      "\r",
      "Sampling chain 0, 0 divergences:  27%|██▋       | 270/1000 [00:21<02:03,  5.89it/s]"
     ]
    },
    {
     "name": "stderr",
     "output_type": "stream",
     "text": [
      "\r",
      "Sampling chain 0, 0 divergences:  27%|██▋       | 271/1000 [00:21<02:03,  5.90it/s]"
     ]
    },
    {
     "name": "stderr",
     "output_type": "stream",
     "text": [
      "\r",
      "Sampling chain 0, 0 divergences:  27%|██▋       | 272/1000 [00:21<02:02,  5.92it/s]"
     ]
    },
    {
     "name": "stderr",
     "output_type": "stream",
     "text": [
      "\r",
      "Sampling chain 0, 0 divergences:  27%|██▋       | 273/1000 [00:21<02:02,  5.92it/s]"
     ]
    },
    {
     "name": "stderr",
     "output_type": "stream",
     "text": [
      "\r",
      "Sampling chain 0, 0 divergences:  27%|██▋       | 274/1000 [00:21<02:02,  5.92it/s]"
     ]
    },
    {
     "name": "stderr",
     "output_type": "stream",
     "text": [
      "\r",
      "Sampling chain 0, 0 divergences:  28%|██▊       | 275/1000 [00:22<02:02,  5.93it/s]"
     ]
    },
    {
     "name": "stderr",
     "output_type": "stream",
     "text": [
      "\r",
      "Sampling chain 0, 0 divergences:  28%|██▊       | 276/1000 [00:22<02:01,  5.94it/s]"
     ]
    },
    {
     "name": "stderr",
     "output_type": "stream",
     "text": [
      "\r",
      "Sampling chain 0, 0 divergences:  28%|██▊       | 277/1000 [00:22<02:02,  5.88it/s]"
     ]
    },
    {
     "name": "stderr",
     "output_type": "stream",
     "text": [
      "\r",
      "Sampling chain 0, 0 divergences:  28%|██▊       | 278/1000 [00:22<02:02,  5.91it/s]"
     ]
    },
    {
     "name": "stderr",
     "output_type": "stream",
     "text": [
      "\r",
      "Sampling chain 0, 0 divergences:  28%|██▊       | 279/1000 [00:22<02:02,  5.90it/s]"
     ]
    },
    {
     "name": "stderr",
     "output_type": "stream",
     "text": [
      "\r",
      "Sampling chain 0, 0 divergences:  28%|██▊       | 280/1000 [00:23<02:01,  5.91it/s]"
     ]
    },
    {
     "name": "stderr",
     "output_type": "stream",
     "text": [
      "\r",
      "Sampling chain 0, 0 divergences:  28%|██▊       | 281/1000 [00:23<02:01,  5.92it/s]"
     ]
    },
    {
     "name": "stderr",
     "output_type": "stream",
     "text": [
      "\r",
      "Sampling chain 0, 0 divergences:  28%|██▊       | 282/1000 [00:23<02:00,  5.95it/s]"
     ]
    },
    {
     "name": "stderr",
     "output_type": "stream",
     "text": [
      "\r",
      "Sampling chain 0, 0 divergences:  28%|██▊       | 283/1000 [00:23<02:00,  5.94it/s]"
     ]
    },
    {
     "name": "stderr",
     "output_type": "stream",
     "text": [
      "\r",
      "Sampling chain 0, 0 divergences:  28%|██▊       | 284/1000 [00:23<01:59,  5.99it/s]"
     ]
    },
    {
     "name": "stderr",
     "output_type": "stream",
     "text": [
      "\r",
      "Sampling chain 0, 0 divergences:  28%|██▊       | 285/1000 [00:23<01:59,  5.96it/s]"
     ]
    },
    {
     "name": "stderr",
     "output_type": "stream",
     "text": [
      "\r",
      "Sampling chain 0, 0 divergences:  29%|██▊       | 286/1000 [00:24<01:58,  6.01it/s]"
     ]
    },
    {
     "name": "stderr",
     "output_type": "stream",
     "text": [
      "\r",
      "Sampling chain 0, 0 divergences:  29%|██▊       | 287/1000 [00:24<01:58,  6.00it/s]"
     ]
    },
    {
     "name": "stderr",
     "output_type": "stream",
     "text": [
      "\r",
      "Sampling chain 0, 0 divergences:  29%|██▉       | 288/1000 [00:24<01:58,  5.98it/s]"
     ]
    },
    {
     "name": "stderr",
     "output_type": "stream",
     "text": [
      "\r",
      "Sampling chain 0, 0 divergences:  29%|██▉       | 289/1000 [00:24<01:58,  5.98it/s]"
     ]
    },
    {
     "name": "stderr",
     "output_type": "stream",
     "text": [
      "\r",
      "Sampling chain 0, 0 divergences:  29%|██▉       | 290/1000 [00:24<02:00,  5.91it/s]"
     ]
    },
    {
     "name": "stderr",
     "output_type": "stream",
     "text": [
      "\r",
      "Sampling chain 0, 0 divergences:  29%|██▉       | 291/1000 [00:24<02:00,  5.88it/s]"
     ]
    },
    {
     "name": "stderr",
     "output_type": "stream",
     "text": [
      "\r",
      "Sampling chain 0, 0 divergences:  29%|██▉       | 292/1000 [00:25<02:00,  5.89it/s]"
     ]
    },
    {
     "name": "stderr",
     "output_type": "stream",
     "text": [
      "\r",
      "Sampling chain 0, 0 divergences:  29%|██▉       | 293/1000 [00:25<02:00,  5.89it/s]"
     ]
    },
    {
     "name": "stderr",
     "output_type": "stream",
     "text": [
      "\r",
      "Sampling chain 0, 0 divergences:  29%|██▉       | 294/1000 [00:25<02:00,  5.86it/s]"
     ]
    },
    {
     "name": "stderr",
     "output_type": "stream",
     "text": [
      "\r",
      "Sampling chain 0, 0 divergences:  30%|██▉       | 295/1000 [00:25<02:00,  5.84it/s]"
     ]
    },
    {
     "name": "stderr",
     "output_type": "stream",
     "text": [
      "\r",
      "Sampling chain 0, 0 divergences:  30%|██▉       | 296/1000 [00:25<01:59,  5.89it/s]"
     ]
    },
    {
     "name": "stderr",
     "output_type": "stream",
     "text": [
      "\r",
      "Sampling chain 0, 0 divergences:  30%|██▉       | 297/1000 [00:25<02:00,  5.83it/s]"
     ]
    },
    {
     "name": "stderr",
     "output_type": "stream",
     "text": [
      "\r",
      "Sampling chain 0, 0 divergences:  30%|██▉       | 298/1000 [00:26<01:59,  5.87it/s]"
     ]
    },
    {
     "name": "stderr",
     "output_type": "stream",
     "text": [
      "\r",
      "Sampling chain 0, 0 divergences:  30%|██▉       | 299/1000 [00:26<01:59,  5.86it/s]"
     ]
    },
    {
     "name": "stderr",
     "output_type": "stream",
     "text": [
      "\r",
      "Sampling chain 0, 0 divergences:  30%|███       | 300/1000 [00:26<01:59,  5.87it/s]"
     ]
    },
    {
     "name": "stderr",
     "output_type": "stream",
     "text": [
      "\r",
      "Sampling chain 0, 0 divergences:  30%|███       | 301/1000 [00:26<02:00,  5.81it/s]"
     ]
    },
    {
     "name": "stderr",
     "output_type": "stream",
     "text": [
      "\r",
      "Sampling chain 0, 0 divergences:  30%|███       | 302/1000 [00:26<01:58,  5.87it/s]"
     ]
    },
    {
     "name": "stderr",
     "output_type": "stream",
     "text": [
      "\r",
      "Sampling chain 0, 0 divergences:  30%|███       | 303/1000 [00:26<01:59,  5.85it/s]"
     ]
    },
    {
     "name": "stderr",
     "output_type": "stream",
     "text": [
      "\r",
      "Sampling chain 0, 0 divergences:  30%|███       | 304/1000 [00:27<02:00,  5.80it/s]"
     ]
    },
    {
     "name": "stderr",
     "output_type": "stream",
     "text": [
      "\r",
      "Sampling chain 0, 0 divergences:  30%|███       | 305/1000 [00:27<01:58,  5.85it/s]"
     ]
    },
    {
     "name": "stderr",
     "output_type": "stream",
     "text": [
      "\r",
      "Sampling chain 0, 0 divergences:  31%|███       | 306/1000 [00:27<02:00,  5.74it/s]"
     ]
    },
    {
     "name": "stderr",
     "output_type": "stream",
     "text": [
      "\r",
      "Sampling chain 0, 0 divergences:  31%|███       | 307/1000 [00:27<01:58,  5.83it/s]"
     ]
    },
    {
     "name": "stderr",
     "output_type": "stream",
     "text": [
      "\r",
      "Sampling chain 0, 0 divergences:  31%|███       | 308/1000 [00:27<01:57,  5.87it/s]"
     ]
    },
    {
     "name": "stderr",
     "output_type": "stream",
     "text": [
      "\r",
      "Sampling chain 0, 0 divergences:  31%|███       | 309/1000 [00:27<01:57,  5.88it/s]"
     ]
    },
    {
     "name": "stderr",
     "output_type": "stream",
     "text": [
      "\r",
      "Sampling chain 0, 0 divergences:  31%|███       | 310/1000 [00:28<01:57,  5.87it/s]"
     ]
    },
    {
     "name": "stderr",
     "output_type": "stream",
     "text": [
      "\r",
      "Sampling chain 0, 0 divergences:  31%|███       | 311/1000 [00:28<01:58,  5.81it/s]"
     ]
    },
    {
     "name": "stderr",
     "output_type": "stream",
     "text": [
      "\r",
      "Sampling chain 0, 0 divergences:  31%|███       | 312/1000 [00:28<01:59,  5.76it/s]"
     ]
    },
    {
     "name": "stderr",
     "output_type": "stream",
     "text": [
      "\r",
      "Sampling chain 0, 0 divergences:  31%|███▏      | 313/1000 [00:28<01:59,  5.77it/s]"
     ]
    },
    {
     "name": "stderr",
     "output_type": "stream",
     "text": [
      "\r",
      "Sampling chain 0, 0 divergences:  31%|███▏      | 314/1000 [00:28<01:59,  5.76it/s]"
     ]
    },
    {
     "name": "stderr",
     "output_type": "stream",
     "text": [
      "\r",
      "Sampling chain 0, 0 divergences:  32%|███▏      | 315/1000 [00:28<01:57,  5.83it/s]"
     ]
    },
    {
     "name": "stderr",
     "output_type": "stream",
     "text": [
      "\r",
      "Sampling chain 0, 0 divergences:  32%|███▏      | 316/1000 [00:29<01:57,  5.83it/s]"
     ]
    },
    {
     "name": "stderr",
     "output_type": "stream",
     "text": [
      "\r",
      "Sampling chain 0, 0 divergences:  32%|███▏      | 317/1000 [00:29<01:56,  5.85it/s]"
     ]
    },
    {
     "name": "stderr",
     "output_type": "stream",
     "text": [
      "\r",
      "Sampling chain 0, 0 divergences:  32%|███▏      | 318/1000 [00:29<01:56,  5.84it/s]"
     ]
    },
    {
     "name": "stderr",
     "output_type": "stream",
     "text": [
      "\r",
      "Sampling chain 0, 0 divergences:  32%|███▏      | 319/1000 [00:29<01:55,  5.90it/s]"
     ]
    },
    {
     "name": "stderr",
     "output_type": "stream",
     "text": [
      "\r",
      "Sampling chain 0, 0 divergences:  32%|███▏      | 320/1000 [00:29<01:54,  5.92it/s]"
     ]
    },
    {
     "name": "stderr",
     "output_type": "stream",
     "text": [
      "\r",
      "Sampling chain 0, 0 divergences:  32%|███▏      | 321/1000 [00:30<01:57,  5.80it/s]"
     ]
    },
    {
     "name": "stderr",
     "output_type": "stream",
     "text": [
      "\r",
      "Sampling chain 0, 0 divergences:  32%|███▏      | 322/1000 [00:30<01:57,  5.79it/s]"
     ]
    },
    {
     "name": "stderr",
     "output_type": "stream",
     "text": [
      "\r",
      "Sampling chain 0, 0 divergences:  32%|███▏      | 323/1000 [00:30<01:56,  5.80it/s]"
     ]
    },
    {
     "name": "stderr",
     "output_type": "stream",
     "text": [
      "\r",
      "Sampling chain 0, 0 divergences:  32%|███▏      | 324/1000 [00:30<01:56,  5.81it/s]"
     ]
    },
    {
     "name": "stderr",
     "output_type": "stream",
     "text": [
      "\r",
      "Sampling chain 0, 0 divergences:  32%|███▎      | 325/1000 [00:30<01:57,  5.74it/s]"
     ]
    },
    {
     "name": "stderr",
     "output_type": "stream",
     "text": [
      "\r",
      "Sampling chain 0, 0 divergences:  33%|███▎      | 326/1000 [00:30<01:55,  5.81it/s]"
     ]
    },
    {
     "name": "stderr",
     "output_type": "stream",
     "text": [
      "\r",
      "Sampling chain 0, 0 divergences:  33%|███▎      | 327/1000 [00:31<01:54,  5.86it/s]"
     ]
    },
    {
     "name": "stderr",
     "output_type": "stream",
     "text": [
      "\r",
      "Sampling chain 0, 0 divergences:  33%|███▎      | 328/1000 [00:31<01:53,  5.90it/s]"
     ]
    },
    {
     "name": "stderr",
     "output_type": "stream",
     "text": [
      "\r",
      "Sampling chain 0, 0 divergences:  33%|███▎      | 329/1000 [00:31<01:53,  5.90it/s]"
     ]
    },
    {
     "name": "stderr",
     "output_type": "stream",
     "text": [
      "\r",
      "Sampling chain 0, 0 divergences:  33%|███▎      | 330/1000 [00:31<01:54,  5.86it/s]"
     ]
    },
    {
     "name": "stderr",
     "output_type": "stream",
     "text": [
      "\r",
      "Sampling chain 0, 0 divergences:  33%|███▎      | 331/1000 [00:31<01:53,  5.88it/s]"
     ]
    },
    {
     "name": "stderr",
     "output_type": "stream",
     "text": [
      "\r",
      "Sampling chain 0, 0 divergences:  33%|███▎      | 332/1000 [00:31<01:53,  5.87it/s]"
     ]
    },
    {
     "name": "stderr",
     "output_type": "stream",
     "text": [
      "\r",
      "Sampling chain 0, 0 divergences:  33%|███▎      | 333/1000 [00:32<01:53,  5.90it/s]"
     ]
    },
    {
     "name": "stderr",
     "output_type": "stream",
     "text": [
      "\r",
      "Sampling chain 0, 0 divergences:  33%|███▎      | 334/1000 [00:32<01:52,  5.93it/s]"
     ]
    },
    {
     "name": "stderr",
     "output_type": "stream",
     "text": [
      "\r",
      "Sampling chain 0, 0 divergences:  34%|███▎      | 335/1000 [00:32<01:51,  5.96it/s]"
     ]
    },
    {
     "name": "stderr",
     "output_type": "stream",
     "text": [
      "\r",
      "Sampling chain 0, 0 divergences:  34%|███▎      | 336/1000 [00:32<01:51,  5.97it/s]"
     ]
    },
    {
     "name": "stderr",
     "output_type": "stream",
     "text": [
      "\r",
      "Sampling chain 0, 0 divergences:  34%|███▎      | 337/1000 [00:32<01:50,  5.98it/s]"
     ]
    },
    {
     "name": "stderr",
     "output_type": "stream",
     "text": [
      "\r",
      "Sampling chain 0, 0 divergences:  34%|███▍      | 338/1000 [00:32<01:50,  6.00it/s]"
     ]
    },
    {
     "name": "stderr",
     "output_type": "stream",
     "text": [
      "\r",
      "Sampling chain 0, 0 divergences:  34%|███▍      | 339/1000 [00:33<01:52,  5.90it/s]"
     ]
    },
    {
     "name": "stderr",
     "output_type": "stream",
     "text": [
      "\r",
      "Sampling chain 0, 0 divergences:  34%|███▍      | 340/1000 [00:33<01:51,  5.93it/s]"
     ]
    },
    {
     "name": "stderr",
     "output_type": "stream",
     "text": [
      "\r",
      "Sampling chain 0, 0 divergences:  34%|███▍      | 341/1000 [00:33<01:51,  5.92it/s]"
     ]
    },
    {
     "name": "stderr",
     "output_type": "stream",
     "text": [
      "\r",
      "Sampling chain 0, 0 divergences:  34%|███▍      | 342/1000 [00:33<01:51,  5.88it/s]"
     ]
    },
    {
     "name": "stderr",
     "output_type": "stream",
     "text": [
      "\r",
      "Sampling chain 0, 0 divergences:  34%|███▍      | 343/1000 [00:33<01:53,  5.77it/s]"
     ]
    },
    {
     "name": "stderr",
     "output_type": "stream",
     "text": [
      "\r",
      "Sampling chain 0, 0 divergences:  34%|███▍      | 344/1000 [00:33<01:52,  5.84it/s]"
     ]
    },
    {
     "name": "stderr",
     "output_type": "stream",
     "text": [
      "\r",
      "Sampling chain 0, 0 divergences:  34%|███▍      | 345/1000 [00:34<01:51,  5.87it/s]"
     ]
    },
    {
     "name": "stderr",
     "output_type": "stream",
     "text": [
      "\r",
      "Sampling chain 0, 0 divergences:  35%|███▍      | 346/1000 [00:34<01:51,  5.85it/s]"
     ]
    },
    {
     "name": "stderr",
     "output_type": "stream",
     "text": [
      "\r",
      "Sampling chain 0, 0 divergences:  35%|███▍      | 347/1000 [00:34<01:51,  5.84it/s]"
     ]
    },
    {
     "name": "stderr",
     "output_type": "stream",
     "text": [
      "\r",
      "Sampling chain 0, 0 divergences:  35%|███▍      | 348/1000 [00:34<01:52,  5.78it/s]"
     ]
    },
    {
     "name": "stderr",
     "output_type": "stream",
     "text": [
      "\r",
      "Sampling chain 0, 0 divergences:  35%|███▍      | 349/1000 [00:34<01:51,  5.86it/s]"
     ]
    },
    {
     "name": "stderr",
     "output_type": "stream",
     "text": [
      "\r",
      "Sampling chain 0, 0 divergences:  35%|███▌      | 350/1000 [00:34<01:51,  5.82it/s]"
     ]
    },
    {
     "name": "stderr",
     "output_type": "stream",
     "text": [
      "\r",
      "Sampling chain 0, 0 divergences:  35%|███▌      | 351/1000 [00:35<01:50,  5.85it/s]"
     ]
    },
    {
     "name": "stderr",
     "output_type": "stream",
     "text": [
      "\r",
      "Sampling chain 0, 0 divergences:  35%|███▌      | 352/1000 [00:35<01:52,  5.76it/s]"
     ]
    },
    {
     "name": "stderr",
     "output_type": "stream",
     "text": [
      "\r",
      "Sampling chain 0, 0 divergences:  35%|███▌      | 353/1000 [00:35<01:51,  5.79it/s]"
     ]
    },
    {
     "name": "stderr",
     "output_type": "stream",
     "text": [
      "\r",
      "Sampling chain 0, 0 divergences:  35%|███▌      | 354/1000 [00:35<01:50,  5.85it/s]"
     ]
    },
    {
     "name": "stderr",
     "output_type": "stream",
     "text": [
      "\r",
      "Sampling chain 0, 0 divergences:  36%|███▌      | 355/1000 [00:35<01:52,  5.71it/s]"
     ]
    },
    {
     "name": "stderr",
     "output_type": "stream",
     "text": [
      "\r",
      "Sampling chain 0, 0 divergences:  36%|███▌      | 356/1000 [00:35<01:51,  5.76it/s]"
     ]
    },
    {
     "name": "stderr",
     "output_type": "stream",
     "text": [
      "\r",
      "Sampling chain 0, 0 divergences:  36%|███▌      | 357/1000 [00:36<01:53,  5.68it/s]"
     ]
    },
    {
     "name": "stderr",
     "output_type": "stream",
     "text": [
      "\r",
      "Sampling chain 0, 0 divergences:  36%|███▌      | 358/1000 [00:36<01:51,  5.75it/s]"
     ]
    },
    {
     "name": "stderr",
     "output_type": "stream",
     "text": [
      "\r",
      "Sampling chain 0, 0 divergences:  36%|███▌      | 359/1000 [00:36<01:50,  5.81it/s]"
     ]
    },
    {
     "name": "stderr",
     "output_type": "stream",
     "text": [
      "\r",
      "Sampling chain 0, 0 divergences:  36%|███▌      | 360/1000 [00:36<01:48,  5.88it/s]"
     ]
    },
    {
     "name": "stderr",
     "output_type": "stream",
     "text": [
      "\r",
      "Sampling chain 0, 0 divergences:  36%|███▌      | 361/1000 [00:36<01:48,  5.89it/s]"
     ]
    },
    {
     "name": "stderr",
     "output_type": "stream",
     "text": [
      "\r",
      "Sampling chain 0, 0 divergences:  36%|███▌      | 362/1000 [00:37<01:48,  5.88it/s]"
     ]
    },
    {
     "name": "stderr",
     "output_type": "stream",
     "text": [
      "\r",
      "Sampling chain 0, 0 divergences:  36%|███▋      | 363/1000 [00:37<01:47,  5.92it/s]"
     ]
    },
    {
     "name": "stderr",
     "output_type": "stream",
     "text": [
      "\r",
      "Sampling chain 0, 0 divergences:  36%|███▋      | 364/1000 [00:37<01:48,  5.87it/s]"
     ]
    },
    {
     "name": "stderr",
     "output_type": "stream",
     "text": [
      "\r",
      "Sampling chain 0, 0 divergences:  36%|███▋      | 365/1000 [00:37<01:49,  5.80it/s]"
     ]
    },
    {
     "name": "stderr",
     "output_type": "stream",
     "text": [
      "\r",
      "Sampling chain 0, 0 divergences:  37%|███▋      | 366/1000 [00:37<01:48,  5.86it/s]"
     ]
    },
    {
     "name": "stderr",
     "output_type": "stream",
     "text": [
      "\r",
      "Sampling chain 0, 0 divergences:  37%|███▋      | 367/1000 [00:37<01:48,  5.81it/s]"
     ]
    },
    {
     "name": "stderr",
     "output_type": "stream",
     "text": [
      "\r",
      "Sampling chain 0, 0 divergences:  37%|███▋      | 368/1000 [00:38<01:48,  5.82it/s]"
     ]
    },
    {
     "name": "stderr",
     "output_type": "stream",
     "text": [
      "\r",
      "Sampling chain 0, 0 divergences:  37%|███▋      | 369/1000 [00:38<01:47,  5.88it/s]"
     ]
    },
    {
     "name": "stderr",
     "output_type": "stream",
     "text": [
      "\r",
      "Sampling chain 0, 0 divergences:  37%|███▋      | 370/1000 [00:38<01:46,  5.92it/s]"
     ]
    },
    {
     "name": "stderr",
     "output_type": "stream",
     "text": [
      "\r",
      "Sampling chain 0, 0 divergences:  37%|███▋      | 371/1000 [00:38<01:49,  5.73it/s]"
     ]
    },
    {
     "name": "stderr",
     "output_type": "stream",
     "text": [
      "\r",
      "Sampling chain 0, 0 divergences:  37%|███▋      | 372/1000 [00:38<01:48,  5.81it/s]"
     ]
    },
    {
     "name": "stderr",
     "output_type": "stream",
     "text": [
      "\r",
      "Sampling chain 0, 0 divergences:  37%|███▋      | 373/1000 [00:38<01:46,  5.87it/s]"
     ]
    },
    {
     "name": "stderr",
     "output_type": "stream",
     "text": [
      "\r",
      "Sampling chain 0, 0 divergences:  37%|███▋      | 374/1000 [00:39<01:46,  5.87it/s]"
     ]
    },
    {
     "name": "stderr",
     "output_type": "stream",
     "text": [
      "\r",
      "Sampling chain 0, 0 divergences:  38%|███▊      | 375/1000 [00:39<01:46,  5.87it/s]"
     ]
    },
    {
     "name": "stderr",
     "output_type": "stream",
     "text": [
      "\r",
      "Sampling chain 0, 0 divergences:  38%|███▊      | 376/1000 [00:39<01:47,  5.83it/s]"
     ]
    },
    {
     "name": "stderr",
     "output_type": "stream",
     "text": [
      "\r",
      "Sampling chain 0, 0 divergences:  38%|███▊      | 377/1000 [00:39<01:47,  5.79it/s]"
     ]
    },
    {
     "name": "stderr",
     "output_type": "stream",
     "text": [
      "\r",
      "Sampling chain 0, 0 divergences:  38%|███▊      | 378/1000 [00:39<01:45,  5.89it/s]"
     ]
    },
    {
     "name": "stderr",
     "output_type": "stream",
     "text": [
      "\r",
      "Sampling chain 0, 0 divergences:  38%|███▊      | 379/1000 [00:39<01:45,  5.91it/s]"
     ]
    },
    {
     "name": "stderr",
     "output_type": "stream",
     "text": [
      "\r",
      "Sampling chain 0, 0 divergences:  38%|███▊      | 380/1000 [00:40<01:44,  5.91it/s]"
     ]
    },
    {
     "name": "stderr",
     "output_type": "stream",
     "text": [
      "\r",
      "Sampling chain 0, 0 divergences:  38%|███▊      | 381/1000 [00:40<01:45,  5.85it/s]"
     ]
    },
    {
     "name": "stderr",
     "output_type": "stream",
     "text": [
      "\r",
      "Sampling chain 0, 0 divergences:  38%|███▊      | 382/1000 [00:40<01:45,  5.88it/s]"
     ]
    },
    {
     "name": "stderr",
     "output_type": "stream",
     "text": [
      "\r",
      "Sampling chain 0, 0 divergences:  38%|███▊      | 383/1000 [00:40<01:46,  5.82it/s]"
     ]
    },
    {
     "name": "stderr",
     "output_type": "stream",
     "text": [
      "\r",
      "Sampling chain 0, 0 divergences:  38%|███▊      | 384/1000 [00:40<01:45,  5.83it/s]"
     ]
    },
    {
     "name": "stderr",
     "output_type": "stream",
     "text": [
      "\r",
      "Sampling chain 0, 0 divergences:  38%|███▊      | 385/1000 [00:40<01:46,  5.77it/s]"
     ]
    },
    {
     "name": "stderr",
     "output_type": "stream",
     "text": [
      "\r",
      "Sampling chain 0, 0 divergences:  39%|███▊      | 386/1000 [00:41<01:49,  5.60it/s]"
     ]
    },
    {
     "name": "stderr",
     "output_type": "stream",
     "text": [
      "\r",
      "Sampling chain 0, 0 divergences:  39%|███▊      | 387/1000 [00:41<01:51,  5.51it/s]"
     ]
    },
    {
     "name": "stderr",
     "output_type": "stream",
     "text": [
      "\r",
      "Sampling chain 0, 0 divergences:  39%|███▉      | 388/1000 [00:41<01:50,  5.55it/s]"
     ]
    },
    {
     "name": "stderr",
     "output_type": "stream",
     "text": [
      "\r",
      "Sampling chain 0, 0 divergences:  39%|███▉      | 389/1000 [00:41<01:48,  5.66it/s]"
     ]
    },
    {
     "name": "stderr",
     "output_type": "stream",
     "text": [
      "\r",
      "Sampling chain 0, 0 divergences:  39%|███▉      | 390/1000 [00:41<01:46,  5.73it/s]"
     ]
    },
    {
     "name": "stderr",
     "output_type": "stream",
     "text": [
      "\r",
      "Sampling chain 0, 0 divergences:  39%|███▉      | 391/1000 [00:42<01:45,  5.79it/s]"
     ]
    },
    {
     "name": "stderr",
     "output_type": "stream",
     "text": [
      "\r",
      "Sampling chain 0, 0 divergences:  39%|███▉      | 392/1000 [00:42<01:45,  5.76it/s]"
     ]
    },
    {
     "name": "stderr",
     "output_type": "stream",
     "text": [
      "\r",
      "Sampling chain 0, 0 divergences:  39%|███▉      | 393/1000 [00:42<01:45,  5.77it/s]"
     ]
    },
    {
     "name": "stderr",
     "output_type": "stream",
     "text": [
      "\r",
      "Sampling chain 0, 0 divergences:  39%|███▉      | 394/1000 [00:42<01:45,  5.77it/s]"
     ]
    },
    {
     "name": "stderr",
     "output_type": "stream",
     "text": [
      "\r",
      "Sampling chain 0, 0 divergences:  40%|███▉      | 395/1000 [00:42<01:43,  5.82it/s]"
     ]
    },
    {
     "name": "stderr",
     "output_type": "stream",
     "text": [
      "\r",
      "Sampling chain 0, 0 divergences:  40%|███▉      | 396/1000 [00:42<01:43,  5.82it/s]"
     ]
    },
    {
     "name": "stderr",
     "output_type": "stream",
     "text": [
      "\r",
      "Sampling chain 0, 0 divergences:  40%|███▉      | 397/1000 [00:43<01:45,  5.72it/s]"
     ]
    },
    {
     "name": "stderr",
     "output_type": "stream",
     "text": [
      "\r",
      "Sampling chain 0, 0 divergences:  40%|███▉      | 398/1000 [00:43<01:44,  5.77it/s]"
     ]
    },
    {
     "name": "stderr",
     "output_type": "stream",
     "text": [
      "\r",
      "Sampling chain 0, 0 divergences:  40%|███▉      | 399/1000 [00:43<01:43,  5.78it/s]"
     ]
    },
    {
     "name": "stderr",
     "output_type": "stream",
     "text": [
      "\r",
      "Sampling chain 0, 0 divergences:  40%|████      | 400/1000 [00:43<01:43,  5.78it/s]"
     ]
    },
    {
     "name": "stderr",
     "output_type": "stream",
     "text": [
      "\r",
      "Sampling chain 0, 0 divergences:  40%|████      | 401/1000 [00:43<01:42,  5.86it/s]"
     ]
    },
    {
     "name": "stderr",
     "output_type": "stream",
     "text": [
      "\r",
      "Sampling chain 0, 0 divergences:  40%|████      | 402/1000 [00:43<01:41,  5.89it/s]"
     ]
    },
    {
     "name": "stderr",
     "output_type": "stream",
     "text": [
      "\r",
      "Sampling chain 0, 0 divergences:  40%|████      | 403/1000 [00:44<01:41,  5.87it/s]"
     ]
    },
    {
     "name": "stderr",
     "output_type": "stream",
     "text": [
      "\r",
      "Sampling chain 0, 0 divergences:  40%|████      | 404/1000 [00:44<01:41,  5.87it/s]"
     ]
    },
    {
     "name": "stderr",
     "output_type": "stream",
     "text": [
      "\r",
      "Sampling chain 0, 0 divergences:  40%|████      | 405/1000 [00:44<01:41,  5.87it/s]"
     ]
    },
    {
     "name": "stderr",
     "output_type": "stream",
     "text": [
      "\r",
      "Sampling chain 0, 0 divergences:  41%|████      | 406/1000 [00:44<01:41,  5.87it/s]"
     ]
    },
    {
     "name": "stderr",
     "output_type": "stream",
     "text": [
      "\r",
      "Sampling chain 0, 0 divergences:  41%|████      | 407/1000 [00:44<01:41,  5.83it/s]"
     ]
    },
    {
     "name": "stderr",
     "output_type": "stream",
     "text": [
      "\r",
      "Sampling chain 0, 0 divergences:  41%|████      | 408/1000 [00:44<01:40,  5.88it/s]"
     ]
    },
    {
     "name": "stderr",
     "output_type": "stream",
     "text": [
      "\r",
      "Sampling chain 0, 0 divergences:  41%|████      | 409/1000 [00:45<01:40,  5.87it/s]"
     ]
    },
    {
     "name": "stderr",
     "output_type": "stream",
     "text": [
      "\r",
      "Sampling chain 0, 0 divergences:  41%|████      | 410/1000 [00:45<01:41,  5.82it/s]"
     ]
    },
    {
     "name": "stderr",
     "output_type": "stream",
     "text": [
      "\r",
      "Sampling chain 0, 0 divergences:  41%|████      | 411/1000 [00:45<01:41,  5.80it/s]"
     ]
    },
    {
     "name": "stderr",
     "output_type": "stream",
     "text": [
      "\r",
      "Sampling chain 0, 0 divergences:  41%|████      | 412/1000 [00:45<01:40,  5.85it/s]"
     ]
    },
    {
     "name": "stderr",
     "output_type": "stream",
     "text": [
      "\r",
      "Sampling chain 0, 0 divergences:  41%|████▏     | 413/1000 [00:45<01:39,  5.88it/s]"
     ]
    },
    {
     "name": "stderr",
     "output_type": "stream",
     "text": [
      "\r",
      "Sampling chain 0, 0 divergences:  41%|████▏     | 414/1000 [00:45<01:40,  5.85it/s]"
     ]
    },
    {
     "name": "stderr",
     "output_type": "stream",
     "text": [
      "\r",
      "Sampling chain 0, 0 divergences:  42%|████▏     | 415/1000 [00:46<01:45,  5.54it/s]"
     ]
    },
    {
     "name": "stderr",
     "output_type": "stream",
     "text": [
      "\r",
      "Sampling chain 0, 0 divergences:  42%|████▏     | 416/1000 [00:46<01:42,  5.67it/s]"
     ]
    },
    {
     "name": "stderr",
     "output_type": "stream",
     "text": [
      "\r",
      "Sampling chain 0, 0 divergences:  42%|████▏     | 417/1000 [00:46<01:41,  5.73it/s]"
     ]
    },
    {
     "name": "stderr",
     "output_type": "stream",
     "text": [
      "\r",
      "Sampling chain 0, 0 divergences:  42%|████▏     | 418/1000 [00:46<01:39,  5.83it/s]"
     ]
    },
    {
     "name": "stderr",
     "output_type": "stream",
     "text": [
      "\r",
      "Sampling chain 0, 0 divergences:  42%|████▏     | 419/1000 [00:46<01:40,  5.81it/s]"
     ]
    },
    {
     "name": "stderr",
     "output_type": "stream",
     "text": [
      "\r",
      "Sampling chain 0, 0 divergences:  42%|████▏     | 420/1000 [00:46<01:38,  5.86it/s]"
     ]
    },
    {
     "name": "stderr",
     "output_type": "stream",
     "text": [
      "\r",
      "Sampling chain 0, 0 divergences:  42%|████▏     | 421/1000 [00:47<01:38,  5.86it/s]"
     ]
    },
    {
     "name": "stderr",
     "output_type": "stream",
     "text": [
      "\r",
      "Sampling chain 0, 0 divergences:  42%|████▏     | 422/1000 [00:47<01:38,  5.84it/s]"
     ]
    },
    {
     "name": "stderr",
     "output_type": "stream",
     "text": [
      "\r",
      "Sampling chain 0, 0 divergences:  42%|████▏     | 423/1000 [00:47<01:44,  5.54it/s]"
     ]
    },
    {
     "name": "stderr",
     "output_type": "stream",
     "text": [
      "\r",
      "Sampling chain 0, 0 divergences:  42%|████▏     | 424/1000 [00:47<01:42,  5.61it/s]"
     ]
    },
    {
     "name": "stderr",
     "output_type": "stream",
     "text": [
      "\r",
      "Sampling chain 0, 0 divergences:  42%|████▎     | 425/1000 [00:47<01:40,  5.73it/s]"
     ]
    },
    {
     "name": "stderr",
     "output_type": "stream",
     "text": [
      "\r",
      "Sampling chain 0, 0 divergences:  43%|████▎     | 426/1000 [00:48<01:38,  5.82it/s]"
     ]
    },
    {
     "name": "stderr",
     "output_type": "stream",
     "text": [
      "\r",
      "Sampling chain 0, 0 divergences:  43%|████▎     | 427/1000 [00:48<01:38,  5.83it/s]"
     ]
    },
    {
     "name": "stderr",
     "output_type": "stream",
     "text": [
      "\r",
      "Sampling chain 0, 0 divergences:  43%|████▎     | 428/1000 [00:48<01:37,  5.88it/s]"
     ]
    },
    {
     "name": "stderr",
     "output_type": "stream",
     "text": [
      "\r",
      "Sampling chain 0, 0 divergences:  43%|████▎     | 429/1000 [00:48<01:38,  5.81it/s]"
     ]
    },
    {
     "name": "stderr",
     "output_type": "stream",
     "text": [
      "\r",
      "Sampling chain 0, 0 divergences:  43%|████▎     | 430/1000 [00:48<01:38,  5.80it/s]"
     ]
    },
    {
     "name": "stderr",
     "output_type": "stream",
     "text": [
      "\r",
      "Sampling chain 0, 0 divergences:  43%|████▎     | 431/1000 [00:48<01:37,  5.82it/s]"
     ]
    },
    {
     "name": "stderr",
     "output_type": "stream",
     "text": [
      "\r",
      "Sampling chain 0, 0 divergences:  43%|████▎     | 432/1000 [00:49<01:37,  5.81it/s]"
     ]
    },
    {
     "name": "stderr",
     "output_type": "stream",
     "text": [
      "\r",
      "Sampling chain 0, 0 divergences:  43%|████▎     | 433/1000 [00:49<01:38,  5.74it/s]"
     ]
    },
    {
     "name": "stderr",
     "output_type": "stream",
     "text": [
      "\r",
      "Sampling chain 0, 0 divergences:  43%|████▎     | 434/1000 [00:49<01:39,  5.72it/s]"
     ]
    },
    {
     "name": "stderr",
     "output_type": "stream",
     "text": [
      "\r",
      "Sampling chain 0, 0 divergences:  44%|████▎     | 435/1000 [00:49<01:38,  5.73it/s]"
     ]
    },
    {
     "name": "stderr",
     "output_type": "stream",
     "text": [
      "\r",
      "Sampling chain 0, 0 divergences:  44%|████▎     | 436/1000 [00:49<01:39,  5.69it/s]"
     ]
    },
    {
     "name": "stderr",
     "output_type": "stream",
     "text": [
      "\r",
      "Sampling chain 0, 0 divergences:  44%|████▎     | 437/1000 [00:49<01:37,  5.75it/s]"
     ]
    },
    {
     "name": "stderr",
     "output_type": "stream",
     "text": [
      "\r",
      "Sampling chain 0, 0 divergences:  44%|████▍     | 438/1000 [00:50<01:36,  5.80it/s]"
     ]
    },
    {
     "name": "stderr",
     "output_type": "stream",
     "text": [
      "\r",
      "Sampling chain 0, 0 divergences:  44%|████▍     | 439/1000 [00:50<01:36,  5.80it/s]"
     ]
    },
    {
     "name": "stderr",
     "output_type": "stream",
     "text": [
      "\r",
      "Sampling chain 0, 0 divergences:  44%|████▍     | 440/1000 [00:50<01:36,  5.81it/s]"
     ]
    },
    {
     "name": "stderr",
     "output_type": "stream",
     "text": [
      "\r",
      "Sampling chain 0, 0 divergences:  44%|████▍     | 441/1000 [00:50<01:35,  5.87it/s]"
     ]
    },
    {
     "name": "stderr",
     "output_type": "stream",
     "text": [
      "\r",
      "Sampling chain 0, 0 divergences:  44%|████▍     | 442/1000 [00:50<01:35,  5.86it/s]"
     ]
    },
    {
     "name": "stderr",
     "output_type": "stream",
     "text": [
      "\r",
      "Sampling chain 0, 0 divergences:  44%|████▍     | 443/1000 [00:50<01:34,  5.87it/s]"
     ]
    },
    {
     "name": "stderr",
     "output_type": "stream",
     "text": [
      "\r",
      "Sampling chain 0, 0 divergences:  44%|████▍     | 444/1000 [00:51<01:33,  5.92it/s]"
     ]
    },
    {
     "name": "stderr",
     "output_type": "stream",
     "text": [
      "\r",
      "Sampling chain 0, 0 divergences:  44%|████▍     | 445/1000 [00:51<01:33,  5.93it/s]"
     ]
    },
    {
     "name": "stderr",
     "output_type": "stream",
     "text": [
      "\r",
      "Sampling chain 0, 0 divergences:  45%|████▍     | 446/1000 [00:51<01:34,  5.89it/s]"
     ]
    },
    {
     "name": "stderr",
     "output_type": "stream",
     "text": [
      "\r",
      "Sampling chain 0, 0 divergences:  45%|████▍     | 447/1000 [00:51<01:32,  5.95it/s]"
     ]
    },
    {
     "name": "stderr",
     "output_type": "stream",
     "text": [
      "\r",
      "Sampling chain 0, 0 divergences:  45%|████▍     | 448/1000 [00:51<01:33,  5.92it/s]"
     ]
    },
    {
     "name": "stderr",
     "output_type": "stream",
     "text": [
      "\r",
      "Sampling chain 0, 0 divergences:  45%|████▍     | 449/1000 [00:51<01:34,  5.85it/s]"
     ]
    },
    {
     "name": "stderr",
     "output_type": "stream",
     "text": [
      "\r",
      "Sampling chain 0, 0 divergences:  45%|████▌     | 450/1000 [00:52<01:33,  5.91it/s]"
     ]
    },
    {
     "name": "stderr",
     "output_type": "stream",
     "text": [
      "\r",
      "Sampling chain 0, 0 divergences:  45%|████▌     | 451/1000 [00:52<01:33,  5.84it/s]"
     ]
    },
    {
     "name": "stderr",
     "output_type": "stream",
     "text": [
      "\r",
      "Sampling chain 0, 0 divergences:  45%|████▌     | 452/1000 [00:52<01:34,  5.80it/s]"
     ]
    },
    {
     "name": "stderr",
     "output_type": "stream",
     "text": [
      "\r",
      "Sampling chain 0, 0 divergences:  45%|████▌     | 453/1000 [00:52<01:34,  5.76it/s]"
     ]
    },
    {
     "name": "stderr",
     "output_type": "stream",
     "text": [
      "\r",
      "Sampling chain 0, 0 divergences:  45%|████▌     | 454/1000 [00:52<01:36,  5.66it/s]"
     ]
    },
    {
     "name": "stderr",
     "output_type": "stream",
     "text": [
      "\r",
      "Sampling chain 0, 0 divergences:  46%|████▌     | 455/1000 [00:53<01:35,  5.73it/s]"
     ]
    },
    {
     "name": "stderr",
     "output_type": "stream",
     "text": [
      "\r",
      "Sampling chain 0, 0 divergences:  46%|████▌     | 456/1000 [00:53<01:34,  5.75it/s]"
     ]
    },
    {
     "name": "stderr",
     "output_type": "stream",
     "text": [
      "\r",
      "Sampling chain 0, 0 divergences:  46%|████▌     | 457/1000 [00:53<01:34,  5.74it/s]"
     ]
    },
    {
     "name": "stderr",
     "output_type": "stream",
     "text": [
      "\r",
      "Sampling chain 0, 0 divergences:  46%|████▌     | 458/1000 [00:53<01:33,  5.80it/s]"
     ]
    },
    {
     "name": "stderr",
     "output_type": "stream",
     "text": [
      "\r",
      "Sampling chain 0, 0 divergences:  46%|████▌     | 459/1000 [00:53<01:33,  5.78it/s]"
     ]
    },
    {
     "name": "stderr",
     "output_type": "stream",
     "text": [
      "\r",
      "Sampling chain 0, 0 divergences:  46%|████▌     | 460/1000 [00:53<01:33,  5.76it/s]"
     ]
    },
    {
     "name": "stderr",
     "output_type": "stream",
     "text": [
      "\r",
      "Sampling chain 0, 0 divergences:  46%|████▌     | 461/1000 [00:54<01:37,  5.50it/s]"
     ]
    },
    {
     "name": "stderr",
     "output_type": "stream",
     "text": [
      "\r",
      "Sampling chain 0, 0 divergences:  46%|████▌     | 462/1000 [00:54<01:35,  5.64it/s]"
     ]
    },
    {
     "name": "stderr",
     "output_type": "stream",
     "text": [
      "\r",
      "Sampling chain 0, 0 divergences:  46%|████▋     | 463/1000 [00:54<01:34,  5.68it/s]"
     ]
    },
    {
     "name": "stderr",
     "output_type": "stream",
     "text": [
      "\r",
      "Sampling chain 0, 0 divergences:  46%|████▋     | 464/1000 [00:54<01:34,  5.66it/s]"
     ]
    },
    {
     "name": "stderr",
     "output_type": "stream",
     "text": [
      "\r",
      "Sampling chain 0, 0 divergences:  46%|████▋     | 465/1000 [00:54<01:33,  5.72it/s]"
     ]
    },
    {
     "name": "stderr",
     "output_type": "stream",
     "text": [
      "\r",
      "Sampling chain 0, 0 divergences:  47%|████▋     | 466/1000 [00:54<01:33,  5.72it/s]"
     ]
    },
    {
     "name": "stderr",
     "output_type": "stream",
     "text": [
      "\r",
      "Sampling chain 0, 0 divergences:  47%|████▋     | 467/1000 [00:55<01:32,  5.74it/s]"
     ]
    },
    {
     "name": "stderr",
     "output_type": "stream",
     "text": [
      "\r",
      "Sampling chain 0, 0 divergences:  47%|████▋     | 468/1000 [00:55<01:32,  5.73it/s]"
     ]
    },
    {
     "name": "stderr",
     "output_type": "stream",
     "text": [
      "\r",
      "Sampling chain 0, 0 divergences:  47%|████▋     | 469/1000 [00:55<01:32,  5.71it/s]"
     ]
    },
    {
     "name": "stderr",
     "output_type": "stream",
     "text": [
      "\r",
      "Sampling chain 0, 0 divergences:  47%|████▋     | 470/1000 [00:55<01:31,  5.81it/s]"
     ]
    },
    {
     "name": "stderr",
     "output_type": "stream",
     "text": [
      "\r",
      "Sampling chain 0, 0 divergences:  47%|████▋     | 471/1000 [00:55<01:29,  5.88it/s]"
     ]
    },
    {
     "name": "stderr",
     "output_type": "stream",
     "text": [
      "\r",
      "Sampling chain 0, 0 divergences:  47%|████▋     | 472/1000 [00:55<01:29,  5.92it/s]"
     ]
    },
    {
     "name": "stderr",
     "output_type": "stream",
     "text": [
      "\r",
      "Sampling chain 0, 0 divergences:  47%|████▋     | 473/1000 [00:56<01:28,  5.95it/s]"
     ]
    },
    {
     "name": "stderr",
     "output_type": "stream",
     "text": [
      "\r",
      "Sampling chain 0, 0 divergences:  47%|████▋     | 474/1000 [00:56<01:29,  5.90it/s]"
     ]
    },
    {
     "name": "stderr",
     "output_type": "stream",
     "text": [
      "\r",
      "Sampling chain 0, 0 divergences:  48%|████▊     | 475/1000 [00:56<01:28,  5.91it/s]"
     ]
    },
    {
     "name": "stderr",
     "output_type": "stream",
     "text": [
      "\r",
      "Sampling chain 0, 0 divergences:  48%|████▊     | 476/1000 [00:56<01:28,  5.95it/s]"
     ]
    },
    {
     "name": "stderr",
     "output_type": "stream",
     "text": [
      "\r",
      "Sampling chain 0, 0 divergences:  48%|████▊     | 477/1000 [00:56<01:28,  5.94it/s]"
     ]
    },
    {
     "name": "stderr",
     "output_type": "stream",
     "text": [
      "\r",
      "Sampling chain 0, 0 divergences:  48%|████▊     | 478/1000 [00:57<01:28,  5.87it/s]"
     ]
    },
    {
     "name": "stderr",
     "output_type": "stream",
     "text": [
      "\r",
      "Sampling chain 0, 0 divergences:  48%|████▊     | 479/1000 [00:57<01:30,  5.77it/s]"
     ]
    },
    {
     "name": "stderr",
     "output_type": "stream",
     "text": [
      "\r",
      "Sampling chain 0, 0 divergences:  48%|████▊     | 480/1000 [00:57<01:29,  5.82it/s]"
     ]
    },
    {
     "name": "stderr",
     "output_type": "stream",
     "text": [
      "\r",
      "Sampling chain 0, 0 divergences:  48%|████▊     | 481/1000 [00:57<01:28,  5.89it/s]"
     ]
    },
    {
     "name": "stderr",
     "output_type": "stream",
     "text": [
      "\r",
      "Sampling chain 0, 0 divergences:  48%|████▊     | 482/1000 [00:57<01:28,  5.88it/s]"
     ]
    },
    {
     "name": "stderr",
     "output_type": "stream",
     "text": [
      "\r",
      "Sampling chain 0, 0 divergences:  48%|████▊     | 483/1000 [00:57<01:27,  5.91it/s]"
     ]
    },
    {
     "name": "stderr",
     "output_type": "stream",
     "text": [
      "\r",
      "Sampling chain 0, 0 divergences:  48%|████▊     | 484/1000 [00:58<01:27,  5.91it/s]"
     ]
    },
    {
     "name": "stderr",
     "output_type": "stream",
     "text": [
      "\r",
      "Sampling chain 0, 0 divergences:  48%|████▊     | 485/1000 [00:58<01:27,  5.91it/s]"
     ]
    },
    {
     "name": "stderr",
     "output_type": "stream",
     "text": [
      "\r",
      "Sampling chain 0, 0 divergences:  49%|████▊     | 486/1000 [00:58<01:26,  5.94it/s]"
     ]
    },
    {
     "name": "stderr",
     "output_type": "stream",
     "text": [
      "\r",
      "Sampling chain 0, 0 divergences:  49%|████▊     | 487/1000 [00:58<01:26,  5.90it/s]"
     ]
    },
    {
     "name": "stderr",
     "output_type": "stream",
     "text": [
      "\r",
      "Sampling chain 0, 0 divergences:  49%|████▉     | 488/1000 [00:58<01:27,  5.84it/s]"
     ]
    },
    {
     "name": "stderr",
     "output_type": "stream",
     "text": [
      "\r",
      "Sampling chain 0, 0 divergences:  49%|████▉     | 489/1000 [00:58<01:29,  5.73it/s]"
     ]
    },
    {
     "name": "stderr",
     "output_type": "stream",
     "text": [
      "\r",
      "Sampling chain 0, 0 divergences:  49%|████▉     | 490/1000 [00:59<01:27,  5.82it/s]"
     ]
    },
    {
     "name": "stderr",
     "output_type": "stream",
     "text": [
      "\r",
      "Sampling chain 0, 0 divergences:  49%|████▉     | 491/1000 [00:59<01:28,  5.78it/s]"
     ]
    },
    {
     "name": "stderr",
     "output_type": "stream",
     "text": [
      "\r",
      "Sampling chain 0, 0 divergences:  49%|████▉     | 492/1000 [00:59<01:27,  5.83it/s]"
     ]
    },
    {
     "name": "stderr",
     "output_type": "stream",
     "text": [
      "\r",
      "Sampling chain 0, 0 divergences:  49%|████▉     | 493/1000 [00:59<01:26,  5.89it/s]"
     ]
    },
    {
     "name": "stderr",
     "output_type": "stream",
     "text": [
      "\r",
      "Sampling chain 0, 0 divergences:  49%|████▉     | 494/1000 [00:59<01:25,  5.95it/s]"
     ]
    },
    {
     "name": "stderr",
     "output_type": "stream",
     "text": [
      "\r",
      "Sampling chain 0, 0 divergences:  50%|████▉     | 495/1000 [00:59<01:25,  5.91it/s]"
     ]
    },
    {
     "name": "stderr",
     "output_type": "stream",
     "text": [
      "\r",
      "Sampling chain 0, 0 divergences:  50%|████▉     | 496/1000 [01:00<01:25,  5.87it/s]"
     ]
    },
    {
     "name": "stderr",
     "output_type": "stream",
     "text": [
      "\r",
      "Sampling chain 0, 0 divergences:  50%|████▉     | 497/1000 [01:00<01:24,  5.93it/s]"
     ]
    },
    {
     "name": "stderr",
     "output_type": "stream",
     "text": [
      "\r",
      "Sampling chain 0, 0 divergences:  50%|████▉     | 498/1000 [01:00<01:25,  5.89it/s]"
     ]
    },
    {
     "name": "stderr",
     "output_type": "stream",
     "text": [
      "\r",
      "Sampling chain 0, 0 divergences:  50%|████▉     | 499/1000 [01:00<01:24,  5.91it/s]"
     ]
    },
    {
     "name": "stderr",
     "output_type": "stream",
     "text": [
      "\r",
      "Sampling chain 0, 0 divergences:  50%|█████     | 500/1000 [01:00<01:23,  5.98it/s]"
     ]
    },
    {
     "name": "stderr",
     "output_type": "stream",
     "text": [
      "\r",
      "Sampling chain 0, 0 divergences:  50%|█████     | 501/1000 [01:00<01:23,  5.96it/s]"
     ]
    },
    {
     "name": "stderr",
     "output_type": "stream",
     "text": [
      "\r",
      "Sampling chain 0, 0 divergences:  50%|█████     | 502/1000 [01:01<01:23,  5.99it/s]"
     ]
    },
    {
     "name": "stderr",
     "output_type": "stream",
     "text": [
      "\r",
      "Sampling chain 0, 0 divergences:  50%|█████     | 503/1000 [01:01<01:23,  5.96it/s]"
     ]
    },
    {
     "name": "stderr",
     "output_type": "stream",
     "text": [
      "\r",
      "Sampling chain 0, 0 divergences:  50%|█████     | 504/1000 [01:01<01:23,  5.95it/s]"
     ]
    },
    {
     "name": "stderr",
     "output_type": "stream",
     "text": [
      "\r",
      "Sampling chain 0, 0 divergences:  50%|█████     | 505/1000 [01:01<01:25,  5.80it/s]"
     ]
    },
    {
     "name": "stderr",
     "output_type": "stream",
     "text": [
      "\r",
      "Sampling chain 0, 0 divergences:  51%|█████     | 506/1000 [01:01<01:24,  5.88it/s]"
     ]
    },
    {
     "name": "stderr",
     "output_type": "stream",
     "text": [
      "\r",
      "Sampling chain 0, 0 divergences:  51%|█████     | 507/1000 [01:01<01:23,  5.88it/s]"
     ]
    },
    {
     "name": "stderr",
     "output_type": "stream",
     "text": [
      "\r",
      "Sampling chain 0, 0 divergences:  51%|█████     | 508/1000 [01:02<01:24,  5.81it/s]"
     ]
    },
    {
     "name": "stderr",
     "output_type": "stream",
     "text": [
      "\r",
      "Sampling chain 0, 0 divergences:  51%|█████     | 509/1000 [01:02<01:25,  5.77it/s]"
     ]
    },
    {
     "name": "stderr",
     "output_type": "stream",
     "text": [
      "\r",
      "Sampling chain 0, 0 divergences:  51%|█████     | 510/1000 [01:02<01:24,  5.80it/s]"
     ]
    },
    {
     "name": "stderr",
     "output_type": "stream",
     "text": [
      "\r",
      "Sampling chain 0, 0 divergences:  51%|█████     | 511/1000 [01:02<01:24,  5.78it/s]"
     ]
    },
    {
     "name": "stderr",
     "output_type": "stream",
     "text": [
      "\r",
      "Sampling chain 0, 0 divergences:  51%|█████     | 512/1000 [01:02<01:23,  5.85it/s]"
     ]
    },
    {
     "name": "stderr",
     "output_type": "stream",
     "text": [
      "\r",
      "Sampling chain 0, 0 divergences:  51%|█████▏    | 513/1000 [01:02<01:24,  5.76it/s]"
     ]
    },
    {
     "name": "stderr",
     "output_type": "stream",
     "text": [
      "\r",
      "Sampling chain 0, 0 divergences:  51%|█████▏    | 514/1000 [01:03<01:23,  5.79it/s]"
     ]
    },
    {
     "name": "stderr",
     "output_type": "stream",
     "text": [
      "\r",
      "Sampling chain 0, 0 divergences:  52%|█████▏    | 515/1000 [01:03<01:24,  5.75it/s]"
     ]
    },
    {
     "name": "stderr",
     "output_type": "stream",
     "text": [
      "\r",
      "Sampling chain 0, 0 divergences:  52%|█████▏    | 516/1000 [01:03<01:24,  5.75it/s]"
     ]
    },
    {
     "name": "stderr",
     "output_type": "stream",
     "text": [
      "\r",
      "Sampling chain 0, 0 divergences:  52%|█████▏    | 517/1000 [01:03<01:23,  5.81it/s]"
     ]
    },
    {
     "name": "stderr",
     "output_type": "stream",
     "text": [
      "\r",
      "Sampling chain 0, 0 divergences:  52%|█████▏    | 518/1000 [01:03<01:23,  5.78it/s]"
     ]
    },
    {
     "name": "stderr",
     "output_type": "stream",
     "text": [
      "\r",
      "Sampling chain 0, 0 divergences:  52%|█████▏    | 519/1000 [01:04<01:25,  5.63it/s]"
     ]
    },
    {
     "name": "stderr",
     "output_type": "stream",
     "text": [
      "\r",
      "Sampling chain 0, 0 divergences:  52%|█████▏    | 520/1000 [01:04<01:25,  5.64it/s]"
     ]
    },
    {
     "name": "stderr",
     "output_type": "stream",
     "text": [
      "\r",
      "Sampling chain 0, 0 divergences:  52%|█████▏    | 521/1000 [01:04<01:23,  5.74it/s]"
     ]
    },
    {
     "name": "stderr",
     "output_type": "stream",
     "text": [
      "\r",
      "Sampling chain 0, 0 divergences:  52%|█████▏    | 522/1000 [01:04<01:22,  5.78it/s]"
     ]
    },
    {
     "name": "stderr",
     "output_type": "stream",
     "text": [
      "\r",
      "Sampling chain 0, 0 divergences:  52%|█████▏    | 523/1000 [01:04<01:21,  5.84it/s]"
     ]
    },
    {
     "name": "stderr",
     "output_type": "stream",
     "text": [
      "\r",
      "Sampling chain 0, 0 divergences:  52%|█████▏    | 524/1000 [01:04<01:21,  5.82it/s]"
     ]
    },
    {
     "name": "stderr",
     "output_type": "stream",
     "text": [
      "\r",
      "Sampling chain 0, 0 divergences:  52%|█████▎    | 525/1000 [01:05<01:21,  5.85it/s]"
     ]
    },
    {
     "name": "stderr",
     "output_type": "stream",
     "text": [
      "\r",
      "Sampling chain 0, 0 divergences:  53%|█████▎    | 526/1000 [01:05<01:22,  5.74it/s]"
     ]
    },
    {
     "name": "stderr",
     "output_type": "stream",
     "text": [
      "\r",
      "Sampling chain 0, 0 divergences:  53%|█████▎    | 527/1000 [01:05<01:22,  5.74it/s]"
     ]
    },
    {
     "name": "stderr",
     "output_type": "stream",
     "text": [
      "\r",
      "Sampling chain 0, 0 divergences:  53%|█████▎    | 528/1000 [01:05<01:22,  5.74it/s]"
     ]
    },
    {
     "name": "stderr",
     "output_type": "stream",
     "text": [
      "\r",
      "Sampling chain 0, 0 divergences:  53%|█████▎    | 529/1000 [01:05<01:21,  5.80it/s]"
     ]
    },
    {
     "name": "stderr",
     "output_type": "stream",
     "text": [
      "\r",
      "Sampling chain 0, 0 divergences:  53%|█████▎    | 530/1000 [01:05<01:20,  5.86it/s]"
     ]
    },
    {
     "name": "stderr",
     "output_type": "stream",
     "text": [
      "\r",
      "Sampling chain 0, 0 divergences:  53%|█████▎    | 531/1000 [01:06<01:20,  5.81it/s]"
     ]
    },
    {
     "name": "stderr",
     "output_type": "stream",
     "text": [
      "\r",
      "Sampling chain 0, 0 divergences:  53%|█████▎    | 532/1000 [01:06<01:19,  5.86it/s]"
     ]
    },
    {
     "name": "stderr",
     "output_type": "stream",
     "text": [
      "\r",
      "Sampling chain 0, 0 divergences:  53%|█████▎    | 533/1000 [01:06<01:19,  5.85it/s]"
     ]
    },
    {
     "name": "stderr",
     "output_type": "stream",
     "text": [
      "\r",
      "Sampling chain 0, 0 divergences:  53%|█████▎    | 534/1000 [01:06<01:19,  5.85it/s]"
     ]
    },
    {
     "name": "stderr",
     "output_type": "stream",
     "text": [
      "\r",
      "Sampling chain 0, 0 divergences:  54%|█████▎    | 535/1000 [01:06<01:18,  5.92it/s]"
     ]
    },
    {
     "name": "stderr",
     "output_type": "stream",
     "text": [
      "\r",
      "Sampling chain 0, 0 divergences:  54%|█████▎    | 536/1000 [01:06<01:18,  5.92it/s]"
     ]
    },
    {
     "name": "stderr",
     "output_type": "stream",
     "text": [
      "\r",
      "Sampling chain 0, 0 divergences:  54%|█████▎    | 537/1000 [01:07<01:18,  5.92it/s]"
     ]
    },
    {
     "name": "stderr",
     "output_type": "stream",
     "text": [
      "\r",
      "Sampling chain 0, 0 divergences:  54%|█████▍    | 538/1000 [01:07<01:19,  5.82it/s]"
     ]
    },
    {
     "name": "stderr",
     "output_type": "stream",
     "text": [
      "\r",
      "Sampling chain 0, 0 divergences:  54%|█████▍    | 539/1000 [01:07<01:19,  5.79it/s]"
     ]
    },
    {
     "name": "stderr",
     "output_type": "stream",
     "text": [
      "\r",
      "Sampling chain 0, 0 divergences:  54%|█████▍    | 540/1000 [01:07<01:19,  5.80it/s]"
     ]
    },
    {
     "name": "stderr",
     "output_type": "stream",
     "text": [
      "\r",
      "Sampling chain 0, 0 divergences:  54%|█████▍    | 541/1000 [01:07<01:18,  5.83it/s]"
     ]
    },
    {
     "name": "stderr",
     "output_type": "stream",
     "text": [
      "\r",
      "Sampling chain 0, 0 divergences:  54%|█████▍    | 542/1000 [01:07<01:17,  5.87it/s]"
     ]
    },
    {
     "name": "stderr",
     "output_type": "stream",
     "text": [
      "\r",
      "Sampling chain 0, 0 divergences:  54%|█████▍    | 543/1000 [01:08<01:17,  5.90it/s]"
     ]
    },
    {
     "name": "stderr",
     "output_type": "stream",
     "text": [
      "\r",
      "Sampling chain 0, 0 divergences:  54%|█████▍    | 544/1000 [01:08<01:16,  5.92it/s]"
     ]
    },
    {
     "name": "stderr",
     "output_type": "stream",
     "text": [
      "\r",
      "Sampling chain 0, 0 divergences:  55%|█████▍    | 545/1000 [01:08<01:17,  5.84it/s]"
     ]
    },
    {
     "name": "stderr",
     "output_type": "stream",
     "text": [
      "\r",
      "Sampling chain 0, 0 divergences:  55%|█████▍    | 546/1000 [01:08<01:17,  5.89it/s]"
     ]
    },
    {
     "name": "stderr",
     "output_type": "stream",
     "text": [
      "\r",
      "Sampling chain 0, 0 divergences:  55%|█████▍    | 547/1000 [01:08<01:16,  5.91it/s]"
     ]
    },
    {
     "name": "stderr",
     "output_type": "stream",
     "text": [
      "\r",
      "Sampling chain 0, 0 divergences:  55%|█████▍    | 548/1000 [01:08<01:16,  5.89it/s]"
     ]
    },
    {
     "name": "stderr",
     "output_type": "stream",
     "text": [
      "\r",
      "Sampling chain 0, 0 divergences:  55%|█████▍    | 549/1000 [01:09<01:18,  5.78it/s]"
     ]
    },
    {
     "name": "stderr",
     "output_type": "stream",
     "text": [
      "\r",
      "Sampling chain 0, 0 divergences:  55%|█████▌    | 550/1000 [01:09<01:16,  5.85it/s]"
     ]
    },
    {
     "name": "stderr",
     "output_type": "stream",
     "text": [
      "\r",
      "Sampling chain 0, 0 divergences:  55%|█████▌    | 551/1000 [01:09<01:16,  5.85it/s]"
     ]
    },
    {
     "name": "stderr",
     "output_type": "stream",
     "text": [
      "\r",
      "Sampling chain 0, 0 divergences:  55%|█████▌    | 552/1000 [01:09<01:15,  5.91it/s]"
     ]
    },
    {
     "name": "stderr",
     "output_type": "stream",
     "text": [
      "\r",
      "Sampling chain 0, 0 divergences:  55%|█████▌    | 553/1000 [01:09<01:15,  5.93it/s]"
     ]
    },
    {
     "name": "stderr",
     "output_type": "stream",
     "text": [
      "\r",
      "Sampling chain 0, 0 divergences:  55%|█████▌    | 554/1000 [01:10<01:16,  5.86it/s]"
     ]
    },
    {
     "name": "stderr",
     "output_type": "stream",
     "text": [
      "\r",
      "Sampling chain 0, 0 divergences:  56%|█████▌    | 555/1000 [01:10<01:16,  5.81it/s]"
     ]
    },
    {
     "name": "stderr",
     "output_type": "stream",
     "text": [
      "\r",
      "Sampling chain 0, 0 divergences:  56%|█████▌    | 556/1000 [01:10<01:15,  5.88it/s]"
     ]
    },
    {
     "name": "stderr",
     "output_type": "stream",
     "text": [
      "\r",
      "Sampling chain 0, 0 divergences:  56%|█████▌    | 557/1000 [01:10<01:16,  5.80it/s]"
     ]
    },
    {
     "name": "stderr",
     "output_type": "stream",
     "text": [
      "\r",
      "Sampling chain 0, 0 divergences:  56%|█████▌    | 558/1000 [01:10<01:15,  5.86it/s]"
     ]
    },
    {
     "name": "stderr",
     "output_type": "stream",
     "text": [
      "\r",
      "Sampling chain 0, 0 divergences:  56%|█████▌    | 559/1000 [01:10<01:14,  5.90it/s]"
     ]
    },
    {
     "name": "stderr",
     "output_type": "stream",
     "text": [
      "\r",
      "Sampling chain 0, 0 divergences:  56%|█████▌    | 560/1000 [01:11<01:14,  5.92it/s]"
     ]
    },
    {
     "name": "stderr",
     "output_type": "stream",
     "text": [
      "\r",
      "Sampling chain 0, 0 divergences:  56%|█████▌    | 561/1000 [01:11<01:14,  5.87it/s]"
     ]
    },
    {
     "name": "stderr",
     "output_type": "stream",
     "text": [
      "\r",
      "Sampling chain 0, 0 divergences:  56%|█████▌    | 562/1000 [01:11<01:15,  5.80it/s]"
     ]
    },
    {
     "name": "stderr",
     "output_type": "stream",
     "text": [
      "\r",
      "Sampling chain 0, 0 divergences:  56%|█████▋    | 563/1000 [01:11<01:14,  5.87it/s]"
     ]
    },
    {
     "name": "stderr",
     "output_type": "stream",
     "text": [
      "\r",
      "Sampling chain 0, 0 divergences:  56%|█████▋    | 564/1000 [01:11<01:13,  5.92it/s]"
     ]
    },
    {
     "name": "stderr",
     "output_type": "stream",
     "text": [
      "\r",
      "Sampling chain 0, 0 divergences:  56%|█████▋    | 565/1000 [01:11<01:12,  5.97it/s]"
     ]
    },
    {
     "name": "stderr",
     "output_type": "stream",
     "text": [
      "\r",
      "Sampling chain 0, 0 divergences:  57%|█████▋    | 566/1000 [01:12<01:12,  6.02it/s]"
     ]
    },
    {
     "name": "stderr",
     "output_type": "stream",
     "text": [
      "\r",
      "Sampling chain 0, 0 divergences:  57%|█████▋    | 567/1000 [01:12<01:11,  6.03it/s]"
     ]
    },
    {
     "name": "stderr",
     "output_type": "stream",
     "text": [
      "\r",
      "Sampling chain 0, 0 divergences:  57%|█████▋    | 568/1000 [01:12<01:12,  5.99it/s]"
     ]
    },
    {
     "name": "stderr",
     "output_type": "stream",
     "text": [
      "\r",
      "Sampling chain 0, 0 divergences:  57%|█████▋    | 569/1000 [01:12<01:12,  5.92it/s]"
     ]
    },
    {
     "name": "stderr",
     "output_type": "stream",
     "text": [
      "\r",
      "Sampling chain 0, 0 divergences:  57%|█████▋    | 570/1000 [01:12<01:12,  5.93it/s]"
     ]
    },
    {
     "name": "stderr",
     "output_type": "stream",
     "text": [
      "\r",
      "Sampling chain 0, 0 divergences:  57%|█████▋    | 571/1000 [01:12<01:11,  5.96it/s]"
     ]
    },
    {
     "name": "stderr",
     "output_type": "stream",
     "text": [
      "\r",
      "Sampling chain 0, 0 divergences:  57%|█████▋    | 572/1000 [01:13<01:12,  5.89it/s]"
     ]
    },
    {
     "name": "stderr",
     "output_type": "stream",
     "text": [
      "\r",
      "Sampling chain 0, 0 divergences:  57%|█████▋    | 573/1000 [01:13<01:13,  5.82it/s]"
     ]
    },
    {
     "name": "stderr",
     "output_type": "stream",
     "text": [
      "\r",
      "Sampling chain 0, 0 divergences:  57%|█████▋    | 574/1000 [01:13<01:13,  5.82it/s]"
     ]
    },
    {
     "name": "stderr",
     "output_type": "stream",
     "text": [
      "\r",
      "Sampling chain 0, 0 divergences:  57%|█████▊    | 575/1000 [01:13<01:12,  5.90it/s]"
     ]
    },
    {
     "name": "stderr",
     "output_type": "stream",
     "text": [
      "\r",
      "Sampling chain 0, 0 divergences:  58%|█████▊    | 576/1000 [01:13<01:11,  5.94it/s]"
     ]
    },
    {
     "name": "stderr",
     "output_type": "stream",
     "text": [
      "\r",
      "Sampling chain 0, 0 divergences:  58%|█████▊    | 577/1000 [01:13<01:12,  5.87it/s]"
     ]
    },
    {
     "name": "stderr",
     "output_type": "stream",
     "text": [
      "\r",
      "Sampling chain 0, 0 divergences:  58%|█████▊    | 578/1000 [01:14<01:12,  5.85it/s]"
     ]
    },
    {
     "name": "stderr",
     "output_type": "stream",
     "text": [
      "\r",
      "Sampling chain 0, 0 divergences:  58%|█████▊    | 579/1000 [01:14<01:12,  5.79it/s]"
     ]
    },
    {
     "name": "stderr",
     "output_type": "stream",
     "text": [
      "\r",
      "Sampling chain 0, 0 divergences:  58%|█████▊    | 580/1000 [01:14<01:13,  5.68it/s]"
     ]
    },
    {
     "name": "stderr",
     "output_type": "stream",
     "text": [
      "\r",
      "Sampling chain 0, 0 divergences:  58%|█████▊    | 581/1000 [01:14<01:13,  5.68it/s]"
     ]
    },
    {
     "name": "stderr",
     "output_type": "stream",
     "text": [
      "\r",
      "Sampling chain 0, 0 divergences:  58%|█████▊    | 582/1000 [01:14<01:13,  5.71it/s]"
     ]
    },
    {
     "name": "stderr",
     "output_type": "stream",
     "text": [
      "\r",
      "Sampling chain 0, 0 divergences:  58%|█████▊    | 583/1000 [01:14<01:12,  5.77it/s]"
     ]
    },
    {
     "name": "stderr",
     "output_type": "stream",
     "text": [
      "\r",
      "Sampling chain 0, 0 divergences:  58%|█████▊    | 584/1000 [01:15<01:12,  5.72it/s]"
     ]
    },
    {
     "name": "stderr",
     "output_type": "stream",
     "text": [
      "\r",
      "Sampling chain 0, 0 divergences:  58%|█████▊    | 585/1000 [01:15<01:11,  5.80it/s]"
     ]
    },
    {
     "name": "stderr",
     "output_type": "stream",
     "text": [
      "\r",
      "Sampling chain 0, 0 divergences:  59%|█████▊    | 586/1000 [01:15<01:10,  5.85it/s]"
     ]
    },
    {
     "name": "stderr",
     "output_type": "stream",
     "text": [
      "\r",
      "Sampling chain 0, 0 divergences:  59%|█████▊    | 587/1000 [01:15<01:11,  5.75it/s]"
     ]
    },
    {
     "name": "stderr",
     "output_type": "stream",
     "text": [
      "\r",
      "Sampling chain 0, 0 divergences:  59%|█████▉    | 588/1000 [01:15<01:10,  5.83it/s]"
     ]
    },
    {
     "name": "stderr",
     "output_type": "stream",
     "text": [
      "\r",
      "Sampling chain 0, 0 divergences:  59%|█████▉    | 589/1000 [01:15<01:09,  5.87it/s]"
     ]
    },
    {
     "name": "stderr",
     "output_type": "stream",
     "text": [
      "\r",
      "Sampling chain 0, 0 divergences:  59%|█████▉    | 590/1000 [01:16<01:11,  5.72it/s]"
     ]
    },
    {
     "name": "stderr",
     "output_type": "stream",
     "text": [
      "\r",
      "Sampling chain 0, 0 divergences:  59%|█████▉    | 591/1000 [01:16<01:10,  5.80it/s]"
     ]
    },
    {
     "name": "stderr",
     "output_type": "stream",
     "text": [
      "\r",
      "Sampling chain 0, 0 divergences:  59%|█████▉    | 592/1000 [01:16<01:09,  5.84it/s]"
     ]
    },
    {
     "name": "stderr",
     "output_type": "stream",
     "text": [
      "\r",
      "Sampling chain 0, 0 divergences:  59%|█████▉    | 593/1000 [01:16<01:09,  5.85it/s]"
     ]
    },
    {
     "name": "stderr",
     "output_type": "stream",
     "text": [
      "\r",
      "Sampling chain 0, 0 divergences:  59%|█████▉    | 594/1000 [01:16<01:10,  5.78it/s]"
     ]
    },
    {
     "name": "stderr",
     "output_type": "stream",
     "text": [
      "\r",
      "Sampling chain 0, 0 divergences:  60%|█████▉    | 595/1000 [01:17<01:09,  5.82it/s]"
     ]
    },
    {
     "name": "stderr",
     "output_type": "stream",
     "text": [
      "\r",
      "Sampling chain 0, 0 divergences:  60%|█████▉    | 596/1000 [01:17<01:09,  5.81it/s]"
     ]
    },
    {
     "name": "stderr",
     "output_type": "stream",
     "text": [
      "\r",
      "Sampling chain 0, 0 divergences:  60%|█████▉    | 597/1000 [01:17<01:09,  5.83it/s]"
     ]
    },
    {
     "name": "stderr",
     "output_type": "stream",
     "text": [
      "\r",
      "Sampling chain 0, 0 divergences:  60%|█████▉    | 598/1000 [01:17<01:08,  5.86it/s]"
     ]
    },
    {
     "name": "stderr",
     "output_type": "stream",
     "text": [
      "\r",
      "Sampling chain 0, 0 divergences:  60%|█████▉    | 599/1000 [01:17<01:09,  5.80it/s]"
     ]
    },
    {
     "name": "stderr",
     "output_type": "stream",
     "text": [
      "\r",
      "Sampling chain 0, 0 divergences:  60%|██████    | 600/1000 [01:17<01:09,  5.73it/s]"
     ]
    },
    {
     "name": "stderr",
     "output_type": "stream",
     "text": [
      "\r",
      "Sampling chain 0, 0 divergences:  60%|██████    | 601/1000 [01:18<01:09,  5.76it/s]"
     ]
    },
    {
     "name": "stderr",
     "output_type": "stream",
     "text": [
      "\r",
      "Sampling chain 0, 0 divergences:  60%|██████    | 602/1000 [01:18<01:08,  5.80it/s]"
     ]
    },
    {
     "name": "stderr",
     "output_type": "stream",
     "text": [
      "\r",
      "Sampling chain 0, 0 divergences:  60%|██████    | 603/1000 [01:18<01:07,  5.85it/s]"
     ]
    },
    {
     "name": "stderr",
     "output_type": "stream",
     "text": [
      "\r",
      "Sampling chain 0, 0 divergences:  60%|██████    | 604/1000 [01:18<01:07,  5.90it/s]"
     ]
    },
    {
     "name": "stderr",
     "output_type": "stream",
     "text": [
      "\r",
      "Sampling chain 0, 0 divergences:  60%|██████    | 605/1000 [01:18<01:06,  5.90it/s]"
     ]
    },
    {
     "name": "stderr",
     "output_type": "stream",
     "text": [
      "\r",
      "Sampling chain 0, 0 divergences:  61%|██████    | 606/1000 [01:18<01:06,  5.96it/s]"
     ]
    },
    {
     "name": "stderr",
     "output_type": "stream",
     "text": [
      "\r",
      "Sampling chain 0, 0 divergences:  61%|██████    | 607/1000 [01:19<01:05,  5.98it/s]"
     ]
    },
    {
     "name": "stderr",
     "output_type": "stream",
     "text": [
      "\r",
      "Sampling chain 0, 0 divergences:  61%|██████    | 608/1000 [01:19<01:06,  5.90it/s]"
     ]
    },
    {
     "name": "stderr",
     "output_type": "stream",
     "text": [
      "\r",
      "Sampling chain 0, 0 divergences:  61%|██████    | 609/1000 [01:19<01:05,  5.93it/s]"
     ]
    },
    {
     "name": "stderr",
     "output_type": "stream",
     "text": [
      "\r",
      "Sampling chain 0, 0 divergences:  61%|██████    | 610/1000 [01:19<01:05,  5.93it/s]"
     ]
    },
    {
     "name": "stderr",
     "output_type": "stream",
     "text": [
      "\r",
      "Sampling chain 0, 0 divergences:  61%|██████    | 611/1000 [01:19<01:07,  5.80it/s]"
     ]
    },
    {
     "name": "stderr",
     "output_type": "stream",
     "text": [
      "\r",
      "Sampling chain 0, 0 divergences:  61%|██████    | 612/1000 [01:19<01:06,  5.82it/s]"
     ]
    },
    {
     "name": "stderr",
     "output_type": "stream",
     "text": [
      "\r",
      "Sampling chain 0, 0 divergences:  61%|██████▏   | 613/1000 [01:20<01:08,  5.69it/s]"
     ]
    },
    {
     "name": "stderr",
     "output_type": "stream",
     "text": [
      "\r",
      "Sampling chain 0, 0 divergences:  61%|██████▏   | 614/1000 [01:20<01:07,  5.71it/s]"
     ]
    },
    {
     "name": "stderr",
     "output_type": "stream",
     "text": [
      "\r",
      "Sampling chain 0, 0 divergences:  62%|██████▏   | 615/1000 [01:20<01:07,  5.68it/s]"
     ]
    },
    {
     "name": "stderr",
     "output_type": "stream",
     "text": [
      "\r",
      "Sampling chain 0, 0 divergences:  62%|██████▏   | 616/1000 [01:20<01:06,  5.75it/s]"
     ]
    },
    {
     "name": "stderr",
     "output_type": "stream",
     "text": [
      "\r",
      "Sampling chain 0, 0 divergences:  62%|██████▏   | 617/1000 [01:20<01:06,  5.77it/s]"
     ]
    },
    {
     "name": "stderr",
     "output_type": "stream",
     "text": [
      "\r",
      "Sampling chain 0, 0 divergences:  62%|██████▏   | 618/1000 [01:20<01:06,  5.74it/s]"
     ]
    },
    {
     "name": "stderr",
     "output_type": "stream",
     "text": [
      "\r",
      "Sampling chain 0, 0 divergences:  62%|██████▏   | 619/1000 [01:21<01:05,  5.78it/s]"
     ]
    },
    {
     "name": "stderr",
     "output_type": "stream",
     "text": [
      "\r",
      "Sampling chain 0, 0 divergences:  62%|██████▏   | 620/1000 [01:21<01:05,  5.81it/s]"
     ]
    },
    {
     "name": "stderr",
     "output_type": "stream",
     "text": [
      "\r",
      "Sampling chain 0, 0 divergences:  62%|██████▏   | 621/1000 [01:21<01:04,  5.84it/s]"
     ]
    },
    {
     "name": "stderr",
     "output_type": "stream",
     "text": [
      "\r",
      "Sampling chain 0, 0 divergences:  62%|██████▏   | 622/1000 [01:21<01:04,  5.88it/s]"
     ]
    },
    {
     "name": "stderr",
     "output_type": "stream",
     "text": [
      "\r",
      "Sampling chain 0, 0 divergences:  62%|██████▏   | 623/1000 [01:21<01:03,  5.96it/s]"
     ]
    },
    {
     "name": "stderr",
     "output_type": "stream",
     "text": [
      "\r",
      "Sampling chain 0, 0 divergences:  62%|██████▏   | 624/1000 [01:21<01:02,  5.97it/s]"
     ]
    },
    {
     "name": "stderr",
     "output_type": "stream",
     "text": [
      "\r",
      "Sampling chain 0, 0 divergences:  62%|██████▎   | 625/1000 [01:22<01:02,  5.96it/s]"
     ]
    },
    {
     "name": "stderr",
     "output_type": "stream",
     "text": [
      "\r",
      "Sampling chain 0, 0 divergences:  63%|██████▎   | 626/1000 [01:22<01:02,  5.98it/s]"
     ]
    },
    {
     "name": "stderr",
     "output_type": "stream",
     "text": [
      "\r",
      "Sampling chain 0, 0 divergences:  63%|██████▎   | 627/1000 [01:22<01:02,  5.98it/s]"
     ]
    },
    {
     "name": "stderr",
     "output_type": "stream",
     "text": [
      "\r",
      "Sampling chain 0, 0 divergences:  63%|██████▎   | 628/1000 [01:22<01:02,  5.99it/s]"
     ]
    },
    {
     "name": "stderr",
     "output_type": "stream",
     "text": [
      "\r",
      "Sampling chain 0, 0 divergences:  63%|██████▎   | 629/1000 [01:22<01:03,  5.84it/s]"
     ]
    },
    {
     "name": "stderr",
     "output_type": "stream",
     "text": [
      "\r",
      "Sampling chain 0, 0 divergences:  63%|██████▎   | 630/1000 [01:23<01:02,  5.89it/s]"
     ]
    },
    {
     "name": "stderr",
     "output_type": "stream",
     "text": [
      "\r",
      "Sampling chain 0, 0 divergences:  63%|██████▎   | 631/1000 [01:23<01:02,  5.90it/s]"
     ]
    },
    {
     "name": "stderr",
     "output_type": "stream",
     "text": [
      "\r",
      "Sampling chain 0, 0 divergences:  63%|██████▎   | 632/1000 [01:23<01:02,  5.90it/s]"
     ]
    },
    {
     "name": "stderr",
     "output_type": "stream",
     "text": [
      "\r",
      "Sampling chain 0, 0 divergences:  63%|██████▎   | 633/1000 [01:23<01:02,  5.89it/s]"
     ]
    },
    {
     "name": "stderr",
     "output_type": "stream",
     "text": [
      "\r",
      "Sampling chain 0, 0 divergences:  63%|██████▎   | 634/1000 [01:23<01:02,  5.89it/s]"
     ]
    },
    {
     "name": "stderr",
     "output_type": "stream",
     "text": [
      "\r",
      "Sampling chain 0, 0 divergences:  64%|██████▎   | 635/1000 [01:23<01:01,  5.89it/s]"
     ]
    },
    {
     "name": "stderr",
     "output_type": "stream",
     "text": [
      "\r",
      "Sampling chain 0, 0 divergences:  64%|██████▎   | 636/1000 [01:24<01:01,  5.94it/s]"
     ]
    },
    {
     "name": "stderr",
     "output_type": "stream",
     "text": [
      "\r",
      "Sampling chain 0, 0 divergences:  64%|██████▎   | 637/1000 [01:24<01:01,  5.94it/s]"
     ]
    },
    {
     "name": "stderr",
     "output_type": "stream",
     "text": [
      "\r",
      "Sampling chain 0, 0 divergences:  64%|██████▍   | 638/1000 [01:24<01:00,  5.98it/s]"
     ]
    },
    {
     "name": "stderr",
     "output_type": "stream",
     "text": [
      "\r",
      "Sampling chain 0, 0 divergences:  64%|██████▍   | 639/1000 [01:24<01:00,  6.01it/s]"
     ]
    },
    {
     "name": "stderr",
     "output_type": "stream",
     "text": [
      "\r",
      "Sampling chain 0, 0 divergences:  64%|██████▍   | 640/1000 [01:24<01:00,  5.92it/s]"
     ]
    },
    {
     "name": "stderr",
     "output_type": "stream",
     "text": [
      "\r",
      "Sampling chain 0, 0 divergences:  64%|██████▍   | 641/1000 [01:24<01:00,  5.91it/s]"
     ]
    },
    {
     "name": "stderr",
     "output_type": "stream",
     "text": [
      "\r",
      "Sampling chain 0, 0 divergences:  64%|██████▍   | 642/1000 [01:25<00:59,  5.98it/s]"
     ]
    },
    {
     "name": "stderr",
     "output_type": "stream",
     "text": [
      "\r",
      "Sampling chain 0, 0 divergences:  64%|██████▍   | 643/1000 [01:25<00:59,  6.00it/s]"
     ]
    },
    {
     "name": "stderr",
     "output_type": "stream",
     "text": [
      "\r",
      "Sampling chain 0, 0 divergences:  64%|██████▍   | 644/1000 [01:25<00:59,  5.97it/s]"
     ]
    },
    {
     "name": "stderr",
     "output_type": "stream",
     "text": [
      "\r",
      "Sampling chain 0, 0 divergences:  64%|██████▍   | 645/1000 [01:25<00:59,  5.93it/s]"
     ]
    },
    {
     "name": "stderr",
     "output_type": "stream",
     "text": [
      "\r",
      "Sampling chain 0, 0 divergences:  65%|██████▍   | 646/1000 [01:25<00:59,  5.95it/s]"
     ]
    },
    {
     "name": "stderr",
     "output_type": "stream",
     "text": [
      "\r",
      "Sampling chain 0, 0 divergences:  65%|██████▍   | 647/1000 [01:25<00:59,  5.90it/s]"
     ]
    },
    {
     "name": "stderr",
     "output_type": "stream",
     "text": [
      "\r",
      "Sampling chain 0, 0 divergences:  65%|██████▍   | 648/1000 [01:26<00:59,  5.90it/s]"
     ]
    },
    {
     "name": "stderr",
     "output_type": "stream",
     "text": [
      "\r",
      "Sampling chain 0, 0 divergences:  65%|██████▍   | 649/1000 [01:26<00:59,  5.90it/s]"
     ]
    },
    {
     "name": "stderr",
     "output_type": "stream",
     "text": [
      "\r",
      "Sampling chain 0, 0 divergences:  65%|██████▌   | 650/1000 [01:26<01:00,  5.83it/s]"
     ]
    },
    {
     "name": "stderr",
     "output_type": "stream",
     "text": [
      "\r",
      "Sampling chain 0, 0 divergences:  65%|██████▌   | 651/1000 [01:26<00:59,  5.88it/s]"
     ]
    },
    {
     "name": "stderr",
     "output_type": "stream",
     "text": [
      "\r",
      "Sampling chain 0, 0 divergences:  65%|██████▌   | 652/1000 [01:26<00:58,  5.91it/s]"
     ]
    },
    {
     "name": "stderr",
     "output_type": "stream",
     "text": [
      "\r",
      "Sampling chain 0, 0 divergences:  65%|██████▌   | 653/1000 [01:26<00:58,  5.94it/s]"
     ]
    },
    {
     "name": "stderr",
     "output_type": "stream",
     "text": [
      "\r",
      "Sampling chain 0, 0 divergences:  65%|██████▌   | 654/1000 [01:27<00:58,  5.96it/s]"
     ]
    },
    {
     "name": "stderr",
     "output_type": "stream",
     "text": [
      "\r",
      "Sampling chain 0, 0 divergences:  66%|██████▌   | 655/1000 [01:27<00:57,  5.99it/s]"
     ]
    },
    {
     "name": "stderr",
     "output_type": "stream",
     "text": [
      "\r",
      "Sampling chain 0, 0 divergences:  66%|██████▌   | 656/1000 [01:27<00:58,  5.93it/s]"
     ]
    },
    {
     "name": "stderr",
     "output_type": "stream",
     "text": [
      "\r",
      "Sampling chain 0, 0 divergences:  66%|██████▌   | 657/1000 [01:27<00:57,  5.95it/s]"
     ]
    },
    {
     "name": "stderr",
     "output_type": "stream",
     "text": [
      "\r",
      "Sampling chain 0, 0 divergences:  66%|██████▌   | 658/1000 [01:27<00:57,  5.92it/s]"
     ]
    },
    {
     "name": "stderr",
     "output_type": "stream",
     "text": [
      "\r",
      "Sampling chain 0, 0 divergences:  66%|██████▌   | 659/1000 [01:27<00:57,  5.89it/s]"
     ]
    },
    {
     "name": "stderr",
     "output_type": "stream",
     "text": [
      "\r",
      "Sampling chain 0, 0 divergences:  66%|██████▌   | 660/1000 [01:28<00:58,  5.81it/s]"
     ]
    },
    {
     "name": "stderr",
     "output_type": "stream",
     "text": [
      "\r",
      "Sampling chain 0, 0 divergences:  66%|██████▌   | 661/1000 [01:28<00:57,  5.89it/s]"
     ]
    },
    {
     "name": "stderr",
     "output_type": "stream",
     "text": [
      "\r",
      "Sampling chain 0, 0 divergences:  66%|██████▌   | 662/1000 [01:28<00:57,  5.93it/s]"
     ]
    },
    {
     "name": "stderr",
     "output_type": "stream",
     "text": [
      "\r",
      "Sampling chain 0, 0 divergences:  66%|██████▋   | 663/1000 [01:28<00:56,  5.98it/s]"
     ]
    },
    {
     "name": "stderr",
     "output_type": "stream",
     "text": [
      "\r",
      "Sampling chain 0, 0 divergences:  66%|██████▋   | 664/1000 [01:28<00:56,  5.96it/s]"
     ]
    },
    {
     "name": "stderr",
     "output_type": "stream",
     "text": [
      "\r",
      "Sampling chain 0, 0 divergences:  66%|██████▋   | 665/1000 [01:28<00:56,  5.96it/s]"
     ]
    },
    {
     "name": "stderr",
     "output_type": "stream",
     "text": [
      "\r",
      "Sampling chain 0, 0 divergences:  67%|██████▋   | 666/1000 [01:29<00:56,  5.93it/s]"
     ]
    },
    {
     "name": "stderr",
     "output_type": "stream",
     "text": [
      "\r",
      "Sampling chain 0, 0 divergences:  67%|██████▋   | 667/1000 [01:29<00:56,  5.90it/s]"
     ]
    },
    {
     "name": "stderr",
     "output_type": "stream",
     "text": [
      "\r",
      "Sampling chain 0, 0 divergences:  67%|██████▋   | 668/1000 [01:29<00:56,  5.85it/s]"
     ]
    },
    {
     "name": "stderr",
     "output_type": "stream",
     "text": [
      "\r",
      "Sampling chain 0, 0 divergences:  67%|██████▋   | 669/1000 [01:29<00:56,  5.89it/s]"
     ]
    },
    {
     "name": "stderr",
     "output_type": "stream",
     "text": [
      "\r",
      "Sampling chain 0, 0 divergences:  67%|██████▋   | 670/1000 [01:29<00:55,  5.92it/s]"
     ]
    },
    {
     "name": "stderr",
     "output_type": "stream",
     "text": [
      "\r",
      "Sampling chain 0, 0 divergences:  67%|██████▋   | 671/1000 [01:29<00:55,  5.92it/s]"
     ]
    },
    {
     "name": "stderr",
     "output_type": "stream",
     "text": [
      "\r",
      "Sampling chain 0, 0 divergences:  67%|██████▋   | 672/1000 [01:30<00:56,  5.85it/s]"
     ]
    },
    {
     "name": "stderr",
     "output_type": "stream",
     "text": [
      "\r",
      "Sampling chain 0, 0 divergences:  67%|██████▋   | 673/1000 [01:30<00:55,  5.92it/s]"
     ]
    },
    {
     "name": "stderr",
     "output_type": "stream",
     "text": [
      "\r",
      "Sampling chain 0, 0 divergences:  67%|██████▋   | 674/1000 [01:30<00:55,  5.88it/s]"
     ]
    },
    {
     "name": "stderr",
     "output_type": "stream",
     "text": [
      "\r",
      "Sampling chain 0, 0 divergences:  68%|██████▊   | 675/1000 [01:30<00:56,  5.71it/s]"
     ]
    },
    {
     "name": "stderr",
     "output_type": "stream",
     "text": [
      "\r",
      "Sampling chain 0, 0 divergences:  68%|██████▊   | 676/1000 [01:30<00:56,  5.73it/s]"
     ]
    },
    {
     "name": "stderr",
     "output_type": "stream",
     "text": [
      "\r",
      "Sampling chain 0, 0 divergences:  68%|██████▊   | 677/1000 [01:30<00:55,  5.78it/s]"
     ]
    },
    {
     "name": "stderr",
     "output_type": "stream",
     "text": [
      "\r",
      "Sampling chain 0, 0 divergences:  68%|██████▊   | 678/1000 [01:31<00:54,  5.86it/s]"
     ]
    },
    {
     "name": "stderr",
     "output_type": "stream",
     "text": [
      "\r",
      "Sampling chain 0, 0 divergences:  68%|██████▊   | 679/1000 [01:31<00:54,  5.87it/s]"
     ]
    },
    {
     "name": "stderr",
     "output_type": "stream",
     "text": [
      "\r",
      "Sampling chain 0, 0 divergences:  68%|██████▊   | 680/1000 [01:31<00:54,  5.86it/s]"
     ]
    },
    {
     "name": "stderr",
     "output_type": "stream",
     "text": [
      "\r",
      "Sampling chain 0, 0 divergences:  68%|██████▊   | 681/1000 [01:31<00:53,  5.91it/s]"
     ]
    },
    {
     "name": "stderr",
     "output_type": "stream",
     "text": [
      "\r",
      "Sampling chain 0, 0 divergences:  68%|██████▊   | 682/1000 [01:31<00:53,  5.94it/s]"
     ]
    },
    {
     "name": "stderr",
     "output_type": "stream",
     "text": [
      "\r",
      "Sampling chain 0, 0 divergences:  68%|██████▊   | 683/1000 [01:31<00:53,  5.93it/s]"
     ]
    },
    {
     "name": "stderr",
     "output_type": "stream",
     "text": [
      "\r",
      "Sampling chain 0, 0 divergences:  68%|██████▊   | 684/1000 [01:32<00:53,  5.93it/s]"
     ]
    },
    {
     "name": "stderr",
     "output_type": "stream",
     "text": [
      "\r",
      "Sampling chain 0, 0 divergences:  68%|██████▊   | 685/1000 [01:32<00:53,  5.93it/s]"
     ]
    },
    {
     "name": "stderr",
     "output_type": "stream",
     "text": [
      "\r",
      "Sampling chain 0, 0 divergences:  69%|██████▊   | 686/1000 [01:32<00:53,  5.91it/s]"
     ]
    },
    {
     "name": "stderr",
     "output_type": "stream",
     "text": [
      "\r",
      "Sampling chain 0, 0 divergences:  69%|██████▊   | 687/1000 [01:32<00:52,  5.93it/s]"
     ]
    },
    {
     "name": "stderr",
     "output_type": "stream",
     "text": [
      "\r",
      "Sampling chain 0, 0 divergences:  69%|██████▉   | 688/1000 [01:32<00:52,  5.95it/s]"
     ]
    },
    {
     "name": "stderr",
     "output_type": "stream",
     "text": [
      "\r",
      "Sampling chain 0, 0 divergences:  69%|██████▉   | 689/1000 [01:32<00:52,  5.93it/s]"
     ]
    },
    {
     "name": "stderr",
     "output_type": "stream",
     "text": [
      "\r",
      "Sampling chain 0, 0 divergences:  69%|██████▉   | 690/1000 [01:33<00:52,  5.88it/s]"
     ]
    },
    {
     "name": "stderr",
     "output_type": "stream",
     "text": [
      "\r",
      "Sampling chain 0, 0 divergences:  69%|██████▉   | 691/1000 [01:33<00:52,  5.86it/s]"
     ]
    },
    {
     "name": "stderr",
     "output_type": "stream",
     "text": [
      "\r",
      "Sampling chain 0, 0 divergences:  69%|██████▉   | 692/1000 [01:33<00:52,  5.91it/s]"
     ]
    },
    {
     "name": "stderr",
     "output_type": "stream",
     "text": [
      "\r",
      "Sampling chain 0, 0 divergences:  69%|██████▉   | 693/1000 [01:33<00:51,  5.93it/s]"
     ]
    },
    {
     "name": "stderr",
     "output_type": "stream",
     "text": [
      "\r",
      "Sampling chain 0, 0 divergences:  69%|██████▉   | 694/1000 [01:33<00:51,  5.96it/s]"
     ]
    },
    {
     "name": "stderr",
     "output_type": "stream",
     "text": [
      "\r",
      "Sampling chain 0, 0 divergences:  70%|██████▉   | 695/1000 [01:33<00:51,  5.92it/s]"
     ]
    },
    {
     "name": "stderr",
     "output_type": "stream",
     "text": [
      "\r",
      "Sampling chain 0, 0 divergences:  70%|██████▉   | 696/1000 [01:34<00:51,  5.88it/s]"
     ]
    },
    {
     "name": "stderr",
     "output_type": "stream",
     "text": [
      "\r",
      "Sampling chain 0, 0 divergences:  70%|██████▉   | 697/1000 [01:34<00:51,  5.85it/s]"
     ]
    },
    {
     "name": "stderr",
     "output_type": "stream",
     "text": [
      "\r",
      "Sampling chain 0, 0 divergences:  70%|██████▉   | 698/1000 [01:34<00:51,  5.89it/s]"
     ]
    },
    {
     "name": "stderr",
     "output_type": "stream",
     "text": [
      "\r",
      "Sampling chain 0, 0 divergences:  70%|██████▉   | 699/1000 [01:34<00:51,  5.89it/s]"
     ]
    },
    {
     "name": "stderr",
     "output_type": "stream",
     "text": [
      "\r",
      "Sampling chain 0, 0 divergences:  70%|███████   | 700/1000 [01:34<00:51,  5.78it/s]"
     ]
    },
    {
     "name": "stderr",
     "output_type": "stream",
     "text": [
      "\r",
      "Sampling chain 0, 0 divergences:  70%|███████   | 701/1000 [01:35<00:52,  5.71it/s]"
     ]
    },
    {
     "name": "stderr",
     "output_type": "stream",
     "text": [
      "\r",
      "Sampling chain 0, 0 divergences:  70%|███████   | 702/1000 [01:35<00:52,  5.69it/s]"
     ]
    },
    {
     "name": "stderr",
     "output_type": "stream",
     "text": [
      "\r",
      "Sampling chain 0, 0 divergences:  70%|███████   | 703/1000 [01:35<00:51,  5.76it/s]"
     ]
    },
    {
     "name": "stderr",
     "output_type": "stream",
     "text": [
      "\r",
      "Sampling chain 0, 0 divergences:  70%|███████   | 704/1000 [01:35<00:50,  5.80it/s]"
     ]
    },
    {
     "name": "stderr",
     "output_type": "stream",
     "text": [
      "\r",
      "Sampling chain 0, 0 divergences:  70%|███████   | 705/1000 [01:35<00:50,  5.82it/s]"
     ]
    },
    {
     "name": "stderr",
     "output_type": "stream",
     "text": [
      "\r",
      "Sampling chain 0, 0 divergences:  71%|███████   | 706/1000 [01:35<00:50,  5.85it/s]"
     ]
    },
    {
     "name": "stderr",
     "output_type": "stream",
     "text": [
      "\r",
      "Sampling chain 0, 0 divergences:  71%|███████   | 707/1000 [01:36<00:49,  5.87it/s]"
     ]
    },
    {
     "name": "stderr",
     "output_type": "stream",
     "text": [
      "\r",
      "Sampling chain 0, 0 divergences:  71%|███████   | 708/1000 [01:36<00:49,  5.85it/s]"
     ]
    },
    {
     "name": "stderr",
     "output_type": "stream",
     "text": [
      "\r",
      "Sampling chain 0, 0 divergences:  71%|███████   | 709/1000 [01:36<00:49,  5.87it/s]"
     ]
    },
    {
     "name": "stderr",
     "output_type": "stream",
     "text": [
      "\r",
      "Sampling chain 0, 0 divergences:  71%|███████   | 710/1000 [01:36<00:50,  5.77it/s]"
     ]
    },
    {
     "name": "stderr",
     "output_type": "stream",
     "text": [
      "\r",
      "Sampling chain 0, 0 divergences:  71%|███████   | 711/1000 [01:36<00:49,  5.83it/s]"
     ]
    },
    {
     "name": "stderr",
     "output_type": "stream",
     "text": [
      "\r",
      "Sampling chain 0, 0 divergences:  71%|███████   | 712/1000 [01:36<00:48,  5.92it/s]"
     ]
    },
    {
     "name": "stderr",
     "output_type": "stream",
     "text": [
      "\r",
      "Sampling chain 0, 0 divergences:  71%|███████▏  | 713/1000 [01:37<00:48,  5.92it/s]"
     ]
    },
    {
     "name": "stderr",
     "output_type": "stream",
     "text": [
      "\r",
      "Sampling chain 0, 0 divergences:  71%|███████▏  | 714/1000 [01:37<00:48,  5.95it/s]"
     ]
    },
    {
     "name": "stderr",
     "output_type": "stream",
     "text": [
      "\r",
      "Sampling chain 0, 0 divergences:  72%|███████▏  | 715/1000 [01:37<00:48,  5.93it/s]"
     ]
    },
    {
     "name": "stderr",
     "output_type": "stream",
     "text": [
      "\r",
      "Sampling chain 0, 0 divergences:  72%|███████▏  | 716/1000 [01:37<00:47,  5.94it/s]"
     ]
    },
    {
     "name": "stderr",
     "output_type": "stream",
     "text": [
      "\r",
      "Sampling chain 0, 0 divergences:  72%|███████▏  | 717/1000 [01:37<00:48,  5.90it/s]"
     ]
    },
    {
     "name": "stderr",
     "output_type": "stream",
     "text": [
      "\r",
      "Sampling chain 0, 0 divergences:  72%|███████▏  | 718/1000 [01:37<00:48,  5.84it/s]"
     ]
    },
    {
     "name": "stderr",
     "output_type": "stream",
     "text": [
      "\r",
      "Sampling chain 0, 0 divergences:  72%|███████▏  | 719/1000 [01:38<00:48,  5.81it/s]"
     ]
    },
    {
     "name": "stderr",
     "output_type": "stream",
     "text": [
      "\r",
      "Sampling chain 0, 0 divergences:  72%|███████▏  | 720/1000 [01:38<00:48,  5.80it/s]"
     ]
    },
    {
     "name": "stderr",
     "output_type": "stream",
     "text": [
      "\r",
      "Sampling chain 0, 0 divergences:  72%|███████▏  | 721/1000 [01:38<00:47,  5.82it/s]"
     ]
    },
    {
     "name": "stderr",
     "output_type": "stream",
     "text": [
      "\r",
      "Sampling chain 0, 0 divergences:  72%|███████▏  | 722/1000 [01:38<00:47,  5.86it/s]"
     ]
    },
    {
     "name": "stderr",
     "output_type": "stream",
     "text": [
      "\r",
      "Sampling chain 0, 0 divergences:  72%|███████▏  | 723/1000 [01:38<00:46,  5.92it/s]"
     ]
    },
    {
     "name": "stderr",
     "output_type": "stream",
     "text": [
      "\r",
      "Sampling chain 0, 0 divergences:  72%|███████▏  | 724/1000 [01:38<00:46,  5.96it/s]"
     ]
    },
    {
     "name": "stderr",
     "output_type": "stream",
     "text": [
      "\r",
      "Sampling chain 0, 0 divergences:  72%|███████▎  | 725/1000 [01:39<00:46,  5.92it/s]"
     ]
    },
    {
     "name": "stderr",
     "output_type": "stream",
     "text": [
      "\r",
      "Sampling chain 0, 0 divergences:  73%|███████▎  | 726/1000 [01:39<00:46,  5.90it/s]"
     ]
    },
    {
     "name": "stderr",
     "output_type": "stream",
     "text": [
      "\r",
      "Sampling chain 0, 0 divergences:  73%|███████▎  | 727/1000 [01:39<00:46,  5.91it/s]"
     ]
    },
    {
     "name": "stderr",
     "output_type": "stream",
     "text": [
      "\r",
      "Sampling chain 0, 0 divergences:  73%|███████▎  | 728/1000 [01:39<00:45,  5.93it/s]"
     ]
    },
    {
     "name": "stderr",
     "output_type": "stream",
     "text": [
      "\r",
      "Sampling chain 0, 0 divergences:  73%|███████▎  | 729/1000 [01:39<00:45,  5.97it/s]"
     ]
    },
    {
     "name": "stderr",
     "output_type": "stream",
     "text": [
      "\r",
      "Sampling chain 0, 0 divergences:  73%|███████▎  | 730/1000 [01:39<00:45,  5.95it/s]"
     ]
    },
    {
     "name": "stderr",
     "output_type": "stream",
     "text": [
      "\r",
      "Sampling chain 0, 0 divergences:  73%|███████▎  | 731/1000 [01:40<00:45,  5.92it/s]"
     ]
    },
    {
     "name": "stderr",
     "output_type": "stream",
     "text": [
      "\r",
      "Sampling chain 0, 0 divergences:  73%|███████▎  | 732/1000 [01:40<00:45,  5.90it/s]"
     ]
    },
    {
     "name": "stderr",
     "output_type": "stream",
     "text": [
      "\r",
      "Sampling chain 0, 0 divergences:  73%|███████▎  | 733/1000 [01:40<00:46,  5.75it/s]"
     ]
    },
    {
     "name": "stderr",
     "output_type": "stream",
     "text": [
      "\r",
      "Sampling chain 0, 0 divergences:  73%|███████▎  | 734/1000 [01:40<00:48,  5.50it/s]"
     ]
    },
    {
     "name": "stderr",
     "output_type": "stream",
     "text": [
      "\r",
      "Sampling chain 0, 0 divergences:  74%|███████▎  | 735/1000 [01:40<00:46,  5.65it/s]"
     ]
    },
    {
     "name": "stderr",
     "output_type": "stream",
     "text": [
      "\r",
      "Sampling chain 0, 0 divergences:  74%|███████▎  | 736/1000 [01:41<00:47,  5.57it/s]"
     ]
    },
    {
     "name": "stderr",
     "output_type": "stream",
     "text": [
      "\r",
      "Sampling chain 0, 0 divergences:  74%|███████▎  | 737/1000 [01:41<00:46,  5.60it/s]"
     ]
    },
    {
     "name": "stderr",
     "output_type": "stream",
     "text": [
      "\r",
      "Sampling chain 0, 0 divergences:  74%|███████▍  | 738/1000 [01:41<00:46,  5.67it/s]"
     ]
    },
    {
     "name": "stderr",
     "output_type": "stream",
     "text": [
      "\r",
      "Sampling chain 0, 0 divergences:  74%|███████▍  | 739/1000 [01:41<00:45,  5.69it/s]"
     ]
    },
    {
     "name": "stderr",
     "output_type": "stream",
     "text": [
      "\r",
      "Sampling chain 0, 0 divergences:  74%|███████▍  | 740/1000 [01:41<00:45,  5.69it/s]"
     ]
    },
    {
     "name": "stderr",
     "output_type": "stream",
     "text": [
      "\r",
      "Sampling chain 0, 0 divergences:  74%|███████▍  | 741/1000 [01:41<00:45,  5.75it/s]"
     ]
    },
    {
     "name": "stderr",
     "output_type": "stream",
     "text": [
      "\r",
      "Sampling chain 0, 0 divergences:  74%|███████▍  | 742/1000 [01:42<00:44,  5.81it/s]"
     ]
    },
    {
     "name": "stderr",
     "output_type": "stream",
     "text": [
      "\r",
      "Sampling chain 0, 0 divergences:  74%|███████▍  | 743/1000 [01:42<00:44,  5.83it/s]"
     ]
    },
    {
     "name": "stderr",
     "output_type": "stream",
     "text": [
      "\r",
      "Sampling chain 0, 0 divergences:  74%|███████▍  | 744/1000 [01:42<00:43,  5.91it/s]"
     ]
    },
    {
     "name": "stderr",
     "output_type": "stream",
     "text": [
      "\r",
      "Sampling chain 0, 0 divergences:  74%|███████▍  | 745/1000 [01:42<00:42,  5.94it/s]"
     ]
    },
    {
     "name": "stderr",
     "output_type": "stream",
     "text": [
      "\r",
      "Sampling chain 0, 0 divergences:  75%|███████▍  | 746/1000 [01:42<00:42,  5.92it/s]"
     ]
    },
    {
     "name": "stderr",
     "output_type": "stream",
     "text": [
      "\r",
      "Sampling chain 0, 0 divergences:  75%|███████▍  | 747/1000 [01:42<00:43,  5.88it/s]"
     ]
    },
    {
     "name": "stderr",
     "output_type": "stream",
     "text": [
      "\r",
      "Sampling chain 0, 0 divergences:  75%|███████▍  | 748/1000 [01:43<00:42,  5.91it/s]"
     ]
    },
    {
     "name": "stderr",
     "output_type": "stream",
     "text": [
      "\r",
      "Sampling chain 0, 0 divergences:  75%|███████▍  | 749/1000 [01:43<00:43,  5.84it/s]"
     ]
    },
    {
     "name": "stderr",
     "output_type": "stream",
     "text": [
      "\r",
      "Sampling chain 0, 0 divergences:  75%|███████▌  | 750/1000 [01:43<00:43,  5.78it/s]"
     ]
    },
    {
     "name": "stderr",
     "output_type": "stream",
     "text": [
      "\r",
      "Sampling chain 0, 0 divergences:  75%|███████▌  | 751/1000 [01:43<00:42,  5.82it/s]"
     ]
    },
    {
     "name": "stderr",
     "output_type": "stream",
     "text": [
      "\r",
      "Sampling chain 0, 0 divergences:  75%|███████▌  | 752/1000 [01:43<00:43,  5.76it/s]"
     ]
    },
    {
     "name": "stderr",
     "output_type": "stream",
     "text": [
      "\r",
      "Sampling chain 0, 0 divergences:  75%|███████▌  | 753/1000 [01:43<00:42,  5.83it/s]"
     ]
    },
    {
     "name": "stderr",
     "output_type": "stream",
     "text": [
      "\r",
      "Sampling chain 0, 0 divergences:  75%|███████▌  | 754/1000 [01:44<00:42,  5.77it/s]"
     ]
    },
    {
     "name": "stderr",
     "output_type": "stream",
     "text": [
      "\r",
      "Sampling chain 0, 0 divergences:  76%|███████▌  | 755/1000 [01:44<00:42,  5.81it/s]"
     ]
    },
    {
     "name": "stderr",
     "output_type": "stream",
     "text": [
      "\r",
      "Sampling chain 0, 0 divergences:  76%|███████▌  | 756/1000 [01:44<00:41,  5.87it/s]"
     ]
    },
    {
     "name": "stderr",
     "output_type": "stream",
     "text": [
      "\r",
      "Sampling chain 0, 0 divergences:  76%|███████▌  | 757/1000 [01:44<00:41,  5.88it/s]"
     ]
    },
    {
     "name": "stderr",
     "output_type": "stream",
     "text": [
      "\r",
      "Sampling chain 0, 0 divergences:  76%|███████▌  | 758/1000 [01:44<00:40,  5.91it/s]"
     ]
    },
    {
     "name": "stderr",
     "output_type": "stream",
     "text": [
      "\r",
      "Sampling chain 0, 0 divergences:  76%|███████▌  | 759/1000 [01:44<00:41,  5.83it/s]"
     ]
    },
    {
     "name": "stderr",
     "output_type": "stream",
     "text": [
      "\r",
      "Sampling chain 0, 0 divergences:  76%|███████▌  | 760/1000 [01:45<00:41,  5.75it/s]"
     ]
    },
    {
     "name": "stderr",
     "output_type": "stream",
     "text": [
      "\r",
      "Sampling chain 0, 0 divergences:  76%|███████▌  | 761/1000 [01:45<00:41,  5.74it/s]"
     ]
    },
    {
     "name": "stderr",
     "output_type": "stream",
     "text": [
      "\r",
      "Sampling chain 0, 0 divergences:  76%|███████▌  | 762/1000 [01:45<00:40,  5.81it/s]"
     ]
    },
    {
     "name": "stderr",
     "output_type": "stream",
     "text": [
      "\r",
      "Sampling chain 0, 0 divergences:  76%|███████▋  | 763/1000 [01:45<00:40,  5.84it/s]"
     ]
    },
    {
     "name": "stderr",
     "output_type": "stream",
     "text": [
      "\r",
      "Sampling chain 0, 0 divergences:  76%|███████▋  | 764/1000 [01:45<00:40,  5.89it/s]"
     ]
    },
    {
     "name": "stderr",
     "output_type": "stream",
     "text": [
      "\r",
      "Sampling chain 0, 0 divergences:  76%|███████▋  | 765/1000 [01:46<00:39,  5.92it/s]"
     ]
    },
    {
     "name": "stderr",
     "output_type": "stream",
     "text": [
      "\r",
      "Sampling chain 0, 0 divergences:  77%|███████▋  | 766/1000 [01:46<00:39,  5.86it/s]"
     ]
    },
    {
     "name": "stderr",
     "output_type": "stream",
     "text": [
      "\r",
      "Sampling chain 0, 0 divergences:  77%|███████▋  | 767/1000 [01:46<00:39,  5.88it/s]"
     ]
    },
    {
     "name": "stderr",
     "output_type": "stream",
     "text": [
      "\r",
      "Sampling chain 0, 0 divergences:  77%|███████▋  | 768/1000 [01:46<00:39,  5.92it/s]"
     ]
    },
    {
     "name": "stderr",
     "output_type": "stream",
     "text": [
      "\r",
      "Sampling chain 0, 0 divergences:  77%|███████▋  | 769/1000 [01:46<00:38,  5.93it/s]"
     ]
    },
    {
     "name": "stderr",
     "output_type": "stream",
     "text": [
      "\r",
      "Sampling chain 0, 0 divergences:  77%|███████▋  | 770/1000 [01:46<00:39,  5.87it/s]"
     ]
    },
    {
     "name": "stderr",
     "output_type": "stream",
     "text": [
      "\r",
      "Sampling chain 0, 0 divergences:  77%|███████▋  | 771/1000 [01:47<00:38,  5.93it/s]"
     ]
    },
    {
     "name": "stderr",
     "output_type": "stream",
     "text": [
      "\r",
      "Sampling chain 0, 0 divergences:  77%|███████▋  | 772/1000 [01:47<00:38,  5.98it/s]"
     ]
    },
    {
     "name": "stderr",
     "output_type": "stream",
     "text": [
      "\r",
      "Sampling chain 0, 0 divergences:  77%|███████▋  | 773/1000 [01:47<00:38,  5.95it/s]"
     ]
    },
    {
     "name": "stderr",
     "output_type": "stream",
     "text": [
      "\r",
      "Sampling chain 0, 0 divergences:  77%|███████▋  | 774/1000 [01:47<00:38,  5.95it/s]"
     ]
    },
    {
     "name": "stderr",
     "output_type": "stream",
     "text": [
      "\r",
      "Sampling chain 0, 0 divergences:  78%|███████▊  | 775/1000 [01:47<00:37,  5.95it/s]"
     ]
    },
    {
     "name": "stderr",
     "output_type": "stream",
     "text": [
      "\r",
      "Sampling chain 0, 0 divergences:  78%|███████▊  | 776/1000 [01:47<00:37,  5.93it/s]"
     ]
    },
    {
     "name": "stderr",
     "output_type": "stream",
     "text": [
      "\r",
      "Sampling chain 0, 0 divergences:  78%|███████▊  | 777/1000 [01:48<00:37,  5.94it/s]"
     ]
    },
    {
     "name": "stderr",
     "output_type": "stream",
     "text": [
      "\r",
      "Sampling chain 0, 0 divergences:  78%|███████▊  | 778/1000 [01:48<00:37,  5.95it/s]"
     ]
    },
    {
     "name": "stderr",
     "output_type": "stream",
     "text": [
      "\r",
      "Sampling chain 0, 0 divergences:  78%|███████▊  | 779/1000 [01:48<00:37,  5.93it/s]"
     ]
    },
    {
     "name": "stderr",
     "output_type": "stream",
     "text": [
      "\r",
      "Sampling chain 0, 0 divergences:  78%|███████▊  | 780/1000 [01:48<00:37,  5.94it/s]"
     ]
    },
    {
     "name": "stderr",
     "output_type": "stream",
     "text": [
      "\r",
      "Sampling chain 0, 0 divergences:  78%|███████▊  | 781/1000 [01:48<00:36,  5.98it/s]"
     ]
    },
    {
     "name": "stderr",
     "output_type": "stream",
     "text": [
      "\r",
      "Sampling chain 0, 0 divergences:  78%|███████▊  | 782/1000 [01:48<00:36,  5.97it/s]"
     ]
    },
    {
     "name": "stderr",
     "output_type": "stream",
     "text": [
      "\r",
      "Sampling chain 0, 0 divergences:  78%|███████▊  | 783/1000 [01:49<00:36,  5.99it/s]"
     ]
    },
    {
     "name": "stderr",
     "output_type": "stream",
     "text": [
      "\r",
      "Sampling chain 0, 0 divergences:  78%|███████▊  | 784/1000 [01:49<00:35,  6.01it/s]"
     ]
    },
    {
     "name": "stderr",
     "output_type": "stream",
     "text": [
      "\r",
      "Sampling chain 0, 0 divergences:  78%|███████▊  | 785/1000 [01:49<00:36,  5.97it/s]"
     ]
    },
    {
     "name": "stderr",
     "output_type": "stream",
     "text": [
      "\r",
      "Sampling chain 0, 0 divergences:  79%|███████▊  | 786/1000 [01:49<00:35,  5.96it/s]"
     ]
    },
    {
     "name": "stderr",
     "output_type": "stream",
     "text": [
      "\r",
      "Sampling chain 0, 0 divergences:  79%|███████▊  | 787/1000 [01:49<00:36,  5.86it/s]"
     ]
    },
    {
     "name": "stderr",
     "output_type": "stream",
     "text": [
      "\r",
      "Sampling chain 0, 0 divergences:  79%|███████▉  | 788/1000 [01:49<00:35,  5.94it/s]"
     ]
    },
    {
     "name": "stderr",
     "output_type": "stream",
     "text": [
      "\r",
      "Sampling chain 0, 0 divergences:  79%|███████▉  | 789/1000 [01:50<00:36,  5.84it/s]"
     ]
    },
    {
     "name": "stderr",
     "output_type": "stream",
     "text": [
      "\r",
      "Sampling chain 0, 0 divergences:  79%|███████▉  | 790/1000 [01:50<00:36,  5.81it/s]"
     ]
    },
    {
     "name": "stderr",
     "output_type": "stream",
     "text": [
      "\r",
      "Sampling chain 0, 0 divergences:  79%|███████▉  | 791/1000 [01:50<00:36,  5.70it/s]"
     ]
    },
    {
     "name": "stderr",
     "output_type": "stream",
     "text": [
      "\r",
      "Sampling chain 0, 0 divergences:  79%|███████▉  | 792/1000 [01:50<00:36,  5.75it/s]"
     ]
    },
    {
     "name": "stderr",
     "output_type": "stream",
     "text": [
      "\r",
      "Sampling chain 0, 0 divergences:  79%|███████▉  | 793/1000 [01:50<00:35,  5.77it/s]"
     ]
    },
    {
     "name": "stderr",
     "output_type": "stream",
     "text": [
      "\r",
      "Sampling chain 0, 0 divergences:  79%|███████▉  | 794/1000 [01:50<00:35,  5.75it/s]"
     ]
    },
    {
     "name": "stderr",
     "output_type": "stream",
     "text": [
      "\r",
      "Sampling chain 0, 0 divergences:  80%|███████▉  | 795/1000 [01:51<00:35,  5.71it/s]"
     ]
    },
    {
     "name": "stderr",
     "output_type": "stream",
     "text": [
      "\r",
      "Sampling chain 0, 0 divergences:  80%|███████▉  | 796/1000 [01:51<00:35,  5.78it/s]"
     ]
    },
    {
     "name": "stderr",
     "output_type": "stream",
     "text": [
      "\r",
      "Sampling chain 0, 0 divergences:  80%|███████▉  | 797/1000 [01:51<00:34,  5.81it/s]"
     ]
    },
    {
     "name": "stderr",
     "output_type": "stream",
     "text": [
      "\r",
      "Sampling chain 0, 0 divergences:  80%|███████▉  | 798/1000 [01:51<00:34,  5.82it/s]"
     ]
    },
    {
     "name": "stderr",
     "output_type": "stream",
     "text": [
      "\r",
      "Sampling chain 0, 0 divergences:  80%|███████▉  | 799/1000 [01:51<00:34,  5.81it/s]"
     ]
    },
    {
     "name": "stderr",
     "output_type": "stream",
     "text": [
      "\r",
      "Sampling chain 0, 0 divergences:  80%|████████  | 800/1000 [01:51<00:34,  5.76it/s]"
     ]
    },
    {
     "name": "stderr",
     "output_type": "stream",
     "text": [
      "\r",
      "Sampling chain 0, 0 divergences:  80%|████████  | 801/1000 [01:52<00:34,  5.84it/s]"
     ]
    },
    {
     "name": "stderr",
     "output_type": "stream",
     "text": [
      "\r",
      "Sampling chain 0, 0 divergences:  80%|████████  | 802/1000 [01:52<00:33,  5.85it/s]"
     ]
    },
    {
     "name": "stderr",
     "output_type": "stream",
     "text": [
      "\r",
      "Sampling chain 0, 0 divergences:  80%|████████  | 803/1000 [01:52<00:33,  5.87it/s]"
     ]
    },
    {
     "name": "stderr",
     "output_type": "stream",
     "text": [
      "\r",
      "Sampling chain 0, 0 divergences:  80%|████████  | 804/1000 [01:52<00:33,  5.87it/s]"
     ]
    },
    {
     "name": "stderr",
     "output_type": "stream",
     "text": [
      "\r",
      "Sampling chain 0, 0 divergences:  80%|████████  | 805/1000 [01:52<00:33,  5.90it/s]"
     ]
    },
    {
     "name": "stderr",
     "output_type": "stream",
     "text": [
      "\r",
      "Sampling chain 0, 0 divergences:  81%|████████  | 806/1000 [01:52<00:32,  5.95it/s]"
     ]
    },
    {
     "name": "stderr",
     "output_type": "stream",
     "text": [
      "\r",
      "Sampling chain 0, 0 divergences:  81%|████████  | 807/1000 [01:53<00:32,  5.97it/s]"
     ]
    },
    {
     "name": "stderr",
     "output_type": "stream",
     "text": [
      "\r",
      "Sampling chain 0, 0 divergences:  81%|████████  | 808/1000 [01:53<00:32,  5.95it/s]"
     ]
    },
    {
     "name": "stderr",
     "output_type": "stream",
     "text": [
      "\r",
      "Sampling chain 0, 0 divergences:  81%|████████  | 809/1000 [01:53<00:32,  5.90it/s]"
     ]
    },
    {
     "name": "stderr",
     "output_type": "stream",
     "text": [
      "\r",
      "Sampling chain 0, 0 divergences:  81%|████████  | 810/1000 [01:53<00:31,  5.96it/s]"
     ]
    },
    {
     "name": "stderr",
     "output_type": "stream",
     "text": [
      "\r",
      "Sampling chain 0, 0 divergences:  81%|████████  | 811/1000 [01:53<00:32,  5.86it/s]"
     ]
    },
    {
     "name": "stderr",
     "output_type": "stream",
     "text": [
      "\r",
      "Sampling chain 0, 0 divergences:  81%|████████  | 812/1000 [01:53<00:32,  5.86it/s]"
     ]
    },
    {
     "name": "stderr",
     "output_type": "stream",
     "text": [
      "\r",
      "Sampling chain 0, 0 divergences:  81%|████████▏ | 813/1000 [01:54<00:31,  5.92it/s]"
     ]
    },
    {
     "name": "stderr",
     "output_type": "stream",
     "text": [
      "\r",
      "Sampling chain 0, 0 divergences:  81%|████████▏ | 814/1000 [01:54<00:31,  5.89it/s]"
     ]
    },
    {
     "name": "stderr",
     "output_type": "stream",
     "text": [
      "\r",
      "Sampling chain 0, 0 divergences:  82%|████████▏ | 815/1000 [01:54<00:31,  5.89it/s]"
     ]
    },
    {
     "name": "stderr",
     "output_type": "stream",
     "text": [
      "\r",
      "Sampling chain 0, 0 divergences:  82%|████████▏ | 816/1000 [01:54<00:31,  5.90it/s]"
     ]
    },
    {
     "name": "stderr",
     "output_type": "stream",
     "text": [
      "\r",
      "Sampling chain 0, 0 divergences:  82%|████████▏ | 817/1000 [01:54<00:30,  5.92it/s]"
     ]
    },
    {
     "name": "stderr",
     "output_type": "stream",
     "text": [
      "\r",
      "Sampling chain 0, 0 divergences:  82%|████████▏ | 818/1000 [01:55<00:30,  5.96it/s]"
     ]
    },
    {
     "name": "stderr",
     "output_type": "stream",
     "text": [
      "\r",
      "Sampling chain 0, 0 divergences:  82%|████████▏ | 819/1000 [01:55<00:30,  5.97it/s]"
     ]
    },
    {
     "name": "stderr",
     "output_type": "stream",
     "text": [
      "\r",
      "Sampling chain 0, 0 divergences:  82%|████████▏ | 820/1000 [01:55<00:30,  5.89it/s]"
     ]
    },
    {
     "name": "stderr",
     "output_type": "stream",
     "text": [
      "\r",
      "Sampling chain 0, 0 divergences:  82%|████████▏ | 821/1000 [01:55<00:30,  5.85it/s]"
     ]
    },
    {
     "name": "stderr",
     "output_type": "stream",
     "text": [
      "\r",
      "Sampling chain 0, 0 divergences:  82%|████████▏ | 822/1000 [01:55<00:30,  5.78it/s]"
     ]
    },
    {
     "name": "stderr",
     "output_type": "stream",
     "text": [
      "\r",
      "Sampling chain 0, 0 divergences:  82%|████████▏ | 823/1000 [01:55<00:30,  5.80it/s]"
     ]
    },
    {
     "name": "stderr",
     "output_type": "stream",
     "text": [
      "\r",
      "Sampling chain 0, 0 divergences:  82%|████████▏ | 824/1000 [01:56<00:29,  5.87it/s]"
     ]
    },
    {
     "name": "stderr",
     "output_type": "stream",
     "text": [
      "\r",
      "Sampling chain 0, 0 divergences:  82%|████████▎ | 825/1000 [01:56<00:29,  5.94it/s]"
     ]
    },
    {
     "name": "stderr",
     "output_type": "stream",
     "text": [
      "\r",
      "Sampling chain 0, 0 divergences:  83%|████████▎ | 826/1000 [01:56<00:29,  5.96it/s]"
     ]
    },
    {
     "name": "stderr",
     "output_type": "stream",
     "text": [
      "\r",
      "Sampling chain 0, 0 divergences:  83%|████████▎ | 827/1000 [01:56<00:29,  5.94it/s]"
     ]
    },
    {
     "name": "stderr",
     "output_type": "stream",
     "text": [
      "\r",
      "Sampling chain 0, 0 divergences:  83%|████████▎ | 828/1000 [01:56<00:28,  5.98it/s]"
     ]
    },
    {
     "name": "stderr",
     "output_type": "stream",
     "text": [
      "\r",
      "Sampling chain 0, 0 divergences:  83%|████████▎ | 829/1000 [01:56<00:28,  5.95it/s]"
     ]
    },
    {
     "name": "stderr",
     "output_type": "stream",
     "text": [
      "\r",
      "Sampling chain 0, 0 divergences:  83%|████████▎ | 830/1000 [01:57<00:28,  5.96it/s]"
     ]
    },
    {
     "name": "stderr",
     "output_type": "stream",
     "text": [
      "\r",
      "Sampling chain 0, 0 divergences:  83%|████████▎ | 831/1000 [01:57<00:28,  5.91it/s]"
     ]
    },
    {
     "name": "stderr",
     "output_type": "stream",
     "text": [
      "\r",
      "Sampling chain 0, 0 divergences:  83%|████████▎ | 832/1000 [01:57<00:28,  5.83it/s]"
     ]
    },
    {
     "name": "stderr",
     "output_type": "stream",
     "text": [
      "\r",
      "Sampling chain 0, 0 divergences:  83%|████████▎ | 833/1000 [01:57<00:28,  5.88it/s]"
     ]
    },
    {
     "name": "stderr",
     "output_type": "stream",
     "text": [
      "\r",
      "Sampling chain 0, 0 divergences:  83%|████████▎ | 834/1000 [01:57<00:28,  5.87it/s]"
     ]
    },
    {
     "name": "stderr",
     "output_type": "stream",
     "text": [
      "\r",
      "Sampling chain 0, 0 divergences:  84%|████████▎ | 835/1000 [01:57<00:28,  5.72it/s]"
     ]
    },
    {
     "name": "stderr",
     "output_type": "stream",
     "text": [
      "\r",
      "Sampling chain 0, 0 divergences:  84%|████████▎ | 836/1000 [01:58<00:28,  5.66it/s]"
     ]
    },
    {
     "name": "stderr",
     "output_type": "stream",
     "text": [
      "\r",
      "Sampling chain 0, 0 divergences:  84%|████████▎ | 837/1000 [01:58<00:28,  5.78it/s]"
     ]
    },
    {
     "name": "stderr",
     "output_type": "stream",
     "text": [
      "\r",
      "Sampling chain 0, 0 divergences:  84%|████████▍ | 838/1000 [01:58<00:27,  5.81it/s]"
     ]
    },
    {
     "name": "stderr",
     "output_type": "stream",
     "text": [
      "\r",
      "Sampling chain 0, 0 divergences:  84%|████████▍ | 839/1000 [01:58<00:27,  5.89it/s]"
     ]
    },
    {
     "name": "stderr",
     "output_type": "stream",
     "text": [
      "\r",
      "Sampling chain 0, 0 divergences:  84%|████████▍ | 840/1000 [01:58<00:27,  5.90it/s]"
     ]
    },
    {
     "name": "stderr",
     "output_type": "stream",
     "text": [
      "\r",
      "Sampling chain 0, 0 divergences:  84%|████████▍ | 841/1000 [01:58<00:26,  5.90it/s]"
     ]
    },
    {
     "name": "stderr",
     "output_type": "stream",
     "text": [
      "\r",
      "Sampling chain 0, 0 divergences:  84%|████████▍ | 842/1000 [01:59<00:26,  5.92it/s]"
     ]
    },
    {
     "name": "stderr",
     "output_type": "stream",
     "text": [
      "\r",
      "Sampling chain 0, 0 divergences:  84%|████████▍ | 843/1000 [01:59<00:26,  5.91it/s]"
     ]
    },
    {
     "name": "stderr",
     "output_type": "stream",
     "text": [
      "\r",
      "Sampling chain 0, 0 divergences:  84%|████████▍ | 844/1000 [01:59<00:26,  5.86it/s]"
     ]
    },
    {
     "name": "stderr",
     "output_type": "stream",
     "text": [
      "\r",
      "Sampling chain 0, 0 divergences:  84%|████████▍ | 845/1000 [01:59<00:26,  5.94it/s]"
     ]
    },
    {
     "name": "stderr",
     "output_type": "stream",
     "text": [
      "\r",
      "Sampling chain 0, 0 divergences:  85%|████████▍ | 846/1000 [01:59<00:26,  5.91it/s]"
     ]
    },
    {
     "name": "stderr",
     "output_type": "stream",
     "text": [
      "\r",
      "Sampling chain 0, 0 divergences:  85%|████████▍ | 847/1000 [01:59<00:25,  5.92it/s]"
     ]
    },
    {
     "name": "stderr",
     "output_type": "stream",
     "text": [
      "\r",
      "Sampling chain 0, 0 divergences:  85%|████████▍ | 848/1000 [02:00<00:25,  5.92it/s]"
     ]
    },
    {
     "name": "stderr",
     "output_type": "stream",
     "text": [
      "\r",
      "Sampling chain 0, 0 divergences:  85%|████████▍ | 849/1000 [02:00<00:25,  5.93it/s]"
     ]
    },
    {
     "name": "stderr",
     "output_type": "stream",
     "text": [
      "\r",
      "Sampling chain 0, 0 divergences:  85%|████████▌ | 850/1000 [02:00<00:25,  5.92it/s]"
     ]
    },
    {
     "name": "stderr",
     "output_type": "stream",
     "text": [
      "\r",
      "Sampling chain 0, 0 divergences:  85%|████████▌ | 851/1000 [02:00<00:25,  5.83it/s]"
     ]
    },
    {
     "name": "stderr",
     "output_type": "stream",
     "text": [
      "\r",
      "Sampling chain 0, 0 divergences:  85%|████████▌ | 852/1000 [02:00<00:25,  5.88it/s]"
     ]
    },
    {
     "name": "stderr",
     "output_type": "stream",
     "text": [
      "\r",
      "Sampling chain 0, 0 divergences:  85%|████████▌ | 853/1000 [02:00<00:25,  5.85it/s]"
     ]
    },
    {
     "name": "stderr",
     "output_type": "stream",
     "text": [
      "\r",
      "Sampling chain 0, 0 divergences:  85%|████████▌ | 854/1000 [02:01<00:24,  5.94it/s]"
     ]
    },
    {
     "name": "stderr",
     "output_type": "stream",
     "text": [
      "\r",
      "Sampling chain 0, 0 divergences:  86%|████████▌ | 855/1000 [02:01<00:24,  6.00it/s]"
     ]
    },
    {
     "name": "stderr",
     "output_type": "stream",
     "text": [
      "\r",
      "Sampling chain 0, 0 divergences:  86%|████████▌ | 856/1000 [02:01<00:24,  5.97it/s]"
     ]
    },
    {
     "name": "stderr",
     "output_type": "stream",
     "text": [
      "\r",
      "Sampling chain 0, 0 divergences:  86%|████████▌ | 857/1000 [02:01<00:23,  6.01it/s]"
     ]
    },
    {
     "name": "stderr",
     "output_type": "stream",
     "text": [
      "\r",
      "Sampling chain 0, 0 divergences:  86%|████████▌ | 858/1000 [02:01<00:23,  6.03it/s]"
     ]
    },
    {
     "name": "stderr",
     "output_type": "stream",
     "text": [
      "\r",
      "Sampling chain 0, 0 divergences:  86%|████████▌ | 859/1000 [02:01<00:23,  5.98it/s]"
     ]
    },
    {
     "name": "stderr",
     "output_type": "stream",
     "text": [
      "\r",
      "Sampling chain 0, 0 divergences:  86%|████████▌ | 860/1000 [02:02<00:23,  5.97it/s]"
     ]
    },
    {
     "name": "stderr",
     "output_type": "stream",
     "text": [
      "\r",
      "Sampling chain 0, 0 divergences:  86%|████████▌ | 861/1000 [02:02<00:23,  5.98it/s]"
     ]
    },
    {
     "name": "stderr",
     "output_type": "stream",
     "text": [
      "\r",
      "Sampling chain 0, 0 divergences:  86%|████████▌ | 862/1000 [02:02<00:23,  5.91it/s]"
     ]
    },
    {
     "name": "stderr",
     "output_type": "stream",
     "text": [
      "\r",
      "Sampling chain 0, 0 divergences:  86%|████████▋ | 863/1000 [02:02<00:23,  5.94it/s]"
     ]
    },
    {
     "name": "stderr",
     "output_type": "stream",
     "text": [
      "\r",
      "Sampling chain 0, 0 divergences:  86%|████████▋ | 864/1000 [02:02<00:22,  5.93it/s]"
     ]
    },
    {
     "name": "stderr",
     "output_type": "stream",
     "text": [
      "\r",
      "Sampling chain 0, 0 divergences:  86%|████████▋ | 865/1000 [02:02<00:22,  5.96it/s]"
     ]
    },
    {
     "name": "stderr",
     "output_type": "stream",
     "text": [
      "\r",
      "Sampling chain 0, 0 divergences:  87%|████████▋ | 866/1000 [02:03<00:22,  5.97it/s]"
     ]
    },
    {
     "name": "stderr",
     "output_type": "stream",
     "text": [
      "\r",
      "Sampling chain 0, 0 divergences:  87%|████████▋ | 867/1000 [02:03<00:22,  5.86it/s]"
     ]
    },
    {
     "name": "stderr",
     "output_type": "stream",
     "text": [
      "\r",
      "Sampling chain 0, 0 divergences:  87%|████████▋ | 868/1000 [02:03<00:22,  5.86it/s]"
     ]
    },
    {
     "name": "stderr",
     "output_type": "stream",
     "text": [
      "\r",
      "Sampling chain 0, 0 divergences:  87%|████████▋ | 869/1000 [02:03<00:22,  5.88it/s]"
     ]
    },
    {
     "name": "stderr",
     "output_type": "stream",
     "text": [
      "\r",
      "Sampling chain 0, 0 divergences:  87%|████████▋ | 870/1000 [02:03<00:22,  5.90it/s]"
     ]
    },
    {
     "name": "stderr",
     "output_type": "stream",
     "text": [
      "\r",
      "Sampling chain 0, 0 divergences:  87%|████████▋ | 871/1000 [02:03<00:21,  5.93it/s]"
     ]
    },
    {
     "name": "stderr",
     "output_type": "stream",
     "text": [
      "\r",
      "Sampling chain 0, 0 divergences:  87%|████████▋ | 872/1000 [02:04<00:21,  5.97it/s]"
     ]
    },
    {
     "name": "stderr",
     "output_type": "stream",
     "text": [
      "\r",
      "Sampling chain 0, 0 divergences:  87%|████████▋ | 873/1000 [02:04<00:21,  5.98it/s]"
     ]
    },
    {
     "name": "stderr",
     "output_type": "stream",
     "text": [
      "\r",
      "Sampling chain 0, 0 divergences:  87%|████████▋ | 874/1000 [02:04<00:21,  5.79it/s]"
     ]
    },
    {
     "name": "stderr",
     "output_type": "stream",
     "text": [
      "\r",
      "Sampling chain 0, 0 divergences:  88%|████████▊ | 875/1000 [02:04<00:21,  5.79it/s]"
     ]
    },
    {
     "name": "stderr",
     "output_type": "stream",
     "text": [
      "\r",
      "Sampling chain 0, 0 divergences:  88%|████████▊ | 876/1000 [02:04<00:21,  5.82it/s]"
     ]
    },
    {
     "name": "stderr",
     "output_type": "stream",
     "text": [
      "\r",
      "Sampling chain 0, 0 divergences:  88%|████████▊ | 877/1000 [02:05<00:21,  5.85it/s]"
     ]
    },
    {
     "name": "stderr",
     "output_type": "stream",
     "text": [
      "\r",
      "Sampling chain 0, 0 divergences:  88%|████████▊ | 878/1000 [02:05<00:20,  5.89it/s]"
     ]
    },
    {
     "name": "stderr",
     "output_type": "stream",
     "text": [
      "\r",
      "Sampling chain 0, 0 divergences:  88%|████████▊ | 879/1000 [02:05<00:20,  5.93it/s]"
     ]
    },
    {
     "name": "stderr",
     "output_type": "stream",
     "text": [
      "\r",
      "Sampling chain 0, 0 divergences:  88%|████████▊ | 880/1000 [02:05<00:20,  5.92it/s]"
     ]
    },
    {
     "name": "stderr",
     "output_type": "stream",
     "text": [
      "\r",
      "Sampling chain 0, 0 divergences:  88%|████████▊ | 881/1000 [02:05<00:20,  5.85it/s]"
     ]
    },
    {
     "name": "stderr",
     "output_type": "stream",
     "text": [
      "\r",
      "Sampling chain 0, 0 divergences:  88%|████████▊ | 882/1000 [02:05<00:20,  5.83it/s]"
     ]
    },
    {
     "name": "stderr",
     "output_type": "stream",
     "text": [
      "\r",
      "Sampling chain 0, 0 divergences:  88%|████████▊ | 883/1000 [02:06<00:20,  5.77it/s]"
     ]
    },
    {
     "name": "stderr",
     "output_type": "stream",
     "text": [
      "\r",
      "Sampling chain 0, 0 divergences:  88%|████████▊ | 884/1000 [02:06<00:19,  5.89it/s]"
     ]
    },
    {
     "name": "stderr",
     "output_type": "stream",
     "text": [
      "\r",
      "Sampling chain 0, 0 divergences:  88%|████████▊ | 885/1000 [02:06<00:19,  5.86it/s]"
     ]
    },
    {
     "name": "stderr",
     "output_type": "stream",
     "text": [
      "\r",
      "Sampling chain 0, 0 divergences:  89%|████████▊ | 886/1000 [02:06<00:19,  5.82it/s]"
     ]
    },
    {
     "name": "stderr",
     "output_type": "stream",
     "text": [
      "\r",
      "Sampling chain 0, 0 divergences:  89%|████████▊ | 887/1000 [02:06<00:19,  5.84it/s]"
     ]
    },
    {
     "name": "stderr",
     "output_type": "stream",
     "text": [
      "\r",
      "Sampling chain 0, 0 divergences:  89%|████████▉ | 888/1000 [02:06<00:19,  5.84it/s]"
     ]
    },
    {
     "name": "stderr",
     "output_type": "stream",
     "text": [
      "\r",
      "Sampling chain 0, 0 divergences:  89%|████████▉ | 889/1000 [02:07<00:19,  5.84it/s]"
     ]
    },
    {
     "name": "stderr",
     "output_type": "stream",
     "text": [
      "\r",
      "Sampling chain 0, 0 divergences:  89%|████████▉ | 890/1000 [02:07<00:18,  5.92it/s]"
     ]
    },
    {
     "name": "stderr",
     "output_type": "stream",
     "text": [
      "\r",
      "Sampling chain 0, 0 divergences:  89%|████████▉ | 891/1000 [02:07<00:18,  5.89it/s]"
     ]
    },
    {
     "name": "stderr",
     "output_type": "stream",
     "text": [
      "\r",
      "Sampling chain 0, 0 divergences:  89%|████████▉ | 892/1000 [02:07<00:18,  5.89it/s]"
     ]
    },
    {
     "name": "stderr",
     "output_type": "stream",
     "text": [
      "\r",
      "Sampling chain 0, 0 divergences:  89%|████████▉ | 893/1000 [02:07<00:18,  5.94it/s]"
     ]
    },
    {
     "name": "stderr",
     "output_type": "stream",
     "text": [
      "\r",
      "Sampling chain 0, 0 divergences:  89%|████████▉ | 894/1000 [02:07<00:17,  5.97it/s]"
     ]
    },
    {
     "name": "stderr",
     "output_type": "stream",
     "text": [
      "\r",
      "Sampling chain 0, 0 divergences:  90%|████████▉ | 895/1000 [02:08<00:17,  5.91it/s]"
     ]
    },
    {
     "name": "stderr",
     "output_type": "stream",
     "text": [
      "\r",
      "Sampling chain 0, 0 divergences:  90%|████████▉ | 896/1000 [02:08<00:17,  5.94it/s]"
     ]
    },
    {
     "name": "stderr",
     "output_type": "stream",
     "text": [
      "\r",
      "Sampling chain 0, 0 divergences:  90%|████████▉ | 897/1000 [02:08<00:17,  5.86it/s]"
     ]
    },
    {
     "name": "stderr",
     "output_type": "stream",
     "text": [
      "\r",
      "Sampling chain 0, 0 divergences:  90%|████████▉ | 898/1000 [02:08<00:17,  5.82it/s]"
     ]
    },
    {
     "name": "stderr",
     "output_type": "stream",
     "text": [
      "\r",
      "Sampling chain 0, 0 divergences:  90%|████████▉ | 899/1000 [02:08<00:17,  5.86it/s]"
     ]
    },
    {
     "name": "stderr",
     "output_type": "stream",
     "text": [
      "\r",
      "Sampling chain 0, 0 divergences:  90%|█████████ | 900/1000 [02:08<00:16,  5.89it/s]"
     ]
    },
    {
     "name": "stderr",
     "output_type": "stream",
     "text": [
      "\r",
      "Sampling chain 0, 0 divergences:  90%|█████████ | 901/1000 [02:09<00:16,  5.86it/s]"
     ]
    },
    {
     "name": "stderr",
     "output_type": "stream",
     "text": [
      "\r",
      "Sampling chain 0, 0 divergences:  90%|█████████ | 902/1000 [02:09<00:16,  5.93it/s]"
     ]
    },
    {
     "name": "stderr",
     "output_type": "stream",
     "text": [
      "\r",
      "Sampling chain 0, 0 divergences:  90%|█████████ | 903/1000 [02:09<00:16,  5.90it/s]"
     ]
    },
    {
     "name": "stderr",
     "output_type": "stream",
     "text": [
      "\r",
      "Sampling chain 0, 0 divergences:  90%|█████████ | 904/1000 [02:09<00:16,  5.93it/s]"
     ]
    },
    {
     "name": "stderr",
     "output_type": "stream",
     "text": [
      "\r",
      "Sampling chain 0, 0 divergences:  90%|█████████ | 905/1000 [02:09<00:16,  5.87it/s]"
     ]
    },
    {
     "name": "stderr",
     "output_type": "stream",
     "text": [
      "\r",
      "Sampling chain 0, 0 divergences:  91%|█████████ | 906/1000 [02:09<00:15,  5.91it/s]"
     ]
    },
    {
     "name": "stderr",
     "output_type": "stream",
     "text": [
      "\r",
      "Sampling chain 0, 0 divergences:  91%|█████████ | 907/1000 [02:10<00:15,  5.94it/s]"
     ]
    },
    {
     "name": "stderr",
     "output_type": "stream",
     "text": [
      "\r",
      "Sampling chain 0, 0 divergences:  91%|█████████ | 908/1000 [02:10<00:15,  5.96it/s]"
     ]
    },
    {
     "name": "stderr",
     "output_type": "stream",
     "text": [
      "\r",
      "Sampling chain 0, 0 divergences:  91%|█████████ | 909/1000 [02:10<00:15,  5.88it/s]"
     ]
    },
    {
     "name": "stderr",
     "output_type": "stream",
     "text": [
      "\r",
      "Sampling chain 0, 0 divergences:  91%|█████████ | 910/1000 [02:10<00:15,  5.90it/s]"
     ]
    },
    {
     "name": "stderr",
     "output_type": "stream",
     "text": [
      "\r",
      "Sampling chain 0, 0 divergences:  91%|█████████ | 911/1000 [02:10<00:15,  5.86it/s]"
     ]
    },
    {
     "name": "stderr",
     "output_type": "stream",
     "text": [
      "\r",
      "Sampling chain 0, 0 divergences:  91%|█████████ | 912/1000 [02:10<00:15,  5.86it/s]"
     ]
    },
    {
     "name": "stderr",
     "output_type": "stream",
     "text": [
      "\r",
      "Sampling chain 0, 0 divergences:  91%|█████████▏| 913/1000 [02:11<00:14,  5.86it/s]"
     ]
    },
    {
     "name": "stderr",
     "output_type": "stream",
     "text": [
      "\r",
      "Sampling chain 0, 0 divergences:  91%|█████████▏| 914/1000 [02:11<00:14,  5.90it/s]"
     ]
    },
    {
     "name": "stderr",
     "output_type": "stream",
     "text": [
      "\r",
      "Sampling chain 0, 0 divergences:  92%|█████████▏| 915/1000 [02:11<00:14,  5.83it/s]"
     ]
    },
    {
     "name": "stderr",
     "output_type": "stream",
     "text": [
      "\r",
      "Sampling chain 0, 0 divergences:  92%|█████████▏| 916/1000 [02:11<00:14,  5.85it/s]"
     ]
    },
    {
     "name": "stderr",
     "output_type": "stream",
     "text": [
      "\r",
      "Sampling chain 0, 0 divergences:  92%|█████████▏| 917/1000 [02:11<00:14,  5.85it/s]"
     ]
    },
    {
     "name": "stderr",
     "output_type": "stream",
     "text": [
      "\r",
      "Sampling chain 0, 0 divergences:  92%|█████████▏| 918/1000 [02:11<00:13,  5.91it/s]"
     ]
    },
    {
     "name": "stderr",
     "output_type": "stream",
     "text": [
      "\r",
      "Sampling chain 0, 0 divergences:  92%|█████████▏| 919/1000 [02:12<00:13,  5.91it/s]"
     ]
    },
    {
     "name": "stderr",
     "output_type": "stream",
     "text": [
      "\r",
      "Sampling chain 0, 0 divergences:  92%|█████████▏| 920/1000 [02:12<00:13,  5.96it/s]"
     ]
    },
    {
     "name": "stderr",
     "output_type": "stream",
     "text": [
      "\r",
      "Sampling chain 0, 0 divergences:  92%|█████████▏| 921/1000 [02:12<00:13,  5.95it/s]"
     ]
    },
    {
     "name": "stderr",
     "output_type": "stream",
     "text": [
      "\r",
      "Sampling chain 0, 0 divergences:  92%|█████████▏| 922/1000 [02:12<00:13,  5.98it/s]"
     ]
    },
    {
     "name": "stderr",
     "output_type": "stream",
     "text": [
      "\r",
      "Sampling chain 0, 0 divergences:  92%|█████████▏| 923/1000 [02:12<00:12,  5.98it/s]"
     ]
    },
    {
     "name": "stderr",
     "output_type": "stream",
     "text": [
      "\r",
      "Sampling chain 0, 0 divergences:  92%|█████████▏| 924/1000 [02:12<00:12,  6.01it/s]"
     ]
    },
    {
     "name": "stderr",
     "output_type": "stream",
     "text": [
      "\r",
      "Sampling chain 0, 0 divergences:  92%|█████████▎| 925/1000 [02:13<00:12,  5.97it/s]"
     ]
    },
    {
     "name": "stderr",
     "output_type": "stream",
     "text": [
      "\r",
      "Sampling chain 0, 0 divergences:  93%|█████████▎| 926/1000 [02:13<00:12,  6.00it/s]"
     ]
    },
    {
     "name": "stderr",
     "output_type": "stream",
     "text": [
      "\r",
      "Sampling chain 0, 0 divergences:  93%|█████████▎| 927/1000 [02:13<00:12,  5.98it/s]"
     ]
    },
    {
     "name": "stderr",
     "output_type": "stream",
     "text": [
      "\r",
      "Sampling chain 0, 0 divergences:  93%|█████████▎| 928/1000 [02:13<00:12,  6.00it/s]"
     ]
    },
    {
     "name": "stderr",
     "output_type": "stream",
     "text": [
      "\r",
      "Sampling chain 0, 0 divergences:  93%|█████████▎| 929/1000 [02:13<00:11,  6.01it/s]"
     ]
    },
    {
     "name": "stderr",
     "output_type": "stream",
     "text": [
      "\r",
      "Sampling chain 0, 0 divergences:  93%|█████████▎| 930/1000 [02:13<00:11,  6.03it/s]"
     ]
    },
    {
     "name": "stderr",
     "output_type": "stream",
     "text": [
      "\r",
      "Sampling chain 0, 0 divergences:  93%|█████████▎| 931/1000 [02:14<00:11,  6.00it/s]"
     ]
    },
    {
     "name": "stderr",
     "output_type": "stream",
     "text": [
      "\r",
      "Sampling chain 0, 0 divergences:  93%|█████████▎| 932/1000 [02:14<00:11,  5.86it/s]"
     ]
    },
    {
     "name": "stderr",
     "output_type": "stream",
     "text": [
      "\r",
      "Sampling chain 0, 0 divergences:  93%|█████████▎| 933/1000 [02:14<00:11,  5.85it/s]"
     ]
    },
    {
     "name": "stderr",
     "output_type": "stream",
     "text": [
      "\r",
      "Sampling chain 0, 0 divergences:  93%|█████████▎| 934/1000 [02:14<00:11,  5.90it/s]"
     ]
    },
    {
     "name": "stderr",
     "output_type": "stream",
     "text": [
      "\r",
      "Sampling chain 0, 0 divergences:  94%|█████████▎| 935/1000 [02:14<00:10,  5.93it/s]"
     ]
    },
    {
     "name": "stderr",
     "output_type": "stream",
     "text": [
      "\r",
      "Sampling chain 0, 0 divergences:  94%|█████████▎| 936/1000 [02:15<00:10,  5.85it/s]"
     ]
    },
    {
     "name": "stderr",
     "output_type": "stream",
     "text": [
      "\r",
      "Sampling chain 0, 0 divergences:  94%|█████████▎| 937/1000 [02:15<00:10,  5.87it/s]"
     ]
    },
    {
     "name": "stderr",
     "output_type": "stream",
     "text": [
      "\r",
      "Sampling chain 0, 0 divergences:  94%|█████████▍| 938/1000 [02:15<00:10,  5.93it/s]"
     ]
    },
    {
     "name": "stderr",
     "output_type": "stream",
     "text": [
      "\r",
      "Sampling chain 0, 0 divergences:  94%|█████████▍| 939/1000 [02:15<00:10,  5.98it/s]"
     ]
    },
    {
     "name": "stderr",
     "output_type": "stream",
     "text": [
      "\r",
      "Sampling chain 0, 0 divergences:  94%|█████████▍| 940/1000 [02:15<00:10,  5.98it/s]"
     ]
    },
    {
     "name": "stderr",
     "output_type": "stream",
     "text": [
      "\r",
      "Sampling chain 0, 0 divergences:  94%|█████████▍| 941/1000 [02:15<00:09,  5.95it/s]"
     ]
    },
    {
     "name": "stderr",
     "output_type": "stream",
     "text": [
      "\r",
      "Sampling chain 0, 0 divergences:  94%|█████████▍| 942/1000 [02:16<00:09,  5.93it/s]"
     ]
    },
    {
     "name": "stderr",
     "output_type": "stream",
     "text": [
      "\r",
      "Sampling chain 0, 0 divergences:  94%|█████████▍| 943/1000 [02:16<00:09,  5.84it/s]"
     ]
    },
    {
     "name": "stderr",
     "output_type": "stream",
     "text": [
      "\r",
      "Sampling chain 0, 0 divergences:  94%|█████████▍| 944/1000 [02:16<00:09,  5.82it/s]"
     ]
    },
    {
     "name": "stderr",
     "output_type": "stream",
     "text": [
      "\r",
      "Sampling chain 0, 0 divergences:  94%|█████████▍| 945/1000 [02:16<00:09,  5.90it/s]"
     ]
    },
    {
     "name": "stderr",
     "output_type": "stream",
     "text": [
      "\r",
      "Sampling chain 0, 0 divergences:  95%|█████████▍| 946/1000 [02:16<00:09,  5.86it/s]"
     ]
    },
    {
     "name": "stderr",
     "output_type": "stream",
     "text": [
      "\r",
      "Sampling chain 0, 0 divergences:  95%|█████████▍| 947/1000 [02:16<00:09,  5.89it/s]"
     ]
    },
    {
     "name": "stderr",
     "output_type": "stream",
     "text": [
      "\r",
      "Sampling chain 0, 0 divergences:  95%|█████████▍| 948/1000 [02:17<00:08,  5.90it/s]"
     ]
    },
    {
     "name": "stderr",
     "output_type": "stream",
     "text": [
      "\r",
      "Sampling chain 0, 0 divergences:  95%|█████████▍| 949/1000 [02:17<00:08,  5.85it/s]"
     ]
    },
    {
     "name": "stderr",
     "output_type": "stream",
     "text": [
      "\r",
      "Sampling chain 0, 0 divergences:  95%|█████████▌| 950/1000 [02:17<00:08,  5.85it/s]"
     ]
    },
    {
     "name": "stderr",
     "output_type": "stream",
     "text": [
      "\r",
      "Sampling chain 0, 0 divergences:  95%|█████████▌| 951/1000 [02:17<00:08,  5.88it/s]"
     ]
    },
    {
     "name": "stderr",
     "output_type": "stream",
     "text": [
      "\r",
      "Sampling chain 0, 0 divergences:  95%|█████████▌| 952/1000 [02:17<00:08,  5.92it/s]"
     ]
    },
    {
     "name": "stderr",
     "output_type": "stream",
     "text": [
      "\r",
      "Sampling chain 0, 0 divergences:  95%|█████████▌| 953/1000 [02:17<00:08,  5.84it/s]"
     ]
    },
    {
     "name": "stderr",
     "output_type": "stream",
     "text": [
      "\r",
      "Sampling chain 0, 0 divergences:  95%|█████████▌| 954/1000 [02:18<00:07,  5.91it/s]"
     ]
    },
    {
     "name": "stderr",
     "output_type": "stream",
     "text": [
      "\r",
      "Sampling chain 0, 0 divergences:  96%|█████████▌| 955/1000 [02:18<00:07,  5.87it/s]"
     ]
    },
    {
     "name": "stderr",
     "output_type": "stream",
     "text": [
      "\r",
      "Sampling chain 0, 0 divergences:  96%|█████████▌| 956/1000 [02:18<00:07,  5.89it/s]"
     ]
    },
    {
     "name": "stderr",
     "output_type": "stream",
     "text": [
      "\r",
      "Sampling chain 0, 0 divergences:  96%|█████████▌| 957/1000 [02:18<00:07,  5.92it/s]"
     ]
    },
    {
     "name": "stderr",
     "output_type": "stream",
     "text": [
      "\r",
      "Sampling chain 0, 0 divergences:  96%|█████████▌| 958/1000 [02:18<00:07,  5.94it/s]"
     ]
    },
    {
     "name": "stderr",
     "output_type": "stream",
     "text": [
      "\r",
      "Sampling chain 0, 0 divergences:  96%|█████████▌| 959/1000 [02:18<00:06,  5.98it/s]"
     ]
    },
    {
     "name": "stderr",
     "output_type": "stream",
     "text": [
      "\r",
      "Sampling chain 0, 0 divergences:  96%|█████████▌| 960/1000 [02:19<00:06,  5.98it/s]"
     ]
    },
    {
     "name": "stderr",
     "output_type": "stream",
     "text": [
      "\r",
      "Sampling chain 0, 0 divergences:  96%|█████████▌| 961/1000 [02:19<00:06,  5.99it/s]"
     ]
    },
    {
     "name": "stderr",
     "output_type": "stream",
     "text": [
      "\r",
      "Sampling chain 0, 0 divergences:  96%|█████████▌| 962/1000 [02:19<00:06,  6.02it/s]"
     ]
    },
    {
     "name": "stderr",
     "output_type": "stream",
     "text": [
      "\r",
      "Sampling chain 0, 0 divergences:  96%|█████████▋| 963/1000 [02:19<00:06,  5.98it/s]"
     ]
    },
    {
     "name": "stderr",
     "output_type": "stream",
     "text": [
      "\r",
      "Sampling chain 0, 0 divergences:  96%|█████████▋| 964/1000 [02:19<00:06,  5.99it/s]"
     ]
    },
    {
     "name": "stderr",
     "output_type": "stream",
     "text": [
      "\r",
      "Sampling chain 0, 0 divergences:  96%|█████████▋| 965/1000 [02:19<00:05,  5.98it/s]"
     ]
    },
    {
     "name": "stderr",
     "output_type": "stream",
     "text": [
      "\r",
      "Sampling chain 0, 0 divergences:  97%|█████████▋| 966/1000 [02:20<00:05,  5.85it/s]"
     ]
    },
    {
     "name": "stderr",
     "output_type": "stream",
     "text": [
      "\r",
      "Sampling chain 0, 0 divergences:  97%|█████████▋| 967/1000 [02:20<00:05,  5.85it/s]"
     ]
    },
    {
     "name": "stderr",
     "output_type": "stream",
     "text": [
      "\r",
      "Sampling chain 0, 0 divergences:  97%|█████████▋| 968/1000 [02:20<00:05,  5.81it/s]"
     ]
    },
    {
     "name": "stderr",
     "output_type": "stream",
     "text": [
      "\r",
      "Sampling chain 0, 0 divergences:  97%|█████████▋| 969/1000 [02:20<00:05,  5.87it/s]"
     ]
    },
    {
     "name": "stderr",
     "output_type": "stream",
     "text": [
      "\r",
      "Sampling chain 0, 0 divergences:  97%|█████████▋| 970/1000 [02:20<00:05,  5.91it/s]"
     ]
    },
    {
     "name": "stderr",
     "output_type": "stream",
     "text": [
      "\r",
      "Sampling chain 0, 0 divergences:  97%|█████████▋| 971/1000 [02:20<00:04,  5.85it/s]"
     ]
    },
    {
     "name": "stderr",
     "output_type": "stream",
     "text": [
      "\r",
      "Sampling chain 0, 0 divergences:  97%|█████████▋| 972/1000 [02:21<00:04,  5.88it/s]"
     ]
    },
    {
     "name": "stderr",
     "output_type": "stream",
     "text": [
      "\r",
      "Sampling chain 0, 0 divergences:  97%|█████████▋| 973/1000 [02:21<00:04,  5.89it/s]"
     ]
    },
    {
     "name": "stderr",
     "output_type": "stream",
     "text": [
      "\r",
      "Sampling chain 0, 0 divergences:  97%|█████████▋| 974/1000 [02:21<00:04,  5.86it/s]"
     ]
    },
    {
     "name": "stderr",
     "output_type": "stream",
     "text": [
      "\r",
      "Sampling chain 0, 0 divergences:  98%|█████████▊| 975/1000 [02:21<00:04,  5.86it/s]"
     ]
    },
    {
     "name": "stderr",
     "output_type": "stream",
     "text": [
      "\r",
      "Sampling chain 0, 0 divergences:  98%|█████████▊| 976/1000 [02:21<00:04,  5.83it/s]"
     ]
    },
    {
     "name": "stderr",
     "output_type": "stream",
     "text": [
      "\r",
      "Sampling chain 0, 0 divergences:  98%|█████████▊| 977/1000 [02:21<00:03,  5.87it/s]"
     ]
    },
    {
     "name": "stderr",
     "output_type": "stream",
     "text": [
      "\r",
      "Sampling chain 0, 0 divergences:  98%|█████████▊| 978/1000 [02:22<00:03,  5.90it/s]"
     ]
    },
    {
     "name": "stderr",
     "output_type": "stream",
     "text": [
      "\r",
      "Sampling chain 0, 0 divergences:  98%|█████████▊| 979/1000 [02:22<00:03,  5.91it/s]"
     ]
    },
    {
     "name": "stderr",
     "output_type": "stream",
     "text": [
      "\r",
      "Sampling chain 0, 0 divergences:  98%|█████████▊| 980/1000 [02:22<00:03,  5.85it/s]"
     ]
    },
    {
     "name": "stderr",
     "output_type": "stream",
     "text": [
      "\r",
      "Sampling chain 0, 0 divergences:  98%|█████████▊| 981/1000 [02:22<00:03,  5.84it/s]"
     ]
    },
    {
     "name": "stderr",
     "output_type": "stream",
     "text": [
      "\r",
      "Sampling chain 0, 0 divergences:  98%|█████████▊| 982/1000 [02:22<00:03,  5.83it/s]"
     ]
    },
    {
     "name": "stderr",
     "output_type": "stream",
     "text": [
      "\r",
      "Sampling chain 0, 0 divergences:  98%|█████████▊| 983/1000 [02:22<00:02,  5.88it/s]"
     ]
    },
    {
     "name": "stderr",
     "output_type": "stream",
     "text": [
      "\r",
      "Sampling chain 0, 0 divergences:  98%|█████████▊| 984/1000 [02:23<00:02,  5.85it/s]"
     ]
    },
    {
     "name": "stderr",
     "output_type": "stream",
     "text": [
      "\r",
      "Sampling chain 0, 0 divergences:  98%|█████████▊| 985/1000 [02:23<00:02,  5.91it/s]"
     ]
    },
    {
     "name": "stderr",
     "output_type": "stream",
     "text": [
      "\r",
      "Sampling chain 0, 0 divergences:  99%|█████████▊| 986/1000 [02:23<00:02,  5.88it/s]"
     ]
    },
    {
     "name": "stderr",
     "output_type": "stream",
     "text": [
      "\r",
      "Sampling chain 0, 0 divergences:  99%|█████████▊| 987/1000 [02:23<00:02,  5.94it/s]"
     ]
    },
    {
     "name": "stderr",
     "output_type": "stream",
     "text": [
      "\r",
      "Sampling chain 0, 0 divergences:  99%|█████████▉| 988/1000 [02:23<00:02,  5.93it/s]"
     ]
    },
    {
     "name": "stderr",
     "output_type": "stream",
     "text": [
      "\r",
      "Sampling chain 0, 0 divergences:  99%|█████████▉| 989/1000 [02:23<00:01,  5.89it/s]"
     ]
    },
    {
     "name": "stderr",
     "output_type": "stream",
     "text": [
      "\r",
      "Sampling chain 0, 0 divergences:  99%|█████████▉| 990/1000 [02:24<00:01,  5.90it/s]"
     ]
    },
    {
     "name": "stderr",
     "output_type": "stream",
     "text": [
      "\r",
      "Sampling chain 0, 0 divergences:  99%|█████████▉| 991/1000 [02:24<00:01,  5.83it/s]"
     ]
    },
    {
     "name": "stderr",
     "output_type": "stream",
     "text": [
      "\r",
      "Sampling chain 0, 0 divergences:  99%|█████████▉| 992/1000 [02:24<00:01,  5.89it/s]"
     ]
    },
    {
     "name": "stderr",
     "output_type": "stream",
     "text": [
      "\r",
      "Sampling chain 0, 0 divergences:  99%|█████████▉| 993/1000 [02:24<00:01,  5.96it/s]"
     ]
    },
    {
     "name": "stderr",
     "output_type": "stream",
     "text": [
      "\r",
      "Sampling chain 0, 0 divergences:  99%|█████████▉| 994/1000 [02:24<00:01,  5.97it/s]"
     ]
    },
    {
     "name": "stderr",
     "output_type": "stream",
     "text": [
      "\r",
      "Sampling chain 0, 0 divergences: 100%|█████████▉| 995/1000 [02:25<00:00,  5.99it/s]"
     ]
    },
    {
     "name": "stderr",
     "output_type": "stream",
     "text": [
      "\r",
      "Sampling chain 0, 0 divergences: 100%|█████████▉| 996/1000 [02:25<00:00,  5.96it/s]"
     ]
    },
    {
     "name": "stderr",
     "output_type": "stream",
     "text": [
      "\r",
      "Sampling chain 0, 0 divergences: 100%|█████████▉| 997/1000 [02:25<00:00,  5.92it/s]"
     ]
    },
    {
     "name": "stderr",
     "output_type": "stream",
     "text": [
      "\r",
      "Sampling chain 0, 0 divergences: 100%|█████████▉| 998/1000 [02:25<00:00,  5.83it/s]"
     ]
    },
    {
     "name": "stderr",
     "output_type": "stream",
     "text": [
      "\r",
      "Sampling chain 0, 0 divergences: 100%|█████████▉| 999/1000 [02:25<00:00,  5.80it/s]"
     ]
    },
    {
     "name": "stderr",
     "output_type": "stream",
     "text": [
      "\r",
      "Sampling chain 0, 0 divergences: 100%|██████████| 1000/1000 [02:25<00:00,  5.81it/s]"
     ]
    },
    {
     "name": "stderr",
     "output_type": "stream",
     "text": [
      "\r",
      "Sampling chain 0, 0 divergences: 100%|██████████| 1000/1000 [02:25<00:00,  6.86it/s]"
     ]
    },
    {
     "name": "stderr",
     "output_type": "stream",
     "text": [
      "\n"
     ]
    },
    {
     "name": "stderr",
     "output_type": "stream",
     "text": [
      "The acceptance probability does not match the target. It is 0.9070619579850462, but should be close to 0.8. Try to increase the number of tuning steps.\n"
     ]
    },
    {
     "name": "stderr",
     "output_type": "stream",
     "text": [
      "The chain reached the maximum tree depth. Increase max_treedepth, increase target_accept or reparameterize.\n"
     ]
    },
    {
     "name": "stderr",
     "output_type": "stream",
     "text": [
      "Only one chain was sampled, this makes it impossible to run some convergence checks\n"
     ]
    }
   ],
   "source": [
    "#hide\n",
    "\n",
    "df, df_pred = get_statewise_testing_data()\n",
    "\n",
    "# Initialize the model:\n",
    "mod = case_count_model_us_states(df)\n",
    "\n",
    "# Run MCMC sampler\n",
    "with mod:\n",
    "    trace = pm.sample(500, tune=500, chains=1)"
   ]
  },
  {
   "cell_type": "code",
   "execution_count": 5,
   "metadata": {
    "execution": {
     "iopub.execute_input": "2020-05-22T12:19:44.152074Z",
     "iopub.status.busy": "2020-05-22T12:19:44.151446Z",
     "iopub.status.idle": "2020-05-22T12:19:44.601895Z",
     "shell.execute_reply": "2020-05-22T12:19:44.602360Z"
    },
    "papermill": {
     "duration": 0.728132,
     "end_time": "2020-05-22T12:19:44.602490",
     "exception": false,
     "start_time": "2020-05-22T12:19:43.874358",
     "status": "completed"
    },
    "scrolled": true,
    "tags": []
   },
   "outputs": [
    {
     "data": {
      "text/markdown": [
       "## Summary for the United States on 2020-05-22:"
      ],
      "text/plain": [
       "<IPython.core.display.Markdown object>"
      ]
     },
     "metadata": {},
     "output_type": "display_data"
    },
    {
     "data": {
      "text/markdown": [
       "**Reported Case Count:**  1,564,258"
      ],
      "text/plain": [
       "<IPython.core.display.Markdown object>"
      ]
     },
     "metadata": {},
     "output_type": "display_data"
    },
    {
     "data": {
      "text/markdown": [
       "**Predicted Case Count:**  1,793,765"
      ],
      "text/plain": [
       "<IPython.core.display.Markdown object>"
      ]
     },
     "metadata": {},
     "output_type": "display_data"
    },
    {
     "data": {
      "text/markdown": [
       "**Percentage Underreporting in Case Count:**  12.8%"
      ],
      "text/plain": [
       "<IPython.core.display.Markdown object>"
      ]
     },
     "metadata": {},
     "output_type": "display_data"
    }
   ],
   "source": [
    "#hide_input\n",
    "\n",
    "n = len(trace['beta'])\n",
    "\n",
    "# South Korea:\n",
    "ppt_sk = np.log10(51500000. / 250000)\n",
    "\n",
    "\n",
    "# Compute predicted case counts per state right now\n",
    "logit_now = pd.DataFrame([\n",
    "    pd.Series(np.random.normal((trace['alpha'][i] + trace['beta'][i] * (np.log10(df_pred['people_per_test']) - ppt_sk)),\n",
    "                     trace['sigma'][i]), index=df_pred.index)\n",
    "    for i in range(len(trace['beta']))])\n",
    "prob_missing_now = np.exp(logit_now) / (np.exp(logit_now) + 1) \n",
    "\n",
    "predicted_counts_now = np.round(df_pred['positive'] / prob_missing_now.mean(axis=0)).astype(int)\n",
    "\n",
    "predicted_counts_now_lower = np.round(df_pred['positive'] / prob_missing_now.quantile(0.975, axis=0)).astype(int)\n",
    "predicted_counts_now_upper = np.round(df_pred['positive'] / prob_missing_now.quantile(0.025, axis=0)).astype(int)\n",
    "\n",
    "case_increase_percent = list(map(lambda x, y: (((x - y) / float(y))),\n",
    "                                 predicted_counts_now, df_pred['positive']))\n",
    "\n",
    "df_summary = pd.DataFrame(\n",
    "    data = {\n",
    "     'Cases Reported': df_pred['positive'],\n",
    "     'Cases Estimated': predicted_counts_now,\n",
    "     'Percent Increase': case_increase_percent,\n",
    "     'Tests per Million People': df_pred['tests_per_million'].round(1),\n",
    "     'Cases Estimated (range)': list(map(lambda x, y: '(%i, %i)' % (round(x), round(y)),\n",
    "                                        predicted_counts_now_lower, predicted_counts_now_upper)),\n",
    "     'Cases per Million': ((df_pred['positive'] / df_pred['total_population']) * 1e6),\n",
    "     'Positive Test Rate': (df_pred['positive'] / (df_pred['positive'] + df_pred['negative']))\n",
    "    },\n",
    "    index=df_pred.index)\n",
    "\n",
    "from datetime import datetime\n",
    "display(Markdown(\"## Summary for the United States on %s:\" % str(datetime.today())[:10]))\n",
    "display(Markdown(f\"**Reported Case Count:**  {df_summary['Cases Reported'].sum():,}\"))\n",
    "display(Markdown(f\"**Predicted Case Count:**  {df_summary['Cases Estimated'].sum():,}\"))\n",
    "case_increase_percent = 100. * (df_summary['Cases Estimated'].sum() - df_summary['Cases Reported'].sum()) / df_summary['Cases Estimated'].sum()\n",
    "display(Markdown(\"**Percentage Underreporting in Case Count:**  %.1f%%\" % case_increase_percent))"
   ]
  },
  {
   "cell_type": "code",
   "execution_count": 6,
   "metadata": {
    "execution": {
     "iopub.execute_input": "2020-05-22T12:19:45.131794Z",
     "iopub.status.busy": "2020-05-22T12:19:45.131183Z",
     "iopub.status.idle": "2020-05-22T12:19:45.133550Z",
     "shell.execute_reply": "2020-05-22T12:19:45.134252Z"
    },
    "papermill": {
     "duration": 0.27315,
     "end_time": "2020-05-22T12:19:45.134387",
     "exception": false,
     "start_time": "2020-05-22T12:19:44.861237",
     "status": "completed"
    },
    "tags": []
   },
   "outputs": [],
   "source": [
    "#hide\n",
    "df_summary.loc[:, 'Ratio'] = df_summary['Cases Estimated'] / df_summary['Cases Reported']\n",
    "df_summary.columns = ['Reported Cases', 'Est Cases', '% Increase',\n",
    "                      'Tests per Million', 'Est Range',\n",
    "                      'Cases per Million', 'Positive Test Rate',\n",
    "                      'Ratio']\n",
    "\n",
    "df_display = df_summary[['Reported Cases', 'Est Cases', 'Est Range', 'Ratio',\n",
    "                         'Tests per Million', 'Cases per Million',\n",
    "                         'Positive Test Rate']].copy()"
   ]
  },
  {
   "cell_type": "markdown",
   "metadata": {
    "papermill": {
     "duration": 0.257648,
     "end_time": "2020-05-22T12:19:45.673916",
     "exception": false,
     "start_time": "2020-05-22T12:19:45.416268",
     "status": "completed"
    },
    "tags": []
   },
   "source": [
    "## COVID-19 Case Estimates, by State\n",
    "\n",
    "### Definition Of Fields:\n",
    "\n",
    "- **Reported Cases**:  The number of cases reported by each state, which is a function of how many tests are positive.\n",
    "- **Est Cases**: The predicted number of cases, accounting for the fact that not everyone is tested.\n",
    "- **Est Range**: The 95% confidence interval of the predicted number of cases.\n",
    "- **Ratio**: `Estimated Cases` divided by `Reported Cases`.\n",
    "- **Tests per Million**:  The number of tests administered per one million people.  The less tests administered per capita, the larger the difference between reported and estimated number of cases, generally.\n",
    "- **Cases per Million**: The number of **reported** cases per on million people.\n",
    "- **Positive Test Rate**: The **reported** percentage of positive tests."
   ]
  },
  {
   "cell_type": "code",
   "execution_count": 7,
   "metadata": {
    "execution": {
     "iopub.execute_input": "2020-05-22T12:19:46.200117Z",
     "iopub.status.busy": "2020-05-22T12:19:46.199508Z",
     "iopub.status.idle": "2020-05-22T12:19:46.498703Z",
     "shell.execute_reply": "2020-05-22T12:19:46.498189Z"
    },
    "papermill": {
     "duration": 0.567676,
     "end_time": "2020-05-22T12:19:46.498824",
     "exception": false,
     "start_time": "2020-05-22T12:19:45.931148",
     "status": "completed"
    },
    "tags": []
   },
   "outputs": [
    {
     "data": {
      "text/html": [
       "<style  type=\"text/css\" >\n",
       "    #T_8656197e_9c26_11ea_8d14_000d3a9fde60row0_col0 {\n",
       "            background-color:  #7f2704;\n",
       "            color:  #f1f1f1;\n",
       "        }    #T_8656197e_9c26_11ea_8d14_000d3a9fde60row0_col1 {\n",
       "            background-color:  #7f2704;\n",
       "            color:  #f1f1f1;\n",
       "        }    #T_8656197e_9c26_11ea_8d14_000d3a9fde60row0_col3 {\n",
       "            background-color:  #fee5cc;\n",
       "            color:  #000000;\n",
       "        }    #T_8656197e_9c26_11ea_8d14_000d3a9fde60row0_col4 {\n",
       "            background-color:  #f26c16;\n",
       "            color:  #000000;\n",
       "        }    #T_8656197e_9c26_11ea_8d14_000d3a9fde60row0_col5 {\n",
       "            background-color:  #7f2704;\n",
       "            color:  #f1f1f1;\n",
       "        }    #T_8656197e_9c26_11ea_8d14_000d3a9fde60row0_col6 {\n",
       "            background-color:  #bd3e02;\n",
       "            color:  #f1f1f1;\n",
       "        }    #T_8656197e_9c26_11ea_8d14_000d3a9fde60row1_col0 {\n",
       "            background-color:  #fda159;\n",
       "            color:  #000000;\n",
       "        }    #T_8656197e_9c26_11ea_8d14_000d3a9fde60row1_col1 {\n",
       "            background-color:  #fda057;\n",
       "            color:  #000000;\n",
       "        }    #T_8656197e_9c26_11ea_8d14_000d3a9fde60row1_col3 {\n",
       "            background-color:  #fdd7af;\n",
       "            color:  #000000;\n",
       "        }    #T_8656197e_9c26_11ea_8d14_000d3a9fde60row1_col4 {\n",
       "            background-color:  #fda35c;\n",
       "            color:  #000000;\n",
       "        }    #T_8656197e_9c26_11ea_8d14_000d3a9fde60row1_col5 {\n",
       "            background-color:  #952f03;\n",
       "            color:  #f1f1f1;\n",
       "        }    #T_8656197e_9c26_11ea_8d14_000d3a9fde60row1_col6 {\n",
       "            background-color:  #7f2704;\n",
       "            color:  #f1f1f1;\n",
       "        }    #T_8656197e_9c26_11ea_8d14_000d3a9fde60row2_col0 {\n",
       "            background-color:  #fdc692;\n",
       "            color:  #000000;\n",
       "        }    #T_8656197e_9c26_11ea_8d14_000d3a9fde60row2_col1 {\n",
       "            background-color:  #fdc48f;\n",
       "            color:  #000000;\n",
       "        }    #T_8656197e_9c26_11ea_8d14_000d3a9fde60row2_col3 {\n",
       "            background-color:  #fdb373;\n",
       "            color:  #000000;\n",
       "        }    #T_8656197e_9c26_11ea_8d14_000d3a9fde60row2_col4 {\n",
       "            background-color:  #fdba7f;\n",
       "            color:  #000000;\n",
       "        }    #T_8656197e_9c26_11ea_8d14_000d3a9fde60row2_col5 {\n",
       "            background-color:  #fda057;\n",
       "            color:  #000000;\n",
       "        }    #T_8656197e_9c26_11ea_8d14_000d3a9fde60row2_col6 {\n",
       "            background-color:  #fa8331;\n",
       "            color:  #000000;\n",
       "        }    #T_8656197e_9c26_11ea_8d14_000d3a9fde60row3_col0 {\n",
       "            background-color:  #fdd2a6;\n",
       "            color:  #000000;\n",
       "        }    #T_8656197e_9c26_11ea_8d14_000d3a9fde60row3_col1 {\n",
       "            background-color:  #fdd0a2;\n",
       "            color:  #000000;\n",
       "        }    #T_8656197e_9c26_11ea_8d14_000d3a9fde60row3_col3 {\n",
       "            background-color:  #f26b15;\n",
       "            color:  #000000;\n",
       "        }    #T_8656197e_9c26_11ea_8d14_000d3a9fde60row3_col4 {\n",
       "            background-color:  #fee2c6;\n",
       "            color:  #000000;\n",
       "        }    #T_8656197e_9c26_11ea_8d14_000d3a9fde60row3_col5 {\n",
       "            background-color:  #feead5;\n",
       "            color:  #000000;\n",
       "        }    #T_8656197e_9c26_11ea_8d14_000d3a9fde60row3_col6 {\n",
       "            background-color:  #fddbb8;\n",
       "            color:  #000000;\n",
       "        }    #T_8656197e_9c26_11ea_8d14_000d3a9fde60row4_col0 {\n",
       "            background-color:  #fdd0a2;\n",
       "            color:  #000000;\n",
       "        }    #T_8656197e_9c26_11ea_8d14_000d3a9fde60row4_col1 {\n",
       "            background-color:  #fdd0a2;\n",
       "            color:  #000000;\n",
       "        }    #T_8656197e_9c26_11ea_8d14_000d3a9fde60row4_col3 {\n",
       "            background-color:  #fee2c7;\n",
       "            color:  #000000;\n",
       "        }    #T_8656197e_9c26_11ea_8d14_000d3a9fde60row4_col4 {\n",
       "            background-color:  #f98230;\n",
       "            color:  #000000;\n",
       "        }    #T_8656197e_9c26_11ea_8d14_000d3a9fde60row4_col5 {\n",
       "            background-color:  #e15407;\n",
       "            color:  #000000;\n",
       "        }    #T_8656197e_9c26_11ea_8d14_000d3a9fde60row4_col6 {\n",
       "            background-color:  #f06712;\n",
       "            color:  #000000;\n",
       "        }    #T_8656197e_9c26_11ea_8d14_000d3a9fde60row5_col0 {\n",
       "            background-color:  #fedcbb;\n",
       "            color:  #000000;\n",
       "        }    #T_8656197e_9c26_11ea_8d14_000d3a9fde60row5_col1 {\n",
       "            background-color:  #fdd9b5;\n",
       "            color:  #000000;\n",
       "        }    #T_8656197e_9c26_11ea_8d14_000d3a9fde60row5_col3 {\n",
       "            background-color:  #c14002;\n",
       "            color:  #f1f1f1;\n",
       "        }    #T_8656197e_9c26_11ea_8d14_000d3a9fde60row5_col4 {\n",
       "            background-color:  #feecda;\n",
       "            color:  #000000;\n",
       "        }    #T_8656197e_9c26_11ea_8d14_000d3a9fde60row5_col5 {\n",
       "            background-color:  #fdce9e;\n",
       "            color:  #000000;\n",
       "        }    #T_8656197e_9c26_11ea_8d14_000d3a9fde60row5_col6 {\n",
       "            background-color:  #f16913;\n",
       "            color:  #000000;\n",
       "        }    #T_8656197e_9c26_11ea_8d14_000d3a9fde60row6_col0 {\n",
       "            background-color:  #fee2c6;\n",
       "            color:  #000000;\n",
       "        }    #T_8656197e_9c26_11ea_8d14_000d3a9fde60row6_col1 {\n",
       "            background-color:  #fee1c4;\n",
       "            color:  #000000;\n",
       "        }    #T_8656197e_9c26_11ea_8d14_000d3a9fde60row6_col3 {\n",
       "            background-color:  #fda863;\n",
       "            color:  #000000;\n",
       "        }    #T_8656197e_9c26_11ea_8d14_000d3a9fde60row6_col4 {\n",
       "            background-color:  #fdd0a2;\n",
       "            color:  #000000;\n",
       "        }    #T_8656197e_9c26_11ea_8d14_000d3a9fde60row6_col5 {\n",
       "            background-color:  #fdc997;\n",
       "            color:  #000000;\n",
       "        }    #T_8656197e_9c26_11ea_8d14_000d3a9fde60row6_col6 {\n",
       "            background-color:  #fda762;\n",
       "            color:  #000000;\n",
       "        }    #T_8656197e_9c26_11ea_8d14_000d3a9fde60row7_col0 {\n",
       "            background-color:  #fee3c8;\n",
       "            color:  #000000;\n",
       "        }    #T_8656197e_9c26_11ea_8d14_000d3a9fde60row7_col1 {\n",
       "            background-color:  #fee1c4;\n",
       "            color:  #000000;\n",
       "        }    #T_8656197e_9c26_11ea_8d14_000d3a9fde60row7_col3 {\n",
       "            background-color:  #c14002;\n",
       "            color:  #f1f1f1;\n",
       "        }    #T_8656197e_9c26_11ea_8d14_000d3a9fde60row7_col4 {\n",
       "            background-color:  #ffefe0;\n",
       "            color:  #000000;\n",
       "        }    #T_8656197e_9c26_11ea_8d14_000d3a9fde60row7_col5 {\n",
       "            background-color:  #feeddb;\n",
       "            color:  #000000;\n",
       "        }    #T_8656197e_9c26_11ea_8d14_000d3a9fde60row7_col6 {\n",
       "            background-color:  #fdd7b1;\n",
       "            color:  #000000;\n",
       "        }    #T_8656197e_9c26_11ea_8d14_000d3a9fde60row8_col0 {\n",
       "            background-color:  #fee5cb;\n",
       "            color:  #000000;\n",
       "        }    #T_8656197e_9c26_11ea_8d14_000d3a9fde60row8_col1 {\n",
       "            background-color:  #fee3c8;\n",
       "            color:  #000000;\n",
       "        }    #T_8656197e_9c26_11ea_8d14_000d3a9fde60row8_col3 {\n",
       "            background-color:  #f67723;\n",
       "            color:  #000000;\n",
       "        }    #T_8656197e_9c26_11ea_8d14_000d3a9fde60row8_col4 {\n",
       "            background-color:  #fedebf;\n",
       "            color:  #000000;\n",
       "        }    #T_8656197e_9c26_11ea_8d14_000d3a9fde60row8_col5 {\n",
       "            background-color:  #fee9d3;\n",
       "            color:  #000000;\n",
       "        }    #T_8656197e_9c26_11ea_8d14_000d3a9fde60row8_col6 {\n",
       "            background-color:  #fedcb9;\n",
       "            color:  #000000;\n",
       "        }    #T_8656197e_9c26_11ea_8d14_000d3a9fde60row9_col0 {\n",
       "            background-color:  #fee6cf;\n",
       "            color:  #000000;\n",
       "        }    #T_8656197e_9c26_11ea_8d14_000d3a9fde60row9_col1 {\n",
       "            background-color:  #fee6ce;\n",
       "            color:  #000000;\n",
       "        }    #T_8656197e_9c26_11ea_8d14_000d3a9fde60row9_col3 {\n",
       "            background-color:  #f5741f;\n",
       "            color:  #000000;\n",
       "        }    #T_8656197e_9c26_11ea_8d14_000d3a9fde60row9_col4 {\n",
       "            background-color:  #fee1c4;\n",
       "            color:  #000000;\n",
       "        }    #T_8656197e_9c26_11ea_8d14_000d3a9fde60row9_col5 {\n",
       "            background-color:  #fdae6a;\n",
       "            color:  #000000;\n",
       "        }    #T_8656197e_9c26_11ea_8d14_000d3a9fde60row9_col6 {\n",
       "            background-color:  #e25508;\n",
       "            color:  #000000;\n",
       "        }    #T_8656197e_9c26_11ea_8d14_000d3a9fde60row10_col0 {\n",
       "            background-color:  #fee8d2;\n",
       "            color:  #000000;\n",
       "        }    #T_8656197e_9c26_11ea_8d14_000d3a9fde60row10_col1 {\n",
       "            background-color:  #fee7d1;\n",
       "            color:  #000000;\n",
       "        }    #T_8656197e_9c26_11ea_8d14_000d3a9fde60row10_col3 {\n",
       "            background-color:  #fa8532;\n",
       "            color:  #000000;\n",
       "        }    #T_8656197e_9c26_11ea_8d14_000d3a9fde60row10_col4 {\n",
       "            background-color:  #fedebd;\n",
       "            color:  #000000;\n",
       "        }    #T_8656197e_9c26_11ea_8d14_000d3a9fde60row10_col5 {\n",
       "            background-color:  #fddbb8;\n",
       "            color:  #000000;\n",
       "        }    #T_8656197e_9c26_11ea_8d14_000d3a9fde60row10_col6 {\n",
       "            background-color:  #fdba7f;\n",
       "            color:  #000000;\n",
       "        }    #T_8656197e_9c26_11ea_8d14_000d3a9fde60row11_col0 {\n",
       "            background-color:  #fee8d2;\n",
       "            color:  #000000;\n",
       "        }    #T_8656197e_9c26_11ea_8d14_000d3a9fde60row11_col1 {\n",
       "            background-color:  #fee8d2;\n",
       "            color:  #000000;\n",
       "        }    #T_8656197e_9c26_11ea_8d14_000d3a9fde60row11_col3 {\n",
       "            background-color:  #fdc38d;\n",
       "            color:  #000000;\n",
       "        }    #T_8656197e_9c26_11ea_8d14_000d3a9fde60row11_col4 {\n",
       "            background-color:  #fdb06e;\n",
       "            color:  #000000;\n",
       "        }    #T_8656197e_9c26_11ea_8d14_000d3a9fde60row11_col5 {\n",
       "            background-color:  #f4721e;\n",
       "            color:  #000000;\n",
       "        }    #T_8656197e_9c26_11ea_8d14_000d3a9fde60row11_col6 {\n",
       "            background-color:  #e65a0b;\n",
       "            color:  #000000;\n",
       "        }    #T_8656197e_9c26_11ea_8d14_000d3a9fde60row12_col0 {\n",
       "            background-color:  #fee9d4;\n",
       "            color:  #000000;\n",
       "        }    #T_8656197e_9c26_11ea_8d14_000d3a9fde60row12_col1 {\n",
       "            background-color:  #fee9d3;\n",
       "            color:  #000000;\n",
       "        }    #T_8656197e_9c26_11ea_8d14_000d3a9fde60row12_col3 {\n",
       "            background-color:  #fdd1a3;\n",
       "            color:  #000000;\n",
       "        }    #T_8656197e_9c26_11ea_8d14_000d3a9fde60row12_col4 {\n",
       "            background-color:  #fd974a;\n",
       "            color:  #000000;\n",
       "        }    #T_8656197e_9c26_11ea_8d14_000d3a9fde60row12_col5 {\n",
       "            background-color:  #fda35c;\n",
       "            color:  #000000;\n",
       "        }    #T_8656197e_9c26_11ea_8d14_000d3a9fde60row12_col6 {\n",
       "            background-color:  #fda55f;\n",
       "            color:  #000000;\n",
       "        }    #T_8656197e_9c26_11ea_8d14_000d3a9fde60row13_col0 {\n",
       "            background-color:  #feead5;\n",
       "            color:  #000000;\n",
       "        }    #T_8656197e_9c26_11ea_8d14_000d3a9fde60row13_col1 {\n",
       "            background-color:  #fee9d3;\n",
       "            color:  #000000;\n",
       "        }    #T_8656197e_9c26_11ea_8d14_000d3a9fde60row13_col3 {\n",
       "            background-color:  #a23503;\n",
       "            color:  #f1f1f1;\n",
       "        }    #T_8656197e_9c26_11ea_8d14_000d3a9fde60row13_col4 {\n",
       "            background-color:  #fff0e2;\n",
       "            color:  #000000;\n",
       "        }    #T_8656197e_9c26_11ea_8d14_000d3a9fde60row13_col5 {\n",
       "            background-color:  #fdd9b5;\n",
       "            color:  #000000;\n",
       "        }    #T_8656197e_9c26_11ea_8d14_000d3a9fde60row13_col6 {\n",
       "            background-color:  #f9802d;\n",
       "            color:  #000000;\n",
       "        }    #T_8656197e_9c26_11ea_8d14_000d3a9fde60row14_col0 {\n",
       "            background-color:  #feebd8;\n",
       "            color:  #000000;\n",
       "        }    #T_8656197e_9c26_11ea_8d14_000d3a9fde60row14_col1 {\n",
       "            background-color:  #feead6;\n",
       "            color:  #000000;\n",
       "        }    #T_8656197e_9c26_11ea_8d14_000d3a9fde60row14_col3 {\n",
       "            background-color:  #a53603;\n",
       "            color:  #f1f1f1;\n",
       "        }    #T_8656197e_9c26_11ea_8d14_000d3a9fde60row14_col4 {\n",
       "            background-color:  #fff0e2;\n",
       "            color:  #000000;\n",
       "        }    #T_8656197e_9c26_11ea_8d14_000d3a9fde60row14_col5 {\n",
       "            background-color:  #fee7d0;\n",
       "            color:  #000000;\n",
       "        }    #T_8656197e_9c26_11ea_8d14_000d3a9fde60row14_col6 {\n",
       "            background-color:  #fdb87c;\n",
       "            color:  #000000;\n",
       "        }    #T_8656197e_9c26_11ea_8d14_000d3a9fde60row15_col0 {\n",
       "            background-color:  #feebd8;\n",
       "            color:  #000000;\n",
       "        }    #T_8656197e_9c26_11ea_8d14_000d3a9fde60row15_col1 {\n",
       "            background-color:  #feebd7;\n",
       "            color:  #000000;\n",
       "        }    #T_8656197e_9c26_11ea_8d14_000d3a9fde60row15_col3 {\n",
       "            background-color:  #e35608;\n",
       "            color:  #000000;\n",
       "        }    #T_8656197e_9c26_11ea_8d14_000d3a9fde60row15_col4 {\n",
       "            background-color:  #feebd7;\n",
       "            color:  #000000;\n",
       "        }    #T_8656197e_9c26_11ea_8d14_000d3a9fde60row15_col5 {\n",
       "            background-color:  #fdd5ab;\n",
       "            color:  #000000;\n",
       "        }    #T_8656197e_9c26_11ea_8d14_000d3a9fde60row15_col6 {\n",
       "            background-color:  #fc8937;\n",
       "            color:  #000000;\n",
       "        }    #T_8656197e_9c26_11ea_8d14_000d3a9fde60row16_col0 {\n",
       "            background-color:  #feeddc;\n",
       "            color:  #000000;\n",
       "        }    #T_8656197e_9c26_11ea_8d14_000d3a9fde60row16_col1 {\n",
       "            background-color:  #feeddc;\n",
       "            color:  #000000;\n",
       "        }    #T_8656197e_9c26_11ea_8d14_000d3a9fde60row16_col3 {\n",
       "            background-color:  #9a3103;\n",
       "            color:  #f1f1f1;\n",
       "        }    #T_8656197e_9c26_11ea_8d14_000d3a9fde60row16_col4 {\n",
       "            background-color:  #fff3e7;\n",
       "            color:  #000000;\n",
       "        }    #T_8656197e_9c26_11ea_8d14_000d3a9fde60row16_col5 {\n",
       "            background-color:  #fdd9b5;\n",
       "            color:  #000000;\n",
       "        }    #T_8656197e_9c26_11ea_8d14_000d3a9fde60row16_col6 {\n",
       "            background-color:  #f5741f;\n",
       "            color:  #000000;\n",
       "        }    #T_8656197e_9c26_11ea_8d14_000d3a9fde60row17_col0 {\n",
       "            background-color:  #ffeede;\n",
       "            color:  #000000;\n",
       "        }    #T_8656197e_9c26_11ea_8d14_000d3a9fde60row17_col1 {\n",
       "            background-color:  #ffeedd;\n",
       "            color:  #000000;\n",
       "        }    #T_8656197e_9c26_11ea_8d14_000d3a9fde60row17_col3 {\n",
       "            background-color:  #c34002;\n",
       "            color:  #f1f1f1;\n",
       "        }    #T_8656197e_9c26_11ea_8d14_000d3a9fde60row17_col4 {\n",
       "            background-color:  #feeddc;\n",
       "            color:  #000000;\n",
       "        }    #T_8656197e_9c26_11ea_8d14_000d3a9fde60row17_col5 {\n",
       "            background-color:  #feebd7;\n",
       "            color:  #000000;\n",
       "        }    #T_8656197e_9c26_11ea_8d14_000d3a9fde60row17_col6 {\n",
       "            background-color:  #fdd4aa;\n",
       "            color:  #000000;\n",
       "        }    #T_8656197e_9c26_11ea_8d14_000d3a9fde60row18_col0 {\n",
       "            background-color:  #ffefdf;\n",
       "            color:  #000000;\n",
       "        }    #T_8656197e_9c26_11ea_8d14_000d3a9fde60row18_col1 {\n",
       "            background-color:  #ffefdf;\n",
       "            color:  #000000;\n",
       "        }    #T_8656197e_9c26_11ea_8d14_000d3a9fde60row18_col3 {\n",
       "            background-color:  #fb8735;\n",
       "            color:  #000000;\n",
       "        }    #T_8656197e_9c26_11ea_8d14_000d3a9fde60row18_col4 {\n",
       "            background-color:  #fedcbb;\n",
       "            color:  #000000;\n",
       "        }    #T_8656197e_9c26_11ea_8d14_000d3a9fde60row18_col5 {\n",
       "            background-color:  #fee7d1;\n",
       "            color:  #000000;\n",
       "        }    #T_8656197e_9c26_11ea_8d14_000d3a9fde60row18_col6 {\n",
       "            background-color:  #fdd9b4;\n",
       "            color:  #000000;\n",
       "        }    #T_8656197e_9c26_11ea_8d14_000d3a9fde60row19_col0 {\n",
       "            background-color:  #ffefdf;\n",
       "            color:  #000000;\n",
       "        }    #T_8656197e_9c26_11ea_8d14_000d3a9fde60row19_col1 {\n",
       "            background-color:  #ffefdf;\n",
       "            color:  #000000;\n",
       "        }    #T_8656197e_9c26_11ea_8d14_000d3a9fde60row19_col3 {\n",
       "            background-color:  #fdbd83;\n",
       "            color:  #000000;\n",
       "        }    #T_8656197e_9c26_11ea_8d14_000d3a9fde60row19_col4 {\n",
       "            background-color:  #fdbb81;\n",
       "            color:  #000000;\n",
       "        }    #T_8656197e_9c26_11ea_8d14_000d3a9fde60row19_col5 {\n",
       "            background-color:  #fee5cc;\n",
       "            color:  #000000;\n",
       "        }    #T_8656197e_9c26_11ea_8d14_000d3a9fde60row19_col6 {\n",
       "            background-color:  #fee0c3;\n",
       "            color:  #000000;\n",
       "        }    #T_8656197e_9c26_11ea_8d14_000d3a9fde60row20_col0 {\n",
       "            background-color:  #ffefe0;\n",
       "            color:  #000000;\n",
       "        }    #T_8656197e_9c26_11ea_8d14_000d3a9fde60row20_col1 {\n",
       "            background-color:  #ffefdf;\n",
       "            color:  #000000;\n",
       "        }    #T_8656197e_9c26_11ea_8d14_000d3a9fde60row20_col3 {\n",
       "            background-color:  #e35608;\n",
       "            color:  #000000;\n",
       "        }    #T_8656197e_9c26_11ea_8d14_000d3a9fde60row20_col4 {\n",
       "            background-color:  #feead5;\n",
       "            color:  #000000;\n",
       "        }    #T_8656197e_9c26_11ea_8d14_000d3a9fde60row20_col5 {\n",
       "            background-color:  #fee1c4;\n",
       "            color:  #000000;\n",
       "        }    #T_8656197e_9c26_11ea_8d14_000d3a9fde60row20_col6 {\n",
       "            background-color:  #fdb475;\n",
       "            color:  #000000;\n",
       "        }    #T_8656197e_9c26_11ea_8d14_000d3a9fde60row21_col0 {\n",
       "            background-color:  #fff0e1;\n",
       "            color:  #000000;\n",
       "        }    #T_8656197e_9c26_11ea_8d14_000d3a9fde60row21_col1 {\n",
       "            background-color:  #fff0e1;\n",
       "            color:  #000000;\n",
       "        }    #T_8656197e_9c26_11ea_8d14_000d3a9fde60row21_col3 {\n",
       "            background-color:  #f67723;\n",
       "            color:  #000000;\n",
       "        }    #T_8656197e_9c26_11ea_8d14_000d3a9fde60row21_col4 {\n",
       "            background-color:  #fee0c1;\n",
       "            color:  #000000;\n",
       "        }    #T_8656197e_9c26_11ea_8d14_000d3a9fde60row21_col5 {\n",
       "            background-color:  #fdce9e;\n",
       "            color:  #000000;\n",
       "        }    #T_8656197e_9c26_11ea_8d14_000d3a9fde60row21_col6 {\n",
       "            background-color:  #fd9344;\n",
       "            color:  #000000;\n",
       "        }    #T_8656197e_9c26_11ea_8d14_000d3a9fde60row22_col0 {\n",
       "            background-color:  #fff0e2;\n",
       "            color:  #000000;\n",
       "        }    #T_8656197e_9c26_11ea_8d14_000d3a9fde60row22_col1 {\n",
       "            background-color:  #fff0e1;\n",
       "            color:  #000000;\n",
       "        }    #T_8656197e_9c26_11ea_8d14_000d3a9fde60row22_col3 {\n",
       "            background-color:  #9c3203;\n",
       "            color:  #f1f1f1;\n",
       "        }    #T_8656197e_9c26_11ea_8d14_000d3a9fde60row22_col4 {\n",
       "            background-color:  #fff3e7;\n",
       "            color:  #000000;\n",
       "        }    #T_8656197e_9c26_11ea_8d14_000d3a9fde60row22_col5 {\n",
       "            background-color:  #feead6;\n",
       "            color:  #000000;\n",
       "        }    #T_8656197e_9c26_11ea_8d14_000d3a9fde60row22_col6 {\n",
       "            background-color:  #fdc48f;\n",
       "            color:  #000000;\n",
       "        }    #T_8656197e_9c26_11ea_8d14_000d3a9fde60row23_col0 {\n",
       "            background-color:  #fff1e3;\n",
       "            color:  #000000;\n",
       "        }    #T_8656197e_9c26_11ea_8d14_000d3a9fde60row23_col1 {\n",
       "            background-color:  #fff0e2;\n",
       "            color:  #000000;\n",
       "        }    #T_8656197e_9c26_11ea_8d14_000d3a9fde60row23_col3 {\n",
       "            background-color:  #da4902;\n",
       "            color:  #f1f1f1;\n",
       "        }    #T_8656197e_9c26_11ea_8d14_000d3a9fde60row23_col4 {\n",
       "            background-color:  #feead6;\n",
       "            color:  #000000;\n",
       "        }    #T_8656197e_9c26_11ea_8d14_000d3a9fde60row23_col5 {\n",
       "            background-color:  #fee8d2;\n",
       "            color:  #000000;\n",
       "        }    #T_8656197e_9c26_11ea_8d14_000d3a9fde60row23_col6 {\n",
       "            background-color:  #fdcfa0;\n",
       "            color:  #000000;\n",
       "        }    #T_8656197e_9c26_11ea_8d14_000d3a9fde60row24_col0 {\n",
       "            background-color:  #fff1e3;\n",
       "            color:  #000000;\n",
       "        }    #T_8656197e_9c26_11ea_8d14_000d3a9fde60row24_col1 {\n",
       "            background-color:  #fff1e3;\n",
       "            color:  #000000;\n",
       "        }    #T_8656197e_9c26_11ea_8d14_000d3a9fde60row24_col3 {\n",
       "            background-color:  #f36e19;\n",
       "            color:  #000000;\n",
       "        }    #T_8656197e_9c26_11ea_8d14_000d3a9fde60row24_col4 {\n",
       "            background-color:  #fee4ca;\n",
       "            color:  #000000;\n",
       "        }    #T_8656197e_9c26_11ea_8d14_000d3a9fde60row24_col5 {\n",
       "            background-color:  #fee6cf;\n",
       "            color:  #000000;\n",
       "        }    #T_8656197e_9c26_11ea_8d14_000d3a9fde60row24_col6 {\n",
       "            background-color:  #fdd1a3;\n",
       "            color:  #000000;\n",
       "        }    #T_8656197e_9c26_11ea_8d14_000d3a9fde60row25_col0 {\n",
       "            background-color:  #fff1e3;\n",
       "            color:  #000000;\n",
       "        }    #T_8656197e_9c26_11ea_8d14_000d3a9fde60row25_col1 {\n",
       "            background-color:  #fff1e3;\n",
       "            color:  #000000;\n",
       "        }    #T_8656197e_9c26_11ea_8d14_000d3a9fde60row25_col3 {\n",
       "            background-color:  #fff5eb;\n",
       "            color:  #000000;\n",
       "        }    #T_8656197e_9c26_11ea_8d14_000d3a9fde60row25_col4 {\n",
       "            background-color:  #7f2704;\n",
       "            color:  #f1f1f1;\n",
       "        }    #T_8656197e_9c26_11ea_8d14_000d3a9fde60row25_col5 {\n",
       "            background-color:  #e45709;\n",
       "            color:  #000000;\n",
       "        }    #T_8656197e_9c26_11ea_8d14_000d3a9fde60row25_col6 {\n",
       "            background-color:  #fdaf6c;\n",
       "            color:  #000000;\n",
       "        }    #T_8656197e_9c26_11ea_8d14_000d3a9fde60row26_col0 {\n",
       "            background-color:  #fff1e4;\n",
       "            color:  #000000;\n",
       "        }    #T_8656197e_9c26_11ea_8d14_000d3a9fde60row26_col1 {\n",
       "            background-color:  #fff1e4;\n",
       "            color:  #000000;\n",
       "        }    #T_8656197e_9c26_11ea_8d14_000d3a9fde60row26_col3 {\n",
       "            background-color:  #fd8f3e;\n",
       "            color:  #000000;\n",
       "        }    #T_8656197e_9c26_11ea_8d14_000d3a9fde60row26_col4 {\n",
       "            background-color:  #fdd6ae;\n",
       "            color:  #000000;\n",
       "        }    #T_8656197e_9c26_11ea_8d14_000d3a9fde60row26_col5 {\n",
       "            background-color:  #fdd8b2;\n",
       "            color:  #000000;\n",
       "        }    #T_8656197e_9c26_11ea_8d14_000d3a9fde60row26_col6 {\n",
       "            background-color:  #fdbd83;\n",
       "            color:  #000000;\n",
       "        }    #T_8656197e_9c26_11ea_8d14_000d3a9fde60row27_col0 {\n",
       "            background-color:  #fff2e5;\n",
       "            color:  #000000;\n",
       "        }    #T_8656197e_9c26_11ea_8d14_000d3a9fde60row27_col1 {\n",
       "            background-color:  #fff1e4;\n",
       "            color:  #000000;\n",
       "        }    #T_8656197e_9c26_11ea_8d14_000d3a9fde60row27_col3 {\n",
       "            background-color:  #ad3803;\n",
       "            color:  #f1f1f1;\n",
       "        }    #T_8656197e_9c26_11ea_8d14_000d3a9fde60row27_col4 {\n",
       "            background-color:  #ffefe0;\n",
       "            color:  #000000;\n",
       "        }    #T_8656197e_9c26_11ea_8d14_000d3a9fde60row27_col5 {\n",
       "            background-color:  #feecd9;\n",
       "            color:  #000000;\n",
       "        }    #T_8656197e_9c26_11ea_8d14_000d3a9fde60row27_col6 {\n",
       "            background-color:  #fdd5ab;\n",
       "            color:  #000000;\n",
       "        }    #T_8656197e_9c26_11ea_8d14_000d3a9fde60row28_col0 {\n",
       "            background-color:  #fff2e5;\n",
       "            color:  #000000;\n",
       "        }    #T_8656197e_9c26_11ea_8d14_000d3a9fde60row28_col1 {\n",
       "            background-color:  #fff1e4;\n",
       "            color:  #000000;\n",
       "        }    #T_8656197e_9c26_11ea_8d14_000d3a9fde60row28_col3 {\n",
       "            background-color:  #f87e2b;\n",
       "            color:  #000000;\n",
       "        }    #T_8656197e_9c26_11ea_8d14_000d3a9fde60row28_col4 {\n",
       "            background-color:  #fedcbb;\n",
       "            color:  #000000;\n",
       "        }    #T_8656197e_9c26_11ea_8d14_000d3a9fde60row28_col5 {\n",
       "            background-color:  #fdc48f;\n",
       "            color:  #000000;\n",
       "        }    #T_8656197e_9c26_11ea_8d14_000d3a9fde60row28_col6 {\n",
       "            background-color:  #fc8a39;\n",
       "            color:  #000000;\n",
       "        }    #T_8656197e_9c26_11ea_8d14_000d3a9fde60row29_col0 {\n",
       "            background-color:  #fff2e6;\n",
       "            color:  #000000;\n",
       "        }    #T_8656197e_9c26_11ea_8d14_000d3a9fde60row29_col1 {\n",
       "            background-color:  #fff2e6;\n",
       "            color:  #000000;\n",
       "        }    #T_8656197e_9c26_11ea_8d14_000d3a9fde60row29_col3 {\n",
       "            background-color:  #a43503;\n",
       "            color:  #f1f1f1;\n",
       "        }    #T_8656197e_9c26_11ea_8d14_000d3a9fde60row29_col4 {\n",
       "            background-color:  #ffefdf;\n",
       "            color:  #000000;\n",
       "        }    #T_8656197e_9c26_11ea_8d14_000d3a9fde60row29_col5 {\n",
       "            background-color:  #feecda;\n",
       "            color:  #000000;\n",
       "        }    #T_8656197e_9c26_11ea_8d14_000d3a9fde60row29_col6 {\n",
       "            background-color:  #fdd7b1;\n",
       "            color:  #000000;\n",
       "        }    #T_8656197e_9c26_11ea_8d14_000d3a9fde60row30_col0 {\n",
       "            background-color:  #fff3e6;\n",
       "            color:  #000000;\n",
       "        }    #T_8656197e_9c26_11ea_8d14_000d3a9fde60row30_col1 {\n",
       "            background-color:  #fff2e6;\n",
       "            color:  #000000;\n",
       "        }    #T_8656197e_9c26_11ea_8d14_000d3a9fde60row30_col3 {\n",
       "            background-color:  #9e3303;\n",
       "            color:  #f1f1f1;\n",
       "        }    #T_8656197e_9c26_11ea_8d14_000d3a9fde60row30_col4 {\n",
       "            background-color:  #fff2e5;\n",
       "            color:  #000000;\n",
       "        }    #T_8656197e_9c26_11ea_8d14_000d3a9fde60row30_col5 {\n",
       "            background-color:  #fee4ca;\n",
       "            color:  #000000;\n",
       "        }    #T_8656197e_9c26_11ea_8d14_000d3a9fde60row30_col6 {\n",
       "            background-color:  #fda55f;\n",
       "            color:  #000000;\n",
       "        }    #T_8656197e_9c26_11ea_8d14_000d3a9fde60row31_col0 {\n",
       "            background-color:  #fff3e6;\n",
       "            color:  #000000;\n",
       "        }    #T_8656197e_9c26_11ea_8d14_000d3a9fde60row31_col1 {\n",
       "            background-color:  #fff3e6;\n",
       "            color:  #000000;\n",
       "        }    #T_8656197e_9c26_11ea_8d14_000d3a9fde60row31_col3 {\n",
       "            background-color:  #fdae6a;\n",
       "            color:  #000000;\n",
       "        }    #T_8656197e_9c26_11ea_8d14_000d3a9fde60row31_col4 {\n",
       "            background-color:  #fdc692;\n",
       "            color:  #000000;\n",
       "        }    #T_8656197e_9c26_11ea_8d14_000d3a9fde60row31_col5 {\n",
       "            background-color:  #fd994d;\n",
       "            color:  #000000;\n",
       "        }    #T_8656197e_9c26_11ea_8d14_000d3a9fde60row31_col6 {\n",
       "            background-color:  #f26b15;\n",
       "            color:  #000000;\n",
       "        }    #T_8656197e_9c26_11ea_8d14_000d3a9fde60row32_col0 {\n",
       "            background-color:  #fff3e6;\n",
       "            color:  #000000;\n",
       "        }    #T_8656197e_9c26_11ea_8d14_000d3a9fde60row32_col1 {\n",
       "            background-color:  #fff3e6;\n",
       "            color:  #000000;\n",
       "        }    #T_8656197e_9c26_11ea_8d14_000d3a9fde60row32_col3 {\n",
       "            background-color:  #f4721e;\n",
       "            color:  #000000;\n",
       "        }    #T_8656197e_9c26_11ea_8d14_000d3a9fde60row32_col4 {\n",
       "            background-color:  #fee2c7;\n",
       "            color:  #000000;\n",
       "        }    #T_8656197e_9c26_11ea_8d14_000d3a9fde60row32_col5 {\n",
       "            background-color:  #feecda;\n",
       "            color:  #000000;\n",
       "        }    #T_8656197e_9c26_11ea_8d14_000d3a9fde60row32_col6 {\n",
       "            background-color:  #fee1c4;\n",
       "            color:  #000000;\n",
       "        }    #T_8656197e_9c26_11ea_8d14_000d3a9fde60row33_col0 {\n",
       "            background-color:  #fff3e6;\n",
       "            color:  #000000;\n",
       "        }    #T_8656197e_9c26_11ea_8d14_000d3a9fde60row33_col1 {\n",
       "            background-color:  #fff3e6;\n",
       "            color:  #000000;\n",
       "        }    #T_8656197e_9c26_11ea_8d14_000d3a9fde60row33_col3 {\n",
       "            background-color:  #fdba7f;\n",
       "            color:  #000000;\n",
       "        }    #T_8656197e_9c26_11ea_8d14_000d3a9fde60row33_col4 {\n",
       "            background-color:  #fdaf6c;\n",
       "            color:  #000000;\n",
       "        }    #T_8656197e_9c26_11ea_8d14_000d3a9fde60row33_col5 {\n",
       "            background-color:  #fee8d2;\n",
       "            color:  #000000;\n",
       "        }    #T_8656197e_9c26_11ea_8d14_000d3a9fde60row33_col6 {\n",
       "            background-color:  #fee6cf;\n",
       "            color:  #000000;\n",
       "        }    #T_8656197e_9c26_11ea_8d14_000d3a9fde60row34_col0 {\n",
       "            background-color:  #fff3e6;\n",
       "            color:  #000000;\n",
       "        }    #T_8656197e_9c26_11ea_8d14_000d3a9fde60row34_col1 {\n",
       "            background-color:  #fff3e6;\n",
       "            color:  #000000;\n",
       "        }    #T_8656197e_9c26_11ea_8d14_000d3a9fde60row34_col3 {\n",
       "            background-color:  #fdc48f;\n",
       "            color:  #000000;\n",
       "        }    #T_8656197e_9c26_11ea_8d14_000d3a9fde60row34_col4 {\n",
       "            background-color:  #fda863;\n",
       "            color:  #000000;\n",
       "        }    #T_8656197e_9c26_11ea_8d14_000d3a9fde60row34_col5 {\n",
       "            background-color:  #f4721e;\n",
       "            color:  #000000;\n",
       "        }    #T_8656197e_9c26_11ea_8d14_000d3a9fde60row34_col6 {\n",
       "            background-color:  #eb600e;\n",
       "            color:  #000000;\n",
       "        }    #T_8656197e_9c26_11ea_8d14_000d3a9fde60row35_col0 {\n",
       "            background-color:  #fff3e7;\n",
       "            color:  #000000;\n",
       "        }    #T_8656197e_9c26_11ea_8d14_000d3a9fde60row35_col1 {\n",
       "            background-color:  #fff3e6;\n",
       "            color:  #000000;\n",
       "        }    #T_8656197e_9c26_11ea_8d14_000d3a9fde60row35_col3 {\n",
       "            background-color:  #d84801;\n",
       "            color:  #f1f1f1;\n",
       "        }    #T_8656197e_9c26_11ea_8d14_000d3a9fde60row35_col4 {\n",
       "            background-color:  #feead5;\n",
       "            color:  #000000;\n",
       "        }    #T_8656197e_9c26_11ea_8d14_000d3a9fde60row35_col5 {\n",
       "            background-color:  #fee8d2;\n",
       "            color:  #000000;\n",
       "        }    #T_8656197e_9c26_11ea_8d14_000d3a9fde60row35_col6 {\n",
       "            background-color:  #fdd1a3;\n",
       "            color:  #000000;\n",
       "        }    #T_8656197e_9c26_11ea_8d14_000d3a9fde60row36_col0 {\n",
       "            background-color:  #fff3e7;\n",
       "            color:  #000000;\n",
       "        }    #T_8656197e_9c26_11ea_8d14_000d3a9fde60row36_col1 {\n",
       "            background-color:  #fff3e7;\n",
       "            color:  #000000;\n",
       "        }    #T_8656197e_9c26_11ea_8d14_000d3a9fde60row36_col3 {\n",
       "            background-color:  #fdd9b5;\n",
       "            color:  #000000;\n",
       "        }    #T_8656197e_9c26_11ea_8d14_000d3a9fde60row36_col4 {\n",
       "            background-color:  #fc8937;\n",
       "            color:  #000000;\n",
       "        }    #T_8656197e_9c26_11ea_8d14_000d3a9fde60row36_col5 {\n",
       "            background-color:  #fee3c8;\n",
       "            color:  #000000;\n",
       "        }    #T_8656197e_9c26_11ea_8d14_000d3a9fde60row36_col6 {\n",
       "            background-color:  #fee6cf;\n",
       "            color:  #000000;\n",
       "        }    #T_8656197e_9c26_11ea_8d14_000d3a9fde60row37_col0 {\n",
       "            background-color:  #fff4e8;\n",
       "            color:  #000000;\n",
       "        }    #T_8656197e_9c26_11ea_8d14_000d3a9fde60row37_col1 {\n",
       "            background-color:  #fff4e8;\n",
       "            color:  #000000;\n",
       "        }    #T_8656197e_9c26_11ea_8d14_000d3a9fde60row37_col3 {\n",
       "            background-color:  #f77b28;\n",
       "            color:  #000000;\n",
       "        }    #T_8656197e_9c26_11ea_8d14_000d3a9fde60row37_col4 {\n",
       "            background-color:  #fedebf;\n",
       "            color:  #000000;\n",
       "        }    #T_8656197e_9c26_11ea_8d14_000d3a9fde60row37_col5 {\n",
       "            background-color:  #ffeede;\n",
       "            color:  #000000;\n",
       "        }    #T_8656197e_9c26_11ea_8d14_000d3a9fde60row37_col6 {\n",
       "            background-color:  #fee9d3;\n",
       "            color:  #000000;\n",
       "        }    #T_8656197e_9c26_11ea_8d14_000d3a9fde60row38_col0 {\n",
       "            background-color:  #fff4e8;\n",
       "            color:  #000000;\n",
       "        }    #T_8656197e_9c26_11ea_8d14_000d3a9fde60row38_col1 {\n",
       "            background-color:  #fff4e8;\n",
       "            color:  #000000;\n",
       "        }    #T_8656197e_9c26_11ea_8d14_000d3a9fde60row38_col3 {\n",
       "            background-color:  #f36f1a;\n",
       "            color:  #000000;\n",
       "        }    #T_8656197e_9c26_11ea_8d14_000d3a9fde60row38_col4 {\n",
       "            background-color:  #fee7d0;\n",
       "            color:  #000000;\n",
       "        }    #T_8656197e_9c26_11ea_8d14_000d3a9fde60row38_col5 {\n",
       "            background-color:  #feecda;\n",
       "            color:  #000000;\n",
       "        }    #T_8656197e_9c26_11ea_8d14_000d3a9fde60row38_col6 {\n",
       "            background-color:  #fedfc0;\n",
       "            color:  #000000;\n",
       "        }    #T_8656197e_9c26_11ea_8d14_000d3a9fde60row39_col0 {\n",
       "            background-color:  #fff4e9;\n",
       "            color:  #000000;\n",
       "        }    #T_8656197e_9c26_11ea_8d14_000d3a9fde60row39_col1 {\n",
       "            background-color:  #fff4e9;\n",
       "            color:  #000000;\n",
       "        }    #T_8656197e_9c26_11ea_8d14_000d3a9fde60row39_col3 {\n",
       "            background-color:  #f26d17;\n",
       "            color:  #000000;\n",
       "        }    #T_8656197e_9c26_11ea_8d14_000d3a9fde60row39_col4 {\n",
       "            background-color:  #fee3c8;\n",
       "            color:  #000000;\n",
       "        }    #T_8656197e_9c26_11ea_8d14_000d3a9fde60row39_col5 {\n",
       "            background-color:  #fdd1a4;\n",
       "            color:  #000000;\n",
       "        }    #T_8656197e_9c26_11ea_8d14_000d3a9fde60row39_col6 {\n",
       "            background-color:  #fd9649;\n",
       "            color:  #000000;\n",
       "        }    #T_8656197e_9c26_11ea_8d14_000d3a9fde60row40_col0 {\n",
       "            background-color:  #fff4e9;\n",
       "            color:  #000000;\n",
       "        }    #T_8656197e_9c26_11ea_8d14_000d3a9fde60row40_col1 {\n",
       "            background-color:  #fff4e9;\n",
       "            color:  #000000;\n",
       "        }    #T_8656197e_9c26_11ea_8d14_000d3a9fde60row40_col3 {\n",
       "            background-color:  #b03903;\n",
       "            color:  #f1f1f1;\n",
       "        }    #T_8656197e_9c26_11ea_8d14_000d3a9fde60row40_col4 {\n",
       "            background-color:  #fff1e4;\n",
       "            color:  #000000;\n",
       "        }    #T_8656197e_9c26_11ea_8d14_000d3a9fde60row40_col5 {\n",
       "            background-color:  #fff2e6;\n",
       "            color:  #000000;\n",
       "        }    #T_8656197e_9c26_11ea_8d14_000d3a9fde60row40_col6 {\n",
       "            background-color:  #feead5;\n",
       "            color:  #000000;\n",
       "        }    #T_8656197e_9c26_11ea_8d14_000d3a9fde60row41_col0 {\n",
       "            background-color:  #fff4e9;\n",
       "            color:  #000000;\n",
       "        }    #T_8656197e_9c26_11ea_8d14_000d3a9fde60row41_col1 {\n",
       "            background-color:  #fff4e9;\n",
       "            color:  #000000;\n",
       "        }    #T_8656197e_9c26_11ea_8d14_000d3a9fde60row41_col3 {\n",
       "            background-color:  #f67824;\n",
       "            color:  #000000;\n",
       "        }    #T_8656197e_9c26_11ea_8d14_000d3a9fde60row41_col4 {\n",
       "            background-color:  #fedcbb;\n",
       "            color:  #000000;\n",
       "        }    #T_8656197e_9c26_11ea_8d14_000d3a9fde60row41_col5 {\n",
       "            background-color:  #fee5cb;\n",
       "            color:  #000000;\n",
       "        }    #T_8656197e_9c26_11ea_8d14_000d3a9fde60row41_col6 {\n",
       "            background-color:  #fdd3a7;\n",
       "            color:  #000000;\n",
       "        }    #T_8656197e_9c26_11ea_8d14_000d3a9fde60row42_col0 {\n",
       "            background-color:  #fff5ea;\n",
       "            color:  #000000;\n",
       "        }    #T_8656197e_9c26_11ea_8d14_000d3a9fde60row42_col1 {\n",
       "            background-color:  #fff5ea;\n",
       "            color:  #000000;\n",
       "        }    #T_8656197e_9c26_11ea_8d14_000d3a9fde60row42_col3 {\n",
       "            background-color:  #7f2704;\n",
       "            color:  #f1f1f1;\n",
       "        }    #T_8656197e_9c26_11ea_8d14_000d3a9fde60row42_col4 {\n",
       "            background-color:  #fff5eb;\n",
       "            color:  #000000;\n",
       "        }    #T_8656197e_9c26_11ea_8d14_000d3a9fde60row42_col5 {\n",
       "            background-color:  #ffefdf;\n",
       "            color:  #000000;\n",
       "        }    #T_8656197e_9c26_11ea_8d14_000d3a9fde60row42_col6 {\n",
       "            background-color:  #fdd9b4;\n",
       "            color:  #000000;\n",
       "        }    #T_8656197e_9c26_11ea_8d14_000d3a9fde60row43_col0 {\n",
       "            background-color:  #fff5ea;\n",
       "            color:  #000000;\n",
       "        }    #T_8656197e_9c26_11ea_8d14_000d3a9fde60row43_col1 {\n",
       "            background-color:  #fff5ea;\n",
       "            color:  #000000;\n",
       "        }    #T_8656197e_9c26_11ea_8d14_000d3a9fde60row43_col3 {\n",
       "            background-color:  #feead6;\n",
       "            color:  #000000;\n",
       "        }    #T_8656197e_9c26_11ea_8d14_000d3a9fde60row43_col4 {\n",
       "            background-color:  #f26b15;\n",
       "            color:  #000000;\n",
       "        }    #T_8656197e_9c26_11ea_8d14_000d3a9fde60row43_col5 {\n",
       "            background-color:  #fee4ca;\n",
       "            color:  #000000;\n",
       "        }    #T_8656197e_9c26_11ea_8d14_000d3a9fde60row43_col6 {\n",
       "            background-color:  #fee9d4;\n",
       "            color:  #000000;\n",
       "        }    #T_8656197e_9c26_11ea_8d14_000d3a9fde60row44_col0 {\n",
       "            background-color:  #fff5ea;\n",
       "            color:  #000000;\n",
       "        }    #T_8656197e_9c26_11ea_8d14_000d3a9fde60row44_col1 {\n",
       "            background-color:  #fff5ea;\n",
       "            color:  #000000;\n",
       "        }    #T_8656197e_9c26_11ea_8d14_000d3a9fde60row44_col3 {\n",
       "            background-color:  #b93d02;\n",
       "            color:  #f1f1f1;\n",
       "        }    #T_8656197e_9c26_11ea_8d14_000d3a9fde60row44_col4 {\n",
       "            background-color:  #feeddc;\n",
       "            color:  #000000;\n",
       "        }    #T_8656197e_9c26_11ea_8d14_000d3a9fde60row44_col5 {\n",
       "            background-color:  #ffefdf;\n",
       "            color:  #000000;\n",
       "        }    #T_8656197e_9c26_11ea_8d14_000d3a9fde60row44_col6 {\n",
       "            background-color:  #fee2c6;\n",
       "            color:  #000000;\n",
       "        }    #T_8656197e_9c26_11ea_8d14_000d3a9fde60row45_col0 {\n",
       "            background-color:  #fff5eb;\n",
       "            color:  #000000;\n",
       "        }    #T_8656197e_9c26_11ea_8d14_000d3a9fde60row45_col1 {\n",
       "            background-color:  #fff5eb;\n",
       "            color:  #000000;\n",
       "        }    #T_8656197e_9c26_11ea_8d14_000d3a9fde60row45_col3 {\n",
       "            background-color:  #fdb678;\n",
       "            color:  #000000;\n",
       "        }    #T_8656197e_9c26_11ea_8d14_000d3a9fde60row45_col4 {\n",
       "            background-color:  #fdce9e;\n",
       "            color:  #000000;\n",
       "        }    #T_8656197e_9c26_11ea_8d14_000d3a9fde60row45_col5 {\n",
       "            background-color:  #fff2e6;\n",
       "            color:  #000000;\n",
       "        }    #T_8656197e_9c26_11ea_8d14_000d3a9fde60row45_col6 {\n",
       "            background-color:  #fff1e4;\n",
       "            color:  #000000;\n",
       "        }    #T_8656197e_9c26_11ea_8d14_000d3a9fde60row46_col0 {\n",
       "            background-color:  #fff5eb;\n",
       "            color:  #000000;\n",
       "        }    #T_8656197e_9c26_11ea_8d14_000d3a9fde60row46_col1 {\n",
       "            background-color:  #fff5eb;\n",
       "            color:  #000000;\n",
       "        }    #T_8656197e_9c26_11ea_8d14_000d3a9fde60row46_col3 {\n",
       "            background-color:  #fb8735;\n",
       "            color:  #000000;\n",
       "        }    #T_8656197e_9c26_11ea_8d14_000d3a9fde60row46_col4 {\n",
       "            background-color:  #fdd8b2;\n",
       "            color:  #000000;\n",
       "        }    #T_8656197e_9c26_11ea_8d14_000d3a9fde60row46_col5 {\n",
       "            background-color:  #ffeedd;\n",
       "            color:  #000000;\n",
       "        }    #T_8656197e_9c26_11ea_8d14_000d3a9fde60row46_col6 {\n",
       "            background-color:  #fee9d4;\n",
       "            color:  #000000;\n",
       "        }    #T_8656197e_9c26_11ea_8d14_000d3a9fde60row47_col0 {\n",
       "            background-color:  #fff5eb;\n",
       "            color:  #000000;\n",
       "        }    #T_8656197e_9c26_11ea_8d14_000d3a9fde60row47_col1 {\n",
       "            background-color:  #fff5eb;\n",
       "            color:  #000000;\n",
       "        }    #T_8656197e_9c26_11ea_8d14_000d3a9fde60row47_col3 {\n",
       "            background-color:  #ee6511;\n",
       "            color:  #000000;\n",
       "        }    #T_8656197e_9c26_11ea_8d14_000d3a9fde60row47_col4 {\n",
       "            background-color:  #fee7d1;\n",
       "            color:  #000000;\n",
       "        }    #T_8656197e_9c26_11ea_8d14_000d3a9fde60row47_col5 {\n",
       "            background-color:  #ffefdf;\n",
       "            color:  #000000;\n",
       "        }    #T_8656197e_9c26_11ea_8d14_000d3a9fde60row47_col6 {\n",
       "            background-color:  #fee7d0;\n",
       "            color:  #000000;\n",
       "        }    #T_8656197e_9c26_11ea_8d14_000d3a9fde60row48_col0 {\n",
       "            background-color:  #fff5eb;\n",
       "            color:  #000000;\n",
       "        }    #T_8656197e_9c26_11ea_8d14_000d3a9fde60row48_col1 {\n",
       "            background-color:  #fff5eb;\n",
       "            color:  #000000;\n",
       "        }    #T_8656197e_9c26_11ea_8d14_000d3a9fde60row48_col3 {\n",
       "            background-color:  #f16913;\n",
       "            color:  #000000;\n",
       "        }    #T_8656197e_9c26_11ea_8d14_000d3a9fde60row48_col4 {\n",
       "            background-color:  #fee6cf;\n",
       "            color:  #000000;\n",
       "        }    #T_8656197e_9c26_11ea_8d14_000d3a9fde60row48_col5 {\n",
       "            background-color:  #fff5eb;\n",
       "            color:  #000000;\n",
       "        }    #T_8656197e_9c26_11ea_8d14_000d3a9fde60row48_col6 {\n",
       "            background-color:  #fff4e8;\n",
       "            color:  #000000;\n",
       "        }    #T_8656197e_9c26_11ea_8d14_000d3a9fde60row49_col0 {\n",
       "            background-color:  #fff5eb;\n",
       "            color:  #000000;\n",
       "        }    #T_8656197e_9c26_11ea_8d14_000d3a9fde60row49_col1 {\n",
       "            background-color:  #fff5eb;\n",
       "            color:  #000000;\n",
       "        }    #T_8656197e_9c26_11ea_8d14_000d3a9fde60row49_col3 {\n",
       "            background-color:  #d34601;\n",
       "            color:  #f1f1f1;\n",
       "        }    #T_8656197e_9c26_11ea_8d14_000d3a9fde60row49_col4 {\n",
       "            background-color:  #feeddb;\n",
       "            color:  #000000;\n",
       "        }    #T_8656197e_9c26_11ea_8d14_000d3a9fde60row49_col5 {\n",
       "            background-color:  #fff5eb;\n",
       "            color:  #000000;\n",
       "        }    #T_8656197e_9c26_11ea_8d14_000d3a9fde60row49_col6 {\n",
       "            background-color:  #fff3e6;\n",
       "            color:  #000000;\n",
       "        }    #T_8656197e_9c26_11ea_8d14_000d3a9fde60row50_col0 {\n",
       "            background-color:  #fff5eb;\n",
       "            color:  #000000;\n",
       "        }    #T_8656197e_9c26_11ea_8d14_000d3a9fde60row50_col1 {\n",
       "            background-color:  #fff5eb;\n",
       "            color:  #000000;\n",
       "        }    #T_8656197e_9c26_11ea_8d14_000d3a9fde60row50_col3 {\n",
       "            background-color:  #fdb87c;\n",
       "            color:  #000000;\n",
       "        }    #T_8656197e_9c26_11ea_8d14_000d3a9fde60row50_col4 {\n",
       "            background-color:  #fdb77a;\n",
       "            color:  #000000;\n",
       "        }    #T_8656197e_9c26_11ea_8d14_000d3a9fde60row50_col5 {\n",
       "            background-color:  #fff5ea;\n",
       "            color:  #000000;\n",
       "        }    #T_8656197e_9c26_11ea_8d14_000d3a9fde60row50_col6 {\n",
       "            background-color:  #fff5eb;\n",
       "            color:  #000000;\n",
       "        }</style><table id=\"T_8656197e_9c26_11ea_8d14_000d3a9fde60\" ><thead>    <tr>        <th class=\"blank level0\" ></th>        <th class=\"col_heading level0 col0\" >Reported Cases</th>        <th class=\"col_heading level0 col1\" >Est Cases</th>        <th class=\"col_heading level0 col2\" >Est Range</th>        <th class=\"col_heading level0 col3\" >Ratio</th>        <th class=\"col_heading level0 col4\" >Tests per Million</th>        <th class=\"col_heading level0 col5\" >Cases per Million</th>        <th class=\"col_heading level0 col6\" >Positive Test Rate</th>    </tr>    <tr>        <th class=\"index_name level0\" >state</th>        <th class=\"blank\" ></th>        <th class=\"blank\" ></th>        <th class=\"blank\" ></th>        <th class=\"blank\" ></th>        <th class=\"blank\" ></th>        <th class=\"blank\" ></th>        <th class=\"blank\" ></th>    </tr></thead><tbody>\n",
       "                <tr>\n",
       "                        <th id=\"T_8656197e_9c26_11ea_8d14_000d3a9fde60level0_row0\" class=\"row_heading level0 row0\" >NY</th>\n",
       "                        <td id=\"T_8656197e_9c26_11ea_8d14_000d3a9fde60row0_col0\" class=\"data row0 col0\" >356458</td>\n",
       "                        <td id=\"T_8656197e_9c26_11ea_8d14_000d3a9fde60row0_col1\" class=\"data row0 col1\" >396453</td>\n",
       "                        <td id=\"T_8656197e_9c26_11ea_8d14_000d3a9fde60row0_col2\" class=\"data row0 col2\" >(368972, 462108)</td>\n",
       "                        <td id=\"T_8656197e_9c26_11ea_8d14_000d3a9fde60row0_col3\" class=\"data row0 col3\" >1.1</td>\n",
       "                        <td id=\"T_8656197e_9c26_11ea_8d14_000d3a9fde60row0_col4\" class=\"data row0 col4\" >79936.8</td>\n",
       "                        <td id=\"T_8656197e_9c26_11ea_8d14_000d3a9fde60row0_col5\" class=\"data row0 col5\" >18323.5</td>\n",
       "                        <td id=\"T_8656197e_9c26_11ea_8d14_000d3a9fde60row0_col6\" class=\"data row0 col6\" >23%</td>\n",
       "            </tr>\n",
       "            <tr>\n",
       "                        <th id=\"T_8656197e_9c26_11ea_8d14_000d3a9fde60level0_row1\" class=\"row_heading level0 row1\" >NJ</th>\n",
       "                        <td id=\"T_8656197e_9c26_11ea_8d14_000d3a9fde60row1_col0\" class=\"data row1 col0\" >151472</td>\n",
       "                        <td id=\"T_8656197e_9c26_11ea_8d14_000d3a9fde60row1_col1\" class=\"data row1 col1\" >169954</td>\n",
       "                        <td id=\"T_8656197e_9c26_11ea_8d14_000d3a9fde60row1_col2\" class=\"data row1 col2\" >(157504, 200955)</td>\n",
       "                        <td id=\"T_8656197e_9c26_11ea_8d14_000d3a9fde60row1_col3\" class=\"data row1 col3\" >1.1</td>\n",
       "                        <td id=\"T_8656197e_9c26_11ea_8d14_000d3a9fde60row1_col4\" class=\"data row1 col4\" >61277.0</td>\n",
       "                        <td id=\"T_8656197e_9c26_11ea_8d14_000d3a9fde60row1_col5\" class=\"data row1 col5\" >17053.5</td>\n",
       "                        <td id=\"T_8656197e_9c26_11ea_8d14_000d3a9fde60row1_col6\" class=\"data row1 col6\" >28%</td>\n",
       "            </tr>\n",
       "            <tr>\n",
       "                        <th id=\"T_8656197e_9c26_11ea_8d14_000d3a9fde60level0_row2\" class=\"row_heading level0 row2\" >IL</th>\n",
       "                        <td id=\"T_8656197e_9c26_11ea_8d14_000d3a9fde60row2_col0\" class=\"data row2 col0\" >102686</td>\n",
       "                        <td id=\"T_8656197e_9c26_11ea_8d14_000d3a9fde60row2_col1\" class=\"data row2 col1\" >116975</td>\n",
       "                        <td id=\"T_8656197e_9c26_11ea_8d14_000d3a9fde60row2_col2\" class=\"data row2 col2\" >(107246, 136473)</td>\n",
       "                        <td id=\"T_8656197e_9c26_11ea_8d14_000d3a9fde60row2_col3\" class=\"data row2 col3\" >1.1</td>\n",
       "                        <td id=\"T_8656197e_9c26_11ea_8d14_000d3a9fde60row2_col4\" class=\"data row2 col4\" >53032.6</td>\n",
       "                        <td id=\"T_8656197e_9c26_11ea_8d14_000d3a9fde60row2_col5\" class=\"data row2 col5\" >8103.5</td>\n",
       "                        <td id=\"T_8656197e_9c26_11ea_8d14_000d3a9fde60row2_col6\" class=\"data row2 col6\" >15%</td>\n",
       "            </tr>\n",
       "            <tr>\n",
       "                        <th id=\"T_8656197e_9c26_11ea_8d14_000d3a9fde60level0_row3\" class=\"row_heading level0 row3\" >CA</th>\n",
       "                        <td id=\"T_8656197e_9c26_11ea_8d14_000d3a9fde60row3_col0\" class=\"data row3 col0\" >86197</td>\n",
       "                        <td id=\"T_8656197e_9c26_11ea_8d14_000d3a9fde60row3_col1\" class=\"data row3 col1\" >100902</td>\n",
       "                        <td id=\"T_8656197e_9c26_11ea_8d14_000d3a9fde60row3_col2\" class=\"data row3 col2\" >(90979, 122985)</td>\n",
       "                        <td id=\"T_8656197e_9c26_11ea_8d14_000d3a9fde60row3_col3\" class=\"data row3 col3\" >1.2</td>\n",
       "                        <td id=\"T_8656197e_9c26_11ea_8d14_000d3a9fde60row3_col4\" class=\"data row3 col4\" >35966.8</td>\n",
       "                        <td id=\"T_8656197e_9c26_11ea_8d14_000d3a9fde60row3_col5\" class=\"data row3 col5\" >2181.5</td>\n",
       "                        <td id=\"T_8656197e_9c26_11ea_8d14_000d3a9fde60row3_col6\" class=\"data row3 col6\" >6%</td>\n",
       "            </tr>\n",
       "            <tr>\n",
       "                        <th id=\"T_8656197e_9c26_11ea_8d14_000d3a9fde60level0_row4\" class=\"row_heading level0 row4\" >MA</th>\n",
       "                        <td id=\"T_8656197e_9c26_11ea_8d14_000d3a9fde60row4_col0\" class=\"data row4 col0\" >90084</td>\n",
       "                        <td id=\"T_8656197e_9c26_11ea_8d14_000d3a9fde60row4_col1\" class=\"data row4 col1\" >100372</td>\n",
       "                        <td id=\"T_8656197e_9c26_11ea_8d14_000d3a9fde60row4_col2\" class=\"data row4 col2\" >(93401, 115279)</td>\n",
       "                        <td id=\"T_8656197e_9c26_11ea_8d14_000d3a9fde60row4_col3\" class=\"data row4 col3\" >1.1</td>\n",
       "                        <td id=\"T_8656197e_9c26_11ea_8d14_000d3a9fde60row4_col4\" class=\"data row4 col4\" >72758.2</td>\n",
       "                        <td id=\"T_8656197e_9c26_11ea_8d14_000d3a9fde60row4_col5\" class=\"data row4 col5\" >13069.9</td>\n",
       "                        <td id=\"T_8656197e_9c26_11ea_8d14_000d3a9fde60row4_col6\" class=\"data row4 col6\" >18%</td>\n",
       "            </tr>\n",
       "            <tr>\n",
       "                        <th id=\"T_8656197e_9c26_11ea_8d14_000d3a9fde60level0_row5\" class=\"row_heading level0 row5\" >PA</th>\n",
       "                        <td id=\"T_8656197e_9c26_11ea_8d14_000d3a9fde60row5_col0\" class=\"data row5 col0\" >65392</td>\n",
       "                        <td id=\"T_8656197e_9c26_11ea_8d14_000d3a9fde60row5_col1\" class=\"data row5 col1\" >77992</td>\n",
       "                        <td id=\"T_8656197e_9c26_11ea_8d14_000d3a9fde60row5_col2\" class=\"data row5 col2\" >(69355, 97946)</td>\n",
       "                        <td id=\"T_8656197e_9c26_11ea_8d14_000d3a9fde60row5_col3\" class=\"data row5 col3\" >1.2</td>\n",
       "                        <td id=\"T_8656197e_9c26_11ea_8d14_000d3a9fde60row5_col4\" class=\"data row5 col4\" >28816.3</td>\n",
       "                        <td id=\"T_8656197e_9c26_11ea_8d14_000d3a9fde60row5_col5\" class=\"data row5 col5\" >5108.0</td>\n",
       "                        <td id=\"T_8656197e_9c26_11ea_8d14_000d3a9fde60row5_col6\" class=\"data row5 col6\" >18%</td>\n",
       "            </tr>\n",
       "            <tr>\n",
       "                        <th id=\"T_8656197e_9c26_11ea_8d14_000d3a9fde60level0_row6\" class=\"row_heading level0 row6\" >MI</th>\n",
       "                        <td id=\"T_8656197e_9c26_11ea_8d14_000d3a9fde60row6_col0\" class=\"data row6 col0\" >53510</td>\n",
       "                        <td id=\"T_8656197e_9c26_11ea_8d14_000d3a9fde60row6_col1\" class=\"data row6 col1\" >61221</td>\n",
       "                        <td id=\"T_8656197e_9c26_11ea_8d14_000d3a9fde60row6_col2\" class=\"data row6 col2\" >(55801, 72970)</td>\n",
       "                        <td id=\"T_8656197e_9c26_11ea_8d14_000d3a9fde60row6_col3\" class=\"data row6 col3\" >1.1</td>\n",
       "                        <td id=\"T_8656197e_9c26_11ea_8d14_000d3a9fde60row6_col4\" class=\"data row6 col4\" >45533.8</td>\n",
       "                        <td id=\"T_8656197e_9c26_11ea_8d14_000d3a9fde60row6_col5\" class=\"data row6 col5\" >5358.0</td>\n",
       "                        <td id=\"T_8656197e_9c26_11ea_8d14_000d3a9fde60row6_col6\" class=\"data row6 col6\" >12%</td>\n",
       "            </tr>\n",
       "            <tr>\n",
       "                        <th id=\"T_8656197e_9c26_11ea_8d14_000d3a9fde60level0_row7\" class=\"row_heading level0 row7\" >TX</th>\n",
       "                        <td id=\"T_8656197e_9c26_11ea_8d14_000d3a9fde60row7_col0\" class=\"data row7 col0\" >51323</td>\n",
       "                        <td id=\"T_8656197e_9c26_11ea_8d14_000d3a9fde60row7_col1\" class=\"data row7 col1\" >61212</td>\n",
       "                        <td id=\"T_8656197e_9c26_11ea_8d14_000d3a9fde60row7_col2\" class=\"data row7 col2\" >(54399, 81245)</td>\n",
       "                        <td id=\"T_8656197e_9c26_11ea_8d14_000d3a9fde60row7_col3\" class=\"data row7 col3\" >1.2</td>\n",
       "                        <td id=\"T_8656197e_9c26_11ea_8d14_000d3a9fde60row7_col4\" class=\"data row7 col4\" >26563.8</td>\n",
       "                        <td id=\"T_8656197e_9c26_11ea_8d14_000d3a9fde60row7_col5\" class=\"data row7 col5\" >1770.0</td>\n",
       "                        <td id=\"T_8656197e_9c26_11ea_8d14_000d3a9fde60row7_col6\" class=\"data row7 col6\" >7%</td>\n",
       "            </tr>\n",
       "            <tr>\n",
       "                        <th id=\"T_8656197e_9c26_11ea_8d14_000d3a9fde60level0_row8\" class=\"row_heading level0 row8\" >FL</th>\n",
       "                        <td id=\"T_8656197e_9c26_11ea_8d14_000d3a9fde60row8_col0\" class=\"data row8 col0\" >48675</td>\n",
       "                        <td id=\"T_8656197e_9c26_11ea_8d14_000d3a9fde60row8_col1\" class=\"data row8 col1\" >56718</td>\n",
       "                        <td id=\"T_8656197e_9c26_11ea_8d14_000d3a9fde60row8_col2\" class=\"data row8 col2\" >(51300, 68021)</td>\n",
       "                        <td id=\"T_8656197e_9c26_11ea_8d14_000d3a9fde60row8_col3\" class=\"data row8 col3\" >1.2</td>\n",
       "                        <td id=\"T_8656197e_9c26_11ea_8d14_000d3a9fde60row8_col4\" class=\"data row8 col4\" >37896.4</td>\n",
       "                        <td id=\"T_8656197e_9c26_11ea_8d14_000d3a9fde60row8_col5\" class=\"data row8 col5\" >2266.3</td>\n",
       "                        <td id=\"T_8656197e_9c26_11ea_8d14_000d3a9fde60row8_col6\" class=\"data row8 col6\" >6%</td>\n",
       "            </tr>\n",
       "            <tr>\n",
       "                        <th id=\"T_8656197e_9c26_11ea_8d14_000d3a9fde60level0_row9\" class=\"row_heading level0 row9\" >MD</th>\n",
       "                        <td id=\"T_8656197e_9c26_11ea_8d14_000d3a9fde60row9_col0\" class=\"data row9 col0\" >43531</td>\n",
       "                        <td id=\"T_8656197e_9c26_11ea_8d14_000d3a9fde60row9_col1\" class=\"data row9 col1\" >50783</td>\n",
       "                        <td id=\"T_8656197e_9c26_11ea_8d14_000d3a9fde60row9_col2\" class=\"data row9 col2\" >(45719, 64231)</td>\n",
       "                        <td id=\"T_8656197e_9c26_11ea_8d14_000d3a9fde60row9_col3\" class=\"data row9 col3\" >1.2</td>\n",
       "                        <td id=\"T_8656197e_9c26_11ea_8d14_000d3a9fde60row9_col4\" class=\"data row9 col4\" >36428.2</td>\n",
       "                        <td id=\"T_8656197e_9c26_11ea_8d14_000d3a9fde60row9_col5\" class=\"data row9 col5\" >7200.3</td>\n",
       "                        <td id=\"T_8656197e_9c26_11ea_8d14_000d3a9fde60row9_col6\" class=\"data row9 col6\" >20%</td>\n",
       "            </tr>\n",
       "            <tr>\n",
       "                        <th id=\"T_8656197e_9c26_11ea_8d14_000d3a9fde60level0_row10\" class=\"row_heading level0 row10\" >GA</th>\n",
       "                        <td id=\"T_8656197e_9c26_11ea_8d14_000d3a9fde60row10_col0\" class=\"data row10 col0\" >40405</td>\n",
       "                        <td id=\"T_8656197e_9c26_11ea_8d14_000d3a9fde60row10_col1\" class=\"data row10 col1\" >46861</td>\n",
       "                        <td id=\"T_8656197e_9c26_11ea_8d14_000d3a9fde60row10_col2\" class=\"data row10 col2\" >(42280, 58397)</td>\n",
       "                        <td id=\"T_8656197e_9c26_11ea_8d14_000d3a9fde60row10_col3\" class=\"data row10 col3\" >1.2</td>\n",
       "                        <td id=\"T_8656197e_9c26_11ea_8d14_000d3a9fde60row10_col4\" class=\"data row10 col4\" >38402.1</td>\n",
       "                        <td id=\"T_8656197e_9c26_11ea_8d14_000d3a9fde60row10_col5\" class=\"data row10 col5\" >3805.5</td>\n",
       "                        <td id=\"T_8656197e_9c26_11ea_8d14_000d3a9fde60row10_col6\" class=\"data row10 col6\" >10%</td>\n",
       "            </tr>\n",
       "            <tr>\n",
       "                        <th id=\"T_8656197e_9c26_11ea_8d14_000d3a9fde60level0_row11\" class=\"row_heading level0 row11\" >CT</th>\n",
       "                        <td id=\"T_8656197e_9c26_11ea_8d14_000d3a9fde60row11_col0\" class=\"data row11 col0\" >39208</td>\n",
       "                        <td id=\"T_8656197e_9c26_11ea_8d14_000d3a9fde60row11_col1\" class=\"data row11 col1\" >44402</td>\n",
       "                        <td id=\"T_8656197e_9c26_11ea_8d14_000d3a9fde60row11_col2\" class=\"data row11 col2\" >(40939, 52745)</td>\n",
       "                        <td id=\"T_8656197e_9c26_11ea_8d14_000d3a9fde60row11_col3\" class=\"data row11 col3\" >1.1</td>\n",
       "                        <td id=\"T_8656197e_9c26_11ea_8d14_000d3a9fde60row11_col4\" class=\"data row11 col4\" >56867.0</td>\n",
       "                        <td id=\"T_8656197e_9c26_11ea_8d14_000d3a9fde60row11_col5\" class=\"data row11 col5\" >10997.2</td>\n",
       "                        <td id=\"T_8656197e_9c26_11ea_8d14_000d3a9fde60row11_col6\" class=\"data row11 col6\" >19%</td>\n",
       "            </tr>\n",
       "            <tr>\n",
       "                        <th id=\"T_8656197e_9c26_11ea_8d14_000d3a9fde60level0_row12\" class=\"row_heading level0 row12\" >LA</th>\n",
       "                        <td id=\"T_8656197e_9c26_11ea_8d14_000d3a9fde60row12_col0\" class=\"data row12 col0\" >36504</td>\n",
       "                        <td id=\"T_8656197e_9c26_11ea_8d14_000d3a9fde60row12_col1\" class=\"data row12 col1\" >41110</td>\n",
       "                        <td id=\"T_8656197e_9c26_11ea_8d14_000d3a9fde60row12_col2\" class=\"data row12 col2\" >(37963, 49241)</td>\n",
       "                        <td id=\"T_8656197e_9c26_11ea_8d14_000d3a9fde60row12_col3\" class=\"data row12 col3\" >1.1</td>\n",
       "                        <td id=\"T_8656197e_9c26_11ea_8d14_000d3a9fde60row12_col4\" class=\"data row12 col4\" >65690.4</td>\n",
       "                        <td id=\"T_8656197e_9c26_11ea_8d14_000d3a9fde60row12_col5\" class=\"data row12 col5\" >7852.4</td>\n",
       "                        <td id=\"T_8656197e_9c26_11ea_8d14_000d3a9fde60row12_col6\" class=\"data row12 col6\" >12%</td>\n",
       "            </tr>\n",
       "            <tr>\n",
       "                        <th id=\"T_8656197e_9c26_11ea_8d14_000d3a9fde60level0_row13\" class=\"row_heading level0 row13\" >VA</th>\n",
       "                        <td id=\"T_8656197e_9c26_11ea_8d14_000d3a9fde60row13_col0\" class=\"data row13 col0\" >34137</td>\n",
       "                        <td id=\"T_8656197e_9c26_11ea_8d14_000d3a9fde60row13_col1\" class=\"data row13 col1\" >41036</td>\n",
       "                        <td id=\"T_8656197e_9c26_11ea_8d14_000d3a9fde60row13_col2\" class=\"data row13 col2\" >(36364, 53405)</td>\n",
       "                        <td id=\"T_8656197e_9c26_11ea_8d14_000d3a9fde60row13_col3\" class=\"data row13 col3\" >1.2</td>\n",
       "                        <td id=\"T_8656197e_9c26_11ea_8d14_000d3a9fde60row13_col4\" class=\"data row13 col4\" >25610.5</td>\n",
       "                        <td id=\"T_8656197e_9c26_11ea_8d14_000d3a9fde60row13_col5\" class=\"data row13 col5\" >3999.4</td>\n",
       "                        <td id=\"T_8656197e_9c26_11ea_8d14_000d3a9fde60row13_col6\" class=\"data row13 col6\" >16%</td>\n",
       "            </tr>\n",
       "            <tr>\n",
       "                        <th id=\"T_8656197e_9c26_11ea_8d14_000d3a9fde60level0_row14\" class=\"row_heading level0 row14\" >OH</th>\n",
       "                        <td id=\"T_8656197e_9c26_11ea_8d14_000d3a9fde60row14_col0\" class=\"data row14 col0\" >30167</td>\n",
       "                        <td id=\"T_8656197e_9c26_11ea_8d14_000d3a9fde60row14_col1\" class=\"data row14 col1\" >36242</td>\n",
       "                        <td id=\"T_8656197e_9c26_11ea_8d14_000d3a9fde60row14_col2\" class=\"data row14 col2\" >(32079, 46176)</td>\n",
       "                        <td id=\"T_8656197e_9c26_11ea_8d14_000d3a9fde60row14_col3\" class=\"data row14 col3\" >1.2</td>\n",
       "                        <td id=\"T_8656197e_9c26_11ea_8d14_000d3a9fde60row14_col4\" class=\"data row14 col4\" >25586.1</td>\n",
       "                        <td id=\"T_8656197e_9c26_11ea_8d14_000d3a9fde60row14_col5\" class=\"data row14 col5\" >2580.8</td>\n",
       "                        <td id=\"T_8656197e_9c26_11ea_8d14_000d3a9fde60row14_col6\" class=\"data row14 col6\" >10%</td>\n",
       "            </tr>\n",
       "            <tr>\n",
       "                        <th id=\"T_8656197e_9c26_11ea_8d14_000d3a9fde60level0_row15\" class=\"row_heading level0 row15\" >IN</th>\n",
       "                        <td id=\"T_8656197e_9c26_11ea_8d14_000d3a9fde60row15_col0\" class=\"data row15 col0\" >29936</td>\n",
       "                        <td id=\"T_8656197e_9c26_11ea_8d14_000d3a9fde60row15_col1\" class=\"data row15 col1\" >35312</td>\n",
       "                        <td id=\"T_8656197e_9c26_11ea_8d14_000d3a9fde60row15_col2\" class=\"data row15 col2\" >(31618, 43270)</td>\n",
       "                        <td id=\"T_8656197e_9c26_11ea_8d14_000d3a9fde60row15_col3\" class=\"data row15 col3\" >1.2</td>\n",
       "                        <td id=\"T_8656197e_9c26_11ea_8d14_000d3a9fde60row15_col4\" class=\"data row15 col4\" >30152.8</td>\n",
       "                        <td id=\"T_8656197e_9c26_11ea_8d14_000d3a9fde60row15_col5\" class=\"data row15 col5\" >4446.7</td>\n",
       "                        <td id=\"T_8656197e_9c26_11ea_8d14_000d3a9fde60row15_col6\" class=\"data row15 col6\" >15%</td>\n",
       "            </tr>\n",
       "            <tr>\n",
       "                        <th id=\"T_8656197e_9c26_11ea_8d14_000d3a9fde60level0_row16\" class=\"row_heading level0 row16\" >CO</th>\n",
       "                        <td id=\"T_8656197e_9c26_11ea_8d14_000d3a9fde60row16_col0\" class=\"data row16 col0\" >22797</td>\n",
       "                        <td id=\"T_8656197e_9c26_11ea_8d14_000d3a9fde60row16_col1\" class=\"data row16 col1\" >27475</td>\n",
       "                        <td id=\"T_8656197e_9c26_11ea_8d14_000d3a9fde60row16_col2\" class=\"data row16 col2\" >(24287, 35055)</td>\n",
       "                        <td id=\"T_8656197e_9c26_11ea_8d14_000d3a9fde60row16_col3\" class=\"data row16 col3\" >1.2</td>\n",
       "                        <td id=\"T_8656197e_9c26_11ea_8d14_000d3a9fde60row16_col4\" class=\"data row16 col4\" >23548.7</td>\n",
       "                        <td id=\"T_8656197e_9c26_11ea_8d14_000d3a9fde60row16_col5\" class=\"data row16 col5\" >3958.7</td>\n",
       "                        <td id=\"T_8656197e_9c26_11ea_8d14_000d3a9fde60row16_col6\" class=\"data row16 col6\" >17%</td>\n",
       "            </tr>\n",
       "            <tr>\n",
       "                        <th id=\"T_8656197e_9c26_11ea_8d14_000d3a9fde60level0_row17\" class=\"row_heading level0 row17\" >NC</th>\n",
       "                        <td id=\"T_8656197e_9c26_11ea_8d14_000d3a9fde60row17_col0\" class=\"data row17 col0\" >20860</td>\n",
       "                        <td id=\"T_8656197e_9c26_11ea_8d14_000d3a9fde60row17_col1\" class=\"data row17 col1\" >24873</td>\n",
       "                        <td id=\"T_8656197e_9c26_11ea_8d14_000d3a9fde60row17_col2\" class=\"data row17 col2\" >(22241, 30907)</td>\n",
       "                        <td id=\"T_8656197e_9c26_11ea_8d14_000d3a9fde60row17_col3\" class=\"data row17 col3\" >1.2</td>\n",
       "                        <td id=\"T_8656197e_9c26_11ea_8d14_000d3a9fde60row17_col4\" class=\"data row17 col4\" >27711.9</td>\n",
       "                        <td id=\"T_8656197e_9c26_11ea_8d14_000d3a9fde60row17_col5\" class=\"data row17 col5\" >1988.9</td>\n",
       "                        <td id=\"T_8656197e_9c26_11ea_8d14_000d3a9fde60row17_col6\" class=\"data row17 col6\" >7%</td>\n",
       "            </tr>\n",
       "            <tr>\n",
       "                        <th id=\"T_8656197e_9c26_11ea_8d14_000d3a9fde60level0_row18\" class=\"row_heading level0 row18\" >WA</th>\n",
       "                        <td id=\"T_8656197e_9c26_11ea_8d14_000d3a9fde60row18_col0\" class=\"data row18 col0\" >18971</td>\n",
       "                        <td id=\"T_8656197e_9c26_11ea_8d14_000d3a9fde60row18_col1\" class=\"data row18 col1\" >21986</td>\n",
       "                        <td id=\"T_8656197e_9c26_11ea_8d14_000d3a9fde60row18_col2\" class=\"data row18 col2\" >(19856, 26998)</td>\n",
       "                        <td id=\"T_8656197e_9c26_11ea_8d14_000d3a9fde60row18_col3\" class=\"data row18 col3\" >1.2</td>\n",
       "                        <td id=\"T_8656197e_9c26_11ea_8d14_000d3a9fde60row18_col4\" class=\"data row18 col4\" >39126.2</td>\n",
       "                        <td id=\"T_8656197e_9c26_11ea_8d14_000d3a9fde60row18_col5\" class=\"data row18 col5\" >2491.3</td>\n",
       "                        <td id=\"T_8656197e_9c26_11ea_8d14_000d3a9fde60row18_col6\" class=\"data row18 col6\" >6%</td>\n",
       "            </tr>\n",
       "            <tr>\n",
       "                        <th id=\"T_8656197e_9c26_11ea_8d14_000d3a9fde60level0_row19\" class=\"row_heading level0 row19\" >TN</th>\n",
       "                        <td id=\"T_8656197e_9c26_11ea_8d14_000d3a9fde60row19_col0\" class=\"data row19 col0\" >18961</td>\n",
       "                        <td id=\"T_8656197e_9c26_11ea_8d14_000d3a9fde60row19_col1\" class=\"data row19 col1\" >21521</td>\n",
       "                        <td id=\"T_8656197e_9c26_11ea_8d14_000d3a9fde60row19_col2\" class=\"data row19 col2\" >(19727, 25896)</td>\n",
       "                        <td id=\"T_8656197e_9c26_11ea_8d14_000d3a9fde60row19_col3\" class=\"data row19 col3\" >1.1</td>\n",
       "                        <td id=\"T_8656197e_9c26_11ea_8d14_000d3a9fde60row19_col4\" class=\"data row19 col4\" >52800.4</td>\n",
       "                        <td id=\"T_8656197e_9c26_11ea_8d14_000d3a9fde60row19_col5\" class=\"data row19 col5\" >2776.5</td>\n",
       "                        <td id=\"T_8656197e_9c26_11ea_8d14_000d3a9fde60row19_col6\" class=\"data row19 col6\" >5%</td>\n",
       "            </tr>\n",
       "            <tr>\n",
       "                        <th id=\"T_8656197e_9c26_11ea_8d14_000d3a9fde60level0_row20\" class=\"row_heading level0 row20\" >MN</th>\n",
       "                        <td id=\"T_8656197e_9c26_11ea_8d14_000d3a9fde60row20_col0\" class=\"data row20 col0\" >18200</td>\n",
       "                        <td id=\"T_8656197e_9c26_11ea_8d14_000d3a9fde60row20_col1\" class=\"data row20 col1\" >21473</td>\n",
       "                        <td id=\"T_8656197e_9c26_11ea_8d14_000d3a9fde60row20_col2\" class=\"data row20 col2\" >(19339, 26049)</td>\n",
       "                        <td id=\"T_8656197e_9c26_11ea_8d14_000d3a9fde60row20_col3\" class=\"data row20 col3\" >1.2</td>\n",
       "                        <td id=\"T_8656197e_9c26_11ea_8d14_000d3a9fde60row20_col4\" class=\"data row20 col4\" >30774.3</td>\n",
       "                        <td id=\"T_8656197e_9c26_11ea_8d14_000d3a9fde60row20_col5\" class=\"data row20 col5\" >3227.2</td>\n",
       "                        <td id=\"T_8656197e_9c26_11ea_8d14_000d3a9fde60row20_col6\" class=\"data row20 col6\" >10%</td>\n",
       "            </tr>\n",
       "            <tr>\n",
       "                        <th id=\"T_8656197e_9c26_11ea_8d14_000d3a9fde60level0_row21\" class=\"row_heading level0 row21\" >IA</th>\n",
       "                        <td id=\"T_8656197e_9c26_11ea_8d14_000d3a9fde60row21_col0\" class=\"data row21 col0\" >16170</td>\n",
       "                        <td id=\"T_8656197e_9c26_11ea_8d14_000d3a9fde60row21_col1\" class=\"data row21 col1\" >18843</td>\n",
       "                        <td id=\"T_8656197e_9c26_11ea_8d14_000d3a9fde60row21_col2\" class=\"data row21 col2\" >(17093, 22775)</td>\n",
       "                        <td id=\"T_8656197e_9c26_11ea_8d14_000d3a9fde60row21_col3\" class=\"data row21 col3\" >1.2</td>\n",
       "                        <td id=\"T_8656197e_9c26_11ea_8d14_000d3a9fde60row21_col4\" class=\"data row21 col4\" >36945.3</td>\n",
       "                        <td id=\"T_8656197e_9c26_11ea_8d14_000d3a9fde60row21_col5\" class=\"data row21 col5\" >5125.1</td>\n",
       "                        <td id=\"T_8656197e_9c26_11ea_8d14_000d3a9fde60row21_col6\" class=\"data row21 col6\" >14%</td>\n",
       "            </tr>\n",
       "            <tr>\n",
       "                        <th id=\"T_8656197e_9c26_11ea_8d14_000d3a9fde60level0_row22\" class=\"row_heading level0 row22\" >AZ</th>\n",
       "                        <td id=\"T_8656197e_9c26_11ea_8d14_000d3a9fde60row22_col0\" class=\"data row22 col0\" >15315</td>\n",
       "                        <td id=\"T_8656197e_9c26_11ea_8d14_000d3a9fde60row22_col1\" class=\"data row22 col1\" >18446</td>\n",
       "                        <td id=\"T_8656197e_9c26_11ea_8d14_000d3a9fde60row22_col2\" class=\"data row22 col2\" >(16353, 23048)</td>\n",
       "                        <td id=\"T_8656197e_9c26_11ea_8d14_000d3a9fde60row22_col3\" class=\"data row22 col3\" >1.2</td>\n",
       "                        <td id=\"T_8656197e_9c26_11ea_8d14_000d3a9fde60row22_col4\" class=\"data row22 col4\" >23579.3</td>\n",
       "                        <td id=\"T_8656197e_9c26_11ea_8d14_000d3a9fde60row22_col5\" class=\"data row22 col5\" >2104.1</td>\n",
       "                        <td id=\"T_8656197e_9c26_11ea_8d14_000d3a9fde60row22_col6\" class=\"data row22 col6\" >9%</td>\n",
       "            </tr>\n",
       "            <tr>\n",
       "                        <th id=\"T_8656197e_9c26_11ea_8d14_000d3a9fde60level0_row23\" class=\"row_heading level0 row23\" >WI</th>\n",
       "                        <td id=\"T_8656197e_9c26_11ea_8d14_000d3a9fde60row23_col0\" class=\"data row23 col0\" >13885</td>\n",
       "                        <td id=\"T_8656197e_9c26_11ea_8d14_000d3a9fde60row23_col1\" class=\"data row23 col1\" >16461</td>\n",
       "                        <td id=\"T_8656197e_9c26_11ea_8d14_000d3a9fde60row23_col2\" class=\"data row23 col2\" >(14760, 20251)</td>\n",
       "                        <td id=\"T_8656197e_9c26_11ea_8d14_000d3a9fde60row23_col3\" class=\"data row23 col3\" >1.2</td>\n",
       "                        <td id=\"T_8656197e_9c26_11ea_8d14_000d3a9fde60row23_col4\" class=\"data row23 col4\" >30420.8</td>\n",
       "                        <td id=\"T_8656197e_9c26_11ea_8d14_000d3a9fde60row23_col5\" class=\"data row23 col5\" >2384.7</td>\n",
       "                        <td id=\"T_8656197e_9c26_11ea_8d14_000d3a9fde60row23_col6\" class=\"data row23 col6\" >8%</td>\n",
       "            </tr>\n",
       "            <tr>\n",
       "                        <th id=\"T_8656197e_9c26_11ea_8d14_000d3a9fde60level0_row24\" class=\"row_heading level0 row24\" >AL</th>\n",
       "                        <td id=\"T_8656197e_9c26_11ea_8d14_000d3a9fde60row24_col0\" class=\"data row24 col0\" >13119</td>\n",
       "                        <td id=\"T_8656197e_9c26_11ea_8d14_000d3a9fde60row24_col1\" class=\"data row24 col1\" >15337</td>\n",
       "                        <td id=\"T_8656197e_9c26_11ea_8d14_000d3a9fde60row24_col2\" class=\"data row24 col2\" >(13861, 18854)</td>\n",
       "                        <td id=\"T_8656197e_9c26_11ea_8d14_000d3a9fde60row24_col3\" class=\"data row24 col3\" >1.2</td>\n",
       "                        <td id=\"T_8656197e_9c26_11ea_8d14_000d3a9fde60row24_col4\" class=\"data row24 col4\" >34822.1</td>\n",
       "                        <td id=\"T_8656197e_9c26_11ea_8d14_000d3a9fde60row24_col5\" class=\"data row24 col5\" >2675.6</td>\n",
       "                        <td id=\"T_8656197e_9c26_11ea_8d14_000d3a9fde60row24_col6\" class=\"data row24 col6\" >8%</td>\n",
       "            </tr>\n",
       "            <tr>\n",
       "                        <th id=\"T_8656197e_9c26_11ea_8d14_000d3a9fde60level0_row25\" class=\"row_heading level0 row25\" >RI</th>\n",
       "                        <td id=\"T_8656197e_9c26_11ea_8d14_000d3a9fde60row25_col0\" class=\"data row25 col0\" >13571</td>\n",
       "                        <td id=\"T_8656197e_9c26_11ea_8d14_000d3a9fde60row25_col1\" class=\"data row25 col1\" >14883</td>\n",
       "                        <td id=\"T_8656197e_9c26_11ea_8d14_000d3a9fde60row25_col2\" class=\"data row25 col2\" >(13972, 16881)</td>\n",
       "                        <td id=\"T_8656197e_9c26_11ea_8d14_000d3a9fde60row25_col3\" class=\"data row25 col3\" >1.1</td>\n",
       "                        <td id=\"T_8656197e_9c26_11ea_8d14_000d3a9fde60row25_col4\" class=\"data row25 col4\" >116454.2</td>\n",
       "                        <td id=\"T_8656197e_9c26_11ea_8d14_000d3a9fde60row25_col5\" class=\"data row25 col5\" >12810.6</td>\n",
       "                        <td id=\"T_8656197e_9c26_11ea_8d14_000d3a9fde60row25_col6\" class=\"data row25 col6\" >11%</td>\n",
       "            </tr>\n",
       "            <tr>\n",
       "                        <th id=\"T_8656197e_9c26_11ea_8d14_000d3a9fde60level0_row26\" class=\"row_heading level0 row26\" >MS</th>\n",
       "                        <td id=\"T_8656197e_9c26_11ea_8d14_000d3a9fde60row26_col0\" class=\"data row26 col0\" >12222</td>\n",
       "                        <td id=\"T_8656197e_9c26_11ea_8d14_000d3a9fde60row26_col1\" class=\"data row26 col1\" >14126</td>\n",
       "                        <td id=\"T_8656197e_9c26_11ea_8d14_000d3a9fde60row26_col2\" class=\"data row26 col2\" >(12792, 17019)</td>\n",
       "                        <td id=\"T_8656197e_9c26_11ea_8d14_000d3a9fde60row26_col3\" class=\"data row26 col3\" >1.2</td>\n",
       "                        <td id=\"T_8656197e_9c26_11ea_8d14_000d3a9fde60row26_col4\" class=\"data row26 col4\" >42326.5</td>\n",
       "                        <td id=\"T_8656197e_9c26_11ea_8d14_000d3a9fde60row26_col5\" class=\"data row26 col5\" >4106.6</td>\n",
       "                        <td id=\"T_8656197e_9c26_11ea_8d14_000d3a9fde60row26_col6\" class=\"data row26 col6\" >10%</td>\n",
       "            </tr>\n",
       "            <tr>\n",
       "                        <th id=\"T_8656197e_9c26_11ea_8d14_000d3a9fde60level0_row27\" class=\"row_heading level0 row27\" >MO</th>\n",
       "                        <td id=\"T_8656197e_9c26_11ea_8d14_000d3a9fde60row27_col0\" class=\"data row27 col0\" >11340</td>\n",
       "                        <td id=\"T_8656197e_9c26_11ea_8d14_000d3a9fde60row27_col1\" class=\"data row27 col1\" >13595</td>\n",
       "                        <td id=\"T_8656197e_9c26_11ea_8d14_000d3a9fde60row27_col2\" class=\"data row27 col2\" >(12021, 17932)</td>\n",
       "                        <td id=\"T_8656197e_9c26_11ea_8d14_000d3a9fde60row27_col3\" class=\"data row27 col3\" >1.2</td>\n",
       "                        <td id=\"T_8656197e_9c26_11ea_8d14_000d3a9fde60row27_col4\" class=\"data row27 col4\" >26410.4</td>\n",
       "                        <td id=\"T_8656197e_9c26_11ea_8d14_000d3a9fde60row27_col5\" class=\"data row27 col5\" >1847.7</td>\n",
       "                        <td id=\"T_8656197e_9c26_11ea_8d14_000d3a9fde60row27_col6\" class=\"data row27 col6\" >7%</td>\n",
       "            </tr>\n",
       "            <tr>\n",
       "                        <th id=\"T_8656197e_9c26_11ea_8d14_000d3a9fde60level0_row28\" class=\"row_heading level0 row28\" >NE</th>\n",
       "                        <td id=\"T_8656197e_9c26_11ea_8d14_000d3a9fde60row28_col0\" class=\"data row28 col0\" >11122</td>\n",
       "                        <td id=\"T_8656197e_9c26_11ea_8d14_000d3a9fde60row28_col1\" class=\"data row28 col1\" >12932</td>\n",
       "                        <td id=\"T_8656197e_9c26_11ea_8d14_000d3a9fde60row28_col2\" class=\"data row28 col2\" >(11738, 15872)</td>\n",
       "                        <td id=\"T_8656197e_9c26_11ea_8d14_000d3a9fde60row28_col3\" class=\"data row28 col3\" >1.2</td>\n",
       "                        <td id=\"T_8656197e_9c26_11ea_8d14_000d3a9fde60row28_col4\" class=\"data row28 col4\" >39102.4</td>\n",
       "                        <td id=\"T_8656197e_9c26_11ea_8d14_000d3a9fde60row28_col5\" class=\"data row28 col5\" >5749.6</td>\n",
       "                        <td id=\"T_8656197e_9c26_11ea_8d14_000d3a9fde60row28_col6\" class=\"data row28 col6\" >15%</td>\n",
       "            </tr>\n",
       "            <tr>\n",
       "                        <th id=\"T_8656197e_9c26_11ea_8d14_000d3a9fde60level0_row29\" class=\"row_heading level0 row29\" >SC</th>\n",
       "                        <td id=\"T_8656197e_9c26_11ea_8d14_000d3a9fde60row29_col0\" class=\"data row29 col0\" >9175</td>\n",
       "                        <td id=\"T_8656197e_9c26_11ea_8d14_000d3a9fde60row29_col1\" class=\"data row29 col1\" >11026</td>\n",
       "                        <td id=\"T_8656197e_9c26_11ea_8d14_000d3a9fde60row29_col2\" class=\"data row29 col2\" >(9718, 13996)</td>\n",
       "                        <td id=\"T_8656197e_9c26_11ea_8d14_000d3a9fde60row29_col3\" class=\"data row29 col3\" >1.2</td>\n",
       "                        <td id=\"T_8656197e_9c26_11ea_8d14_000d3a9fde60row29_col4\" class=\"data row29 col4\" >26849.0</td>\n",
       "                        <td id=\"T_8656197e_9c26_11ea_8d14_000d3a9fde60row29_col5\" class=\"data row29 col5\" >1782.0</td>\n",
       "                        <td id=\"T_8656197e_9c26_11ea_8d14_000d3a9fde60row29_col6\" class=\"data row29 col6\" >7%</td>\n",
       "            </tr>\n",
       "            <tr>\n",
       "                        <th id=\"T_8656197e_9c26_11ea_8d14_000d3a9fde60level0_row30\" class=\"row_heading level0 row30\" >KS</th>\n",
       "                        <td id=\"T_8656197e_9c26_11ea_8d14_000d3a9fde60row30_col0\" class=\"data row30 col0\" >8539</td>\n",
       "                        <td id=\"T_8656197e_9c26_11ea_8d14_000d3a9fde60row30_col1\" class=\"data row30 col1\" >10282</td>\n",
       "                        <td id=\"T_8656197e_9c26_11ea_8d14_000d3a9fde60row30_col2\" class=\"data row30 col2\" >(9093, 12849)</td>\n",
       "                        <td id=\"T_8656197e_9c26_11ea_8d14_000d3a9fde60row30_col3\" class=\"data row30 col3\" >1.2</td>\n",
       "                        <td id=\"T_8656197e_9c26_11ea_8d14_000d3a9fde60row30_col4\" class=\"data row30 col4\" >24440.6</td>\n",
       "                        <td id=\"T_8656197e_9c26_11ea_8d14_000d3a9fde60row30_col5\" class=\"data row30 col5\" >2931.0</td>\n",
       "                        <td id=\"T_8656197e_9c26_11ea_8d14_000d3a9fde60row30_col6\" class=\"data row30 col6\" >12%</td>\n",
       "            </tr>\n",
       "            <tr>\n",
       "                        <th id=\"T_8656197e_9c26_11ea_8d14_000d3a9fde60level0_row31\" class=\"row_heading level0 row31\" >DE</th>\n",
       "                        <td id=\"T_8656197e_9c26_11ea_8d14_000d3a9fde60row31_col0\" class=\"data row31 col0\" >8386</td>\n",
       "                        <td id=\"T_8656197e_9c26_11ea_8d14_000d3a9fde60row31_col1\" class=\"data row31 col1\" >9572</td>\n",
       "                        <td id=\"T_8656197e_9c26_11ea_8d14_000d3a9fde60row31_col2\" class=\"data row31 col2\" >(8772, 11524)</td>\n",
       "                        <td id=\"T_8656197e_9c26_11ea_8d14_000d3a9fde60row31_col3\" class=\"data row31 col3\" >1.1</td>\n",
       "                        <td id=\"T_8656197e_9c26_11ea_8d14_000d3a9fde60row31_col4\" class=\"data row31 col4\" >48822.9</td>\n",
       "                        <td id=\"T_8656197e_9c26_11ea_8d14_000d3a9fde60row31_col5\" class=\"data row31 col5\" >8611.9</td>\n",
       "                        <td id=\"T_8656197e_9c26_11ea_8d14_000d3a9fde60row31_col6\" class=\"data row31 col6\" >18%</td>\n",
       "            </tr>\n",
       "            <tr>\n",
       "                        <th id=\"T_8656197e_9c26_11ea_8d14_000d3a9fde60level0_row32\" class=\"row_heading level0 row32\" >KY</th>\n",
       "                        <td id=\"T_8656197e_9c26_11ea_8d14_000d3a9fde60row32_col0\" class=\"data row32 col0\" >8167</td>\n",
       "                        <td id=\"T_8656197e_9c26_11ea_8d14_000d3a9fde60row32_col1\" class=\"data row32 col1\" >9534</td>\n",
       "                        <td id=\"T_8656197e_9c26_11ea_8d14_000d3a9fde60row32_col2\" class=\"data row32 col2\" >(8551, 11608)</td>\n",
       "                        <td id=\"T_8656197e_9c26_11ea_8d14_000d3a9fde60row32_col3\" class=\"data row32 col3\" >1.2</td>\n",
       "                        <td id=\"T_8656197e_9c26_11ea_8d14_000d3a9fde60row32_col4\" class=\"data row32 col4\" >35515.6</td>\n",
       "                        <td id=\"T_8656197e_9c26_11ea_8d14_000d3a9fde60row32_col5\" class=\"data row32 col5\" >1828.0</td>\n",
       "                        <td id=\"T_8656197e_9c26_11ea_8d14_000d3a9fde60row32_col6\" class=\"data row32 col6\" >5%</td>\n",
       "            </tr>\n",
       "            <tr>\n",
       "                        <th id=\"T_8656197e_9c26_11ea_8d14_000d3a9fde60level0_row33\" class=\"row_heading level0 row33\" >UT</th>\n",
       "                        <td id=\"T_8656197e_9c26_11ea_8d14_000d3a9fde60row33_col0\" class=\"data row33 col0\" >7874</td>\n",
       "                        <td id=\"T_8656197e_9c26_11ea_8d14_000d3a9fde60row33_col1\" class=\"data row33 col1\" >8945</td>\n",
       "                        <td id=\"T_8656197e_9c26_11ea_8d14_000d3a9fde60row33_col2\" class=\"data row33 col2\" >(8226, 10448)</td>\n",
       "                        <td id=\"T_8656197e_9c26_11ea_8d14_000d3a9fde60row33_col3\" class=\"data row33 col3\" >1.1</td>\n",
       "                        <td id=\"T_8656197e_9c26_11ea_8d14_000d3a9fde60row33_col4\" class=\"data row33 col4\" >57041.9</td>\n",
       "                        <td id=\"T_8656197e_9c26_11ea_8d14_000d3a9fde60row33_col5\" class=\"data row33 col5\" >2456.1</td>\n",
       "                        <td id=\"T_8656197e_9c26_11ea_8d14_000d3a9fde60row33_col6\" class=\"data row33 col6\" >4%</td>\n",
       "            </tr>\n",
       "            <tr>\n",
       "                        <th id=\"T_8656197e_9c26_11ea_8d14_000d3a9fde60level0_row34\" class=\"row_heading level0 row34\" >DC</th>\n",
       "                        <td id=\"T_8656197e_9c26_11ea_8d14_000d3a9fde60row34_col0\" class=\"data row34 col0\" >7788</td>\n",
       "                        <td id=\"T_8656197e_9c26_11ea_8d14_000d3a9fde60row34_col1\" class=\"data row34 col1\" >8815</td>\n",
       "                        <td id=\"T_8656197e_9c26_11ea_8d14_000d3a9fde60row34_col2\" class=\"data row34 col2\" >(8112, 10611)</td>\n",
       "                        <td id=\"T_8656197e_9c26_11ea_8d14_000d3a9fde60row34_col3\" class=\"data row34 col3\" >1.1</td>\n",
       "                        <td id=\"T_8656197e_9c26_11ea_8d14_000d3a9fde60row34_col4\" class=\"data row34 col4\" >59165.5</td>\n",
       "                        <td id=\"T_8656197e_9c26_11ea_8d14_000d3a9fde60row34_col5\" class=\"data row34 col5\" >11035.1</td>\n",
       "                        <td id=\"T_8656197e_9c26_11ea_8d14_000d3a9fde60row34_col6\" class=\"data row34 col6\" >19%</td>\n",
       "            </tr>\n",
       "            <tr>\n",
       "                        <th id=\"T_8656197e_9c26_11ea_8d14_000d3a9fde60level0_row35\" class=\"row_heading level0 row35\" >NV</th>\n",
       "                        <td id=\"T_8656197e_9c26_11ea_8d14_000d3a9fde60row35_col0\" class=\"data row35 col0\" >7255</td>\n",
       "                        <td id=\"T_8656197e_9c26_11ea_8d14_000d3a9fde60row35_col1\" class=\"data row35 col1\" >8607</td>\n",
       "                        <td id=\"T_8656197e_9c26_11ea_8d14_000d3a9fde60row35_col2\" class=\"data row35 col2\" >(7735, 10593)</td>\n",
       "                        <td id=\"T_8656197e_9c26_11ea_8d14_000d3a9fde60row35_col3\" class=\"data row35 col3\" >1.2</td>\n",
       "                        <td id=\"T_8656197e_9c26_11ea_8d14_000d3a9fde60row35_col4\" class=\"data row35 col4\" >30642.0</td>\n",
       "                        <td id=\"T_8656197e_9c26_11ea_8d14_000d3a9fde60row35_col5\" class=\"data row35 col5\" >2355.4</td>\n",
       "                        <td id=\"T_8656197e_9c26_11ea_8d14_000d3a9fde60row35_col6\" class=\"data row35 col6\" >8%</td>\n",
       "            </tr>\n",
       "            <tr>\n",
       "                        <th id=\"T_8656197e_9c26_11ea_8d14_000d3a9fde60level0_row36\" class=\"row_heading level0 row36\" >NM</th>\n",
       "                        <td id=\"T_8656197e_9c26_11ea_8d14_000d3a9fde60row36_col0\" class=\"data row36 col0\" >6317</td>\n",
       "                        <td id=\"T_8656197e_9c26_11ea_8d14_000d3a9fde60row36_col1\" class=\"data row36 col1\" >7077</td>\n",
       "                        <td id=\"T_8656197e_9c26_11ea_8d14_000d3a9fde60row36_col2\" class=\"data row36 col2\" >(6552, 8309)</td>\n",
       "                        <td id=\"T_8656197e_9c26_11ea_8d14_000d3a9fde60row36_col3\" class=\"data row36 col3\" >1.1</td>\n",
       "                        <td id=\"T_8656197e_9c26_11ea_8d14_000d3a9fde60row36_col4\" class=\"data row36 col4\" >70269.9</td>\n",
       "                        <td id=\"T_8656197e_9c26_11ea_8d14_000d3a9fde60row36_col5\" class=\"data row36 col5\" >3012.6</td>\n",
       "                        <td id=\"T_8656197e_9c26_11ea_8d14_000d3a9fde60row36_col6\" class=\"data row36 col6\" >4%</td>\n",
       "            </tr>\n",
       "            <tr>\n",
       "                        <th id=\"T_8656197e_9c26_11ea_8d14_000d3a9fde60level0_row37\" class=\"row_heading level0 row37\" >OK</th>\n",
       "                        <td id=\"T_8656197e_9c26_11ea_8d14_000d3a9fde60row37_col0\" class=\"data row37 col0\" >5680</td>\n",
       "                        <td id=\"T_8656197e_9c26_11ea_8d14_000d3a9fde60row37_col1\" class=\"data row37 col1\" >6608</td>\n",
       "                        <td id=\"T_8656197e_9c26_11ea_8d14_000d3a9fde60row37_col2\" class=\"data row37 col2\" >(5976, 8147)</td>\n",
       "                        <td id=\"T_8656197e_9c26_11ea_8d14_000d3a9fde60row37_col3\" class=\"data row37 col3\" >1.2</td>\n",
       "                        <td id=\"T_8656197e_9c26_11ea_8d14_000d3a9fde60row37_col4\" class=\"data row37 col4\" >37805.4</td>\n",
       "                        <td id=\"T_8656197e_9c26_11ea_8d14_000d3a9fde60row37_col5\" class=\"data row37 col5\" >1435.4</td>\n",
       "                        <td id=\"T_8656197e_9c26_11ea_8d14_000d3a9fde60row37_col6\" class=\"data row37 col6\" >4%</td>\n",
       "            </tr>\n",
       "            <tr>\n",
       "                        <th id=\"T_8656197e_9c26_11ea_8d14_000d3a9fde60level0_row38\" class=\"row_heading level0 row38\" >AR</th>\n",
       "                        <td id=\"T_8656197e_9c26_11ea_8d14_000d3a9fde60row38_col0\" class=\"data row38 col0\" >5458</td>\n",
       "                        <td id=\"T_8656197e_9c26_11ea_8d14_000d3a9fde60row38_col1\" class=\"data row38 col1\" >6379</td>\n",
       "                        <td id=\"T_8656197e_9c26_11ea_8d14_000d3a9fde60row38_col2\" class=\"data row38 col2\" >(5776, 7680)</td>\n",
       "                        <td id=\"T_8656197e_9c26_11ea_8d14_000d3a9fde60row38_col3\" class=\"data row38 col3\" >1.2</td>\n",
       "                        <td id=\"T_8656197e_9c26_11ea_8d14_000d3a9fde60row38_col4\" class=\"data row38 col4\" >32896.8</td>\n",
       "                        <td id=\"T_8656197e_9c26_11ea_8d14_000d3a9fde60row38_col5\" class=\"data row38 col5\" >1808.6</td>\n",
       "                        <td id=\"T_8656197e_9c26_11ea_8d14_000d3a9fde60row38_col6\" class=\"data row38 col6\" >5%</td>\n",
       "            </tr>\n",
       "            <tr>\n",
       "                        <th id=\"T_8656197e_9c26_11ea_8d14_000d3a9fde60level0_row39\" class=\"row_heading level0 row39\" >SD</th>\n",
       "                        <td id=\"T_8656197e_9c26_11ea_8d14_000d3a9fde60row39_col0\" class=\"data row39 col0\" >4250</td>\n",
       "                        <td id=\"T_8656197e_9c26_11ea_8d14_000d3a9fde60row39_col1\" class=\"data row39 col1\" >4971</td>\n",
       "                        <td id=\"T_8656197e_9c26_11ea_8d14_000d3a9fde60row39_col2\" class=\"data row39 col2\" >(4486, 6207)</td>\n",
       "                        <td id=\"T_8656197e_9c26_11ea_8d14_000d3a9fde60row39_col3\" class=\"data row39 col3\" >1.2</td>\n",
       "                        <td id=\"T_8656197e_9c26_11ea_8d14_000d3a9fde60row39_col4\" class=\"data row39 col4\" >35382.0</td>\n",
       "                        <td id=\"T_8656197e_9c26_11ea_8d14_000d3a9fde60row39_col5\" class=\"data row39 col5\" >4804.1</td>\n",
       "                        <td id=\"T_8656197e_9c26_11ea_8d14_000d3a9fde60row39_col6\" class=\"data row39 col6\" >14%</td>\n",
       "            </tr>\n",
       "            <tr>\n",
       "                        <th id=\"T_8656197e_9c26_11ea_8d14_000d3a9fde60level0_row40\" class=\"row_heading level0 row40\" >OR</th>\n",
       "                        <td id=\"T_8656197e_9c26_11ea_8d14_000d3a9fde60row40_col0\" class=\"data row40 col0\" >3817</td>\n",
       "                        <td id=\"T_8656197e_9c26_11ea_8d14_000d3a9fde60row40_col1\" class=\"data row40 col1\" >4573</td>\n",
       "                        <td id=\"T_8656197e_9c26_11ea_8d14_000d3a9fde60row40_col2\" class=\"data row40 col2\" >(4056, 5775)</td>\n",
       "                        <td id=\"T_8656197e_9c26_11ea_8d14_000d3a9fde60row40_col3\" class=\"data row40 col3\" >1.2</td>\n",
       "                        <td id=\"T_8656197e_9c26_11ea_8d14_000d3a9fde60row40_col4\" class=\"data row40 col4\" >24948.0</td>\n",
       "                        <td id=\"T_8656197e_9c26_11ea_8d14_000d3a9fde60row40_col5\" class=\"data row40 col5\" >905.0</td>\n",
       "                        <td id=\"T_8656197e_9c26_11ea_8d14_000d3a9fde60row40_col6\" class=\"data row40 col6\" >4%</td>\n",
       "            </tr>\n",
       "            <tr>\n",
       "                        <th id=\"T_8656197e_9c26_11ea_8d14_000d3a9fde60level0_row41\" class=\"row_heading level0 row41\" >NH</th>\n",
       "                        <td id=\"T_8656197e_9c26_11ea_8d14_000d3a9fde60row41_col0\" class=\"data row41 col0\" >3868</td>\n",
       "                        <td id=\"T_8656197e_9c26_11ea_8d14_000d3a9fde60row41_col1\" class=\"data row41 col1\" >4505</td>\n",
       "                        <td id=\"T_8656197e_9c26_11ea_8d14_000d3a9fde60row41_col2\" class=\"data row41 col2\" >(4073, 5431)</td>\n",
       "                        <td id=\"T_8656197e_9c26_11ea_8d14_000d3a9fde60row41_col3\" class=\"data row41 col3\" >1.2</td>\n",
       "                        <td id=\"T_8656197e_9c26_11ea_8d14_000d3a9fde60row41_col4\" class=\"data row41 col4\" >38853.8</td>\n",
       "                        <td id=\"T_8656197e_9c26_11ea_8d14_000d3a9fde60row41_col5\" class=\"data row41 col5\" >2844.7</td>\n",
       "                        <td id=\"T_8656197e_9c26_11ea_8d14_000d3a9fde60row41_col6\" class=\"data row41 col6\" >7%</td>\n",
       "            </tr>\n",
       "            <tr>\n",
       "                        <th id=\"T_8656197e_9c26_11ea_8d14_000d3a9fde60level0_row42\" class=\"row_heading level0 row42\" >ID</th>\n",
       "                        <td id=\"T_8656197e_9c26_11ea_8d14_000d3a9fde60row42_col0\" class=\"data row42 col0\" >2506</td>\n",
       "                        <td id=\"T_8656197e_9c26_11ea_8d14_000d3a9fde60row42_col1\" class=\"data row42 col1\" >3047</td>\n",
       "                        <td id=\"T_8656197e_9c26_11ea_8d14_000d3a9fde60row42_col2\" class=\"data row42 col2\" >(2660, 4075)</td>\n",
       "                        <td id=\"T_8656197e_9c26_11ea_8d14_000d3a9fde60row42_col3\" class=\"data row42 col3\" >1.2</td>\n",
       "                        <td id=\"T_8656197e_9c26_11ea_8d14_000d3a9fde60row42_col4\" class=\"data row42 col4\" >21760.8</td>\n",
       "                        <td id=\"T_8656197e_9c26_11ea_8d14_000d3a9fde60row42_col5\" class=\"data row42 col5\" >1402.3</td>\n",
       "                        <td id=\"T_8656197e_9c26_11ea_8d14_000d3a9fde60row42_col6\" class=\"data row42 col6\" >6%</td>\n",
       "            </tr>\n",
       "            <tr>\n",
       "                        <th id=\"T_8656197e_9c26_11ea_8d14_000d3a9fde60level0_row43\" class=\"row_heading level0 row43\" >ND</th>\n",
       "                        <td id=\"T_8656197e_9c26_11ea_8d14_000d3a9fde60row43_col0\" class=\"data row43 col0\" >2229</td>\n",
       "                        <td id=\"T_8656197e_9c26_11ea_8d14_000d3a9fde60row43_col1\" class=\"data row43 col1\" >2469</td>\n",
       "                        <td id=\"T_8656197e_9c26_11ea_8d14_000d3a9fde60row43_col2\" class=\"data row43 col2\" >(2303, 2823)</td>\n",
       "                        <td id=\"T_8656197e_9c26_11ea_8d14_000d3a9fde60row43_col3\" class=\"data row43 col3\" >1.1</td>\n",
       "                        <td id=\"T_8656197e_9c26_11ea_8d14_000d3a9fde60row43_col4\" class=\"data row43 col4\" >80412.1</td>\n",
       "                        <td id=\"T_8656197e_9c26_11ea_8d14_000d3a9fde60row43_col5\" class=\"data row43 col5\" >2925.0</td>\n",
       "                        <td id=\"T_8656197e_9c26_11ea_8d14_000d3a9fde60row43_col6\" class=\"data row43 col6\" >4%</td>\n",
       "            </tr>\n",
       "            <tr>\n",
       "                        <th id=\"T_8656197e_9c26_11ea_8d14_000d3a9fde60level0_row44\" class=\"row_heading level0 row44\" >ME</th>\n",
       "                        <td id=\"T_8656197e_9c26_11ea_8d14_000d3a9fde60row44_col0\" class=\"data row44 col0\" >1877</td>\n",
       "                        <td id=\"T_8656197e_9c26_11ea_8d14_000d3a9fde60row44_col1\" class=\"data row44 col1\" >2243</td>\n",
       "                        <td id=\"T_8656197e_9c26_11ea_8d14_000d3a9fde60row44_col2\" class=\"data row44 col2\" >(1997, 2841)</td>\n",
       "                        <td id=\"T_8656197e_9c26_11ea_8d14_000d3a9fde60row44_col3\" class=\"data row44 col3\" >1.2</td>\n",
       "                        <td id=\"T_8656197e_9c26_11ea_8d14_000d3a9fde60row44_col4\" class=\"data row44 col4\" >27768.7</td>\n",
       "                        <td id=\"T_8656197e_9c26_11ea_8d14_000d3a9fde60row44_col5\" class=\"data row44 col5\" >1396.4</td>\n",
       "                        <td id=\"T_8656197e_9c26_11ea_8d14_000d3a9fde60row44_col6\" class=\"data row44 col6\" >5%</td>\n",
       "            </tr>\n",
       "            <tr>\n",
       "                        <th id=\"T_8656197e_9c26_11ea_8d14_000d3a9fde60level0_row45\" class=\"row_heading level0 row45\" >WV</th>\n",
       "                        <td id=\"T_8656197e_9c26_11ea_8d14_000d3a9fde60row45_col0\" class=\"data row45 col0\" >1593</td>\n",
       "                        <td id=\"T_8656197e_9c26_11ea_8d14_000d3a9fde60row45_col1\" class=\"data row45 col1\" >1813</td>\n",
       "                        <td id=\"T_8656197e_9c26_11ea_8d14_000d3a9fde60row45_col2\" class=\"data row45 col2\" >(1663, 2148)</td>\n",
       "                        <td id=\"T_8656197e_9c26_11ea_8d14_000d3a9fde60row45_col3\" class=\"data row45 col3\" >1.1</td>\n",
       "                        <td id=\"T_8656197e_9c26_11ea_8d14_000d3a9fde60row45_col4\" class=\"data row45 col4\" >46391.8</td>\n",
       "                        <td id=\"T_8656197e_9c26_11ea_8d14_000d3a9fde60row45_col5\" class=\"data row45 col5\" >888.9</td>\n",
       "                        <td id=\"T_8656197e_9c26_11ea_8d14_000d3a9fde60row45_col6\" class=\"data row45 col6\" >2%</td>\n",
       "            </tr>\n",
       "            <tr>\n",
       "                        <th id=\"T_8656197e_9c26_11ea_8d14_000d3a9fde60level0_row46\" class=\"row_heading level0 row46\" >VT</th>\n",
       "                        <td id=\"T_8656197e_9c26_11ea_8d14_000d3a9fde60row46_col0\" class=\"data row46 col0\" >950</td>\n",
       "                        <td id=\"T_8656197e_9c26_11ea_8d14_000d3a9fde60row46_col1\" class=\"data row46 col1\" >1101</td>\n",
       "                        <td id=\"T_8656197e_9c26_11ea_8d14_000d3a9fde60row46_col2\" class=\"data row46 col2\" >(1001, 1346)</td>\n",
       "                        <td id=\"T_8656197e_9c26_11ea_8d14_000d3a9fde60row46_col3\" class=\"data row46 col3\" >1.2</td>\n",
       "                        <td id=\"T_8656197e_9c26_11ea_8d14_000d3a9fde60row46_col4\" class=\"data row46 col4\" >41188.2</td>\n",
       "                        <td id=\"T_8656197e_9c26_11ea_8d14_000d3a9fde60row46_col5\" class=\"data row46 col5\" >1522.5</td>\n",
       "                        <td id=\"T_8656197e_9c26_11ea_8d14_000d3a9fde60row46_col6\" class=\"data row46 col6\" >4%</td>\n",
       "            </tr>\n",
       "            <tr>\n",
       "                        <th id=\"T_8656197e_9c26_11ea_8d14_000d3a9fde60level0_row47\" class=\"row_heading level0 row47\" >WY</th>\n",
       "                        <td id=\"T_8656197e_9c26_11ea_8d14_000d3a9fde60row47_col0\" class=\"data row47 col0\" >787</td>\n",
       "                        <td id=\"T_8656197e_9c26_11ea_8d14_000d3a9fde60row47_col1\" class=\"data row47 col1\" >923</td>\n",
       "                        <td id=\"T_8656197e_9c26_11ea_8d14_000d3a9fde60row47_col2\" class=\"data row47 col2\" >(828, 1144)</td>\n",
       "                        <td id=\"T_8656197e_9c26_11ea_8d14_000d3a9fde60row47_col3\" class=\"data row47 col3\" >1.2</td>\n",
       "                        <td id=\"T_8656197e_9c26_11ea_8d14_000d3a9fde60row47_col4\" class=\"data row47 col4\" >32552.4</td>\n",
       "                        <td id=\"T_8656197e_9c26_11ea_8d14_000d3a9fde60row47_col5\" class=\"data row47 col5\" >1359.8</td>\n",
       "                        <td id=\"T_8656197e_9c26_11ea_8d14_000d3a9fde60row47_col6\" class=\"data row47 col6\" >4%</td>\n",
       "            </tr>\n",
       "            <tr>\n",
       "                        <th id=\"T_8656197e_9c26_11ea_8d14_000d3a9fde60level0_row48\" class=\"row_heading level0 row48\" >HI</th>\n",
       "                        <td id=\"T_8656197e_9c26_11ea_8d14_000d3a9fde60row48_col0\" class=\"data row48 col0\" >643</td>\n",
       "                        <td id=\"T_8656197e_9c26_11ea_8d14_000d3a9fde60row48_col1\" class=\"data row48 col1\" >753</td>\n",
       "                        <td id=\"T_8656197e_9c26_11ea_8d14_000d3a9fde60row48_col2\" class=\"data row48 col2\" >(676, 945)</td>\n",
       "                        <td id=\"T_8656197e_9c26_11ea_8d14_000d3a9fde60row48_col3\" class=\"data row48 col3\" >1.2</td>\n",
       "                        <td id=\"T_8656197e_9c26_11ea_8d14_000d3a9fde60row48_col4\" class=\"data row48 col4\" >33300.3</td>\n",
       "                        <td id=\"T_8656197e_9c26_11ea_8d14_000d3a9fde60row48_col5\" class=\"data row48 col5\" >454.1</td>\n",
       "                        <td id=\"T_8656197e_9c26_11ea_8d14_000d3a9fde60row48_col6\" class=\"data row48 col6\" >1%</td>\n",
       "            </tr>\n",
       "            <tr>\n",
       "                        <th id=\"T_8656197e_9c26_11ea_8d14_000d3a9fde60level0_row49\" class=\"row_heading level0 row49\" >MT</th>\n",
       "                        <td id=\"T_8656197e_9c26_11ea_8d14_000d3a9fde60row49_col0\" class=\"data row49 col0\" >479</td>\n",
       "                        <td id=\"T_8656197e_9c26_11ea_8d14_000d3a9fde60row49_col1\" class=\"data row49 col1\" >569</td>\n",
       "                        <td id=\"T_8656197e_9c26_11ea_8d14_000d3a9fde60row49_col2\" class=\"data row49 col2\" >(507, 710)</td>\n",
       "                        <td id=\"T_8656197e_9c26_11ea_8d14_000d3a9fde60row49_col3\" class=\"data row49 col3\" >1.2</td>\n",
       "                        <td id=\"T_8656197e_9c26_11ea_8d14_000d3a9fde60row49_col4\" class=\"data row49 col4\" >28559.7</td>\n",
       "                        <td id=\"T_8656197e_9c26_11ea_8d14_000d3a9fde60row49_col5\" class=\"data row49 col5\" >448.2</td>\n",
       "                        <td id=\"T_8656197e_9c26_11ea_8d14_000d3a9fde60row49_col6\" class=\"data row49 col6\" >2%</td>\n",
       "            </tr>\n",
       "            <tr>\n",
       "                        <th id=\"T_8656197e_9c26_11ea_8d14_000d3a9fde60level0_row50\" class=\"row_heading level0 row50\" >AK</th>\n",
       "                        <td id=\"T_8656197e_9c26_11ea_8d14_000d3a9fde60row50_col0\" class=\"data row50 col0\" >402</td>\n",
       "                        <td id=\"T_8656197e_9c26_11ea_8d14_000d3a9fde60row50_col1\" class=\"data row50 col1\" >457</td>\n",
       "                        <td id=\"T_8656197e_9c26_11ea_8d14_000d3a9fde60row50_col2\" class=\"data row50 col2\" >(418, 544)</td>\n",
       "                        <td id=\"T_8656197e_9c26_11ea_8d14_000d3a9fde60row50_col3\" class=\"data row50 col3\" >1.1</td>\n",
       "                        <td id=\"T_8656197e_9c26_11ea_8d14_000d3a9fde60row50_col4\" class=\"data row50 col4\" >54056.8</td>\n",
       "                        <td id=\"T_8656197e_9c26_11ea_8d14_000d3a9fde60row50_col5\" class=\"data row50 col5\" >549.5</td>\n",
       "                        <td id=\"T_8656197e_9c26_11ea_8d14_000d3a9fde60row50_col6\" class=\"data row50 col6\" >1%</td>\n",
       "            </tr>\n",
       "    </tbody></table>"
      ],
      "text/plain": [
       "<pandas.io.formats.style.Styler at 0x7f17e9272748>"
      ]
     },
     "execution_count": 7,
     "metadata": {},
     "output_type": "execute_result"
    }
   ],
   "source": [
    "#hide_input\n",
    "df_display.sort_values(\n",
    "    by='Est Cases', ascending=False).style.background_gradient(\n",
    "    cmap='Oranges').format(\n",
    "    {'Ratio': \"{:.1f}\"}).format(\n",
    "    {'Tests per Million': \"{:.1f}\"}).format(\n",
    "    {'Cases per Million': \"{:.1f}\"}).format(\n",
    "    {'Positive Test Rate': \"{:.0%}\"})"
   ]
  },
  {
   "cell_type": "code",
   "execution_count": 8,
   "metadata": {
    "execution": {
     "iopub.execute_input": "2020-05-22T12:19:47.034711Z",
     "iopub.status.busy": "2020-05-22T12:19:47.034083Z",
     "iopub.status.idle": "2020-05-22T12:19:47.570389Z",
     "shell.execute_reply": "2020-05-22T12:19:47.569860Z"
    },
    "papermill": {
     "duration": 0.810503,
     "end_time": "2020-05-22T12:19:47.570504",
     "exception": false,
     "start_time": "2020-05-22T12:19:46.760001",
     "status": "completed"
    },
    "tags": []
   },
   "outputs": [
    {
     "data": {
      "image/png": "[encoded data removed]",
      "text/plain": [
       "<Figure size 1080x1080 with 1 Axes>"
      ]
     },
     "metadata": {
      "needs_background": "light"
     },
     "output_type": "display_data"
    }
   ],
   "source": [
    "#hide_input\n",
    "\n",
    "df_plot = df_summary.copy(deep=True)\n",
    "\n",
    "# Compute predicted cases per million\n",
    "df_plot['predicted_counts_now_pm'] =  1e6 * (\n",
    "    df_pred['positive'] / prob_missing_now.mean(axis=0)) / df_pred['total_population']\n",
    "\n",
    "df_plot['predicted_counts_now_lower_pm'] = 1e6 * (\n",
    "    df_pred['positive'] / prob_missing_now.quantile(0.975, axis=0))/ df_pred['total_population']\n",
    "df_plot['predicted_counts_now_upper_pm'] = 1e6 * (\n",
    "    df_pred['positive'] / prob_missing_now.quantile(0.025, axis=0))/ df_pred['total_population']\n",
    "\n",
    "df_plot.sort_values('predicted_counts_now_pm', ascending=False, inplace=True)\n",
    "\n",
    "xerr = [\n",
    "    df_plot['predicted_counts_now_pm'] - df_plot['predicted_counts_now_lower_pm'], \n",
    "    df_plot['predicted_counts_now_upper_pm'] - df_plot['predicted_counts_now_pm']]\n",
    "\n",
    "fig, axs = plt.subplots(1, 1, figsize=(15, 15))\n",
    "ax = plt.errorbar(df_plot['predicted_counts_now_pm'], range(len(df_plot)-1, -1, -1),\n",
    "                  xerr=xerr, fmt='o', elinewidth=1, label='Estimate')\n",
    "ax = plt.yticks(range(len(df_plot)), df_plot.index[::-1])\n",
    "ax = plt.errorbar(df_plot['Cases per Million'], range(len(df_plot)-1, -1, -1),\n",
    "                  xerr=None, fmt='.', color='k', label='Reported')\n",
    "ax = plt.xlabel('COVID-19 Case Counts Per Million People', size=20)\n",
    "ax = plt.legend(fontsize='xx-large', loc=4)\n",
    "ax = plt.grid(linestyle='--', color='grey', axis='x')"
   ]
  },
  {
   "cell_type": "markdown",
   "metadata": {
    "papermill": {
     "duration": 0.266231,
     "end_time": "2020-05-22T12:19:48.101241",
     "exception": false,
     "start_time": "2020-05-22T12:19:47.835010",
     "status": "completed"
    },
    "tags": []
   },
   "source": [
    "## Appendix: Model Diagnostics \n",
    "\n",
    "### Derived relationship between Test Capacity and Case Under-reporting\n",
    "\n",
    "Plotted is the estimated relationship between test capacity (in terms of people per test -- larger = less testing) and the likelihood a COVID-19 case is reported (lower = more under-reporting of cases).\n",
    "\n",
    "The lines represent the posterior samples from our MCMC run (note the x-axis is plotted on a log scale).  The rug plot shows the current test capacity for each state (black '|') and the capacity one week ago (cyan '+').  For comparison, South Korea's testing capacity is currently at the very left of the graph (200 people per test)."
   ]
  },
  {
   "cell_type": "code",
   "execution_count": 9,
   "metadata": {
    "execution": {
     "iopub.execute_input": "2020-05-22T12:19:48.654299Z",
     "iopub.status.busy": "2020-05-22T12:19:48.651786Z",
     "iopub.status.idle": "2020-05-22T12:19:50.849960Z",
     "shell.execute_reply": "2020-05-22T12:19:50.850700Z"
    },
    "papermill": {
     "duration": 2.481479,
     "end_time": "2020-05-22T12:19:50.850839",
     "exception": false,
     "start_time": "2020-05-22T12:19:48.369360",
     "status": "completed"
    },
    "tags": []
   },
   "outputs": [
    {
     "data": {
      "image/png": "[encoded data removed]",
      "text/plain": [
       "<Figure size 1008x648 with 1 Axes>"
      ]
     },
     "metadata": {
      "needs_background": "light"
     },
     "output_type": "display_data"
    }
   ],
   "source": [
    "#hide_input\n",
    "\n",
    "# Plot pop/test vs. Prob of case detection for all posterior samples:\n",
    "x = np.linspace(0.0, 4.0, 101)\n",
    "logit_pcase = pd.DataFrame([\n",
    "    trace['alpha'][i] + trace['beta'][i] * x\n",
    "    for i in range(n)])\n",
    "pcase = np.exp(logit_pcase) / (np.exp(logit_pcase) + 1)\n",
    "\n",
    "fig, ax = plt.subplots(1, 1, figsize=(14, 9))\n",
    "for i in range(n):\n",
    "    ax = plt.plot(10**(ppt_sk + x), pcase.iloc[i], color='grey', lw=.1, alpha=.5)\n",
    "    plt.xscale('log')\n",
    "    plt.xlabel('State-wise population per test', size=14)\n",
    "    plt.ylabel('Probability a true case is detected', size=14)\n",
    "\n",
    "# rug plots:\n",
    "ax=plt.plot(df_pred['people_per_test'], np.zeros(len(df_pred)),\n",
    "            marker='|', color='k', ls='', ms=20,\n",
    "           label='U.S. State-wise Test Capacity Now')\n",
    "ax=plt.plot(df['people_per_test_7_days_ago'], np.zeros(len(df)),\n",
    "            marker='+', color='c', ls='', ms=10,\n",
    "           label='U.S. State-wise Test Capacity 7 Days Ago')\n",
    "ax = plt.legend(fontsize='x-large')"
   ]
  },
  {
   "cell_type": "markdown",
   "metadata": {
    "papermill": {
     "duration": 0.268429,
     "end_time": "2020-05-22T12:19:51.383340",
     "exception": false,
     "start_time": "2020-05-22T12:19:51.114911",
     "status": "completed"
    },
    "tags": []
   },
   "source": [
    "## About this Analysis\n",
    "\n",
    "This analysis was done by [Joseph Richards](https://twitter.com/joeyrichar).\n",
    "\n",
    "This project[^1] uses the testing rates per state from [https://covidtracking.com/](https://covidtracking.com/), which reports case counts and mortality by state.  This is used to **estimate the number of unreported (untested) COVID-19 cases in each U.S. state.**\n",
    "\n",
    "The analysis makes a few assumptions:\n",
    "\n",
    "1. The probability that a case is reported by a state is a function of the number of tests run per person in that state.  Hence the degree of under-reported cases is a function of tests run per capita.\n",
    "2. The underlying mortality rate is the same across every state.\n",
    "3. Patients take time to succumb to COVID-19, so the mortality counts *today* reflect the case counts *7 days ago*.  E.g., mortality rate = (cumulative deaths today) / (cumulative cases 7 days ago).\n",
    "\n",
    "The model attempts to find the most likely relationship between state-wise test volume (per capita) and under-reporting, such that the true underlying mortality rates between the individual states are as similar as possible.  The model simultaneously finds the most likely posterior distribution of mortality rates, the most likely *true* case count per state, and the test volume vs. case underreporting relationship.\n",
    "\n",
    "[^1]: Full details about the model are available at:  https://github.com/jwrichar/COVID19-mortality"
   ]
  }
 ],
 "metadata": {
  "kernelspec": {
   "display_name": "visualization-curriculum-gF8wUgMm",
   "language": "python",
   "name": "visualization-curriculum-gf8wugmm"
  },
  "language_info": {
   "codemirror_mode": {
    "name": "ipython",
    "version": 3
   },
   "file_extension": ".py",
   "mimetype": "text/x-python",
   "name": "python",
   "nbconvert_exporter": "python",
   "pygments_lexer": "ipython3",
   "version": "3.6.10"
  },
  "papermill": {
   "duration": 213.85599,
   "end_time": "2020-05-22T12:19:51.760563",
   "environment_variables": {},
   "exception": null,
   "input_path": "2020-03-18-case-count-estimation-us-states.ipynb",
   "output_path": "2020-03-18-case-count-estimation-us-states.ipynb",
   "parameters": {},
   "start_time": "2020-05-22T12:16:17.904573",
   "version": "2.0.0"
  }
 },
 "nbformat": 4,
 "nbformat_minor": 4
}