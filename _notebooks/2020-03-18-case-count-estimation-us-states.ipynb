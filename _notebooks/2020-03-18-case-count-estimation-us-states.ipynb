{
 "cells": [
  {
   "cell_type": "markdown",
   "metadata": {
    "papermill": {
     "duration": 0.012843,
     "end_time": "2020-05-16T04:15:44.189670",
     "exception": false,
     "start_time": "2020-05-16T04:15:44.176827",
     "status": "completed"
    },
    "tags": []
   },
   "source": [
    "# How many cases of COVID-19 does each U.S. state really have?\n",
    "> Reported U.S. case counts are based on the number of administered tests. Since not everyone is tested, this number is biased. We use Bayesian techniques to estimate the true number of cases.\n",
    "\n",
    "- author: Joseph Richards\n",
    "- image: images/covid-state-case-estimation.png\n",
    "- hide: false\n",
    "- comments: true\n",
    "- categories: [MCMC, US, states, cases]\n",
    "- permalink: /covid-19-us-case-estimation/\n",
    "- toc: false"
   ]
  },
  {
   "cell_type": "markdown",
   "metadata": {
    "papermill": {
     "duration": 0.009465,
     "end_time": "2020-05-16T04:15:44.208523",
     "exception": false,
     "start_time": "2020-05-16T04:15:44.199058",
     "status": "completed"
    },
    "tags": []
   },
   "source": [
    "> Note: This dashboard contains the results of a predictive model. The author has tried to make it as accurate as possible. But the COVID-19 situation is changing quickly, and these models inevitably include some level of speculation."
   ]
  },
  {
   "cell_type": "code",
   "execution_count": 1,
   "metadata": {
    "execution": {
     "iopub.execute_input": "2020-05-16T04:15:44.235398Z",
     "iopub.status.busy": "2020-05-16T04:15:44.234680Z",
     "iopub.status.idle": "2020-05-16T04:15:45.864655Z",
     "shell.execute_reply": "2020-05-16T04:15:45.863985Z"
    },
    "papermill": {
     "duration": 1.646692,
     "end_time": "2020-05-16T04:15:45.864802",
     "exception": false,
     "start_time": "2020-05-16T04:15:44.218110",
     "status": "completed"
    },
    "tags": []
   },
   "outputs": [
    {
     "name": "stderr",
     "output_type": "stream",
     "text": [
      "WARNING (theano.tensor.blas): Using NumPy C-API based implementation for BLAS functions.\n"
     ]
    }
   ],
   "source": [
    "#hide\n",
    "\n",
    "# Setup and imports\n",
    "%matplotlib inline\n",
    "\n",
    "import warnings\n",
    "warnings.simplefilter('ignore')\n",
    "\n",
    "import matplotlib.pyplot as plt\n",
    "import numpy as np\n",
    "import pandas as pd\n",
    "import pymc3 as pm\n",
    "import requests\n",
    "\n",
    "from IPython.display import display, Markdown"
   ]
  },
  {
   "cell_type": "code",
   "execution_count": 2,
   "metadata": {
    "execution": {
     "iopub.execute_input": "2020-05-16T04:15:45.909549Z",
     "iopub.status.busy": "2020-05-16T04:15:45.906613Z",
     "iopub.status.idle": "2020-05-16T04:15:45.911554Z",
     "shell.execute_reply": "2020-05-16T04:15:45.912153Z"
    },
    "papermill": {
     "duration": 0.034634,
     "end_time": "2020-05-16T04:15:45.912302",
     "exception": false,
     "start_time": "2020-05-16T04:15:45.877668",
     "status": "completed"
    },
    "tags": []
   },
   "outputs": [],
   "source": [
    "#hide\n",
    "\n",
    "# Data utilities:\n",
    "\n",
    "def get_statewise_testing_data():\n",
    "    '''\n",
    "    Pull all statewise data required for model fitting and\n",
    "    prediction\n",
    "\n",
    "    Returns:\n",
    "    * df_out: DataFrame for model fitting where inclusion\n",
    "        requires testing data from 7 days ago\n",
    "    * df_pred: DataFrame for count prediction where inclusion\n",
    "        only requires testing data from today\n",
    "    '''\n",
    "\n",
    "    # Pull testing counts by state:\n",
    "    out = requests.get('https://covidtracking.com/api/states')\n",
    "    df_out = pd.DataFrame(out.json())\n",
    "    df_out.set_index('state', drop=True, inplace=True)\n",
    "\n",
    "    # Pull time-series of testing counts:\n",
    "    ts = requests.get('https://covidtracking.com/api/states/daily')\n",
    "    df_ts = pd.DataFrame(ts.json())\n",
    "\n",
    "    # Get data from last week\n",
    "    date_last_week = df_ts['date'].unique()[7]\n",
    "    df_ts_last_week = _get_test_counts(df_ts, df_out.index, date_last_week)\n",
    "    df_out['num_tests_7_days_ago'] = \\\n",
    "        (df_ts_last_week['positive'] + df_ts_last_week['negative'])\n",
    "    df_out['num_pos_7_days_ago'] = df_ts_last_week['positive']\n",
    "\n",
    "    # Get data from today:\n",
    "    df_out['num_tests_today'] = (df_out['positive'] + df_out['negative'])\n",
    "\n",
    "    # State population:\n",
    "    df_pop = pd.read_excel(('https://github.com/jwrichar/COVID19-mortality/blob/'\n",
    "                            'master/data/us_population_by_state_2019.xlsx?raw=true'),\n",
    "                           skiprows=2, skipfooter=5)\n",
    "    r = requests.get(('https://raw.githubusercontent.com/jwrichar/COVID19-mortality/'\n",
    "                      'master/data/us-state-name-abbr.json'))\n",
    "    state_name_abbr_lookup = r.json()\n",
    "    \n",
    "    df_pop.index = df_pop['Geographic Area'].apply(\n",
    "        lambda x: str(x).replace('.', '')).map(state_name_abbr_lookup)\n",
    "    df_pop = df_pop.loc[df_pop.index.dropna()]\n",
    "\n",
    "    df_out['total_population'] = df_pop['Total Resident\\nPopulation']\n",
    "\n",
    "    # Tests per million people, based on today's test coverage\n",
    "    df_out['tests_per_million'] = 1e6 * \\\n",
    "        (df_out['num_tests_today']) / df_out['total_population']\n",
    "    df_out['tests_per_million_7_days_ago'] = 1e6 * \\\n",
    "        (df_out['num_tests_7_days_ago']) / df_out['total_population']\n",
    "\n",
    "    # People per test:\n",
    "    df_out['people_per_test'] = 1e6 / df_out['tests_per_million']\n",
    "    df_out['people_per_test_7_days_ago'] = \\\n",
    "        1e6 / df_out['tests_per_million_7_days_ago']\n",
    "\n",
    "    # Drop states with messed up / missing data:\n",
    "    # Drop states with missing total pop:\n",
    "    to_drop_idx = df_out.index[df_out['total_population'].isnull()]\n",
    "    print('Dropping %i/%i states due to lack of population data: %s' %\n",
    "          (len(to_drop_idx), len(df_out), ', '.join(to_drop_idx)))\n",
    "    df_out.drop(to_drop_idx, axis=0, inplace=True)\n",
    "\n",
    "    df_pred = df_out.copy(deep=True)  # Prediction DataFrame\n",
    "\n",
    "    # Criteria for model fitting:\n",
    "    # Drop states with missing test count 7 days ago:\n",
    "    to_drop_idx = df_out.index[df_out['num_tests_7_days_ago'].isnull()]\n",
    "    print('Dropping %i/%i states due to lack of tests: %s' %\n",
    "          (len(to_drop_idx), len(df_out), ', '.join(to_drop_idx)))\n",
    "    df_out.drop(to_drop_idx, axis=0, inplace=True)\n",
    "    # Drop states with no cases 7 days ago:\n",
    "    to_drop_idx = df_out.index[df_out['num_pos_7_days_ago'] == 0]\n",
    "    print('Dropping %i/%i states due to lack of positive tests: %s' %\n",
    "          (len(to_drop_idx), len(df_out), ', '.join(to_drop_idx)))\n",
    "    df_out.drop(to_drop_idx, axis=0, inplace=True)\n",
    "\n",
    "    # Criteria for model prediction:\n",
    "    # Drop states with missing test count today:\n",
    "    to_drop_idx = df_pred.index[df_pred['num_tests_today'].isnull()]\n",
    "    print('Dropping %i/%i states in prediction data due to lack of tests: %s' %\n",
    "          (len(to_drop_idx), len(df_pred), ', '.join(to_drop_idx)))\n",
    "    df_pred.drop(to_drop_idx, axis=0, inplace=True)\n",
    "    # Cast counts to int\n",
    "    df_pred['negative'] = df_pred['negative'].astype(int)\n",
    "    df_pred['positive'] = df_pred['positive'].astype(int)\n",
    "\n",
    "    return df_out, df_pred\n",
    "\n",
    "def _get_test_counts(df_ts, state_list, date):\n",
    "\n",
    "    ts_list = []\n",
    "    for state in state_list:\n",
    "        state_ts = df_ts.loc[df_ts['state'] == state]\n",
    "        # Back-fill any gaps to avoid crap data gaps\n",
    "        state_ts.fillna(method='bfill', inplace=True)\n",
    "\n",
    "        record = state_ts.loc[df_ts['date'] == date]\n",
    "        ts_list.append(record)\n",
    "\n",
    "    df_ts = pd.concat(ts_list, ignore_index=True)\n",
    "    return df_ts.set_index('state', drop=True)\n"
   ]
  },
  {
   "cell_type": "code",
   "execution_count": 3,
   "metadata": {
    "execution": {
     "iopub.execute_input": "2020-05-16T04:15:45.948025Z",
     "iopub.status.busy": "2020-05-16T04:15:45.947265Z",
     "iopub.status.idle": "2020-05-16T04:15:45.950077Z",
     "shell.execute_reply": "2020-05-16T04:15:45.949368Z"
    },
    "papermill": {
     "duration": 0.025893,
     "end_time": "2020-05-16T04:15:45.950199",
     "exception": false,
     "start_time": "2020-05-16T04:15:45.924306",
     "status": "completed"
    },
    "tags": []
   },
   "outputs": [],
   "source": [
    "#hide\n",
    "\n",
    "# Model utilities\n",
    "\n",
    "def case_count_model_us_states(df):\n",
    "\n",
    "    # Normalize inputs in a way that is sensible:\n",
    "\n",
    "    # People per test: normalize to South Korea\n",
    "    # assuming S.K. testing is \"saturated\"\n",
    "    ppt_sk = np.log10(51500000. / 250000)\n",
    "    df['people_per_test_normalized'] = (\n",
    "        np.log10(df['people_per_test_7_days_ago']) - ppt_sk)\n",
    "\n",
    "    n = len(df)\n",
    "\n",
    "    # For each country, let:\n",
    "    # c_obs = number of observed cases\n",
    "    c_obs = df['num_pos_7_days_ago'].values\n",
    "    # c_star = number of true cases\n",
    "\n",
    "    # d_obs = number of observed deaths\n",
    "    d_obs = df[['death', 'num_pos_7_days_ago']].min(axis=1).values\n",
    "    # people per test\n",
    "    people_per_test = df['people_per_test_normalized'].values\n",
    "\n",
    "    covid_case_count_model = pm.Model()\n",
    "\n",
    "    with covid_case_count_model:\n",
    "\n",
    "        # Priors:\n",
    "        mu_0 = pm.Beta('mu_0', alpha=1, beta=100, testval=0.01)\n",
    "        # sig_0 = pm.Uniform('sig_0', lower=0.0, upper=mu_0 * (1 - mu_0))\n",
    "        alpha = pm.Bound(pm.Normal, lower=0.0)(\n",
    "            'alpha', mu=8, sigma=3, shape=1)\n",
    "        beta = pm.Bound(pm.Normal, upper=0.0)(\n",
    "            'beta', mu=-1, sigma=1, shape=1)\n",
    "        # beta = pm.Normal('beta', mu=0, sigma=1, shape=3)\n",
    "        sigma = pm.HalfNormal('sigma', sigma=0.5, testval=0.1)\n",
    "        # sigma_1 = pm.HalfNormal('sigma_1', sigma=2, testval=0.1)\n",
    "\n",
    "        # Model probability of case under-reporting as logistic regression:\n",
    "        mu_model_logit = alpha + beta * people_per_test\n",
    "        tau_logit = pm.Normal('tau_logit',\n",
    "                              mu=mu_model_logit,\n",
    "                              sigma=sigma,\n",
    "                              shape=n)\n",
    "        tau = np.exp(tau_logit) / (np.exp(tau_logit) + 1)\n",
    "\n",
    "        c_star = c_obs / tau\n",
    "\n",
    "        # Binomial likelihood:\n",
    "        d = pm.Binomial('d',\n",
    "                        n=c_star,\n",
    "                        p=mu_0,\n",
    "                        observed=d_obs)\n",
    "\n",
    "    return covid_case_count_model"
   ]
  },
  {
   "cell_type": "code",
   "execution_count": 4,
   "metadata": {
    "execution": {
     "iopub.execute_input": "2020-05-16T04:15:45.977772Z",
     "iopub.status.busy": "2020-05-16T04:15:45.977053Z",
     "iopub.status.idle": "2020-05-16T04:20:06.370228Z",
     "shell.execute_reply": "2020-05-16T04:20:06.369598Z"
    },
    "papermill": {
     "duration": 260.408707,
     "end_time": "2020-05-16T04:20:06.370351",
     "exception": false,
     "start_time": "2020-05-16T04:15:45.961644",
     "status": "completed"
    },
    "tags": []
   },
   "outputs": [
    {
     "name": "stdout",
     "output_type": "stream",
     "text": [
      "Dropping 4/56 states due to lack of population data: AS, GU, MP, VI\n",
      "Dropping 0/52 states due to lack of tests: \n",
      "Dropping 0/52 states due to lack of positive tests: \n",
      "Dropping 1/52 states in prediction data due to lack of tests: PR\n"
     ]
    },
    {
     "name": "stderr",
     "output_type": "stream",
     "text": [
      "Auto-assigning NUTS sampler...\n"
     ]
    },
    {
     "name": "stderr",
     "output_type": "stream",
     "text": [
      "Initializing NUTS using jitter+adapt_diag...\n"
     ]
    },
    {
     "name": "stderr",
     "output_type": "stream",
     "text": [
      "Sequential sampling (1 chains in 1 job)\n"
     ]
    },
    {
     "name": "stderr",
     "output_type": "stream",
     "text": [
      "NUTS: [tau_logit, sigma, beta, alpha, mu_0]\n"
     ]
    },
    {
     "name": "stderr",
     "output_type": "stream",
     "text": [
      "\r",
      "Sampling chain 0, 0 divergences:   0%|          | 0/1000 [00:00<?, ?it/s]"
     ]
    },
    {
     "name": "stderr",
     "output_type": "stream",
     "text": [
      "\r",
      "Sampling chain 0, 0 divergences:   0%|          | 1/1000 [00:01<21:44,  1.31s/it]"
     ]
    },
    {
     "name": "stderr",
     "output_type": "stream",
     "text": [
      "\r",
      "Sampling chain 0, 0 divergences:   1%|          | 12/1000 [00:01<15:07,  1.09it/s]"
     ]
    },
    {
     "name": "stderr",
     "output_type": "stream",
     "text": [
      "\r",
      "Sampling chain 0, 0 divergences:   2%|▏         | 15/1000 [00:01<10:50,  1.51it/s]"
     ]
    },
    {
     "name": "stderr",
     "output_type": "stream",
     "text": [
      "\r",
      "Sampling chain 0, 0 divergences:   2%|▏         | 17/1000 [00:01<07:52,  2.08it/s]"
     ]
    },
    {
     "name": "stderr",
     "output_type": "stream",
     "text": [
      "\r",
      "Sampling chain 0, 0 divergences:   2%|▏         | 19/1000 [00:01<05:49,  2.81it/s]"
     ]
    },
    {
     "name": "stderr",
     "output_type": "stream",
     "text": [
      "\r",
      "Sampling chain 0, 0 divergences:   2%|▏         | 21/1000 [00:02<04:22,  3.73it/s]"
     ]
    },
    {
     "name": "stderr",
     "output_type": "stream",
     "text": [
      "\r",
      "Sampling chain 0, 0 divergences:   2%|▏         | 23/1000 [00:02<03:20,  4.88it/s]"
     ]
    },
    {
     "name": "stderr",
     "output_type": "stream",
     "text": [
      "\r",
      "Sampling chain 0, 0 divergences:   2%|▎         | 25/1000 [00:02<02:36,  6.24it/s]"
     ]
    },
    {
     "name": "stderr",
     "output_type": "stream",
     "text": [
      "\r",
      "Sampling chain 0, 0 divergences:   3%|▎         | 27/1000 [00:02<02:05,  7.78it/s]"
     ]
    },
    {
     "name": "stderr",
     "output_type": "stream",
     "text": [
      "\r",
      "Sampling chain 0, 0 divergences:   3%|▎         | 29/1000 [00:02<01:43,  9.35it/s]"
     ]
    },
    {
     "name": "stderr",
     "output_type": "stream",
     "text": [
      "\r",
      "Sampling chain 0, 0 divergences:   3%|▎         | 31/1000 [00:02<01:29, 10.86it/s]"
     ]
    },
    {
     "name": "stderr",
     "output_type": "stream",
     "text": [
      "\r",
      "Sampling chain 0, 0 divergences:   3%|▎         | 33/1000 [00:02<01:20, 12.03it/s]"
     ]
    },
    {
     "name": "stderr",
     "output_type": "stream",
     "text": [
      "\r",
      "Sampling chain 0, 0 divergences:   4%|▎         | 35/1000 [00:02<01:12, 13.30it/s]"
     ]
    },
    {
     "name": "stderr",
     "output_type": "stream",
     "text": [
      "\r",
      "Sampling chain 0, 0 divergences:   4%|▎         | 37/1000 [00:02<01:06, 14.43it/s]"
     ]
    },
    {
     "name": "stderr",
     "output_type": "stream",
     "text": [
      "\r",
      "Sampling chain 0, 0 divergences:   4%|▍         | 39/1000 [00:03<01:02, 15.27it/s]"
     ]
    },
    {
     "name": "stderr",
     "output_type": "stream",
     "text": [
      "\r",
      "Sampling chain 0, 0 divergences:   4%|▍         | 41/1000 [00:03<01:01, 15.65it/s]"
     ]
    },
    {
     "name": "stderr",
     "output_type": "stream",
     "text": [
      "\r",
      "Sampling chain 0, 0 divergences:   4%|▍         | 43/1000 [00:03<00:58, 16.27it/s]"
     ]
    },
    {
     "name": "stderr",
     "output_type": "stream",
     "text": [
      "\r",
      "Sampling chain 0, 0 divergences:   4%|▍         | 45/1000 [00:03<00:57, 16.73it/s]"
     ]
    },
    {
     "name": "stderr",
     "output_type": "stream",
     "text": [
      "\r",
      "Sampling chain 0, 0 divergences:   5%|▍         | 47/1000 [00:03<00:56, 16.88it/s]"
     ]
    },
    {
     "name": "stderr",
     "output_type": "stream",
     "text": [
      "\r",
      "Sampling chain 0, 0 divergences:   5%|▍         | 49/1000 [00:03<00:55, 17.12it/s]"
     ]
    },
    {
     "name": "stderr",
     "output_type": "stream",
     "text": [
      "\r",
      "Sampling chain 0, 0 divergences:   5%|▌         | 51/1000 [00:03<00:55, 17.24it/s]"
     ]
    },
    {
     "name": "stderr",
     "output_type": "stream",
     "text": [
      "\r",
      "Sampling chain 0, 0 divergences:   5%|▌         | 53/1000 [00:03<00:56, 16.80it/s]"
     ]
    },
    {
     "name": "stderr",
     "output_type": "stream",
     "text": [
      "\r",
      "Sampling chain 0, 0 divergences:   6%|▌         | 55/1000 [00:03<00:58, 16.28it/s]"
     ]
    },
    {
     "name": "stderr",
     "output_type": "stream",
     "text": [
      "\r",
      "Sampling chain 0, 0 divergences:   6%|▌         | 57/1000 [00:04<00:59, 15.85it/s]"
     ]
    },
    {
     "name": "stderr",
     "output_type": "stream",
     "text": [
      "\r",
      "Sampling chain 0, 0 divergences:   6%|▌         | 59/1000 [00:04<01:00, 15.54it/s]"
     ]
    },
    {
     "name": "stderr",
     "output_type": "stream",
     "text": [
      "\r",
      "Sampling chain 0, 0 divergences:   6%|▌         | 61/1000 [00:04<00:58, 16.08it/s]"
     ]
    },
    {
     "name": "stderr",
     "output_type": "stream",
     "text": [
      "\r",
      "Sampling chain 0, 0 divergences:   6%|▋         | 63/1000 [00:04<00:56, 16.49it/s]"
     ]
    },
    {
     "name": "stderr",
     "output_type": "stream",
     "text": [
      "\r",
      "Sampling chain 0, 0 divergences:   6%|▋         | 65/1000 [00:04<00:55, 16.99it/s]"
     ]
    },
    {
     "name": "stderr",
     "output_type": "stream",
     "text": [
      "\r",
      "Sampling chain 0, 0 divergences:   7%|▋         | 67/1000 [00:04<00:55, 16.70it/s]"
     ]
    },
    {
     "name": "stderr",
     "output_type": "stream",
     "text": [
      "\r",
      "Sampling chain 0, 0 divergences:   7%|▋         | 69/1000 [00:04<00:57, 16.09it/s]"
     ]
    },
    {
     "name": "stderr",
     "output_type": "stream",
     "text": [
      "\r",
      "Sampling chain 0, 0 divergences:   7%|▋         | 71/1000 [00:04<00:59, 15.65it/s]"
     ]
    },
    {
     "name": "stderr",
     "output_type": "stream",
     "text": [
      "\r",
      "Sampling chain 0, 0 divergences:   7%|▋         | 73/1000 [00:05<01:00, 15.31it/s]"
     ]
    },
    {
     "name": "stderr",
     "output_type": "stream",
     "text": [
      "\r",
      "Sampling chain 0, 0 divergences:   8%|▊         | 75/1000 [00:05<00:58, 15.89it/s]"
     ]
    },
    {
     "name": "stderr",
     "output_type": "stream",
     "text": [
      "\r",
      "Sampling chain 0, 0 divergences:   8%|▊         | 77/1000 [00:05<00:56, 16.46it/s]"
     ]
    },
    {
     "name": "stderr",
     "output_type": "stream",
     "text": [
      "\r",
      "Sampling chain 0, 0 divergences:   8%|▊         | 79/1000 [00:05<00:55, 16.59it/s]"
     ]
    },
    {
     "name": "stderr",
     "output_type": "stream",
     "text": [
      "\r",
      "Sampling chain 0, 0 divergences:   8%|▊         | 81/1000 [00:05<00:54, 16.99it/s]"
     ]
    },
    {
     "name": "stderr",
     "output_type": "stream",
     "text": [
      "\r",
      "Sampling chain 0, 0 divergences:   8%|▊         | 83/1000 [00:05<00:53, 17.06it/s]"
     ]
    },
    {
     "name": "stderr",
     "output_type": "stream",
     "text": [
      "\r",
      "Sampling chain 0, 0 divergences:   8%|▊         | 85/1000 [00:05<00:53, 17.20it/s]"
     ]
    },
    {
     "name": "stderr",
     "output_type": "stream",
     "text": [
      "\r",
      "Sampling chain 0, 0 divergences:   9%|▊         | 87/1000 [00:05<00:54, 16.83it/s]"
     ]
    },
    {
     "name": "stderr",
     "output_type": "stream",
     "text": [
      "\r",
      "Sampling chain 0, 0 divergences:   9%|▉         | 89/1000 [00:06<00:53, 17.08it/s]"
     ]
    },
    {
     "name": "stderr",
     "output_type": "stream",
     "text": [
      "\r",
      "Sampling chain 0, 0 divergences:   9%|▉         | 91/1000 [00:06<00:53, 17.12it/s]"
     ]
    },
    {
     "name": "stderr",
     "output_type": "stream",
     "text": [
      "\r",
      "Sampling chain 0, 0 divergences:   9%|▉         | 93/1000 [00:06<00:52, 17.25it/s]"
     ]
    },
    {
     "name": "stderr",
     "output_type": "stream",
     "text": [
      "\r",
      "Sampling chain 0, 0 divergences:  10%|▉         | 95/1000 [00:06<00:52, 17.31it/s]"
     ]
    },
    {
     "name": "stderr",
     "output_type": "stream",
     "text": [
      "\r",
      "Sampling chain 0, 0 divergences:  10%|▉         | 97/1000 [00:06<00:52, 17.31it/s]"
     ]
    },
    {
     "name": "stderr",
     "output_type": "stream",
     "text": [
      "\r",
      "Sampling chain 0, 0 divergences:  10%|▉         | 99/1000 [00:06<00:52, 17.20it/s]"
     ]
    },
    {
     "name": "stderr",
     "output_type": "stream",
     "text": [
      "\r",
      "Sampling chain 0, 0 divergences:  10%|█         | 101/1000 [00:06<00:51, 17.31it/s]"
     ]
    },
    {
     "name": "stderr",
     "output_type": "stream",
     "text": [
      "\r",
      "Sampling chain 0, 0 divergences:  10%|█         | 103/1000 [00:06<00:51, 17.47it/s]"
     ]
    },
    {
     "name": "stderr",
     "output_type": "stream",
     "text": [
      "\r",
      "Sampling chain 0, 0 divergences:  10%|█         | 105/1000 [00:06<00:51, 17.51it/s]"
     ]
    },
    {
     "name": "stderr",
     "output_type": "stream",
     "text": [
      "\r",
      "Sampling chain 0, 0 divergences:  11%|█         | 107/1000 [00:07<00:50, 17.64it/s]"
     ]
    },
    {
     "name": "stderr",
     "output_type": "stream",
     "text": [
      "\r",
      "Sampling chain 0, 0 divergences:  11%|█         | 109/1000 [00:07<00:51, 17.45it/s]"
     ]
    },
    {
     "name": "stderr",
     "output_type": "stream",
     "text": [
      "\r",
      "Sampling chain 0, 0 divergences:  11%|█         | 111/1000 [00:07<00:50, 17.61it/s]"
     ]
    },
    {
     "name": "stderr",
     "output_type": "stream",
     "text": [
      "\r",
      "Sampling chain 0, 0 divergences:  11%|█▏        | 113/1000 [00:07<00:50, 17.69it/s]"
     ]
    },
    {
     "name": "stderr",
     "output_type": "stream",
     "text": [
      "\r",
      "Sampling chain 0, 0 divergences:  12%|█▏        | 115/1000 [00:07<00:50, 17.57it/s]"
     ]
    },
    {
     "name": "stderr",
     "output_type": "stream",
     "text": [
      "\r",
      "Sampling chain 0, 0 divergences:  12%|█▏        | 117/1000 [00:07<00:52, 16.80it/s]"
     ]
    },
    {
     "name": "stderr",
     "output_type": "stream",
     "text": [
      "\r",
      "Sampling chain 0, 0 divergences:  12%|█▏        | 119/1000 [00:07<00:52, 16.67it/s]"
     ]
    },
    {
     "name": "stderr",
     "output_type": "stream",
     "text": [
      "\r",
      "Sampling chain 0, 0 divergences:  12%|█▏        | 121/1000 [00:07<00:51, 17.06it/s]"
     ]
    },
    {
     "name": "stderr",
     "output_type": "stream",
     "text": [
      "\r",
      "Sampling chain 0, 0 divergences:  12%|█▏        | 123/1000 [00:08<00:52, 16.71it/s]"
     ]
    },
    {
     "name": "stderr",
     "output_type": "stream",
     "text": [
      "\r",
      "Sampling chain 0, 0 divergences:  12%|█▎        | 125/1000 [00:08<00:51, 16.86it/s]"
     ]
    },
    {
     "name": "stderr",
     "output_type": "stream",
     "text": [
      "\r",
      "Sampling chain 0, 0 divergences:  13%|█▎        | 127/1000 [00:08<00:51, 16.80it/s]"
     ]
    },
    {
     "name": "stderr",
     "output_type": "stream",
     "text": [
      "\r",
      "Sampling chain 0, 0 divergences:  13%|█▎        | 129/1000 [00:08<00:50, 17.12it/s]"
     ]
    },
    {
     "name": "stderr",
     "output_type": "stream",
     "text": [
      "\r",
      "Sampling chain 0, 0 divergences:  13%|█▎        | 131/1000 [00:08<00:50, 17.37it/s]"
     ]
    },
    {
     "name": "stderr",
     "output_type": "stream",
     "text": [
      "\r",
      "Sampling chain 0, 0 divergences:  13%|█▎        | 133/1000 [00:08<00:49, 17.59it/s]"
     ]
    },
    {
     "name": "stderr",
     "output_type": "stream",
     "text": [
      "\r",
      "Sampling chain 0, 0 divergences:  14%|█▎        | 135/1000 [00:08<00:49, 17.50it/s]"
     ]
    },
    {
     "name": "stderr",
     "output_type": "stream",
     "text": [
      "\r",
      "Sampling chain 0, 0 divergences:  14%|█▎        | 137/1000 [00:08<00:49, 17.39it/s]"
     ]
    },
    {
     "name": "stderr",
     "output_type": "stream",
     "text": [
      "\r",
      "Sampling chain 0, 0 divergences:  14%|█▍        | 139/1000 [00:08<00:49, 17.47it/s]"
     ]
    },
    {
     "name": "stderr",
     "output_type": "stream",
     "text": [
      "\r",
      "Sampling chain 0, 0 divergences:  14%|█▍        | 141/1000 [00:09<00:49, 17.30it/s]"
     ]
    },
    {
     "name": "stderr",
     "output_type": "stream",
     "text": [
      "\r",
      "Sampling chain 0, 0 divergences:  14%|█▍        | 143/1000 [00:09<00:49, 17.15it/s]"
     ]
    },
    {
     "name": "stderr",
     "output_type": "stream",
     "text": [
      "\r",
      "Sampling chain 0, 0 divergences:  14%|█▍        | 145/1000 [00:09<00:49, 17.17it/s]"
     ]
    },
    {
     "name": "stderr",
     "output_type": "stream",
     "text": [
      "\r",
      "Sampling chain 0, 0 divergences:  15%|█▍        | 147/1000 [00:09<00:50, 16.99it/s]"
     ]
    },
    {
     "name": "stderr",
     "output_type": "stream",
     "text": [
      "\r",
      "Sampling chain 0, 0 divergences:  15%|█▍        | 149/1000 [00:09<00:49, 17.11it/s]"
     ]
    },
    {
     "name": "stderr",
     "output_type": "stream",
     "text": [
      "\r",
      "Sampling chain 0, 0 divergences:  15%|█▌        | 151/1000 [00:09<00:49, 17.32it/s]"
     ]
    },
    {
     "name": "stderr",
     "output_type": "stream",
     "text": [
      "\r",
      "Sampling chain 0, 0 divergences:  15%|█▌        | 153/1000 [00:09<00:49, 17.14it/s]"
     ]
    },
    {
     "name": "stderr",
     "output_type": "stream",
     "text": [
      "\r",
      "Sampling chain 0, 0 divergences:  16%|█▌        | 155/1000 [00:09<00:51, 16.48it/s]"
     ]
    },
    {
     "name": "stderr",
     "output_type": "stream",
     "text": [
      "\r",
      "Sampling chain 0, 0 divergences:  16%|█▌        | 157/1000 [00:10<00:51, 16.39it/s]"
     ]
    },
    {
     "name": "stderr",
     "output_type": "stream",
     "text": [
      "\r",
      "Sampling chain 0, 0 divergences:  16%|█▌        | 159/1000 [00:10<00:49, 16.87it/s]"
     ]
    },
    {
     "name": "stderr",
     "output_type": "stream",
     "text": [
      "\r",
      "Sampling chain 0, 0 divergences:  16%|█▌        | 161/1000 [00:10<00:49, 17.09it/s]"
     ]
    },
    {
     "name": "stderr",
     "output_type": "stream",
     "text": [
      "\r",
      "Sampling chain 0, 0 divergences:  16%|█▋        | 163/1000 [00:10<00:48, 17.29it/s]"
     ]
    },
    {
     "name": "stderr",
     "output_type": "stream",
     "text": [
      "\r",
      "Sampling chain 0, 0 divergences:  16%|█▋        | 165/1000 [00:10<00:47, 17.44it/s]"
     ]
    },
    {
     "name": "stderr",
     "output_type": "stream",
     "text": [
      "\r",
      "Sampling chain 0, 0 divergences:  17%|█▋        | 167/1000 [00:10<00:47, 17.61it/s]"
     ]
    },
    {
     "name": "stderr",
     "output_type": "stream",
     "text": [
      "\r",
      "Sampling chain 0, 0 divergences:  17%|█▋        | 169/1000 [00:10<00:47, 17.67it/s]"
     ]
    },
    {
     "name": "stderr",
     "output_type": "stream",
     "text": [
      "\r",
      "Sampling chain 0, 0 divergences:  17%|█▋        | 171/1000 [00:10<00:47, 17.45it/s]"
     ]
    },
    {
     "name": "stderr",
     "output_type": "stream",
     "text": [
      "\r",
      "Sampling chain 0, 0 divergences:  17%|█▋        | 173/1000 [00:10<00:47, 17.55it/s]"
     ]
    },
    {
     "name": "stderr",
     "output_type": "stream",
     "text": [
      "\r",
      "Sampling chain 0, 0 divergences:  18%|█▊        | 175/1000 [00:11<00:46, 17.56it/s]"
     ]
    },
    {
     "name": "stderr",
     "output_type": "stream",
     "text": [
      "\r",
      "Sampling chain 0, 0 divergences:  18%|█▊        | 177/1000 [00:11<00:46, 17.59it/s]"
     ]
    },
    {
     "name": "stderr",
     "output_type": "stream",
     "text": [
      "\r",
      "Sampling chain 0, 0 divergences:  18%|█▊        | 179/1000 [00:11<00:47, 17.45it/s]"
     ]
    },
    {
     "name": "stderr",
     "output_type": "stream",
     "text": [
      "\r",
      "Sampling chain 0, 0 divergences:  18%|█▊        | 181/1000 [00:11<00:46, 17.52it/s]"
     ]
    },
    {
     "name": "stderr",
     "output_type": "stream",
     "text": [
      "\r",
      "Sampling chain 0, 0 divergences:  18%|█▊        | 183/1000 [00:11<00:46, 17.61it/s]"
     ]
    },
    {
     "name": "stderr",
     "output_type": "stream",
     "text": [
      "\r",
      "Sampling chain 0, 0 divergences:  18%|█▊        | 185/1000 [00:11<00:45, 17.73it/s]"
     ]
    },
    {
     "name": "stderr",
     "output_type": "stream",
     "text": [
      "\r",
      "Sampling chain 0, 0 divergences:  19%|█▊        | 187/1000 [00:11<00:45, 17.76it/s]"
     ]
    },
    {
     "name": "stderr",
     "output_type": "stream",
     "text": [
      "\r",
      "Sampling chain 0, 0 divergences:  19%|█▉        | 189/1000 [00:11<00:45, 17.66it/s]"
     ]
    },
    {
     "name": "stderr",
     "output_type": "stream",
     "text": [
      "\r",
      "Sampling chain 0, 0 divergences:  19%|█▉        | 191/1000 [00:11<00:45, 17.69it/s]"
     ]
    },
    {
     "name": "stderr",
     "output_type": "stream",
     "text": [
      "\r",
      "Sampling chain 0, 0 divergences:  19%|█▉        | 193/1000 [00:12<00:45, 17.72it/s]"
     ]
    },
    {
     "name": "stderr",
     "output_type": "stream",
     "text": [
      "\r",
      "Sampling chain 0, 0 divergences:  20%|█▉        | 195/1000 [00:12<00:45, 17.67it/s]"
     ]
    },
    {
     "name": "stderr",
     "output_type": "stream",
     "text": [
      "\r",
      "Sampling chain 0, 0 divergences:  20%|█▉        | 197/1000 [00:12<00:47, 16.78it/s]"
     ]
    },
    {
     "name": "stderr",
     "output_type": "stream",
     "text": [
      "\r",
      "Sampling chain 0, 0 divergences:  20%|█▉        | 199/1000 [00:12<00:49, 16.24it/s]"
     ]
    },
    {
     "name": "stderr",
     "output_type": "stream",
     "text": [
      "\r",
      "Sampling chain 0, 0 divergences:  20%|██        | 201/1000 [00:12<01:07, 11.82it/s]"
     ]
    },
    {
     "name": "stderr",
     "output_type": "stream",
     "text": [
      "\r",
      "Sampling chain 0, 0 divergences:  20%|██        | 203/1000 [00:13<01:39,  8.02it/s]"
     ]
    },
    {
     "name": "stderr",
     "output_type": "stream",
     "text": [
      "\r",
      "Sampling chain 0, 0 divergences:  20%|██        | 205/1000 [00:13<02:08,  6.19it/s]"
     ]
    },
    {
     "name": "stderr",
     "output_type": "stream",
     "text": [
      "\r",
      "Sampling chain 0, 0 divergences:  21%|██        | 206/1000 [00:13<02:23,  5.54it/s]"
     ]
    },
    {
     "name": "stderr",
     "output_type": "stream",
     "text": [
      "\r",
      "Sampling chain 0, 0 divergences:  21%|██        | 207/1000 [00:14<02:34,  5.12it/s]"
     ]
    },
    {
     "name": "stderr",
     "output_type": "stream",
     "text": [
      "\r",
      "Sampling chain 0, 0 divergences:  21%|██        | 208/1000 [00:14<02:42,  4.88it/s]"
     ]
    },
    {
     "name": "stderr",
     "output_type": "stream",
     "text": [
      "\r",
      "Sampling chain 0, 0 divergences:  21%|██        | 209/1000 [00:14<02:46,  4.75it/s]"
     ]
    },
    {
     "name": "stderr",
     "output_type": "stream",
     "text": [
      "\r",
      "Sampling chain 0, 0 divergences:  21%|██        | 210/1000 [00:14<02:48,  4.69it/s]"
     ]
    },
    {
     "name": "stderr",
     "output_type": "stream",
     "text": [
      "\r",
      "Sampling chain 0, 0 divergences:  21%|██        | 211/1000 [00:14<02:50,  4.61it/s]"
     ]
    },
    {
     "name": "stderr",
     "output_type": "stream",
     "text": [
      "\r",
      "Sampling chain 0, 0 divergences:  21%|██        | 212/1000 [00:15<02:51,  4.59it/s]"
     ]
    },
    {
     "name": "stderr",
     "output_type": "stream",
     "text": [
      "\r",
      "Sampling chain 0, 0 divergences:  21%|██▏       | 213/1000 [00:15<02:52,  4.57it/s]"
     ]
    },
    {
     "name": "stderr",
     "output_type": "stream",
     "text": [
      "\r",
      "Sampling chain 0, 0 divergences:  21%|██▏       | 214/1000 [00:15<03:03,  4.27it/s]"
     ]
    },
    {
     "name": "stderr",
     "output_type": "stream",
     "text": [
      "\r",
      "Sampling chain 0, 0 divergences:  22%|██▏       | 215/1000 [00:15<03:13,  4.05it/s]"
     ]
    },
    {
     "name": "stderr",
     "output_type": "stream",
     "text": [
      "\r",
      "Sampling chain 0, 0 divergences:  22%|██▏       | 216/1000 [00:16<03:08,  4.15it/s]"
     ]
    },
    {
     "name": "stderr",
     "output_type": "stream",
     "text": [
      "\r",
      "Sampling chain 0, 0 divergences:  22%|██▏       | 217/1000 [00:16<03:04,  4.24it/s]"
     ]
    },
    {
     "name": "stderr",
     "output_type": "stream",
     "text": [
      "\r",
      "Sampling chain 0, 0 divergences:  22%|██▏       | 218/1000 [00:16<03:04,  4.25it/s]"
     ]
    },
    {
     "name": "stderr",
     "output_type": "stream",
     "text": [
      "\r",
      "Sampling chain 0, 0 divergences:  22%|██▏       | 219/1000 [00:16<03:10,  4.10it/s]"
     ]
    },
    {
     "name": "stderr",
     "output_type": "stream",
     "text": [
      "\r",
      "Sampling chain 0, 0 divergences:  22%|██▏       | 220/1000 [00:17<03:08,  4.14it/s]"
     ]
    },
    {
     "name": "stderr",
     "output_type": "stream",
     "text": [
      "\r",
      "Sampling chain 0, 0 divergences:  22%|██▏       | 221/1000 [00:17<03:09,  4.10it/s]"
     ]
    },
    {
     "name": "stderr",
     "output_type": "stream",
     "text": [
      "\r",
      "Sampling chain 0, 0 divergences:  22%|██▏       | 222/1000 [00:17<03:06,  4.18it/s]"
     ]
    },
    {
     "name": "stderr",
     "output_type": "stream",
     "text": [
      "\r",
      "Sampling chain 0, 0 divergences:  22%|██▏       | 223/1000 [00:17<03:03,  4.23it/s]"
     ]
    },
    {
     "name": "stderr",
     "output_type": "stream",
     "text": [
      "\r",
      "Sampling chain 0, 0 divergences:  22%|██▏       | 224/1000 [00:18<03:00,  4.31it/s]"
     ]
    },
    {
     "name": "stderr",
     "output_type": "stream",
     "text": [
      "\r",
      "Sampling chain 0, 0 divergences:  22%|██▎       | 225/1000 [00:18<02:58,  4.35it/s]"
     ]
    },
    {
     "name": "stderr",
     "output_type": "stream",
     "text": [
      "\r",
      "Sampling chain 0, 0 divergences:  23%|██▎       | 226/1000 [00:18<02:57,  4.37it/s]"
     ]
    },
    {
     "name": "stderr",
     "output_type": "stream",
     "text": [
      "\r",
      "Sampling chain 0, 0 divergences:  23%|██▎       | 227/1000 [00:18<02:56,  4.37it/s]"
     ]
    },
    {
     "name": "stderr",
     "output_type": "stream",
     "text": [
      "\r",
      "Sampling chain 0, 0 divergences:  23%|██▎       | 228/1000 [00:19<02:59,  4.31it/s]"
     ]
    },
    {
     "name": "stderr",
     "output_type": "stream",
     "text": [
      "\r",
      "Sampling chain 0, 0 divergences:  23%|██▎       | 229/1000 [00:19<02:57,  4.35it/s]"
     ]
    },
    {
     "name": "stderr",
     "output_type": "stream",
     "text": [
      "\r",
      "Sampling chain 0, 0 divergences:  23%|██▎       | 230/1000 [00:19<02:58,  4.31it/s]"
     ]
    },
    {
     "name": "stderr",
     "output_type": "stream",
     "text": [
      "\r",
      "Sampling chain 0, 0 divergences:  23%|██▎       | 231/1000 [00:19<02:57,  4.34it/s]"
     ]
    },
    {
     "name": "stderr",
     "output_type": "stream",
     "text": [
      "\r",
      "Sampling chain 0, 0 divergences:  23%|██▎       | 232/1000 [00:19<02:56,  4.36it/s]"
     ]
    },
    {
     "name": "stderr",
     "output_type": "stream",
     "text": [
      "\r",
      "Sampling chain 0, 0 divergences:  23%|██▎       | 233/1000 [00:20<02:53,  4.43it/s]"
     ]
    },
    {
     "name": "stderr",
     "output_type": "stream",
     "text": [
      "\r",
      "Sampling chain 0, 0 divergences:  23%|██▎       | 234/1000 [00:20<02:51,  4.47it/s]"
     ]
    },
    {
     "name": "stderr",
     "output_type": "stream",
     "text": [
      "\r",
      "Sampling chain 0, 0 divergences:  24%|██▎       | 235/1000 [00:20<02:52,  4.43it/s]"
     ]
    },
    {
     "name": "stderr",
     "output_type": "stream",
     "text": [
      "\r",
      "Sampling chain 0, 0 divergences:  24%|██▎       | 236/1000 [00:20<02:51,  4.46it/s]"
     ]
    },
    {
     "name": "stderr",
     "output_type": "stream",
     "text": [
      "\r",
      "Sampling chain 0, 0 divergences:  24%|██▎       | 237/1000 [00:21<02:52,  4.41it/s]"
     ]
    },
    {
     "name": "stderr",
     "output_type": "stream",
     "text": [
      "\r",
      "Sampling chain 0, 0 divergences:  24%|██▍       | 238/1000 [00:21<02:51,  4.45it/s]"
     ]
    },
    {
     "name": "stderr",
     "output_type": "stream",
     "text": [
      "\r",
      "Sampling chain 0, 0 divergences:  24%|██▍       | 239/1000 [00:21<02:59,  4.25it/s]"
     ]
    },
    {
     "name": "stderr",
     "output_type": "stream",
     "text": [
      "\r",
      "Sampling chain 0, 0 divergences:  24%|██▍       | 240/1000 [00:21<02:56,  4.30it/s]"
     ]
    },
    {
     "name": "stderr",
     "output_type": "stream",
     "text": [
      "\r",
      "Sampling chain 0, 0 divergences:  24%|██▍       | 241/1000 [00:21<02:56,  4.31it/s]"
     ]
    },
    {
     "name": "stderr",
     "output_type": "stream",
     "text": [
      "\r",
      "Sampling chain 0, 0 divergences:  24%|██▍       | 242/1000 [00:22<02:56,  4.31it/s]"
     ]
    },
    {
     "name": "stderr",
     "output_type": "stream",
     "text": [
      "\r",
      "Sampling chain 0, 0 divergences:  24%|██▍       | 243/1000 [00:22<02:57,  4.26it/s]"
     ]
    },
    {
     "name": "stderr",
     "output_type": "stream",
     "text": [
      "\r",
      "Sampling chain 0, 0 divergences:  24%|██▍       | 244/1000 [00:22<02:54,  4.34it/s]"
     ]
    },
    {
     "name": "stderr",
     "output_type": "stream",
     "text": [
      "\r",
      "Sampling chain 0, 0 divergences:  24%|██▍       | 245/1000 [00:22<02:53,  4.36it/s]"
     ]
    },
    {
     "name": "stderr",
     "output_type": "stream",
     "text": [
      "\r",
      "Sampling chain 0, 0 divergences:  25%|██▍       | 246/1000 [00:23<02:51,  4.39it/s]"
     ]
    },
    {
     "name": "stderr",
     "output_type": "stream",
     "text": [
      "\r",
      "Sampling chain 0, 0 divergences:  25%|██▍       | 247/1000 [00:23<02:52,  4.37it/s]"
     ]
    },
    {
     "name": "stderr",
     "output_type": "stream",
     "text": [
      "\r",
      "Sampling chain 0, 0 divergences:  25%|██▍       | 248/1000 [00:23<02:50,  4.40it/s]"
     ]
    },
    {
     "name": "stderr",
     "output_type": "stream",
     "text": [
      "\r",
      "Sampling chain 0, 0 divergences:  25%|██▍       | 249/1000 [00:23<02:50,  4.40it/s]"
     ]
    },
    {
     "name": "stderr",
     "output_type": "stream",
     "text": [
      "\r",
      "Sampling chain 0, 0 divergences:  25%|██▌       | 250/1000 [00:24<02:51,  4.37it/s]"
     ]
    },
    {
     "name": "stderr",
     "output_type": "stream",
     "text": [
      "\r",
      "Sampling chain 0, 0 divergences:  25%|██▌       | 251/1000 [00:24<02:50,  4.39it/s]"
     ]
    },
    {
     "name": "stderr",
     "output_type": "stream",
     "text": [
      "\r",
      "Sampling chain 0, 0 divergences:  25%|██▌       | 252/1000 [00:24<02:53,  4.32it/s]"
     ]
    },
    {
     "name": "stderr",
     "output_type": "stream",
     "text": [
      "\r",
      "Sampling chain 0, 0 divergences:  25%|██▌       | 253/1000 [00:24<02:51,  4.35it/s]"
     ]
    },
    {
     "name": "stderr",
     "output_type": "stream",
     "text": [
      "\r",
      "Sampling chain 0, 0 divergences:  25%|██▌       | 254/1000 [00:24<02:54,  4.28it/s]"
     ]
    },
    {
     "name": "stderr",
     "output_type": "stream",
     "text": [
      "\r",
      "Sampling chain 0, 0 divergences:  26%|██▌       | 255/1000 [00:25<02:52,  4.31it/s]"
     ]
    },
    {
     "name": "stderr",
     "output_type": "stream",
     "text": [
      "\r",
      "Sampling chain 0, 0 divergences:  26%|██▌       | 256/1000 [00:25<02:51,  4.35it/s]"
     ]
    },
    {
     "name": "stderr",
     "output_type": "stream",
     "text": [
      "\r",
      "Sampling chain 0, 0 divergences:  26%|██▌       | 257/1000 [00:25<02:50,  4.36it/s]"
     ]
    },
    {
     "name": "stderr",
     "output_type": "stream",
     "text": [
      "\r",
      "Sampling chain 0, 0 divergences:  26%|██▌       | 258/1000 [00:25<02:56,  4.22it/s]"
     ]
    },
    {
     "name": "stderr",
     "output_type": "stream",
     "text": [
      "\r",
      "Sampling chain 0, 0 divergences:  26%|██▌       | 259/1000 [00:26<03:03,  4.04it/s]"
     ]
    },
    {
     "name": "stderr",
     "output_type": "stream",
     "text": [
      "\r",
      "Sampling chain 0, 0 divergences:  26%|██▌       | 260/1000 [00:26<03:00,  4.10it/s]"
     ]
    },
    {
     "name": "stderr",
     "output_type": "stream",
     "text": [
      "\r",
      "Sampling chain 0, 0 divergences:  26%|██▌       | 261/1000 [00:26<02:56,  4.18it/s]"
     ]
    },
    {
     "name": "stderr",
     "output_type": "stream",
     "text": [
      "\r",
      "Sampling chain 0, 0 divergences:  26%|██▌       | 262/1000 [00:26<02:52,  4.28it/s]"
     ]
    },
    {
     "name": "stderr",
     "output_type": "stream",
     "text": [
      "\r",
      "Sampling chain 0, 0 divergences:  26%|██▋       | 263/1000 [00:27<02:53,  4.26it/s]"
     ]
    },
    {
     "name": "stderr",
     "output_type": "stream",
     "text": [
      "\r",
      "Sampling chain 0, 0 divergences:  26%|██▋       | 264/1000 [00:27<02:50,  4.33it/s]"
     ]
    },
    {
     "name": "stderr",
     "output_type": "stream",
     "text": [
      "\r",
      "Sampling chain 0, 0 divergences:  26%|██▋       | 265/1000 [00:27<02:48,  4.36it/s]"
     ]
    },
    {
     "name": "stderr",
     "output_type": "stream",
     "text": [
      "\r",
      "Sampling chain 0, 0 divergences:  27%|██▋       | 266/1000 [00:27<02:46,  4.42it/s]"
     ]
    },
    {
     "name": "stderr",
     "output_type": "stream",
     "text": [
      "\r",
      "Sampling chain 0, 0 divergences:  27%|██▋       | 267/1000 [00:27<02:44,  4.46it/s]"
     ]
    },
    {
     "name": "stderr",
     "output_type": "stream",
     "text": [
      "\r",
      "Sampling chain 0, 0 divergences:  27%|██▋       | 268/1000 [00:28<02:44,  4.46it/s]"
     ]
    },
    {
     "name": "stderr",
     "output_type": "stream",
     "text": [
      "\r",
      "Sampling chain 0, 0 divergences:  27%|██▋       | 269/1000 [00:28<02:45,  4.42it/s]"
     ]
    },
    {
     "name": "stderr",
     "output_type": "stream",
     "text": [
      "\r",
      "Sampling chain 0, 0 divergences:  27%|██▋       | 270/1000 [00:28<02:49,  4.32it/s]"
     ]
    },
    {
     "name": "stderr",
     "output_type": "stream",
     "text": [
      "\r",
      "Sampling chain 0, 0 divergences:  27%|██▋       | 271/1000 [00:28<02:49,  4.31it/s]"
     ]
    },
    {
     "name": "stderr",
     "output_type": "stream",
     "text": [
      "\r",
      "Sampling chain 0, 0 divergences:  27%|██▋       | 272/1000 [00:29<02:57,  4.10it/s]"
     ]
    },
    {
     "name": "stderr",
     "output_type": "stream",
     "text": [
      "\r",
      "Sampling chain 0, 0 divergences:  27%|██▋       | 273/1000 [00:29<03:01,  4.00it/s]"
     ]
    },
    {
     "name": "stderr",
     "output_type": "stream",
     "text": [
      "\r",
      "Sampling chain 0, 0 divergences:  27%|██▋       | 274/1000 [00:29<03:00,  4.03it/s]"
     ]
    },
    {
     "name": "stderr",
     "output_type": "stream",
     "text": [
      "\r",
      "Sampling chain 0, 0 divergences:  28%|██▊       | 275/1000 [00:29<02:56,  4.12it/s]"
     ]
    },
    {
     "name": "stderr",
     "output_type": "stream",
     "text": [
      "\r",
      "Sampling chain 0, 0 divergences:  28%|██▊       | 276/1000 [00:30<02:53,  4.16it/s]"
     ]
    },
    {
     "name": "stderr",
     "output_type": "stream",
     "text": [
      "\r",
      "Sampling chain 0, 0 divergences:  28%|██▊       | 277/1000 [00:30<02:52,  4.20it/s]"
     ]
    },
    {
     "name": "stderr",
     "output_type": "stream",
     "text": [
      "\r",
      "Sampling chain 0, 0 divergences:  28%|██▊       | 278/1000 [00:30<02:48,  4.28it/s]"
     ]
    },
    {
     "name": "stderr",
     "output_type": "stream",
     "text": [
      "\r",
      "Sampling chain 0, 0 divergences:  28%|██▊       | 279/1000 [00:30<02:45,  4.35it/s]"
     ]
    },
    {
     "name": "stderr",
     "output_type": "stream",
     "text": [
      "\r",
      "Sampling chain 0, 0 divergences:  28%|██▊       | 280/1000 [00:31<02:43,  4.40it/s]"
     ]
    },
    {
     "name": "stderr",
     "output_type": "stream",
     "text": [
      "\r",
      "Sampling chain 0, 0 divergences:  28%|██▊       | 281/1000 [00:31<02:43,  4.41it/s]"
     ]
    },
    {
     "name": "stderr",
     "output_type": "stream",
     "text": [
      "\r",
      "Sampling chain 0, 0 divergences:  28%|██▊       | 282/1000 [00:31<02:41,  4.46it/s]"
     ]
    },
    {
     "name": "stderr",
     "output_type": "stream",
     "text": [
      "\r",
      "Sampling chain 0, 0 divergences:  28%|██▊       | 283/1000 [00:31<02:42,  4.42it/s]"
     ]
    },
    {
     "name": "stderr",
     "output_type": "stream",
     "text": [
      "\r",
      "Sampling chain 0, 0 divergences:  28%|██▊       | 284/1000 [00:31<02:45,  4.33it/s]"
     ]
    },
    {
     "name": "stderr",
     "output_type": "stream",
     "text": [
      "\r",
      "Sampling chain 0, 0 divergences:  28%|██▊       | 285/1000 [00:32<02:44,  4.34it/s]"
     ]
    },
    {
     "name": "stderr",
     "output_type": "stream",
     "text": [
      "\r",
      "Sampling chain 0, 0 divergences:  29%|██▊       | 286/1000 [00:32<02:42,  4.40it/s]"
     ]
    },
    {
     "name": "stderr",
     "output_type": "stream",
     "text": [
      "\r",
      "Sampling chain 0, 0 divergences:  29%|██▊       | 287/1000 [00:32<02:41,  4.41it/s]"
     ]
    },
    {
     "name": "stderr",
     "output_type": "stream",
     "text": [
      "\r",
      "Sampling chain 0, 0 divergences:  29%|██▉       | 288/1000 [00:32<02:40,  4.44it/s]"
     ]
    },
    {
     "name": "stderr",
     "output_type": "stream",
     "text": [
      "\r",
      "Sampling chain 0, 0 divergences:  29%|██▉       | 289/1000 [00:33<02:38,  4.49it/s]"
     ]
    },
    {
     "name": "stderr",
     "output_type": "stream",
     "text": [
      "\r",
      "Sampling chain 0, 0 divergences:  29%|██▉       | 290/1000 [00:33<02:39,  4.45it/s]"
     ]
    },
    {
     "name": "stderr",
     "output_type": "stream",
     "text": [
      "\r",
      "Sampling chain 0, 0 divergences:  29%|██▉       | 291/1000 [00:33<02:41,  4.38it/s]"
     ]
    },
    {
     "name": "stderr",
     "output_type": "stream",
     "text": [
      "\r",
      "Sampling chain 0, 0 divergences:  29%|██▉       | 292/1000 [00:33<02:40,  4.40it/s]"
     ]
    },
    {
     "name": "stderr",
     "output_type": "stream",
     "text": [
      "\r",
      "Sampling chain 0, 0 divergences:  29%|██▉       | 293/1000 [00:34<02:39,  4.44it/s]"
     ]
    },
    {
     "name": "stderr",
     "output_type": "stream",
     "text": [
      "\r",
      "Sampling chain 0, 0 divergences:  29%|██▉       | 294/1000 [00:34<02:39,  4.42it/s]"
     ]
    },
    {
     "name": "stderr",
     "output_type": "stream",
     "text": [
      "\r",
      "Sampling chain 0, 0 divergences:  30%|██▉       | 295/1000 [00:34<02:38,  4.46it/s]"
     ]
    },
    {
     "name": "stderr",
     "output_type": "stream",
     "text": [
      "\r",
      "Sampling chain 0, 0 divergences:  30%|██▉       | 296/1000 [00:34<02:38,  4.43it/s]"
     ]
    },
    {
     "name": "stderr",
     "output_type": "stream",
     "text": [
      "\r",
      "Sampling chain 0, 0 divergences:  30%|██▉       | 297/1000 [00:34<02:46,  4.22it/s]"
     ]
    },
    {
     "name": "stderr",
     "output_type": "stream",
     "text": [
      "\r",
      "Sampling chain 0, 0 divergences:  30%|██▉       | 298/1000 [00:35<02:47,  4.18it/s]"
     ]
    },
    {
     "name": "stderr",
     "output_type": "stream",
     "text": [
      "\r",
      "Sampling chain 0, 0 divergences:  30%|██▉       | 299/1000 [00:35<02:45,  4.24it/s]"
     ]
    },
    {
     "name": "stderr",
     "output_type": "stream",
     "text": [
      "\r",
      "Sampling chain 0, 0 divergences:  30%|███       | 300/1000 [00:35<02:41,  4.34it/s]"
     ]
    },
    {
     "name": "stderr",
     "output_type": "stream",
     "text": [
      "\r",
      "Sampling chain 0, 0 divergences:  30%|███       | 301/1000 [00:35<02:39,  4.37it/s]"
     ]
    },
    {
     "name": "stderr",
     "output_type": "stream",
     "text": [
      "\r",
      "Sampling chain 0, 0 divergences:  30%|███       | 302/1000 [00:36<02:38,  4.42it/s]"
     ]
    },
    {
     "name": "stderr",
     "output_type": "stream",
     "text": [
      "\r",
      "Sampling chain 0, 0 divergences:  30%|███       | 303/1000 [00:36<02:37,  4.42it/s]"
     ]
    },
    {
     "name": "stderr",
     "output_type": "stream",
     "text": [
      "\r",
      "Sampling chain 0, 0 divergences:  30%|███       | 304/1000 [00:36<02:36,  4.45it/s]"
     ]
    },
    {
     "name": "stderr",
     "output_type": "stream",
     "text": [
      "\r",
      "Sampling chain 0, 0 divergences:  30%|███       | 305/1000 [00:36<02:36,  4.45it/s]"
     ]
    },
    {
     "name": "stderr",
     "output_type": "stream",
     "text": [
      "\r",
      "Sampling chain 0, 0 divergences:  31%|███       | 306/1000 [00:36<02:35,  4.47it/s]"
     ]
    },
    {
     "name": "stderr",
     "output_type": "stream",
     "text": [
      "\r",
      "Sampling chain 0, 0 divergences:  31%|███       | 307/1000 [00:37<02:34,  4.48it/s]"
     ]
    },
    {
     "name": "stderr",
     "output_type": "stream",
     "text": [
      "\r",
      "Sampling chain 0, 0 divergences:  31%|███       | 308/1000 [00:37<02:41,  4.28it/s]"
     ]
    },
    {
     "name": "stderr",
     "output_type": "stream",
     "text": [
      "\r",
      "Sampling chain 0, 0 divergences:  31%|███       | 309/1000 [00:37<02:39,  4.33it/s]"
     ]
    },
    {
     "name": "stderr",
     "output_type": "stream",
     "text": [
      "\r",
      "Sampling chain 0, 0 divergences:  31%|███       | 310/1000 [00:37<02:37,  4.38it/s]"
     ]
    },
    {
     "name": "stderr",
     "output_type": "stream",
     "text": [
      "\r",
      "Sampling chain 0, 0 divergences:  31%|███       | 311/1000 [00:38<02:35,  4.43it/s]"
     ]
    },
    {
     "name": "stderr",
     "output_type": "stream",
     "text": [
      "\r",
      "Sampling chain 0, 0 divergences:  31%|███       | 312/1000 [00:38<02:40,  4.29it/s]"
     ]
    },
    {
     "name": "stderr",
     "output_type": "stream",
     "text": [
      "\r",
      "Sampling chain 0, 0 divergences:  31%|███▏      | 313/1000 [00:38<02:37,  4.37it/s]"
     ]
    },
    {
     "name": "stderr",
     "output_type": "stream",
     "text": [
      "\r",
      "Sampling chain 0, 0 divergences:  31%|███▏      | 314/1000 [00:38<02:34,  4.43it/s]"
     ]
    },
    {
     "name": "stderr",
     "output_type": "stream",
     "text": [
      "\r",
      "Sampling chain 0, 0 divergences:  32%|███▏      | 315/1000 [00:39<02:33,  4.45it/s]"
     ]
    },
    {
     "name": "stderr",
     "output_type": "stream",
     "text": [
      "\r",
      "Sampling chain 0, 0 divergences:  32%|███▏      | 316/1000 [00:39<02:34,  4.43it/s]"
     ]
    },
    {
     "name": "stderr",
     "output_type": "stream",
     "text": [
      "\r",
      "Sampling chain 0, 0 divergences:  32%|███▏      | 317/1000 [00:39<02:41,  4.22it/s]"
     ]
    },
    {
     "name": "stderr",
     "output_type": "stream",
     "text": [
      "\r",
      "Sampling chain 0, 0 divergences:  32%|███▏      | 318/1000 [00:39<02:38,  4.29it/s]"
     ]
    },
    {
     "name": "stderr",
     "output_type": "stream",
     "text": [
      "\r",
      "Sampling chain 0, 0 divergences:  32%|███▏      | 319/1000 [00:39<02:36,  4.36it/s]"
     ]
    },
    {
     "name": "stderr",
     "output_type": "stream",
     "text": [
      "\r",
      "Sampling chain 0, 0 divergences:  32%|███▏      | 320/1000 [00:40<02:40,  4.23it/s]"
     ]
    },
    {
     "name": "stderr",
     "output_type": "stream",
     "text": [
      "\r",
      "Sampling chain 0, 0 divergences:  32%|███▏      | 321/1000 [00:40<02:48,  4.03it/s]"
     ]
    },
    {
     "name": "stderr",
     "output_type": "stream",
     "text": [
      "\r",
      "Sampling chain 0, 0 divergences:  32%|███▏      | 322/1000 [00:40<02:47,  4.05it/s]"
     ]
    },
    {
     "name": "stderr",
     "output_type": "stream",
     "text": [
      "\r",
      "Sampling chain 0, 0 divergences:  32%|███▏      | 323/1000 [00:40<02:42,  4.16it/s]"
     ]
    },
    {
     "name": "stderr",
     "output_type": "stream",
     "text": [
      "\r",
      "Sampling chain 0, 0 divergences:  32%|███▏      | 324/1000 [00:41<02:38,  4.27it/s]"
     ]
    },
    {
     "name": "stderr",
     "output_type": "stream",
     "text": [
      "\r",
      "Sampling chain 0, 0 divergences:  32%|███▎      | 325/1000 [00:41<02:35,  4.35it/s]"
     ]
    },
    {
     "name": "stderr",
     "output_type": "stream",
     "text": [
      "\r",
      "Sampling chain 0, 0 divergences:  33%|███▎      | 326/1000 [00:41<02:37,  4.28it/s]"
     ]
    },
    {
     "name": "stderr",
     "output_type": "stream",
     "text": [
      "\r",
      "Sampling chain 0, 0 divergences:  33%|███▎      | 327/1000 [00:41<02:40,  4.20it/s]"
     ]
    },
    {
     "name": "stderr",
     "output_type": "stream",
     "text": [
      "\r",
      "Sampling chain 0, 0 divergences:  33%|███▎      | 328/1000 [00:42<02:36,  4.29it/s]"
     ]
    },
    {
     "name": "stderr",
     "output_type": "stream",
     "text": [
      "\r",
      "Sampling chain 0, 0 divergences:  33%|███▎      | 329/1000 [00:42<02:34,  4.34it/s]"
     ]
    },
    {
     "name": "stderr",
     "output_type": "stream",
     "text": [
      "\r",
      "Sampling chain 0, 0 divergences:  33%|███▎      | 330/1000 [00:42<02:35,  4.32it/s]"
     ]
    },
    {
     "name": "stderr",
     "output_type": "stream",
     "text": [
      "\r",
      "Sampling chain 0, 0 divergences:  33%|███▎      | 331/1000 [00:42<02:42,  4.12it/s]"
     ]
    },
    {
     "name": "stderr",
     "output_type": "stream",
     "text": [
      "\r",
      "Sampling chain 0, 0 divergences:  33%|███▎      | 332/1000 [00:43<02:43,  4.10it/s]"
     ]
    },
    {
     "name": "stderr",
     "output_type": "stream",
     "text": [
      "\r",
      "Sampling chain 0, 0 divergences:  33%|███▎      | 333/1000 [00:43<02:40,  4.15it/s]"
     ]
    },
    {
     "name": "stderr",
     "output_type": "stream",
     "text": [
      "\r",
      "Sampling chain 0, 0 divergences:  33%|███▎      | 334/1000 [00:43<02:37,  4.23it/s]"
     ]
    },
    {
     "name": "stderr",
     "output_type": "stream",
     "text": [
      "\r",
      "Sampling chain 0, 0 divergences:  34%|███▎      | 335/1000 [00:43<02:34,  4.30it/s]"
     ]
    },
    {
     "name": "stderr",
     "output_type": "stream",
     "text": [
      "\r",
      "Sampling chain 0, 0 divergences:  34%|███▎      | 336/1000 [00:44<02:32,  4.34it/s]"
     ]
    },
    {
     "name": "stderr",
     "output_type": "stream",
     "text": [
      "\r",
      "Sampling chain 0, 0 divergences:  34%|███▎      | 337/1000 [00:44<02:31,  4.37it/s]"
     ]
    },
    {
     "name": "stderr",
     "output_type": "stream",
     "text": [
      "\r",
      "Sampling chain 0, 0 divergences:  34%|███▍      | 338/1000 [00:44<02:29,  4.42it/s]"
     ]
    },
    {
     "name": "stderr",
     "output_type": "stream",
     "text": [
      "\r",
      "Sampling chain 0, 0 divergences:  34%|███▍      | 339/1000 [00:44<02:29,  4.44it/s]"
     ]
    },
    {
     "name": "stderr",
     "output_type": "stream",
     "text": [
      "\r",
      "Sampling chain 0, 0 divergences:  34%|███▍      | 340/1000 [00:44<02:28,  4.43it/s]"
     ]
    },
    {
     "name": "stderr",
     "output_type": "stream",
     "text": [
      "\r",
      "Sampling chain 0, 0 divergences:  34%|███▍      | 341/1000 [00:45<02:27,  4.46it/s]"
     ]
    },
    {
     "name": "stderr",
     "output_type": "stream",
     "text": [
      "\r",
      "Sampling chain 0, 0 divergences:  34%|███▍      | 342/1000 [00:45<02:29,  4.39it/s]"
     ]
    },
    {
     "name": "stderr",
     "output_type": "stream",
     "text": [
      "\r",
      "Sampling chain 0, 0 divergences:  34%|███▍      | 343/1000 [00:45<02:28,  4.41it/s]"
     ]
    },
    {
     "name": "stderr",
     "output_type": "stream",
     "text": [
      "\r",
      "Sampling chain 0, 0 divergences:  34%|███▍      | 344/1000 [00:45<02:30,  4.37it/s]"
     ]
    },
    {
     "name": "stderr",
     "output_type": "stream",
     "text": [
      "\r",
      "Sampling chain 0, 0 divergences:  34%|███▍      | 345/1000 [00:46<02:28,  4.41it/s]"
     ]
    },
    {
     "name": "stderr",
     "output_type": "stream",
     "text": [
      "\r",
      "Sampling chain 0, 0 divergences:  35%|███▍      | 346/1000 [00:46<02:26,  4.46it/s]"
     ]
    },
    {
     "name": "stderr",
     "output_type": "stream",
     "text": [
      "\r",
      "Sampling chain 0, 0 divergences:  35%|███▍      | 347/1000 [00:46<02:32,  4.29it/s]"
     ]
    },
    {
     "name": "stderr",
     "output_type": "stream",
     "text": [
      "\r",
      "Sampling chain 0, 0 divergences:  35%|███▍      | 348/1000 [00:46<02:38,  4.11it/s]"
     ]
    },
    {
     "name": "stderr",
     "output_type": "stream",
     "text": [
      "\r",
      "Sampling chain 0, 0 divergences:  35%|███▍      | 349/1000 [00:47<02:36,  4.16it/s]"
     ]
    },
    {
     "name": "stderr",
     "output_type": "stream",
     "text": [
      "\r",
      "Sampling chain 0, 0 divergences:  35%|███▌      | 350/1000 [00:47<02:31,  4.28it/s]"
     ]
    },
    {
     "name": "stderr",
     "output_type": "stream",
     "text": [
      "\r",
      "Sampling chain 0, 0 divergences:  35%|███▌      | 351/1000 [00:47<02:30,  4.32it/s]"
     ]
    },
    {
     "name": "stderr",
     "output_type": "stream",
     "text": [
      "\r",
      "Sampling chain 0, 0 divergences:  35%|███▌      | 352/1000 [00:47<02:27,  4.38it/s]"
     ]
    },
    {
     "name": "stderr",
     "output_type": "stream",
     "text": [
      "\r",
      "Sampling chain 0, 0 divergences:  35%|███▌      | 353/1000 [00:47<02:25,  4.43it/s]"
     ]
    },
    {
     "name": "stderr",
     "output_type": "stream",
     "text": [
      "\r",
      "Sampling chain 0, 0 divergences:  35%|███▌      | 354/1000 [00:48<02:24,  4.47it/s]"
     ]
    },
    {
     "name": "stderr",
     "output_type": "stream",
     "text": [
      "\r",
      "Sampling chain 0, 0 divergences:  36%|███▌      | 355/1000 [00:48<02:26,  4.41it/s]"
     ]
    },
    {
     "name": "stderr",
     "output_type": "stream",
     "text": [
      "\r",
      "Sampling chain 0, 0 divergences:  36%|███▌      | 356/1000 [00:48<02:33,  4.20it/s]"
     ]
    },
    {
     "name": "stderr",
     "output_type": "stream",
     "text": [
      "\r",
      "Sampling chain 0, 0 divergences:  36%|███▌      | 357/1000 [00:48<02:36,  4.11it/s]"
     ]
    },
    {
     "name": "stderr",
     "output_type": "stream",
     "text": [
      "\r",
      "Sampling chain 0, 0 divergences:  36%|███▌      | 358/1000 [00:49<02:31,  4.23it/s]"
     ]
    },
    {
     "name": "stderr",
     "output_type": "stream",
     "text": [
      "\r",
      "Sampling chain 0, 0 divergences:  36%|███▌      | 359/1000 [00:49<02:28,  4.33it/s]"
     ]
    },
    {
     "name": "stderr",
     "output_type": "stream",
     "text": [
      "\r",
      "Sampling chain 0, 0 divergences:  36%|███▌      | 360/1000 [00:49<02:31,  4.23it/s]"
     ]
    },
    {
     "name": "stderr",
     "output_type": "stream",
     "text": [
      "\r",
      "Sampling chain 0, 0 divergences:  36%|███▌      | 361/1000 [00:49<02:35,  4.11it/s]"
     ]
    },
    {
     "name": "stderr",
     "output_type": "stream",
     "text": [
      "\r",
      "Sampling chain 0, 0 divergences:  36%|███▌      | 362/1000 [00:50<02:31,  4.20it/s]"
     ]
    },
    {
     "name": "stderr",
     "output_type": "stream",
     "text": [
      "\r",
      "Sampling chain 0, 0 divergences:  36%|███▋      | 363/1000 [00:50<02:28,  4.30it/s]"
     ]
    },
    {
     "name": "stderr",
     "output_type": "stream",
     "text": [
      "\r",
      "Sampling chain 0, 0 divergences:  36%|███▋      | 364/1000 [00:50<02:30,  4.23it/s]"
     ]
    },
    {
     "name": "stderr",
     "output_type": "stream",
     "text": [
      "\r",
      "Sampling chain 0, 0 divergences:  36%|███▋      | 365/1000 [00:50<02:28,  4.28it/s]"
     ]
    },
    {
     "name": "stderr",
     "output_type": "stream",
     "text": [
      "\r",
      "Sampling chain 0, 0 divergences:  37%|███▋      | 366/1000 [00:50<02:27,  4.31it/s]"
     ]
    },
    {
     "name": "stderr",
     "output_type": "stream",
     "text": [
      "\r",
      "Sampling chain 0, 0 divergences:  37%|███▋      | 367/1000 [00:51<02:27,  4.30it/s]"
     ]
    },
    {
     "name": "stderr",
     "output_type": "stream",
     "text": [
      "\r",
      "Sampling chain 0, 0 divergences:  37%|███▋      | 368/1000 [00:51<02:27,  4.27it/s]"
     ]
    },
    {
     "name": "stderr",
     "output_type": "stream",
     "text": [
      "\r",
      "Sampling chain 0, 0 divergences:  37%|███▋      | 369/1000 [00:51<02:26,  4.31it/s]"
     ]
    },
    {
     "name": "stderr",
     "output_type": "stream",
     "text": [
      "\r",
      "Sampling chain 0, 0 divergences:  37%|███▋      | 370/1000 [00:51<02:25,  4.34it/s]"
     ]
    },
    {
     "name": "stderr",
     "output_type": "stream",
     "text": [
      "\r",
      "Sampling chain 0, 0 divergences:  37%|███▋      | 371/1000 [00:52<02:24,  4.36it/s]"
     ]
    },
    {
     "name": "stderr",
     "output_type": "stream",
     "text": [
      "\r",
      "Sampling chain 0, 0 divergences:  37%|███▋      | 372/1000 [00:52<02:25,  4.31it/s]"
     ]
    },
    {
     "name": "stderr",
     "output_type": "stream",
     "text": [
      "\r",
      "Sampling chain 0, 0 divergences:  37%|███▋      | 373/1000 [00:52<02:27,  4.26it/s]"
     ]
    },
    {
     "name": "stderr",
     "output_type": "stream",
     "text": [
      "\r",
      "Sampling chain 0, 0 divergences:  37%|███▋      | 374/1000 [00:52<02:33,  4.08it/s]"
     ]
    },
    {
     "name": "stderr",
     "output_type": "stream",
     "text": [
      "\r",
      "Sampling chain 0, 0 divergences:  38%|███▊      | 375/1000 [00:53<02:29,  4.19it/s]"
     ]
    },
    {
     "name": "stderr",
     "output_type": "stream",
     "text": [
      "\r",
      "Sampling chain 0, 0 divergences:  38%|███▊      | 376/1000 [00:53<02:26,  4.26it/s]"
     ]
    },
    {
     "name": "stderr",
     "output_type": "stream",
     "text": [
      "\r",
      "Sampling chain 0, 0 divergences:  38%|███▊      | 377/1000 [00:53<02:26,  4.25it/s]"
     ]
    },
    {
     "name": "stderr",
     "output_type": "stream",
     "text": [
      "\r",
      "Sampling chain 0, 0 divergences:  38%|███▊      | 378/1000 [00:53<02:23,  4.33it/s]"
     ]
    },
    {
     "name": "stderr",
     "output_type": "stream",
     "text": [
      "\r",
      "Sampling chain 0, 0 divergences:  38%|███▊      | 379/1000 [00:53<02:22,  4.37it/s]"
     ]
    },
    {
     "name": "stderr",
     "output_type": "stream",
     "text": [
      "\r",
      "Sampling chain 0, 0 divergences:  38%|███▊      | 380/1000 [00:54<02:21,  4.38it/s]"
     ]
    },
    {
     "name": "stderr",
     "output_type": "stream",
     "text": [
      "\r",
      "Sampling chain 0, 0 divergences:  38%|███▊      | 381/1000 [00:54<02:26,  4.21it/s]"
     ]
    },
    {
     "name": "stderr",
     "output_type": "stream",
     "text": [
      "\r",
      "Sampling chain 0, 0 divergences:  38%|███▊      | 382/1000 [00:54<02:26,  4.21it/s]"
     ]
    },
    {
     "name": "stderr",
     "output_type": "stream",
     "text": [
      "\r",
      "Sampling chain 0, 0 divergences:  38%|███▊      | 383/1000 [00:54<02:28,  4.16it/s]"
     ]
    },
    {
     "name": "stderr",
     "output_type": "stream",
     "text": [
      "\r",
      "Sampling chain 0, 0 divergences:  38%|███▊      | 384/1000 [00:55<02:25,  4.23it/s]"
     ]
    },
    {
     "name": "stderr",
     "output_type": "stream",
     "text": [
      "\r",
      "Sampling chain 0, 0 divergences:  38%|███▊      | 385/1000 [00:55<02:27,  4.18it/s]"
     ]
    },
    {
     "name": "stderr",
     "output_type": "stream",
     "text": [
      "\r",
      "Sampling chain 0, 0 divergences:  39%|███▊      | 386/1000 [00:55<02:34,  3.96it/s]"
     ]
    },
    {
     "name": "stderr",
     "output_type": "stream",
     "text": [
      "\r",
      "Sampling chain 0, 0 divergences:  39%|███▊      | 387/1000 [00:55<02:33,  4.00it/s]"
     ]
    },
    {
     "name": "stderr",
     "output_type": "stream",
     "text": [
      "\r",
      "Sampling chain 0, 0 divergences:  39%|███▉      | 388/1000 [00:56<02:29,  4.10it/s]"
     ]
    },
    {
     "name": "stderr",
     "output_type": "stream",
     "text": [
      "\r",
      "Sampling chain 0, 0 divergences:  39%|███▉      | 389/1000 [00:56<02:27,  4.15it/s]"
     ]
    },
    {
     "name": "stderr",
     "output_type": "stream",
     "text": [
      "\r",
      "Sampling chain 0, 0 divergences:  39%|███▉      | 390/1000 [00:56<02:23,  4.24it/s]"
     ]
    },
    {
     "name": "stderr",
     "output_type": "stream",
     "text": [
      "\r",
      "Sampling chain 0, 0 divergences:  39%|███▉      | 391/1000 [00:56<02:20,  4.32it/s]"
     ]
    },
    {
     "name": "stderr",
     "output_type": "stream",
     "text": [
      "\r",
      "Sampling chain 0, 0 divergences:  39%|███▉      | 392/1000 [00:57<02:19,  4.37it/s]"
     ]
    },
    {
     "name": "stderr",
     "output_type": "stream",
     "text": [
      "\r",
      "Sampling chain 0, 0 divergences:  39%|███▉      | 393/1000 [00:57<02:17,  4.41it/s]"
     ]
    },
    {
     "name": "stderr",
     "output_type": "stream",
     "text": [
      "\r",
      "Sampling chain 0, 0 divergences:  39%|███▉      | 394/1000 [00:57<02:16,  4.44it/s]"
     ]
    },
    {
     "name": "stderr",
     "output_type": "stream",
     "text": [
      "\r",
      "Sampling chain 0, 0 divergences:  40%|███▉      | 395/1000 [00:57<02:16,  4.45it/s]"
     ]
    },
    {
     "name": "stderr",
     "output_type": "stream",
     "text": [
      "\r",
      "Sampling chain 0, 0 divergences:  40%|███▉      | 396/1000 [00:57<02:16,  4.44it/s]"
     ]
    },
    {
     "name": "stderr",
     "output_type": "stream",
     "text": [
      "\r",
      "Sampling chain 0, 0 divergences:  40%|███▉      | 397/1000 [00:58<02:17,  4.40it/s]"
     ]
    },
    {
     "name": "stderr",
     "output_type": "stream",
     "text": [
      "\r",
      "Sampling chain 0, 0 divergences:  40%|███▉      | 398/1000 [00:58<02:23,  4.21it/s]"
     ]
    },
    {
     "name": "stderr",
     "output_type": "stream",
     "text": [
      "\r",
      "Sampling chain 0, 0 divergences:  40%|███▉      | 399/1000 [00:58<02:19,  4.30it/s]"
     ]
    },
    {
     "name": "stderr",
     "output_type": "stream",
     "text": [
      "\r",
      "Sampling chain 0, 0 divergences:  40%|████      | 400/1000 [00:58<02:25,  4.12it/s]"
     ]
    },
    {
     "name": "stderr",
     "output_type": "stream",
     "text": [
      "\r",
      "Sampling chain 0, 0 divergences:  40%|████      | 401/1000 [00:59<02:23,  4.18it/s]"
     ]
    },
    {
     "name": "stderr",
     "output_type": "stream",
     "text": [
      "\r",
      "Sampling chain 0, 0 divergences:  40%|████      | 402/1000 [00:59<02:19,  4.29it/s]"
     ]
    },
    {
     "name": "stderr",
     "output_type": "stream",
     "text": [
      "\r",
      "Sampling chain 0, 0 divergences:  40%|████      | 403/1000 [00:59<02:20,  4.25it/s]"
     ]
    },
    {
     "name": "stderr",
     "output_type": "stream",
     "text": [
      "\r",
      "Sampling chain 0, 0 divergences:  40%|████      | 404/1000 [00:59<02:25,  4.11it/s]"
     ]
    },
    {
     "name": "stderr",
     "output_type": "stream",
     "text": [
      "\r",
      "Sampling chain 0, 0 divergences:  40%|████      | 405/1000 [01:00<02:29,  3.98it/s]"
     ]
    },
    {
     "name": "stderr",
     "output_type": "stream",
     "text": [
      "\r",
      "Sampling chain 0, 0 divergences:  41%|████      | 406/1000 [01:00<02:31,  3.93it/s]"
     ]
    },
    {
     "name": "stderr",
     "output_type": "stream",
     "text": [
      "\r",
      "Sampling chain 0, 0 divergences:  41%|████      | 407/1000 [01:00<02:33,  3.85it/s]"
     ]
    },
    {
     "name": "stderr",
     "output_type": "stream",
     "text": [
      "\r",
      "Sampling chain 0, 0 divergences:  41%|████      | 408/1000 [01:01<02:39,  3.71it/s]"
     ]
    },
    {
     "name": "stderr",
     "output_type": "stream",
     "text": [
      "\r",
      "Sampling chain 0, 0 divergences:  41%|████      | 409/1000 [01:01<02:35,  3.81it/s]"
     ]
    },
    {
     "name": "stderr",
     "output_type": "stream",
     "text": [
      "\r",
      "Sampling chain 0, 0 divergences:  41%|████      | 410/1000 [01:01<02:27,  4.00it/s]"
     ]
    },
    {
     "name": "stderr",
     "output_type": "stream",
     "text": [
      "\r",
      "Sampling chain 0, 0 divergences:  41%|████      | 411/1000 [01:01<02:25,  4.06it/s]"
     ]
    },
    {
     "name": "stderr",
     "output_type": "stream",
     "text": [
      "\r",
      "Sampling chain 0, 0 divergences:  41%|████      | 412/1000 [01:01<02:21,  4.17it/s]"
     ]
    },
    {
     "name": "stderr",
     "output_type": "stream",
     "text": [
      "\r",
      "Sampling chain 0, 0 divergences:  41%|████▏     | 413/1000 [01:02<02:19,  4.22it/s]"
     ]
    },
    {
     "name": "stderr",
     "output_type": "stream",
     "text": [
      "\r",
      "Sampling chain 0, 0 divergences:  41%|████▏     | 414/1000 [01:02<02:15,  4.31it/s]"
     ]
    },
    {
     "name": "stderr",
     "output_type": "stream",
     "text": [
      "\r",
      "Sampling chain 0, 0 divergences:  42%|████▏     | 415/1000 [01:02<02:14,  4.36it/s]"
     ]
    },
    {
     "name": "stderr",
     "output_type": "stream",
     "text": [
      "\r",
      "Sampling chain 0, 0 divergences:  42%|████▏     | 416/1000 [01:02<02:12,  4.39it/s]"
     ]
    },
    {
     "name": "stderr",
     "output_type": "stream",
     "text": [
      "\r",
      "Sampling chain 0, 0 divergences:  42%|████▏     | 417/1000 [01:03<02:13,  4.37it/s]"
     ]
    },
    {
     "name": "stderr",
     "output_type": "stream",
     "text": [
      "\r",
      "Sampling chain 0, 0 divergences:  42%|████▏     | 418/1000 [01:03<02:11,  4.43it/s]"
     ]
    },
    {
     "name": "stderr",
     "output_type": "stream",
     "text": [
      "\r",
      "Sampling chain 0, 0 divergences:  42%|████▏     | 419/1000 [01:03<02:11,  4.41it/s]"
     ]
    },
    {
     "name": "stderr",
     "output_type": "stream",
     "text": [
      "\r",
      "Sampling chain 0, 0 divergences:  42%|████▏     | 420/1000 [01:03<02:11,  4.40it/s]"
     ]
    },
    {
     "name": "stderr",
     "output_type": "stream",
     "text": [
      "\r",
      "Sampling chain 0, 0 divergences:  42%|████▏     | 421/1000 [01:03<02:10,  4.45it/s]"
     ]
    },
    {
     "name": "stderr",
     "output_type": "stream",
     "text": [
      "\r",
      "Sampling chain 0, 0 divergences:  42%|████▏     | 422/1000 [01:04<02:11,  4.40it/s]"
     ]
    },
    {
     "name": "stderr",
     "output_type": "stream",
     "text": [
      "\r",
      "Sampling chain 0, 0 divergences:  42%|████▏     | 423/1000 [01:04<02:10,  4.41it/s]"
     ]
    },
    {
     "name": "stderr",
     "output_type": "stream",
     "text": [
      "\r",
      "Sampling chain 0, 0 divergences:  42%|████▏     | 424/1000 [01:04<02:12,  4.35it/s]"
     ]
    },
    {
     "name": "stderr",
     "output_type": "stream",
     "text": [
      "\r",
      "Sampling chain 0, 0 divergences:  42%|████▎     | 425/1000 [01:04<02:10,  4.40it/s]"
     ]
    },
    {
     "name": "stderr",
     "output_type": "stream",
     "text": [
      "\r",
      "Sampling chain 0, 0 divergences:  43%|████▎     | 426/1000 [01:05<02:10,  4.41it/s]"
     ]
    },
    {
     "name": "stderr",
     "output_type": "stream",
     "text": [
      "\r",
      "Sampling chain 0, 0 divergences:  43%|████▎     | 427/1000 [01:05<02:16,  4.20it/s]"
     ]
    },
    {
     "name": "stderr",
     "output_type": "stream",
     "text": [
      "\r",
      "Sampling chain 0, 0 divergences:  43%|████▎     | 428/1000 [01:05<02:17,  4.15it/s]"
     ]
    },
    {
     "name": "stderr",
     "output_type": "stream",
     "text": [
      "\r",
      "Sampling chain 0, 0 divergences:  43%|████▎     | 429/1000 [01:05<02:13,  4.26it/s]"
     ]
    },
    {
     "name": "stderr",
     "output_type": "stream",
     "text": [
      "\r",
      "Sampling chain 0, 0 divergences:  43%|████▎     | 430/1000 [01:06<02:15,  4.19it/s]"
     ]
    },
    {
     "name": "stderr",
     "output_type": "stream",
     "text": [
      "\r",
      "Sampling chain 0, 0 divergences:  43%|████▎     | 431/1000 [01:06<02:19,  4.08it/s]"
     ]
    },
    {
     "name": "stderr",
     "output_type": "stream",
     "text": [
      "\r",
      "Sampling chain 0, 0 divergences:  43%|████▎     | 432/1000 [01:06<02:17,  4.14it/s]"
     ]
    },
    {
     "name": "stderr",
     "output_type": "stream",
     "text": [
      "\r",
      "Sampling chain 0, 0 divergences:  43%|████▎     | 433/1000 [01:06<02:19,  4.08it/s]"
     ]
    },
    {
     "name": "stderr",
     "output_type": "stream",
     "text": [
      "\r",
      "Sampling chain 0, 0 divergences:  43%|████▎     | 434/1000 [01:07<02:18,  4.08it/s]"
     ]
    },
    {
     "name": "stderr",
     "output_type": "stream",
     "text": [
      "\r",
      "Sampling chain 0, 0 divergences:  44%|████▎     | 435/1000 [01:07<02:16,  4.13it/s]"
     ]
    },
    {
     "name": "stderr",
     "output_type": "stream",
     "text": [
      "\r",
      "Sampling chain 0, 0 divergences:  44%|████▎     | 436/1000 [01:07<02:13,  4.23it/s]"
     ]
    },
    {
     "name": "stderr",
     "output_type": "stream",
     "text": [
      "\r",
      "Sampling chain 0, 0 divergences:  44%|████▎     | 437/1000 [01:07<02:13,  4.23it/s]"
     ]
    },
    {
     "name": "stderr",
     "output_type": "stream",
     "text": [
      "\r",
      "Sampling chain 0, 0 divergences:  44%|████▍     | 438/1000 [01:08<02:10,  4.32it/s]"
     ]
    },
    {
     "name": "stderr",
     "output_type": "stream",
     "text": [
      "\r",
      "Sampling chain 0, 0 divergences:  44%|████▍     | 439/1000 [01:08<02:08,  4.36it/s]"
     ]
    },
    {
     "name": "stderr",
     "output_type": "stream",
     "text": [
      "\r",
      "Sampling chain 0, 0 divergences:  44%|████▍     | 440/1000 [01:08<02:07,  4.40it/s]"
     ]
    },
    {
     "name": "stderr",
     "output_type": "stream",
     "text": [
      "\r",
      "Sampling chain 0, 0 divergences:  44%|████▍     | 441/1000 [01:08<02:06,  4.43it/s]"
     ]
    },
    {
     "name": "stderr",
     "output_type": "stream",
     "text": [
      "\r",
      "Sampling chain 0, 0 divergences:  44%|████▍     | 442/1000 [01:08<02:05,  4.45it/s]"
     ]
    },
    {
     "name": "stderr",
     "output_type": "stream",
     "text": [
      "\r",
      "Sampling chain 0, 0 divergences:  44%|████▍     | 443/1000 [01:09<02:04,  4.46it/s]"
     ]
    },
    {
     "name": "stderr",
     "output_type": "stream",
     "text": [
      "\r",
      "Sampling chain 0, 0 divergences:  44%|████▍     | 444/1000 [01:09<02:06,  4.41it/s]"
     ]
    },
    {
     "name": "stderr",
     "output_type": "stream",
     "text": [
      "\r",
      "Sampling chain 0, 0 divergences:  44%|████▍     | 445/1000 [01:09<02:09,  4.27it/s]"
     ]
    },
    {
     "name": "stderr",
     "output_type": "stream",
     "text": [
      "\r",
      "Sampling chain 0, 0 divergences:  45%|████▍     | 446/1000 [01:09<02:08,  4.32it/s]"
     ]
    },
    {
     "name": "stderr",
     "output_type": "stream",
     "text": [
      "\r",
      "Sampling chain 0, 0 divergences:  45%|████▍     | 447/1000 [01:10<02:06,  4.38it/s]"
     ]
    },
    {
     "name": "stderr",
     "output_type": "stream",
     "text": [
      "\r",
      "Sampling chain 0, 0 divergences:  45%|████▍     | 448/1000 [01:10<02:11,  4.21it/s]"
     ]
    },
    {
     "name": "stderr",
     "output_type": "stream",
     "text": [
      "\r",
      "Sampling chain 0, 0 divergences:  45%|████▍     | 449/1000 [01:10<02:12,  4.15it/s]"
     ]
    },
    {
     "name": "stderr",
     "output_type": "stream",
     "text": [
      "\r",
      "Sampling chain 0, 0 divergences:  45%|████▌     | 450/1000 [01:10<02:09,  4.24it/s]"
     ]
    },
    {
     "name": "stderr",
     "output_type": "stream",
     "text": [
      "\r",
      "Sampling chain 0, 0 divergences:  45%|████▌     | 451/1000 [01:11<02:09,  4.23it/s]"
     ]
    },
    {
     "name": "stderr",
     "output_type": "stream",
     "text": [
      "\r",
      "Sampling chain 0, 0 divergences:  45%|████▌     | 452/1000 [01:11<02:10,  4.21it/s]"
     ]
    },
    {
     "name": "stderr",
     "output_type": "stream",
     "text": [
      "\r",
      "Sampling chain 0, 0 divergences:  45%|████▌     | 453/1000 [01:11<02:08,  4.25it/s]"
     ]
    },
    {
     "name": "stderr",
     "output_type": "stream",
     "text": [
      "\r",
      "Sampling chain 0, 0 divergences:  45%|████▌     | 454/1000 [01:11<02:06,  4.32it/s]"
     ]
    },
    {
     "name": "stderr",
     "output_type": "stream",
     "text": [
      "\r",
      "Sampling chain 0, 0 divergences:  46%|████▌     | 455/1000 [01:11<02:05,  4.34it/s]"
     ]
    },
    {
     "name": "stderr",
     "output_type": "stream",
     "text": [
      "\r",
      "Sampling chain 0, 0 divergences:  46%|████▌     | 456/1000 [01:12<02:04,  4.38it/s]"
     ]
    },
    {
     "name": "stderr",
     "output_type": "stream",
     "text": [
      "\r",
      "Sampling chain 0, 0 divergences:  46%|████▌     | 457/1000 [01:12<02:03,  4.39it/s]"
     ]
    },
    {
     "name": "stderr",
     "output_type": "stream",
     "text": [
      "\r",
      "Sampling chain 0, 0 divergences:  46%|████▌     | 458/1000 [01:12<02:04,  4.37it/s]"
     ]
    },
    {
     "name": "stderr",
     "output_type": "stream",
     "text": [
      "\r",
      "Sampling chain 0, 0 divergences:  46%|████▌     | 459/1000 [01:12<02:03,  4.37it/s]"
     ]
    },
    {
     "name": "stderr",
     "output_type": "stream",
     "text": [
      "\r",
      "Sampling chain 0, 0 divergences:  46%|████▌     | 460/1000 [01:13<02:01,  4.43it/s]"
     ]
    },
    {
     "name": "stderr",
     "output_type": "stream",
     "text": [
      "\r",
      "Sampling chain 0, 0 divergences:  46%|████▌     | 461/1000 [01:13<02:01,  4.45it/s]"
     ]
    },
    {
     "name": "stderr",
     "output_type": "stream",
     "text": [
      "\r",
      "Sampling chain 0, 0 divergences:  46%|████▌     | 462/1000 [01:13<02:00,  4.46it/s]"
     ]
    },
    {
     "name": "stderr",
     "output_type": "stream",
     "text": [
      "\r",
      "Sampling chain 0, 0 divergences:  46%|████▋     | 463/1000 [01:13<01:59,  4.50it/s]"
     ]
    },
    {
     "name": "stderr",
     "output_type": "stream",
     "text": [
      "\r",
      "Sampling chain 0, 0 divergences:  46%|████▋     | 464/1000 [01:13<01:58,  4.51it/s]"
     ]
    },
    {
     "name": "stderr",
     "output_type": "stream",
     "text": [
      "\r",
      "Sampling chain 0, 0 divergences:  46%|████▋     | 465/1000 [01:14<01:58,  4.51it/s]"
     ]
    },
    {
     "name": "stderr",
     "output_type": "stream",
     "text": [
      "\r",
      "Sampling chain 0, 0 divergences:  47%|████▋     | 466/1000 [01:14<02:04,  4.31it/s]"
     ]
    },
    {
     "name": "stderr",
     "output_type": "stream",
     "text": [
      "\r",
      "Sampling chain 0, 0 divergences:  47%|████▋     | 467/1000 [01:14<02:06,  4.20it/s]"
     ]
    },
    {
     "name": "stderr",
     "output_type": "stream",
     "text": [
      "\r",
      "Sampling chain 0, 0 divergences:  47%|████▋     | 468/1000 [01:14<02:04,  4.29it/s]"
     ]
    },
    {
     "name": "stderr",
     "output_type": "stream",
     "text": [
      "\r",
      "Sampling chain 0, 0 divergences:  47%|████▋     | 469/1000 [01:15<02:01,  4.37it/s]"
     ]
    },
    {
     "name": "stderr",
     "output_type": "stream",
     "text": [
      "\r",
      "Sampling chain 0, 0 divergences:  47%|████▋     | 470/1000 [01:15<02:05,  4.24it/s]"
     ]
    },
    {
     "name": "stderr",
     "output_type": "stream",
     "text": [
      "\r",
      "Sampling chain 0, 0 divergences:  47%|████▋     | 471/1000 [01:15<02:06,  4.17it/s]"
     ]
    },
    {
     "name": "stderr",
     "output_type": "stream",
     "text": [
      "\r",
      "Sampling chain 0, 0 divergences:  47%|████▋     | 472/1000 [01:15<02:06,  4.19it/s]"
     ]
    },
    {
     "name": "stderr",
     "output_type": "stream",
     "text": [
      "\r",
      "Sampling chain 0, 0 divergences:  47%|████▋     | 473/1000 [01:16<02:03,  4.26it/s]"
     ]
    },
    {
     "name": "stderr",
     "output_type": "stream",
     "text": [
      "\r",
      "Sampling chain 0, 0 divergences:  47%|████▋     | 474/1000 [01:16<02:01,  4.34it/s]"
     ]
    },
    {
     "name": "stderr",
     "output_type": "stream",
     "text": [
      "\r",
      "Sampling chain 0, 0 divergences:  48%|████▊     | 475/1000 [01:16<02:04,  4.20it/s]"
     ]
    },
    {
     "name": "stderr",
     "output_type": "stream",
     "text": [
      "\r",
      "Sampling chain 0, 0 divergences:  48%|████▊     | 476/1000 [01:16<02:01,  4.30it/s]"
     ]
    },
    {
     "name": "stderr",
     "output_type": "stream",
     "text": [
      "\r",
      "Sampling chain 0, 0 divergences:  48%|████▊     | 477/1000 [01:17<02:00,  4.33it/s]"
     ]
    },
    {
     "name": "stderr",
     "output_type": "stream",
     "text": [
      "\r",
      "Sampling chain 0, 0 divergences:  48%|████▊     | 478/1000 [01:17<01:59,  4.38it/s]"
     ]
    },
    {
     "name": "stderr",
     "output_type": "stream",
     "text": [
      "\r",
      "Sampling chain 0, 0 divergences:  48%|████▊     | 479/1000 [01:17<01:58,  4.39it/s]"
     ]
    },
    {
     "name": "stderr",
     "output_type": "stream",
     "text": [
      "\r",
      "Sampling chain 0, 0 divergences:  48%|████▊     | 480/1000 [01:17<01:59,  4.37it/s]"
     ]
    },
    {
     "name": "stderr",
     "output_type": "stream",
     "text": [
      "\r",
      "Sampling chain 0, 0 divergences:  48%|████▊     | 481/1000 [01:17<01:58,  4.37it/s]"
     ]
    },
    {
     "name": "stderr",
     "output_type": "stream",
     "text": [
      "\r",
      "Sampling chain 0, 0 divergences:  48%|████▊     | 482/1000 [01:18<01:56,  4.43it/s]"
     ]
    },
    {
     "name": "stderr",
     "output_type": "stream",
     "text": [
      "\r",
      "Sampling chain 0, 0 divergences:  48%|████▊     | 483/1000 [01:18<01:55,  4.47it/s]"
     ]
    },
    {
     "name": "stderr",
     "output_type": "stream",
     "text": [
      "\r",
      "Sampling chain 0, 0 divergences:  48%|████▊     | 484/1000 [01:18<01:55,  4.47it/s]"
     ]
    },
    {
     "name": "stderr",
     "output_type": "stream",
     "text": [
      "\r",
      "Sampling chain 0, 0 divergences:  48%|████▊     | 485/1000 [01:18<01:54,  4.51it/s]"
     ]
    },
    {
     "name": "stderr",
     "output_type": "stream",
     "text": [
      "\r",
      "Sampling chain 0, 0 divergences:  49%|████▊     | 486/1000 [01:19<01:58,  4.36it/s]"
     ]
    },
    {
     "name": "stderr",
     "output_type": "stream",
     "text": [
      "\r",
      "Sampling chain 0, 0 divergences:  49%|████▊     | 487/1000 [01:19<02:00,  4.26it/s]"
     ]
    },
    {
     "name": "stderr",
     "output_type": "stream",
     "text": [
      "\r",
      "Sampling chain 0, 0 divergences:  49%|████▉     | 488/1000 [01:19<02:03,  4.16it/s]"
     ]
    },
    {
     "name": "stderr",
     "output_type": "stream",
     "text": [
      "\r",
      "Sampling chain 0, 0 divergences:  49%|████▉     | 489/1000 [01:19<02:05,  4.07it/s]"
     ]
    },
    {
     "name": "stderr",
     "output_type": "stream",
     "text": [
      "\r",
      "Sampling chain 0, 0 divergences:  49%|████▉     | 490/1000 [01:20<02:03,  4.14it/s]"
     ]
    },
    {
     "name": "stderr",
     "output_type": "stream",
     "text": [
      "\r",
      "Sampling chain 0, 0 divergences:  49%|████▉     | 491/1000 [01:20<01:59,  4.26it/s]"
     ]
    },
    {
     "name": "stderr",
     "output_type": "stream",
     "text": [
      "\r",
      "Sampling chain 0, 0 divergences:  49%|████▉     | 492/1000 [01:20<01:58,  4.29it/s]"
     ]
    },
    {
     "name": "stderr",
     "output_type": "stream",
     "text": [
      "\r",
      "Sampling chain 0, 0 divergences:  49%|████▉     | 493/1000 [01:20<02:02,  4.14it/s]"
     ]
    },
    {
     "name": "stderr",
     "output_type": "stream",
     "text": [
      "\r",
      "Sampling chain 0, 0 divergences:  49%|████▉     | 494/1000 [01:20<02:02,  4.14it/s]"
     ]
    },
    {
     "name": "stderr",
     "output_type": "stream",
     "text": [
      "\r",
      "Sampling chain 0, 0 divergences:  50%|████▉     | 495/1000 [01:21<01:58,  4.26it/s]"
     ]
    },
    {
     "name": "stderr",
     "output_type": "stream",
     "text": [
      "\r",
      "Sampling chain 0, 0 divergences:  50%|████▉     | 496/1000 [01:21<01:56,  4.32it/s]"
     ]
    },
    {
     "name": "stderr",
     "output_type": "stream",
     "text": [
      "\r",
      "Sampling chain 0, 0 divergences:  50%|████▉     | 497/1000 [01:21<01:59,  4.21it/s]"
     ]
    },
    {
     "name": "stderr",
     "output_type": "stream",
     "text": [
      "\r",
      "Sampling chain 0, 0 divergences:  50%|████▉     | 498/1000 [01:21<02:01,  4.12it/s]"
     ]
    },
    {
     "name": "stderr",
     "output_type": "stream",
     "text": [
      "\r",
      "Sampling chain 0, 0 divergences:  50%|████▉     | 499/1000 [01:22<01:58,  4.21it/s]"
     ]
    },
    {
     "name": "stderr",
     "output_type": "stream",
     "text": [
      "\r",
      "Sampling chain 0, 0 divergences:  50%|█████     | 500/1000 [01:22<01:56,  4.29it/s]"
     ]
    },
    {
     "name": "stderr",
     "output_type": "stream",
     "text": [
      "\r",
      "Sampling chain 0, 0 divergences:  50%|█████     | 501/1000 [01:22<01:56,  4.28it/s]"
     ]
    },
    {
     "name": "stderr",
     "output_type": "stream",
     "text": [
      "\r",
      "Sampling chain 0, 0 divergences:  50%|█████     | 502/1000 [01:22<01:54,  4.33it/s]"
     ]
    },
    {
     "name": "stderr",
     "output_type": "stream",
     "text": [
      "\r",
      "Sampling chain 0, 0 divergences:  50%|█████     | 503/1000 [01:23<01:54,  4.35it/s]"
     ]
    },
    {
     "name": "stderr",
     "output_type": "stream",
     "text": [
      "\r",
      "Sampling chain 0, 0 divergences:  50%|█████     | 504/1000 [01:23<01:53,  4.37it/s]"
     ]
    },
    {
     "name": "stderr",
     "output_type": "stream",
     "text": [
      "\r",
      "Sampling chain 0, 0 divergences:  50%|█████     | 505/1000 [01:23<01:52,  4.39it/s]"
     ]
    },
    {
     "name": "stderr",
     "output_type": "stream",
     "text": [
      "\r",
      "Sampling chain 0, 0 divergences:  51%|█████     | 506/1000 [01:23<01:51,  4.45it/s]"
     ]
    },
    {
     "name": "stderr",
     "output_type": "stream",
     "text": [
      "\r",
      "Sampling chain 0, 0 divergences:  51%|█████     | 507/1000 [01:23<01:51,  4.44it/s]"
     ]
    },
    {
     "name": "stderr",
     "output_type": "stream",
     "text": [
      "\r",
      "Sampling chain 0, 0 divergences:  51%|█████     | 508/1000 [01:24<01:51,  4.41it/s]"
     ]
    },
    {
     "name": "stderr",
     "output_type": "stream",
     "text": [
      "\r",
      "Sampling chain 0, 0 divergences:  51%|█████     | 509/1000 [01:24<01:52,  4.35it/s]"
     ]
    },
    {
     "name": "stderr",
     "output_type": "stream",
     "text": [
      "\r",
      "Sampling chain 0, 0 divergences:  51%|█████     | 510/1000 [01:24<01:53,  4.30it/s]"
     ]
    },
    {
     "name": "stderr",
     "output_type": "stream",
     "text": [
      "\r",
      "Sampling chain 0, 0 divergences:  51%|█████     | 511/1000 [01:24<01:51,  4.38it/s]"
     ]
    },
    {
     "name": "stderr",
     "output_type": "stream",
     "text": [
      "\r",
      "Sampling chain 0, 0 divergences:  51%|█████     | 512/1000 [01:25<01:50,  4.40it/s]"
     ]
    },
    {
     "name": "stderr",
     "output_type": "stream",
     "text": [
      "\r",
      "Sampling chain 0, 0 divergences:  51%|█████▏    | 513/1000 [01:25<01:51,  4.36it/s]"
     ]
    },
    {
     "name": "stderr",
     "output_type": "stream",
     "text": [
      "\r",
      "Sampling chain 0, 0 divergences:  51%|█████▏    | 514/1000 [01:25<01:55,  4.20it/s]"
     ]
    },
    {
     "name": "stderr",
     "output_type": "stream",
     "text": [
      "\r",
      "Sampling chain 0, 0 divergences:  52%|█████▏    | 515/1000 [01:25<01:55,  4.19it/s]"
     ]
    },
    {
     "name": "stderr",
     "output_type": "stream",
     "text": [
      "\r",
      "Sampling chain 0, 0 divergences:  52%|█████▏    | 516/1000 [01:26<01:53,  4.28it/s]"
     ]
    },
    {
     "name": "stderr",
     "output_type": "stream",
     "text": [
      "\r",
      "Sampling chain 0, 0 divergences:  52%|█████▏    | 517/1000 [01:26<01:53,  4.26it/s]"
     ]
    },
    {
     "name": "stderr",
     "output_type": "stream",
     "text": [
      "\r",
      "Sampling chain 0, 0 divergences:  52%|█████▏    | 518/1000 [01:26<01:55,  4.17it/s]"
     ]
    },
    {
     "name": "stderr",
     "output_type": "stream",
     "text": [
      "\r",
      "Sampling chain 0, 0 divergences:  52%|█████▏    | 519/1000 [01:26<01:54,  4.19it/s]"
     ]
    },
    {
     "name": "stderr",
     "output_type": "stream",
     "text": [
      "\r",
      "Sampling chain 0, 0 divergences:  52%|█████▏    | 520/1000 [01:27<01:56,  4.11it/s]"
     ]
    },
    {
     "name": "stderr",
     "output_type": "stream",
     "text": [
      "\r",
      "Sampling chain 0, 0 divergences:  52%|█████▏    | 521/1000 [01:27<01:53,  4.22it/s]"
     ]
    },
    {
     "name": "stderr",
     "output_type": "stream",
     "text": [
      "\r",
      "Sampling chain 0, 0 divergences:  52%|█████▏    | 522/1000 [01:27<01:52,  4.25it/s]"
     ]
    },
    {
     "name": "stderr",
     "output_type": "stream",
     "text": [
      "\r",
      "Sampling chain 0, 0 divergences:  52%|█████▏    | 523/1000 [01:27<01:50,  4.31it/s]"
     ]
    },
    {
     "name": "stderr",
     "output_type": "stream",
     "text": [
      "\r",
      "Sampling chain 0, 0 divergences:  52%|█████▏    | 524/1000 [01:27<01:48,  4.39it/s]"
     ]
    },
    {
     "name": "stderr",
     "output_type": "stream",
     "text": [
      "\r",
      "Sampling chain 0, 0 divergences:  52%|█████▎    | 525/1000 [01:28<01:47,  4.43it/s]"
     ]
    },
    {
     "name": "stderr",
     "output_type": "stream",
     "text": [
      "\r",
      "Sampling chain 0, 0 divergences:  53%|█████▎    | 526/1000 [01:28<01:46,  4.46it/s]"
     ]
    },
    {
     "name": "stderr",
     "output_type": "stream",
     "text": [
      "\r",
      "Sampling chain 0, 0 divergences:  53%|█████▎    | 527/1000 [01:28<01:46,  4.42it/s]"
     ]
    },
    {
     "name": "stderr",
     "output_type": "stream",
     "text": [
      "\r",
      "Sampling chain 0, 0 divergences:  53%|█████▎    | 528/1000 [01:28<01:45,  4.46it/s]"
     ]
    },
    {
     "name": "stderr",
     "output_type": "stream",
     "text": [
      "\r",
      "Sampling chain 0, 0 divergences:  53%|█████▎    | 529/1000 [01:29<01:52,  4.20it/s]"
     ]
    },
    {
     "name": "stderr",
     "output_type": "stream",
     "text": [
      "\r",
      "Sampling chain 0, 0 divergences:  53%|█████▎    | 530/1000 [01:29<01:56,  4.05it/s]"
     ]
    },
    {
     "name": "stderr",
     "output_type": "stream",
     "text": [
      "\r",
      "Sampling chain 0, 0 divergences:  53%|█████▎    | 531/1000 [01:29<01:57,  4.01it/s]"
     ]
    },
    {
     "name": "stderr",
     "output_type": "stream",
     "text": [
      "\r",
      "Sampling chain 0, 0 divergences:  53%|█████▎    | 532/1000 [01:29<01:52,  4.14it/s]"
     ]
    },
    {
     "name": "stderr",
     "output_type": "stream",
     "text": [
      "\r",
      "Sampling chain 0, 0 divergences:  53%|█████▎    | 533/1000 [01:30<01:56,  4.02it/s]"
     ]
    },
    {
     "name": "stderr",
     "output_type": "stream",
     "text": [
      "\r",
      "Sampling chain 0, 0 divergences:  53%|█████▎    | 534/1000 [01:30<01:51,  4.16it/s]"
     ]
    },
    {
     "name": "stderr",
     "output_type": "stream",
     "text": [
      "\r",
      "Sampling chain 0, 0 divergences:  54%|█████▎    | 535/1000 [01:30<01:50,  4.22it/s]"
     ]
    },
    {
     "name": "stderr",
     "output_type": "stream",
     "text": [
      "\r",
      "Sampling chain 0, 0 divergences:  54%|█████▎    | 536/1000 [01:30<01:47,  4.31it/s]"
     ]
    },
    {
     "name": "stderr",
     "output_type": "stream",
     "text": [
      "\r",
      "Sampling chain 0, 0 divergences:  54%|█████▎    | 537/1000 [01:31<01:46,  4.37it/s]"
     ]
    },
    {
     "name": "stderr",
     "output_type": "stream",
     "text": [
      "\r",
      "Sampling chain 0, 0 divergences:  54%|█████▍    | 538/1000 [01:31<01:44,  4.41it/s]"
     ]
    },
    {
     "name": "stderr",
     "output_type": "stream",
     "text": [
      "\r",
      "Sampling chain 0, 0 divergences:  54%|█████▍    | 539/1000 [01:31<01:43,  4.45it/s]"
     ]
    },
    {
     "name": "stderr",
     "output_type": "stream",
     "text": [
      "\r",
      "Sampling chain 0, 0 divergences:  54%|█████▍    | 540/1000 [01:31<01:43,  4.45it/s]"
     ]
    },
    {
     "name": "stderr",
     "output_type": "stream",
     "text": [
      "\r",
      "Sampling chain 0, 0 divergences:  54%|█████▍    | 541/1000 [01:31<01:46,  4.30it/s]"
     ]
    },
    {
     "name": "stderr",
     "output_type": "stream",
     "text": [
      "\r",
      "Sampling chain 0, 0 divergences:  54%|█████▍    | 542/1000 [01:32<01:52,  4.06it/s]"
     ]
    },
    {
     "name": "stderr",
     "output_type": "stream",
     "text": [
      "\r",
      "Sampling chain 0, 0 divergences:  54%|█████▍    | 543/1000 [01:32<01:52,  4.06it/s]"
     ]
    },
    {
     "name": "stderr",
     "output_type": "stream",
     "text": [
      "\r",
      "Sampling chain 0, 0 divergences:  54%|█████▍    | 544/1000 [01:32<01:52,  4.06it/s]"
     ]
    },
    {
     "name": "stderr",
     "output_type": "stream",
     "text": [
      "\r",
      "Sampling chain 0, 0 divergences:  55%|█████▍    | 545/1000 [01:32<01:48,  4.20it/s]"
     ]
    },
    {
     "name": "stderr",
     "output_type": "stream",
     "text": [
      "\r",
      "Sampling chain 0, 0 divergences:  55%|█████▍    | 546/1000 [01:33<01:45,  4.30it/s]"
     ]
    },
    {
     "name": "stderr",
     "output_type": "stream",
     "text": [
      "\r",
      "Sampling chain 0, 0 divergences:  55%|█████▍    | 547/1000 [01:33<01:43,  4.39it/s]"
     ]
    },
    {
     "name": "stderr",
     "output_type": "stream",
     "text": [
      "\r",
      "Sampling chain 0, 0 divergences:  55%|█████▍    | 548/1000 [01:33<01:41,  4.44it/s]"
     ]
    },
    {
     "name": "stderr",
     "output_type": "stream",
     "text": [
      "\r",
      "Sampling chain 0, 0 divergences:  55%|█████▍    | 549/1000 [01:33<01:41,  4.44it/s]"
     ]
    },
    {
     "name": "stderr",
     "output_type": "stream",
     "text": [
      "\r",
      "Sampling chain 0, 0 divergences:  55%|█████▌    | 550/1000 [01:34<01:42,  4.41it/s]"
     ]
    },
    {
     "name": "stderr",
     "output_type": "stream",
     "text": [
      "\r",
      "Sampling chain 0, 0 divergences:  55%|█████▌    | 551/1000 [01:34<01:43,  4.35it/s]"
     ]
    },
    {
     "name": "stderr",
     "output_type": "stream",
     "text": [
      "\r",
      "Sampling chain 0, 0 divergences:  55%|█████▌    | 552/1000 [01:34<01:41,  4.42it/s]"
     ]
    },
    {
     "name": "stderr",
     "output_type": "stream",
     "text": [
      "\r",
      "Sampling chain 0, 0 divergences:  55%|█████▌    | 553/1000 [01:34<01:43,  4.33it/s]"
     ]
    },
    {
     "name": "stderr",
     "output_type": "stream",
     "text": [
      "\r",
      "Sampling chain 0, 0 divergences:  55%|█████▌    | 554/1000 [01:34<01:41,  4.39it/s]"
     ]
    },
    {
     "name": "stderr",
     "output_type": "stream",
     "text": [
      "\r",
      "Sampling chain 0, 0 divergences:  56%|█████▌    | 555/1000 [01:35<01:44,  4.26it/s]"
     ]
    },
    {
     "name": "stderr",
     "output_type": "stream",
     "text": [
      "\r",
      "Sampling chain 0, 0 divergences:  56%|█████▌    | 556/1000 [01:35<01:46,  4.15it/s]"
     ]
    },
    {
     "name": "stderr",
     "output_type": "stream",
     "text": [
      "\r",
      "Sampling chain 0, 0 divergences:  56%|█████▌    | 557/1000 [01:35<01:45,  4.20it/s]"
     ]
    },
    {
     "name": "stderr",
     "output_type": "stream",
     "text": [
      "\r",
      "Sampling chain 0, 0 divergences:  56%|█████▌    | 558/1000 [01:35<01:43,  4.29it/s]"
     ]
    },
    {
     "name": "stderr",
     "output_type": "stream",
     "text": [
      "\r",
      "Sampling chain 0, 0 divergences:  56%|█████▌    | 559/1000 [01:36<01:41,  4.36it/s]"
     ]
    },
    {
     "name": "stderr",
     "output_type": "stream",
     "text": [
      "\r",
      "Sampling chain 0, 0 divergences:  56%|█████▌    | 560/1000 [01:36<01:41,  4.34it/s]"
     ]
    },
    {
     "name": "stderr",
     "output_type": "stream",
     "text": [
      "\r",
      "Sampling chain 0, 0 divergences:  56%|█████▌    | 561/1000 [01:36<01:39,  4.39it/s]"
     ]
    },
    {
     "name": "stderr",
     "output_type": "stream",
     "text": [
      "\r",
      "Sampling chain 0, 0 divergences:  56%|█████▌    | 562/1000 [01:36<01:41,  4.30it/s]"
     ]
    },
    {
     "name": "stderr",
     "output_type": "stream",
     "text": [
      "\r",
      "Sampling chain 0, 0 divergences:  56%|█████▋    | 563/1000 [01:37<01:47,  4.07it/s]"
     ]
    },
    {
     "name": "stderr",
     "output_type": "stream",
     "text": [
      "\r",
      "Sampling chain 0, 0 divergences:  56%|█████▋    | 564/1000 [01:37<01:48,  4.02it/s]"
     ]
    },
    {
     "name": "stderr",
     "output_type": "stream",
     "text": [
      "\r",
      "Sampling chain 0, 0 divergences:  56%|█████▋    | 565/1000 [01:37<01:49,  3.96it/s]"
     ]
    },
    {
     "name": "stderr",
     "output_type": "stream",
     "text": [
      "\r",
      "Sampling chain 0, 0 divergences:  57%|█████▋    | 566/1000 [01:37<01:45,  4.11it/s]"
     ]
    },
    {
     "name": "stderr",
     "output_type": "stream",
     "text": [
      "\r",
      "Sampling chain 0, 0 divergences:  57%|█████▋    | 567/1000 [01:38<01:42,  4.22it/s]"
     ]
    },
    {
     "name": "stderr",
     "output_type": "stream",
     "text": [
      "\r",
      "Sampling chain 0, 0 divergences:  57%|█████▋    | 568/1000 [01:38<01:44,  4.13it/s]"
     ]
    },
    {
     "name": "stderr",
     "output_type": "stream",
     "text": [
      "\r",
      "Sampling chain 0, 0 divergences:  57%|█████▋    | 569/1000 [01:38<01:44,  4.11it/s]"
     ]
    },
    {
     "name": "stderr",
     "output_type": "stream",
     "text": [
      "\r",
      "Sampling chain 0, 0 divergences:  57%|█████▋    | 570/1000 [01:38<01:46,  4.05it/s]"
     ]
    },
    {
     "name": "stderr",
     "output_type": "stream",
     "text": [
      "\r",
      "Sampling chain 0, 0 divergences:  57%|█████▋    | 571/1000 [01:39<01:44,  4.10it/s]"
     ]
    },
    {
     "name": "stderr",
     "output_type": "stream",
     "text": [
      "\r",
      "Sampling chain 0, 0 divergences:  57%|█████▋    | 572/1000 [01:39<01:42,  4.17it/s]"
     ]
    },
    {
     "name": "stderr",
     "output_type": "stream",
     "text": [
      "\r",
      "Sampling chain 0, 0 divergences:  57%|█████▋    | 573/1000 [01:39<01:41,  4.20it/s]"
     ]
    },
    {
     "name": "stderr",
     "output_type": "stream",
     "text": [
      "\r",
      "Sampling chain 0, 0 divergences:  57%|█████▋    | 574/1000 [01:39<01:41,  4.19it/s]"
     ]
    },
    {
     "name": "stderr",
     "output_type": "stream",
     "text": [
      "\r",
      "Sampling chain 0, 0 divergences:  57%|█████▊    | 575/1000 [01:40<01:43,  4.11it/s]"
     ]
    },
    {
     "name": "stderr",
     "output_type": "stream",
     "text": [
      "\r",
      "Sampling chain 0, 0 divergences:  58%|█████▊    | 576/1000 [01:40<01:40,  4.22it/s]"
     ]
    },
    {
     "name": "stderr",
     "output_type": "stream",
     "text": [
      "\r",
      "Sampling chain 0, 0 divergences:  58%|█████▊    | 577/1000 [01:40<01:38,  4.28it/s]"
     ]
    },
    {
     "name": "stderr",
     "output_type": "stream",
     "text": [
      "\r",
      "Sampling chain 0, 0 divergences:  58%|█████▊    | 578/1000 [01:40<01:36,  4.36it/s]"
     ]
    },
    {
     "name": "stderr",
     "output_type": "stream",
     "text": [
      "\r",
      "Sampling chain 0, 0 divergences:  58%|█████▊    | 579/1000 [01:40<01:37,  4.34it/s]"
     ]
    },
    {
     "name": "stderr",
     "output_type": "stream",
     "text": [
      "\r",
      "Sampling chain 0, 0 divergences:  58%|█████▊    | 580/1000 [01:41<01:35,  4.41it/s]"
     ]
    },
    {
     "name": "stderr",
     "output_type": "stream",
     "text": [
      "\r",
      "Sampling chain 0, 0 divergences:  58%|█████▊    | 581/1000 [01:41<01:35,  4.38it/s]"
     ]
    },
    {
     "name": "stderr",
     "output_type": "stream",
     "text": [
      "\r",
      "Sampling chain 0, 0 divergences:  58%|█████▊    | 582/1000 [01:41<01:34,  4.43it/s]"
     ]
    },
    {
     "name": "stderr",
     "output_type": "stream",
     "text": [
      "\r",
      "Sampling chain 0, 0 divergences:  58%|█████▊    | 583/1000 [01:41<01:33,  4.46it/s]"
     ]
    },
    {
     "name": "stderr",
     "output_type": "stream",
     "text": [
      "\r",
      "Sampling chain 0, 0 divergences:  58%|█████▊    | 584/1000 [01:42<01:34,  4.38it/s]"
     ]
    },
    {
     "name": "stderr",
     "output_type": "stream",
     "text": [
      "\r",
      "Sampling chain 0, 0 divergences:  58%|█████▊    | 585/1000 [01:42<01:34,  4.38it/s]"
     ]
    },
    {
     "name": "stderr",
     "output_type": "stream",
     "text": [
      "\r",
      "Sampling chain 0, 0 divergences:  59%|█████▊    | 586/1000 [01:42<01:36,  4.28it/s]"
     ]
    },
    {
     "name": "stderr",
     "output_type": "stream",
     "text": [
      "\r",
      "Sampling chain 0, 0 divergences:  59%|█████▊    | 587/1000 [01:42<01:39,  4.14it/s]"
     ]
    },
    {
     "name": "stderr",
     "output_type": "stream",
     "text": [
      "\r",
      "Sampling chain 0, 0 divergences:  59%|█████▉    | 588/1000 [01:43<01:38,  4.18it/s]"
     ]
    },
    {
     "name": "stderr",
     "output_type": "stream",
     "text": [
      "\r",
      "Sampling chain 0, 0 divergences:  59%|█████▉    | 589/1000 [01:43<01:35,  4.28it/s]"
     ]
    },
    {
     "name": "stderr",
     "output_type": "stream",
     "text": [
      "\r",
      "Sampling chain 0, 0 divergences:  59%|█████▉    | 590/1000 [01:43<01:34,  4.36it/s]"
     ]
    },
    {
     "name": "stderr",
     "output_type": "stream",
     "text": [
      "\r",
      "Sampling chain 0, 0 divergences:  59%|█████▉    | 591/1000 [01:43<01:33,  4.36it/s]"
     ]
    },
    {
     "name": "stderr",
     "output_type": "stream",
     "text": [
      "\r",
      "Sampling chain 0, 0 divergences:  59%|█████▉    | 592/1000 [01:43<01:32,  4.40it/s]"
     ]
    },
    {
     "name": "stderr",
     "output_type": "stream",
     "text": [
      "\r",
      "Sampling chain 0, 0 divergences:  59%|█████▉    | 593/1000 [01:44<01:32,  4.41it/s]"
     ]
    },
    {
     "name": "stderr",
     "output_type": "stream",
     "text": [
      "\r",
      "Sampling chain 0, 0 divergences:  59%|█████▉    | 594/1000 [01:44<01:31,  4.43it/s]"
     ]
    },
    {
     "name": "stderr",
     "output_type": "stream",
     "text": [
      "\r",
      "Sampling chain 0, 0 divergences:  60%|█████▉    | 595/1000 [01:44<01:30,  4.45it/s]"
     ]
    },
    {
     "name": "stderr",
     "output_type": "stream",
     "text": [
      "\r",
      "Sampling chain 0, 0 divergences:  60%|█████▉    | 596/1000 [01:44<01:30,  4.48it/s]"
     ]
    },
    {
     "name": "stderr",
     "output_type": "stream",
     "text": [
      "\r",
      "Sampling chain 0, 0 divergences:  60%|█████▉    | 597/1000 [01:45<01:30,  4.46it/s]"
     ]
    },
    {
     "name": "stderr",
     "output_type": "stream",
     "text": [
      "\r",
      "Sampling chain 0, 0 divergences:  60%|█████▉    | 598/1000 [01:45<01:34,  4.23it/s]"
     ]
    },
    {
     "name": "stderr",
     "output_type": "stream",
     "text": [
      "\r",
      "Sampling chain 0, 0 divergences:  60%|█████▉    | 599/1000 [01:45<01:34,  4.26it/s]"
     ]
    },
    {
     "name": "stderr",
     "output_type": "stream",
     "text": [
      "\r",
      "Sampling chain 0, 0 divergences:  60%|██████    | 600/1000 [01:45<01:31,  4.35it/s]"
     ]
    },
    {
     "name": "stderr",
     "output_type": "stream",
     "text": [
      "\r",
      "Sampling chain 0, 0 divergences:  60%|██████    | 601/1000 [01:45<01:33,  4.25it/s]"
     ]
    },
    {
     "name": "stderr",
     "output_type": "stream",
     "text": [
      "\r",
      "Sampling chain 0, 0 divergences:  60%|██████    | 602/1000 [01:46<01:31,  4.34it/s]"
     ]
    },
    {
     "name": "stderr",
     "output_type": "stream",
     "text": [
      "\r",
      "Sampling chain 0, 0 divergences:  60%|██████    | 603/1000 [01:46<01:30,  4.39it/s]"
     ]
    },
    {
     "name": "stderr",
     "output_type": "stream",
     "text": [
      "\r",
      "Sampling chain 0, 0 divergences:  60%|██████    | 604/1000 [01:46<01:30,  4.36it/s]"
     ]
    },
    {
     "name": "stderr",
     "output_type": "stream",
     "text": [
      "\r",
      "Sampling chain 0, 0 divergences:  60%|██████    | 605/1000 [01:46<01:31,  4.31it/s]"
     ]
    },
    {
     "name": "stderr",
     "output_type": "stream",
     "text": [
      "\r",
      "Sampling chain 0, 0 divergences:  61%|██████    | 606/1000 [01:47<01:30,  4.36it/s]"
     ]
    },
    {
     "name": "stderr",
     "output_type": "stream",
     "text": [
      "\r",
      "Sampling chain 0, 0 divergences:  61%|██████    | 607/1000 [01:47<01:29,  4.42it/s]"
     ]
    },
    {
     "name": "stderr",
     "output_type": "stream",
     "text": [
      "\r",
      "Sampling chain 0, 0 divergences:  61%|██████    | 608/1000 [01:47<01:30,  4.35it/s]"
     ]
    },
    {
     "name": "stderr",
     "output_type": "stream",
     "text": [
      "\r",
      "Sampling chain 0, 0 divergences:  61%|██████    | 609/1000 [01:47<01:31,  4.26it/s]"
     ]
    },
    {
     "name": "stderr",
     "output_type": "stream",
     "text": [
      "\r",
      "Sampling chain 0, 0 divergences:  61%|██████    | 610/1000 [01:48<01:30,  4.33it/s]"
     ]
    },
    {
     "name": "stderr",
     "output_type": "stream",
     "text": [
      "\r",
      "Sampling chain 0, 0 divergences:  61%|██████    | 611/1000 [01:48<01:28,  4.39it/s]"
     ]
    },
    {
     "name": "stderr",
     "output_type": "stream",
     "text": [
      "\r",
      "Sampling chain 0, 0 divergences:  61%|██████    | 612/1000 [01:48<01:30,  4.29it/s]"
     ]
    },
    {
     "name": "stderr",
     "output_type": "stream",
     "text": [
      "\r",
      "Sampling chain 0, 0 divergences:  61%|██████▏   | 613/1000 [01:48<01:28,  4.36it/s]"
     ]
    },
    {
     "name": "stderr",
     "output_type": "stream",
     "text": [
      "\r",
      "Sampling chain 0, 0 divergences:  61%|██████▏   | 614/1000 [01:48<01:27,  4.41it/s]"
     ]
    },
    {
     "name": "stderr",
     "output_type": "stream",
     "text": [
      "\r",
      "Sampling chain 0, 0 divergences:  62%|██████▏   | 615/1000 [01:49<01:26,  4.45it/s]"
     ]
    },
    {
     "name": "stderr",
     "output_type": "stream",
     "text": [
      "\r",
      "Sampling chain 0, 0 divergences:  62%|██████▏   | 616/1000 [01:49<01:25,  4.47it/s]"
     ]
    },
    {
     "name": "stderr",
     "output_type": "stream",
     "text": [
      "\r",
      "Sampling chain 0, 0 divergences:  62%|██████▏   | 617/1000 [01:49<01:25,  4.50it/s]"
     ]
    },
    {
     "name": "stderr",
     "output_type": "stream",
     "text": [
      "\r",
      "Sampling chain 0, 0 divergences:  62%|██████▏   | 618/1000 [01:49<01:24,  4.50it/s]"
     ]
    },
    {
     "name": "stderr",
     "output_type": "stream",
     "text": [
      "\r",
      "Sampling chain 0, 0 divergences:  62%|██████▏   | 619/1000 [01:50<01:28,  4.29it/s]"
     ]
    },
    {
     "name": "stderr",
     "output_type": "stream",
     "text": [
      "\r",
      "Sampling chain 0, 0 divergences:  62%|██████▏   | 620/1000 [01:50<01:28,  4.29it/s]"
     ]
    },
    {
     "name": "stderr",
     "output_type": "stream",
     "text": [
      "\r",
      "Sampling chain 0, 0 divergences:  62%|██████▏   | 621/1000 [01:50<01:31,  4.15it/s]"
     ]
    },
    {
     "name": "stderr",
     "output_type": "stream",
     "text": [
      "\r",
      "Sampling chain 0, 0 divergences:  62%|██████▏   | 622/1000 [01:50<01:28,  4.26it/s]"
     ]
    },
    {
     "name": "stderr",
     "output_type": "stream",
     "text": [
      "\r",
      "Sampling chain 0, 0 divergences:  62%|██████▏   | 623/1000 [01:51<01:27,  4.29it/s]"
     ]
    },
    {
     "name": "stderr",
     "output_type": "stream",
     "text": [
      "\r",
      "Sampling chain 0, 0 divergences:  62%|██████▏   | 624/1000 [01:51<01:26,  4.36it/s]"
     ]
    },
    {
     "name": "stderr",
     "output_type": "stream",
     "text": [
      "\r",
      "Sampling chain 0, 0 divergences:  62%|██████▎   | 625/1000 [01:51<01:24,  4.41it/s]"
     ]
    },
    {
     "name": "stderr",
     "output_type": "stream",
     "text": [
      "\r",
      "Sampling chain 0, 0 divergences:  63%|██████▎   | 626/1000 [01:51<01:24,  4.44it/s]"
     ]
    },
    {
     "name": "stderr",
     "output_type": "stream",
     "text": [
      "\r",
      "Sampling chain 0, 0 divergences:  63%|██████▎   | 627/1000 [01:51<01:25,  4.39it/s]"
     ]
    },
    {
     "name": "stderr",
     "output_type": "stream",
     "text": [
      "\r",
      "Sampling chain 0, 0 divergences:  63%|██████▎   | 628/1000 [01:52<01:23,  4.44it/s]"
     ]
    },
    {
     "name": "stderr",
     "output_type": "stream",
     "text": [
      "\r",
      "Sampling chain 0, 0 divergences:  63%|██████▎   | 629/1000 [01:52<01:22,  4.48it/s]"
     ]
    },
    {
     "name": "stderr",
     "output_type": "stream",
     "text": [
      "\r",
      "Sampling chain 0, 0 divergences:  63%|██████▎   | 630/1000 [01:52<01:24,  4.40it/s]"
     ]
    },
    {
     "name": "stderr",
     "output_type": "stream",
     "text": [
      "\r",
      "Sampling chain 0, 0 divergences:  63%|██████▎   | 631/1000 [01:52<01:24,  4.38it/s]"
     ]
    },
    {
     "name": "stderr",
     "output_type": "stream",
     "text": [
      "\r",
      "Sampling chain 0, 0 divergences:  63%|██████▎   | 632/1000 [01:53<01:23,  4.39it/s]"
     ]
    },
    {
     "name": "stderr",
     "output_type": "stream",
     "text": [
      "\r",
      "Sampling chain 0, 0 divergences:  63%|██████▎   | 633/1000 [01:53<01:23,  4.38it/s]"
     ]
    },
    {
     "name": "stderr",
     "output_type": "stream",
     "text": [
      "\r",
      "Sampling chain 0, 0 divergences:  63%|██████▎   | 634/1000 [01:53<01:23,  4.36it/s]"
     ]
    },
    {
     "name": "stderr",
     "output_type": "stream",
     "text": [
      "\r",
      "Sampling chain 0, 0 divergences:  64%|██████▎   | 635/1000 [01:53<01:22,  4.40it/s]"
     ]
    },
    {
     "name": "stderr",
     "output_type": "stream",
     "text": [
      "\r",
      "Sampling chain 0, 0 divergences:  64%|██████▎   | 636/1000 [01:54<01:27,  4.18it/s]"
     ]
    },
    {
     "name": "stderr",
     "output_type": "stream",
     "text": [
      "\r",
      "Sampling chain 0, 0 divergences:  64%|██████▎   | 637/1000 [01:54<01:26,  4.21it/s]"
     ]
    },
    {
     "name": "stderr",
     "output_type": "stream",
     "text": [
      "\r",
      "Sampling chain 0, 0 divergences:  64%|██████▍   | 638/1000 [01:54<01:24,  4.31it/s]"
     ]
    },
    {
     "name": "stderr",
     "output_type": "stream",
     "text": [
      "\r",
      "Sampling chain 0, 0 divergences:  64%|██████▍   | 639/1000 [01:54<01:23,  4.30it/s]"
     ]
    },
    {
     "name": "stderr",
     "output_type": "stream",
     "text": [
      "\r",
      "Sampling chain 0, 0 divergences:  64%|██████▍   | 640/1000 [01:54<01:26,  4.15it/s]"
     ]
    },
    {
     "name": "stderr",
     "output_type": "stream",
     "text": [
      "\r",
      "Sampling chain 0, 0 divergences:  64%|██████▍   | 641/1000 [01:55<01:28,  4.06it/s]"
     ]
    },
    {
     "name": "stderr",
     "output_type": "stream",
     "text": [
      "\r",
      "Sampling chain 0, 0 divergences:  64%|██████▍   | 642/1000 [01:55<01:25,  4.20it/s]"
     ]
    },
    {
     "name": "stderr",
     "output_type": "stream",
     "text": [
      "\r",
      "Sampling chain 0, 0 divergences:  64%|██████▍   | 643/1000 [01:55<01:23,  4.27it/s]"
     ]
    },
    {
     "name": "stderr",
     "output_type": "stream",
     "text": [
      "\r",
      "Sampling chain 0, 0 divergences:  64%|██████▍   | 644/1000 [01:55<01:21,  4.34it/s]"
     ]
    },
    {
     "name": "stderr",
     "output_type": "stream",
     "text": [
      "\r",
      "Sampling chain 0, 0 divergences:  64%|██████▍   | 645/1000 [01:56<01:20,  4.41it/s]"
     ]
    },
    {
     "name": "stderr",
     "output_type": "stream",
     "text": [
      "\r",
      "Sampling chain 0, 0 divergences:  65%|██████▍   | 646/1000 [01:56<01:24,  4.19it/s]"
     ]
    },
    {
     "name": "stderr",
     "output_type": "stream",
     "text": [
      "\r",
      "Sampling chain 0, 0 divergences:  65%|██████▍   | 647/1000 [01:56<01:27,  4.03it/s]"
     ]
    },
    {
     "name": "stderr",
     "output_type": "stream",
     "text": [
      "\r",
      "Sampling chain 0, 0 divergences:  65%|██████▍   | 648/1000 [01:56<01:27,  4.04it/s]"
     ]
    },
    {
     "name": "stderr",
     "output_type": "stream",
     "text": [
      "\r",
      "Sampling chain 0, 0 divergences:  65%|██████▍   | 649/1000 [01:57<01:28,  3.98it/s]"
     ]
    },
    {
     "name": "stderr",
     "output_type": "stream",
     "text": [
      "\r",
      "Sampling chain 0, 0 divergences:  65%|██████▌   | 650/1000 [01:57<01:27,  3.98it/s]"
     ]
    },
    {
     "name": "stderr",
     "output_type": "stream",
     "text": [
      "\r",
      "Sampling chain 0, 0 divergences:  65%|██████▌   | 651/1000 [01:57<01:27,  3.97it/s]"
     ]
    },
    {
     "name": "stderr",
     "output_type": "stream",
     "text": [
      "\r",
      "Sampling chain 0, 0 divergences:  65%|██████▌   | 652/1000 [01:57<01:27,  3.99it/s]"
     ]
    },
    {
     "name": "stderr",
     "output_type": "stream",
     "text": [
      "\r",
      "Sampling chain 0, 0 divergences:  65%|██████▌   | 653/1000 [01:58<01:24,  4.13it/s]"
     ]
    },
    {
     "name": "stderr",
     "output_type": "stream",
     "text": [
      "\r",
      "Sampling chain 0, 0 divergences:  65%|██████▌   | 654/1000 [01:58<01:21,  4.27it/s]"
     ]
    },
    {
     "name": "stderr",
     "output_type": "stream",
     "text": [
      "\r",
      "Sampling chain 0, 0 divergences:  66%|██████▌   | 655/1000 [01:58<01:18,  4.37it/s]"
     ]
    },
    {
     "name": "stderr",
     "output_type": "stream",
     "text": [
      "\r",
      "Sampling chain 0, 0 divergences:  66%|██████▌   | 656/1000 [01:58<01:17,  4.46it/s]"
     ]
    },
    {
     "name": "stderr",
     "output_type": "stream",
     "text": [
      "\r",
      "Sampling chain 0, 0 divergences:  66%|██████▌   | 657/1000 [01:59<01:18,  4.38it/s]"
     ]
    },
    {
     "name": "stderr",
     "output_type": "stream",
     "text": [
      "\r",
      "Sampling chain 0, 0 divergences:  66%|██████▌   | 658/1000 [01:59<01:20,  4.22it/s]"
     ]
    },
    {
     "name": "stderr",
     "output_type": "stream",
     "text": [
      "\r",
      "Sampling chain 0, 0 divergences:  66%|██████▌   | 659/1000 [01:59<01:22,  4.11it/s]"
     ]
    },
    {
     "name": "stderr",
     "output_type": "stream",
     "text": [
      "\r",
      "Sampling chain 0, 0 divergences:  66%|██████▌   | 660/1000 [01:59<01:24,  4.05it/s]"
     ]
    },
    {
     "name": "stderr",
     "output_type": "stream",
     "text": [
      "\r",
      "Sampling chain 0, 0 divergences:  66%|██████▌   | 661/1000 [02:00<01:23,  4.04it/s]"
     ]
    },
    {
     "name": "stderr",
     "output_type": "stream",
     "text": [
      "\r",
      "Sampling chain 0, 0 divergences:  66%|██████▌   | 662/1000 [02:00<01:21,  4.14it/s]"
     ]
    },
    {
     "name": "stderr",
     "output_type": "stream",
     "text": [
      "\r",
      "Sampling chain 0, 0 divergences:  66%|██████▋   | 663/1000 [02:00<01:23,  4.04it/s]"
     ]
    },
    {
     "name": "stderr",
     "output_type": "stream",
     "text": [
      "\r",
      "Sampling chain 0, 0 divergences:  66%|██████▋   | 664/1000 [02:00<01:23,  4.03it/s]"
     ]
    },
    {
     "name": "stderr",
     "output_type": "stream",
     "text": [
      "\r",
      "Sampling chain 0, 0 divergences:  66%|██████▋   | 665/1000 [02:00<01:20,  4.16it/s]"
     ]
    },
    {
     "name": "stderr",
     "output_type": "stream",
     "text": [
      "\r",
      "Sampling chain 0, 0 divergences:  67%|██████▋   | 666/1000 [02:01<01:19,  4.22it/s]"
     ]
    },
    {
     "name": "stderr",
     "output_type": "stream",
     "text": [
      "\r",
      "Sampling chain 0, 0 divergences:  67%|██████▋   | 667/1000 [02:01<01:17,  4.29it/s]"
     ]
    },
    {
     "name": "stderr",
     "output_type": "stream",
     "text": [
      "\r",
      "Sampling chain 0, 0 divergences:  67%|██████▋   | 668/1000 [02:01<01:16,  4.31it/s]"
     ]
    },
    {
     "name": "stderr",
     "output_type": "stream",
     "text": [
      "\r",
      "Sampling chain 0, 0 divergences:  67%|██████▋   | 669/1000 [02:01<01:15,  4.39it/s]"
     ]
    },
    {
     "name": "stderr",
     "output_type": "stream",
     "text": [
      "\r",
      "Sampling chain 0, 0 divergences:  67%|██████▋   | 670/1000 [02:02<01:16,  4.34it/s]"
     ]
    },
    {
     "name": "stderr",
     "output_type": "stream",
     "text": [
      "\r",
      "Sampling chain 0, 0 divergences:  67%|██████▋   | 671/1000 [02:02<01:18,  4.17it/s]"
     ]
    },
    {
     "name": "stderr",
     "output_type": "stream",
     "text": [
      "\r",
      "Sampling chain 0, 0 divergences:  67%|██████▋   | 672/1000 [02:02<01:18,  4.19it/s]"
     ]
    },
    {
     "name": "stderr",
     "output_type": "stream",
     "text": [
      "\r",
      "Sampling chain 0, 0 divergences:  67%|██████▋   | 673/1000 [02:02<01:16,  4.29it/s]"
     ]
    },
    {
     "name": "stderr",
     "output_type": "stream",
     "text": [
      "\r",
      "Sampling chain 0, 0 divergences:  67%|██████▋   | 674/1000 [02:03<01:15,  4.34it/s]"
     ]
    },
    {
     "name": "stderr",
     "output_type": "stream",
     "text": [
      "\r",
      "Sampling chain 0, 0 divergences:  68%|██████▊   | 675/1000 [02:03<01:14,  4.35it/s]"
     ]
    },
    {
     "name": "stderr",
     "output_type": "stream",
     "text": [
      "\r",
      "Sampling chain 0, 0 divergences:  68%|██████▊   | 676/1000 [02:03<01:14,  4.36it/s]"
     ]
    },
    {
     "name": "stderr",
     "output_type": "stream",
     "text": [
      "\r",
      "Sampling chain 0, 0 divergences:  68%|██████▊   | 677/1000 [02:03<01:13,  4.41it/s]"
     ]
    },
    {
     "name": "stderr",
     "output_type": "stream",
     "text": [
      "\r",
      "Sampling chain 0, 0 divergences:  68%|██████▊   | 678/1000 [02:03<01:12,  4.43it/s]"
     ]
    },
    {
     "name": "stderr",
     "output_type": "stream",
     "text": [
      "\r",
      "Sampling chain 0, 0 divergences:  68%|██████▊   | 679/1000 [02:04<01:12,  4.44it/s]"
     ]
    },
    {
     "name": "stderr",
     "output_type": "stream",
     "text": [
      "\r",
      "Sampling chain 0, 0 divergences:  68%|██████▊   | 680/1000 [02:04<01:11,  4.48it/s]"
     ]
    },
    {
     "name": "stderr",
     "output_type": "stream",
     "text": [
      "\r",
      "Sampling chain 0, 0 divergences:  68%|██████▊   | 681/1000 [02:04<01:11,  4.44it/s]"
     ]
    },
    {
     "name": "stderr",
     "output_type": "stream",
     "text": [
      "\r",
      "Sampling chain 0, 0 divergences:  68%|██████▊   | 682/1000 [02:04<01:12,  4.41it/s]"
     ]
    },
    {
     "name": "stderr",
     "output_type": "stream",
     "text": [
      "\r",
      "Sampling chain 0, 0 divergences:  68%|██████▊   | 683/1000 [02:05<01:12,  4.40it/s]"
     ]
    },
    {
     "name": "stderr",
     "output_type": "stream",
     "text": [
      "\r",
      "Sampling chain 0, 0 divergences:  68%|██████▊   | 684/1000 [02:05<01:11,  4.42it/s]"
     ]
    },
    {
     "name": "stderr",
     "output_type": "stream",
     "text": [
      "\r",
      "Sampling chain 0, 0 divergences:  68%|██████▊   | 685/1000 [02:05<01:11,  4.41it/s]"
     ]
    },
    {
     "name": "stderr",
     "output_type": "stream",
     "text": [
      "\r",
      "Sampling chain 0, 0 divergences:  69%|██████▊   | 686/1000 [02:05<01:11,  4.39it/s]"
     ]
    },
    {
     "name": "stderr",
     "output_type": "stream",
     "text": [
      "\r",
      "Sampling chain 0, 0 divergences:  69%|██████▊   | 687/1000 [02:06<01:12,  4.31it/s]"
     ]
    },
    {
     "name": "stderr",
     "output_type": "stream",
     "text": [
      "\r",
      "Sampling chain 0, 0 divergences:  69%|██████▉   | 688/1000 [02:06<01:11,  4.35it/s]"
     ]
    },
    {
     "name": "stderr",
     "output_type": "stream",
     "text": [
      "\r",
      "Sampling chain 0, 0 divergences:  69%|██████▉   | 689/1000 [02:06<01:11,  4.37it/s]"
     ]
    },
    {
     "name": "stderr",
     "output_type": "stream",
     "text": [
      "\r",
      "Sampling chain 0, 0 divergences:  69%|██████▉   | 690/1000 [02:06<01:11,  4.33it/s]"
     ]
    },
    {
     "name": "stderr",
     "output_type": "stream",
     "text": [
      "\r",
      "Sampling chain 0, 0 divergences:  69%|██████▉   | 691/1000 [02:06<01:12,  4.27it/s]"
     ]
    },
    {
     "name": "stderr",
     "output_type": "stream",
     "text": [
      "\r",
      "Sampling chain 0, 0 divergences:  69%|██████▉   | 692/1000 [02:07<01:13,  4.17it/s]"
     ]
    },
    {
     "name": "stderr",
     "output_type": "stream",
     "text": [
      "\r",
      "Sampling chain 0, 0 divergences:  69%|██████▉   | 693/1000 [02:07<01:12,  4.26it/s]"
     ]
    },
    {
     "name": "stderr",
     "output_type": "stream",
     "text": [
      "\r",
      "Sampling chain 0, 0 divergences:  69%|██████▉   | 694/1000 [02:07<01:11,  4.29it/s]"
     ]
    },
    {
     "name": "stderr",
     "output_type": "stream",
     "text": [
      "\r",
      "Sampling chain 0, 0 divergences:  70%|██████▉   | 695/1000 [02:07<01:09,  4.37it/s]"
     ]
    },
    {
     "name": "stderr",
     "output_type": "stream",
     "text": [
      "\r",
      "Sampling chain 0, 0 divergences:  70%|██████▉   | 696/1000 [02:08<01:09,  4.40it/s]"
     ]
    },
    {
     "name": "stderr",
     "output_type": "stream",
     "text": [
      "\r",
      "Sampling chain 0, 0 divergences:  70%|██████▉   | 697/1000 [02:08<01:10,  4.28it/s]"
     ]
    },
    {
     "name": "stderr",
     "output_type": "stream",
     "text": [
      "\r",
      "Sampling chain 0, 0 divergences:  70%|██████▉   | 698/1000 [02:08<01:13,  4.10it/s]"
     ]
    },
    {
     "name": "stderr",
     "output_type": "stream",
     "text": [
      "\r",
      "Sampling chain 0, 0 divergences:  70%|██████▉   | 699/1000 [02:08<01:11,  4.19it/s]"
     ]
    },
    {
     "name": "stderr",
     "output_type": "stream",
     "text": [
      "\r",
      "Sampling chain 0, 0 divergences:  70%|███████   | 700/1000 [02:09<01:10,  4.27it/s]"
     ]
    },
    {
     "name": "stderr",
     "output_type": "stream",
     "text": [
      "\r",
      "Sampling chain 0, 0 divergences:  70%|███████   | 701/1000 [02:09<01:09,  4.33it/s]"
     ]
    },
    {
     "name": "stderr",
     "output_type": "stream",
     "text": [
      "\r",
      "Sampling chain 0, 0 divergences:  70%|███████   | 702/1000 [02:09<01:08,  4.37it/s]"
     ]
    },
    {
     "name": "stderr",
     "output_type": "stream",
     "text": [
      "\r",
      "Sampling chain 0, 0 divergences:  70%|███████   | 703/1000 [02:09<01:08,  4.32it/s]"
     ]
    },
    {
     "name": "stderr",
     "output_type": "stream",
     "text": [
      "\r",
      "Sampling chain 0, 0 divergences:  70%|███████   | 704/1000 [02:09<01:07,  4.37it/s]"
     ]
    },
    {
     "name": "stderr",
     "output_type": "stream",
     "text": [
      "\r",
      "Sampling chain 0, 0 divergences:  70%|███████   | 705/1000 [02:10<01:07,  4.40it/s]"
     ]
    },
    {
     "name": "stderr",
     "output_type": "stream",
     "text": [
      "\r",
      "Sampling chain 0, 0 divergences:  71%|███████   | 706/1000 [02:10<01:08,  4.27it/s]"
     ]
    },
    {
     "name": "stderr",
     "output_type": "stream",
     "text": [
      "\r",
      "Sampling chain 0, 0 divergences:  71%|███████   | 707/1000 [02:10<01:11,  4.10it/s]"
     ]
    },
    {
     "name": "stderr",
     "output_type": "stream",
     "text": [
      "\r",
      "Sampling chain 0, 0 divergences:  71%|███████   | 708/1000 [02:10<01:09,  4.17it/s]"
     ]
    },
    {
     "name": "stderr",
     "output_type": "stream",
     "text": [
      "\r",
      "Sampling chain 0, 0 divergences:  71%|███████   | 709/1000 [02:11<01:09,  4.19it/s]"
     ]
    },
    {
     "name": "stderr",
     "output_type": "stream",
     "text": [
      "\r",
      "Sampling chain 0, 0 divergences:  71%|███████   | 710/1000 [02:11<01:09,  4.14it/s]"
     ]
    },
    {
     "name": "stderr",
     "output_type": "stream",
     "text": [
      "\r",
      "Sampling chain 0, 0 divergences:  71%|███████   | 711/1000 [02:11<01:10,  4.13it/s]"
     ]
    },
    {
     "name": "stderr",
     "output_type": "stream",
     "text": [
      "\r",
      "Sampling chain 0, 0 divergences:  71%|███████   | 712/1000 [02:11<01:07,  4.24it/s]"
     ]
    },
    {
     "name": "stderr",
     "output_type": "stream",
     "text": [
      "\r",
      "Sampling chain 0, 0 divergences:  71%|███████▏  | 713/1000 [02:12<01:06,  4.34it/s]"
     ]
    },
    {
     "name": "stderr",
     "output_type": "stream",
     "text": [
      "\r",
      "Sampling chain 0, 0 divergences:  71%|███████▏  | 714/1000 [02:12<01:05,  4.33it/s]"
     ]
    },
    {
     "name": "stderr",
     "output_type": "stream",
     "text": [
      "\r",
      "Sampling chain 0, 0 divergences:  72%|███████▏  | 715/1000 [02:12<01:05,  4.38it/s]"
     ]
    },
    {
     "name": "stderr",
     "output_type": "stream",
     "text": [
      "\r",
      "Sampling chain 0, 0 divergences:  72%|███████▏  | 716/1000 [02:12<01:05,  4.36it/s]"
     ]
    },
    {
     "name": "stderr",
     "output_type": "stream",
     "text": [
      "\r",
      "Sampling chain 0, 0 divergences:  72%|███████▏  | 717/1000 [02:13<01:04,  4.38it/s]"
     ]
    },
    {
     "name": "stderr",
     "output_type": "stream",
     "text": [
      "\r",
      "Sampling chain 0, 0 divergences:  72%|███████▏  | 718/1000 [02:13<01:04,  4.38it/s]"
     ]
    },
    {
     "name": "stderr",
     "output_type": "stream",
     "text": [
      "\r",
      "Sampling chain 0, 0 divergences:  72%|███████▏  | 719/1000 [02:13<01:03,  4.41it/s]"
     ]
    },
    {
     "name": "stderr",
     "output_type": "stream",
     "text": [
      "\r",
      "Sampling chain 0, 0 divergences:  72%|███████▏  | 720/1000 [02:13<01:03,  4.40it/s]"
     ]
    },
    {
     "name": "stderr",
     "output_type": "stream",
     "text": [
      "\r",
      "Sampling chain 0, 0 divergences:  72%|███████▏  | 721/1000 [02:13<01:03,  4.39it/s]"
     ]
    },
    {
     "name": "stderr",
     "output_type": "stream",
     "text": [
      "\r",
      "Sampling chain 0, 0 divergences:  72%|███████▏  | 722/1000 [02:14<01:02,  4.42it/s]"
     ]
    },
    {
     "name": "stderr",
     "output_type": "stream",
     "text": [
      "\r",
      "Sampling chain 0, 0 divergences:  72%|███████▏  | 723/1000 [02:14<01:02,  4.42it/s]"
     ]
    },
    {
     "name": "stderr",
     "output_type": "stream",
     "text": [
      "\r",
      "Sampling chain 0, 0 divergences:  72%|███████▏  | 724/1000 [02:14<01:03,  4.34it/s]"
     ]
    },
    {
     "name": "stderr",
     "output_type": "stream",
     "text": [
      "\r",
      "Sampling chain 0, 0 divergences:  72%|███████▎  | 725/1000 [02:14<01:03,  4.35it/s]"
     ]
    },
    {
     "name": "stderr",
     "output_type": "stream",
     "text": [
      "\r",
      "Sampling chain 0, 0 divergences:  73%|███████▎  | 726/1000 [02:15<01:02,  4.39it/s]"
     ]
    },
    {
     "name": "stderr",
     "output_type": "stream",
     "text": [
      "\r",
      "Sampling chain 0, 0 divergences:  73%|███████▎  | 727/1000 [02:15<01:02,  4.40it/s]"
     ]
    },
    {
     "name": "stderr",
     "output_type": "stream",
     "text": [
      "\r",
      "Sampling chain 0, 0 divergences:  73%|███████▎  | 728/1000 [02:15<01:01,  4.39it/s]"
     ]
    },
    {
     "name": "stderr",
     "output_type": "stream",
     "text": [
      "\r",
      "Sampling chain 0, 0 divergences:  73%|███████▎  | 729/1000 [02:15<01:01,  4.40it/s]"
     ]
    },
    {
     "name": "stderr",
     "output_type": "stream",
     "text": [
      "\r",
      "Sampling chain 0, 0 divergences:  73%|███████▎  | 730/1000 [02:15<01:01,  4.42it/s]"
     ]
    },
    {
     "name": "stderr",
     "output_type": "stream",
     "text": [
      "\r",
      "Sampling chain 0, 0 divergences:  73%|███████▎  | 731/1000 [02:16<01:00,  4.42it/s]"
     ]
    },
    {
     "name": "stderr",
     "output_type": "stream",
     "text": [
      "\r",
      "Sampling chain 0, 0 divergences:  73%|███████▎  | 732/1000 [02:16<01:00,  4.40it/s]"
     ]
    },
    {
     "name": "stderr",
     "output_type": "stream",
     "text": [
      "\r",
      "Sampling chain 0, 0 divergences:  73%|███████▎  | 733/1000 [02:16<01:01,  4.35it/s]"
     ]
    },
    {
     "name": "stderr",
     "output_type": "stream",
     "text": [
      "\r",
      "Sampling chain 0, 0 divergences:  73%|███████▎  | 734/1000 [02:16<01:00,  4.38it/s]"
     ]
    },
    {
     "name": "stderr",
     "output_type": "stream",
     "text": [
      "\r",
      "Sampling chain 0, 0 divergences:  74%|███████▎  | 735/1000 [02:17<01:00,  4.39it/s]"
     ]
    },
    {
     "name": "stderr",
     "output_type": "stream",
     "text": [
      "\r",
      "Sampling chain 0, 0 divergences:  74%|███████▎  | 736/1000 [02:17<01:00,  4.40it/s]"
     ]
    },
    {
     "name": "stderr",
     "output_type": "stream",
     "text": [
      "\r",
      "Sampling chain 0, 0 divergences:  74%|███████▎  | 737/1000 [02:17<01:00,  4.33it/s]"
     ]
    },
    {
     "name": "stderr",
     "output_type": "stream",
     "text": [
      "\r",
      "Sampling chain 0, 0 divergences:  74%|███████▍  | 738/1000 [02:17<01:00,  4.33it/s]"
     ]
    },
    {
     "name": "stderr",
     "output_type": "stream",
     "text": [
      "\r",
      "Sampling chain 0, 0 divergences:  74%|███████▍  | 739/1000 [02:18<00:59,  4.39it/s]"
     ]
    },
    {
     "name": "stderr",
     "output_type": "stream",
     "text": [
      "\r",
      "Sampling chain 0, 0 divergences:  74%|███████▍  | 740/1000 [02:18<00:58,  4.41it/s]"
     ]
    },
    {
     "name": "stderr",
     "output_type": "stream",
     "text": [
      "\r",
      "Sampling chain 0, 0 divergences:  74%|███████▍  | 741/1000 [02:18<00:58,  4.41it/s]"
     ]
    },
    {
     "name": "stderr",
     "output_type": "stream",
     "text": [
      "\r",
      "Sampling chain 0, 0 divergences:  74%|███████▍  | 742/1000 [02:18<00:58,  4.41it/s]"
     ]
    },
    {
     "name": "stderr",
     "output_type": "stream",
     "text": [
      "\r",
      "Sampling chain 0, 0 divergences:  74%|███████▍  | 743/1000 [02:18<00:57,  4.44it/s]"
     ]
    },
    {
     "name": "stderr",
     "output_type": "stream",
     "text": [
      "\r",
      "Sampling chain 0, 0 divergences:  74%|███████▍  | 744/1000 [02:19<00:57,  4.48it/s]"
     ]
    },
    {
     "name": "stderr",
     "output_type": "stream",
     "text": [
      "\r",
      "Sampling chain 0, 0 divergences:  74%|███████▍  | 745/1000 [02:19<00:57,  4.44it/s]"
     ]
    },
    {
     "name": "stderr",
     "output_type": "stream",
     "text": [
      "\r",
      "Sampling chain 0, 0 divergences:  75%|███████▍  | 746/1000 [02:19<00:57,  4.44it/s]"
     ]
    },
    {
     "name": "stderr",
     "output_type": "stream",
     "text": [
      "\r",
      "Sampling chain 0, 0 divergences:  75%|███████▍  | 747/1000 [02:19<00:57,  4.40it/s]"
     ]
    },
    {
     "name": "stderr",
     "output_type": "stream",
     "text": [
      "\r",
      "Sampling chain 0, 0 divergences:  75%|███████▍  | 748/1000 [02:20<00:57,  4.41it/s]"
     ]
    },
    {
     "name": "stderr",
     "output_type": "stream",
     "text": [
      "\r",
      "Sampling chain 0, 0 divergences:  75%|███████▍  | 749/1000 [02:20<00:56,  4.43it/s]"
     ]
    },
    {
     "name": "stderr",
     "output_type": "stream",
     "text": [
      "\r",
      "Sampling chain 0, 0 divergences:  75%|███████▌  | 750/1000 [02:20<00:57,  4.37it/s]"
     ]
    },
    {
     "name": "stderr",
     "output_type": "stream",
     "text": [
      "\r",
      "Sampling chain 0, 0 divergences:  75%|███████▌  | 751/1000 [02:20<00:56,  4.39it/s]"
     ]
    },
    {
     "name": "stderr",
     "output_type": "stream",
     "text": [
      "\r",
      "Sampling chain 0, 0 divergences:  75%|███████▌  | 752/1000 [02:20<00:57,  4.34it/s]"
     ]
    },
    {
     "name": "stderr",
     "output_type": "stream",
     "text": [
      "\r",
      "Sampling chain 0, 0 divergences:  75%|███████▌  | 753/1000 [02:21<00:56,  4.38it/s]"
     ]
    },
    {
     "name": "stderr",
     "output_type": "stream",
     "text": [
      "\r",
      "Sampling chain 0, 0 divergences:  75%|███████▌  | 754/1000 [02:21<00:55,  4.40it/s]"
     ]
    },
    {
     "name": "stderr",
     "output_type": "stream",
     "text": [
      "\r",
      "Sampling chain 0, 0 divergences:  76%|███████▌  | 755/1000 [02:21<00:55,  4.40it/s]"
     ]
    },
    {
     "name": "stderr",
     "output_type": "stream",
     "text": [
      "\r",
      "Sampling chain 0, 0 divergences:  76%|███████▌  | 756/1000 [02:21<00:55,  4.37it/s]"
     ]
    },
    {
     "name": "stderr",
     "output_type": "stream",
     "text": [
      "\r",
      "Sampling chain 0, 0 divergences:  76%|███████▌  | 757/1000 [02:22<00:57,  4.21it/s]"
     ]
    },
    {
     "name": "stderr",
     "output_type": "stream",
     "text": [
      "\r",
      "Sampling chain 0, 0 divergences:  76%|███████▌  | 758/1000 [02:22<00:57,  4.18it/s]"
     ]
    },
    {
     "name": "stderr",
     "output_type": "stream",
     "text": [
      "\r",
      "Sampling chain 0, 0 divergences:  76%|███████▌  | 759/1000 [02:22<00:57,  4.21it/s]"
     ]
    },
    {
     "name": "stderr",
     "output_type": "stream",
     "text": [
      "\r",
      "Sampling chain 0, 0 divergences:  76%|███████▌  | 760/1000 [02:22<00:56,  4.25it/s]"
     ]
    },
    {
     "name": "stderr",
     "output_type": "stream",
     "text": [
      "\r",
      "Sampling chain 0, 0 divergences:  76%|███████▌  | 761/1000 [02:23<00:55,  4.33it/s]"
     ]
    },
    {
     "name": "stderr",
     "output_type": "stream",
     "text": [
      "\r",
      "Sampling chain 0, 0 divergences:  76%|███████▌  | 762/1000 [02:23<00:54,  4.39it/s]"
     ]
    },
    {
     "name": "stderr",
     "output_type": "stream",
     "text": [
      "\r",
      "Sampling chain 0, 0 divergences:  76%|███████▋  | 763/1000 [02:23<00:55,  4.28it/s]"
     ]
    },
    {
     "name": "stderr",
     "output_type": "stream",
     "text": [
      "\r",
      "Sampling chain 0, 0 divergences:  76%|███████▋  | 764/1000 [02:23<00:57,  4.10it/s]"
     ]
    },
    {
     "name": "stderr",
     "output_type": "stream",
     "text": [
      "\r",
      "Sampling chain 0, 0 divergences:  76%|███████▋  | 765/1000 [02:24<00:56,  4.16it/s]"
     ]
    },
    {
     "name": "stderr",
     "output_type": "stream",
     "text": [
      "\r",
      "Sampling chain 0, 0 divergences:  77%|███████▋  | 766/1000 [02:24<00:56,  4.14it/s]"
     ]
    },
    {
     "name": "stderr",
     "output_type": "stream",
     "text": [
      "\r",
      "Sampling chain 0, 0 divergences:  77%|███████▋  | 767/1000 [02:24<00:55,  4.20it/s]"
     ]
    },
    {
     "name": "stderr",
     "output_type": "stream",
     "text": [
      "\r",
      "Sampling chain 0, 0 divergences:  77%|███████▋  | 768/1000 [02:24<00:54,  4.28it/s]"
     ]
    },
    {
     "name": "stderr",
     "output_type": "stream",
     "text": [
      "\r",
      "Sampling chain 0, 0 divergences:  77%|███████▋  | 769/1000 [02:24<00:54,  4.22it/s]"
     ]
    },
    {
     "name": "stderr",
     "output_type": "stream",
     "text": [
      "\r",
      "Sampling chain 0, 0 divergences:  77%|███████▋  | 770/1000 [02:25<00:56,  4.06it/s]"
     ]
    },
    {
     "name": "stderr",
     "output_type": "stream",
     "text": [
      "\r",
      "Sampling chain 0, 0 divergences:  77%|███████▋  | 771/1000 [02:25<00:55,  4.14it/s]"
     ]
    },
    {
     "name": "stderr",
     "output_type": "stream",
     "text": [
      "\r",
      "Sampling chain 0, 0 divergences:  77%|███████▋  | 772/1000 [02:25<00:53,  4.25it/s]"
     ]
    },
    {
     "name": "stderr",
     "output_type": "stream",
     "text": [
      "\r",
      "Sampling chain 0, 0 divergences:  77%|███████▋  | 773/1000 [02:25<00:52,  4.28it/s]"
     ]
    },
    {
     "name": "stderr",
     "output_type": "stream",
     "text": [
      "\r",
      "Sampling chain 0, 0 divergences:  77%|███████▋  | 774/1000 [02:26<00:52,  4.31it/s]"
     ]
    },
    {
     "name": "stderr",
     "output_type": "stream",
     "text": [
      "\r",
      "Sampling chain 0, 0 divergences:  78%|███████▊  | 775/1000 [02:26<00:53,  4.21it/s]"
     ]
    },
    {
     "name": "stderr",
     "output_type": "stream",
     "text": [
      "\r",
      "Sampling chain 0, 0 divergences:  78%|███████▊  | 776/1000 [02:26<00:52,  4.31it/s]"
     ]
    },
    {
     "name": "stderr",
     "output_type": "stream",
     "text": [
      "\r",
      "Sampling chain 0, 0 divergences:  78%|███████▊  | 777/1000 [02:26<00:51,  4.35it/s]"
     ]
    },
    {
     "name": "stderr",
     "output_type": "stream",
     "text": [
      "\r",
      "Sampling chain 0, 0 divergences:  78%|███████▊  | 778/1000 [02:27<00:51,  4.33it/s]"
     ]
    },
    {
     "name": "stderr",
     "output_type": "stream",
     "text": [
      "\r",
      "Sampling chain 0, 0 divergences:  78%|███████▊  | 779/1000 [02:27<00:51,  4.33it/s]"
     ]
    },
    {
     "name": "stderr",
     "output_type": "stream",
     "text": [
      "\r",
      "Sampling chain 0, 0 divergences:  78%|███████▊  | 780/1000 [02:27<00:51,  4.24it/s]"
     ]
    },
    {
     "name": "stderr",
     "output_type": "stream",
     "text": [
      "\r",
      "Sampling chain 0, 0 divergences:  78%|███████▊  | 781/1000 [02:27<00:50,  4.32it/s]"
     ]
    },
    {
     "name": "stderr",
     "output_type": "stream",
     "text": [
      "\r",
      "Sampling chain 0, 0 divergences:  78%|███████▊  | 782/1000 [02:28<00:50,  4.34it/s]"
     ]
    },
    {
     "name": "stderr",
     "output_type": "stream",
     "text": [
      "\r",
      "Sampling chain 0, 0 divergences:  78%|███████▊  | 783/1000 [02:28<00:49,  4.38it/s]"
     ]
    },
    {
     "name": "stderr",
     "output_type": "stream",
     "text": [
      "\r",
      "Sampling chain 0, 0 divergences:  78%|███████▊  | 784/1000 [02:28<00:49,  4.38it/s]"
     ]
    },
    {
     "name": "stderr",
     "output_type": "stream",
     "text": [
      "\r",
      "Sampling chain 0, 0 divergences:  78%|███████▊  | 785/1000 [02:28<00:48,  4.43it/s]"
     ]
    },
    {
     "name": "stderr",
     "output_type": "stream",
     "text": [
      "\r",
      "Sampling chain 0, 0 divergences:  79%|███████▊  | 786/1000 [02:28<00:47,  4.46it/s]"
     ]
    },
    {
     "name": "stderr",
     "output_type": "stream",
     "text": [
      "\r",
      "Sampling chain 0, 0 divergences:  79%|███████▊  | 787/1000 [02:29<00:49,  4.32it/s]"
     ]
    },
    {
     "name": "stderr",
     "output_type": "stream",
     "text": [
      "\r",
      "Sampling chain 0, 0 divergences:  79%|███████▉  | 788/1000 [02:29<00:48,  4.35it/s]"
     ]
    },
    {
     "name": "stderr",
     "output_type": "stream",
     "text": [
      "\r",
      "Sampling chain 0, 0 divergences:  79%|███████▉  | 789/1000 [02:29<00:48,  4.37it/s]"
     ]
    },
    {
     "name": "stderr",
     "output_type": "stream",
     "text": [
      "\r",
      "Sampling chain 0, 0 divergences:  79%|███████▉  | 790/1000 [02:29<00:48,  4.35it/s]"
     ]
    },
    {
     "name": "stderr",
     "output_type": "stream",
     "text": [
      "\r",
      "Sampling chain 0, 0 divergences:  79%|███████▉  | 791/1000 [02:30<00:47,  4.38it/s]"
     ]
    },
    {
     "name": "stderr",
     "output_type": "stream",
     "text": [
      "\r",
      "Sampling chain 0, 0 divergences:  79%|███████▉  | 792/1000 [02:30<00:47,  4.39it/s]"
     ]
    },
    {
     "name": "stderr",
     "output_type": "stream",
     "text": [
      "\r",
      "Sampling chain 0, 0 divergences:  79%|███████▉  | 793/1000 [02:30<00:47,  4.38it/s]"
     ]
    },
    {
     "name": "stderr",
     "output_type": "stream",
     "text": [
      "\r",
      "Sampling chain 0, 0 divergences:  79%|███████▉  | 794/1000 [02:30<00:48,  4.28it/s]"
     ]
    },
    {
     "name": "stderr",
     "output_type": "stream",
     "text": [
      "\r",
      "Sampling chain 0, 0 divergences:  80%|███████▉  | 795/1000 [02:31<00:48,  4.23it/s]"
     ]
    },
    {
     "name": "stderr",
     "output_type": "stream",
     "text": [
      "\r",
      "Sampling chain 0, 0 divergences:  80%|███████▉  | 796/1000 [02:31<00:47,  4.32it/s]"
     ]
    },
    {
     "name": "stderr",
     "output_type": "stream",
     "text": [
      "\r",
      "Sampling chain 0, 0 divergences:  80%|███████▉  | 797/1000 [02:31<00:46,  4.38it/s]"
     ]
    },
    {
     "name": "stderr",
     "output_type": "stream",
     "text": [
      "\r",
      "Sampling chain 0, 0 divergences:  80%|███████▉  | 798/1000 [02:31<00:46,  4.38it/s]"
     ]
    },
    {
     "name": "stderr",
     "output_type": "stream",
     "text": [
      "\r",
      "Sampling chain 0, 0 divergences:  80%|███████▉  | 799/1000 [02:31<00:45,  4.43it/s]"
     ]
    },
    {
     "name": "stderr",
     "output_type": "stream",
     "text": [
      "\r",
      "Sampling chain 0, 0 divergences:  80%|████████  | 800/1000 [02:32<00:45,  4.43it/s]"
     ]
    },
    {
     "name": "stderr",
     "output_type": "stream",
     "text": [
      "\r",
      "Sampling chain 0, 0 divergences:  80%|████████  | 801/1000 [02:32<00:47,  4.19it/s]"
     ]
    },
    {
     "name": "stderr",
     "output_type": "stream",
     "text": [
      "\r",
      "Sampling chain 0, 0 divergences:  80%|████████  | 802/1000 [02:32<00:47,  4.20it/s]"
     ]
    },
    {
     "name": "stderr",
     "output_type": "stream",
     "text": [
      "\r",
      "Sampling chain 0, 0 divergences:  80%|████████  | 803/1000 [02:32<00:46,  4.27it/s]"
     ]
    },
    {
     "name": "stderr",
     "output_type": "stream",
     "text": [
      "\r",
      "Sampling chain 0, 0 divergences:  80%|████████  | 804/1000 [02:33<00:47,  4.12it/s]"
     ]
    },
    {
     "name": "stderr",
     "output_type": "stream",
     "text": [
      "\r",
      "Sampling chain 0, 0 divergences:  80%|████████  | 805/1000 [02:33<00:47,  4.09it/s]"
     ]
    },
    {
     "name": "stderr",
     "output_type": "stream",
     "text": [
      "\r",
      "Sampling chain 0, 0 divergences:  81%|████████  | 806/1000 [02:33<00:46,  4.15it/s]"
     ]
    },
    {
     "name": "stderr",
     "output_type": "stream",
     "text": [
      "\r",
      "Sampling chain 0, 0 divergences:  81%|████████  | 807/1000 [02:33<00:47,  4.06it/s]"
     ]
    },
    {
     "name": "stderr",
     "output_type": "stream",
     "text": [
      "\r",
      "Sampling chain 0, 0 divergences:  81%|████████  | 808/1000 [02:34<00:47,  4.08it/s]"
     ]
    },
    {
     "name": "stderr",
     "output_type": "stream",
     "text": [
      "\r",
      "Sampling chain 0, 0 divergences:  81%|████████  | 809/1000 [02:34<00:47,  4.05it/s]"
     ]
    },
    {
     "name": "stderr",
     "output_type": "stream",
     "text": [
      "\r",
      "Sampling chain 0, 0 divergences:  81%|████████  | 810/1000 [02:34<00:46,  4.10it/s]"
     ]
    },
    {
     "name": "stderr",
     "output_type": "stream",
     "text": [
      "\r",
      "Sampling chain 0, 0 divergences:  81%|████████  | 811/1000 [02:34<00:44,  4.23it/s]"
     ]
    },
    {
     "name": "stderr",
     "output_type": "stream",
     "text": [
      "\r",
      "Sampling chain 0, 0 divergences:  81%|████████  | 812/1000 [02:35<00:43,  4.33it/s]"
     ]
    },
    {
     "name": "stderr",
     "output_type": "stream",
     "text": [
      "\r",
      "Sampling chain 0, 0 divergences:  81%|████████▏ | 813/1000 [02:35<00:44,  4.19it/s]"
     ]
    },
    {
     "name": "stderr",
     "output_type": "stream",
     "text": [
      "\r",
      "Sampling chain 0, 0 divergences:  81%|████████▏ | 814/1000 [02:35<00:46,  4.04it/s]"
     ]
    },
    {
     "name": "stderr",
     "output_type": "stream",
     "text": [
      "\r",
      "Sampling chain 0, 0 divergences:  82%|████████▏ | 815/1000 [02:35<00:45,  4.03it/s]"
     ]
    },
    {
     "name": "stderr",
     "output_type": "stream",
     "text": [
      "\r",
      "Sampling chain 0, 0 divergences:  82%|████████▏ | 816/1000 [02:36<00:44,  4.14it/s]"
     ]
    },
    {
     "name": "stderr",
     "output_type": "stream",
     "text": [
      "\r",
      "Sampling chain 0, 0 divergences:  82%|████████▏ | 817/1000 [02:36<00:43,  4.23it/s]"
     ]
    },
    {
     "name": "stderr",
     "output_type": "stream",
     "text": [
      "\r",
      "Sampling chain 0, 0 divergences:  82%|████████▏ | 818/1000 [02:36<00:43,  4.15it/s]"
     ]
    },
    {
     "name": "stderr",
     "output_type": "stream",
     "text": [
      "\r",
      "Sampling chain 0, 0 divergences:  82%|████████▏ | 819/1000 [02:36<00:43,  4.13it/s]"
     ]
    },
    {
     "name": "stderr",
     "output_type": "stream",
     "text": [
      "\r",
      "Sampling chain 0, 0 divergences:  82%|████████▏ | 820/1000 [02:36<00:42,  4.22it/s]"
     ]
    },
    {
     "name": "stderr",
     "output_type": "stream",
     "text": [
      "\r",
      "Sampling chain 0, 0 divergences:  82%|████████▏ | 821/1000 [02:37<00:41,  4.28it/s]"
     ]
    },
    {
     "name": "stderr",
     "output_type": "stream",
     "text": [
      "\r",
      "Sampling chain 0, 0 divergences:  82%|████████▏ | 822/1000 [02:37<00:41,  4.33it/s]"
     ]
    },
    {
     "name": "stderr",
     "output_type": "stream",
     "text": [
      "\r",
      "Sampling chain 0, 0 divergences:  82%|████████▏ | 823/1000 [02:37<00:40,  4.38it/s]"
     ]
    },
    {
     "name": "stderr",
     "output_type": "stream",
     "text": [
      "\r",
      "Sampling chain 0, 0 divergences:  82%|████████▏ | 824/1000 [02:37<00:41,  4.22it/s]"
     ]
    },
    {
     "name": "stderr",
     "output_type": "stream",
     "text": [
      "\r",
      "Sampling chain 0, 0 divergences:  82%|████████▎ | 825/1000 [02:38<00:40,  4.28it/s]"
     ]
    },
    {
     "name": "stderr",
     "output_type": "stream",
     "text": [
      "\r",
      "Sampling chain 0, 0 divergences:  83%|████████▎ | 826/1000 [02:38<00:40,  4.33it/s]"
     ]
    },
    {
     "name": "stderr",
     "output_type": "stream",
     "text": [
      "\r",
      "Sampling chain 0, 0 divergences:  83%|████████▎ | 827/1000 [02:38<00:39,  4.39it/s]"
     ]
    },
    {
     "name": "stderr",
     "output_type": "stream",
     "text": [
      "\r",
      "Sampling chain 0, 0 divergences:  83%|████████▎ | 828/1000 [02:38<00:39,  4.39it/s]"
     ]
    },
    {
     "name": "stderr",
     "output_type": "stream",
     "text": [
      "\r",
      "Sampling chain 0, 0 divergences:  83%|████████▎ | 829/1000 [02:39<00:39,  4.33it/s]"
     ]
    },
    {
     "name": "stderr",
     "output_type": "stream",
     "text": [
      "\r",
      "Sampling chain 0, 0 divergences:  83%|████████▎ | 830/1000 [02:39<00:39,  4.33it/s]"
     ]
    },
    {
     "name": "stderr",
     "output_type": "stream",
     "text": [
      "\r",
      "Sampling chain 0, 0 divergences:  83%|████████▎ | 831/1000 [02:39<00:38,  4.38it/s]"
     ]
    },
    {
     "name": "stderr",
     "output_type": "stream",
     "text": [
      "\r",
      "Sampling chain 0, 0 divergences:  83%|████████▎ | 832/1000 [02:39<00:38,  4.37it/s]"
     ]
    },
    {
     "name": "stderr",
     "output_type": "stream",
     "text": [
      "\r",
      "Sampling chain 0, 0 divergences:  83%|████████▎ | 833/1000 [02:39<00:37,  4.41it/s]"
     ]
    },
    {
     "name": "stderr",
     "output_type": "stream",
     "text": [
      "\r",
      "Sampling chain 0, 0 divergences:  83%|████████▎ | 834/1000 [02:40<00:37,  4.45it/s]"
     ]
    },
    {
     "name": "stderr",
     "output_type": "stream",
     "text": [
      "\r",
      "Sampling chain 0, 0 divergences:  84%|████████▎ | 835/1000 [02:40<00:37,  4.44it/s]"
     ]
    },
    {
     "name": "stderr",
     "output_type": "stream",
     "text": [
      "\r",
      "Sampling chain 0, 0 divergences:  84%|████████▎ | 836/1000 [02:40<00:37,  4.42it/s]"
     ]
    },
    {
     "name": "stderr",
     "output_type": "stream",
     "text": [
      "\r",
      "Sampling chain 0, 0 divergences:  84%|████████▎ | 837/1000 [02:40<00:36,  4.41it/s]"
     ]
    },
    {
     "name": "stderr",
     "output_type": "stream",
     "text": [
      "\r",
      "Sampling chain 0, 0 divergences:  84%|████████▍ | 838/1000 [02:41<00:36,  4.45it/s]"
     ]
    },
    {
     "name": "stderr",
     "output_type": "stream",
     "text": [
      "\r",
      "Sampling chain 0, 0 divergences:  84%|████████▍ | 839/1000 [02:41<00:36,  4.43it/s]"
     ]
    },
    {
     "name": "stderr",
     "output_type": "stream",
     "text": [
      "\r",
      "Sampling chain 0, 0 divergences:  84%|████████▍ | 840/1000 [02:41<00:35,  4.45it/s]"
     ]
    },
    {
     "name": "stderr",
     "output_type": "stream",
     "text": [
      "\r",
      "Sampling chain 0, 0 divergences:  84%|████████▍ | 841/1000 [02:41<00:35,  4.48it/s]"
     ]
    },
    {
     "name": "stderr",
     "output_type": "stream",
     "text": [
      "\r",
      "Sampling chain 0, 0 divergences:  84%|████████▍ | 842/1000 [02:41<00:35,  4.49it/s]"
     ]
    },
    {
     "name": "stderr",
     "output_type": "stream",
     "text": [
      "\r",
      "Sampling chain 0, 0 divergences:  84%|████████▍ | 843/1000 [02:42<00:35,  4.39it/s]"
     ]
    },
    {
     "name": "stderr",
     "output_type": "stream",
     "text": [
      "\r",
      "Sampling chain 0, 0 divergences:  84%|████████▍ | 844/1000 [02:42<00:35,  4.40it/s]"
     ]
    },
    {
     "name": "stderr",
     "output_type": "stream",
     "text": [
      "\r",
      "Sampling chain 0, 0 divergences:  84%|████████▍ | 845/1000 [02:42<00:35,  4.33it/s]"
     ]
    },
    {
     "name": "stderr",
     "output_type": "stream",
     "text": [
      "\r",
      "Sampling chain 0, 0 divergences:  85%|████████▍ | 846/1000 [02:42<00:35,  4.35it/s]"
     ]
    },
    {
     "name": "stderr",
     "output_type": "stream",
     "text": [
      "\r",
      "Sampling chain 0, 0 divergences:  85%|████████▍ | 847/1000 [02:43<00:34,  4.40it/s]"
     ]
    },
    {
     "name": "stderr",
     "output_type": "stream",
     "text": [
      "\r",
      "Sampling chain 0, 0 divergences:  85%|████████▍ | 848/1000 [02:43<00:34,  4.44it/s]"
     ]
    },
    {
     "name": "stderr",
     "output_type": "stream",
     "text": [
      "\r",
      "Sampling chain 0, 0 divergences:  85%|████████▍ | 849/1000 [02:43<00:34,  4.43it/s]"
     ]
    },
    {
     "name": "stderr",
     "output_type": "stream",
     "text": [
      "\r",
      "Sampling chain 0, 0 divergences:  85%|████████▌ | 850/1000 [02:43<00:33,  4.44it/s]"
     ]
    },
    {
     "name": "stderr",
     "output_type": "stream",
     "text": [
      "\r",
      "Sampling chain 0, 0 divergences:  85%|████████▌ | 851/1000 [02:44<00:33,  4.40it/s]"
     ]
    },
    {
     "name": "stderr",
     "output_type": "stream",
     "text": [
      "\r",
      "Sampling chain 0, 0 divergences:  85%|████████▌ | 852/1000 [02:44<00:35,  4.17it/s]"
     ]
    },
    {
     "name": "stderr",
     "output_type": "stream",
     "text": [
      "\r",
      "Sampling chain 0, 0 divergences:  85%|████████▌ | 853/1000 [02:44<00:34,  4.21it/s]"
     ]
    },
    {
     "name": "stderr",
     "output_type": "stream",
     "text": [
      "\r",
      "Sampling chain 0, 0 divergences:  85%|████████▌ | 854/1000 [02:44<00:35,  4.13it/s]"
     ]
    },
    {
     "name": "stderr",
     "output_type": "stream",
     "text": [
      "\r",
      "Sampling chain 0, 0 divergences:  86%|████████▌ | 855/1000 [02:45<00:35,  4.04it/s]"
     ]
    },
    {
     "name": "stderr",
     "output_type": "stream",
     "text": [
      "\r",
      "Sampling chain 0, 0 divergences:  86%|████████▌ | 856/1000 [02:45<00:34,  4.18it/s]"
     ]
    },
    {
     "name": "stderr",
     "output_type": "stream",
     "text": [
      "\r",
      "Sampling chain 0, 0 divergences:  86%|████████▌ | 857/1000 [02:45<00:34,  4.15it/s]"
     ]
    },
    {
     "name": "stderr",
     "output_type": "stream",
     "text": [
      "\r",
      "Sampling chain 0, 0 divergences:  86%|████████▌ | 858/1000 [02:45<00:34,  4.10it/s]"
     ]
    },
    {
     "name": "stderr",
     "output_type": "stream",
     "text": [
      "\r",
      "Sampling chain 0, 0 divergences:  86%|████████▌ | 859/1000 [02:45<00:34,  4.14it/s]"
     ]
    },
    {
     "name": "stderr",
     "output_type": "stream",
     "text": [
      "\r",
      "Sampling chain 0, 0 divergences:  86%|████████▌ | 860/1000 [02:46<00:32,  4.27it/s]"
     ]
    },
    {
     "name": "stderr",
     "output_type": "stream",
     "text": [
      "\r",
      "Sampling chain 0, 0 divergences:  86%|████████▌ | 861/1000 [02:46<00:32,  4.34it/s]"
     ]
    },
    {
     "name": "stderr",
     "output_type": "stream",
     "text": [
      "\r",
      "Sampling chain 0, 0 divergences:  86%|████████▌ | 862/1000 [02:46<00:31,  4.39it/s]"
     ]
    },
    {
     "name": "stderr",
     "output_type": "stream",
     "text": [
      "\r",
      "Sampling chain 0, 0 divergences:  86%|████████▋ | 863/1000 [02:46<00:31,  4.36it/s]"
     ]
    },
    {
     "name": "stderr",
     "output_type": "stream",
     "text": [
      "\r",
      "Sampling chain 0, 0 divergences:  86%|████████▋ | 864/1000 [02:47<00:31,  4.26it/s]"
     ]
    },
    {
     "name": "stderr",
     "output_type": "stream",
     "text": [
      "\r",
      "Sampling chain 0, 0 divergences:  86%|████████▋ | 865/1000 [02:47<00:31,  4.35it/s]"
     ]
    },
    {
     "name": "stderr",
     "output_type": "stream",
     "text": [
      "\r",
      "Sampling chain 0, 0 divergences:  87%|████████▋ | 866/1000 [02:47<00:30,  4.33it/s]"
     ]
    },
    {
     "name": "stderr",
     "output_type": "stream",
     "text": [
      "\r",
      "Sampling chain 0, 0 divergences:  87%|████████▋ | 867/1000 [02:47<00:30,  4.37it/s]"
     ]
    },
    {
     "name": "stderr",
     "output_type": "stream",
     "text": [
      "\r",
      "Sampling chain 0, 0 divergences:  87%|████████▋ | 868/1000 [02:48<00:29,  4.42it/s]"
     ]
    },
    {
     "name": "stderr",
     "output_type": "stream",
     "text": [
      "\r",
      "Sampling chain 0, 0 divergences:  87%|████████▋ | 869/1000 [02:48<00:29,  4.45it/s]"
     ]
    },
    {
     "name": "stderr",
     "output_type": "stream",
     "text": [
      "\r",
      "Sampling chain 0, 0 divergences:  87%|████████▋ | 870/1000 [02:48<00:29,  4.43it/s]"
     ]
    },
    {
     "name": "stderr",
     "output_type": "stream",
     "text": [
      "\r",
      "Sampling chain 0, 0 divergences:  87%|████████▋ | 871/1000 [02:48<00:29,  4.36it/s]"
     ]
    },
    {
     "name": "stderr",
     "output_type": "stream",
     "text": [
      "\r",
      "Sampling chain 0, 0 divergences:  87%|████████▋ | 872/1000 [02:48<00:29,  4.36it/s]"
     ]
    },
    {
     "name": "stderr",
     "output_type": "stream",
     "text": [
      "\r",
      "Sampling chain 0, 0 divergences:  87%|████████▋ | 873/1000 [02:49<00:28,  4.41it/s]"
     ]
    },
    {
     "name": "stderr",
     "output_type": "stream",
     "text": [
      "\r",
      "Sampling chain 0, 0 divergences:  87%|████████▋ | 874/1000 [02:49<00:28,  4.46it/s]"
     ]
    },
    {
     "name": "stderr",
     "output_type": "stream",
     "text": [
      "\r",
      "Sampling chain 0, 0 divergences:  88%|████████▊ | 875/1000 [02:49<00:28,  4.45it/s]"
     ]
    },
    {
     "name": "stderr",
     "output_type": "stream",
     "text": [
      "\r",
      "Sampling chain 0, 0 divergences:  88%|████████▊ | 876/1000 [02:49<00:28,  4.35it/s]"
     ]
    },
    {
     "name": "stderr",
     "output_type": "stream",
     "text": [
      "\r",
      "Sampling chain 0, 0 divergences:  88%|████████▊ | 877/1000 [02:50<00:28,  4.37it/s]"
     ]
    },
    {
     "name": "stderr",
     "output_type": "stream",
     "text": [
      "\r",
      "Sampling chain 0, 0 divergences:  88%|████████▊ | 878/1000 [02:50<00:28,  4.35it/s]"
     ]
    },
    {
     "name": "stderr",
     "output_type": "stream",
     "text": [
      "\r",
      "Sampling chain 0, 0 divergences:  88%|████████▊ | 879/1000 [02:50<00:27,  4.39it/s]"
     ]
    },
    {
     "name": "stderr",
     "output_type": "stream",
     "text": [
      "\r",
      "Sampling chain 0, 0 divergences:  88%|████████▊ | 880/1000 [02:50<00:27,  4.44it/s]"
     ]
    },
    {
     "name": "stderr",
     "output_type": "stream",
     "text": [
      "\r",
      "Sampling chain 0, 0 divergences:  88%|████████▊ | 881/1000 [02:50<00:26,  4.42it/s]"
     ]
    },
    {
     "name": "stderr",
     "output_type": "stream",
     "text": [
      "\r",
      "Sampling chain 0, 0 divergences:  88%|████████▊ | 882/1000 [02:51<00:26,  4.46it/s]"
     ]
    },
    {
     "name": "stderr",
     "output_type": "stream",
     "text": [
      "\r",
      "Sampling chain 0, 0 divergences:  88%|████████▊ | 883/1000 [02:51<00:26,  4.47it/s]"
     ]
    },
    {
     "name": "stderr",
     "output_type": "stream",
     "text": [
      "\r",
      "Sampling chain 0, 0 divergences:  88%|████████▊ | 884/1000 [02:51<00:26,  4.39it/s]"
     ]
    },
    {
     "name": "stderr",
     "output_type": "stream",
     "text": [
      "\r",
      "Sampling chain 0, 0 divergences:  88%|████████▊ | 885/1000 [02:51<00:27,  4.16it/s]"
     ]
    },
    {
     "name": "stderr",
     "output_type": "stream",
     "text": [
      "\r",
      "Sampling chain 0, 0 divergences:  89%|████████▊ | 886/1000 [02:52<00:27,  4.12it/s]"
     ]
    },
    {
     "name": "stderr",
     "output_type": "stream",
     "text": [
      "\r",
      "Sampling chain 0, 0 divergences:  89%|████████▊ | 887/1000 [02:52<00:26,  4.21it/s]"
     ]
    },
    {
     "name": "stderr",
     "output_type": "stream",
     "text": [
      "\r",
      "Sampling chain 0, 0 divergences:  89%|████████▉ | 888/1000 [02:52<00:27,  4.14it/s]"
     ]
    },
    {
     "name": "stderr",
     "output_type": "stream",
     "text": [
      "\r",
      "Sampling chain 0, 0 divergences:  89%|████████▉ | 889/1000 [02:52<00:26,  4.27it/s]"
     ]
    },
    {
     "name": "stderr",
     "output_type": "stream",
     "text": [
      "\r",
      "Sampling chain 0, 0 divergences:  89%|████████▉ | 890/1000 [02:53<00:25,  4.31it/s]"
     ]
    },
    {
     "name": "stderr",
     "output_type": "stream",
     "text": [
      "\r",
      "Sampling chain 0, 0 divergences:  89%|████████▉ | 891/1000 [02:53<00:25,  4.35it/s]"
     ]
    },
    {
     "name": "stderr",
     "output_type": "stream",
     "text": [
      "\r",
      "Sampling chain 0, 0 divergences:  89%|████████▉ | 892/1000 [02:53<00:25,  4.25it/s]"
     ]
    },
    {
     "name": "stderr",
     "output_type": "stream",
     "text": [
      "\r",
      "Sampling chain 0, 0 divergences:  89%|████████▉ | 893/1000 [02:53<00:24,  4.34it/s]"
     ]
    },
    {
     "name": "stderr",
     "output_type": "stream",
     "text": [
      "\r",
      "Sampling chain 0, 0 divergences:  89%|████████▉ | 894/1000 [02:54<00:24,  4.37it/s]"
     ]
    },
    {
     "name": "stderr",
     "output_type": "stream",
     "text": [
      "\r",
      "Sampling chain 0, 0 divergences:  90%|████████▉ | 895/1000 [02:54<00:24,  4.28it/s]"
     ]
    },
    {
     "name": "stderr",
     "output_type": "stream",
     "text": [
      "\r",
      "Sampling chain 0, 0 divergences:  90%|████████▉ | 896/1000 [02:54<00:24,  4.31it/s]"
     ]
    },
    {
     "name": "stderr",
     "output_type": "stream",
     "text": [
      "\r",
      "Sampling chain 0, 0 divergences:  90%|████████▉ | 897/1000 [02:54<00:23,  4.36it/s]"
     ]
    },
    {
     "name": "stderr",
     "output_type": "stream",
     "text": [
      "\r",
      "Sampling chain 0, 0 divergences:  90%|████████▉ | 898/1000 [02:54<00:23,  4.40it/s]"
     ]
    },
    {
     "name": "stderr",
     "output_type": "stream",
     "text": [
      "\r",
      "Sampling chain 0, 0 divergences:  90%|████████▉ | 899/1000 [02:55<00:23,  4.21it/s]"
     ]
    },
    {
     "name": "stderr",
     "output_type": "stream",
     "text": [
      "\r",
      "Sampling chain 0, 0 divergences:  90%|█████████ | 900/1000 [02:55<00:24,  4.12it/s]"
     ]
    },
    {
     "name": "stderr",
     "output_type": "stream",
     "text": [
      "\r",
      "Sampling chain 0, 0 divergences:  90%|█████████ | 901/1000 [02:55<00:23,  4.22it/s]"
     ]
    },
    {
     "name": "stderr",
     "output_type": "stream",
     "text": [
      "\r",
      "Sampling chain 0, 0 divergences:  90%|█████████ | 902/1000 [02:55<00:22,  4.27it/s]"
     ]
    },
    {
     "name": "stderr",
     "output_type": "stream",
     "text": [
      "\r",
      "Sampling chain 0, 0 divergences:  90%|█████████ | 903/1000 [02:56<00:22,  4.32it/s]"
     ]
    },
    {
     "name": "stderr",
     "output_type": "stream",
     "text": [
      "\r",
      "Sampling chain 0, 0 divergences:  90%|█████████ | 904/1000 [02:56<00:21,  4.36it/s]"
     ]
    },
    {
     "name": "stderr",
     "output_type": "stream",
     "text": [
      "\r",
      "Sampling chain 0, 0 divergences:  90%|█████████ | 905/1000 [02:56<00:21,  4.38it/s]"
     ]
    },
    {
     "name": "stderr",
     "output_type": "stream",
     "text": [
      "\r",
      "Sampling chain 0, 0 divergences:  91%|█████████ | 906/1000 [02:56<00:21,  4.37it/s]"
     ]
    },
    {
     "name": "stderr",
     "output_type": "stream",
     "text": [
      "\r",
      "Sampling chain 0, 0 divergences:  91%|█████████ | 907/1000 [02:57<00:21,  4.40it/s]"
     ]
    },
    {
     "name": "stderr",
     "output_type": "stream",
     "text": [
      "\r",
      "Sampling chain 0, 0 divergences:  91%|█████████ | 908/1000 [02:57<00:20,  4.39it/s]"
     ]
    },
    {
     "name": "stderr",
     "output_type": "stream",
     "text": [
      "\r",
      "Sampling chain 0, 0 divergences:  91%|█████████ | 909/1000 [02:57<00:20,  4.41it/s]"
     ]
    },
    {
     "name": "stderr",
     "output_type": "stream",
     "text": [
      "\r",
      "Sampling chain 0, 0 divergences:  91%|█████████ | 910/1000 [02:57<00:20,  4.44it/s]"
     ]
    },
    {
     "name": "stderr",
     "output_type": "stream",
     "text": [
      "\r",
      "Sampling chain 0, 0 divergences:  91%|█████████ | 911/1000 [02:57<00:19,  4.46it/s]"
     ]
    },
    {
     "name": "stderr",
     "output_type": "stream",
     "text": [
      "\r",
      "Sampling chain 0, 0 divergences:  91%|█████████ | 912/1000 [02:58<00:19,  4.46it/s]"
     ]
    },
    {
     "name": "stderr",
     "output_type": "stream",
     "text": [
      "\r",
      "Sampling chain 0, 0 divergences:  91%|█████████▏| 913/1000 [02:58<00:19,  4.48it/s]"
     ]
    },
    {
     "name": "stderr",
     "output_type": "stream",
     "text": [
      "\r",
      "Sampling chain 0, 0 divergences:  91%|█████████▏| 914/1000 [02:58<00:19,  4.43it/s]"
     ]
    },
    {
     "name": "stderr",
     "output_type": "stream",
     "text": [
      "\r",
      "Sampling chain 0, 0 divergences:  92%|█████████▏| 915/1000 [02:58<00:19,  4.43it/s]"
     ]
    },
    {
     "name": "stderr",
     "output_type": "stream",
     "text": [
      "\r",
      "Sampling chain 0, 0 divergences:  92%|█████████▏| 916/1000 [02:59<00:19,  4.37it/s]"
     ]
    },
    {
     "name": "stderr",
     "output_type": "stream",
     "text": [
      "\r",
      "Sampling chain 0, 0 divergences:  92%|█████████▏| 917/1000 [02:59<00:18,  4.37it/s]"
     ]
    },
    {
     "name": "stderr",
     "output_type": "stream",
     "text": [
      "\r",
      "Sampling chain 0, 0 divergences:  92%|█████████▏| 918/1000 [02:59<00:18,  4.41it/s]"
     ]
    },
    {
     "name": "stderr",
     "output_type": "stream",
     "text": [
      "\r",
      "Sampling chain 0, 0 divergences:  92%|█████████▏| 919/1000 [02:59<00:18,  4.43it/s]"
     ]
    },
    {
     "name": "stderr",
     "output_type": "stream",
     "text": [
      "\r",
      "Sampling chain 0, 0 divergences:  92%|█████████▏| 920/1000 [02:59<00:17,  4.45it/s]"
     ]
    },
    {
     "name": "stderr",
     "output_type": "stream",
     "text": [
      "\r",
      "Sampling chain 0, 0 divergences:  92%|█████████▏| 921/1000 [03:00<00:18,  4.38it/s]"
     ]
    },
    {
     "name": "stderr",
     "output_type": "stream",
     "text": [
      "\r",
      "Sampling chain 0, 0 divergences:  92%|█████████▏| 922/1000 [03:00<00:18,  4.29it/s]"
     ]
    },
    {
     "name": "stderr",
     "output_type": "stream",
     "text": [
      "\r",
      "Sampling chain 0, 0 divergences:  92%|█████████▏| 923/1000 [03:00<00:17,  4.32it/s]"
     ]
    },
    {
     "name": "stderr",
     "output_type": "stream",
     "text": [
      "\r",
      "Sampling chain 0, 0 divergences:  92%|█████████▏| 924/1000 [03:00<00:18,  4.14it/s]"
     ]
    },
    {
     "name": "stderr",
     "output_type": "stream",
     "text": [
      "\r",
      "Sampling chain 0, 0 divergences:  92%|█████████▎| 925/1000 [03:01<00:17,  4.17it/s]"
     ]
    },
    {
     "name": "stderr",
     "output_type": "stream",
     "text": [
      "\r",
      "Sampling chain 0, 0 divergences:  93%|█████████▎| 926/1000 [03:01<00:17,  4.29it/s]"
     ]
    },
    {
     "name": "stderr",
     "output_type": "stream",
     "text": [
      "\r",
      "Sampling chain 0, 0 divergences:  93%|█████████▎| 927/1000 [03:01<00:16,  4.33it/s]"
     ]
    },
    {
     "name": "stderr",
     "output_type": "stream",
     "text": [
      "\r",
      "Sampling chain 0, 0 divergences:  93%|█████████▎| 928/1000 [03:01<00:16,  4.29it/s]"
     ]
    },
    {
     "name": "stderr",
     "output_type": "stream",
     "text": [
      "\r",
      "Sampling chain 0, 0 divergences:  93%|█████████▎| 929/1000 [03:02<00:16,  4.39it/s]"
     ]
    },
    {
     "name": "stderr",
     "output_type": "stream",
     "text": [
      "\r",
      "Sampling chain 0, 0 divergences:  93%|█████████▎| 930/1000 [03:02<00:16,  4.24it/s]"
     ]
    },
    {
     "name": "stderr",
     "output_type": "stream",
     "text": [
      "\r",
      "Sampling chain 0, 0 divergences:  93%|█████████▎| 931/1000 [03:02<00:16,  4.23it/s]"
     ]
    },
    {
     "name": "stderr",
     "output_type": "stream",
     "text": [
      "\r",
      "Sampling chain 0, 0 divergences:  93%|█████████▎| 932/1000 [03:02<00:15,  4.32it/s]"
     ]
    },
    {
     "name": "stderr",
     "output_type": "stream",
     "text": [
      "\r",
      "Sampling chain 0, 0 divergences:  93%|█████████▎| 933/1000 [03:02<00:15,  4.40it/s]"
     ]
    },
    {
     "name": "stderr",
     "output_type": "stream",
     "text": [
      "\r",
      "Sampling chain 0, 0 divergences:  93%|█████████▎| 934/1000 [03:03<00:14,  4.43it/s]"
     ]
    },
    {
     "name": "stderr",
     "output_type": "stream",
     "text": [
      "\r",
      "Sampling chain 0, 0 divergences:  94%|█████████▎| 935/1000 [03:03<00:15,  4.31it/s]"
     ]
    },
    {
     "name": "stderr",
     "output_type": "stream",
     "text": [
      "\r",
      "Sampling chain 0, 0 divergences:  94%|█████████▎| 936/1000 [03:03<00:15,  4.17it/s]"
     ]
    },
    {
     "name": "stderr",
     "output_type": "stream",
     "text": [
      "\r",
      "Sampling chain 0, 0 divergences:  94%|█████████▎| 937/1000 [03:03<00:14,  4.28it/s]"
     ]
    },
    {
     "name": "stderr",
     "output_type": "stream",
     "text": [
      "\r",
      "Sampling chain 0, 0 divergences:  94%|█████████▍| 938/1000 [03:04<00:14,  4.34it/s]"
     ]
    },
    {
     "name": "stderr",
     "output_type": "stream",
     "text": [
      "\r",
      "Sampling chain 0, 0 divergences:  94%|█████████▍| 939/1000 [03:04<00:14,  4.31it/s]"
     ]
    },
    {
     "name": "stderr",
     "output_type": "stream",
     "text": [
      "\r",
      "Sampling chain 0, 0 divergences:  94%|█████████▍| 940/1000 [03:04<00:13,  4.32it/s]"
     ]
    },
    {
     "name": "stderr",
     "output_type": "stream",
     "text": [
      "\r",
      "Sampling chain 0, 0 divergences:  94%|█████████▍| 941/1000 [03:04<00:13,  4.25it/s]"
     ]
    },
    {
     "name": "stderr",
     "output_type": "stream",
     "text": [
      "\r",
      "Sampling chain 0, 0 divergences:  94%|█████████▍| 942/1000 [03:05<00:14,  4.09it/s]"
     ]
    },
    {
     "name": "stderr",
     "output_type": "stream",
     "text": [
      "\r",
      "Sampling chain 0, 0 divergences:  94%|█████████▍| 943/1000 [03:05<00:13,  4.09it/s]"
     ]
    },
    {
     "name": "stderr",
     "output_type": "stream",
     "text": [
      "\r",
      "Sampling chain 0, 0 divergences:  94%|█████████▍| 944/1000 [03:05<00:13,  4.08it/s]"
     ]
    },
    {
     "name": "stderr",
     "output_type": "stream",
     "text": [
      "\r",
      "Sampling chain 0, 0 divergences:  94%|█████████▍| 945/1000 [03:05<00:13,  3.99it/s]"
     ]
    },
    {
     "name": "stderr",
     "output_type": "stream",
     "text": [
      "\r",
      "Sampling chain 0, 0 divergences:  95%|█████████▍| 946/1000 [03:06<00:13,  3.94it/s]"
     ]
    },
    {
     "name": "stderr",
     "output_type": "stream",
     "text": [
      "\r",
      "Sampling chain 0, 0 divergences:  95%|█████████▍| 947/1000 [03:06<00:13,  3.86it/s]"
     ]
    },
    {
     "name": "stderr",
     "output_type": "stream",
     "text": [
      "\r",
      "Sampling chain 0, 0 divergences:  95%|█████████▍| 948/1000 [03:06<00:13,  3.80it/s]"
     ]
    },
    {
     "name": "stderr",
     "output_type": "stream",
     "text": [
      "\r",
      "Sampling chain 0, 0 divergences:  95%|█████████▍| 949/1000 [03:06<00:13,  3.91it/s]"
     ]
    },
    {
     "name": "stderr",
     "output_type": "stream",
     "text": [
      "\r",
      "Sampling chain 0, 0 divergences:  95%|█████████▌| 950/1000 [03:07<00:12,  4.08it/s]"
     ]
    },
    {
     "name": "stderr",
     "output_type": "stream",
     "text": [
      "\r",
      "Sampling chain 0, 0 divergences:  95%|█████████▌| 951/1000 [03:07<00:11,  4.15it/s]"
     ]
    },
    {
     "name": "stderr",
     "output_type": "stream",
     "text": [
      "\r",
      "Sampling chain 0, 0 divergences:  95%|█████████▌| 952/1000 [03:07<00:11,  4.19it/s]"
     ]
    },
    {
     "name": "stderr",
     "output_type": "stream",
     "text": [
      "\r",
      "Sampling chain 0, 0 divergences:  95%|█████████▌| 953/1000 [03:07<00:10,  4.29it/s]"
     ]
    },
    {
     "name": "stderr",
     "output_type": "stream",
     "text": [
      "\r",
      "Sampling chain 0, 0 divergences:  95%|█████████▌| 954/1000 [03:08<00:10,  4.37it/s]"
     ]
    },
    {
     "name": "stderr",
     "output_type": "stream",
     "text": [
      "\r",
      "Sampling chain 0, 0 divergences:  96%|█████████▌| 955/1000 [03:08<00:10,  4.35it/s]"
     ]
    },
    {
     "name": "stderr",
     "output_type": "stream",
     "text": [
      "\r",
      "Sampling chain 0, 0 divergences:  96%|█████████▌| 956/1000 [03:08<00:10,  4.39it/s]"
     ]
    },
    {
     "name": "stderr",
     "output_type": "stream",
     "text": [
      "\r",
      "Sampling chain 0, 0 divergences:  96%|█████████▌| 957/1000 [03:08<00:09,  4.40it/s]"
     ]
    },
    {
     "name": "stderr",
     "output_type": "stream",
     "text": [
      "\r",
      "Sampling chain 0, 0 divergences:  96%|█████████▌| 958/1000 [03:08<00:09,  4.43it/s]"
     ]
    },
    {
     "name": "stderr",
     "output_type": "stream",
     "text": [
      "\r",
      "Sampling chain 0, 0 divergences:  96%|█████████▌| 959/1000 [03:09<00:09,  4.46it/s]"
     ]
    },
    {
     "name": "stderr",
     "output_type": "stream",
     "text": [
      "\r",
      "Sampling chain 0, 0 divergences:  96%|█████████▌| 960/1000 [03:09<00:08,  4.45it/s]"
     ]
    },
    {
     "name": "stderr",
     "output_type": "stream",
     "text": [
      "\r",
      "Sampling chain 0, 0 divergences:  96%|█████████▌| 961/1000 [03:09<00:08,  4.40it/s]"
     ]
    },
    {
     "name": "stderr",
     "output_type": "stream",
     "text": [
      "\r",
      "Sampling chain 0, 0 divergences:  96%|█████████▌| 962/1000 [03:09<00:08,  4.38it/s]"
     ]
    },
    {
     "name": "stderr",
     "output_type": "stream",
     "text": [
      "\r",
      "Sampling chain 0, 0 divergences:  96%|█████████▋| 963/1000 [03:10<00:08,  4.40it/s]"
     ]
    },
    {
     "name": "stderr",
     "output_type": "stream",
     "text": [
      "\r",
      "Sampling chain 0, 0 divergences:  96%|█████████▋| 964/1000 [03:10<00:08,  4.41it/s]"
     ]
    },
    {
     "name": "stderr",
     "output_type": "stream",
     "text": [
      "\r",
      "Sampling chain 0, 0 divergences:  96%|█████████▋| 965/1000 [03:10<00:07,  4.44it/s]"
     ]
    },
    {
     "name": "stderr",
     "output_type": "stream",
     "text": [
      "\r",
      "Sampling chain 0, 0 divergences:  97%|█████████▋| 966/1000 [03:10<00:07,  4.38it/s]"
     ]
    },
    {
     "name": "stderr",
     "output_type": "stream",
     "text": [
      "\r",
      "Sampling chain 0, 0 divergences:  97%|█████████▋| 967/1000 [03:11<00:07,  4.42it/s]"
     ]
    },
    {
     "name": "stderr",
     "output_type": "stream",
     "text": [
      "\r",
      "Sampling chain 0, 0 divergences:  97%|█████████▋| 968/1000 [03:11<00:07,  4.38it/s]"
     ]
    },
    {
     "name": "stderr",
     "output_type": "stream",
     "text": [
      "\r",
      "Sampling chain 0, 0 divergences:  97%|█████████▋| 969/1000 [03:11<00:07,  4.32it/s]"
     ]
    },
    {
     "name": "stderr",
     "output_type": "stream",
     "text": [
      "\r",
      "Sampling chain 0, 0 divergences:  97%|█████████▋| 970/1000 [03:11<00:06,  4.38it/s]"
     ]
    },
    {
     "name": "stderr",
     "output_type": "stream",
     "text": [
      "\r",
      "Sampling chain 0, 0 divergences:  97%|█████████▋| 971/1000 [03:11<00:06,  4.41it/s]"
     ]
    },
    {
     "name": "stderr",
     "output_type": "stream",
     "text": [
      "\r",
      "Sampling chain 0, 0 divergences:  97%|█████████▋| 972/1000 [03:12<00:06,  4.44it/s]"
     ]
    },
    {
     "name": "stderr",
     "output_type": "stream",
     "text": [
      "\r",
      "Sampling chain 0, 0 divergences:  97%|█████████▋| 973/1000 [03:12<00:06,  4.44it/s]"
     ]
    },
    {
     "name": "stderr",
     "output_type": "stream",
     "text": [
      "\r",
      "Sampling chain 0, 0 divergences:  97%|█████████▋| 974/1000 [03:12<00:05,  4.45it/s]"
     ]
    },
    {
     "name": "stderr",
     "output_type": "stream",
     "text": [
      "\r",
      "Sampling chain 0, 0 divergences:  98%|█████████▊| 975/1000 [03:12<00:05,  4.40it/s]"
     ]
    },
    {
     "name": "stderr",
     "output_type": "stream",
     "text": [
      "\r",
      "Sampling chain 0, 0 divergences:  98%|█████████▊| 976/1000 [03:13<00:05,  4.40it/s]"
     ]
    },
    {
     "name": "stderr",
     "output_type": "stream",
     "text": [
      "\r",
      "Sampling chain 0, 0 divergences:  98%|█████████▊| 977/1000 [03:13<00:05,  4.37it/s]"
     ]
    },
    {
     "name": "stderr",
     "output_type": "stream",
     "text": [
      "\r",
      "Sampling chain 0, 0 divergences:  98%|█████████▊| 978/1000 [03:13<00:05,  4.39it/s]"
     ]
    },
    {
     "name": "stderr",
     "output_type": "stream",
     "text": [
      "\r",
      "Sampling chain 0, 0 divergences:  98%|█████████▊| 979/1000 [03:13<00:04,  4.22it/s]"
     ]
    },
    {
     "name": "stderr",
     "output_type": "stream",
     "text": [
      "\r",
      "Sampling chain 0, 0 divergences:  98%|█████████▊| 980/1000 [03:14<00:04,  4.23it/s]"
     ]
    },
    {
     "name": "stderr",
     "output_type": "stream",
     "text": [
      "\r",
      "Sampling chain 0, 0 divergences:  98%|█████████▊| 981/1000 [03:14<00:04,  4.29it/s]"
     ]
    },
    {
     "name": "stderr",
     "output_type": "stream",
     "text": [
      "\r",
      "Sampling chain 0, 0 divergences:  98%|█████████▊| 982/1000 [03:14<00:04,  4.29it/s]"
     ]
    },
    {
     "name": "stderr",
     "output_type": "stream",
     "text": [
      "\r",
      "Sampling chain 0, 0 divergences:  98%|█████████▊| 983/1000 [03:14<00:03,  4.34it/s]"
     ]
    },
    {
     "name": "stderr",
     "output_type": "stream",
     "text": [
      "\r",
      "Sampling chain 0, 0 divergences:  98%|█████████▊| 984/1000 [03:14<00:03,  4.29it/s]"
     ]
    },
    {
     "name": "stderr",
     "output_type": "stream",
     "text": [
      "\r",
      "Sampling chain 0, 0 divergences:  98%|█████████▊| 985/1000 [03:15<00:03,  4.38it/s]"
     ]
    },
    {
     "name": "stderr",
     "output_type": "stream",
     "text": [
      "\r",
      "Sampling chain 0, 0 divergences:  99%|█████████▊| 986/1000 [03:15<00:03,  4.43it/s]"
     ]
    },
    {
     "name": "stderr",
     "output_type": "stream",
     "text": [
      "\r",
      "Sampling chain 0, 0 divergences:  99%|█████████▊| 987/1000 [03:15<00:02,  4.42it/s]"
     ]
    },
    {
     "name": "stderr",
     "output_type": "stream",
     "text": [
      "\r",
      "Sampling chain 0, 0 divergences:  99%|█████████▉| 988/1000 [03:15<00:02,  4.15it/s]"
     ]
    },
    {
     "name": "stderr",
     "output_type": "stream",
     "text": [
      "\r",
      "Sampling chain 0, 0 divergences:  99%|█████████▉| 989/1000 [03:16<00:02,  4.24it/s]"
     ]
    },
    {
     "name": "stderr",
     "output_type": "stream",
     "text": [
      "\r",
      "Sampling chain 0, 0 divergences:  99%|█████████▉| 990/1000 [03:16<00:02,  4.32it/s]"
     ]
    },
    {
     "name": "stderr",
     "output_type": "stream",
     "text": [
      "\r",
      "Sampling chain 0, 0 divergences:  99%|█████████▉| 991/1000 [03:16<00:02,  4.32it/s]"
     ]
    },
    {
     "name": "stderr",
     "output_type": "stream",
     "text": [
      "\r",
      "Sampling chain 0, 0 divergences:  99%|█████████▉| 992/1000 [03:16<00:01,  4.32it/s]"
     ]
    },
    {
     "name": "stderr",
     "output_type": "stream",
     "text": [
      "\r",
      "Sampling chain 0, 0 divergences:  99%|█████████▉| 993/1000 [03:16<00:01,  4.36it/s]"
     ]
    },
    {
     "name": "stderr",
     "output_type": "stream",
     "text": [
      "\r",
      "Sampling chain 0, 0 divergences:  99%|█████████▉| 994/1000 [03:17<00:01,  4.38it/s]"
     ]
    },
    {
     "name": "stderr",
     "output_type": "stream",
     "text": [
      "\r",
      "Sampling chain 0, 0 divergences: 100%|█████████▉| 995/1000 [03:17<00:01,  4.39it/s]"
     ]
    },
    {
     "name": "stderr",
     "output_type": "stream",
     "text": [
      "\r",
      "Sampling chain 0, 0 divergences: 100%|█████████▉| 996/1000 [03:17<00:00,  4.33it/s]"
     ]
    },
    {
     "name": "stderr",
     "output_type": "stream",
     "text": [
      "\r",
      "Sampling chain 0, 0 divergences: 100%|█████████▉| 997/1000 [03:17<00:00,  4.12it/s]"
     ]
    },
    {
     "name": "stderr",
     "output_type": "stream",
     "text": [
      "\r",
      "Sampling chain 0, 0 divergences: 100%|█████████▉| 998/1000 [03:18<00:00,  4.23it/s]"
     ]
    },
    {
     "name": "stderr",
     "output_type": "stream",
     "text": [
      "\r",
      "Sampling chain 0, 0 divergences: 100%|█████████▉| 999/1000 [03:18<00:00,  4.30it/s]"
     ]
    },
    {
     "name": "stderr",
     "output_type": "stream",
     "text": [
      "\r",
      "Sampling chain 0, 0 divergences: 100%|██████████| 1000/1000 [03:18<00:00,  4.11it/s]"
     ]
    },
    {
     "name": "stderr",
     "output_type": "stream",
     "text": [
      "\r",
      "Sampling chain 0, 0 divergences: 100%|██████████| 1000/1000 [03:18<00:00,  5.03it/s]"
     ]
    },
    {
     "name": "stderr",
     "output_type": "stream",
     "text": [
      "\n",
      "The chain reached the maximum tree depth. Increase max_treedepth, increase target_accept or reparameterize.\n"
     ]
    },
    {
     "name": "stderr",
     "output_type": "stream",
     "text": [
      "Only one chain was sampled, this makes it impossible to run some convergence checks\n"
     ]
    }
   ],
   "source": [
    "#hide\n",
    "\n",
    "df, df_pred = get_statewise_testing_data()\n",
    "\n",
    "# Initialize the model:\n",
    "mod = case_count_model_us_states(df)\n",
    "\n",
    "# Run MCMC sampler\n",
    "with mod:\n",
    "    trace = pm.sample(500, tune=500, chains=1)"
   ]
  },
  {
   "cell_type": "code",
   "execution_count": 5,
   "metadata": {
    "execution": {
     "iopub.execute_input": "2020-05-16T04:20:06.930028Z",
     "iopub.status.busy": "2020-05-16T04:20:06.924443Z",
     "iopub.status.idle": "2020-05-16T04:20:07.556033Z",
     "shell.execute_reply": "2020-05-16T04:20:07.556652Z"
    },
    "papermill": {
     "duration": 0.908182,
     "end_time": "2020-05-16T04:20:07.556818",
     "exception": false,
     "start_time": "2020-05-16T04:20:06.648636",
     "status": "completed"
    },
    "scrolled": true,
    "tags": []
   },
   "outputs": [
    {
     "data": {
      "text/markdown": [
       "## Summary for the United States on 2020-05-16:"
      ],
      "text/plain": [
       "<IPython.core.display.Markdown object>"
      ]
     },
     "metadata": {},
     "output_type": "display_data"
    },
    {
     "data": {
      "text/markdown": [
       "**Reported Case Count:**  1,430,912"
      ],
      "text/plain": [
       "<IPython.core.display.Markdown object>"
      ]
     },
     "metadata": {},
     "output_type": "display_data"
    },
    {
     "data": {
      "text/markdown": [
       "**Predicted Case Count:**  1,774,409"
      ],
      "text/plain": [
       "<IPython.core.display.Markdown object>"
      ]
     },
     "metadata": {},
     "output_type": "display_data"
    },
    {
     "data": {
      "text/markdown": [
       "**Percentage Underreporting in Case Count:**  19.4%"
      ],
      "text/plain": [
       "<IPython.core.display.Markdown object>"
      ]
     },
     "metadata": {},
     "output_type": "display_data"
    }
   ],
   "source": [
    "#hide_input\n",
    "\n",
    "n = len(trace['beta'])\n",
    "\n",
    "# South Korea:\n",
    "ppt_sk = np.log10(51500000. / 250000)\n",
    "\n",
    "\n",
    "# Compute predicted case counts per state right now\n",
    "logit_now = pd.DataFrame([\n",
    "    pd.Series(np.random.normal((trace['alpha'][i] + trace['beta'][i] * (np.log10(df_pred['people_per_test']) - ppt_sk)),\n",
    "                     trace['sigma'][i]), index=df_pred.index)\n",
    "    for i in range(len(trace['beta']))])\n",
    "prob_missing_now = np.exp(logit_now) / (np.exp(logit_now) + 1) \n",
    "\n",
    "predicted_counts_now = np.round(df_pred['positive'] / prob_missing_now.mean(axis=0)).astype(int)\n",
    "\n",
    "predicted_counts_now_lower = np.round(df_pred['positive'] / prob_missing_now.quantile(0.975, axis=0)).astype(int)\n",
    "predicted_counts_now_upper = np.round(df_pred['positive'] / prob_missing_now.quantile(0.025, axis=0)).astype(int)\n",
    "\n",
    "case_increase_percent = list(map(lambda x, y: (((x - y) / float(y))),\n",
    "                                 predicted_counts_now, df_pred['positive']))\n",
    "\n",
    "df_summary = pd.DataFrame(\n",
    "    data = {\n",
    "     'Cases Reported': df_pred['positive'],\n",
    "     'Cases Estimated': predicted_counts_now,\n",
    "     'Percent Increase': case_increase_percent,\n",
    "     'Tests per Million People': df_pred['tests_per_million'].round(1),\n",
    "     'Cases Estimated (range)': list(map(lambda x, y: '(%i, %i)' % (round(x), round(y)),\n",
    "                                        predicted_counts_now_lower, predicted_counts_now_upper)),\n",
    "     'Cases per Million': ((df_pred['positive'] / df_pred['total_population']) * 1e6),\n",
    "     'Positive Test Rate': (df_pred['positive'] / (df_pred['positive'] + df_pred['negative']))\n",
    "    },\n",
    "    index=df_pred.index)\n",
    "\n",
    "from datetime import datetime\n",
    "display(Markdown(\"## Summary for the United States on %s:\" % str(datetime.today())[:10]))\n",
    "display(Markdown(f\"**Reported Case Count:**  {df_summary['Cases Reported'].sum():,}\"))\n",
    "display(Markdown(f\"**Predicted Case Count:**  {df_summary['Cases Estimated'].sum():,}\"))\n",
    "case_increase_percent = 100. * (df_summary['Cases Estimated'].sum() - df_summary['Cases Reported'].sum()) / df_summary['Cases Estimated'].sum()\n",
    "display(Markdown(\"**Percentage Underreporting in Case Count:**  %.1f%%\" % case_increase_percent))"
   ]
  },
  {
   "cell_type": "code",
   "execution_count": 6,
   "metadata": {
    "execution": {
     "iopub.execute_input": "2020-05-16T04:20:08.190477Z",
     "iopub.status.busy": "2020-05-16T04:20:08.189889Z",
     "iopub.status.idle": "2020-05-16T04:20:08.194288Z",
     "shell.execute_reply": "2020-05-16T04:20:08.193730Z"
    },
    "papermill": {
     "duration": 0.287531,
     "end_time": "2020-05-16T04:20:08.194426",
     "exception": false,
     "start_time": "2020-05-16T04:20:07.906895",
     "status": "completed"
    },
    "tags": []
   },
   "outputs": [],
   "source": [
    "#hide\n",
    "df_summary.loc[:, 'Ratio'] = df_summary['Cases Estimated'] / df_summary['Cases Reported']\n",
    "df_summary.columns = ['Reported Cases', 'Est Cases', '% Increase',\n",
    "                      'Tests per Million', 'Est Range',\n",
    "                      'Cases per Million', 'Positive Test Rate',\n",
    "                      'Ratio']\n",
    "\n",
    "df_display = df_summary[['Reported Cases', 'Est Cases', 'Est Range', 'Ratio',\n",
    "                         'Tests per Million', 'Cases per Million',\n",
    "                         'Positive Test Rate']].copy()"
   ]
  },
  {
   "cell_type": "markdown",
   "metadata": {
    "papermill": {
     "duration": 0.317869,
     "end_time": "2020-05-16T04:20:08.833799",
     "exception": false,
     "start_time": "2020-05-16T04:20:08.515930",
     "status": "completed"
    },
    "tags": []
   },
   "source": [
    "## COVID-19 Case Estimates, by State\n",
    "\n",
    "### Definition Of Fields:\n",
    "\n",
    "- **Reported Cases**:  The number of cases reported by each state, which is a function of how many tests are positive.\n",
    "- **Est Cases**: The predicted number of cases, accounting for the fact that not everyone is tested.\n",
    "- **Est Range**: The 95% confidence interval of the predicted number of cases.\n",
    "- **Ratio**: `Estimated Cases` divided by `Reported Cases`.\n",
    "- **Tests per Million**:  The number of tests administered per one million people.  The less tests administered per capita, the larger the difference between reported and estimated number of cases, generally.\n",
    "- **Cases per Million**: The number of **reported** cases per on million people.\n",
    "- **Positive Test Rate**: The **reported** percentage of positive tests."
   ]
  },
  {
   "cell_type": "code",
   "execution_count": 7,
   "metadata": {
    "execution": {
     "iopub.execute_input": "2020-05-16T04:20:09.452007Z",
     "iopub.status.busy": "2020-05-16T04:20:09.451358Z",
     "iopub.status.idle": "2020-05-16T04:20:09.737593Z",
     "shell.execute_reply": "2020-05-16T04:20:09.738087Z"
    },
    "papermill": {
     "duration": 0.577874,
     "end_time": "2020-05-16T04:20:09.739310",
     "exception": false,
     "start_time": "2020-05-16T04:20:09.161436",
     "status": "completed"
    },
    "tags": []
   },
   "outputs": [
    {
     "data": {
      "text/html": [
       "<style  type=\"text/css\" >\n",
       "    #T_879256d0_972c_11ea_85d6_000d3aa443afrow0_col0 {\n",
       "            background-color:  #7f2704;\n",
       "            color:  #f1f1f1;\n",
       "        }    #T_879256d0_972c_11ea_85d6_000d3aa443afrow0_col1 {\n",
       "            background-color:  #7f2704;\n",
       "            color:  #f1f1f1;\n",
       "        }    #T_879256d0_972c_11ea_85d6_000d3aa443afrow0_col3 {\n",
       "            background-color:  #fedebd;\n",
       "            color:  #000000;\n",
       "        }    #T_879256d0_972c_11ea_85d6_000d3aa443afrow0_col4 {\n",
       "            background-color:  #f16813;\n",
       "            color:  #000000;\n",
       "        }    #T_879256d0_972c_11ea_85d6_000d3aa443afrow0_col5 {\n",
       "            background-color:  #7f2704;\n",
       "            color:  #f1f1f1;\n",
       "        }    #T_879256d0_972c_11ea_85d6_000d3aa443afrow0_col6 {\n",
       "            background-color:  #b93d02;\n",
       "            color:  #f1f1f1;\n",
       "        }    #T_879256d0_972c_11ea_85d6_000d3aa443afrow1_col0 {\n",
       "            background-color:  #fda35c;\n",
       "            color:  #000000;\n",
       "        }    #T_879256d0_972c_11ea_85d6_000d3aa443afrow1_col1 {\n",
       "            background-color:  #fda25a;\n",
       "            color:  #000000;\n",
       "        }    #T_879256d0_972c_11ea_85d6_000d3aa443afrow1_col3 {\n",
       "            background-color:  #fdd1a4;\n",
       "            color:  #000000;\n",
       "        }    #T_879256d0_972c_11ea_85d6_000d3aa443afrow1_col4 {\n",
       "            background-color:  #fda159;\n",
       "            color:  #000000;\n",
       "        }    #T_879256d0_972c_11ea_85d6_000d3aa443afrow1_col5 {\n",
       "            background-color:  #9b3203;\n",
       "            color:  #f1f1f1;\n",
       "        }    #T_879256d0_972c_11ea_85d6_000d3aa443afrow1_col6 {\n",
       "            background-color:  #7f2704;\n",
       "            color:  #f1f1f1;\n",
       "        }    #T_879256d0_972c_11ea_85d6_000d3aa443afrow2_col0 {\n",
       "            background-color:  #fdce9e;\n",
       "            color:  #000000;\n",
       "        }    #T_879256d0_972c_11ea_85d6_000d3aa443afrow2_col1 {\n",
       "            background-color:  #fdcb9b;\n",
       "            color:  #000000;\n",
       "        }    #T_879256d0_972c_11ea_85d6_000d3aa443afrow2_col3 {\n",
       "            background-color:  #fdac67;\n",
       "            color:  #000000;\n",
       "        }    #T_879256d0_972c_11ea_85d6_000d3aa443afrow2_col4 {\n",
       "            background-color:  #fdc189;\n",
       "            color:  #000000;\n",
       "        }    #T_879256d0_972c_11ea_85d6_000d3aa443afrow2_col5 {\n",
       "            background-color:  #fdac67;\n",
       "            color:  #000000;\n",
       "        }    #T_879256d0_972c_11ea_85d6_000d3aa443afrow2_col6 {\n",
       "            background-color:  #fb8735;\n",
       "            color:  #000000;\n",
       "        }    #T_879256d0_972c_11ea_85d6_000d3aa443afrow3_col0 {\n",
       "            background-color:  #fdd2a6;\n",
       "            color:  #000000;\n",
       "        }    #T_879256d0_972c_11ea_85d6_000d3aa443afrow3_col1 {\n",
       "            background-color:  #fdd2a6;\n",
       "            color:  #000000;\n",
       "        }    #T_879256d0_972c_11ea_85d6_000d3aa443afrow3_col3 {\n",
       "            background-color:  #fdd7af;\n",
       "            color:  #000000;\n",
       "        }    #T_879256d0_972c_11ea_85d6_000d3aa443afrow3_col4 {\n",
       "            background-color:  #f77b28;\n",
       "            color:  #000000;\n",
       "        }    #T_879256d0_972c_11ea_85d6_000d3aa443afrow3_col5 {\n",
       "            background-color:  #e75c0c;\n",
       "            color:  #000000;\n",
       "        }    #T_879256d0_972c_11ea_85d6_000d3aa443afrow3_col6 {\n",
       "            background-color:  #f3701b;\n",
       "            color:  #000000;\n",
       "        }    #T_879256d0_972c_11ea_85d6_000d3aa443afrow4_col0 {\n",
       "            background-color:  #fdd6ae;\n",
       "            color:  #000000;\n",
       "        }    #T_879256d0_972c_11ea_85d6_000d3aa443afrow4_col1 {\n",
       "            background-color:  #fdd4aa;\n",
       "            color:  #000000;\n",
       "        }    #T_879256d0_972c_11ea_85d6_000d3aa443afrow4_col3 {\n",
       "            background-color:  #f4711c;\n",
       "            color:  #000000;\n",
       "        }    #T_879256d0_972c_11ea_85d6_000d3aa443afrow4_col4 {\n",
       "            background-color:  #fee5cb;\n",
       "            color:  #000000;\n",
       "        }    #T_879256d0_972c_11ea_85d6_000d3aa443afrow4_col5 {\n",
       "            background-color:  #feebd8;\n",
       "            color:  #000000;\n",
       "        }    #T_879256d0_972c_11ea_85d6_000d3aa443afrow4_col6 {\n",
       "            background-color:  #fedcbb;\n",
       "            color:  #000000;\n",
       "        }    #T_879256d0_972c_11ea_85d6_000d3aa443afrow5_col0 {\n",
       "            background-color:  #fedebd;\n",
       "            color:  #000000;\n",
       "        }    #T_879256d0_972c_11ea_85d6_000d3aa443afrow5_col1 {\n",
       "            background-color:  #fddbb8;\n",
       "            color:  #000000;\n",
       "        }    #T_879256d0_972c_11ea_85d6_000d3aa443afrow5_col3 {\n",
       "            background-color:  #e4580a;\n",
       "            color:  #000000;\n",
       "        }    #T_879256d0_972c_11ea_85d6_000d3aa443afrow5_col4 {\n",
       "            background-color:  #feead6;\n",
       "            color:  #000000;\n",
       "        }    #T_879256d0_972c_11ea_85d6_000d3aa443afrow5_col5 {\n",
       "            background-color:  #fdd1a3;\n",
       "            color:  #000000;\n",
       "        }    #T_879256d0_972c_11ea_85d6_000d3aa443afrow5_col6 {\n",
       "            background-color:  #f4711c;\n",
       "            color:  #000000;\n",
       "        }    #T_879256d0_972c_11ea_85d6_000d3aa443afrow6_col0 {\n",
       "            background-color:  #fee3c8;\n",
       "            color:  #000000;\n",
       "        }    #T_879256d0_972c_11ea_85d6_000d3aa443afrow6_col1 {\n",
       "            background-color:  #fee2c6;\n",
       "            color:  #000000;\n",
       "        }    #T_879256d0_972c_11ea_85d6_000d3aa443afrow6_col3 {\n",
       "            background-color:  #fa8532;\n",
       "            color:  #000000;\n",
       "        }    #T_879256d0_972c_11ea_85d6_000d3aa443afrow6_col4 {\n",
       "            background-color:  #fdd5ab;\n",
       "            color:  #000000;\n",
       "        }    #T_879256d0_972c_11ea_85d6_000d3aa443afrow6_col5 {\n",
       "            background-color:  #fdcd9c;\n",
       "            color:  #000000;\n",
       "        }    #T_879256d0_972c_11ea_85d6_000d3aa443afrow6_col6 {\n",
       "            background-color:  #fda057;\n",
       "            color:  #000000;\n",
       "        }    #T_879256d0_972c_11ea_85d6_000d3aa443afrow7_col0 {\n",
       "            background-color:  #fee5cc;\n",
       "            color:  #000000;\n",
       "        }    #T_879256d0_972c_11ea_85d6_000d3aa443afrow7_col1 {\n",
       "            background-color:  #fee3c8;\n",
       "            color:  #000000;\n",
       "        }    #T_879256d0_972c_11ea_85d6_000d3aa443afrow7_col3 {\n",
       "            background-color:  #b93d02;\n",
       "            color:  #f1f1f1;\n",
       "        }    #T_879256d0_972c_11ea_85d6_000d3aa443afrow7_col4 {\n",
       "            background-color:  #ffeede;\n",
       "            color:  #000000;\n",
       "        }    #T_879256d0_972c_11ea_85d6_000d3aa443afrow7_col5 {\n",
       "            background-color:  #feeddc;\n",
       "            color:  #000000;\n",
       "        }    #T_879256d0_972c_11ea_85d6_000d3aa443afrow7_col6 {\n",
       "            background-color:  #fddab6;\n",
       "            color:  #000000;\n",
       "        }    #T_879256d0_972c_11ea_85d6_000d3aa443afrow8_col0 {\n",
       "            background-color:  #fee6cf;\n",
       "            color:  #000000;\n",
       "        }    #T_879256d0_972c_11ea_85d6_000d3aa443afrow8_col1 {\n",
       "            background-color:  #fee5cc;\n",
       "            color:  #000000;\n",
       "        }    #T_879256d0_972c_11ea_85d6_000d3aa443afrow8_col3 {\n",
       "            background-color:  #f77a27;\n",
       "            color:  #000000;\n",
       "        }    #T_879256d0_972c_11ea_85d6_000d3aa443afrow8_col4 {\n",
       "            background-color:  #fee5cc;\n",
       "            color:  #000000;\n",
       "        }    #T_879256d0_972c_11ea_85d6_000d3aa443afrow8_col5 {\n",
       "            background-color:  #feead6;\n",
       "            color:  #000000;\n",
       "        }    #T_879256d0_972c_11ea_85d6_000d3aa443afrow8_col6 {\n",
       "            background-color:  #fdd9b5;\n",
       "            color:  #000000;\n",
       "        }    #T_879256d0_972c_11ea_85d6_000d3aa443afrow9_col0 {\n",
       "            background-color:  #fee8d2;\n",
       "            color:  #000000;\n",
       "        }    #T_879256d0_972c_11ea_85d6_000d3aa443afrow9_col1 {\n",
       "            background-color:  #fee7d1;\n",
       "            color:  #000000;\n",
       "        }    #T_879256d0_972c_11ea_85d6_000d3aa443afrow9_col3 {\n",
       "            background-color:  #ee6410;\n",
       "            color:  #000000;\n",
       "        }    #T_879256d0_972c_11ea_85d6_000d3aa443afrow9_col4 {\n",
       "            background-color:  #fee1c4;\n",
       "            color:  #000000;\n",
       "        }    #T_879256d0_972c_11ea_85d6_000d3aa443afrow9_col5 {\n",
       "            background-color:  #fdbb81;\n",
       "            color:  #000000;\n",
       "        }    #T_879256d0_972c_11ea_85d6_000d3aa443afrow9_col6 {\n",
       "            background-color:  #ee6511;\n",
       "            color:  #000000;\n",
       "        }    #T_879256d0_972c_11ea_85d6_000d3aa443afrow10_col0 {\n",
       "            background-color:  #fee9d3;\n",
       "            color:  #000000;\n",
       "        }    #T_879256d0_972c_11ea_85d6_000d3aa443afrow10_col1 {\n",
       "            background-color:  #fee8d2;\n",
       "            color:  #000000;\n",
       "        }    #T_879256d0_972c_11ea_85d6_000d3aa443afrow10_col3 {\n",
       "            background-color:  #f16913;\n",
       "            color:  #000000;\n",
       "        }    #T_879256d0_972c_11ea_85d6_000d3aa443afrow10_col4 {\n",
       "            background-color:  #fee5cc;\n",
       "            color:  #000000;\n",
       "        }    #T_879256d0_972c_11ea_85d6_000d3aa443afrow10_col5 {\n",
       "            background-color:  #fedebd;\n",
       "            color:  #000000;\n",
       "        }    #T_879256d0_972c_11ea_85d6_000d3aa443afrow10_col6 {\n",
       "            background-color:  #fdb170;\n",
       "            color:  #000000;\n",
       "        }    #T_879256d0_972c_11ea_85d6_000d3aa443afrow11_col0 {\n",
       "            background-color:  #fee9d3;\n",
       "            color:  #000000;\n",
       "        }    #T_879256d0_972c_11ea_85d6_000d3aa443afrow11_col1 {\n",
       "            background-color:  #fee8d2;\n",
       "            color:  #000000;\n",
       "        }    #T_879256d0_972c_11ea_85d6_000d3aa443afrow11_col3 {\n",
       "            background-color:  #fd974a;\n",
       "            color:  #000000;\n",
       "        }    #T_879256d0_972c_11ea_85d6_000d3aa443afrow11_col4 {\n",
       "            background-color:  #fdbd83;\n",
       "            color:  #000000;\n",
       "        }    #T_879256d0_972c_11ea_85d6_000d3aa443afrow11_col5 {\n",
       "            background-color:  #f87d29;\n",
       "            color:  #000000;\n",
       "        }    #T_879256d0_972c_11ea_85d6_000d3aa443afrow11_col6 {\n",
       "            background-color:  #db4b03;\n",
       "            color:  #f1f1f1;\n",
       "        }    #T_879256d0_972c_11ea_85d6_000d3aa443afrow12_col0 {\n",
       "            background-color:  #feead5;\n",
       "            color:  #000000;\n",
       "        }    #T_879256d0_972c_11ea_85d6_000d3aa443afrow12_col1 {\n",
       "            background-color:  #fee9d4;\n",
       "            color:  #000000;\n",
       "        }    #T_879256d0_972c_11ea_85d6_000d3aa443afrow12_col3 {\n",
       "            background-color:  #fdb87c;\n",
       "            color:  #000000;\n",
       "        }    #T_879256d0_972c_11ea_85d6_000d3aa443afrow12_col4 {\n",
       "            background-color:  #fd9a4e;\n",
       "            color:  #000000;\n",
       "        }    #T_879256d0_972c_11ea_85d6_000d3aa443afrow12_col5 {\n",
       "            background-color:  #fda863;\n",
       "            color:  #000000;\n",
       "        }    #T_879256d0_972c_11ea_85d6_000d3aa443afrow12_col6 {\n",
       "            background-color:  #fda55f;\n",
       "            color:  #000000;\n",
       "        }    #T_879256d0_972c_11ea_85d6_000d3aa443afrow13_col0 {\n",
       "            background-color:  #feecd9;\n",
       "            color:  #000000;\n",
       "        }    #T_879256d0_972c_11ea_85d6_000d3aa443afrow13_col1 {\n",
       "            background-color:  #feead6;\n",
       "            color:  #000000;\n",
       "        }    #T_879256d0_972c_11ea_85d6_000d3aa443afrow13_col3 {\n",
       "            background-color:  #ab3803;\n",
       "            color:  #f1f1f1;\n",
       "        }    #T_879256d0_972c_11ea_85d6_000d3aa443afrow13_col4 {\n",
       "            background-color:  #fff0e2;\n",
       "            color:  #000000;\n",
       "        }    #T_879256d0_972c_11ea_85d6_000d3aa443afrow13_col5 {\n",
       "            background-color:  #fedebf;\n",
       "            color:  #000000;\n",
       "        }    #T_879256d0_972c_11ea_85d6_000d3aa443afrow13_col6 {\n",
       "            background-color:  #fd8e3d;\n",
       "            color:  #000000;\n",
       "        }    #T_879256d0_972c_11ea_85d6_000d3aa443afrow14_col0 {\n",
       "            background-color:  #feecda;\n",
       "            color:  #000000;\n",
       "        }    #T_879256d0_972c_11ea_85d6_000d3aa443afrow14_col1 {\n",
       "            background-color:  #feebd8;\n",
       "            color:  #000000;\n",
       "        }    #T_879256d0_972c_11ea_85d6_000d3aa443afrow14_col3 {\n",
       "            background-color:  #a83703;\n",
       "            color:  #f1f1f1;\n",
       "        }    #T_879256d0_972c_11ea_85d6_000d3aa443afrow14_col4 {\n",
       "            background-color:  #fff0e2;\n",
       "            color:  #000000;\n",
       "        }    #T_879256d0_972c_11ea_85d6_000d3aa443afrow14_col5 {\n",
       "            background-color:  #fee8d2;\n",
       "            color:  #000000;\n",
       "        }    #T_879256d0_972c_11ea_85d6_000d3aa443afrow14_col6 {\n",
       "            background-color:  #fdbb81;\n",
       "            color:  #000000;\n",
       "        }    #T_879256d0_972c_11ea_85d6_000d3aa443afrow15_col0 {\n",
       "            background-color:  #feecda;\n",
       "            color:  #000000;\n",
       "        }    #T_879256d0_972c_11ea_85d6_000d3aa443afrow15_col1 {\n",
       "            background-color:  #feebd8;\n",
       "            color:  #000000;\n",
       "        }    #T_879256d0_972c_11ea_85d6_000d3aa443afrow15_col3 {\n",
       "            background-color:  #c64102;\n",
       "            color:  #f1f1f1;\n",
       "        }    #T_879256d0_972c_11ea_85d6_000d3aa443afrow15_col4 {\n",
       "            background-color:  #feebd8;\n",
       "            color:  #000000;\n",
       "        }    #T_879256d0_972c_11ea_85d6_000d3aa443afrow15_col5 {\n",
       "            background-color:  #fdd8b2;\n",
       "            color:  #000000;\n",
       "        }    #T_879256d0_972c_11ea_85d6_000d3aa443afrow15_col6 {\n",
       "            background-color:  #fd8e3d;\n",
       "            color:  #000000;\n",
       "        }    #T_879256d0_972c_11ea_85d6_000d3aa443afrow16_col0 {\n",
       "            background-color:  #ffeedd;\n",
       "            color:  #000000;\n",
       "        }    #T_879256d0_972c_11ea_85d6_000d3aa443afrow16_col1 {\n",
       "            background-color:  #feeddc;\n",
       "            color:  #000000;\n",
       "        }    #T_879256d0_972c_11ea_85d6_000d3aa443afrow16_col3 {\n",
       "            background-color:  #9e3303;\n",
       "            color:  #f1f1f1;\n",
       "        }    #T_879256d0_972c_11ea_85d6_000d3aa443afrow16_col4 {\n",
       "            background-color:  #fff1e3;\n",
       "            color:  #000000;\n",
       "        }    #T_879256d0_972c_11ea_85d6_000d3aa443afrow16_col5 {\n",
       "            background-color:  #fedcbb;\n",
       "            color:  #000000;\n",
       "        }    #T_879256d0_972c_11ea_85d6_000d3aa443afrow16_col6 {\n",
       "            background-color:  #f87f2c;\n",
       "            color:  #000000;\n",
       "        }    #T_879256d0_972c_11ea_85d6_000d3aa443afrow17_col0 {\n",
       "            background-color:  #ffefe0;\n",
       "            color:  #000000;\n",
       "        }    #T_879256d0_972c_11ea_85d6_000d3aa443afrow17_col1 {\n",
       "            background-color:  #ffefdf;\n",
       "            color:  #000000;\n",
       "        }    #T_879256d0_972c_11ea_85d6_000d3aa443afrow17_col3 {\n",
       "            background-color:  #b03903;\n",
       "            color:  #f1f1f1;\n",
       "        }    #T_879256d0_972c_11ea_85d6_000d3aa443afrow17_col4 {\n",
       "            background-color:  #ffefdf;\n",
       "            color:  #000000;\n",
       "        }    #T_879256d0_972c_11ea_85d6_000d3aa443afrow17_col5 {\n",
       "            background-color:  #feeddc;\n",
       "            color:  #000000;\n",
       "        }    #T_879256d0_972c_11ea_85d6_000d3aa443afrow17_col6 {\n",
       "            background-color:  #fdd7b1;\n",
       "            color:  #000000;\n",
       "        }    #T_879256d0_972c_11ea_85d6_000d3aa443afrow18_col0 {\n",
       "            background-color:  #ffefe0;\n",
       "            color:  #000000;\n",
       "        }    #T_879256d0_972c_11ea_85d6_000d3aa443afrow18_col1 {\n",
       "            background-color:  #ffefdf;\n",
       "            color:  #000000;\n",
       "        }    #T_879256d0_972c_11ea_85d6_000d3aa443afrow18_col3 {\n",
       "            background-color:  #f77b28;\n",
       "            color:  #000000;\n",
       "        }    #T_879256d0_972c_11ea_85d6_000d3aa443afrow18_col4 {\n",
       "            background-color:  #fdd6ae;\n",
       "            color:  #000000;\n",
       "        }    #T_879256d0_972c_11ea_85d6_000d3aa443afrow18_col5 {\n",
       "            background-color:  #fee8d2;\n",
       "            color:  #000000;\n",
       "        }    #T_879256d0_972c_11ea_85d6_000d3aa443afrow18_col6 {\n",
       "            background-color:  #fedcbb;\n",
       "            color:  #000000;\n",
       "        }    #T_879256d0_972c_11ea_85d6_000d3aa443afrow19_col0 {\n",
       "            background-color:  #ffefe0;\n",
       "            color:  #000000;\n",
       "        }    #T_879256d0_972c_11ea_85d6_000d3aa443afrow19_col1 {\n",
       "            background-color:  #ffefe0;\n",
       "            color:  #000000;\n",
       "        }    #T_879256d0_972c_11ea_85d6_000d3aa443afrow19_col3 {\n",
       "            background-color:  #fdbe84;\n",
       "            color:  #000000;\n",
       "        }    #T_879256d0_972c_11ea_85d6_000d3aa443afrow19_col4 {\n",
       "            background-color:  #fdb77a;\n",
       "            color:  #000000;\n",
       "        }    #T_879256d0_972c_11ea_85d6_000d3aa443afrow19_col5 {\n",
       "            background-color:  #fee7d0;\n",
       "            color:  #000000;\n",
       "        }    #T_879256d0_972c_11ea_85d6_000d3aa443afrow19_col6 {\n",
       "            background-color:  #fee3c8;\n",
       "            color:  #000000;\n",
       "        }    #T_879256d0_972c_11ea_85d6_000d3aa443afrow20_col0 {\n",
       "            background-color:  #fff0e2;\n",
       "            color:  #000000;\n",
       "        }    #T_879256d0_972c_11ea_85d6_000d3aa443afrow20_col1 {\n",
       "            background-color:  #fff0e1;\n",
       "            color:  #000000;\n",
       "        }    #T_879256d0_972c_11ea_85d6_000d3aa443afrow20_col3 {\n",
       "            background-color:  #d64701;\n",
       "            color:  #f1f1f1;\n",
       "        }    #T_879256d0_972c_11ea_85d6_000d3aa443afrow20_col4 {\n",
       "            background-color:  #feecda;\n",
       "            color:  #000000;\n",
       "        }    #T_879256d0_972c_11ea_85d6_000d3aa443afrow20_col5 {\n",
       "            background-color:  #fee7d0;\n",
       "            color:  #000000;\n",
       "        }    #T_879256d0_972c_11ea_85d6_000d3aa443afrow20_col6 {\n",
       "            background-color:  #fdbf86;\n",
       "            color:  #000000;\n",
       "        }    #T_879256d0_972c_11ea_85d6_000d3aa443afrow21_col0 {\n",
       "            background-color:  #fff0e2;\n",
       "            color:  #000000;\n",
       "        }    #T_879256d0_972c_11ea_85d6_000d3aa443afrow21_col1 {\n",
       "            background-color:  #fff0e2;\n",
       "            color:  #000000;\n",
       "        }    #T_879256d0_972c_11ea_85d6_000d3aa443afrow21_col3 {\n",
       "            background-color:  #f3701b;\n",
       "            color:  #000000;\n",
       "        }    #T_879256d0_972c_11ea_85d6_000d3aa443afrow21_col4 {\n",
       "            background-color:  #fee2c7;\n",
       "            color:  #000000;\n",
       "        }    #T_879256d0_972c_11ea_85d6_000d3aa443afrow21_col5 {\n",
       "            background-color:  #fdd3a9;\n",
       "            color:  #000000;\n",
       "        }    #T_879256d0_972c_11ea_85d6_000d3aa443afrow21_col6 {\n",
       "            background-color:  #fd974a;\n",
       "            color:  #000000;\n",
       "        }    #T_879256d0_972c_11ea_85d6_000d3aa443afrow22_col0 {\n",
       "            background-color:  #fff1e3;\n",
       "            color:  #000000;\n",
       "        }    #T_879256d0_972c_11ea_85d6_000d3aa443afrow22_col1 {\n",
       "            background-color:  #fff0e2;\n",
       "            color:  #000000;\n",
       "        }    #T_879256d0_972c_11ea_85d6_000d3aa443afrow22_col3 {\n",
       "            background-color:  #862a04;\n",
       "            color:  #f1f1f1;\n",
       "        }    #T_879256d0_972c_11ea_85d6_000d3aa443afrow22_col4 {\n",
       "            background-color:  #fff3e6;\n",
       "            color:  #000000;\n",
       "        }    #T_879256d0_972c_11ea_85d6_000d3aa443afrow22_col5 {\n",
       "            background-color:  #feecd9;\n",
       "            color:  #000000;\n",
       "        }    #T_879256d0_972c_11ea_85d6_000d3aa443afrow22_col6 {\n",
       "            background-color:  #fdca99;\n",
       "            color:  #000000;\n",
       "        }    #T_879256d0_972c_11ea_85d6_000d3aa443afrow23_col0 {\n",
       "            background-color:  #fff1e4;\n",
       "            color:  #000000;\n",
       "        }    #T_879256d0_972c_11ea_85d6_000d3aa443afrow23_col1 {\n",
       "            background-color:  #fff1e3;\n",
       "            color:  #000000;\n",
       "        }    #T_879256d0_972c_11ea_85d6_000d3aa443afrow23_col3 {\n",
       "            background-color:  #c34002;\n",
       "            color:  #f1f1f1;\n",
       "        }    #T_879256d0_972c_11ea_85d6_000d3aa443afrow23_col4 {\n",
       "            background-color:  #feecd9;\n",
       "            color:  #000000;\n",
       "        }    #T_879256d0_972c_11ea_85d6_000d3aa443afrow23_col5 {\n",
       "            background-color:  #feead6;\n",
       "            color:  #000000;\n",
       "        }    #T_879256d0_972c_11ea_85d6_000d3aa443afrow23_col6 {\n",
       "            background-color:  #fdd2a6;\n",
       "            color:  #000000;\n",
       "        }    #T_879256d0_972c_11ea_85d6_000d3aa443afrow24_col0 {\n",
       "            background-color:  #fff1e4;\n",
       "            color:  #000000;\n",
       "        }    #T_879256d0_972c_11ea_85d6_000d3aa443afrow24_col1 {\n",
       "            background-color:  #fff1e4;\n",
       "            color:  #000000;\n",
       "        }    #T_879256d0_972c_11ea_85d6_000d3aa443afrow24_col3 {\n",
       "            background-color:  #ec620f;\n",
       "            color:  #000000;\n",
       "        }    #T_879256d0_972c_11ea_85d6_000d3aa443afrow24_col4 {\n",
       "            background-color:  #fee2c6;\n",
       "            color:  #000000;\n",
       "        }    #T_879256d0_972c_11ea_85d6_000d3aa443afrow24_col5 {\n",
       "            background-color:  #fee8d2;\n",
       "            color:  #000000;\n",
       "        }    #T_879256d0_972c_11ea_85d6_000d3aa443afrow24_col6 {\n",
       "            background-color:  #fdd6ae;\n",
       "            color:  #000000;\n",
       "        }    #T_879256d0_972c_11ea_85d6_000d3aa443afrow25_col0 {\n",
       "            background-color:  #fff1e4;\n",
       "            color:  #000000;\n",
       "        }    #T_879256d0_972c_11ea_85d6_000d3aa443afrow25_col1 {\n",
       "            background-color:  #fff1e4;\n",
       "            color:  #000000;\n",
       "        }    #T_879256d0_972c_11ea_85d6_000d3aa443afrow25_col3 {\n",
       "            background-color:  #fff5eb;\n",
       "            color:  #000000;\n",
       "        }    #T_879256d0_972c_11ea_85d6_000d3aa443afrow25_col4 {\n",
       "            background-color:  #7f2704;\n",
       "            color:  #f1f1f1;\n",
       "        }    #T_879256d0_972c_11ea_85d6_000d3aa443afrow25_col5 {\n",
       "            background-color:  #ee6511;\n",
       "            color:  #000000;\n",
       "        }    #T_879256d0_972c_11ea_85d6_000d3aa443afrow25_col6 {\n",
       "            background-color:  #fdb576;\n",
       "            color:  #000000;\n",
       "        }    #T_879256d0_972c_11ea_85d6_000d3aa443afrow26_col0 {\n",
       "            background-color:  #fff2e5;\n",
       "            color:  #000000;\n",
       "        }    #T_879256d0_972c_11ea_85d6_000d3aa443afrow26_col1 {\n",
       "            background-color:  #fff1e4;\n",
       "            color:  #000000;\n",
       "        }    #T_879256d0_972c_11ea_85d6_000d3aa443afrow26_col3 {\n",
       "            background-color:  #a53603;\n",
       "            color:  #f1f1f1;\n",
       "        }    #T_879256d0_972c_11ea_85d6_000d3aa443afrow26_col4 {\n",
       "            background-color:  #ffefdf;\n",
       "            color:  #000000;\n",
       "        }    #T_879256d0_972c_11ea_85d6_000d3aa443afrow26_col5 {\n",
       "            background-color:  #feeddb;\n",
       "            color:  #000000;\n",
       "        }    #T_879256d0_972c_11ea_85d6_000d3aa443afrow26_col6 {\n",
       "            background-color:  #fdd5ad;\n",
       "            color:  #000000;\n",
       "        }    #T_879256d0_972c_11ea_85d6_000d3aa443afrow27_col0 {\n",
       "            background-color:  #fff2e5;\n",
       "            color:  #000000;\n",
       "        }    #T_879256d0_972c_11ea_85d6_000d3aa443afrow27_col1 {\n",
       "            background-color:  #fff1e4;\n",
       "            color:  #000000;\n",
       "        }    #T_879256d0_972c_11ea_85d6_000d3aa443afrow27_col3 {\n",
       "            background-color:  #f87e2b;\n",
       "            color:  #000000;\n",
       "        }    #T_879256d0_972c_11ea_85d6_000d3aa443afrow27_col4 {\n",
       "            background-color:  #fdd5ab;\n",
       "            color:  #000000;\n",
       "        }    #T_879256d0_972c_11ea_85d6_000d3aa443afrow27_col5 {\n",
       "            background-color:  #fedcb9;\n",
       "            color:  #000000;\n",
       "        }    #T_879256d0_972c_11ea_85d6_000d3aa443afrow27_col6 {\n",
       "            background-color:  #fdc38d;\n",
       "            color:  #000000;\n",
       "        }    #T_879256d0_972c_11ea_85d6_000d3aa443afrow28_col0 {\n",
       "            background-color:  #fff2e6;\n",
       "            color:  #000000;\n",
       "        }    #T_879256d0_972c_11ea_85d6_000d3aa443afrow28_col1 {\n",
       "            background-color:  #fff2e5;\n",
       "            color:  #000000;\n",
       "        }    #T_879256d0_972c_11ea_85d6_000d3aa443afrow28_col3 {\n",
       "            background-color:  #f57622;\n",
       "            color:  #000000;\n",
       "        }    #T_879256d0_972c_11ea_85d6_000d3aa443afrow28_col4 {\n",
       "            background-color:  #fee2c7;\n",
       "            color:  #000000;\n",
       "        }    #T_879256d0_972c_11ea_85d6_000d3aa443afrow28_col5 {\n",
       "            background-color:  #fdcfa0;\n",
       "            color:  #000000;\n",
       "        }    #T_879256d0_972c_11ea_85d6_000d3aa443afrow28_col6 {\n",
       "            background-color:  #fc8a39;\n",
       "            color:  #000000;\n",
       "        }    #T_879256d0_972c_11ea_85d6_000d3aa443afrow29_col0 {\n",
       "            background-color:  #fff3e6;\n",
       "            color:  #000000;\n",
       "        }    #T_879256d0_972c_11ea_85d6_000d3aa443afrow29_col1 {\n",
       "            background-color:  #fff2e6;\n",
       "            color:  #000000;\n",
       "        }    #T_879256d0_972c_11ea_85d6_000d3aa443afrow29_col3 {\n",
       "            background-color:  #ab3803;\n",
       "            color:  #f1f1f1;\n",
       "        }    #T_879256d0_972c_11ea_85d6_000d3aa443afrow29_col4 {\n",
       "            background-color:  #fff0e1;\n",
       "            color:  #000000;\n",
       "        }    #T_879256d0_972c_11ea_85d6_000d3aa443afrow29_col5 {\n",
       "            background-color:  #feeddc;\n",
       "            color:  #000000;\n",
       "        }    #T_879256d0_972c_11ea_85d6_000d3aa443afrow29_col6 {\n",
       "            background-color:  #fdd6ae;\n",
       "            color:  #000000;\n",
       "        }    #T_879256d0_972c_11ea_85d6_000d3aa443afrow30_col0 {\n",
       "            background-color:  #fff3e6;\n",
       "            color:  #000000;\n",
       "        }    #T_879256d0_972c_11ea_85d6_000d3aa443afrow30_col1 {\n",
       "            background-color:  #fff2e6;\n",
       "            color:  #000000;\n",
       "        }    #T_879256d0_972c_11ea_85d6_000d3aa443afrow30_col3 {\n",
       "            background-color:  #9c3203;\n",
       "            color:  #f1f1f1;\n",
       "        }    #T_879256d0_972c_11ea_85d6_000d3aa443afrow30_col4 {\n",
       "            background-color:  #fff0e1;\n",
       "            color:  #000000;\n",
       "        }    #T_879256d0_972c_11ea_85d6_000d3aa443afrow30_col5 {\n",
       "            background-color:  #fee5cc;\n",
       "            color:  #000000;\n",
       "        }    #T_879256d0_972c_11ea_85d6_000d3aa443afrow30_col6 {\n",
       "            background-color:  #fdab66;\n",
       "            color:  #000000;\n",
       "        }    #T_879256d0_972c_11ea_85d6_000d3aa443afrow31_col0 {\n",
       "            background-color:  #fff3e6;\n",
       "            color:  #000000;\n",
       "        }    #T_879256d0_972c_11ea_85d6_000d3aa443afrow31_col1 {\n",
       "            background-color:  #fff3e6;\n",
       "            color:  #000000;\n",
       "        }    #T_879256d0_972c_11ea_85d6_000d3aa443afrow31_col3 {\n",
       "            background-color:  #d84801;\n",
       "            color:  #f1f1f1;\n",
       "        }    #T_879256d0_972c_11ea_85d6_000d3aa443afrow31_col4 {\n",
       "            background-color:  #fee7d1;\n",
       "            color:  #000000;\n",
       "        }    #T_879256d0_972c_11ea_85d6_000d3aa443afrow31_col5 {\n",
       "            background-color:  #feeddc;\n",
       "            color:  #000000;\n",
       "        }    #T_879256d0_972c_11ea_85d6_000d3aa443afrow31_col6 {\n",
       "            background-color:  #fee0c3;\n",
       "            color:  #000000;\n",
       "        }    #T_879256d0_972c_11ea_85d6_000d3aa443afrow32_col0 {\n",
       "            background-color:  #fff3e6;\n",
       "            color:  #000000;\n",
       "        }    #T_879256d0_972c_11ea_85d6_000d3aa443afrow32_col1 {\n",
       "            background-color:  #fff3e6;\n",
       "            color:  #000000;\n",
       "        }    #T_879256d0_972c_11ea_85d6_000d3aa443afrow32_col3 {\n",
       "            background-color:  #fb8634;\n",
       "            color:  #000000;\n",
       "        }    #T_879256d0_972c_11ea_85d6_000d3aa443afrow32_col4 {\n",
       "            background-color:  #fdcb9b;\n",
       "            color:  #000000;\n",
       "        }    #T_879256d0_972c_11ea_85d6_000d3aa443afrow32_col5 {\n",
       "            background-color:  #fda45d;\n",
       "            color:  #000000;\n",
       "        }    #T_879256d0_972c_11ea_85d6_000d3aa443afrow32_col6 {\n",
       "            background-color:  #f36f1a;\n",
       "            color:  #000000;\n",
       "        }    #T_879256d0_972c_11ea_85d6_000d3aa443afrow33_col0 {\n",
       "            background-color:  #fff3e7;\n",
       "            color:  #000000;\n",
       "        }    #T_879256d0_972c_11ea_85d6_000d3aa443afrow33_col1 {\n",
       "            background-color:  #fff3e6;\n",
       "            color:  #000000;\n",
       "        }    #T_879256d0_972c_11ea_85d6_000d3aa443afrow33_col3 {\n",
       "            background-color:  #b03903;\n",
       "            color:  #f1f1f1;\n",
       "        }    #T_879256d0_972c_11ea_85d6_000d3aa443afrow33_col4 {\n",
       "            background-color:  #feeddb;\n",
       "            color:  #000000;\n",
       "        }    #T_879256d0_972c_11ea_85d6_000d3aa443afrow33_col5 {\n",
       "            background-color:  #fee9d4;\n",
       "            color:  #000000;\n",
       "        }    #T_879256d0_972c_11ea_85d6_000d3aa443afrow33_col6 {\n",
       "            background-color:  #fdcb9b;\n",
       "            color:  #000000;\n",
       "        }    #T_879256d0_972c_11ea_85d6_000d3aa443afrow34_col0 {\n",
       "            background-color:  #fff3e7;\n",
       "            color:  #000000;\n",
       "        }    #T_879256d0_972c_11ea_85d6_000d3aa443afrow34_col1 {\n",
       "            background-color:  #fff3e7;\n",
       "            color:  #000000;\n",
       "        }    #T_879256d0_972c_11ea_85d6_000d3aa443afrow34_col3 {\n",
       "            background-color:  #fdb97d;\n",
       "            color:  #000000;\n",
       "        }    #T_879256d0_972c_11ea_85d6_000d3aa443afrow34_col4 {\n",
       "            background-color:  #fda55f;\n",
       "            color:  #000000;\n",
       "        }    #T_879256d0_972c_11ea_85d6_000d3aa443afrow34_col5 {\n",
       "            background-color:  #fee9d4;\n",
       "            color:  #000000;\n",
       "        }    #T_879256d0_972c_11ea_85d6_000d3aa443afrow34_col6 {\n",
       "            background-color:  #fee9d3;\n",
       "            color:  #000000;\n",
       "        }    #T_879256d0_972c_11ea_85d6_000d3aa443afrow35_col0 {\n",
       "            background-color:  #fff3e7;\n",
       "            color:  #000000;\n",
       "        }    #T_879256d0_972c_11ea_85d6_000d3aa443afrow35_col1 {\n",
       "            background-color:  #fff3e7;\n",
       "            color:  #000000;\n",
       "        }    #T_879256d0_972c_11ea_85d6_000d3aa443afrow35_col3 {\n",
       "            background-color:  #fdbd83;\n",
       "            color:  #000000;\n",
       "        }    #T_879256d0_972c_11ea_85d6_000d3aa443afrow35_col4 {\n",
       "            background-color:  #fdad69;\n",
       "            color:  #000000;\n",
       "        }    #T_879256d0_972c_11ea_85d6_000d3aa443afrow35_col5 {\n",
       "            background-color:  #f98230;\n",
       "            color:  #000000;\n",
       "        }    #T_879256d0_972c_11ea_85d6_000d3aa443afrow35_col6 {\n",
       "            background-color:  #f06712;\n",
       "            color:  #000000;\n",
       "        }    #T_879256d0_972c_11ea_85d6_000d3aa443afrow36_col0 {\n",
       "            background-color:  #fff4e8;\n",
       "            color:  #000000;\n",
       "        }    #T_879256d0_972c_11ea_85d6_000d3aa443afrow36_col1 {\n",
       "            background-color:  #fff4e8;\n",
       "            color:  #000000;\n",
       "        }    #T_879256d0_972c_11ea_85d6_000d3aa443afrow36_col3 {\n",
       "            background-color:  #fdc28b;\n",
       "            color:  #000000;\n",
       "        }    #T_879256d0_972c_11ea_85d6_000d3aa443afrow36_col4 {\n",
       "            background-color:  #fd9243;\n",
       "            color:  #000000;\n",
       "        }    #T_879256d0_972c_11ea_85d6_000d3aa443afrow36_col5 {\n",
       "            background-color:  #fee6ce;\n",
       "            color:  #000000;\n",
       "        }    #T_879256d0_972c_11ea_85d6_000d3aa443afrow36_col6 {\n",
       "            background-color:  #fee7d1;\n",
       "            color:  #000000;\n",
       "        }    #T_879256d0_972c_11ea_85d6_000d3aa443afrow37_col0 {\n",
       "            background-color:  #fff4e8;\n",
       "            color:  #000000;\n",
       "        }    #T_879256d0_972c_11ea_85d6_000d3aa443afrow37_col1 {\n",
       "            background-color:  #fff4e8;\n",
       "            color:  #000000;\n",
       "        }    #T_879256d0_972c_11ea_85d6_000d3aa443afrow37_col3 {\n",
       "            background-color:  #e25508;\n",
       "            color:  #000000;\n",
       "        }    #T_879256d0_972c_11ea_85d6_000d3aa443afrow37_col4 {\n",
       "            background-color:  #fee2c6;\n",
       "            color:  #000000;\n",
       "        }    #T_879256d0_972c_11ea_85d6_000d3aa443afrow37_col5 {\n",
       "            background-color:  #ffefe0;\n",
       "            color:  #000000;\n",
       "        }    #T_879256d0_972c_11ea_85d6_000d3aa443afrow37_col6 {\n",
       "            background-color:  #fee9d3;\n",
       "            color:  #000000;\n",
       "        }    #T_879256d0_972c_11ea_85d6_000d3aa443afrow38_col0 {\n",
       "            background-color:  #fff4e8;\n",
       "            color:  #000000;\n",
       "        }    #T_879256d0_972c_11ea_85d6_000d3aa443afrow38_col1 {\n",
       "            background-color:  #fff4e8;\n",
       "            color:  #000000;\n",
       "        }    #T_879256d0_972c_11ea_85d6_000d3aa443afrow38_col3 {\n",
       "            background-color:  #dd4d04;\n",
       "            color:  #f1f1f1;\n",
       "        }    #T_879256d0_972c_11ea_85d6_000d3aa443afrow38_col4 {\n",
       "            background-color:  #fee7d1;\n",
       "            color:  #000000;\n",
       "        }    #T_879256d0_972c_11ea_85d6_000d3aa443afrow38_col5 {\n",
       "            background-color:  #ffeedd;\n",
       "            color:  #000000;\n",
       "        }    #T_879256d0_972c_11ea_85d6_000d3aa443afrow38_col6 {\n",
       "            background-color:  #fee3c8;\n",
       "            color:  #000000;\n",
       "        }    #T_879256d0_972c_11ea_85d6_000d3aa443afrow39_col0 {\n",
       "            background-color:  #fff4e9;\n",
       "            color:  #000000;\n",
       "        }    #T_879256d0_972c_11ea_85d6_000d3aa443afrow39_col1 {\n",
       "            background-color:  #fff4e9;\n",
       "            color:  #000000;\n",
       "        }    #T_879256d0_972c_11ea_85d6_000d3aa443afrow39_col3 {\n",
       "            background-color:  #f4721e;\n",
       "            color:  #000000;\n",
       "        }    #T_879256d0_972c_11ea_85d6_000d3aa443afrow39_col4 {\n",
       "            background-color:  #fee0c1;\n",
       "            color:  #000000;\n",
       "        }    #T_879256d0_972c_11ea_85d6_000d3aa443afrow39_col5 {\n",
       "            background-color:  #fdd4aa;\n",
       "            color:  #000000;\n",
       "        }    #T_879256d0_972c_11ea_85d6_000d3aa443afrow39_col6 {\n",
       "            background-color:  #fd9e54;\n",
       "            color:  #000000;\n",
       "        }    #T_879256d0_972c_11ea_85d6_000d3aa443afrow40_col0 {\n",
       "            background-color:  #fff4e9;\n",
       "            color:  #000000;\n",
       "        }    #T_879256d0_972c_11ea_85d6_000d3aa443afrow40_col1 {\n",
       "            background-color:  #fff4e9;\n",
       "            color:  #000000;\n",
       "        }    #T_879256d0_972c_11ea_85d6_000d3aa443afrow40_col3 {\n",
       "            background-color:  #7f2704;\n",
       "            color:  #f1f1f1;\n",
       "        }    #T_879256d0_972c_11ea_85d6_000d3aa443afrow40_col4 {\n",
       "            background-color:  #fff0e1;\n",
       "            color:  #000000;\n",
       "        }    #T_879256d0_972c_11ea_85d6_000d3aa443afrow40_col5 {\n",
       "            background-color:  #fff3e6;\n",
       "            color:  #000000;\n",
       "        }    #T_879256d0_972c_11ea_85d6_000d3aa443afrow40_col6 {\n",
       "            background-color:  #feead6;\n",
       "            color:  #000000;\n",
       "        }    #T_879256d0_972c_11ea_85d6_000d3aa443afrow41_col0 {\n",
       "            background-color:  #fff4e9;\n",
       "            color:  #000000;\n",
       "        }    #T_879256d0_972c_11ea_85d6_000d3aa443afrow41_col1 {\n",
       "            background-color:  #fff4e9;\n",
       "            color:  #000000;\n",
       "        }    #T_879256d0_972c_11ea_85d6_000d3aa443afrow41_col3 {\n",
       "            background-color:  #f67824;\n",
       "            color:  #000000;\n",
       "        }    #T_879256d0_972c_11ea_85d6_000d3aa443afrow41_col4 {\n",
       "            background-color:  #fedebf;\n",
       "            color:  #000000;\n",
       "        }    #T_879256d0_972c_11ea_85d6_000d3aa443afrow41_col5 {\n",
       "            background-color:  #fee6cf;\n",
       "            color:  #000000;\n",
       "        }    #T_879256d0_972c_11ea_85d6_000d3aa443afrow41_col6 {\n",
       "            background-color:  #fdd3a9;\n",
       "            color:  #000000;\n",
       "        }    #T_879256d0_972c_11ea_85d6_000d3aa443afrow42_col0 {\n",
       "            background-color:  #fff5ea;\n",
       "            color:  #000000;\n",
       "        }    #T_879256d0_972c_11ea_85d6_000d3aa443afrow42_col1 {\n",
       "            background-color:  #fff5ea;\n",
       "            color:  #000000;\n",
       "        }    #T_879256d0_972c_11ea_85d6_000d3aa443afrow42_col3 {\n",
       "            background-color:  #993103;\n",
       "            color:  #f1f1f1;\n",
       "        }    #T_879256d0_972c_11ea_85d6_000d3aa443afrow42_col4 {\n",
       "            background-color:  #fff3e6;\n",
       "            color:  #000000;\n",
       "        }    #T_879256d0_972c_11ea_85d6_000d3aa443afrow42_col5 {\n",
       "            background-color:  #ffefe0;\n",
       "            color:  #000000;\n",
       "        }    #T_879256d0_972c_11ea_85d6_000d3aa443afrow42_col6 {\n",
       "            background-color:  #fedcb9;\n",
       "            color:  #000000;\n",
       "        }    #T_879256d0_972c_11ea_85d6_000d3aa443afrow43_col0 {\n",
       "            background-color:  #fff5eb;\n",
       "            color:  #000000;\n",
       "        }    #T_879256d0_972c_11ea_85d6_000d3aa443afrow43_col1 {\n",
       "            background-color:  #fff5ea;\n",
       "            color:  #000000;\n",
       "        }    #T_879256d0_972c_11ea_85d6_000d3aa443afrow43_col3 {\n",
       "            background-color:  #842904;\n",
       "            color:  #f1f1f1;\n",
       "        }    #T_879256d0_972c_11ea_85d6_000d3aa443afrow43_col4 {\n",
       "            background-color:  #fff5eb;\n",
       "            color:  #000000;\n",
       "        }    #T_879256d0_972c_11ea_85d6_000d3aa443afrow43_col5 {\n",
       "            background-color:  #fff0e1;\n",
       "            color:  #000000;\n",
       "        }    #T_879256d0_972c_11ea_85d6_000d3aa443afrow43_col6 {\n",
       "            background-color:  #fedcb9;\n",
       "            color:  #000000;\n",
       "        }    #T_879256d0_972c_11ea_85d6_000d3aa443afrow44_col0 {\n",
       "            background-color:  #fff5ea;\n",
       "            color:  #000000;\n",
       "        }    #T_879256d0_972c_11ea_85d6_000d3aa443afrow44_col1 {\n",
       "            background-color:  #fff5ea;\n",
       "            color:  #000000;\n",
       "        }    #T_879256d0_972c_11ea_85d6_000d3aa443afrow44_col3 {\n",
       "            background-color:  #fedebf;\n",
       "            color:  #000000;\n",
       "        }    #T_879256d0_972c_11ea_85d6_000d3aa443afrow44_col4 {\n",
       "            background-color:  #f26c16;\n",
       "            color:  #000000;\n",
       "        }    #T_879256d0_972c_11ea_85d6_000d3aa443afrow44_col5 {\n",
       "            background-color:  #fee8d2;\n",
       "            color:  #000000;\n",
       "        }    #T_879256d0_972c_11ea_85d6_000d3aa443afrow44_col6 {\n",
       "            background-color:  #feeddb;\n",
       "            color:  #000000;\n",
       "        }    #T_879256d0_972c_11ea_85d6_000d3aa443afrow45_col0 {\n",
       "            background-color:  #fff5eb;\n",
       "            color:  #000000;\n",
       "        }    #T_879256d0_972c_11ea_85d6_000d3aa443afrow45_col1 {\n",
       "            background-color:  #fff5eb;\n",
       "            color:  #000000;\n",
       "        }    #T_879256d0_972c_11ea_85d6_000d3aa443afrow45_col3 {\n",
       "            background-color:  #fda057;\n",
       "            color:  #000000;\n",
       "        }    #T_879256d0_972c_11ea_85d6_000d3aa443afrow45_col4 {\n",
       "            background-color:  #fdcb9b;\n",
       "            color:  #000000;\n",
       "        }    #T_879256d0_972c_11ea_85d6_000d3aa443afrow45_col5 {\n",
       "            background-color:  #fff3e6;\n",
       "            color:  #000000;\n",
       "        }    #T_879256d0_972c_11ea_85d6_000d3aa443afrow45_col6 {\n",
       "            background-color:  #fff2e5;\n",
       "            color:  #000000;\n",
       "        }    #T_879256d0_972c_11ea_85d6_000d3aa443afrow46_col0 {\n",
       "            background-color:  #fff5eb;\n",
       "            color:  #000000;\n",
       "        }    #T_879256d0_972c_11ea_85d6_000d3aa443afrow46_col1 {\n",
       "            background-color:  #fff5eb;\n",
       "            color:  #000000;\n",
       "        }    #T_879256d0_972c_11ea_85d6_000d3aa443afrow46_col3 {\n",
       "            background-color:  #fb8836;\n",
       "            color:  #000000;\n",
       "        }    #T_879256d0_972c_11ea_85d6_000d3aa443afrow46_col4 {\n",
       "            background-color:  #fdd2a6;\n",
       "            color:  #000000;\n",
       "        }    #T_879256d0_972c_11ea_85d6_000d3aa443afrow46_col5 {\n",
       "            background-color:  #ffeedd;\n",
       "            color:  #000000;\n",
       "        }    #T_879256d0_972c_11ea_85d6_000d3aa443afrow46_col6 {\n",
       "            background-color:  #feead5;\n",
       "            color:  #000000;\n",
       "        }    #T_879256d0_972c_11ea_85d6_000d3aa443afrow47_col0 {\n",
       "            background-color:  #fff5eb;\n",
       "            color:  #000000;\n",
       "        }    #T_879256d0_972c_11ea_85d6_000d3aa443afrow47_col1 {\n",
       "            background-color:  #fff5eb;\n",
       "            color:  #000000;\n",
       "        }    #T_879256d0_972c_11ea_85d6_000d3aa443afrow47_col3 {\n",
       "            background-color:  #ef6612;\n",
       "            color:  #000000;\n",
       "        }    #T_879256d0_972c_11ea_85d6_000d3aa443afrow47_col4 {\n",
       "            background-color:  #fee6cf;\n",
       "            color:  #000000;\n",
       "        }    #T_879256d0_972c_11ea_85d6_000d3aa443afrow47_col5 {\n",
       "            background-color:  #fff0e1;\n",
       "            color:  #000000;\n",
       "        }    #T_879256d0_972c_11ea_85d6_000d3aa443afrow47_col6 {\n",
       "            background-color:  #fee8d2;\n",
       "            color:  #000000;\n",
       "        }    #T_879256d0_972c_11ea_85d6_000d3aa443afrow48_col0 {\n",
       "            background-color:  #fff5eb;\n",
       "            color:  #000000;\n",
       "        }    #T_879256d0_972c_11ea_85d6_000d3aa443afrow48_col1 {\n",
       "            background-color:  #fff5eb;\n",
       "            color:  #000000;\n",
       "        }    #T_879256d0_972c_11ea_85d6_000d3aa443afrow48_col3 {\n",
       "            background-color:  #e35608;\n",
       "            color:  #000000;\n",
       "        }    #T_879256d0_972c_11ea_85d6_000d3aa443afrow48_col4 {\n",
       "            background-color:  #fee7d0;\n",
       "            color:  #000000;\n",
       "        }    #T_879256d0_972c_11ea_85d6_000d3aa443afrow48_col5 {\n",
       "            background-color:  #fff5eb;\n",
       "            color:  #000000;\n",
       "        }    #T_879256d0_972c_11ea_85d6_000d3aa443afrow48_col6 {\n",
       "            background-color:  #fff4e8;\n",
       "            color:  #000000;\n",
       "        }    #T_879256d0_972c_11ea_85d6_000d3aa443afrow49_col0 {\n",
       "            background-color:  #fff5eb;\n",
       "            color:  #000000;\n",
       "        }    #T_879256d0_972c_11ea_85d6_000d3aa443afrow49_col1 {\n",
       "            background-color:  #fff5eb;\n",
       "            color:  #000000;\n",
       "        }    #T_879256d0_972c_11ea_85d6_000d3aa443afrow49_col3 {\n",
       "            background-color:  #ad3803;\n",
       "            color:  #f1f1f1;\n",
       "        }    #T_879256d0_972c_11ea_85d6_000d3aa443afrow49_col4 {\n",
       "            background-color:  #feecda;\n",
       "            color:  #000000;\n",
       "        }    #T_879256d0_972c_11ea_85d6_000d3aa443afrow49_col5 {\n",
       "            background-color:  #fff5eb;\n",
       "            color:  #000000;\n",
       "        }    #T_879256d0_972c_11ea_85d6_000d3aa443afrow49_col6 {\n",
       "            background-color:  #fff3e6;\n",
       "            color:  #000000;\n",
       "        }    #T_879256d0_972c_11ea_85d6_000d3aa443afrow50_col0 {\n",
       "            background-color:  #fff5eb;\n",
       "            color:  #000000;\n",
       "        }    #T_879256d0_972c_11ea_85d6_000d3aa443afrow50_col1 {\n",
       "            background-color:  #fff5eb;\n",
       "            color:  #000000;\n",
       "        }    #T_879256d0_972c_11ea_85d6_000d3aa443afrow50_col3 {\n",
       "            background-color:  #fd9f56;\n",
       "            color:  #000000;\n",
       "        }    #T_879256d0_972c_11ea_85d6_000d3aa443afrow50_col4 {\n",
       "            background-color:  #fdbb81;\n",
       "            color:  #000000;\n",
       "        }    #T_879256d0_972c_11ea_85d6_000d3aa443afrow50_col5 {\n",
       "            background-color:  #fff5ea;\n",
       "            color:  #000000;\n",
       "        }    #T_879256d0_972c_11ea_85d6_000d3aa443afrow50_col6 {\n",
       "            background-color:  #fff5eb;\n",
       "            color:  #000000;\n",
       "        }</style><table id=\"T_879256d0_972c_11ea_85d6_000d3aa443af\" ><thead>    <tr>        <th class=\"blank level0\" ></th>        <th class=\"col_heading level0 col0\" >Reported Cases</th>        <th class=\"col_heading level0 col1\" >Est Cases</th>        <th class=\"col_heading level0 col2\" >Est Range</th>        <th class=\"col_heading level0 col3\" >Ratio</th>        <th class=\"col_heading level0 col4\" >Tests per Million</th>        <th class=\"col_heading level0 col5\" >Cases per Million</th>        <th class=\"col_heading level0 col6\" >Positive Test Rate</th>    </tr>    <tr>        <th class=\"index_name level0\" >state</th>        <th class=\"blank\" ></th>        <th class=\"blank\" ></th>        <th class=\"blank\" ></th>        <th class=\"blank\" ></th>        <th class=\"blank\" ></th>        <th class=\"blank\" ></th>        <th class=\"blank\" ></th>    </tr></thead><tbody>\n",
       "                <tr>\n",
       "                        <th id=\"T_879256d0_972c_11ea_85d6_000d3aa443aflevel0_row0\" class=\"row_heading level0 row0\" >NY</th>\n",
       "                        <td id=\"T_879256d0_972c_11ea_85d6_000d3aa443afrow0_col0\" class=\"data row0 col0\" >345813</td>\n",
       "                        <td id=\"T_879256d0_972c_11ea_85d6_000d3aa443afrow0_col1\" class=\"data row0 col1\" >411398</td>\n",
       "                        <td id=\"T_879256d0_972c_11ea_85d6_000d3aa443afrow0_col2\" class=\"data row0 col2\" >(359726, 545666)</td>\n",
       "                        <td id=\"T_879256d0_972c_11ea_85d6_000d3aa443afrow0_col3\" class=\"data row0 col3\" >1.2</td>\n",
       "                        <td id=\"T_879256d0_972c_11ea_85d6_000d3aa443afrow0_col4\" class=\"data row0 col4\" >68781.6</td>\n",
       "                        <td id=\"T_879256d0_972c_11ea_85d6_000d3aa443afrow0_col5\" class=\"data row0 col5\" >17776.3</td>\n",
       "                        <td id=\"T_879256d0_972c_11ea_85d6_000d3aa443afrow0_col6\" class=\"data row0 col6\" >26%</td>\n",
       "            </tr>\n",
       "            <tr>\n",
       "                        <th id=\"T_879256d0_972c_11ea_85d6_000d3aa443aflevel0_row1\" class=\"row_heading level0 row1\" >NJ</th>\n",
       "                        <td id=\"T_879256d0_972c_11ea_85d6_000d3aa443afrow1_col0\" class=\"data row1 col0\" >143905</td>\n",
       "                        <td id=\"T_879256d0_972c_11ea_85d6_000d3aa443afrow1_col1\" class=\"data row1 col1\" >173027</td>\n",
       "                        <td id=\"T_879256d0_972c_11ea_85d6_000d3aa443afrow1_col2\" class=\"data row1 col2\" >(151171, 240254)</td>\n",
       "                        <td id=\"T_879256d0_972c_11ea_85d6_000d3aa443afrow1_col3\" class=\"data row1 col3\" >1.2</td>\n",
       "                        <td id=\"T_879256d0_972c_11ea_85d6_000d3aa443afrow1_col4\" class=\"data row1 col4\" >52123.6</td>\n",
       "                        <td id=\"T_879256d0_972c_11ea_85d6_000d3aa443afrow1_col5\" class=\"data row1 col5\" >16201.5</td>\n",
       "                        <td id=\"T_879256d0_972c_11ea_85d6_000d3aa443afrow1_col6\" class=\"data row1 col6\" >31%</td>\n",
       "            </tr>\n",
       "            <tr>\n",
       "                        <th id=\"T_879256d0_972c_11ea_85d6_000d3aa443aflevel0_row2\" class=\"row_heading level0 row2\" >IL</th>\n",
       "                        <td id=\"T_879256d0_972c_11ea_85d6_000d3aa443afrow2_col0\" class=\"data row2 col0\" >90369</td>\n",
       "                        <td id=\"T_879256d0_972c_11ea_85d6_000d3aa443afrow2_col1\" class=\"data row2 col1\" >110992</td>\n",
       "                        <td id=\"T_879256d0_972c_11ea_85d6_000d3aa443afrow2_col2\" class=\"data row2 col2\" >(94888, 158773)</td>\n",
       "                        <td id=\"T_879256d0_972c_11ea_85d6_000d3aa443afrow2_col3\" class=\"data row2 col3\" >1.2</td>\n",
       "                        <td id=\"T_879256d0_972c_11ea_85d6_000d3aa443afrow2_col4\" class=\"data row2 col4\" >42503.9</td>\n",
       "                        <td id=\"T_879256d0_972c_11ea_85d6_000d3aa443afrow2_col5\" class=\"data row2 col5\" >7131.5</td>\n",
       "                        <td id=\"T_879256d0_972c_11ea_85d6_000d3aa443afrow2_col6\" class=\"data row2 col6\" >17%</td>\n",
       "            </tr>\n",
       "            <tr>\n",
       "                        <th id=\"T_879256d0_972c_11ea_85d6_000d3aa443aflevel0_row3\" class=\"row_heading level0 row3\" >MA</th>\n",
       "                        <td id=\"T_879256d0_972c_11ea_85d6_000d3aa443afrow3_col0\" class=\"data row3 col0\" >83421</td>\n",
       "                        <td id=\"T_879256d0_972c_11ea_85d6_000d3aa443afrow3_col1\" class=\"data row3 col1\" >99838</td>\n",
       "                        <td id=\"T_879256d0_972c_11ea_85d6_000d3aa443afrow3_col2\" class=\"data row3 col2\" >(87226, 141451)</td>\n",
       "                        <td id=\"T_879256d0_972c_11ea_85d6_000d3aa443afrow3_col3\" class=\"data row3 col3\" >1.2</td>\n",
       "                        <td id=\"T_879256d0_972c_11ea_85d6_000d3aa443afrow3_col4\" class=\"data row3 col4\" >63210.6</td>\n",
       "                        <td id=\"T_879256d0_972c_11ea_85d6_000d3aa443afrow3_col5\" class=\"data row3 col5\" >12103.2</td>\n",
       "                        <td id=\"T_879256d0_972c_11ea_85d6_000d3aa443afrow3_col6\" class=\"data row3 col6\" >19%</td>\n",
       "            </tr>\n",
       "            <tr>\n",
       "                        <th id=\"T_879256d0_972c_11ea_85d6_000d3aa443aflevel0_row4\" class=\"row_heading level0 row4\" >CA</th>\n",
       "                        <td id=\"T_879256d0_972c_11ea_85d6_000d3aa443afrow4_col0\" class=\"data row4 col0\" >74936</td>\n",
       "                        <td id=\"T_879256d0_972c_11ea_85d6_000d3aa443afrow4_col1\" class=\"data row4 col1\" >94962</td>\n",
       "                        <td id=\"T_879256d0_972c_11ea_85d6_000d3aa443afrow4_col2\" class=\"data row4 col2\" >(79599, 140131)</td>\n",
       "                        <td id=\"T_879256d0_972c_11ea_85d6_000d3aa443afrow4_col3\" class=\"data row4 col3\" >1.3</td>\n",
       "                        <td id=\"T_879256d0_972c_11ea_85d6_000d3aa443afrow4_col4\" class=\"data row4 col4\" >28697.6</td>\n",
       "                        <td id=\"T_879256d0_972c_11ea_85d6_000d3aa443afrow4_col5\" class=\"data row4 col5\" >1896.5</td>\n",
       "                        <td id=\"T_879256d0_972c_11ea_85d6_000d3aa443afrow4_col6\" class=\"data row4 col6\" >7%</td>\n",
       "            </tr>\n",
       "            <tr>\n",
       "                        <th id=\"T_879256d0_972c_11ea_85d6_000d3aa443aflevel0_row5\" class=\"row_heading level0 row5\" >PA</th>\n",
       "                        <td id=\"T_879256d0_972c_11ea_85d6_000d3aa443afrow5_col0\" class=\"data row5 col0\" >60622</td>\n",
       "                        <td id=\"T_879256d0_972c_11ea_85d6_000d3aa443afrow5_col1\" class=\"data row5 col1\" >77850</td>\n",
       "                        <td id=\"T_879256d0_972c_11ea_85d6_000d3aa443afrow5_col2\" class=\"data row5 col2\" >(64296, 132230)</td>\n",
       "                        <td id=\"T_879256d0_972c_11ea_85d6_000d3aa443afrow5_col3\" class=\"data row5 col3\" >1.3</td>\n",
       "                        <td id=\"T_879256d0_972c_11ea_85d6_000d3aa443afrow5_col4\" class=\"data row5 col4\" >24983.0</td>\n",
       "                        <td id=\"T_879256d0_972c_11ea_85d6_000d3aa443afrow5_col5\" class=\"data row5 col5\" >4735.4</td>\n",
       "                        <td id=\"T_879256d0_972c_11ea_85d6_000d3aa443afrow5_col6\" class=\"data row5 col6\" >19%</td>\n",
       "            </tr>\n",
       "            <tr>\n",
       "                        <th id=\"T_879256d0_972c_11ea_85d6_000d3aa443aflevel0_row6\" class=\"row_heading level0 row6\" >MI</th>\n",
       "                        <td id=\"T_879256d0_972c_11ea_85d6_000d3aa443afrow6_col0\" class=\"data row6 col0\" >50079</td>\n",
       "                        <td id=\"T_879256d0_972c_11ea_85d6_000d3aa443afrow6_col1\" class=\"data row6 col1\" >62839</td>\n",
       "                        <td id=\"T_879256d0_972c_11ea_85d6_000d3aa443afrow6_col2\" class=\"data row6 col2\" >(53146, 92990)</td>\n",
       "                        <td id=\"T_879256d0_972c_11ea_85d6_000d3aa443afrow6_col3\" class=\"data row6 col3\" >1.3</td>\n",
       "                        <td id=\"T_879256d0_972c_11ea_85d6_000d3aa443afrow6_col4\" class=\"data row6 col4\" >35796.6</td>\n",
       "                        <td id=\"T_879256d0_972c_11ea_85d6_000d3aa443afrow6_col5\" class=\"data row6 col5\" >5014.5</td>\n",
       "                        <td id=\"T_879256d0_972c_11ea_85d6_000d3aa443afrow6_col6\" class=\"data row6 col6\" >14%</td>\n",
       "            </tr>\n",
       "            <tr>\n",
       "                        <th id=\"T_879256d0_972c_11ea_85d6_000d3aa443aflevel0_row7\" class=\"row_heading level0 row7\" >TX</th>\n",
       "                        <td id=\"T_879256d0_972c_11ea_85d6_000d3aa443afrow7_col0\" class=\"data row7 col0\" >45198</td>\n",
       "                        <td id=\"T_879256d0_972c_11ea_85d6_000d3aa443afrow7_col1\" class=\"data row7 col1\" >59194</td>\n",
       "                        <td id=\"T_879256d0_972c_11ea_85d6_000d3aa443afrow7_col2\" class=\"data row7 col2\" >(48232, 92030)</td>\n",
       "                        <td id=\"T_879256d0_972c_11ea_85d6_000d3aa443afrow7_col3\" class=\"data row7 col3\" >1.3</td>\n",
       "                        <td id=\"T_879256d0_972c_11ea_85d6_000d3aa443afrow7_col4\" class=\"data row7 col4\" >22278.8</td>\n",
       "                        <td id=\"T_879256d0_972c_11ea_85d6_000d3aa443afrow7_col5\" class=\"data row7 col5\" >1558.8</td>\n",
       "                        <td id=\"T_879256d0_972c_11ea_85d6_000d3aa443afrow7_col6\" class=\"data row7 col6\" >7%</td>\n",
       "            </tr>\n",
       "            <tr>\n",
       "                        <th id=\"T_879256d0_972c_11ea_85d6_000d3aa443aflevel0_row8\" class=\"row_heading level0 row8\" >FL</th>\n",
       "                        <td id=\"T_879256d0_972c_11ea_85d6_000d3aa443afrow8_col0\" class=\"data row8 col0\" >43210</td>\n",
       "                        <td id=\"T_879256d0_972c_11ea_85d6_000d3aa443afrow8_col1\" class=\"data row8 col1\" >54499</td>\n",
       "                        <td id=\"T_879256d0_972c_11ea_85d6_000d3aa443afrow8_col2\" class=\"data row8 col2\" >(46000, 83261)</td>\n",
       "                        <td id=\"T_879256d0_972c_11ea_85d6_000d3aa443afrow8_col3\" class=\"data row8 col3\" >1.3</td>\n",
       "                        <td id=\"T_879256d0_972c_11ea_85d6_000d3aa443afrow8_col4\" class=\"data row8 col4\" >28347.4</td>\n",
       "                        <td id=\"T_879256d0_972c_11ea_85d6_000d3aa443afrow8_col5\" class=\"data row8 col5\" >2011.9</td>\n",
       "                        <td id=\"T_879256d0_972c_11ea_85d6_000d3aa443afrow8_col6\" class=\"data row8 col6\" >7%</td>\n",
       "            </tr>\n",
       "            <tr>\n",
       "                        <th id=\"T_879256d0_972c_11ea_85d6_000d3aa443aflevel0_row9\" class=\"row_heading level0 row9\" >MD</th>\n",
       "                        <td id=\"T_879256d0_972c_11ea_85d6_000d3aa443afrow9_col0\" class=\"data row9 col0\" >36986</td>\n",
       "                        <td id=\"T_879256d0_972c_11ea_85d6_000d3aa443afrow9_col1\" class=\"data row9 col1\" >47186</td>\n",
       "                        <td id=\"T_879256d0_972c_11ea_85d6_000d3aa443afrow9_col2\" class=\"data row9 col2\" >(39349, 71980)</td>\n",
       "                        <td id=\"T_879256d0_972c_11ea_85d6_000d3aa443afrow9_col3\" class=\"data row9 col3\" >1.3</td>\n",
       "                        <td id=\"T_879256d0_972c_11ea_85d6_000d3aa443afrow9_col4\" class=\"data row9 col4\" >30240.8</td>\n",
       "                        <td id=\"T_879256d0_972c_11ea_85d6_000d3aa443afrow9_col5\" class=\"data row9 col5\" >6117.8</td>\n",
       "                        <td id=\"T_879256d0_972c_11ea_85d6_000d3aa443afrow9_col6\" class=\"data row9 col6\" >20%</td>\n",
       "            </tr>\n",
       "            <tr>\n",
       "                        <th id=\"T_879256d0_972c_11ea_85d6_000d3aa443aflevel0_row10\" class=\"row_heading level0 row10\" >GA</th>\n",
       "                        <td id=\"T_879256d0_972c_11ea_85d6_000d3aa443afrow10_col0\" class=\"data row10 col0\" >36681</td>\n",
       "                        <td id=\"T_879256d0_972c_11ea_85d6_000d3aa443afrow10_col1\" class=\"data row10 col1\" >46674</td>\n",
       "                        <td id=\"T_879256d0_972c_11ea_85d6_000d3aa443afrow10_col2\" class=\"data row10 col2\" >(39288, 66166)</td>\n",
       "                        <td id=\"T_879256d0_972c_11ea_85d6_000d3aa443afrow10_col3\" class=\"data row10 col3\" >1.3</td>\n",
       "                        <td id=\"T_879256d0_972c_11ea_85d6_000d3aa443afrow10_col4\" class=\"data row10 col4\" >28431.9</td>\n",
       "                        <td id=\"T_879256d0_972c_11ea_85d6_000d3aa443afrow10_col5\" class=\"data row10 col5\" >3454.8</td>\n",
       "                        <td id=\"T_879256d0_972c_11ea_85d6_000d3aa443afrow10_col6\" class=\"data row10 col6\" >12%</td>\n",
       "            </tr>\n",
       "            <tr>\n",
       "                        <th id=\"T_879256d0_972c_11ea_85d6_000d3aa443aflevel0_row11\" class=\"row_heading level0 row11\" >CT</th>\n",
       "                        <td id=\"T_879256d0_972c_11ea_85d6_000d3aa443afrow11_col0\" class=\"data row11 col0\" >36085</td>\n",
       "                        <td id=\"T_879256d0_972c_11ea_85d6_000d3aa443afrow11_col1\" class=\"data row11 col1\" >44843</td>\n",
       "                        <td id=\"T_879256d0_972c_11ea_85d6_000d3aa443afrow11_col2\" class=\"data row11 col2\" >(38193, 68120)</td>\n",
       "                        <td id=\"T_879256d0_972c_11ea_85d6_000d3aa443afrow11_col3\" class=\"data row11 col3\" >1.2</td>\n",
       "                        <td id=\"T_879256d0_972c_11ea_85d6_000d3aa443afrow11_col4\" class=\"data row11 col4\" >43729.4</td>\n",
       "                        <td id=\"T_879256d0_972c_11ea_85d6_000d3aa443afrow11_col5\" class=\"data row11 col5\" >10121.2</td>\n",
       "                        <td id=\"T_879256d0_972c_11ea_85d6_000d3aa443afrow11_col6\" class=\"data row11 col6\" >23%</td>\n",
       "            </tr>\n",
       "            <tr>\n",
       "                        <th id=\"T_879256d0_972c_11ea_85d6_000d3aa443aflevel0_row12\" class=\"row_heading level0 row12\" >LA</th>\n",
       "                        <td id=\"T_879256d0_972c_11ea_85d6_000d3aa443afrow12_col0\" class=\"data row12 col0\" >33837</td>\n",
       "                        <td id=\"T_879256d0_972c_11ea_85d6_000d3aa443afrow12_col1\" class=\"data row12 col1\" >41281</td>\n",
       "                        <td id=\"T_879256d0_972c_11ea_85d6_000d3aa443afrow12_col2\" class=\"data row12 col2\" >(35397, 61095)</td>\n",
       "                        <td id=\"T_879256d0_972c_11ea_85d6_000d3aa443afrow12_col3\" class=\"data row12 col3\" >1.2</td>\n",
       "                        <td id=\"T_879256d0_972c_11ea_85d6_000d3aa443afrow12_col4\" class=\"data row12 col4\" >54463.4</td>\n",
       "                        <td id=\"T_879256d0_972c_11ea_85d6_000d3aa443afrow12_col5\" class=\"data row12 col5\" >7278.7</td>\n",
       "                        <td id=\"T_879256d0_972c_11ea_85d6_000d3aa443afrow12_col6\" class=\"data row12 col6\" >13%</td>\n",
       "            </tr>\n",
       "            <tr>\n",
       "                        <th id=\"T_879256d0_972c_11ea_85d6_000d3aa443aflevel0_row13\" class=\"row_heading level0 row13\" >VA</th>\n",
       "                        <td id=\"T_879256d0_972c_11ea_85d6_000d3aa443afrow13_col0\" class=\"data row13 col0\" >28672</td>\n",
       "                        <td id=\"T_879256d0_972c_11ea_85d6_000d3aa443afrow13_col1\" class=\"data row13 col1\" >37745</td>\n",
       "                        <td id=\"T_879256d0_972c_11ea_85d6_000d3aa443afrow13_col2\" class=\"data row13 col2\" >(30598, 64603)</td>\n",
       "                        <td id=\"T_879256d0_972c_11ea_85d6_000d3aa443afrow13_col3\" class=\"data row13 col3\" >1.3</td>\n",
       "                        <td id=\"T_879256d0_972c_11ea_85d6_000d3aa443afrow13_col4\" class=\"data row13 col4\" >20855.7</td>\n",
       "                        <td id=\"T_879256d0_972c_11ea_85d6_000d3aa443afrow13_col5\" class=\"data row13 col5\" >3359.1</td>\n",
       "                        <td id=\"T_879256d0_972c_11ea_85d6_000d3aa443afrow13_col6\" class=\"data row13 col6\" >16%</td>\n",
       "            </tr>\n",
       "            <tr>\n",
       "                        <th id=\"T_879256d0_972c_11ea_85d6_000d3aa443aflevel0_row14\" class=\"row_heading level0 row14\" >OH</th>\n",
       "                        <td id=\"T_879256d0_972c_11ea_85d6_000d3aa443afrow14_col0\" class=\"data row14 col0\" >26954</td>\n",
       "                        <td id=\"T_879256d0_972c_11ea_85d6_000d3aa443afrow14_col1\" class=\"data row14 col1\" >35512</td>\n",
       "                        <td id=\"T_879256d0_972c_11ea_85d6_000d3aa443afrow14_col2\" class=\"data row14 col2\" >(29081, 59507)</td>\n",
       "                        <td id=\"T_879256d0_972c_11ea_85d6_000d3aa443afrow14_col3\" class=\"data row14 col3\" >1.3</td>\n",
       "                        <td id=\"T_879256d0_972c_11ea_85d6_000d3aa443afrow14_col4\" class=\"data row14 col4\" >21060.8</td>\n",
       "                        <td id=\"T_879256d0_972c_11ea_85d6_000d3aa443afrow14_col5\" class=\"data row14 col5\" >2305.9</td>\n",
       "                        <td id=\"T_879256d0_972c_11ea_85d6_000d3aa443afrow14_col6\" class=\"data row14 col6\" >11%</td>\n",
       "            </tr>\n",
       "            <tr>\n",
       "                        <th id=\"T_879256d0_972c_11ea_85d6_000d3aa443aflevel0_row15\" class=\"row_heading level0 row15\" >IN</th>\n",
       "                        <td id=\"T_879256d0_972c_11ea_85d6_000d3aa443afrow15_col0\" class=\"data row15 col0\" >26655</td>\n",
       "                        <td id=\"T_879256d0_972c_11ea_85d6_000d3aa443afrow15_col1\" class=\"data row15 col1\" >34762</td>\n",
       "                        <td id=\"T_879256d0_972c_11ea_85d6_000d3aa443afrow15_col2\" class=\"data row15 col2\" >(28541, 55613)</td>\n",
       "                        <td id=\"T_879256d0_972c_11ea_85d6_000d3aa443afrow15_col3\" class=\"data row15 col3\" >1.3</td>\n",
       "                        <td id=\"T_879256d0_972c_11ea_85d6_000d3aa443afrow15_col4\" class=\"data row15 col4\" >24575.6</td>\n",
       "                        <td id=\"T_879256d0_972c_11ea_85d6_000d3aa443afrow15_col5\" class=\"data row15 col5\" >3959.3</td>\n",
       "                        <td id=\"T_879256d0_972c_11ea_85d6_000d3aa443afrow15_col6\" class=\"data row15 col6\" >16%</td>\n",
       "            </tr>\n",
       "            <tr>\n",
       "                        <th id=\"T_879256d0_972c_11ea_85d6_000d3aa443aflevel0_row16\" class=\"row_heading level0 row16\" >CO</th>\n",
       "                        <td id=\"T_879256d0_972c_11ea_85d6_000d3aa443afrow16_col0\" class=\"data row16 col0\" >20838</td>\n",
       "                        <td id=\"T_879256d0_972c_11ea_85d6_000d3aa443afrow16_col1\" class=\"data row16 col1\" >27569</td>\n",
       "                        <td id=\"T_879256d0_972c_11ea_85d6_000d3aa443afrow16_col2\" class=\"data row16 col2\" >(22403, 45582)</td>\n",
       "                        <td id=\"T_879256d0_972c_11ea_85d6_000d3aa443afrow16_col3\" class=\"data row16 col3\" >1.3</td>\n",
       "                        <td id=\"T_879256d0_972c_11ea_85d6_000d3aa443afrow16_col4\" class=\"data row16 col4\" >20495.8</td>\n",
       "                        <td id=\"T_879256d0_972c_11ea_85d6_000d3aa443afrow16_col5\" class=\"data row16 col5\" >3618.5</td>\n",
       "                        <td id=\"T_879256d0_972c_11ea_85d6_000d3aa443afrow16_col6\" class=\"data row16 col6\" >18%</td>\n",
       "            </tr>\n",
       "            <tr>\n",
       "                        <th id=\"T_879256d0_972c_11ea_85d6_000d3aa443aflevel0_row17\" class=\"row_heading level0 row17\" >NC</th>\n",
       "                        <td id=\"T_879256d0_972c_11ea_85d6_000d3aa443afrow17_col0\" class=\"data row17 col0\" >17129</td>\n",
       "                        <td id=\"T_879256d0_972c_11ea_85d6_000d3aa443afrow17_col1\" class=\"data row17 col1\" >22513</td>\n",
       "                        <td id=\"T_879256d0_972c_11ea_85d6_000d3aa443afrow17_col2\" class=\"data row17 col2\" >(18267, 36843)</td>\n",
       "                        <td id=\"T_879256d0_972c_11ea_85d6_000d3aa443afrow17_col3\" class=\"data row17 col3\" >1.3</td>\n",
       "                        <td id=\"T_879256d0_972c_11ea_85d6_000d3aa443afrow17_col4\" class=\"data row17 col4\" >22077.1</td>\n",
       "                        <td id=\"T_879256d0_972c_11ea_85d6_000d3aa443afrow17_col5\" class=\"data row17 col5\" >1633.2</td>\n",
       "                        <td id=\"T_879256d0_972c_11ea_85d6_000d3aa443afrow17_col6\" class=\"data row17 col6\" >7%</td>\n",
       "            </tr>\n",
       "            <tr>\n",
       "                        <th id=\"T_879256d0_972c_11ea_85d6_000d3aa443aflevel0_row18\" class=\"row_heading level0 row18\" >WA</th>\n",
       "                        <td id=\"T_879256d0_972c_11ea_85d6_000d3aa443afrow18_col0\" class=\"data row18 col0\" >17773</td>\n",
       "                        <td id=\"T_879256d0_972c_11ea_85d6_000d3aa443afrow18_col1\" class=\"data row18 col1\" >22408</td>\n",
       "                        <td id=\"T_879256d0_972c_11ea_85d6_000d3aa443afrow18_col2\" class=\"data row18 col2\" >(18833, 33338)</td>\n",
       "                        <td id=\"T_879256d0_972c_11ea_85d6_000d3aa443afrow18_col3\" class=\"data row18 col3\" >1.3</td>\n",
       "                        <td id=\"T_879256d0_972c_11ea_85d6_000d3aa443afrow18_col4\" class=\"data row18 col4\" >35185.1</td>\n",
       "                        <td id=\"T_879256d0_972c_11ea_85d6_000d3aa443afrow18_col5\" class=\"data row18 col5\" >2334.0</td>\n",
       "                        <td id=\"T_879256d0_972c_11ea_85d6_000d3aa443afrow18_col6\" class=\"data row18 col6\" >7%</td>\n",
       "            </tr>\n",
       "            <tr>\n",
       "                        <th id=\"T_879256d0_972c_11ea_85d6_000d3aa443aflevel0_row19\" class=\"row_heading level0 row19\" >TN</th>\n",
       "                        <td id=\"T_879256d0_972c_11ea_85d6_000d3aa443afrow19_col0\" class=\"data row19 col0\" >16970</td>\n",
       "                        <td id=\"T_879256d0_972c_11ea_85d6_000d3aa443afrow19_col1\" class=\"data row19 col1\" >20641</td>\n",
       "                        <td id=\"T_879256d0_972c_11ea_85d6_000d3aa443afrow19_col2\" class=\"data row19 col2\" >(17862, 30723)</td>\n",
       "                        <td id=\"T_879256d0_972c_11ea_85d6_000d3aa443afrow19_col3\" class=\"data row19 col3\" >1.2</td>\n",
       "                        <td id=\"T_879256d0_972c_11ea_85d6_000d3aa443afrow19_col4\" class=\"data row19 col4\" >45357.8</td>\n",
       "                        <td id=\"T_879256d0_972c_11ea_85d6_000d3aa443afrow19_col5\" class=\"data row19 col5\" >2484.9</td>\n",
       "                        <td id=\"T_879256d0_972c_11ea_85d6_000d3aa443afrow19_col6\" class=\"data row19 col6\" >5%</td>\n",
       "            </tr>\n",
       "            <tr>\n",
       "                        <th id=\"T_879256d0_972c_11ea_85d6_000d3aa443aflevel0_row20\" class=\"row_heading level0 row20\" >MN</th>\n",
       "                        <td id=\"T_879256d0_972c_11ea_85d6_000d3aa443afrow20_col0\" class=\"data row20 col0\" >14240</td>\n",
       "                        <td id=\"T_879256d0_972c_11ea_85d6_000d3aa443afrow20_col1\" class=\"data row20 col1\" >18469</td>\n",
       "                        <td id=\"T_879256d0_972c_11ea_85d6_000d3aa443afrow20_col2\" class=\"data row20 col2\" >(15193, 27717)</td>\n",
       "                        <td id=\"T_879256d0_972c_11ea_85d6_000d3aa443afrow20_col3\" class=\"data row20 col3\" >1.3</td>\n",
       "                        <td id=\"T_879256d0_972c_11ea_85d6_000d3aa443afrow20_col4\" class=\"data row20 col4\" >23879.0</td>\n",
       "                        <td id=\"T_879256d0_972c_11ea_85d6_000d3aa443afrow20_col5\" class=\"data row20 col5\" >2525.0</td>\n",
       "                        <td id=\"T_879256d0_972c_11ea_85d6_000d3aa443afrow20_col6\" class=\"data row20 col6\" >11%</td>\n",
       "            </tr>\n",
       "            <tr>\n",
       "                        <th id=\"T_879256d0_972c_11ea_85d6_000d3aa443aflevel0_row21\" class=\"row_heading level0 row21\" >IA</th>\n",
       "                        <td id=\"T_879256d0_972c_11ea_85d6_000d3aa443afrow21_col0\" class=\"data row21 col0\" >14049</td>\n",
       "                        <td id=\"T_879256d0_972c_11ea_85d6_000d3aa443afrow21_col1\" class=\"data row21 col1\" >17813</td>\n",
       "                        <td id=\"T_879256d0_972c_11ea_85d6_000d3aa443afrow21_col2\" class=\"data row21 col2\" >(14937, 26102)</td>\n",
       "                        <td id=\"T_879256d0_972c_11ea_85d6_000d3aa443afrow21_col3\" class=\"data row21 col3\" >1.3</td>\n",
       "                        <td id=\"T_879256d0_972c_11ea_85d6_000d3aa443afrow21_col4\" class=\"data row21 col4\" >29655.8</td>\n",
       "                        <td id=\"T_879256d0_972c_11ea_85d6_000d3aa443afrow21_col5\" class=\"data row21 col5\" >4452.8</td>\n",
       "                        <td id=\"T_879256d0_972c_11ea_85d6_000d3aa443afrow21_col6\" class=\"data row21 col6\" >15%</td>\n",
       "            </tr>\n",
       "            <tr>\n",
       "                        <th id=\"T_879256d0_972c_11ea_85d6_000d3aa443aflevel0_row22\" class=\"row_heading level0 row22\" >AZ</th>\n",
       "                        <td id=\"T_879256d0_972c_11ea_85d6_000d3aa443afrow22_col0\" class=\"data row22 col0\" >13169</td>\n",
       "                        <td id=\"T_879256d0_972c_11ea_85d6_000d3aa443afrow22_col1\" class=\"data row22 col1\" >17607</td>\n",
       "                        <td id=\"T_879256d0_972c_11ea_85d6_000d3aa443afrow22_col2\" class=\"data row22 col2\" >(14158, 29264)</td>\n",
       "                        <td id=\"T_879256d0_972c_11ea_85d6_000d3aa443afrow22_col3\" class=\"data row22 col3\" >1.3</td>\n",
       "                        <td id=\"T_879256d0_972c_11ea_85d6_000d3aa443afrow22_col4\" class=\"data row22 col4\" >19509.1</td>\n",
       "                        <td id=\"T_879256d0_972c_11ea_85d6_000d3aa443afrow22_col5\" class=\"data row22 col5\" >1809.2</td>\n",
       "                        <td id=\"T_879256d0_972c_11ea_85d6_000d3aa443afrow22_col6\" class=\"data row22 col6\" >9%</td>\n",
       "            </tr>\n",
       "            <tr>\n",
       "                        <th id=\"T_879256d0_972c_11ea_85d6_000d3aa443aflevel0_row23\" class=\"row_heading level0 row23\" >WI</th>\n",
       "                        <td id=\"T_879256d0_972c_11ea_85d6_000d3aa443afrow23_col0\" class=\"data row23 col0\" >11685</td>\n",
       "                        <td id=\"T_879256d0_972c_11ea_85d6_000d3aa443afrow23_col1\" class=\"data row23 col1\" >15257</td>\n",
       "                        <td id=\"T_879256d0_972c_11ea_85d6_000d3aa443afrow23_col2\" class=\"data row23 col2\" >(12455, 23343)</td>\n",
       "                        <td id=\"T_879256d0_972c_11ea_85d6_000d3aa443afrow23_col3\" class=\"data row23 col3\" >1.3</td>\n",
       "                        <td id=\"T_879256d0_972c_11ea_85d6_000d3aa443afrow23_col4\" class=\"data row23 col4\" >24103.7</td>\n",
       "                        <td id=\"T_879256d0_972c_11ea_85d6_000d3aa443afrow23_col5\" class=\"data row23 col5\" >2006.9</td>\n",
       "                        <td id=\"T_879256d0_972c_11ea_85d6_000d3aa443afrow23_col6\" class=\"data row23 col6\" >8%</td>\n",
       "            </tr>\n",
       "            <tr>\n",
       "                        <th id=\"T_879256d0_972c_11ea_85d6_000d3aa443aflevel0_row24\" class=\"row_heading level0 row24\" >AL</th>\n",
       "                        <td id=\"T_879256d0_972c_11ea_85d6_000d3aa443afrow24_col0\" class=\"data row24 col0\" >11216</td>\n",
       "                        <td id=\"T_879256d0_972c_11ea_85d6_000d3aa443afrow24_col1\" class=\"data row24 col1\" >14328</td>\n",
       "                        <td id=\"T_879256d0_972c_11ea_85d6_000d3aa443afrow24_col2\" class=\"data row24 col2\" >(12029, 21663)</td>\n",
       "                        <td id=\"T_879256d0_972c_11ea_85d6_000d3aa443afrow24_col3\" class=\"data row24 col3\" >1.3</td>\n",
       "                        <td id=\"T_879256d0_972c_11ea_85d6_000d3aa443afrow24_col4\" class=\"data row24 col4\" >29789.4</td>\n",
       "                        <td id=\"T_879256d0_972c_11ea_85d6_000d3aa443afrow24_col5\" class=\"data row24 col5\" >2287.5</td>\n",
       "                        <td id=\"T_879256d0_972c_11ea_85d6_000d3aa443afrow24_col6\" class=\"data row24 col6\" >8%</td>\n",
       "            </tr>\n",
       "            <tr>\n",
       "                        <th id=\"T_879256d0_972c_11ea_85d6_000d3aa443aflevel0_row25\" class=\"row_heading level0 row25\" >RI</th>\n",
       "                        <td id=\"T_879256d0_972c_11ea_85d6_000d3aa443afrow25_col0\" class=\"data row25 col0\" >12219</td>\n",
       "                        <td id=\"T_879256d0_972c_11ea_85d6_000d3aa443afrow25_col1\" class=\"data row25 col1\" >14144</td>\n",
       "                        <td id=\"T_879256d0_972c_11ea_85d6_000d3aa443afrow25_col2\" class=\"data row25 col2\" >(12646, 18620)</td>\n",
       "                        <td id=\"T_879256d0_972c_11ea_85d6_000d3aa443afrow25_col3\" class=\"data row25 col3\" >1.2</td>\n",
       "                        <td id=\"T_879256d0_972c_11ea_85d6_000d3aa443afrow25_col4\" class=\"data row25 col4\" >99095.6</td>\n",
       "                        <td id=\"T_879256d0_972c_11ea_85d6_000d3aa443afrow25_col5\" class=\"data row25 col5\" >11534.3</td>\n",
       "                        <td id=\"T_879256d0_972c_11ea_85d6_000d3aa443afrow25_col6\" class=\"data row25 col6\" >12%</td>\n",
       "            </tr>\n",
       "            <tr>\n",
       "                        <th id=\"T_879256d0_972c_11ea_85d6_000d3aa443aflevel0_row26\" class=\"row_heading level0 row26\" >MO</th>\n",
       "                        <td id=\"T_879256d0_972c_11ea_85d6_000d3aa443afrow26_col0\" class=\"data row26 col0\" >10456</td>\n",
       "                        <td id=\"T_879256d0_972c_11ea_85d6_000d3aa443afrow26_col1\" class=\"data row26 col1\" >13789</td>\n",
       "                        <td id=\"T_879256d0_972c_11ea_85d6_000d3aa443afrow26_col2\" class=\"data row26 col2\" >(11218, 22114)</td>\n",
       "                        <td id=\"T_879256d0_972c_11ea_85d6_000d3aa443afrow26_col3\" class=\"data row26 col3\" >1.3</td>\n",
       "                        <td id=\"T_879256d0_972c_11ea_85d6_000d3aa443afrow26_col4\" class=\"data row26 col4\" >21907.9</td>\n",
       "                        <td id=\"T_879256d0_972c_11ea_85d6_000d3aa443afrow26_col5\" class=\"data row26 col5\" >1703.6</td>\n",
       "                        <td id=\"T_879256d0_972c_11ea_85d6_000d3aa443afrow26_col6\" class=\"data row26 col6\" >8%</td>\n",
       "            </tr>\n",
       "            <tr>\n",
       "                        <th id=\"T_879256d0_972c_11ea_85d6_000d3aa443aflevel0_row27\" class=\"row_heading level0 row27\" >MS</th>\n",
       "                        <td id=\"T_879256d0_972c_11ea_85d6_000d3aa443afrow27_col0\" class=\"data row27 col0\" >10801</td>\n",
       "                        <td id=\"T_879256d0_972c_11ea_85d6_000d3aa443afrow27_col1\" class=\"data row27 col1\" >13602</td>\n",
       "                        <td id=\"T_879256d0_972c_11ea_85d6_000d3aa443afrow27_col2\" class=\"data row27 col2\" >(11506, 20747)</td>\n",
       "                        <td id=\"T_879256d0_972c_11ea_85d6_000d3aa443afrow27_col3\" class=\"data row27 col3\" >1.3</td>\n",
       "                        <td id=\"T_879256d0_972c_11ea_85d6_000d3aa443afrow27_col4\" class=\"data row27 col4\" >35893.0</td>\n",
       "                        <td id=\"T_879256d0_972c_11ea_85d6_000d3aa443afrow27_col5\" class=\"data row27 col5\" >3629.2</td>\n",
       "                        <td id=\"T_879256d0_972c_11ea_85d6_000d3aa443afrow27_col6\" class=\"data row27 col6\" >10%</td>\n",
       "            </tr>\n",
       "            <tr>\n",
       "                        <th id=\"T_879256d0_972c_11ea_85d6_000d3aa443aflevel0_row28\" class=\"row_heading level0 row28\" >NE</th>\n",
       "                        <td id=\"T_879256d0_972c_11ea_85d6_000d3aa443afrow28_col0\" class=\"data row28 col0\" >9416</td>\n",
       "                        <td id=\"T_879256d0_972c_11ea_85d6_000d3aa443afrow28_col1\" class=\"data row28 col1\" >11903</td>\n",
       "                        <td id=\"T_879256d0_972c_11ea_85d6_000d3aa443afrow28_col2\" class=\"data row28 col2\" >(10072, 16972)</td>\n",
       "                        <td id=\"T_879256d0_972c_11ea_85d6_000d3aa443afrow28_col3\" class=\"data row28 col3\" >1.3</td>\n",
       "                        <td id=\"T_879256d0_972c_11ea_85d6_000d3aa443afrow28_col4\" class=\"data row28 col4\" >29577.5</td>\n",
       "                        <td id=\"T_879256d0_972c_11ea_85d6_000d3aa443afrow28_col5\" class=\"data row28 col5\" >4867.6</td>\n",
       "                        <td id=\"T_879256d0_972c_11ea_85d6_000d3aa443afrow28_col6\" class=\"data row28 col6\" >16%</td>\n",
       "            </tr>\n",
       "            <tr>\n",
       "                        <th id=\"T_879256d0_972c_11ea_85d6_000d3aa443aflevel0_row29\" class=\"row_heading level0 row29\" >SC</th>\n",
       "                        <td id=\"T_879256d0_972c_11ea_85d6_000d3aa443afrow29_col0\" class=\"data row29 col0\" >8407</td>\n",
       "                        <td id=\"T_879256d0_972c_11ea_85d6_000d3aa443afrow29_col1\" class=\"data row29 col1\" >11064</td>\n",
       "                        <td id=\"T_879256d0_972c_11ea_85d6_000d3aa443afrow29_col2\" class=\"data row29 col2\" >(9033, 18239)</td>\n",
       "                        <td id=\"T_879256d0_972c_11ea_85d6_000d3aa443afrow29_col3\" class=\"data row29 col3\" >1.3</td>\n",
       "                        <td id=\"T_879256d0_972c_11ea_85d6_000d3aa443afrow29_col4\" class=\"data row29 col4\" >21290.0</td>\n",
       "                        <td id=\"T_879256d0_972c_11ea_85d6_000d3aa443afrow29_col5\" class=\"data row29 col5\" >1632.8</td>\n",
       "                        <td id=\"T_879256d0_972c_11ea_85d6_000d3aa443afrow29_col6\" class=\"data row29 col6\" >8%</td>\n",
       "            </tr>\n",
       "            <tr>\n",
       "                        <th id=\"T_879256d0_972c_11ea_85d6_000d3aa443aflevel0_row30\" class=\"row_heading level0 row30\" >KS</th>\n",
       "                        <td id=\"T_879256d0_972c_11ea_85d6_000d3aa443afrow30_col0\" class=\"data row30 col0\" >7886</td>\n",
       "                        <td id=\"T_879256d0_972c_11ea_85d6_000d3aa443afrow30_col1\" class=\"data row30 col1\" >10443</td>\n",
       "                        <td id=\"T_879256d0_972c_11ea_85d6_000d3aa443afrow30_col2\" class=\"data row30 col2\" >(8495, 16528)</td>\n",
       "                        <td id=\"T_879256d0_972c_11ea_85d6_000d3aa443afrow30_col3\" class=\"data row30 col3\" >1.3</td>\n",
       "                        <td id=\"T_879256d0_972c_11ea_85d6_000d3aa443afrow30_col4\" class=\"data row30 col4\" >21141.6</td>\n",
       "                        <td id=\"T_879256d0_972c_11ea_85d6_000d3aa443afrow30_col5\" class=\"data row30 col5\" >2706.9</td>\n",
       "                        <td id=\"T_879256d0_972c_11ea_85d6_000d3aa443afrow30_col6\" class=\"data row30 col6\" >13%</td>\n",
       "            </tr>\n",
       "            <tr>\n",
       "                        <th id=\"T_879256d0_972c_11ea_85d6_000d3aa443aflevel0_row31\" class=\"row_heading level0 row31\" >KY</th>\n",
       "                        <td id=\"T_879256d0_972c_11ea_85d6_000d3aa443afrow31_col0\" class=\"data row31 col0\" >7225</td>\n",
       "                        <td id=\"T_879256d0_972c_11ea_85d6_000d3aa443afrow31_col1\" class=\"data row31 col1\" >9362</td>\n",
       "                        <td id=\"T_879256d0_972c_11ea_85d6_000d3aa443afrow31_col2\" class=\"data row31 col2\" >(7696, 14299)</td>\n",
       "                        <td id=\"T_879256d0_972c_11ea_85d6_000d3aa443afrow31_col3\" class=\"data row31 col3\" >1.3</td>\n",
       "                        <td id=\"T_879256d0_972c_11ea_85d6_000d3aa443afrow31_col4\" class=\"data row31 col4\" >27145.7</td>\n",
       "                        <td id=\"T_879256d0_972c_11ea_85d6_000d3aa443afrow31_col5\" class=\"data row31 col5\" >1617.2</td>\n",
       "                        <td id=\"T_879256d0_972c_11ea_85d6_000d3aa443afrow31_col6\" class=\"data row31 col6\" >6%</td>\n",
       "            </tr>\n",
       "            <tr>\n",
       "                        <th id=\"T_879256d0_972c_11ea_85d6_000d3aa443aflevel0_row32\" class=\"row_heading level0 row32\" >DE</th>\n",
       "                        <td id=\"T_879256d0_972c_11ea_85d6_000d3aa443afrow32_col0\" class=\"data row32 col0\" >7373</td>\n",
       "                        <td id=\"T_879256d0_972c_11ea_85d6_000d3aa443afrow32_col1\" class=\"data row32 col1\" >9250</td>\n",
       "                        <td id=\"T_879256d0_972c_11ea_85d6_000d3aa443afrow32_col2\" class=\"data row32 col2\" >(7765, 14705)</td>\n",
       "                        <td id=\"T_879256d0_972c_11ea_85d6_000d3aa443afrow32_col3\" class=\"data row32 col3\" >1.3</td>\n",
       "                        <td id=\"T_879256d0_972c_11ea_85d6_000d3aa443afrow32_col4\" class=\"data row32 col4\" >39309.3</td>\n",
       "                        <td id=\"T_879256d0_972c_11ea_85d6_000d3aa443afrow32_col5\" class=\"data row32 col5\" >7571.6</td>\n",
       "                        <td id=\"T_879256d0_972c_11ea_85d6_000d3aa443afrow32_col6\" class=\"data row32 col6\" >19%</td>\n",
       "            </tr>\n",
       "            <tr>\n",
       "                        <th id=\"T_879256d0_972c_11ea_85d6_000d3aa443aflevel0_row33\" class=\"row_heading level0 row33\" >NV</th>\n",
       "                        <td id=\"T_879256d0_972c_11ea_85d6_000d3aa443afrow33_col0\" class=\"data row33 col0\" >6614</td>\n",
       "                        <td id=\"T_879256d0_972c_11ea_85d6_000d3aa443afrow33_col1\" class=\"data row33 col1\" >8689</td>\n",
       "                        <td id=\"T_879256d0_972c_11ea_85d6_000d3aa443afrow33_col2\" class=\"data row33 col2\" >(7029, 14929)</td>\n",
       "                        <td id=\"T_879256d0_972c_11ea_85d6_000d3aa443afrow33_col3\" class=\"data row33 col3\" >1.3</td>\n",
       "                        <td id=\"T_879256d0_972c_11ea_85d6_000d3aa443afrow33_col4\" class=\"data row33 col4\" >23422.8</td>\n",
       "                        <td id=\"T_879256d0_972c_11ea_85d6_000d3aa443afrow33_col5\" class=\"data row33 col5\" >2147.3</td>\n",
       "                        <td id=\"T_879256d0_972c_11ea_85d6_000d3aa443afrow33_col6\" class=\"data row33 col6\" >9%</td>\n",
       "            </tr>\n",
       "            <tr>\n",
       "                        <th id=\"T_879256d0_972c_11ea_85d6_000d3aa443aflevel0_row34\" class=\"row_heading level0 row34\" >UT</th>\n",
       "                        <td id=\"T_879256d0_972c_11ea_85d6_000d3aa443afrow34_col0\" class=\"data row34 col0\" >6913</td>\n",
       "                        <td id=\"T_879256d0_972c_11ea_85d6_000d3aa443afrow34_col1\" class=\"data row34 col1\" >8427</td>\n",
       "                        <td id=\"T_879256d0_972c_11ea_85d6_000d3aa443afrow34_col2\" class=\"data row34 col2\" >(7237, 12418)</td>\n",
       "                        <td id=\"T_879256d0_972c_11ea_85d6_000d3aa443afrow34_col3\" class=\"data row34 col3\" >1.2</td>\n",
       "                        <td id=\"T_879256d0_972c_11ea_85d6_000d3aa443afrow34_col4\" class=\"data row34 col4\" >50910.8</td>\n",
       "                        <td id=\"T_879256d0_972c_11ea_85d6_000d3aa443afrow34_col5\" class=\"data row34 col5\" >2156.3</td>\n",
       "                        <td id=\"T_879256d0_972c_11ea_85d6_000d3aa443afrow34_col6\" class=\"data row34 col6\" >4%</td>\n",
       "            </tr>\n",
       "            <tr>\n",
       "                        <th id=\"T_879256d0_972c_11ea_85d6_000d3aa443aflevel0_row35\" class=\"row_heading level0 row35\" >DC</th>\n",
       "                        <td id=\"T_879256d0_972c_11ea_85d6_000d3aa443afrow35_col0\" class=\"data row35 col0\" >6871</td>\n",
       "                        <td id=\"T_879256d0_972c_11ea_85d6_000d3aa443afrow35_col1\" class=\"data row35 col1\" >8360</td>\n",
       "                        <td id=\"T_879256d0_972c_11ea_85d6_000d3aa443afrow35_col2\" class=\"data row35 col2\" >(7228, 12064)</td>\n",
       "                        <td id=\"T_879256d0_972c_11ea_85d6_000d3aa443afrow35_col3\" class=\"data row35 col3\" >1.2</td>\n",
       "                        <td id=\"T_879256d0_972c_11ea_85d6_000d3aa443afrow35_col4\" class=\"data row35 col4\" >48656.1</td>\n",
       "                        <td id=\"T_879256d0_972c_11ea_85d6_000d3aa443afrow35_col5\" class=\"data row35 col5\" >9735.8</td>\n",
       "                        <td id=\"T_879256d0_972c_11ea_85d6_000d3aa443afrow35_col6\" class=\"data row35 col6\" >20%</td>\n",
       "            </tr>\n",
       "            <tr>\n",
       "                        <th id=\"T_879256d0_972c_11ea_85d6_000d3aa443aflevel0_row36\" class=\"row_heading level0 row36\" >NM</th>\n",
       "                        <td id=\"T_879256d0_972c_11ea_85d6_000d3aa443afrow36_col0\" class=\"data row36 col0\" >5503</td>\n",
       "                        <td id=\"T_879256d0_972c_11ea_85d6_000d3aa443afrow36_col1\" class=\"data row36 col1\" >6678</td>\n",
       "                        <td id=\"T_879256d0_972c_11ea_85d6_000d3aa443afrow36_col2\" class=\"data row36 col2\" >(5776, 9688)</td>\n",
       "                        <td id=\"T_879256d0_972c_11ea_85d6_000d3aa443afrow36_col3\" class=\"data row36 col3\" >1.2</td>\n",
       "                        <td id=\"T_879256d0_972c_11ea_85d6_000d3aa443afrow36_col4\" class=\"data row36 col4\" >57039.0</td>\n",
       "                        <td id=\"T_879256d0_972c_11ea_85d6_000d3aa443afrow36_col5\" class=\"data row36 col5\" >2624.4</td>\n",
       "                        <td id=\"T_879256d0_972c_11ea_85d6_000d3aa443afrow36_col6\" class=\"data row36 col6\" >5%</td>\n",
       "            </tr>\n",
       "            <tr>\n",
       "                        <th id=\"T_879256d0_972c_11ea_85d6_000d3aa443aflevel0_row37\" class=\"row_heading level0 row37\" >OK</th>\n",
       "                        <td id=\"T_879256d0_972c_11ea_85d6_000d3aa443afrow37_col0\" class=\"data row37 col0\" >5086</td>\n",
       "                        <td id=\"T_879256d0_972c_11ea_85d6_000d3aa443afrow37_col1\" class=\"data row37 col1\" >6545</td>\n",
       "                        <td id=\"T_879256d0_972c_11ea_85d6_000d3aa443afrow37_col2\" class=\"data row37 col2\" >(5402, 10777)</td>\n",
       "                        <td id=\"T_879256d0_972c_11ea_85d6_000d3aa443afrow37_col3\" class=\"data row37 col3\" >1.3</td>\n",
       "                        <td id=\"T_879256d0_972c_11ea_85d6_000d3aa443afrow37_col4\" class=\"data row37 col4\" >29869.3</td>\n",
       "                        <td id=\"T_879256d0_972c_11ea_85d6_000d3aa443afrow37_col5\" class=\"data row37 col5\" >1285.3</td>\n",
       "                        <td id=\"T_879256d0_972c_11ea_85d6_000d3aa443afrow37_col6\" class=\"data row37 col6\" >4%</td>\n",
       "            </tr>\n",
       "            <tr>\n",
       "                        <th id=\"T_879256d0_972c_11ea_85d6_000d3aa443aflevel0_row38\" class=\"row_heading level0 row38\" >AR</th>\n",
       "                        <td id=\"T_879256d0_972c_11ea_85d6_000d3aa443afrow38_col0\" class=\"data row38 col0\" >4463</td>\n",
       "                        <td id=\"T_879256d0_972c_11ea_85d6_000d3aa443afrow38_col1\" class=\"data row38 col1\" >5765</td>\n",
       "                        <td id=\"T_879256d0_972c_11ea_85d6_000d3aa443afrow38_col2\" class=\"data row38 col2\" >(4770, 8844)</td>\n",
       "                        <td id=\"T_879256d0_972c_11ea_85d6_000d3aa443afrow38_col3\" class=\"data row38 col3\" >1.3</td>\n",
       "                        <td id=\"T_879256d0_972c_11ea_85d6_000d3aa443afrow38_col4\" class=\"data row38 col4\" >27016.0</td>\n",
       "                        <td id=\"T_879256d0_972c_11ea_85d6_000d3aa443afrow38_col5\" class=\"data row38 col5\" >1478.9</td>\n",
       "                        <td id=\"T_879256d0_972c_11ea_85d6_000d3aa443afrow38_col6\" class=\"data row38 col6\" >5%</td>\n",
       "            </tr>\n",
       "            <tr>\n",
       "                        <th id=\"T_879256d0_972c_11ea_85d6_000d3aa443aflevel0_row39\" class=\"row_heading level0 row39\" >SD</th>\n",
       "                        <td id=\"T_879256d0_972c_11ea_85d6_000d3aa443afrow39_col0\" class=\"data row39 col0\" >3887</td>\n",
       "                        <td id=\"T_879256d0_972c_11ea_85d6_000d3aa443afrow39_col1\" class=\"data row39 col1\" >4924</td>\n",
       "                        <td id=\"T_879256d0_972c_11ea_85d6_000d3aa443afrow39_col2\" class=\"data row39 col2\" >(4133, 7535)</td>\n",
       "                        <td id=\"T_879256d0_972c_11ea_85d6_000d3aa443afrow39_col3\" class=\"data row39 col3\" >1.3</td>\n",
       "                        <td id=\"T_879256d0_972c_11ea_85d6_000d3aa443afrow39_col4\" class=\"data row39 col4\" >30988.2</td>\n",
       "                        <td id=\"T_879256d0_972c_11ea_85d6_000d3aa443afrow39_col5\" class=\"data row39 col5\" >4393.8</td>\n",
       "                        <td id=\"T_879256d0_972c_11ea_85d6_000d3aa443afrow39_col6\" class=\"data row39 col6\" >14%</td>\n",
       "            </tr>\n",
       "            <tr>\n",
       "                        <th id=\"T_879256d0_972c_11ea_85d6_000d3aa443aflevel0_row40\" class=\"row_heading level0 row40\" >OR</th>\n",
       "                        <td id=\"T_879256d0_972c_11ea_85d6_000d3aa443afrow40_col0\" class=\"data row40 col0\" >3541</td>\n",
       "                        <td id=\"T_879256d0_972c_11ea_85d6_000d3aa443afrow40_col1\" class=\"data row40 col1\" >4751</td>\n",
       "                        <td id=\"T_879256d0_972c_11ea_85d6_000d3aa443afrow40_col2\" class=\"data row40 col2\" >(3813, 7586)</td>\n",
       "                        <td id=\"T_879256d0_972c_11ea_85d6_000d3aa443afrow40_col3\" class=\"data row40 col3\" >1.3</td>\n",
       "                        <td id=\"T_879256d0_972c_11ea_85d6_000d3aa443afrow40_col4\" class=\"data row40 col4\" >21221.3</td>\n",
       "                        <td id=\"T_879256d0_972c_11ea_85d6_000d3aa443afrow40_col5\" class=\"data row40 col5\" >839.5</td>\n",
       "                        <td id=\"T_879256d0_972c_11ea_85d6_000d3aa443afrow40_col6\" class=\"data row40 col6\" >4%</td>\n",
       "            </tr>\n",
       "            <tr>\n",
       "                        <th id=\"T_879256d0_972c_11ea_85d6_000d3aa443aflevel0_row41\" class=\"row_heading level0 row41\" >NH</th>\n",
       "                        <td id=\"T_879256d0_972c_11ea_85d6_000d3aa443afrow41_col0\" class=\"data row41 col0\" >3464</td>\n",
       "                        <td id=\"T_879256d0_972c_11ea_85d6_000d3aa443afrow41_col1\" class=\"data row41 col1\" >4375</td>\n",
       "                        <td id=\"T_879256d0_972c_11ea_85d6_000d3aa443afrow41_col2\" class=\"data row41 col2\" >(3655, 6772)</td>\n",
       "                        <td id=\"T_879256d0_972c_11ea_85d6_000d3aa443afrow41_col3\" class=\"data row41 col3\" >1.3</td>\n",
       "                        <td id=\"T_879256d0_972c_11ea_85d6_000d3aa443afrow41_col4\" class=\"data row41 col4\" >31339.0</td>\n",
       "                        <td id=\"T_879256d0_972c_11ea_85d6_000d3aa443afrow41_col5\" class=\"data row41 col5\" >2547.6</td>\n",
       "                        <td id=\"T_879256d0_972c_11ea_85d6_000d3aa443afrow41_col6\" class=\"data row41 col6\" >8%</td>\n",
       "            </tr>\n",
       "            <tr>\n",
       "                        <th id=\"T_879256d0_972c_11ea_85d6_000d3aa443aflevel0_row42\" class=\"row_heading level0 row42\" >ID</th>\n",
       "                        <td id=\"T_879256d0_972c_11ea_85d6_000d3aa443afrow42_col0\" class=\"data row42 col0\" >2351</td>\n",
       "                        <td id=\"T_879256d0_972c_11ea_85d6_000d3aa443afrow42_col1\" class=\"data row42 col1\" >3118</td>\n",
       "                        <td id=\"T_879256d0_972c_11ea_85d6_000d3aa443afrow42_col2\" class=\"data row42 col2\" >(2519, 4730)</td>\n",
       "                        <td id=\"T_879256d0_972c_11ea_85d6_000d3aa443afrow42_col3\" class=\"data row42 col3\" >1.3</td>\n",
       "                        <td id=\"T_879256d0_972c_11ea_85d6_000d3aa443afrow42_col4\" class=\"data row42 col4\" >19442.5</td>\n",
       "                        <td id=\"T_879256d0_972c_11ea_85d6_000d3aa443afrow42_col5\" class=\"data row42 col5\" >1315.6</td>\n",
       "                        <td id=\"T_879256d0_972c_11ea_85d6_000d3aa443afrow42_col6\" class=\"data row42 col6\" >7%</td>\n",
       "            </tr>\n",
       "            <tr>\n",
       "                        <th id=\"T_879256d0_972c_11ea_85d6_000d3aa443aflevel0_row43\" class=\"row_heading level0 row43\" >ME</th>\n",
       "                        <td id=\"T_879256d0_972c_11ea_85d6_000d3aa443afrow43_col0\" class=\"data row43 col0\" >1603</td>\n",
       "                        <td id=\"T_879256d0_972c_11ea_85d6_000d3aa443afrow43_col1\" class=\"data row43 col1\" >2146</td>\n",
       "                        <td id=\"T_879256d0_972c_11ea_85d6_000d3aa443afrow43_col2\" class=\"data row43 col2\" >(1745, 3685)</td>\n",
       "                        <td id=\"T_879256d0_972c_11ea_85d6_000d3aa443afrow43_col3\" class=\"data row43 col3\" >1.3</td>\n",
       "                        <td id=\"T_879256d0_972c_11ea_85d6_000d3aa443afrow43_col4\" class=\"data row43 col4\" >17627.4</td>\n",
       "                        <td id=\"T_879256d0_972c_11ea_85d6_000d3aa443afrow43_col5\" class=\"data row43 col5\" >1192.5</td>\n",
       "                        <td id=\"T_879256d0_972c_11ea_85d6_000d3aa443afrow43_col6\" class=\"data row43 col6\" >7%</td>\n",
       "            </tr>\n",
       "            <tr>\n",
       "                        <th id=\"T_879256d0_972c_11ea_85d6_000d3aa443aflevel0_row44\" class=\"row_heading level0 row44\" >ND</th>\n",
       "                        <td id=\"T_879256d0_972c_11ea_85d6_000d3aa443afrow44_col0\" class=\"data row44 col0\" >1761</td>\n",
       "                        <td id=\"T_879256d0_972c_11ea_85d6_000d3aa443afrow44_col1\" class=\"data row44 col1\" >2093</td>\n",
       "                        <td id=\"T_879256d0_972c_11ea_85d6_000d3aa443afrow44_col2\" class=\"data row44 col2\" >(1830, 2878)</td>\n",
       "                        <td id=\"T_879256d0_972c_11ea_85d6_000d3aa443afrow44_col3\" class=\"data row44 col3\" >1.2</td>\n",
       "                        <td id=\"T_879256d0_972c_11ea_85d6_000d3aa443afrow44_col4\" class=\"data row44 col4\" >67861.9</td>\n",
       "                        <td id=\"T_879256d0_972c_11ea_85d6_000d3aa443afrow44_col5\" class=\"data row44 col5\" >2310.8</td>\n",
       "                        <td id=\"T_879256d0_972c_11ea_85d6_000d3aa443afrow44_col6\" class=\"data row44 col6\" >3%</td>\n",
       "            </tr>\n",
       "            <tr>\n",
       "                        <th id=\"T_879256d0_972c_11ea_85d6_000d3aa443aflevel0_row45\" class=\"row_heading level0 row45\" >WV</th>\n",
       "                        <td id=\"T_879256d0_972c_11ea_85d6_000d3aa443afrow45_col0\" class=\"data row45 col0\" >1441</td>\n",
       "                        <td id=\"T_879256d0_972c_11ea_85d6_000d3aa443afrow45_col1\" class=\"data row45 col1\" >1782</td>\n",
       "                        <td id=\"T_879256d0_972c_11ea_85d6_000d3aa443afrow45_col2\" class=\"data row45 col2\" >(1517, 2642)</td>\n",
       "                        <td id=\"T_879256d0_972c_11ea_85d6_000d3aa443afrow45_col3\" class=\"data row45 col3\" >1.2</td>\n",
       "                        <td id=\"T_879256d0_972c_11ea_85d6_000d3aa443afrow45_col4\" class=\"data row45 col4\" >39581.6</td>\n",
       "                        <td id=\"T_879256d0_972c_11ea_85d6_000d3aa443afrow45_col5\" class=\"data row45 col5\" >804.1</td>\n",
       "                        <td id=\"T_879256d0_972c_11ea_85d6_000d3aa443afrow45_col6\" class=\"data row45 col6\" >2%</td>\n",
       "            </tr>\n",
       "            <tr>\n",
       "                        <th id=\"T_879256d0_972c_11ea_85d6_000d3aa443aflevel0_row46\" class=\"row_heading level0 row46\" >VT</th>\n",
       "                        <td id=\"T_879256d0_972c_11ea_85d6_000d3aa443afrow46_col0\" class=\"data row46 col0\" >933</td>\n",
       "                        <td id=\"T_879256d0_972c_11ea_85d6_000d3aa443afrow46_col1\" class=\"data row46 col1\" >1169</td>\n",
       "                        <td id=\"T_879256d0_972c_11ea_85d6_000d3aa443afrow46_col2\" class=\"data row46 col2\" >(986, 1712)</td>\n",
       "                        <td id=\"T_879256d0_972c_11ea_85d6_000d3aa443afrow46_col3\" class=\"data row46 col3\" >1.3</td>\n",
       "                        <td id=\"T_879256d0_972c_11ea_85d6_000d3aa443afrow46_col4\" class=\"data row46 col4\" >37188.2</td>\n",
       "                        <td id=\"T_879256d0_972c_11ea_85d6_000d3aa443afrow46_col5\" class=\"data row46 col5\" >1495.2</td>\n",
       "                        <td id=\"T_879256d0_972c_11ea_85d6_000d3aa443afrow46_col6\" class=\"data row46 col6\" >4%</td>\n",
       "            </tr>\n",
       "            <tr>\n",
       "                        <th id=\"T_879256d0_972c_11ea_85d6_000d3aa443aflevel0_row47\" class=\"row_heading level0 row47\" >WY</th>\n",
       "                        <td id=\"T_879256d0_972c_11ea_85d6_000d3aa443afrow47_col0\" class=\"data row47 col0\" >715</td>\n",
       "                        <td id=\"T_879256d0_972c_11ea_85d6_000d3aa443afrow47_col1\" class=\"data row47 col1\" >911</td>\n",
       "                        <td id=\"T_879256d0_972c_11ea_85d6_000d3aa443afrow47_col2\" class=\"data row47 col2\" >(759, 1375)</td>\n",
       "                        <td id=\"T_879256d0_972c_11ea_85d6_000d3aa443afrow47_col3\" class=\"data row47 col3\" >1.3</td>\n",
       "                        <td id=\"T_879256d0_972c_11ea_85d6_000d3aa443afrow47_col4\" class=\"data row47 col4\" >27683.4</td>\n",
       "                        <td id=\"T_879256d0_972c_11ea_85d6_000d3aa443afrow47_col5\" class=\"data row47 col5\" >1235.4</td>\n",
       "                        <td id=\"T_879256d0_972c_11ea_85d6_000d3aa443afrow47_col6\" class=\"data row47 col6\" >4%</td>\n",
       "            </tr>\n",
       "            <tr>\n",
       "                        <th id=\"T_879256d0_972c_11ea_85d6_000d3aa443aflevel0_row48\" class=\"row_heading level0 row48\" >HI</th>\n",
       "                        <td id=\"T_879256d0_972c_11ea_85d6_000d3aa443afrow48_col0\" class=\"data row48 col0\" >637</td>\n",
       "                        <td id=\"T_879256d0_972c_11ea_85d6_000d3aa443afrow48_col1\" class=\"data row48 col1\" >819</td>\n",
       "                        <td id=\"T_879256d0_972c_11ea_85d6_000d3aa443afrow48_col2\" class=\"data row48 col2\" >(681, 1220)</td>\n",
       "                        <td id=\"T_879256d0_972c_11ea_85d6_000d3aa443afrow48_col3\" class=\"data row48 col3\" >1.3</td>\n",
       "                        <td id=\"T_879256d0_972c_11ea_85d6_000d3aa443afrow48_col4\" class=\"data row48 col4\" >27386.7</td>\n",
       "                        <td id=\"T_879256d0_972c_11ea_85d6_000d3aa443afrow48_col5\" class=\"data row48 col5\" >449.9</td>\n",
       "                        <td id=\"T_879256d0_972c_11ea_85d6_000d3aa443afrow48_col6\" class=\"data row48 col6\" >2%</td>\n",
       "            </tr>\n",
       "            <tr>\n",
       "                        <th id=\"T_879256d0_972c_11ea_85d6_000d3aa443aflevel0_row49\" class=\"row_heading level0 row49\" >MT</th>\n",
       "                        <td id=\"T_879256d0_972c_11ea_85d6_000d3aa443afrow49_col0\" class=\"data row49 col0\" >466</td>\n",
       "                        <td id=\"T_879256d0_972c_11ea_85d6_000d3aa443afrow49_col1\" class=\"data row49 col1\" >613</td>\n",
       "                        <td id=\"T_879256d0_972c_11ea_85d6_000d3aa443afrow49_col2\" class=\"data row49 col2\" >(492, 1004)</td>\n",
       "                        <td id=\"T_879256d0_972c_11ea_85d6_000d3aa443afrow49_col3\" class=\"data row49 col3\" >1.3</td>\n",
       "                        <td id=\"T_879256d0_972c_11ea_85d6_000d3aa443afrow49_col4\" class=\"data row49 col4\" >23782.3</td>\n",
       "                        <td id=\"T_879256d0_972c_11ea_85d6_000d3aa443afrow49_col5\" class=\"data row49 col5\" >436.0</td>\n",
       "                        <td id=\"T_879256d0_972c_11ea_85d6_000d3aa443afrow49_col6\" class=\"data row49 col6\" >2%</td>\n",
       "            </tr>\n",
       "            <tr>\n",
       "                        <th id=\"T_879256d0_972c_11ea_85d6_000d3aa443aflevel0_row50\" class=\"row_heading level0 row50\" >AK</th>\n",
       "                        <td id=\"T_879256d0_972c_11ea_85d6_000d3aa443afrow50_col0\" class=\"data row50 col0\" >388</td>\n",
       "                        <td id=\"T_879256d0_972c_11ea_85d6_000d3aa443afrow50_col1\" class=\"data row50 col1\" >480</td>\n",
       "                        <td id=\"T_879256d0_972c_11ea_85d6_000d3aa443afrow50_col2\" class=\"data row50 col2\" >(407, 695)</td>\n",
       "                        <td id=\"T_879256d0_972c_11ea_85d6_000d3aa443afrow50_col3\" class=\"data row50 col3\" >1.2</td>\n",
       "                        <td id=\"T_879256d0_972c_11ea_85d6_000d3aa443afrow50_col4\" class=\"data row50 col4\" >44314.4</td>\n",
       "                        <td id=\"T_879256d0_972c_11ea_85d6_000d3aa443afrow50_col5\" class=\"data row50 col5\" >530.4</td>\n",
       "                        <td id=\"T_879256d0_972c_11ea_85d6_000d3aa443afrow50_col6\" class=\"data row50 col6\" >1%</td>\n",
       "            </tr>\n",
       "    </tbody></table>"
      ],
      "text/plain": [
       "<pandas.io.formats.style.Styler at 0x7fa2c05f75c0>"
      ]
     },
     "execution_count": 7,
     "metadata": {},
     "output_type": "execute_result"
    }
   ],
   "source": [
    "#hide_input\n",
    "df_display.sort_values(\n",
    "    by='Est Cases', ascending=False).style.background_gradient(\n",
    "    cmap='Oranges').format(\n",
    "    {'Ratio': \"{:.1f}\"}).format(\n",
    "    {'Tests per Million': \"{:.1f}\"}).format(\n",
    "    {'Cases per Million': \"{:.1f}\"}).format(\n",
    "    {'Positive Test Rate': \"{:.0%}\"})"
   ]
  },
  {
   "cell_type": "code",
   "execution_count": 8,
   "metadata": {
    "execution": {
     "iopub.execute_input": "2020-05-16T04:20:10.344825Z",
     "iopub.status.busy": "2020-05-16T04:20:10.344049Z",
     "iopub.status.idle": "2020-05-16T04:20:11.034456Z",
     "shell.execute_reply": "2020-05-16T04:20:11.035580Z"
    },
    "papermill": {
     "duration": 1.019886,
     "end_time": "2020-05-16T04:20:11.036141",
     "exception": false,
     "start_time": "2020-05-16T04:20:10.016255",
     "status": "completed"
    },
    "tags": []
   },
   "outputs": [
    {
     "data": {
      "image/png": "[encoded data removed]",
      "text/plain": [
       "<Figure size 1080x1080 with 1 Axes>"
      ]
     },
     "metadata": {
      "needs_background": "light"
     },
     "output_type": "display_data"
    }
   ],
   "source": [
    "#hide_input\n",
    "\n",
    "df_plot = df_summary.copy(deep=True)\n",
    "\n",
    "# Compute predicted cases per million\n",
    "df_plot['predicted_counts_now_pm'] =  1e6 * (\n",
    "    df_pred['positive'] / prob_missing_now.mean(axis=0)) / df_pred['total_population']\n",
    "\n",
    "df_plot['predicted_counts_now_lower_pm'] = 1e6 * (\n",
    "    df_pred['positive'] / prob_missing_now.quantile(0.975, axis=0))/ df_pred['total_population']\n",
    "df_plot['predicted_counts_now_upper_pm'] = 1e6 * (\n",
    "    df_pred['positive'] / prob_missing_now.quantile(0.025, axis=0))/ df_pred['total_population']\n",
    "\n",
    "df_plot.sort_values('predicted_counts_now_pm', ascending=False, inplace=True)\n",
    "\n",
    "xerr = [\n",
    "    df_plot['predicted_counts_now_pm'] - df_plot['predicted_counts_now_lower_pm'], \n",
    "    df_plot['predicted_counts_now_upper_pm'] - df_plot['predicted_counts_now_pm']]\n",
    "\n",
    "fig, axs = plt.subplots(1, 1, figsize=(15, 15))\n",
    "ax = plt.errorbar(df_plot['predicted_counts_now_pm'], range(len(df_plot)-1, -1, -1),\n",
    "                  xerr=xerr, fmt='o', elinewidth=1, label='Estimate')\n",
    "ax = plt.yticks(range(len(df_plot)), df_plot.index[::-1])\n",
    "ax = plt.errorbar(df_plot['Cases per Million'], range(len(df_plot)-1, -1, -1),\n",
    "                  xerr=None, fmt='.', color='k', label='Reported')\n",
    "ax = plt.xlabel('COVID-19 Case Counts Per Million People', size=20)\n",
    "ax = plt.legend(fontsize='xx-large', loc=4)\n",
    "ax = plt.grid(linestyle='--', color='grey', axis='x')"
   ]
  },
  {
   "cell_type": "markdown",
   "metadata": {
    "papermill": {
     "duration": 0.281873,
     "end_time": "2020-05-16T04:20:11.638415",
     "exception": false,
     "start_time": "2020-05-16T04:20:11.356542",
     "status": "completed"
    },
    "tags": []
   },
   "source": [
    "## Appendix: Model Diagnostics \n",
    "\n",
    "### Derived relationship between Test Capacity and Case Under-reporting\n",
    "\n",
    "Plotted is the estimated relationship between test capacity (in terms of people per test -- larger = less testing) and the likelihood a COVID-19 case is reported (lower = more under-reporting of cases).\n",
    "\n",
    "The lines represent the posterior samples from our MCMC run (note the x-axis is plotted on a log scale).  The rug plot shows the current test capacity for each state (black '|') and the capacity one week ago (cyan '+').  For comparison, South Korea's testing capacity is currently at the very left of the graph (200 people per test)."
   ]
  },
  {
   "cell_type": "code",
   "execution_count": 9,
   "metadata": {
    "execution": {
     "iopub.execute_input": "2020-05-16T04:20:12.322620Z",
     "iopub.status.busy": "2020-05-16T04:20:12.312299Z",
     "iopub.status.idle": "2020-05-16T04:20:14.933517Z",
     "shell.execute_reply": "2020-05-16T04:20:14.932476Z"
    },
    "papermill": {
     "duration": 3.016281,
     "end_time": "2020-05-16T04:20:14.933633",
     "exception": false,
     "start_time": "2020-05-16T04:20:11.917352",
     "status": "completed"
    },
    "tags": []
   },
   "outputs": [
    {
     "data": {
      "image/png": "[encoded data removed]",
      "text/plain": [
       "<Figure size 1008x648 with 1 Axes>"
      ]
     },
     "metadata": {
      "needs_background": "light"
     },
     "output_type": "display_data"
    }
   ],
   "source": [
    "#hide_input\n",
    "\n",
    "# Plot pop/test vs. Prob of case detection for all posterior samples:\n",
    "x = np.linspace(0.0, 4.0, 101)\n",
    "logit_pcase = pd.DataFrame([\n",
    "    trace['alpha'][i] + trace['beta'][i] * x\n",
    "    for i in range(n)])\n",
    "pcase = np.exp(logit_pcase) / (np.exp(logit_pcase) + 1)\n",
    "\n",
    "fig, ax = plt.subplots(1, 1, figsize=(14, 9))\n",
    "for i in range(n):\n",
    "    ax = plt.plot(10**(ppt_sk + x), pcase.iloc[i], color='grey', lw=.1, alpha=.5)\n",
    "    plt.xscale('log')\n",
    "    plt.xlabel('State-wise population per test', size=14)\n",
    "    plt.ylabel('Probability a true case is detected', size=14)\n",
    "\n",
    "# rug plots:\n",
    "ax=plt.plot(df_pred['people_per_test'], np.zeros(len(df_pred)),\n",
    "            marker='|', color='k', ls='', ms=20,\n",
    "           label='U.S. State-wise Test Capacity Now')\n",
    "ax=plt.plot(df['people_per_test_7_days_ago'], np.zeros(len(df)),\n",
    "            marker='+', color='c', ls='', ms=10,\n",
    "           label='U.S. State-wise Test Capacity 7 Days Ago')\n",
    "ax = plt.legend(fontsize='x-large')"
   ]
  },
  {
   "cell_type": "markdown",
   "metadata": {
    "papermill": {
     "duration": 0.299048,
     "end_time": "2020-05-16T04:20:15.509386",
     "exception": false,
     "start_time": "2020-05-16T04:20:15.210338",
     "status": "completed"
    },
    "tags": []
   },
   "source": [
    "## About this Analysis\n",
    "\n",
    "This analysis was done by [Joseph Richards](https://twitter.com/joeyrichar).\n",
    "\n",
    "This project[^1] uses the testing rates per state from [https://covidtracking.com/](https://covidtracking.com/), which reports case counts and mortality by state.  This is used to **estimate the number of unreported (untested) COVID-19 cases in each U.S. state.**\n",
    "\n",
    "The analysis makes a few assumptions:\n",
    "\n",
    "1. The probability that a case is reported by a state is a function of the number of tests run per person in that state.  Hence the degree of under-reported cases is a function of tests run per capita.\n",
    "2. The underlying mortality rate is the same across every state.\n",
    "3. Patients take time to succumb to COVID-19, so the mortality counts *today* reflect the case counts *7 days ago*.  E.g., mortality rate = (cumulative deaths today) / (cumulative cases 7 days ago).\n",
    "\n",
    "The model attempts to find the most likely relationship between state-wise test volume (per capita) and under-reporting, such that the true underlying mortality rates between the individual states are as similar as possible.  The model simultaneously finds the most likely posterior distribution of mortality rates, the most likely *true* case count per state, and the test volume vs. case underreporting relationship.\n",
    "\n",
    "[^1]: Full details about the model are available at:  https://github.com/jwrichar/COVID19-mortality"
   ]
  }
 ],
 "metadata": {
  "kernelspec": {
   "display_name": "visualization-curriculum-gF8wUgMm",
   "language": "python",
   "name": "visualization-curriculum-gf8wugmm"
  },
  "language_info": {
   "codemirror_mode": {
    "name": "ipython",
    "version": 3
   },
   "file_extension": ".py",
   "mimetype": "text/x-python",
   "name": "python",
   "nbconvert_exporter": "python",
   "pygments_lexer": "ipython3",
   "version": "3.6.10"
  },
  "papermill": {
   "duration": 272.560755,
   "end_time": "2020-05-16T04:20:15.906282",
   "environment_variables": {},
   "exception": null,
   "input_path": "2020-03-18-case-count-estimation-us-states.ipynb",
   "output_path": "2020-03-18-case-count-estimation-us-states.ipynb",
   "parameters": {},
   "start_time": "2020-05-16T04:15:43.345527",
   "version": "2.0.0"
  }
 },
 "nbformat": 4,
 "nbformat_minor": 4
}